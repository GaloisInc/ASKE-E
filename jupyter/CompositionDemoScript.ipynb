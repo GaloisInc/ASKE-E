{
 "cells": [
  {
   "cell_type": "code",
   "execution_count": 1,
   "id": "b3764c22-3f69-44a2-ad6e-4db181dd72e8",
   "metadata": {},
   "outputs": [],
   "source": [
    "define sir\n",
    "    let beta = 0.4\n",
    "    let gamma = 0.04\n",
    "    \n",
    "\n",
    "    let S = 997.0\n",
    "    let I = 3.0\n",
    "    let R = 0.0\n",
    "\n",
    "    let N = S + I + R\n",
    "\n",
    "\n",
    "    beta/N,  S + I --> 2I\n",
    "    gamma,   I     --> R\n",
    "end"
   ]
  },
  {
   "cell_type": "code",
   "execution_count": 2,
   "id": "9326877b-5704-4440-a25d-0e06737bfcac",
   "metadata": {},
   "outputs": [],
   "source": [
    "seird = loadESL(\"models/seird_hosp.easel\")"
   ]
  },
  {
   "cell_type": "code",
   "execution_count": null,
   "id": "2a417f30-ddfc-48b0-80a4-4c226495bff8",
   "metadata": {},
   "outputs": [],
   "source": [
    "double_epidemic = \n",
    "  join([\"ep1_\", seird],\n",
    "       [\"ep2_\", sir],\n",
    "       [[\"S\", \"S\"]])"
   ]
  },
  {
   "cell_type": "markdown",
   "id": "d944d981-7427-479f-ba37-e14b611fcbff",
   "metadata": {},
   "source": [
    "TODO: display graph"
   ]
  },
  {
   "cell_type": "code",
   "execution_count": 4,
   "id": "05e0aa3b-4fe2-4d97-8615-04dae0641915",
   "metadata": {},
   "outputs": [],
   "source": [
    "double_epidemic_simpl = simplify(double_epidemic, [\"ep2_I\"])"
   ]
  },
  {
   "cell_type": "markdown",
   "id": "840d01b0-1793-4b11-b33f-0b9764a2cb3b",
   "metadata": {},
   "source": [
    "TODO: display graph"
   ]
  },
  {
   "cell_type": "code",
   "execution_count": null,
   "id": "05fe0d56-a978-4741-b2dd-9688992ed4c3",
   "metadata": {},
   "outputs": [],
   "source": []
  },
  {
   "cell_type": "code",
   "execution_count": null,
   "id": "afbce30c-9e27-4d0d-a782-67a8c2a5a7fe",
   "metadata": {},
   "outputs": [],
   "source": []
  },
  {
   "cell_type": "code",
   "execution_count": null,
   "id": "e6861ea0-004b-40c9-9b6f-afba698eca34",
   "metadata": {},
   "outputs": [],
   "source": []
  },
  {
   "cell_type": "code",
   "execution_count": null,
   "id": "e1be720d-1704-4ded-bd61-15931c53bef9",
   "metadata": {},
   "outputs": [],
   "source": []
  },
  {
   "cell_type": "code",
   "execution_count": null,
   "id": "02c49d1c-4092-4fce-ba84-aa0f3a5554c1",
   "metadata": {},
   "outputs": [],
   "source": []
  },
  {
   "cell_type": "code",
   "execution_count": null,
   "id": "dbb627ef-38e5-48ba-a139-c902170f1319",
   "metadata": {},
   "outputs": [],
   "source": []
  },
  {
   "cell_type": "code",
   "execution_count": null,
   "id": "65ce22b2-8e4e-4d19-ace8-94b64a44255b",
   "metadata": {},
   "outputs": [],
   "source": []
  },
  {
   "cell_type": "code",
   "execution_count": null,
   "id": "cbbe3a6e-1e3d-410d-8869-bfeb12eda7a7",
   "metadata": {},
   "outputs": [],
   "source": []
  }
 ],
 "metadata": {
  "kernelspec": {
   "display_name": "ASKE-E",
   "language": "",
   "name": "askee_kernel"
  },
  "language_info": {
   "file_extension": ".txt",
   "mimetype": "text/plain",
   "name": "Any text"
  }
 },
 "nbformat": 4,
 "nbformat_minor": 5
}
