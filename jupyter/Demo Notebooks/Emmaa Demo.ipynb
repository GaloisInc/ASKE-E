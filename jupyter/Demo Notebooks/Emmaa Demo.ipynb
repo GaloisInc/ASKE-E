{
 "cells": [
  {
   "cell_type": "code",
   "execution_count": 1,
   "id": "1ca4b48b-096b-4ce3-bfbc-8dcb0cea9984",
   "metadata": {},
   "outputs": [],
   "source": [
    "ras = loadPNC(\"models/emmaa-rasmachine.json\")"
   ]
  },
  {
   "cell_type": "code",
   "execution_count": 2,
   "id": "99db52a1-a6a9-44d6-9015-0beb39043284",
   "metadata": {},
   "outputs": [
    {
     "data": {
      "text/plain": [
       "states: 849   events: 21592"
      ]
     },
     "metadata": {},
     "output_type": "display_data"
    }
   ],
   "source": [
    "modelSize(ras)"
   ]
  },
  {
   "cell_type": "code",
   "execution_count": 3,
   "id": "4c6f4838-3dc6-4708-929c-272d496a5a32",
   "metadata": {},
   "outputs": [
    {
     "data": {
      "text/plain": [
       "states: 132   events: 1471"
      ]
     },
     "metadata": {},
     "output_type": "display_data"
    }
   ],
   "source": [
    "ras_simpl = simplify(ras, [\"s1\"])\n",
    "modelSize(ras_simpl)"
   ]
  },
  {
   "cell_type": "code",
   "execution_count": 4,
   "id": "ce20b281-b8de-4983-8fd0-47dfb42750f0",
   "metadata": {},
   "outputs": [
    {
     "data": {
      "text/plain": [
       "states: 132   events: 1471"
      ]
     },
     "metadata": {},
     "output_type": "display_data"
    }
   ],
   "source": [
    "ras_simpl2 = simplify(ras_simpl, [\"s1\"])\n",
    "modelSize(ras_simpl2)"
   ]
  },
  {
   "cell_type": "code",
   "execution_count": null,
   "id": "0aa5853f-f00b-4a9c-a423-ac99aaa8b5f0",
   "metadata": {},
   "outputs": [],
   "source": []
  },
  {
   "cell_type": "code",
   "execution_count": null,
   "id": "c5b4f46a-288d-4718-8cc3-a2578fd5ea0d",
   "metadata": {},
   "outputs": [],
   "source": []
  }
 ],
 "metadata": {
  "kernelspec": {
   "display_name": "ASKE-E",
   "language": "",
   "name": "askee_kernel"
  },
  "language_info": {
   "file_extension": ".txt",
   "mimetype": "text/plain",
   "name": "Any text"
  }
 },
 "nbformat": 4,
 "nbformat_minor": 5
}
