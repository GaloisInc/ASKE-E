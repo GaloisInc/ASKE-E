{
 "cells": [
  {
   "cell_type": "markdown",
   "id": "97a3fb0d-9560-4ce4-a47b-dcc07bf85b8b",
   "metadata": {},
   "source": [
    "# Model Skill Reporting"
   ]
  },
  {
   "cell_type": "markdown",
   "id": "112f86b0-9c95-4a81-8912-2bed52d2d66d",
   "metadata": {},
   "source": [
    "## Simulate ground truth data"
   ]
  },
  {
   "cell_type": "code",
   "execution_count": 1,
   "id": "2cb20398-2ab7-4c8c-97d3-5ba9653fe14f",
   "metadata": {},
   "outputs": [],
   "source": [
    "data = loadCSV(\"sirs-simulated.csv\")\n",
    "times = data.time\n",
    "infected_ground_truth = value(data.I)"
   ]
  },
  {
   "cell_type": "markdown",
   "id": "a51cb21d-9d18-4b14-9d74-78b53c8b432d",
   "metadata": {},
   "source": [
    "## Load and simulate models of interest"
   ]
  },
  {
   "cell_type": "code",
   "execution_count": 2,
   "id": "d513f5a2-4873-4994-9e91-14f072294c99",
   "metadata": {},
   "outputs": [],
   "source": [
    "nSamples = 200\n",
    "model1 = loadESL(\"sir.easel\")\n",
    "model2 = loadESL(\"sir-vd.easel\")\n",
    "model3 = loadESL(\"sirs.easel\")"
   ]
  },
  {
   "cell_type": "code",
   "execution_count": 3,
   "id": "c5d0ace7-6605-4606-bb11-d94fa03f4487",
   "metadata": {},
   "outputs": [],
   "source": [
    "model1_samples = value(sample(model1.I at times, nSamples))\n",
    "model2_samples = value(sample(model2.I at times, nSamples))\n",
    "model3_samples = value(sample(model3.I at times, nSamples))"
   ]
  },
  {
   "cell_type": "markdown",
   "id": "3d6842f7-a23e-4053-ba99-e6e510e32e66",
   "metadata": {},
   "source": [
    "## Compute ranking"
   ]
  },
  {
   "cell_type": "code",
   "execution_count": 4,
   "id": "1712b06b-4b36-4739-9a88-4932dd94c1a5",
   "metadata": {},
   "outputs": [
    {
     "data": {
      "text/markdown": [
       "|model|mean score|\n",
       "|---|---|\n",
       "|model1|0.3|\n",
       "|model2|0.4|\n",
       "|model3|0.8|"
      ]
     },
     "metadata": {},
     "output_type": "display_data"
    }
   ],
   "source": [
    "alphas = [0.02, 0.05, 0.1, 0.2, 0.4, 0.8]\n",
    "ranks = modelSkillRank([model1_samples, model2_samples, model3_samples], \n",
    "                        alphas, \n",
    "                        infected_ground_truth)\n",
    "\n",
    "table([\"model\", \"mean score\"], [[\"model1\", \"model2\", \"model3\"], ranks])"
   ]
  },
  {
   "cell_type": "markdown",
   "id": "8a50447d-c518-4399-8937-a075ae6a24bf",
   "metadata": {},
   "source": [
    "## Plot models vs. ground truth"
   ]
  },
  {
   "cell_type": "code",
   "execution_count": 9,
   "id": "9e236606-574a-4b13-9899-6a635a02b2ad",
   "metadata": {},
   "outputs": [],
   "source": [
    "m1 = series(mean(model1_samples), \"Model 1\", {{style=\"line\"}})\n",
    "m2 = series(mean(model2_samples), \"Model 2\", {{style=\"line\"}})\n",
    "m3 = series(mean(model3_samples), \"Model 3\", {{style=\"line\"}})\n",
    "ground_truth = series(infected_ground_truth, \"Truth\", {{style=\"squares\"}})"
   ]
  },
  {
   "cell_type": "code",
   "execution_count": 10,
   "id": "7922d42d-f563-4c49-ab0e-419f71bd84be",
   "metadata": {},
   "outputs": [
    {
     "data": {
      "application/vnd.vegalite.v4+json": {
       "$schema": "https://vega.github.io/schema/vega-lite/v4.json",
       "data": {
        "values": [
         {
          "Model 1": 3,
          "T": 0,
          "series": "Model 1"
         },
         {
          "Model 2": 3,
          "T": 0,
          "series": "Model 2"
         },
         {
          "Model 3": 3,
          "T": 0,
          "series": "Model 3"
         },
         {
          "Model 3 sim": 3,
          "T": 0,
          "series": "Model 3 sim"
         },
         {
          "T": 0,
          "Truth": 3,
          "series": "Truth"
         },
         {
          "Model 1": 574.615,
          "T": 30,
          "series": "Model 1"
         },
         {
          "Model 2": 589.76,
          "T": 30,
          "series": "Model 2"
         },
         {
          "Model 3": 582.235,
          "T": 30,
          "series": "Model 3"
         },
         {
          "Model 3 sim": 4.371042204422778,
          "T": 30,
          "series": "Model 3 sim"
         },
         {
          "T": 30,
          "Truth": 576.0670134815663,
          "series": "Truth"
         },
         {
          "Model 1": 179.79,
          "T": 60,
          "series": "Model 1"
         },
         {
          "Model 2": 201.055,
          "T": 60,
          "series": "Model 2"
         },
         {
          "Model 3": 368.545,
          "T": 60,
          "series": "Model 3"
         },
         {
          "Model 3 sim": 6.103745335419469,
          "T": 60,
          "series": "Model 3 sim"
         },
         {
          "T": 60,
          "Truth": 366.63071989547564,
          "series": "Truth"
         },
         {
          "Model 1": 53.975,
          "T": 90,
          "series": "Model 1"
         },
         {
          "Model 2": 75.48,
          "T": 90,
          "series": "Model 2"
         },
         {
          "Model 3": 316.125,
          "T": 90,
          "series": "Model 3"
         },
         {
          "Model 3 sim": 8.51580064899186,
          "T": 90,
          "series": "Model 3 sim"
         },
         {
          "T": 90,
          "Truth": 314.19375779627825,
          "series": "Truth"
         },
         {
          "Model 1": 16.17,
          "T": 120,
          "series": "Model 1"
         },
         {
          "Model 2": 35.21,
          "T": 120,
          "series": "Model 2"
         },
         {
          "Model 3": 274.185,
          "T": 120,
          "series": "Model 3"
         },
         {
          "Model 3 sim": 12.367722450742901,
          "T": 120,
          "series": "Model 3 sim"
         },
         {
          "T": 120,
          "Truth": 272.9238284857061,
          "series": "Truth"
         }
        ]
       },
       "description": "",
       "height": 600,
       "layer": [
        {
         "encoding": {
          "color": {
           "field": "series",
           "type": "nominal"
          },
          "x": {
           "field": "T",
           "type": "quantitative"
          },
          "y": {
           "field": "Model 1",
           "type": "quantitative"
          }
         },
         "mark": "line"
        },
        {
         "encoding": {
          "color": {
           "field": "series",
           "type": "nominal"
          },
          "x": {
           "field": "T",
           "type": "quantitative"
          },
          "y": {
           "field": "Model 2",
           "type": "quantitative"
          }
         },
         "mark": "line"
        },
        {
         "encoding": {
          "color": {
           "field": "series",
           "type": "nominal"
          },
          "x": {
           "field": "T",
           "type": "quantitative"
          },
          "y": {
           "field": "Model 3",
           "type": "quantitative"
          }
         },
         "mark": "line"
        },
        {
         "encoding": {
          "color": {
           "field": "series",
           "type": "nominal"
          },
          "x": {
           "field": "T",
           "type": "quantitative"
          },
          "y": {
           "field": "Model 3 sim",
           "type": "quantitative"
          }
         },
         "mark": "line"
        },
        {
         "encoding": {
          "color": {
           "field": "series",
           "type": "nominal"
          },
          "x": {
           "field": "T",
           "type": "quantitative"
          },
          "y": {
           "field": "Truth",
           "type": "quantitative"
          }
         },
         "mark": "square"
        }
       ],
       "width": 800
      },
      "image/png": "[encoded data removed]"
     },
     "metadata": {},
     "output_type": "display_data"
    }
   ],
   "source": [
    "plot(\"Models vs. Actual\", \n",
    "     [m1, m2, m3, m4, ground_truth],\n",
    "     times,\n",
    "     \"T\")"
   ]
  },
  {
   "cell_type": "markdown",
   "id": "c93475f3-7d51-47a8-95ee-545370814dab",
   "metadata": {},
   "source": [
    "## Distribution of Model Predictions"
   ]
  },
  {
   "cell_type": "code",
   "execution_count": 7,
   "id": "c6dd5aa9-706d-464c-a465-6739edf3f8a3",
   "metadata": {},
   "outputs": [
    {
     "data": {
      "application/vnd.vegalite.v4+json": {
       "$schema": "https://vega.github.io/schema/vega-lite/v4.json",
       "data": {
        "values": [
         {
          "count": 1,
          "hi": 7,
          "lo": 6
         },
         {
          "count": 4,
          "hi": 18,
          "lo": 17
         },
         {
          "count": 6,
          "hi": 12,
          "lo": 11
         },
         {
          "count": 3,
          "hi": 21,
          "lo": 20
         },
         {
          "count": 9,
          "hi": 15,
          "lo": 14
         },
         {
          "count": 3,
          "hi": 6,
          "lo": 5
         },
         {
          "count": 11,
          "hi": 11,
          "lo": 10
         },
         {
          "count": 2,
          "hi": 22,
          "lo": 21
         },
         {
          "count": 9,
          "hi": 16,
          "lo": 15
         },
         {
          "count": 8,
          "hi": 19,
          "lo": 18
         },
         {
          "count": 5,
          "hi": 10,
          "lo": 9
         },
         {
          "count": 10,
          "hi": 13,
          "lo": 12
         },
         {
          "count": 6,
          "hi": 9,
          "lo": 8
         },
         {
          "count": 2,
          "hi": 20,
          "lo": 19
         },
         {
          "count": 9,
          "hi": 14,
          "lo": 13
         },
         {
          "count": 1,
          "hi": 3,
          "lo": 2
         },
         {
          "count": 9,
          "hi": 17,
          "lo": 16
         },
         {
          "count": 2,
          "hi": 8,
          "lo": 7
         }
        ]
       },
       "encoding": {
        "x": {
         "bin": {
          "binned": "true",
          "step": 1
         },
         "field": "lo"
        },
        "x2": {
         "field": "hi"
        },
        "y": {
         "field": "count",
         "type": "quantitative"
        }
       },
       "mark": "bar"
      },
      "image/png": "[encoded data removed]",
      "text/plain": [
       "[{\"lo\": 6.0, \"hi\": 7.0, \"count\": 1}, {\"lo\": 17.0, \"hi\": 18.0, \"count\": 4}, {\"lo\": 11.0, \"hi\": 12.0, \"count\": 6}, {\"lo\": 20.0, \"hi\": 21.0, \"count\": 3}, {\"lo\": 14.0, \"hi\": 15.0, \"count\": 9}, {\"lo\": 5.0, \"hi\": 6.0, \"count\": 3}, {\"lo\": 10.0, \"hi\": 11.0, \"count\": 11}, {\"lo\": 21.0, \"hi\": 22.0, \"count\": 2}, {\"lo\": 15.0, \"hi\": 16.0, \"count\": 9}, {\"lo\": 18.0, \"hi\": 19.0, \"count\": 8}, {\"lo\": 9.0, \"hi\": 10.0, \"count\": 5}, {\"lo\": 12.0, \"hi\": 13.0, \"count\": 10}, {\"lo\": 8.0, \"hi\": 9.0, \"count\": 6}, {\"lo\": 19.0, \"hi\": 20.0, \"count\": 2}, {\"lo\": 13.0, \"hi\": 14.0, \"count\": 9}, {\"lo\": 2.0, \"hi\": 3.0, \"count\": 1}, {\"lo\": 16.0, \"hi\": 17.0, \"count\": 9}, {\"lo\": 7.0, \"hi\": 8.0, \"count\": 2}]"
      ]
     },
     "metadata": {},
     "output_type": "display_data"
    },
    {
     "data": {
      "application/vnd.vegalite.v4+json": {
       "$schema": "https://vega.github.io/schema/vega-lite/v4.json",
       "data": {
        "values": [
         {
          "count": 3,
          "hi": 24,
          "lo": 22.4
         },
         {
          "count": 2,
          "hi": 41.6,
          "lo": 40
         },
         {
          "count": 3,
          "hi": 32,
          "lo": 30.4
         },
         {
          "count": 2,
          "hi": 46.400000000000006,
          "lo": 44.8
         },
         {
          "count": 2,
          "hi": 36.8,
          "lo": 35.2
         },
         {
          "count": 3,
          "hi": 22.4,
          "lo": 20.8
         },
         {
          "count": 7,
          "hi": 30.4,
          "lo": 28.8
         },
         {
          "count": 1,
          "hi": 48,
          "lo": 46.400000000000006
         },
         {
          "count": 11,
          "hi": 38.400000000000006,
          "lo": 36.8
         },
         {
          "count": 5,
          "hi": 43.2,
          "lo": 41.6
         },
         {
          "count": 5,
          "hi": 28.8,
          "lo": 27.200000000000003
         },
         {
          "count": 5,
          "hi": 19.2,
          "lo": 17.6
         },
         {
          "count": 12,
          "hi": 33.6,
          "lo": 32
         },
         {
          "count": 14,
          "hi": 27.200000000000003,
          "lo": 25.6
         },
         {
          "count": 1,
          "hi": 44.8,
          "lo": 43.2
         },
         {
          "count": 8,
          "hi": 35.2,
          "lo": 33.6
         },
         {
          "count": 3,
          "hi": 17.6,
          "lo": 16
         },
         {
          "count": 3,
          "hi": 40,
          "lo": 38.400000000000006
         },
         {
          "count": 10,
          "hi": 25.6,
          "lo": 24
         }
        ]
       },
       "encoding": {
        "x": {
         "bin": {
          "binned": "true",
          "step": 1.6
         },
         "field": "lo"
        },
        "x2": {
         "field": "hi"
        },
        "y": {
         "field": "count",
         "type": "quantitative"
        }
       },
       "mark": "bar"
      },
      "image/png": "[encoded data removed]",
      "text/plain": [
       "[{\"lo\": 22.4, \"hi\": 24.0, \"count\": 3}, {\"lo\": 40.0, \"hi\": 41.6, \"count\": 2}, {\"lo\": 30.4, \"hi\": 32.0, \"count\": 3}, {\"lo\": 44.8, \"hi\": 46.400000000000006, \"count\": 2}, {\"lo\": 35.2, \"hi\": 36.8, \"count\": 2}, {\"lo\": 20.8, \"hi\": 22.4, \"count\": 3}, {\"lo\": 28.8, \"hi\": 30.4, \"count\": 7}, {\"lo\": 46.400000000000006, \"hi\": 48.0, \"count\": 1}, {\"lo\": 36.8, \"hi\": 38.400000000000006, \"count\": 11}, {\"lo\": 41.6, \"hi\": 43.2, \"count\": 5}, {\"lo\": 27.200000000000003, \"hi\": 28.8, \"count\": 5}, {\"lo\": 17.6, \"hi\": 19.2, \"count\": 5}, {\"lo\": 32.0, \"hi\": 33.6, \"count\": 12}, {\"lo\": 25.6, \"hi\": 27.200000000000003, \"count\": 14}, {\"lo\": 43.2, \"hi\": 44.8, \"count\": 1}, {\"lo\": 33.6, \"hi\": 35.2, \"count\": 8}, {\"lo\": 16.0, \"hi\": 17.6, \"count\": 3}, {\"lo\": 38.400000000000006, \"hi\": 40.0, \"count\": 3}, {\"lo\": 24.0, \"hi\": 25.6, \"count\": 10}]"
      ]
     },
     "metadata": {},
     "output_type": "display_data"
    },
    {
     "data": {
      "application/vnd.vegalite.v4+json": {
       "$schema": "https://vega.github.io/schema/vega-lite/v4.json",
       "data": {
        "values": [
         {
          "count": 6,
          "hi": 250.75,
          "lo": 246.2
         },
         {
          "count": 1,
          "hi": 300.8,
          "lo": 296.25
         },
         {
          "count": 7,
          "hi": 273.5,
          "lo": 268.95
         },
         {
          "count": 1,
          "hi": 314.45,
          "lo": 309.9
         },
         {
          "count": 8,
          "hi": 287.15,
          "lo": 282.6
         },
         {
          "count": 8,
          "hi": 246.2,
          "lo": 241.65
         },
         {
          "count": 10,
          "hi": 268.95,
          "lo": 264.4
         },
         {
          "count": 1,
          "hi": 319,
          "lo": 314.45
         },
         {
          "count": 2,
          "hi": 241.65,
          "lo": 237.1
         },
         {
          "count": 4,
          "hi": 291.7,
          "lo": 287.15
         },
         {
          "count": 11,
          "hi": 264.4,
          "lo": 259.85
         },
         {
          "count": 4,
          "hi": 237.1,
          "lo": 232.55
         },
         {
          "count": 10,
          "hi": 278.05,
          "lo": 273.5
         },
         {
          "count": 6,
          "hi": 259.85,
          "lo": 255.3
         },
         {
          "count": 3,
          "hi": 282.6,
          "lo": 278.05
         },
         {
          "count": 4,
          "hi": 232.55,
          "lo": 228
         },
         {
          "count": 2,
          "hi": 296.25,
          "lo": 291.7
         },
         {
          "count": 12,
          "hi": 255.3,
          "lo": 250.75
         }
        ]
       },
       "encoding": {
        "x": {
         "bin": {
          "binned": "true",
          "step": 4.55
         },
         "field": "lo"
        },
        "x2": {
         "field": "hi"
        },
        "y": {
         "field": "count",
         "type": "quantitative"
        }
       },
       "mark": "bar"
      },
      "image/png": "[encoded data removed]",
      "text/plain": [
       "[{\"lo\": 246.2, \"hi\": 250.75, \"count\": 6}, {\"lo\": 296.25, \"hi\": 300.8, \"count\": 1}, {\"lo\": 268.95, \"hi\": 273.5, \"count\": 7}, {\"lo\": 309.9, \"hi\": 314.45, \"count\": 1}, {\"lo\": 282.6, \"hi\": 287.15, \"count\": 8}, {\"lo\": 241.65, \"hi\": 246.2, \"count\": 8}, {\"lo\": 264.4, \"hi\": 268.95, \"count\": 10}, {\"lo\": 314.45, \"hi\": 319.0, \"count\": 1}, {\"lo\": 237.1, \"hi\": 241.65, \"count\": 2}, {\"lo\": 287.15, \"hi\": 291.7, \"count\": 4}, {\"lo\": 259.85, \"hi\": 264.4, \"count\": 11}, {\"lo\": 232.55, \"hi\": 237.1, \"count\": 4}, {\"lo\": 273.5, \"hi\": 278.05, \"count\": 10}, {\"lo\": 255.3, \"hi\": 259.85, \"count\": 6}, {\"lo\": 278.05, \"hi\": 282.6, \"count\": 3}, {\"lo\": 228.0, \"hi\": 232.55, \"count\": 4}, {\"lo\": 291.7, \"hi\": 296.25, \"count\": 2}, {\"lo\": 250.75, \"hi\": 255.3, \"count\": 12}]"
      ]
     },
     "metadata": {},
     "output_type": "display_data"
    }
   ],
   "source": [
    "histogram(sample(model1.I at max(data.time) + 7, 100), 20)\n",
    "histogram(sample(model2.I at max(data.time) + 7, 100), 20)\n",
    "histogram(sample(model3.I at max(data.time) + 7, 100), 20)"
   ]
  },
  {
   "cell_type": "code",
   "execution_count": 15,
   "id": "a30d464e-41f5-4d3f-9227-71dd159f02a5",
   "metadata": {},
   "outputs": [
    {
     "data": {
      "text/plain": [
       "[3 @ 0, 576.0670123162348 @ 30, 366.6307194296948 @ 60, 314.1937589113305 @ 90, 272.92382851403346 @ 120]"
      ]
     },
     "metadata": {},
     "output_type": "display_data"
    }
   ],
   "source": [
    "simulate(model3.I at times)\n"
   ]
  },
  {
   "cell_type": "code",
   "execution_count": 13,
   "id": "9f674e55-18e3-4fb7-a630-cd2c2c042d01",
   "metadata": {},
   "outputs": [
    {
     "data": {
      "text/plain": [
       "[3, 655, 423, 365, 316]"
      ]
     },
     "metadata": {},
     "output_type": "display_data"
    }
   ],
   "source": [
    "max(model3_samples)"
   ]
  },
  {
   "cell_type": "code",
   "execution_count": null,
   "id": "075a3088-c583-495e-a52d-8f57f213e446",
   "metadata": {},
   "outputs": [],
   "source": []
  }
 ],
 "metadata": {
  "kernelspec": {
   "display_name": "ASKE-E",
   "language": "",
   "name": "askee_kernel"
  },
  "language_info": {
   "file_extension": ".txt",
   "mimetype": "text/plain",
   "name": "Any text"
  }
 },
 "nbformat": 4,
 "nbformat_minor": 5
}
