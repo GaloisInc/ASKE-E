{
 "cells": [
  {
   "cell_type": "markdown",
   "id": "97a3fb0d-9560-4ce4-a47b-dcc07bf85b8b",
   "metadata": {},
   "source": [
    "# Model Skill Reporting"
   ]
  },
  {
   "cell_type": "markdown",
   "id": "112f86b0-9c95-4a81-8912-2bed52d2d66d",
   "metadata": {},
   "source": [
    "## Simulate ground truth data"
   ]
  },
  {
   "cell_type": "code",
   "execution_count": 1,
   "id": "2cb20398-2ab7-4c8c-97d3-5ba9653fe14f",
   "metadata": {},
   "outputs": [],
   "source": [
    "data = loadCSV(\"sirs-simulated.csv\")\n",
    "times = data.time\n",
    "infected_ground_truth = data.I"
   ]
  },
  {
   "cell_type": "markdown",
   "id": "a51cb21d-9d18-4b14-9d74-78b53c8b432d",
   "metadata": {},
   "source": [
    "## Load and simulate models of interest"
   ]
  },
  {
   "cell_type": "code",
   "execution_count": 2,
   "id": "d513f5a2-4873-4994-9e91-14f072294c99",
   "metadata": {},
   "outputs": [],
   "source": [
    "nSamples = 200\n",
    "model1 = loadESL(\"sir.easel\")\n",
    "model2 = loadESL(\"sir-vd.easel\")\n",
    "model3 = loadESL(\"sirs.easel\")"
   ]
  },
  {
   "cell_type": "code",
   "execution_count": 3,
   "id": "a6536544-ee8d-4f11-bfdc-00379c8ae486",
   "metadata": {},
   "outputs": [],
   "source": [
    "model1_samples = value(sample(model1.I at times, nSamples))\n",
    "model2_samples = value(sample(model2.I at times, nSamples))\n",
    "model3_samples = value(sample(model3.I at times, nSamples))"
   ]
  },
  {
   "cell_type": "markdown",
   "id": "3d6842f7-a23e-4053-ba99-e6e510e32e66",
   "metadata": {},
   "source": [
    "## Compute ranking"
   ]
  },
  {
   "cell_type": "code",
   "execution_count": 4,
   "id": "0d14720a-91b4-4861-bf6e-b6032aae1dd1",
   "metadata": {},
   "outputs": [
    {
     "data": {
      "text/markdown": [
       "|model|mean score|\n",
       "|---|---|\n",
       "|model1|0.3|\n",
       "|model2|0.4|\n",
       "|model3|0.8|"
      ]
     },
     "metadata": {},
     "output_type": "display_data"
    }
   ],
   "source": [
    "alphas = [0.02, 0.05, 0.1, 0.2, 0.4, 0.8]\n",
    "ranks = modelSkillRank([model1_samples, model2_samples, model3_samples], \n",
    "                        alphas, \n",
    "                        value(infected_ground_truth))\n",
    "table([\"model\", \"mean score\"], [[\"model1\", \"model2\", \"model3\"], ranks])"
   ]
  },
  {
   "cell_type": "markdown",
   "id": "c93475f3-7d51-47a8-95ee-545370814dab",
   "metadata": {},
   "source": [
    "## Distribution of Model Predictions"
   ]
  },
  {
   "cell_type": "code",
   "execution_count": 5,
   "id": "c6dd5aa9-706d-464c-a465-6739edf3f8a3",
   "metadata": {},
   "outputs": [
    {
     "data": {
      "application/vnd.vegalite.v4+json": {
       "$schema": "https://vega.github.io/schema/vega-lite/v4.json",
       "data": {
        "values": [
         {
          "count": 13,
          "hi": 10.25,
          "lo": 9.2
         },
         {
          "count": 2,
          "hi": 21.8,
          "lo": 20.75
         },
         {
          "count": 11,
          "hi": 15.5,
          "lo": 14.450000000000001
         },
         {
          "count": 4,
          "hi": 18.65,
          "lo": 17.6
         },
         {
          "count": 5,
          "hi": 9.2,
          "lo": 8.15
         },
         {
          "count": 3,
          "hi": 14.450000000000001,
          "lo": 13.4
         },
         {
          "count": 1,
          "hi": 26,
          "lo": 24.95
         },
         {
          "count": 4,
          "hi": 8.15,
          "lo": 7.1
         },
         {
          "count": 1,
          "hi": 19.700000000000003,
          "lo": 18.65
         },
         {
          "count": 9,
          "hi": 13.4,
          "lo": 12.350000000000001
         },
         {
          "count": 4,
          "hi": 7.1,
          "lo": 6.05
         },
         {
          "count": 7,
          "hi": 16.55,
          "lo": 15.5
         },
         {
          "count": 13,
          "hi": 12.350000000000001,
          "lo": 11.3
         },
         {
          "count": 3,
          "hi": 23.900000000000002,
          "lo": 22.85
         },
         {
          "count": 3,
          "hi": 17.6,
          "lo": 16.55
         },
         {
          "count": 2,
          "hi": 6.05,
          "lo": 5
         },
         {
          "count": 1,
          "hi": 20.75,
          "lo": 19.700000000000003
         },
         {
          "count": 14,
          "hi": 11.3,
          "lo": 10.25
         }
        ]
       },
       "encoding": {
        "x": {
         "bin": {
          "binned": "true",
          "step": 1.05
         },
         "field": "lo"
        },
        "x2": {
         "field": "hi"
        },
        "y": {
         "field": "count",
         "type": "quantitative"
        }
       },
       "mark": "bar"
      },
      "image/png": "[encoded data removed]",
      "text/plain": [
       "[{\"lo\": 9.2, \"hi\": 10.25, \"count\": 13}, {\"lo\": 20.75, \"hi\": 21.8, \"count\": 2}, {\"lo\": 14.450000000000001, \"hi\": 15.5, \"count\": 11}, {\"lo\": 17.6, \"hi\": 18.65, \"count\": 4}, {\"lo\": 8.15, \"hi\": 9.2, \"count\": 5}, {\"lo\": 13.4, \"hi\": 14.450000000000001, \"count\": 3}, {\"lo\": 24.95, \"hi\": 26.0, \"count\": 1}, {\"lo\": 7.1, \"hi\": 8.15, \"count\": 4}, {\"lo\": 18.65, \"hi\": 19.700000000000003, \"count\": 1}, {\"lo\": 12.350000000000001, \"hi\": 13.4, \"count\": 9}, {\"lo\": 6.05, \"hi\": 7.1, \"count\": 4}, {\"lo\": 15.5, \"hi\": 16.55, \"count\": 7}, {\"lo\": 11.3, \"hi\": 12.350000000000001, \"count\": 13}, {\"lo\": 22.85, \"hi\": 23.900000000000002, \"count\": 3}, {\"lo\": 16.55, \"hi\": 17.6, \"count\": 3}, {\"lo\": 5.0, \"hi\": 6.05, \"count\": 2}, {\"lo\": 19.700000000000003, \"hi\": 20.75, \"count\": 1}, {\"lo\": 10.25, \"hi\": 11.3, \"count\": 14}]"
      ]
     },
     "metadata": {},
     "output_type": "display_data"
    },
    {
     "data": {
      "application/vnd.vegalite.v4+json": {
       "$schema": "https://vega.github.io/schema/vega-lite/v4.json",
       "data": {
        "values": [
         {
          "count": 2,
          "hi": 26,
          "lo": 24
         },
         {
          "count": 13,
          "hi": 36,
          "lo": 34
         },
         {
          "count": 4,
          "hi": 42,
          "lo": 40
         },
         {
          "count": 6,
          "hi": 24,
          "lo": 22
         },
         {
          "count": 14,
          "hi": 34,
          "lo": 32
         },
         {
          "count": 3,
          "hi": 56,
          "lo": 54
         },
         {
          "count": 2,
          "hi": 22,
          "lo": 20
         },
         {
          "count": 4,
          "hi": 44,
          "lo": 42
         },
         {
          "count": 1,
          "hi": 50,
          "lo": 48
         },
         {
          "count": 11,
          "hi": 32,
          "lo": 30
         },
         {
          "count": 2,
          "hi": 20,
          "lo": 18
         },
         {
          "count": 9,
          "hi": 38,
          "lo": 36
         },
         {
          "count": 8,
          "hi": 30,
          "lo": 28
         },
         {
          "count": 6,
          "hi": 40,
          "lo": 38
         },
         {
          "count": 2,
          "hi": 18,
          "lo": 16
         },
         {
          "count": 2,
          "hi": 46,
          "lo": 44
         },
         {
          "count": 11,
          "hi": 28,
          "lo": 26
         }
        ]
       },
       "encoding": {
        "x": {
         "bin": {
          "binned": "true",
          "step": 2
         },
         "field": "lo"
        },
        "x2": {
         "field": "hi"
        },
        "y": {
         "field": "count",
         "type": "quantitative"
        }
       },
       "mark": "bar"
      },
      "image/png": "[encoded data removed]",
      "text/plain": [
       "[{\"lo\": 24.0, \"hi\": 26.0, \"count\": 2}, {\"lo\": 34.0, \"hi\": 36.0, \"count\": 13}, {\"lo\": 40.0, \"hi\": 42.0, \"count\": 4}, {\"lo\": 22.0, \"hi\": 24.0, \"count\": 6}, {\"lo\": 32.0, \"hi\": 34.0, \"count\": 14}, {\"lo\": 54.0, \"hi\": 56.0, \"count\": 3}, {\"lo\": 20.0, \"hi\": 22.0, \"count\": 2}, {\"lo\": 42.0, \"hi\": 44.0, \"count\": 4}, {\"lo\": 48.0, \"hi\": 50.0, \"count\": 1}, {\"lo\": 30.0, \"hi\": 32.0, \"count\": 11}, {\"lo\": 18.0, \"hi\": 20.0, \"count\": 2}, {\"lo\": 36.0, \"hi\": 38.0, \"count\": 9}, {\"lo\": 28.0, \"hi\": 30.0, \"count\": 8}, {\"lo\": 38.0, \"hi\": 40.0, \"count\": 6}, {\"lo\": 16.0, \"hi\": 18.0, \"count\": 2}, {\"lo\": 44.0, \"hi\": 46.0, \"count\": 2}, {\"lo\": 26.0, \"hi\": 28.0, \"count\": 11}]"
      ]
     },
     "metadata": {},
     "output_type": "display_data"
    },
    {
     "data": {
      "application/vnd.vegalite.v4+json": {
       "$schema": "https://vega.github.io/schema/vega-lite/v4.json",
       "data": {
        "values": [
         {
          "count": 2,
          "hi": 240.75,
          "lo": 236.6
         },
         {
          "count": 4,
          "hi": 286.4,
          "lo": 282.25
         },
         {
          "count": 11,
          "hi": 261.5,
          "lo": 257.35
         },
         {
          "count": 1,
          "hi": 298.85,
          "lo": 294.7
         },
         {
          "count": 8,
          "hi": 273.95,
          "lo": 269.8
         },
         {
          "count": 7,
          "hi": 257.35,
          "lo": 253.2
         },
         {
          "count": 3,
          "hi": 303,
          "lo": 298.85
         },
         {
          "count": 11,
          "hi": 278.1,
          "lo": 273.95
         },
         {
          "count": 4,
          "hi": 290.55,
          "lo": 286.4
         },
         {
          "count": 14,
          "hi": 253.2,
          "lo": 249.05
         },
         {
          "count": 8,
          "hi": 265.65,
          "lo": 261.5
         },
         {
          "count": 5,
          "hi": 249.05,
          "lo": 244.9
         },
         {
          "count": 3,
          "hi": 294.7,
          "lo": 290.55
         },
         {
          "count": 7,
          "hi": 269.8,
          "lo": 265.65
         },
         {
          "count": 1,
          "hi": 224.15,
          "lo": 220
         },
         {
          "count": 8,
          "hi": 282.25,
          "lo": 278.1
         },
         {
          "count": 3,
          "hi": 244.9,
          "lo": 240.75
         }
        ]
       },
       "encoding": {
        "x": {
         "bin": {
          "binned": "true",
          "step": 4.15
         },
         "field": "lo"
        },
        "x2": {
         "field": "hi"
        },
        "y": {
         "field": "count",
         "type": "quantitative"
        }
       },
       "mark": "bar"
      },
      "image/png": "[encoded data removed]",
      "text/plain": [
       "[{\"lo\": 236.6, \"hi\": 240.75, \"count\": 2}, {\"lo\": 282.25, \"hi\": 286.4, \"count\": 4}, {\"lo\": 257.35, \"hi\": 261.5, \"count\": 11}, {\"lo\": 294.7, \"hi\": 298.85, \"count\": 1}, {\"lo\": 269.8, \"hi\": 273.95, \"count\": 8}, {\"lo\": 253.2, \"hi\": 257.35, \"count\": 7}, {\"lo\": 298.85, \"hi\": 303.0, \"count\": 3}, {\"lo\": 273.95, \"hi\": 278.1, \"count\": 11}, {\"lo\": 286.4, \"hi\": 290.55, \"count\": 4}, {\"lo\": 249.05, \"hi\": 253.2, \"count\": 14}, {\"lo\": 261.5, \"hi\": 265.65, \"count\": 8}, {\"lo\": 244.9, \"hi\": 249.05, \"count\": 5}, {\"lo\": 290.55, \"hi\": 294.7, \"count\": 3}, {\"lo\": 265.65, \"hi\": 269.8, \"count\": 7}, {\"lo\": 220.0, \"hi\": 224.15, \"count\": 1}, {\"lo\": 278.1, \"hi\": 282.25, \"count\": 8}, {\"lo\": 240.75, \"hi\": 244.9, \"count\": 3}]"
      ]
     },
     "metadata": {},
     "output_type": "display_data"
    }
   ],
   "source": [
    "histogram(sample(model1.I at max(data.time) + 7, 100), 20)\n",
    "histogram(sample(model2.I at max(data.time) + 7, 100), 20)\n",
    "histogram(sample(model3.I at max(data.time) + 7, 100), 20)"
   ]
  },
  {
   "cell_type": "code",
   "execution_count": 9,
   "id": "73cc6b43-ee67-4146-ae26-a40b3b6a9e37",
   "metadata": {},
   "outputs": [
    {
     "data": {
      "application/vnd.vegalite.v4+json": {
       "$schema": "https://vega.github.io/schema/vega-lite/v4.json",
       "data": {
        "values": [
         {
          "ground_truth": 3,
          "series": "ground_truth",
          "time": 0
         },
         {
          "model 1": 3,
          "series": "model 1",
          "time": 0
         },
         {
          "model 2": 3,
          "series": "model 2",
          "time": 0
         },
         {
          "model 3": 3,
          "series": "model 3",
          "time": 0
         },
         {
          "ground_truth": 576.0670134815663,
          "series": "ground_truth",
          "time": 30
         },
         {
          "model 1": 581.605,
          "series": "model 1",
          "time": 30
         },
         {
          "model 2": 590.72,
          "series": "model 2",
          "time": 30
         },
         {
          "model 3": 582.985,
          "series": "model 3",
          "time": 30
         },
         {
          "ground_truth": 366.63071989547564,
          "series": "ground_truth",
          "time": 60
         },
         {
          "model 1": 184.7,
          "series": "model 1",
          "time": 60
         },
         {
          "model 2": 200.455,
          "series": "model 2",
          "time": 60
         },
         {
          "model 3": 368.685,
          "series": "model 3",
          "time": 60
         },
         {
          "ground_truth": 314.19375779627825,
          "series": "ground_truth",
          "time": 90
         },
         {
          "model 1": 55.5,
          "series": "model 1",
          "time": 90
         },
         {
          "model 2": 75.165,
          "series": "model 2",
          "time": 90
         },
         {
          "model 3": 316.275,
          "series": "model 3",
          "time": 90
         },
         {
          "ground_truth": 272.9238284857061,
          "series": "ground_truth",
          "time": 120
         },
         {
          "model 1": 16.31,
          "series": "model 1",
          "time": 120
         },
         {
          "model 2": 36.79,
          "series": "model 2",
          "time": 120
         },
         {
          "model 3": 275.98,
          "series": "model 3",
          "time": 120
         }
        ]
       },
       "description": "",
       "layer": [
        {
         "encoding": {
          "color": {
           "field": "series",
           "type": "nominal"
          },
          "x": {
           "field": "time",
           "type": "quantitative"
          },
          "y": {
           "field": "ground_truth",
           "type": "quantitative"
          }
         },
         "mark": "line"
        },
        {
         "encoding": {
          "color": {
           "field": "series",
           "type": "nominal"
          },
          "x": {
           "field": "time",
           "type": "quantitative"
          },
          "y": {
           "field": "model 1",
           "type": "quantitative"
          }
         },
         "mark": "line"
        },
        {
         "encoding": {
          "color": {
           "field": "series",
           "type": "nominal"
          },
          "x": {
           "field": "time",
           "type": "quantitative"
          },
          "y": {
           "field": "model 2",
           "type": "quantitative"
          }
         },
         "mark": "line"
        },
        {
         "encoding": {
          "color": {
           "field": "series",
           "type": "nominal"
          },
          "x": {
           "field": "time",
           "type": "quantitative"
          },
          "y": {
           "field": "model 3",
           "type": "quantitative"
          }
         },
         "mark": "line"
        }
       ],
       "mark": "point"
      },
      "image/png": "[encoded data removed]"
     },
     "metadata": {},
     "output_type": "display_data"
    }
   ],
   "source": [
    "plot(times, \n",
    "     [value(infected_ground_truth), \n",
    "      mean(model1_samples), \n",
    "      mean(model2_samples), \n",
    "      mean(model3_samples)], \n",
    "      \"time\", \n",
    "      \"ground_truth\", \n",
    "      \"model 1\", \n",
    "      \"model 2\", \n",
    "      \"model 3\")"
   ]
  },
  {
   "cell_type": "code",
   "execution_count": null,
   "id": "a8c9861c-5e66-4da1-aca1-d95db89d739d",
   "metadata": {},
   "outputs": [],
   "source": []
  }
 ],
 "metadata": {
  "kernelspec": {
   "display_name": "ASKE-E",
   "language": "",
   "name": "askee_kernel"
  },
  "language_info": {
   "file_extension": ".txt",
   "mimetype": "text/plain",
   "name": "Any text"
  }
 },
 "nbformat": 4,
 "nbformat_minor": 5
}
