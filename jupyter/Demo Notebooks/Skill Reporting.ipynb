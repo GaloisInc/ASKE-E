{
 "cells": [
  {
   "cell_type": "markdown",
   "id": "97a3fb0d-9560-4ce4-a47b-dcc07bf85b8b",
   "metadata": {},
   "source": [
    "# Model Skill Reporting"
   ]
  },
  {
   "cell_type": "markdown",
   "id": "112f86b0-9c95-4a81-8912-2bed52d2d66d",
   "metadata": {},
   "source": [
    "## Simulate ground truth data"
   ]
  },
  {
   "cell_type": "code",
   "execution_count": 1,
   "id": "2cb20398-2ab7-4c8c-97d3-5ba9653fe14f",
   "metadata": {},
   "outputs": [],
   "source": [
    "data = loadCSV(\"sirs-simulated.csv\")\n",
    "times = data.time\n",
    "infected_ground_truth = value(data.I)"
   ]
  },
  {
   "cell_type": "markdown",
   "id": "a51cb21d-9d18-4b14-9d74-78b53c8b432d",
   "metadata": {},
   "source": [
    "## Load and simulate models of interest"
   ]
  },
  {
   "cell_type": "code",
   "execution_count": 2,
   "id": "d513f5a2-4873-4994-9e91-14f072294c99",
   "metadata": {},
   "outputs": [],
   "source": [
    "nSamples = 200\n",
    "model1 = loadESL(\"sir.easel\")\n",
    "model2 = loadESL(\"sir-vd.easel\")\n",
    "model3 = loadESL(\"sirs.easel\")"
   ]
  },
  {
   "cell_type": "code",
   "execution_count": 3,
   "id": "c5d0ace7-6605-4606-bb11-d94fa03f4487",
   "metadata": {},
   "outputs": [],
   "source": [
    "model1_samples = value(sample(model1.I at times, nSamples))\n",
    "model2_samples = value(sample(model2.I at times, nSamples))\n",
    "model3_samples = value(sample(model3.I at times, nSamples))"
   ]
  },
  {
   "cell_type": "markdown",
   "id": "3d6842f7-a23e-4053-ba99-e6e510e32e66",
   "metadata": {},
   "source": [
    "## Compute ranking"
   ]
  },
  {
   "cell_type": "code",
   "execution_count": 4,
   "id": "1712b06b-4b36-4739-9a88-4932dd94c1a5",
   "metadata": {},
   "outputs": [
    {
     "data": {
      "text/markdown": [
       "|model|mean score|\n",
       "|---|---|\n",
       "|model1|0.3|\n",
       "|model2|0.4|\n",
       "|model3|0.8|"
      ]
     },
     "metadata": {},
     "output_type": "display_data"
    }
   ],
   "source": [
    "alphas = [0.02, 0.05, 0.1, 0.2, 0.4, 0.8]\n",
    "ranks = modelSkillRank([model1_samples, model2_samples, model3_samples], \n",
    "                        alphas, \n",
    "                        infected_ground_truth)\n",
    "\n",
    "table([\"model\", \"mean score\"], [[\"model1\", \"model2\", \"model3\"], ranks])"
   ]
  },
  {
   "cell_type": "markdown",
   "id": "8a50447d-c518-4399-8937-a075ae6a24bf",
   "metadata": {},
   "source": [
    "## Plot models vs. ground truth"
   ]
  },
  {
   "cell_type": "code",
   "execution_count": 7,
   "id": "9e236606-574a-4b13-9899-6a635a02b2ad",
   "metadata": {},
   "outputs": [],
   "source": [
    "m1 = series(mean(model1_samples), \"Model 1\", {{style=\"line\"}})\n",
    "m2 = series(mean(model2_samples), \"Model 2\", {{style=\"line\"}})\n",
    "m3 = series(mean(model3_samples), \"Model 3\", {{style=\"line\"}})\n",
    "ground_truth = series(infected_ground_truth, \"Truth\", {{style=\"squares\"}})"
   ]
  },
  {
   "cell_type": "code",
   "execution_count": 8,
   "id": "7922d42d-f563-4c49-ab0e-419f71bd84be",
   "metadata": {},
   "outputs": [
    {
     "data": {
      "application/vnd.vegalite.v4+json": {
       "$schema": "https://vega.github.io/schema/vega-lite/v4.json",
       "data": {
        "values": [
         {
          "Model 1": 3,
          "T": 0,
          "series": "Model 1"
         },
         {
          "Model 2": 3,
          "T": 0,
          "series": "Model 2"
         },
         {
          "Model 3": 3,
          "T": 0,
          "series": "Model 3"
         },
         {
          "T": 0,
          "Truth": 3,
          "series": "Truth"
         },
         {
          "Model 1": 581.23,
          "T": 30,
          "series": "Model 1"
         },
         {
          "Model 2": 593.9,
          "T": 30,
          "series": "Model 2"
         },
         {
          "Model 3": 579.815,
          "T": 30,
          "series": "Model 3"
         },
         {
          "T": 30,
          "Truth": 576.0670134815663,
          "series": "Truth"
         },
         {
          "Model 1": 181.355,
          "T": 60,
          "series": "Model 1"
         },
         {
          "Model 2": 202.89,
          "T": 60,
          "series": "Model 2"
         },
         {
          "Model 3": 368.665,
          "T": 60,
          "series": "Model 3"
         },
         {
          "T": 60,
          "Truth": 366.63071989547564,
          "series": "Truth"
         },
         {
          "Model 1": 53.57,
          "T": 90,
          "series": "Model 1"
         },
         {
          "Model 2": 76.215,
          "T": 90,
          "series": "Model 2"
         },
         {
          "Model 3": 316.04,
          "T": 90,
          "series": "Model 3"
         },
         {
          "T": 90,
          "Truth": 314.19375779627825,
          "series": "Truth"
         },
         {
          "Model 1": 15.88,
          "T": 120,
          "series": "Model 1"
         },
         {
          "Model 2": 35.855,
          "T": 120,
          "series": "Model 2"
         },
         {
          "Model 3": 276.765,
          "T": 120,
          "series": "Model 3"
         },
         {
          "T": 120,
          "Truth": 272.9238284857061,
          "series": "Truth"
         }
        ]
       },
       "description": "",
       "layer": [
        {
         "encoding": {
          "color": {
           "field": "series",
           "type": "nominal"
          },
          "x": {
           "field": "T",
           "type": "quantitative"
          },
          "y": {
           "field": "Model 1",
           "type": "quantitative"
          }
         },
         "mark": "line"
        },
        {
         "encoding": {
          "color": {
           "field": "series",
           "type": "nominal"
          },
          "x": {
           "field": "T",
           "type": "quantitative"
          },
          "y": {
           "field": "Model 2",
           "type": "quantitative"
          }
         },
         "mark": "line"
        },
        {
         "encoding": {
          "color": {
           "field": "series",
           "type": "nominal"
          },
          "x": {
           "field": "T",
           "type": "quantitative"
          },
          "y": {
           "field": "Model 3",
           "type": "quantitative"
          }
         },
         "mark": "line"
        },
        {
         "encoding": {
          "color": {
           "field": "series",
           "type": "nominal"
          },
          "x": {
           "field": "T",
           "type": "quantitative"
          },
          "y": {
           "field": "Truth",
           "type": "quantitative"
          }
         },
         "mark": "square"
        }
       ]
      },
      "image/png": "[encoded data removed]"
     },
     "metadata": {},
     "output_type": "display_data"
    }
   ],
   "source": [
    "plot(\"Models vs. Actual\", \n",
    "     [m1, m2, m3, ground_truth],\n",
    "     times,\n",
    "     \"T\")"
   ]
  },
  {
   "cell_type": "markdown",
   "id": "c93475f3-7d51-47a8-95ee-545370814dab",
   "metadata": {},
   "source": [
    "## Distribution of Model Predictions"
   ]
  },
  {
   "cell_type": "code",
   "execution_count": 9,
   "id": "c6dd5aa9-706d-464c-a465-6739edf3f8a3",
   "metadata": {},
   "outputs": [
    {
     "data": {
      "application/vnd.vegalite.v4+json": {
       "$schema": "https://vega.github.io/schema/vega-lite/v4.json",
       "data": {
        "values": [
         {
          "count": 6,
          "hi": 8.5,
          "lo": 7.8
         },
         {
          "count": 5,
          "hi": 16.2,
          "lo": 15.5
         },
         {
          "count": 4,
          "hi": 18.299999999999997,
          "lo": 17.6
         },
         {
          "count": 12,
          "hi": 14.1,
          "lo": 13.399999999999999
         },
         {
          "count": 11,
          "hi": 11.3,
          "lo": 10.6
         },
         {
          "count": 4,
          "hi": 19,
          "lo": 18.299999999999997
         },
         {
          "count": 7,
          "hi": 7.1,
          "lo": 6.4
         },
         {
          "count": 12,
          "hi": 10.6,
          "lo": 9.899999999999999
         },
         {
          "count": 2,
          "hi": 6.4,
          "lo": 5.7
         },
         {
          "count": 11,
          "hi": 12.7,
          "lo": 12
         },
         {
          "count": 3,
          "hi": 17.6,
          "lo": 16.9
         },
         {
          "count": 8,
          "hi": 13.399999999999999,
          "lo": 12.7
         },
         {
          "count": 1,
          "hi": 5.7,
          "lo": 5
         },
         {
          "count": 5,
          "hi": 15.5,
          "lo": 14.799999999999999
         },
         {
          "count": 9,
          "hi": 9.2,
          "lo": 8.5
         }
        ]
       },
       "encoding": {
        "x": {
         "bin": {
          "binned": "true",
          "step": 0.7
         },
         "field": "lo"
        },
        "x2": {
         "field": "hi"
        },
        "y": {
         "field": "count",
         "type": "quantitative"
        }
       },
       "mark": "bar"
      },
      "image/png": "[encoded data removed]",
      "text/plain": [
       "[{\"lo\": 7.8, \"hi\": 8.5, \"count\": 6}, {\"lo\": 15.5, \"hi\": 16.2, \"count\": 5}, {\"lo\": 17.6, \"hi\": 18.299999999999997, \"count\": 4}, {\"lo\": 13.399999999999999, \"hi\": 14.1, \"count\": 12}, {\"lo\": 10.6, \"hi\": 11.3, \"count\": 11}, {\"lo\": 18.299999999999997, \"hi\": 19.0, \"count\": 4}, {\"lo\": 6.4, \"hi\": 7.1, \"count\": 7}, {\"lo\": 9.899999999999999, \"hi\": 10.6, \"count\": 12}, {\"lo\": 5.7, \"hi\": 6.4, \"count\": 2}, {\"lo\": 12.0, \"hi\": 12.7, \"count\": 11}, {\"lo\": 16.9, \"hi\": 17.6, \"count\": 3}, {\"lo\": 12.7, \"hi\": 13.399999999999999, \"count\": 8}, {\"lo\": 5.0, \"hi\": 5.7, \"count\": 1}, {\"lo\": 14.799999999999999, \"hi\": 15.5, \"count\": 5}, {\"lo\": 8.5, \"hi\": 9.2, \"count\": 9}]"
      ]
     },
     "metadata": {},
     "output_type": "display_data"
    },
    {
     "data": {
      "application/vnd.vegalite.v4+json": {
       "$schema": "https://vega.github.io/schema/vega-lite/v4.json",
       "data": {
        "values": [
         {
          "count": 3,
          "hi": 22,
          "lo": 20.2
         },
         {
          "count": 4,
          "hi": 41.8,
          "lo": 40
         },
         {
          "count": 9,
          "hi": 31,
          "lo": 29.2
         },
         {
          "count": 1,
          "hi": 47.2,
          "lo": 45.4
         },
         {
          "count": 8,
          "hi": 36.400000000000006,
          "lo": 34.6
         },
         {
          "count": 7,
          "hi": 20.2,
          "lo": 18.4
         },
         {
          "count": 9,
          "hi": 29.2,
          "lo": 27.4
         },
         {
          "count": 1,
          "hi": 49,
          "lo": 47.2
         },
         {
          "count": 4,
          "hi": 18.4,
          "lo": 16.6
         },
         {
          "count": 7,
          "hi": 38.2,
          "lo": 36.400000000000006
         },
         {
          "count": 7,
          "hi": 27.4,
          "lo": 25.6
         },
         {
          "count": 1,
          "hi": 16.6,
          "lo": 14.8
         },
         {
          "count": 16,
          "hi": 32.8,
          "lo": 31
         },
         {
          "count": 4,
          "hi": 25.6,
          "lo": 23.8
         },
         {
          "count": 1,
          "hi": 45.4,
          "lo": 43.6
         },
         {
          "count": 8,
          "hi": 34.6,
          "lo": 32.8
         },
         {
          "count": 1,
          "hi": 14.8,
          "lo": 13
         },
         {
          "count": 3,
          "hi": 40,
          "lo": 38.2
         },
         {
          "count": 6,
          "hi": 23.8,
          "lo": 22
         }
        ]
       },
       "encoding": {
        "x": {
         "bin": {
          "binned": "true",
          "step": 1.8
         },
         "field": "lo"
        },
        "x2": {
         "field": "hi"
        },
        "y": {
         "field": "count",
         "type": "quantitative"
        }
       },
       "mark": "bar"
      },
      "image/png": "[encoded data removed]",
      "text/plain": [
       "[{\"lo\": 20.2, \"hi\": 22.0, \"count\": 3}, {\"lo\": 40.0, \"hi\": 41.8, \"count\": 4}, {\"lo\": 29.2, \"hi\": 31.0, \"count\": 9}, {\"lo\": 45.4, \"hi\": 47.2, \"count\": 1}, {\"lo\": 34.6, \"hi\": 36.400000000000006, \"count\": 8}, {\"lo\": 18.4, \"hi\": 20.2, \"count\": 7}, {\"lo\": 27.4, \"hi\": 29.2, \"count\": 9}, {\"lo\": 47.2, \"hi\": 49.0, \"count\": 1}, {\"lo\": 16.6, \"hi\": 18.4, \"count\": 4}, {\"lo\": 36.400000000000006, \"hi\": 38.2, \"count\": 7}, {\"lo\": 25.6, \"hi\": 27.4, \"count\": 7}, {\"lo\": 14.8, \"hi\": 16.6, \"count\": 1}, {\"lo\": 31.0, \"hi\": 32.8, \"count\": 16}, {\"lo\": 23.8, \"hi\": 25.6, \"count\": 4}, {\"lo\": 43.6, \"hi\": 45.4, \"count\": 1}, {\"lo\": 32.8, \"hi\": 34.6, \"count\": 8}, {\"lo\": 13.0, \"hi\": 14.8, \"count\": 1}, {\"lo\": 38.2, \"hi\": 40.0, \"count\": 3}, {\"lo\": 22.0, \"hi\": 23.8, \"count\": 6}]"
      ]
     },
     "metadata": {},
     "output_type": "display_data"
    },
    {
     "data": {
      "application/vnd.vegalite.v4+json": {
       "$schema": "https://vega.github.io/schema/vega-lite/v4.json",
       "data": {
        "values": [
         {
          "count": 5,
          "hi": 286.6,
          "lo": 282.5
         },
         {
          "count": 13,
          "hi": 262,
          "lo": 257.9
         },
         {
          "count": 12,
          "hi": 274.3,
          "lo": 270.2
         },
         {
          "count": 1,
          "hi": 237.4,
          "lo": 233.3
         },
         {
          "count": 4,
          "hi": 257.9,
          "lo": 253.8
         },
         {
          "count": 3,
          "hi": 303,
          "lo": 298.9
         },
         {
          "count": 11,
          "hi": 278.4,
          "lo": 274.3
         },
         {
          "count": 1,
          "hi": 290.7,
          "lo": 286.6
         },
         {
          "count": 3,
          "hi": 253.8,
          "lo": 249.7
         },
         {
          "count": 16,
          "hi": 266.1,
          "lo": 262
         },
         {
          "count": 2,
          "hi": 249.7,
          "lo": 245.6
         },
         {
          "count": 2,
          "hi": 294.8,
          "lo": 290.7
         },
         {
          "count": 13,
          "hi": 270.2,
          "lo": 266.1
         },
         {
          "count": 1,
          "hi": 225.1,
          "lo": 221
         },
         {
          "count": 8,
          "hi": 282.5,
          "lo": 278.4
         },
         {
          "count": 5,
          "hi": 245.6,
          "lo": 241.5
         }
        ]
       },
       "encoding": {
        "x": {
         "bin": {
          "binned": "true",
          "step": 4.1
         },
         "field": "lo"
        },
        "x2": {
         "field": "hi"
        },
        "y": {
         "field": "count",
         "type": "quantitative"
        }
       },
       "mark": "bar"
      },
      "image/png": "[encoded data removed]",
      "text/plain": [
       "[{\"lo\": 282.5, \"hi\": 286.6, \"count\": 5}, {\"lo\": 257.9, \"hi\": 262.0, \"count\": 13}, {\"lo\": 270.2, \"hi\": 274.3, \"count\": 12}, {\"lo\": 233.3, \"hi\": 237.4, \"count\": 1}, {\"lo\": 253.8, \"hi\": 257.9, \"count\": 4}, {\"lo\": 298.9, \"hi\": 303.0, \"count\": 3}, {\"lo\": 274.3, \"hi\": 278.4, \"count\": 11}, {\"lo\": 286.6, \"hi\": 290.7, \"count\": 1}, {\"lo\": 249.7, \"hi\": 253.8, \"count\": 3}, {\"lo\": 262.0, \"hi\": 266.1, \"count\": 16}, {\"lo\": 245.6, \"hi\": 249.7, \"count\": 2}, {\"lo\": 290.7, \"hi\": 294.8, \"count\": 2}, {\"lo\": 266.1, \"hi\": 270.2, \"count\": 13}, {\"lo\": 221.0, \"hi\": 225.1, \"count\": 1}, {\"lo\": 278.4, \"hi\": 282.5, \"count\": 8}, {\"lo\": 241.5, \"hi\": 245.6, \"count\": 5}]"
      ]
     },
     "metadata": {},
     "output_type": "display_data"
    }
   ],
   "source": [
    "histogram(sample(model1.I at max(data.time) + 7, 100), 20)\n",
    "histogram(sample(model2.I at max(data.time) + 7, 100), 20)\n",
    "histogram(sample(model3.I at max(data.time) + 7, 100), 20)"
   ]
  },
  {
   "cell_type": "code",
   "execution_count": null,
   "id": "a30d464e-41f5-4d3f-9227-71dd159f02a5",
   "metadata": {},
   "outputs": [],
   "source": []
  }
 ],
 "metadata": {
  "kernelspec": {
   "display_name": "ASKE-E",
   "language": "",
   "name": "askee_kernel"
  },
  "language_info": {
   "file_extension": ".txt",
   "mimetype": "text/plain",
   "name": "Any text"
  }
 },
 "nbformat": 4,
 "nbformat_minor": 5
}
