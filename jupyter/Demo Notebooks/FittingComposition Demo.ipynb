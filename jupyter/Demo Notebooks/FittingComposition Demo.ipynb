{
 "cells": [
  {
   "cell_type": "code",
   "execution_count": 1,
   "id": "b3764c22-3f69-44a2-ad6e-4db181dd72e8",
   "metadata": {},
   "outputs": [],
   "source": [
    "define sir\n",
    "    let beta = 0.4\n",
    "    let gamma = 0.04\n",
    "    \n",
    "\n",
    "    let S = 997.0\n",
    "    let I = 3.0\n",
    "    let R = 0.0\n",
    "\n",
    "    let N = S + I + R\n",
    "\n",
    "\n",
    "    beta/N,  S + I --> 2I\n",
    "    gamma,   I     --> R\n",
    "end"
   ]
  },
  {
   "cell_type": "code",
   "execution_count": 2,
   "id": "8f590324-c154-4f39-88cb-7fb7078e84b7",
   "metadata": {},
   "outputs": [],
   "source": [
    "observed = loadCSV(\"data/i_data2.csv\")"
   ]
  },
  {
   "cell_type": "code",
   "execution_count": 3,
   "id": "651c6f25-bcf3-409c-ad0f-5da8651a53ae",
   "metadata": {},
   "outputs": [],
   "source": [
    "sir_vals = simulate(sir at time(observed))"
   ]
  },
  {
   "cell_type": "code",
   "execution_count": 4,
   "id": "f58f7313-2f91-4a5a-9e45-78b800966e8c",
   "metadata": {},
   "outputs": [
    {
     "data": {
      "application/vnd.vegalite.v4+json": {
       "$schema": "https://vega.github.io/schema/vega-lite/v4.json",
       "data": {
        "values": [
         {
          "I Observed": 4,
          "series": "I Observed",
          "time": 1
         },
         {
          "SIR I Prediction": 4.418487934230179,
          "series": "SIR I Prediction",
          "time": 1
         },
         {
          "I Observed": 7,
          "series": "I Observed",
          "time": 2
         },
         {
          "SIR I Prediction": 6.229371572383639,
          "series": "SIR I Prediction",
          "time": 2
         },
         {
          "I Observed": 11,
          "series": "I Observed",
          "time": 3
         },
         {
          "SIR I Prediction": 8.774345192738343,
          "series": "SIR I Prediction",
          "time": 3
         },
         {
          "I Observed": 14,
          "series": "I Observed",
          "time": 4
         },
         {
          "SIR I Prediction": 12.879516569677136,
          "series": "SIR I Prediction",
          "time": 4
         },
         {
          "I Observed": 30,
          "series": "I Observed",
          "time": 5
         },
         {
          "SIR I Prediction": 18.08019129913844,
          "series": "SIR I Prediction",
          "time": 5
         },
         {
          "I Observed": 49,
          "series": "I Observed",
          "time": 6
         },
         {
          "SIR I Prediction": 25.31404920025552,
          "series": "SIR I Prediction",
          "time": 6
         },
         {
          "I Observed": 72,
          "series": "I Observed",
          "time": 7
         },
         {
          "SIR I Prediction": 36.80126888768918,
          "series": "SIR I Prediction",
          "time": 7
         },
         {
          "I Observed": 90,
          "series": "I Observed",
          "time": 8
         },
         {
          "SIR I Prediction": 51.04078608940395,
          "series": "SIR I Prediction",
          "time": 8
         },
         {
          "I Observed": 183,
          "series": "I Observed",
          "time": 9
         },
         {
          "SIR I Prediction": 70.28584682234487,
          "series": "SIR I Prediction",
          "time": 9
         },
         {
          "I Observed": 207,
          "series": "I Observed",
          "time": 10
         },
         {
          "SIR I Prediction": 99.57195528025423,
          "series": "SIR I Prediction",
          "time": 10
         },
         {
          "I Observed": 285,
          "series": "I Observed",
          "time": 11
         },
         {
          "SIR I Prediction": 133.84933582004993,
          "series": "SIR I Prediction",
          "time": 11
         },
         {
          "I Observed": 440,
          "series": "I Observed",
          "time": 12
         },
         {
          "SIR I Prediction": 176.92654551204518,
          "series": "SIR I Prediction",
          "time": 12
         },
         {
          "I Observed": 563,
          "series": "I Observed",
          "time": 13
         },
         {
          "SIR I Prediction": 236.14299609172232,
          "series": "SIR I Prediction",
          "time": 13
         },
         {
          "I Observed": 605,
          "series": "I Observed",
          "time": 14
         },
         {
          "SIR I Prediction": 297.1304991695017,
          "series": "SIR I Prediction",
          "time": 14
         },
         {
          "I Observed": 653,
          "series": "I Observed",
          "time": 15
         },
         {
          "SIR I Prediction": 363.22005948980404,
          "series": "SIR I Prediction",
          "time": 15
         },
         {
          "I Observed": 531,
          "series": "I Observed",
          "time": 16
         },
         {
          "SIR I Prediction": 438.66739105996874,
          "series": "SIR I Prediction",
          "time": 16
         },
         {
          "I Observed": 776,
          "series": "I Observed",
          "time": 17
         },
         {
          "SIR I Prediction": 501.6769904263858,
          "series": "SIR I Prediction",
          "time": 17
         },
         {
          "I Observed": 613,
          "series": "I Observed",
          "time": 18
         },
         {
          "SIR I Prediction": 556.6929159158909,
          "series": "SIR I Prediction",
          "time": 18
         },
         {
          "I Observed": 571,
          "series": "I Observed",
          "time": 19
         },
         {
          "SIR I Prediction": 605.8161391910161,
          "series": "SIR I Prediction",
          "time": 19
         },
         {
          "I Observed": 724,
          "series": "I Observed",
          "time": 20
         },
         {
          "SIR I Prediction": 637.1126083997148,
          "series": "SIR I Prediction",
          "time": 20
         },
         {
          "I Observed": 685,
          "series": "I Observed",
          "time": 21
         },
         {
          "SIR I Prediction": 657.2668079362353,
          "series": "SIR I Prediction",
          "time": 21
         },
         {
          "I Observed": 535,
          "series": "I Observed",
          "time": 22
         },
         {
          "SIR I Prediction": 668.3298291697349,
          "series": "SIR I Prediction",
          "time": 22
         },
         {
          "I Observed": 483,
          "series": "I Observed",
          "time": 23
         },
         {
          "SIR I Prediction": 669.7483243093892,
          "series": "SIR I Prediction",
          "time": 23
         },
         {
          "I Observed": 615,
          "series": "I Observed",
          "time": 24
         },
         {
          "SIR I Prediction": 665.0345364924989,
          "series": "SIR I Prediction",
          "time": 24
         },
         {
          "I Observed": 626,
          "series": "I Observed",
          "time": 25
         },
         {
          "SIR I Prediction": 654.2835299433658,
          "series": "SIR I Prediction",
          "time": 25
         },
         {
          "I Observed": 573,
          "series": "I Observed",
          "time": 26
         },
         {
          "SIR I Prediction": 641.2600047673318,
          "series": "SIR I Prediction",
          "time": 26
         },
         {
          "I Observed": 454,
          "series": "I Observed",
          "time": 27
         },
         {
          "SIR I Prediction": 625.9907416536597,
          "series": "SIR I Prediction",
          "time": 27
         },
         {
          "I Observed": 454,
          "series": "I Observed",
          "time": 28
         },
         {
          "SIR I Prediction": 607.0479224519166,
          "series": "SIR I Prediction",
          "time": 28
         },
         {
          "I Observed": 448,
          "series": "I Observed",
          "time": 29
         },
         {
          "SIR I Prediction": 589.2514952981578,
          "series": "SIR I Prediction",
          "time": 29
         },
         {
          "I Observed": 476,
          "series": "I Observed",
          "time": 30
         },
         {
          "SIR I Prediction": 570.9758695675845,
          "series": "SIR I Prediction",
          "time": 30
         },
         {
          "I Observed": 442,
          "series": "I Observed",
          "time": 31
         },
         {
          "SIR I Prediction": 550.207295346167,
          "series": "SIR I Prediction",
          "time": 31
         },
         {
          "I Observed": 462,
          "series": "I Observed",
          "time": 32
         },
         {
          "SIR I Prediction": 531.7944690237296,
          "series": "SIR I Prediction",
          "time": 32
         },
         {
          "I Observed": 470,
          "series": "I Observed",
          "time": 33
         },
         {
          "SIR I Prediction": 513.5836452554125,
          "series": "SIR I Prediction",
          "time": 33
         },
         {
          "I Observed": 358,
          "series": "I Observed",
          "time": 34
         },
         {
          "SIR I Prediction": 493.4684316165891,
          "series": "SIR I Prediction",
          "time": 34
         },
         {
          "I Observed": 328,
          "series": "I Observed",
          "time": 35
         },
         {
          "SIR I Prediction": 475.9991387374633,
          "series": "SIR I Prediction",
          "time": 35
         },
         {
          "I Observed": 339,
          "series": "I Observed",
          "time": 36
         },
         {
          "SIR I Prediction": 458.96741151608506,
          "series": "SIR I Prediction",
          "time": 36
         },
         {
          "I Observed": 439,
          "series": "I Observed",
          "time": 37
         },
         {
          "SIR I Prediction": 440.3683433028574,
          "series": "SIR I Prediction",
          "time": 37
         },
         {
          "I Observed": 324,
          "series": "I Observed",
          "time": 38
         },
         {
          "SIR I Prediction": 424.3554433435849,
          "series": "SIR I Prediction",
          "time": 38
         },
         {
          "I Observed": 273,
          "series": "I Observed",
          "time": 39
         },
         {
          "SIR I Prediction": 408.8411558525798,
          "series": "SIR I Prediction",
          "time": 39
         },
         {
          "I Observed": 344,
          "series": "I Observed",
          "time": 40
         },
         {
          "SIR I Prediction": 391.9864192497743,
          "series": "SIR I Prediction",
          "time": 40
         },
         {
          "I Observed": 355,
          "series": "I Observed",
          "time": 41
         },
         {
          "SIR I Prediction": 377.5338835391401,
          "series": "SIR I Prediction",
          "time": 41
         },
         {
          "I Observed": 308,
          "series": "I Observed",
          "time": 42
         },
         {
          "SIR I Prediction": 363.5733108994796,
          "series": "SIR I Prediction",
          "time": 42
         },
         {
          "I Observed": 286,
          "series": "I Observed",
          "time": 43
         },
         {
          "SIR I Prediction": 348.44491523788633,
          "series": "SIR I Prediction",
          "time": 43
         },
         {
          "I Observed": 248,
          "series": "I Observed",
          "time": 44
         },
         {
          "SIR I Prediction": 335.4990169239738,
          "series": "SIR I Prediction",
          "time": 44
         },
         {
          "I Observed": 263,
          "series": "I Observed",
          "time": 45
         },
         {
          "SIR I Prediction": 323.01305091747764,
          "series": "SIR I Prediction",
          "time": 45
         },
         {
          "I Observed": 230,
          "series": "I Observed",
          "time": 46
         },
         {
          "SIR I Prediction": 309.50058494312503,
          "series": "SIR I Prediction",
          "time": 46
         },
         {
          "I Observed": 265,
          "series": "I Observed",
          "time": 47
         },
         {
          "SIR I Prediction": 297.95006098381714,
          "series": "SIR I Prediction",
          "time": 47
         },
         {
          "I Observed": 277,
          "series": "I Observed",
          "time": 48
         },
         {
          "SIR I Prediction": 286.8192496225813,
          "series": "SIR I Prediction",
          "time": 48
         },
         {
          "I Observed": 242,
          "series": "I Observed",
          "time": 49
         },
         {
          "SIR I Prediction": 274.78222941227347,
          "series": "SIR I Prediction",
          "time": 49
         },
         {
          "I Observed": 206,
          "series": "I Observed",
          "time": 50
         },
         {
          "SIR I Prediction": 264.49923842409515,
          "series": "SIR I Prediction",
          "time": 50
         },
         {
          "I Observed": 239,
          "series": "I Observed",
          "time": 51
         },
         {
          "SIR I Prediction": 254.59467783081152,
          "series": "SIR I Prediction",
          "time": 51
         },
         {
          "I Observed": 187,
          "series": "I Observed",
          "time": 52
         },
         {
          "SIR I Prediction": 243.88834720133255,
          "series": "SIR I Prediction",
          "time": 52
         },
         {
          "I Observed": 210,
          "series": "I Observed",
          "time": 53
         },
         {
          "SIR I Prediction": 234.74546090685723,
          "series": "SIR I Prediction",
          "time": 53
         },
         {
          "I Observed": 189,
          "series": "I Observed",
          "time": 54
         },
         {
          "SIR I Prediction": 225.9415967887016,
          "series": "SIR I Prediction",
          "time": 54
         },
         {
          "I Observed": 216,
          "series": "I Observed",
          "time": 55
         },
         {
          "SIR I Prediction": 216.42755498204568,
          "series": "SIR I Prediction",
          "time": 55
         },
         {
          "I Observed": 204,
          "series": "I Observed",
          "time": 56
         },
         {
          "SIR I Prediction": 208.30466956038174,
          "series": "SIR I Prediction",
          "time": 56
         },
         {
          "I Observed": 202,
          "series": "I Observed",
          "time": 57
         },
         {
          "SIR I Prediction": 200.48440019337065,
          "series": "SIR I Prediction",
          "time": 57
         },
         {
          "I Observed": 178,
          "series": "I Observed",
          "time": 58
         },
         {
          "SIR I Prediction": 192.03469715614278,
          "series": "SIR I Prediction",
          "time": 58
         },
         {
          "I Observed": 184,
          "series": "I Observed",
          "time": 59
         },
         {
          "SIR I Prediction": 184.82155797666996,
          "series": "SIR I Prediction",
          "time": 59
         },
         {
          "I Observed": 129,
          "series": "I Observed",
          "time": 60
         },
         {
          "SIR I Prediction": 177.87795741984786,
          "series": "SIR I Prediction",
          "time": 60
         },
         {
          "I Observed": 179,
          "series": "I Observed",
          "time": 61
         },
         {
          "SIR I Prediction": 170.3762991724729,
          "series": "SIR I Prediction",
          "time": 61
         },
         {
          "I Observed": 146,
          "series": "I Observed",
          "time": 62
         },
         {
          "SIR I Prediction": 163.97307371136853,
          "series": "SIR I Prediction",
          "time": 62
         },
         {
          "I Observed": 144,
          "series": "I Observed",
          "time": 63
         },
         {
          "SIR I Prediction": 157.80960651757968,
          "series": "SIR I Prediction",
          "time": 63
         },
         {
          "I Observed": 125,
          "series": "I Observed",
          "time": 64
         },
         {
          "SIR I Prediction": 151.15127022112478,
          "series": "SIR I Prediction",
          "time": 64
         },
         {
          "I Observed": 126,
          "series": "I Observed",
          "time": 65
         },
         {
          "SIR I Prediction": 145.46825243426056,
          "series": "SIR I Prediction",
          "time": 65
         },
         {
          "I Observed": 106,
          "series": "I Observed",
          "time": 66
         },
         {
          "SIR I Prediction": 139.99832210740615,
          "series": "SIR I Prediction",
          "time": 66
         },
         {
          "I Observed": 117,
          "series": "I Observed",
          "time": 67
         },
         {
          "SIR I Prediction": 134.08950911807605,
          "series": "SIR I Prediction",
          "time": 67
         },
         {
          "I Observed": 94,
          "series": "I Observed",
          "time": 68
         },
         {
          "SIR I Prediction": 129.0464537881044,
          "series": "SIR I Prediction",
          "time": 68
         },
         {
          "I Observed": 108,
          "series": "I Observed",
          "time": 69
         },
         {
          "SIR I Prediction": 124.19267611941075,
          "series": "SIR I Prediction",
          "time": 69
         },
         {
          "I Observed": 114,
          "series": "I Observed",
          "time": 70
         },
         {
          "SIR I Prediction": 118.94964410782579,
          "series": "SIR I Prediction",
          "time": 70
         },
         {
          "I Observed": 109,
          "series": "I Observed",
          "time": 71
         },
         {
          "SIR I Prediction": 114.47496631868286,
          "series": "SIR I Prediction",
          "time": 71
         },
         {
          "I Observed": 91,
          "series": "I Observed",
          "time": 72
         },
         {
          "SIR I Prediction": 110.16835307914864,
          "series": "SIR I Prediction",
          "time": 72
         },
         {
          "I Observed": 80,
          "series": "I Observed",
          "time": 73
         },
         {
          "SIR I Prediction": 105.51648957359549,
          "series": "SIR I Prediction",
          "time": 73
         },
         {
          "I Observed": 108,
          "series": "I Observed",
          "time": 74
         },
         {
          "SIR I Prediction": 101.54644144555814,
          "series": "SIR I Prediction",
          "time": 74
         },
         {
          "I Observed": 100,
          "series": "I Observed",
          "time": 75
         },
         {
          "SIR I Prediction": 97.72558281611917,
          "series": "SIR I Prediction",
          "time": 75
         },
         {
          "I Observed": 72,
          "series": "I Observed",
          "time": 76
         },
         {
          "SIR I Prediction": 93.5984972440858,
          "series": "SIR I Prediction",
          "time": 76
         },
         {
          "I Observed": 73,
          "series": "I Observed",
          "time": 77
         },
         {
          "SIR I Prediction": 90.07637475903215,
          "series": "SIR I Prediction",
          "time": 77
         },
         {
          "I Observed": 86,
          "series": "I Observed",
          "time": 78
         },
         {
          "SIR I Prediction": 86.68666165980571,
          "series": "SIR I Prediction",
          "time": 78
         },
         {
          "I Observed": 74,
          "series": "I Observed",
          "time": 79
         },
         {
          "SIR I Prediction": 83.02533113107216,
          "series": "SIR I Prediction",
          "time": 79
         },
         {
          "I Observed": 60,
          "series": "I Observed",
          "time": 80
         },
         {
          "SIR I Prediction": 79.90073456488797,
          "series": "SIR I Prediction",
          "time": 80
         },
         {
          "I Observed": 71,
          "series": "I Observed",
          "time": 81
         },
         {
          "SIR I Prediction": 76.8936385572449,
          "series": "SIR I Prediction",
          "time": 81
         },
         {
          "I Observed": 65,
          "series": "I Observed",
          "time": 82
         },
         {
          "SIR I Prediction": 73.64562170857955,
          "series": "SIR I Prediction",
          "time": 82
         },
         {
          "I Observed": 71,
          "series": "I Observed",
          "time": 83
         },
         {
          "SIR I Prediction": 70.87377846166494,
          "series": "SIR I Prediction",
          "time": 83
         },
         {
          "I Observed": 67,
          "series": "I Observed",
          "time": 84
         },
         {
          "SIR I Prediction": 68.20619506467571,
          "series": "SIR I Prediction",
          "time": 84
         },
         {
          "I Observed": 61,
          "series": "I Observed",
          "time": 85
         },
         {
          "SIR I Prediction": 65.32491773225576,
          "series": "SIR I Prediction",
          "time": 85
         },
         {
          "I Observed": 66,
          "series": "I Observed",
          "time": 86
         },
         {
          "SIR I Prediction": 62.86606892578165,
          "series": "SIR I Prediction",
          "time": 86
         },
         {
          "I Observed": 60,
          "series": "I Observed",
          "time": 87
         },
         {
          "SIR I Prediction": 60.49972424030157,
          "series": "SIR I Prediction",
          "time": 87
         },
         {
          "I Observed": 53,
          "series": "I Observed",
          "time": 88
         },
         {
          "SIR I Prediction": 57.94383545007566,
          "series": "SIR I Prediction",
          "time": 88
         },
         {
          "I Observed": 41,
          "series": "I Observed",
          "time": 89
         },
         {
          "SIR I Prediction": 55.762683978277146,
          "series": "SIR I Prediction",
          "time": 89
         },
         {
          "I Observed": 55,
          "series": "I Observed",
          "time": 90
         },
         {
          "SIR I Prediction": 53.66360160192258,
          "series": "SIR I Prediction",
          "time": 90
         },
         {
          "I Observed": 54,
          "series": "I Observed",
          "time": 91
         },
         {
          "SIR I Prediction": 51.39639583490915,
          "series": "SIR I Prediction",
          "time": 91
         },
         {
          "I Observed": 40,
          "series": "I Observed",
          "time": 92
         },
         {
          "SIR I Prediction": 49.46161184381239,
          "series": "SIR I Prediction",
          "time": 92
         },
         {
          "I Observed": 36,
          "series": "I Observed",
          "time": 93
         },
         {
          "SIR I Prediction": 47.59963574480275,
          "series": "SIR I Prediction",
          "time": 93
         },
         {
          "I Observed": 48,
          "series": "I Observed",
          "time": 94
         },
         {
          "SIR I Prediction": 45.58853634609427,
          "series": "SIR I Prediction",
          "time": 94
         },
         {
          "I Observed": 40,
          "series": "I Observed",
          "time": 95
         },
         {
          "SIR I Prediction": 43.872315423290324,
          "series": "SIR I Prediction",
          "time": 95
         },
         {
          "I Observed": 35,
          "series": "I Observed",
          "time": 96
         },
         {
          "SIR I Prediction": 42.220683969513054,
          "series": "SIR I Prediction",
          "time": 96
         },
         {
          "I Observed": 38,
          "series": "I Observed",
          "time": 97
         },
         {
          "SIR I Prediction": 40.43678224604435,
          "series": "SIR I Prediction",
          "time": 97
         },
         {
          "I Observed": 35,
          "series": "I Observed",
          "time": 98
         },
         {
          "SIR I Prediction": 38.914451466617756,
          "series": "SIR I Prediction",
          "time": 98
         },
         {
          "I Observed": 32,
          "series": "I Observed",
          "time": 99
         },
         {
          "SIR I Prediction": 37.44941777888078,
          "series": "SIR I Prediction",
          "time": 99
         },
         {
          "I Observed": 33,
          "series": "I Observed",
          "time": 100
         },
         {
          "SIR I Prediction": 35.86706240756403,
          "series": "SIR I Prediction",
          "time": 100
         },
         {
          "I Observed": 28,
          "series": "I Observed",
          "time": 101
         },
         {
          "SIR I Prediction": 34.51672952534019,
          "series": "SIR I Prediction",
          "time": 101
         },
         {
          "I Observed": 30,
          "series": "I Observed",
          "time": 102
         },
         {
          "SIR I Prediction": 33.217223524385055,
          "series": "SIR I Prediction",
          "time": 102
         },
         {
          "I Observed": 26,
          "series": "I Observed",
          "time": 103
         },
         {
          "SIR I Prediction": 31.813655170871105,
          "series": "SIR I Prediction",
          "time": 103
         },
         {
          "I Observed": 25,
          "series": "I Observed",
          "time": 104
         },
         {
          "SIR I Prediction": 30.615896528241688,
          "series": "SIR I Prediction",
          "time": 104
         },
         {
          "I Observed": 26,
          "series": "I Observed",
          "time": 105
         },
         {
          "SIR I Prediction": 29.463224355183176,
          "series": "SIR I Prediction",
          "time": 105
         },
         {
          "I Observed": 22,
          "series": "I Observed",
          "time": 106
         },
         {
          "SIR I Prediction": 28.218250775367054,
          "series": "SIR I Prediction",
          "time": 106
         },
         {
          "I Observed": 26,
          "series": "I Observed",
          "time": 107
         },
         {
          "SIR I Prediction": 27.155833850052648,
          "series": "SIR I Prediction",
          "time": 107
         },
         {
          "I Observed": 19,
          "series": "I Observed",
          "time": 108
         },
         {
          "SIR I Prediction": 26.133410694162933,
          "series": "SIR I Prediction",
          "time": 108
         },
         {
          "I Observed": 27,
          "series": "I Observed",
          "time": 109
         },
         {
          "SIR I Prediction": 25.02911799560067,
          "series": "SIR I Prediction",
          "time": 109
         },
         {
          "I Observed": 27,
          "series": "I Observed",
          "time": 110
         },
         {
          "SIR I Prediction": 24.086754865327702,
          "series": "SIR I Prediction",
          "time": 110
         },
         {
          "I Observed": 22,
          "series": "I Observed",
          "time": 111
         },
         {
          "SIR I Prediction": 23.179867595659474,
          "series": "SIR I Prediction",
          "time": 111
         },
         {
          "I Observed": 24,
          "series": "I Observed",
          "time": 112
         },
         {
          "SIR I Prediction": 22.200363741535867,
          "series": "SIR I Prediction",
          "time": 112
         },
         {
          "I Observed": 21,
          "series": "I Observed",
          "time": 113
         },
         {
          "SIR I Prediction": 21.364492104165464,
          "series": "SIR I Prediction",
          "time": 113
         },
         {
          "I Observed": 23,
          "series": "I Observed",
          "time": 114
         },
         {
          "SIR I Prediction": 20.5600884531525,
          "series": "SIR I Prediction",
          "time": 114
         },
         {
          "I Observed": 18,
          "series": "I Observed",
          "time": 115
         },
         {
          "SIR I Prediction": 19.69127547995307,
          "series": "SIR I Prediction",
          "time": 115
         },
         {
          "I Observed": 15,
          "series": "I Observed",
          "time": 116
         },
         {
          "SIR I Prediction": 18.949864204805223,
          "series": "SIR I Prediction",
          "time": 116
         },
         {
          "I Observed": 18,
          "series": "I Observed",
          "time": 117
         },
         {
          "SIR I Prediction": 18.236365582854674,
          "series": "SIR I Prediction",
          "time": 117
         },
         {
          "I Observed": 16,
          "series": "I Observed",
          "time": 118
         },
         {
          "SIR I Prediction": 17.465737365827056,
          "series": "SIR I Prediction",
          "time": 118
         },
         {
          "I Observed": 18,
          "series": "I Observed",
          "time": 119
         },
         {
          "SIR I Prediction": 16.808113865929677,
          "series": "SIR I Prediction",
          "time": 119
         },
         {
          "I Observed": 16,
          "series": "I Observed",
          "time": 120
         },
         {
          "SIR I Prediction": 16.1752491916694,
          "series": "SIR I Prediction",
          "time": 120
         }
        ]
       },
       "description": "",
       "height": 600,
       "layer": [
        {
         "encoding": {
          "color": {
           "field": "series",
           "type": "nominal"
          },
          "x": {
           "field": "time",
           "type": "quantitative"
          },
          "y": {
           "field": "I Observed",
           "type": "quantitative"
          }
         },
         "mark": "point"
        },
        {
         "encoding": {
          "color": {
           "field": "series",
           "type": "nominal"
          },
          "x": {
           "field": "time",
           "type": "quantitative"
          },
          "y": {
           "field": "SIR I Prediction",
           "type": "quantitative"
          }
         },
         "mark": "line"
        }
       ],
       "width": 800
      },
      "image/png": "[encoded data removed]"
     },
     "metadata": {},
     "output_type": "display_data"
    }
   ],
   "source": [
    "sir_I_series = series(value(sir_vals.I), \"SIR I Prediction\", {{ style = \"Lines\"}})\n",
    "observed_I_series = series(value(observed.I),  \"I Observed\", {{ style = \"points\"}})\n",
    "plot(\"SIR vs observed\", [observed_I_series, sir_I_series], time(observed), \"time\")"
   ]
  },
  {
   "cell_type": "code",
   "execution_count": 5,
   "id": "1ba17292-4bb2-4ff5-bc60-f30c0203c5c2",
   "metadata": {},
   "outputs": [],
   "source": [
    "sir_fit = fit(sir, {{time = time(observed), I = value(observed.I) }}, [\"beta\"])"
   ]
  },
  {
   "cell_type": "code",
   "execution_count": 6,
   "id": "f9fe37d0-6282-4c75-9224-01757fd3656b",
   "metadata": {},
   "outputs": [
    {
     "data": {
      "text/markdown": [
       "|Name|State/Param|Data Type|Value|\n",
       "|---|---|---|---|\n",
       "|I_init|parameter|Real|3.0|\n",
       "|R_init|parameter|Real|0.0|\n",
       "|S_init|parameter|Real|997.0|\n",
       "|beta|parameter|Real|0.4|\n",
       "|gamma|parameter|Real|4.0e-2|\n",
       "|I|state|Real|I_init|\n",
       "|R|state|Real|R_init|\n",
       "|S|state|Real|S_init|\n",
       "|N|state|Real|S + I + R|"
      ]
     },
     "metadata": {},
     "output_type": "display_data"
    },
    {
     "data": {
      "text/markdown": [
       "|Name|State/Param|Data Type|Value|\n",
       "|---|---|---|---|\n",
       "|I_init|parameter|Real|3.0|\n",
       "|R_init|parameter|Real|0.0|\n",
       "|S_init|parameter|Real|997.0|\n",
       "|beta|parameter|Real|0.5155188699774484|\n",
       "|gamma|parameter|Real|4.0e-2|\n",
       "|I|state|Real|I_init|\n",
       "|R|state|Real|R_init|\n",
       "|S|state|Real|S_init|\n",
       "|N|state|Real|S + I + R|"
      ]
     },
     "metadata": {},
     "output_type": "display_data"
    }
   ],
   "source": [
    "describeModel(sir)\n",
    "sir_withFit = withParams(sir, sir_fit.values)\n",
    "describeModel(sir_withFit)"
   ]
  },
  {
   "cell_type": "code",
   "execution_count": 7,
   "id": "e87365e8-0f97-4651-bf8c-ce07bd188c45",
   "metadata": {},
   "outputs": [
    {
     "data": {
      "application/vnd.vegalite.v4+json": {
       "$schema": "https://vega.github.io/schema/vega-lite/v4.json",
       "data": {
        "values": [
         {
          "I Observed": 4,
          "series": "I Observed",
          "time": 1
         },
         {
          "SIR I Prediction": 4.418487934230179,
          "series": "SIR I Prediction",
          "time": 1
         },
         {
          "Fit SIR I Prediction": 5.0025555613444785,
          "series": "Fit SIR I Prediction",
          "time": 1
         },
         {
          "I Observed": 7,
          "series": "I Observed",
          "time": 2
         },
         {
          "SIR I Prediction": 6.229371572383639,
          "series": "SIR I Prediction",
          "time": 2
         },
         {
          "Fit SIR I Prediction": 7.8709215857702475,
          "series": "Fit SIR I Prediction",
          "time": 2
         },
         {
          "I Observed": 11,
          "series": "I Observed",
          "time": 3
         },
         {
          "SIR I Prediction": 8.774345192738343,
          "series": "SIR I Prediction",
          "time": 3
         },
         {
          "Fit SIR I Prediction": 12.359907576790345,
          "series": "Fit SIR I Prediction",
          "time": 3
         },
         {
          "I Observed": 14,
          "series": "I Observed",
          "time": 4
         },
         {
          "SIR I Prediction": 12.879516569677136,
          "series": "SIR I Prediction",
          "time": 4
         },
         {
          "Fit SIR I Prediction": 20.459506226090603,
          "series": "Fit SIR I Prediction",
          "time": 4
         },
         {
          "I Observed": 30,
          "series": "I Observed",
          "time": 5
         },
         {
          "SIR I Prediction": 18.08019129913844,
          "series": "SIR I Prediction",
          "time": 5
         },
         {
          "Fit SIR I Prediction": 31.856379239200376,
          "series": "Fit SIR I Prediction",
          "time": 5
         },
         {
          "I Observed": 49,
          "series": "I Observed",
          "time": 6
         },
         {
          "SIR I Prediction": 25.31404920025552,
          "series": "SIR I Prediction",
          "time": 6
         },
         {
          "Fit SIR I Prediction": 49.224399340246904,
          "series": "Fit SIR I Prediction",
          "time": 6
         },
         {
          "I Observed": 72,
          "series": "I Observed",
          "time": 7
         },
         {
          "SIR I Prediction": 36.80126888768918,
          "series": "SIR I Prediction",
          "time": 7
         },
         {
          "Fit SIR I Prediction": 79.19190636434995,
          "series": "Fit SIR I Prediction",
          "time": 7
         },
         {
          "I Observed": 90,
          "series": "I Observed",
          "time": 8
         },
         {
          "SIR I Prediction": 51.04078608940395,
          "series": "SIR I Prediction",
          "time": 8
         },
         {
          "Fit SIR I Prediction": 118.60459552813505,
          "series": "Fit SIR I Prediction",
          "time": 8
         },
         {
          "I Observed": 183,
          "series": "I Observed",
          "time": 9
         },
         {
          "SIR I Prediction": 70.28584682234487,
          "series": "SIR I Prediction",
          "time": 9
         },
         {
          "Fit SIR I Prediction": 173.17226270637138,
          "series": "Fit SIR I Prediction",
          "time": 9
         },
         {
          "I Observed": 207,
          "series": "I Observed",
          "time": 10
         },
         {
          "SIR I Prediction": 99.57195528025423,
          "series": "SIR I Prediction",
          "time": 10
         },
         {
          "Fit SIR I Prediction": 254.29123320230775,
          "series": "Fit SIR I Prediction",
          "time": 10
         },
         {
          "I Observed": 285,
          "series": "I Observed",
          "time": 11
         },
         {
          "SIR I Prediction": 133.84933582004993,
          "series": "SIR I Prediction",
          "time": 11
         },
         {
          "Fit SIR I Prediction": 341.34482739632733,
          "series": "Fit SIR I Prediction",
          "time": 11
         },
         {
          "I Observed": 440,
          "series": "I Observed",
          "time": 12
         },
         {
          "SIR I Prediction": 176.92654551204518,
          "series": "SIR I Prediction",
          "time": 12
         },
         {
          "Fit SIR I Prediction": 435.14316830571437,
          "series": "Fit SIR I Prediction",
          "time": 12
         },
         {
          "I Observed": 563,
          "series": "I Observed",
          "time": 13
         },
         {
          "SIR I Prediction": 236.14299609172232,
          "series": "SIR I Prediction",
          "time": 13
         },
         {
          "Fit SIR I Prediction": 535.9414725991851,
          "series": "Fit SIR I Prediction",
          "time": 13
         },
         {
          "I Observed": 605,
          "series": "I Observed",
          "time": 14
         },
         {
          "SIR I Prediction": 297.1304991695017,
          "series": "SIR I Prediction",
          "time": 14
         },
         {
          "Fit SIR I Prediction": 610.8137142654103,
          "series": "Fit SIR I Prediction",
          "time": 14
         },
         {
          "I Observed": 653,
          "series": "I Observed",
          "time": 15
         },
         {
          "SIR I Prediction": 363.22005948980404,
          "series": "SIR I Prediction",
          "time": 15
         },
         {
          "Fit SIR I Prediction": 666.2269936967099,
          "series": "Fit SIR I Prediction",
          "time": 15
         },
         {
          "I Observed": 531,
          "series": "I Observed",
          "time": 16
         },
         {
          "SIR I Prediction": 438.66739105996874,
          "series": "SIR I Prediction",
          "time": 16
         },
         {
          "Fit SIR I Prediction": 704.7733937262149,
          "series": "Fit SIR I Prediction",
          "time": 16
         },
         {
          "I Observed": 776,
          "series": "I Observed",
          "time": 17
         },
         {
          "SIR I Prediction": 501.6769904263858,
          "series": "SIR I Prediction",
          "time": 17
         },
         {
          "Fit SIR I Prediction": 720.9199654484165,
          "series": "Fit SIR I Prediction",
          "time": 17
         },
         {
          "I Observed": 613,
          "series": "I Observed",
          "time": 18
         },
         {
          "SIR I Prediction": 556.6929159158909,
          "series": "SIR I Prediction",
          "time": 18
         },
         {
          "Fit SIR I Prediction": 724.0703365710982,
          "series": "Fit SIR I Prediction",
          "time": 18
         },
         {
          "I Observed": 571,
          "series": "I Observed",
          "time": 19
         },
         {
          "SIR I Prediction": 605.8161391910161,
          "series": "SIR I Prediction",
          "time": 19
         },
         {
          "Fit SIR I Prediction": 716.6756793077302,
          "series": "Fit SIR I Prediction",
          "time": 19
         },
         {
          "I Observed": 724,
          "series": "I Observed",
          "time": 20
         },
         {
          "SIR I Prediction": 637.1126083997148,
          "series": "SIR I Prediction",
          "time": 20
         },
         {
          "Fit SIR I Prediction": 703.6471657343947,
          "series": "Fit SIR I Prediction",
          "time": 20
         },
         {
          "I Observed": 685,
          "series": "I Observed",
          "time": 21
         },
         {
          "SIR I Prediction": 657.2668079362353,
          "series": "SIR I Prediction",
          "time": 21
         },
         {
          "Fit SIR I Prediction": 686.7928660173728,
          "series": "Fit SIR I Prediction",
          "time": 21
         },
         {
          "I Observed": 535,
          "series": "I Observed",
          "time": 22
         },
         {
          "SIR I Prediction": 668.3298291697349,
          "series": "SIR I Prediction",
          "time": 22
         },
         {
          "Fit SIR I Prediction": 665.1064872688032,
          "series": "Fit SIR I Prediction",
          "time": 22
         },
         {
          "I Observed": 483,
          "series": "I Observed",
          "time": 23
         },
         {
          "SIR I Prediction": 669.7483243093892,
          "series": "SIR I Prediction",
          "time": 23
         },
         {
          "Fit SIR I Prediction": 644.5147559458836,
          "series": "Fit SIR I Prediction",
          "time": 23
         },
         {
          "I Observed": 615,
          "series": "I Observed",
          "time": 24
         },
         {
          "SIR I Prediction": 665.0345364924989,
          "series": "SIR I Prediction",
          "time": 24
         },
         {
          "Fit SIR I Prediction": 623.3753267715634,
          "series": "Fit SIR I Prediction",
          "time": 24
         },
         {
          "I Observed": 626,
          "series": "I Observed",
          "time": 25
         },
         {
          "SIR I Prediction": 654.2835299433658,
          "series": "SIR I Prediction",
          "time": 25
         },
         {
          "Fit SIR I Prediction": 599.4712299449299,
          "series": "Fit SIR I Prediction",
          "time": 25
         },
         {
          "I Observed": 573,
          "series": "I Observed",
          "time": 26
         },
         {
          "SIR I Prediction": 641.2600047673318,
          "series": "SIR I Prediction",
          "time": 26
         },
         {
          "Fit SIR I Prediction": 578.4209402126993,
          "series": "Fit SIR I Prediction",
          "time": 26
         },
         {
          "I Observed": 454,
          "series": "I Observed",
          "time": 27
         },
         {
          "SIR I Prediction": 625.9907416536597,
          "series": "SIR I Prediction",
          "time": 27
         },
         {
          "Fit SIR I Prediction": 557.7409481636688,
          "series": "Fit SIR I Prediction",
          "time": 27
         },
         {
          "I Observed": 454,
          "series": "I Observed",
          "time": 28
         },
         {
          "SIR I Prediction": 607.0479224519166,
          "series": "SIR I Prediction",
          "time": 28
         },
         {
          "Fit SIR I Prediction": 535.0543010395825,
          "series": "Fit SIR I Prediction",
          "time": 28
         },
         {
          "I Observed": 448,
          "series": "I Observed",
          "time": 29
         },
         {
          "SIR I Prediction": 589.2514952981578,
          "series": "SIR I Prediction",
          "time": 29
         },
         {
          "Fit SIR I Prediction": 515.4753067045609,
          "series": "Fit SIR I Prediction",
          "time": 29
         },
         {
          "I Observed": 476,
          "series": "I Observed",
          "time": 30
         },
         {
          "SIR I Prediction": 570.9758695675845,
          "series": "SIR I Prediction",
          "time": 30
         },
         {
          "Fit SIR I Prediction": 496.48730607547685,
          "series": "Fit SIR I Prediction",
          "time": 30
         },
         {
          "I Observed": 442,
          "series": "I Observed",
          "time": 31
         },
         {
          "SIR I Prediction": 550.207295346167,
          "series": "SIR I Prediction",
          "time": 31
         },
         {
          "Fit SIR I Prediction": 475.8540111717293,
          "series": "Fit SIR I Prediction",
          "time": 31
         },
         {
          "I Observed": 462,
          "series": "I Observed",
          "time": 32
         },
         {
          "SIR I Prediction": 531.7944690237296,
          "series": "SIR I Prediction",
          "time": 32
         },
         {
          "Fit SIR I Prediction": 458.1660863743637,
          "series": "Fit SIR I Prediction",
          "time": 32
         },
         {
          "I Observed": 470,
          "series": "I Observed",
          "time": 33
         },
         {
          "SIR I Prediction": 513.5836452554125,
          "series": "SIR I Prediction",
          "time": 33
         },
         {
          "Fit SIR I Prediction": 441.0890102734965,
          "series": "Fit SIR I Prediction",
          "time": 33
         },
         {
          "I Observed": 358,
          "series": "I Observed",
          "time": 34
         },
         {
          "SIR I Prediction": 493.4684316165891,
          "series": "SIR I Prediction",
          "time": 34
         },
         {
          "Fit SIR I Prediction": 422.5962035579909,
          "series": "Fit SIR I Prediction",
          "time": 34
         },
         {
          "I Observed": 328,
          "series": "I Observed",
          "time": 35
         },
         {
          "SIR I Prediction": 475.9991387374633,
          "series": "SIR I Prediction",
          "time": 35
         },
         {
          "Fit SIR I Prediction": 406.78325888831506,
          "series": "Fit SIR I Prediction",
          "time": 35
         },
         {
          "I Observed": 339,
          "series": "I Observed",
          "time": 36
         },
         {
          "SIR I Prediction": 458.96741151608506,
          "series": "SIR I Prediction",
          "time": 36
         },
         {
          "Fit SIR I Prediction": 391.5431936496267,
          "series": "Fit SIR I Prediction",
          "time": 36
         },
         {
          "I Observed": 439,
          "series": "I Observed",
          "time": 37
         },
         {
          "SIR I Prediction": 440.3683433028574,
          "series": "SIR I Prediction",
          "time": 37
         },
         {
          "Fit SIR I Prediction": 375.0626652465991,
          "series": "Fit SIR I Prediction",
          "time": 37
         },
         {
          "I Observed": 324,
          "series": "I Observed",
          "time": 38
         },
         {
          "SIR I Prediction": 424.3554433435849,
          "series": "SIR I Prediction",
          "time": 38
         },
         {
          "Fit SIR I Prediction": 360.98520336582544,
          "series": "Fit SIR I Prediction",
          "time": 38
         },
         {
          "I Observed": 273,
          "series": "I Observed",
          "time": 39
         },
         {
          "SIR I Prediction": 408.8411558525798,
          "series": "SIR I Prediction",
          "time": 39
         },
         {
          "Fit SIR I Prediction": 347.4279379863062,
          "series": "Fit SIR I Prediction",
          "time": 39
         },
         {
          "I Observed": 344,
          "series": "I Observed",
          "time": 40
         },
         {
          "SIR I Prediction": 391.9864192497743,
          "series": "SIR I Prediction",
          "time": 40
         },
         {
          "Fit SIR I Prediction": 332.77615808111227,
          "series": "Fit SIR I Prediction",
          "time": 40
         },
         {
          "I Observed": 355,
          "series": "I Observed",
          "time": 41
         },
         {
          "SIR I Prediction": 377.5338835391401,
          "series": "SIR I Prediction",
          "time": 41
         },
         {
          "Fit SIR I Prediction": 320.2667280299704,
          "series": "Fit SIR I Prediction",
          "time": 41
         },
         {
          "I Observed": 308,
          "series": "I Observed",
          "time": 42
         },
         {
          "SIR I Prediction": 363.5733108994796,
          "series": "SIR I Prediction",
          "time": 42
         },
         {
          "Fit SIR I Prediction": 308.2237394510834,
          "series": "Fit SIR I Prediction",
          "time": 42
         },
         {
          "I Observed": 286,
          "series": "I Observed",
          "time": 43
         },
         {
          "SIR I Prediction": 348.44491523788633,
          "series": "SIR I Prediction",
          "time": 43
         },
         {
          "Fit SIR I Prediction": 295.21226404258516,
          "series": "Fit SIR I Prediction",
          "time": 43
         },
         {
          "I Observed": 248,
          "series": "I Observed",
          "time": 44
         },
         {
          "SIR I Prediction": 335.4990169239738,
          "series": "SIR I Prediction",
          "time": 44
         },
         {
          "Fit SIR I Prediction": 284.10585147329033,
          "series": "Fit SIR I Prediction",
          "time": 44
         },
         {
          "I Observed": 263,
          "series": "I Observed",
          "time": 45
         },
         {
          "SIR I Prediction": 323.01305091747764,
          "series": "SIR I Prediction",
          "time": 45
         },
         {
          "Fit SIR I Prediction": 273.41540719597964,
          "series": "Fit SIR I Prediction",
          "time": 45
         },
         {
          "I Observed": 230,
          "series": "I Observed",
          "time": 46
         },
         {
          "SIR I Prediction": 309.50058494312503,
          "series": "SIR I Prediction",
          "time": 46
         },
         {
          "Fit SIR I Prediction": 261.86694180592735,
          "series": "Fit SIR I Prediction",
          "time": 46
         },
         {
          "I Observed": 265,
          "series": "I Observed",
          "time": 47
         },
         {
          "SIR I Prediction": 297.95006098381714,
          "series": "SIR I Prediction",
          "time": 47
         },
         {
          "Fit SIR I Prediction": 252.01050417497038,
          "series": "Fit SIR I Prediction",
          "time": 47
         },
         {
          "I Observed": 277,
          "series": "I Observed",
          "time": 48
         },
         {
          "SIR I Prediction": 286.8192496225813,
          "series": "SIR I Prediction",
          "time": 48
         },
         {
          "Fit SIR I Prediction": 242.52407956744636,
          "series": "Fit SIR I Prediction",
          "time": 48
         },
         {
          "I Observed": 242,
          "series": "I Observed",
          "time": 49
         },
         {
          "SIR I Prediction": 274.78222941227347,
          "series": "SIR I Prediction",
          "time": 49
         },
         {
          "Fit SIR I Prediction": 232.27707571456665,
          "series": "Fit SIR I Prediction",
          "time": 49
         },
         {
          "I Observed": 206,
          "series": "I Observed",
          "time": 50
         },
         {
          "SIR I Prediction": 264.49923842409515,
          "series": "SIR I Prediction",
          "time": 50
         },
         {
          "Fit SIR I Prediction": 223.53198228982964,
          "series": "Fit SIR I Prediction",
          "time": 50
         },
         {
          "I Observed": 239,
          "series": "I Observed",
          "time": 51
         },
         {
          "SIR I Prediction": 254.59467783081152,
          "series": "SIR I Prediction",
          "time": 51
         },
         {
          "Fit SIR I Prediction": 215.1156056314985,
          "series": "Fit SIR I Prediction",
          "time": 51
         },
         {
          "I Observed": 187,
          "series": "I Observed",
          "time": 52
         },
         {
          "SIR I Prediction": 243.88834720133255,
          "series": "SIR I Prediction",
          "time": 52
         },
         {
          "Fit SIR I Prediction": 206.02484556280152,
          "series": "Fit SIR I Prediction",
          "time": 52
         },
         {
          "I Observed": 210,
          "series": "I Observed",
          "time": 53
         },
         {
          "SIR I Prediction": 234.74546090685723,
          "series": "SIR I Prediction",
          "time": 53
         },
         {
          "Fit SIR I Prediction": 198.26681307551647,
          "series": "Fit SIR I Prediction",
          "time": 53
         },
         {
          "I Observed": 189,
          "series": "I Observed",
          "time": 54
         },
         {
          "SIR I Prediction": 225.9415967887016,
          "series": "SIR I Prediction",
          "time": 54
         },
         {
          "Fit SIR I Prediction": 190.80061421137376,
          "series": "Fit SIR I Prediction",
          "time": 54
         },
         {
          "I Observed": 216,
          "series": "I Observed",
          "time": 55
         },
         {
          "SIR I Prediction": 216.42755498204568,
          "series": "SIR I Prediction",
          "time": 55
         },
         {
          "Fit SIR I Prediction": 182.7363794604158,
          "series": "Fit SIR I Prediction",
          "time": 55
         },
         {
          "I Observed": 204,
          "series": "I Observed",
          "time": 56
         },
         {
          "SIR I Prediction": 208.30466956038174,
          "series": "SIR I Prediction",
          "time": 56
         },
         {
          "Fit SIR I Prediction": 175.85453484630406,
          "series": "Fit SIR I Prediction",
          "time": 56
         },
         {
          "I Observed": 202,
          "series": "I Observed",
          "time": 57
         },
         {
          "SIR I Prediction": 200.48440019337065,
          "series": "SIR I Prediction",
          "time": 57
         },
         {
          "Fit SIR I Prediction": 169.23168267780008,
          "series": "Fit SIR I Prediction",
          "time": 57
         },
         {
          "I Observed": 178,
          "series": "I Observed",
          "time": 58
         },
         {
          "SIR I Prediction": 192.03469715614278,
          "series": "SIR I Prediction",
          "time": 58
         },
         {
          "Fit SIR I Prediction": 162.07846200650562,
          "series": "Fit SIR I Prediction",
          "time": 58
         },
         {
          "I Observed": 184,
          "series": "I Observed",
          "time": 59
         },
         {
          "SIR I Prediction": 184.82155797666996,
          "series": "SIR I Prediction",
          "time": 59
         },
         {
          "Fit SIR I Prediction": 155.97414239418814,
          "series": "Fit SIR I Prediction",
          "time": 59
         },
         {
          "I Observed": 129,
          "series": "I Observed",
          "time": 60
         },
         {
          "SIR I Prediction": 177.87795741984786,
          "series": "SIR I Prediction",
          "time": 60
         },
         {
          "Fit SIR I Prediction": 150.09962014088586,
          "series": "Fit SIR I Prediction",
          "time": 60
         },
         {
          "I Observed": 179,
          "series": "I Observed",
          "time": 61
         },
         {
          "SIR I Prediction": 170.3762991724729,
          "series": "SIR I Prediction",
          "time": 61
         },
         {
          "Fit SIR I Prediction": 143.7547227441239,
          "series": "Fit SIR I Prediction",
          "time": 61
         },
         {
          "I Observed": 146,
          "series": "I Observed",
          "time": 62
         },
         {
          "SIR I Prediction": 163.97307371136853,
          "series": "SIR I Prediction",
          "time": 62
         },
         {
          "Fit SIR I Prediction": 138.34024814546913,
          "series": "Fit SIR I Prediction",
          "time": 62
         },
         {
          "I Observed": 144,
          "series": "I Observed",
          "time": 63
         },
         {
          "SIR I Prediction": 157.80960651757968,
          "series": "SIR I Prediction",
          "time": 63
         },
         {
          "Fit SIR I Prediction": 133.12964024649216,
          "series": "Fit SIR I Prediction",
          "time": 63
         },
         {
          "I Observed": 125,
          "series": "I Observed",
          "time": 64
         },
         {
          "SIR I Prediction": 151.15127022112478,
          "series": "SIR I Prediction",
          "time": 64
         },
         {
          "Fit SIR I Prediction": 127.50185577450156,
          "series": "Fit SIR I Prediction",
          "time": 64
         },
         {
          "I Observed": 126,
          "series": "I Observed",
          "time": 65
         },
         {
          "SIR I Prediction": 145.46825243426056,
          "series": "SIR I Prediction",
          "time": 65
         },
         {
          "Fit SIR I Prediction": 122.69936489636927,
          "series": "Fit SIR I Prediction",
          "time": 65
         },
         {
          "I Observed": 106,
          "series": "I Observed",
          "time": 66
         },
         {
          "SIR I Prediction": 139.99832210740615,
          "series": "SIR I Prediction",
          "time": 66
         },
         {
          "Fit SIR I Prediction": 118.0777213296381,
          "series": "Fit SIR I Prediction",
          "time": 66
         },
         {
          "I Observed": 117,
          "series": "I Observed",
          "time": 67
         },
         {
          "SIR I Prediction": 134.08950911807605,
          "series": "SIR I Prediction",
          "time": 67
         },
         {
          "Fit SIR I Prediction": 113.08607882613049,
          "series": "Fit SIR I Prediction",
          "time": 67
         },
         {
          "I Observed": 94,
          "series": "I Observed",
          "time": 68
         },
         {
          "SIR I Prediction": 129.0464537881044,
          "series": "SIR I Prediction",
          "time": 68
         },
         {
          "Fit SIR I Prediction": 108.82645980263226,
          "series": "Fit SIR I Prediction",
          "time": 68
         },
         {
          "I Observed": 108,
          "series": "I Observed",
          "time": 69
         },
         {
          "SIR I Prediction": 124.19267611941075,
          "series": "SIR I Prediction",
          "time": 69
         },
         {
          "Fit SIR I Prediction": 104.72725942765325,
          "series": "Fit SIR I Prediction",
          "time": 69
         },
         {
          "I Observed": 114,
          "series": "I Observed",
          "time": 70
         },
         {
          "SIR I Prediction": 118.94964410782579,
          "series": "SIR I Prediction",
          "time": 70
         },
         {
          "Fit SIR I Prediction": 100.29990036600101,
          "series": "Fit SIR I Prediction",
          "time": 70
         },
         {
          "I Observed": 109,
          "series": "I Observed",
          "time": 71
         },
         {
          "SIR I Prediction": 114.47496631868286,
          "series": "SIR I Prediction",
          "time": 71
         },
         {
          "Fit SIR I Prediction": 96.52182383543193,
          "series": "Fit SIR I Prediction",
          "time": 71
         },
         {
          "I Observed": 91,
          "series": "I Observed",
          "time": 72
         },
         {
          "SIR I Prediction": 110.16835307914864,
          "series": "SIR I Prediction",
          "time": 72
         },
         {
          "Fit SIR I Prediction": 92.88603991352055,
          "series": "Fit SIR I Prediction",
          "time": 72
         },
         {
          "I Observed": 80,
          "series": "I Observed",
          "time": 73
         },
         {
          "SIR I Prediction": 105.51648957359549,
          "series": "SIR I Prediction",
          "time": 73
         },
         {
          "Fit SIR I Prediction": 88.95920506792129,
          "series": "Fit SIR I Prediction",
          "time": 73
         },
         {
          "I Observed": 108,
          "series": "I Observed",
          "time": 74
         },
         {
          "SIR I Prediction": 101.54644144555814,
          "series": "SIR I Prediction",
          "time": 74
         },
         {
          "Fit SIR I Prediction": 85.60825684472526,
          "series": "Fit SIR I Prediction",
          "time": 74
         },
         {
          "I Observed": 100,
          "series": "I Observed",
          "time": 75
         },
         {
          "SIR I Prediction": 97.72558281611917,
          "series": "SIR I Prediction",
          "time": 75
         },
         {
          "Fit SIR I Prediction": 82.38352024360496,
          "series": "Fit SIR I Prediction",
          "time": 75
         },
         {
          "I Observed": 72,
          "series": "I Observed",
          "time": 76
         },
         {
          "SIR I Prediction": 93.5984972440858,
          "series": "SIR I Prediction",
          "time": 76
         },
         {
          "Fit SIR I Prediction": 78.90064382143755,
          "series": "Fit SIR I Prediction",
          "time": 76
         },
         {
          "I Observed": 73,
          "series": "I Observed",
          "time": 77
         },
         {
          "SIR I Prediction": 90.07637475903215,
          "series": "SIR I Prediction",
          "time": 77
         },
         {
          "Fit SIR I Prediction": 75.92855035368159,
          "series": "Fit SIR I Prediction",
          "time": 77
         },
         {
          "I Observed": 86,
          "series": "I Observed",
          "time": 78
         },
         {
          "SIR I Prediction": 86.68666165980571,
          "series": "SIR I Prediction",
          "time": 78
         },
         {
          "Fit SIR I Prediction": 73.06840299459593,
          "series": "Fit SIR I Prediction",
          "time": 78
         },
         {
          "I Observed": 74,
          "series": "I Observed",
          "time": 79
         },
         {
          "SIR I Prediction": 83.02533113107216,
          "series": "SIR I Prediction",
          "time": 79
         },
         {
          "Fit SIR I Prediction": 69.97930515396953,
          "series": "Fit SIR I Prediction",
          "time": 79
         },
         {
          "I Observed": 60,
          "series": "I Observed",
          "time": 80
         },
         {
          "SIR I Prediction": 79.90073456488797,
          "series": "SIR I Prediction",
          "time": 80
         },
         {
          "Fit SIR I Prediction": 67.34324360051299,
          "series": "Fit SIR I Prediction",
          "time": 80
         },
         {
          "I Observed": 71,
          "series": "I Observed",
          "time": 81
         },
         {
          "SIR I Prediction": 76.8936385572449,
          "series": "SIR I Prediction",
          "time": 81
         },
         {
          "Fit SIR I Prediction": 64.80647384624694,
          "series": "Fit SIR I Prediction",
          "time": 81
         },
         {
          "I Observed": 65,
          "series": "I Observed",
          "time": 82
         },
         {
          "SIR I Prediction": 73.64562170857955,
          "series": "SIR I Prediction",
          "time": 82
         },
         {
          "Fit SIR I Prediction": 62.066642209639106,
          "series": "Fit SIR I Prediction",
          "time": 82
         },
         {
          "I Observed": 71,
          "series": "I Observed",
          "time": 83
         },
         {
          "SIR I Prediction": 70.87377846166494,
          "series": "SIR I Prediction",
          "time": 83
         },
         {
          "Fit SIR I Prediction": 59.72862682313483,
          "series": "Fit SIR I Prediction",
          "time": 83
         },
         {
          "I Observed": 67,
          "series": "I Observed",
          "time": 84
         },
         {
          "SIR I Prediction": 68.20619506467571,
          "series": "SIR I Prediction",
          "time": 84
         },
         {
          "Fit SIR I Prediction": 57.47867857762969,
          "series": "Fit SIR I Prediction",
          "time": 84
         },
         {
          "I Observed": 61,
          "series": "I Observed",
          "time": 85
         },
         {
          "SIR I Prediction": 65.32491773225576,
          "series": "SIR I Prediction",
          "time": 85
         },
         {
          "Fit SIR I Prediction": 55.04862963318014,
          "series": "Fit SIR I Prediction",
          "time": 85
         },
         {
          "I Observed": 66,
          "series": "I Observed",
          "time": 86
         },
         {
          "SIR I Prediction": 62.86606892578165,
          "series": "SIR I Prediction",
          "time": 86
         },
         {
          "Fit SIR I Prediction": 52.97496651746664,
          "series": "Fit SIR I Prediction",
          "time": 86
         },
         {
          "I Observed": 60,
          "series": "I Observed",
          "time": 87
         },
         {
          "SIR I Prediction": 60.49972424030157,
          "series": "SIR I Prediction",
          "time": 87
         },
         {
          "Fit SIR I Prediction": 50.97941428280198,
          "series": "Fit SIR I Prediction",
          "time": 87
         },
         {
          "I Observed": 53,
          "series": "I Observed",
          "time": 88
         },
         {
          "SIR I Prediction": 57.94383545007566,
          "series": "SIR I Prediction",
          "time": 88
         },
         {
          "Fit SIR I Prediction": 48.82412618003074,
          "series": "Fit SIR I Prediction",
          "time": 88
         },
         {
          "I Observed": 41,
          "series": "I Observed",
          "time": 89
         },
         {
          "SIR I Prediction": 55.762683978277146,
          "series": "SIR I Prediction",
          "time": 89
         },
         {
          "Fit SIR I Prediction": 46.98492908821344,
          "series": "Fit SIR I Prediction",
          "time": 89
         },
         {
          "I Observed": 55,
          "series": "I Observed",
          "time": 90
         },
         {
          "SIR I Prediction": 53.66360160192258,
          "series": "SIR I Prediction",
          "time": 90
         },
         {
          "Fit SIR I Prediction": 45.21501185502262,
          "series": "Fit SIR I Prediction",
          "time": 90
         },
         {
          "I Observed": 54,
          "series": "I Observed",
          "time": 91
         },
         {
          "SIR I Prediction": 51.39639583490915,
          "series": "SIR I Prediction",
          "time": 91
         },
         {
          "Fit SIR I Prediction": 43.30342083550835,
          "series": "Fit SIR I Prediction",
          "time": 91
         },
         {
          "I Observed": 40,
          "series": "I Observed",
          "time": 92
         },
         {
          "SIR I Prediction": 49.46161184381239,
          "series": "SIR I Prediction",
          "time": 92
         },
         {
          "Fit SIR I Prediction": 41.67218133933889,
          "series": "Fit SIR I Prediction",
          "time": 92
         },
         {
          "I Observed": 36,
          "series": "I Observed",
          "time": 93
         },
         {
          "SIR I Prediction": 47.59963574480275,
          "series": "SIR I Prediction",
          "time": 93
         },
         {
          "Fit SIR I Prediction": 40.102388855164534,
          "series": "Fit SIR I Prediction",
          "time": 93
         },
         {
          "I Observed": 48,
          "series": "I Observed",
          "time": 94
         },
         {
          "SIR I Prediction": 45.58853634609427,
          "series": "SIR I Prediction",
          "time": 94
         },
         {
          "Fit SIR I Prediction": 38.40694230898995,
          "series": "Fit SIR I Prediction",
          "time": 94
         },
         {
          "I Observed": 40,
          "series": "I Observed",
          "time": 95
         },
         {
          "SIR I Prediction": 43.872315423290324,
          "series": "SIR I Prediction",
          "time": 95
         },
         {
          "Fit SIR I Prediction": 36.960148330957246,
          "series": "Fit SIR I Prediction",
          "time": 95
         },
         {
          "I Observed": 35,
          "series": "I Observed",
          "time": 96
         },
         {
          "SIR I Prediction": 42.220683969513054,
          "series": "SIR I Prediction",
          "time": 96
         },
         {
          "Fit SIR I Prediction": 35.56785394281869,
          "series": "Fit SIR I Prediction",
          "time": 96
         },
         {
          "I Observed": 38,
          "series": "I Observed",
          "time": 97
         },
         {
          "SIR I Prediction": 40.43678224604435,
          "series": "SIR I Prediction",
          "time": 97
         },
         {
          "Fit SIR I Prediction": 34.064113801059584,
          "series": "Fit SIR I Prediction",
          "time": 97
         },
         {
          "I Observed": 35,
          "series": "I Observed",
          "time": 98
         },
         {
          "SIR I Prediction": 38.914451466617756,
          "series": "SIR I Prediction",
          "time": 98
         },
         {
          "Fit SIR I Prediction": 32.78091112593288,
          "series": "Fit SIR I Prediction",
          "time": 98
         },
         {
          "I Observed": 32,
          "series": "I Observed",
          "time": 99
         },
         {
          "SIR I Prediction": 37.44941777888078,
          "series": "SIR I Prediction",
          "time": 99
         },
         {
          "Fit SIR I Prediction": 31.54604600398613,
          "series": "Fit SIR I Prediction",
          "time": 99
         },
         {
          "I Observed": 33,
          "series": "I Observed",
          "time": 100
         },
         {
          "SIR I Prediction": 35.86706240756403,
          "series": "SIR I Prediction",
          "time": 100
         },
         {
          "Fit SIR I Prediction": 30.212336845735074,
          "series": "Fit SIR I Prediction",
          "time": 100
         },
         {
          "I Observed": 28,
          "series": "I Observed",
          "time": 101
         },
         {
          "SIR I Prediction": 34.51672952534019,
          "series": "SIR I Prediction",
          "time": 101
         },
         {
          "Fit SIR I Prediction": 29.074228804954974,
          "series": "Fit SIR I Prediction",
          "time": 101
         },
         {
          "I Observed": 30,
          "series": "I Observed",
          "time": 102
         },
         {
          "SIR I Prediction": 33.217223524385055,
          "series": "SIR I Prediction",
          "time": 102
         },
         {
          "Fit SIR I Prediction": 27.978992914102612,
          "series": "Fit SIR I Prediction",
          "time": 102
         },
         {
          "I Observed": 26,
          "series": "I Observed",
          "time": 103
         },
         {
          "SIR I Prediction": 31.813655170871105,
          "series": "SIR I Prediction",
          "time": 103
         },
         {
          "Fit SIR I Prediction": 26.7960897763358,
          "series": "Fit SIR I Prediction",
          "time": 103
         },
         {
          "I Observed": 25,
          "series": "I Observed",
          "time": 104
         },
         {
          "SIR I Prediction": 30.615896528241688,
          "series": "SIR I Prediction",
          "time": 104
         },
         {
          "Fit SIR I Prediction": 25.786670822760875,
          "series": "Fit SIR I Prediction",
          "time": 104
         },
         {
          "I Observed": 26,
          "series": "I Observed",
          "time": 105
         },
         {
          "SIR I Prediction": 29.463224355183176,
          "series": "SIR I Prediction",
          "time": 105
         },
         {
          "Fit SIR I Prediction": 24.81527651637897,
          "series": "Fit SIR I Prediction",
          "time": 105
         },
         {
          "I Observed": 22,
          "series": "I Observed",
          "time": 106
         },
         {
          "SIR I Prediction": 28.218250775367054,
          "series": "SIR I Prediction",
          "time": 106
         },
         {
          "Fit SIR I Prediction": 23.76612794583856,
          "series": "Fit SIR I Prediction",
          "time": 106
         },
         {
          "I Observed": 26,
          "series": "I Observed",
          "time": 107
         },
         {
          "SIR I Prediction": 27.155833850052648,
          "series": "SIR I Prediction",
          "time": 107
         },
         {
          "Fit SIR I Prediction": 22.870847308634545,
          "series": "Fit SIR I Prediction",
          "time": 107
         },
         {
          "I Observed": 19,
          "series": "I Observed",
          "time": 108
         },
         {
          "SIR I Prediction": 26.133410694162933,
          "series": "SIR I Prediction",
          "time": 108
         },
         {
          "Fit SIR I Prediction": 22.009291874822974,
          "series": "Fit SIR I Prediction",
          "time": 108
         },
         {
          "I Observed": 27,
          "series": "I Observed",
          "time": 109
         },
         {
          "SIR I Prediction": 25.02911799560067,
          "series": "SIR I Prediction",
          "time": 109
         },
         {
          "Fit SIR I Prediction": 21.078774255611016,
          "series": "Fit SIR I Prediction",
          "time": 109
         },
         {
          "I Observed": 27,
          "series": "I Observed",
          "time": 110
         },
         {
          "SIR I Prediction": 24.086754865327702,
          "series": "SIR I Prediction",
          "time": 110
         },
         {
          "Fit SIR I Prediction": 20.284726288395785,
          "series": "Fit SIR I Prediction",
          "time": 110
         },
         {
          "I Observed": 22,
          "series": "I Observed",
          "time": 111
         },
         {
          "SIR I Prediction": 23.179867595659474,
          "series": "SIR I Prediction",
          "time": 111
         },
         {
          "Fit SIR I Prediction": 19.520590187599513,
          "series": "Fit SIR I Prediction",
          "time": 111
         },
         {
          "I Observed": 24,
          "series": "I Observed",
          "time": 112
         },
         {
          "SIR I Prediction": 22.200363741535867,
          "series": "SIR I Prediction",
          "time": 112
         },
         {
          "Fit SIR I Prediction": 18.69528982039104,
          "series": "Fit SIR I Prediction",
          "time": 112
         },
         {
          "I Observed": 21,
          "series": "I Observed",
          "time": 113
         },
         {
          "SIR I Prediction": 21.364492104165464,
          "series": "SIR I Prediction",
          "time": 113
         },
         {
          "Fit SIR I Prediction": 17.99102803392151,
          "series": "Fit SIR I Prediction",
          "time": 113
         },
         {
          "I Observed": 23,
          "series": "I Observed",
          "time": 114
         },
         {
          "SIR I Prediction": 20.5600884531525,
          "series": "SIR I Prediction",
          "time": 114
         },
         {
          "Fit SIR I Prediction": 17.313295931353238,
          "series": "Fit SIR I Prediction",
          "time": 114
         },
         {
          "I Observed": 18,
          "series": "I Observed",
          "time": 115
         },
         {
          "SIR I Prediction": 19.69127547995307,
          "series": "SIR I Prediction",
          "time": 115
         },
         {
          "Fit SIR I Prediction": 16.581315734570566,
          "series": "Fit SIR I Prediction",
          "time": 115
         },
         {
          "I Observed": 15,
          "series": "I Observed",
          "time": 116
         },
         {
          "SIR I Prediction": 18.949864204805223,
          "series": "SIR I Prediction",
          "time": 116
         },
         {
          "Fit SIR I Prediction": 15.956687842353968,
          "series": "Fit SIR I Prediction",
          "time": 116
         },
         {
          "I Observed": 18,
          "series": "I Observed",
          "time": 117
         },
         {
          "SIR I Prediction": 18.236365582854674,
          "series": "SIR I Prediction",
          "time": 117
         },
         {
          "Fit SIR I Prediction": 15.355589863458146,
          "series": "Fit SIR I Prediction",
          "time": 117
         },
         {
          "I Observed": 16,
          "series": "I Observed",
          "time": 118
         },
         {
          "SIR I Prediction": 17.465737365827056,
          "series": "SIR I Prediction",
          "time": 118
         },
         {
          "Fit SIR I Prediction": 14.706377917979186,
          "series": "Fit SIR I Prediction",
          "time": 118
         },
         {
          "I Observed": 18,
          "series": "I Observed",
          "time": 119
         },
         {
          "SIR I Prediction": 16.808113865929677,
          "series": "SIR I Prediction",
          "time": 119
         },
         {
          "Fit SIR I Prediction": 14.1523795232337,
          "series": "Fit SIR I Prediction",
          "time": 119
         },
         {
          "I Observed": 16,
          "series": "I Observed",
          "time": 120
         },
         {
          "SIR I Prediction": 16.1752491916694,
          "series": "SIR I Prediction",
          "time": 120
         },
         {
          "Fit SIR I Prediction": 13.61925044943434,
          "series": "Fit SIR I Prediction",
          "time": 120
         }
        ]
       },
       "description": "",
       "height": 600,
       "layer": [
        {
         "encoding": {
          "color": {
           "field": "series",
           "type": "nominal"
          },
          "x": {
           "field": "time",
           "type": "quantitative"
          },
          "y": {
           "field": "I Observed",
           "type": "quantitative"
          }
         },
         "mark": "point"
        },
        {
         "encoding": {
          "color": {
           "field": "series",
           "type": "nominal"
          },
          "x": {
           "field": "time",
           "type": "quantitative"
          },
          "y": {
           "field": "SIR I Prediction",
           "type": "quantitative"
          }
         },
         "mark": "line"
        },
        {
         "encoding": {
          "color": {
           "field": "series",
           "type": "nominal"
          },
          "x": {
           "field": "time",
           "type": "quantitative"
          },
          "y": {
           "field": "Fit SIR I Prediction",
           "type": "quantitative"
          }
         },
         "mark": "line"
        }
       ],
       "width": 800
      },
      "image/png": "[encoded data removed]"
     },
     "metadata": {},
     "output_type": "display_data"
    }
   ],
   "source": [
    "sir_fit_vals = simulate(sir_withFit at time(observed))\n",
    "sir_fit_series = series(value(sir_fit_vals.I), \"Fit SIR I Prediction\", {{ style = \"Lines\" }})\n",
    "plot(\"SIR vs observed\", [observed_I_series, sir_I_series, sir_fit_series], time(observed), \"time\")"
   ]
  },
  {
   "cell_type": "code",
   "execution_count": 8,
   "id": "9326877b-5704-4440-a25d-0e06737bfcac",
   "metadata": {},
   "outputs": [],
   "source": [
    "seird = loadESL(\"models/seird_hosp.easel\")"
   ]
  },
  {
   "cell_type": "code",
   "execution_count": 9,
   "id": "71417af5-b5c4-4d4c-8e02-c6ce67bd7cab",
   "metadata": {},
   "outputs": [
    {
     "data": {
      "text/markdown": [
       "|Name|State/Param|Data Type|Value|\n",
       "|---|---|---|---|\n",
       "|beta|parameter|Real|0.8|\n",
       "|d|parameter|Real|5.0e-3|\n",
       "|dh|parameter|Real|5.0e-2|\n",
       "|di|parameter|Real|1.0e-2|\n",
       "|gamma|parameter|Real|0.333|\n",
       "|nu|parameter|Real|0.4|\n",
       "|pHosp|parameter|Real|0.2|\n",
       "|sigma|parameter|Real|0.6|\n",
       "|Dead|state|Real|0.0|\n",
       "|Exposed|state|Real|0.0|\n",
       "|Hospitalized|state|Real|0.0|\n",
       "|Infected|state|Real|1.0|\n",
       "|Recovered|state|Real|0.0|\n",
       "|Susceptible|state|Real|997.0|\n",
       "|population|state|Real|Susceptible + Recovered + Infected + Exposed + Hospitalized|"
      ]
     },
     "metadata": {},
     "output_type": "display_data"
    }
   ],
   "source": [
    "describeModel(seird)"
   ]
  },
  {
   "cell_type": "code",
   "execution_count": 10,
   "id": "2a417f30-ddfc-48b0-80a4-4c226495bff8",
   "metadata": {},
   "outputs": [
    {
     "data": {
      "text/markdown": [
       "|Name|State/Param|Data Type|Value|\n",
       "|---|---|---|---|\n",
       "|ep1_I_init|parameter|Real|3.0|\n",
       "|ep1_R_init|parameter|Real|0.0|\n",
       "|ep1_S_init|parameter|Real|997.0|\n",
       "|ep1_beta|parameter|Real|0.5155188699774484|\n",
       "|ep1_gamma|parameter|Real|4.0e-2|\n",
       "|ep2_beta|parameter|Real|0.8|\n",
       "|ep2_d|parameter|Real|5.0e-3|\n",
       "|ep2_dh|parameter|Real|5.0e-2|\n",
       "|ep2_di|parameter|Real|1.0e-2|\n",
       "|ep2_gamma|parameter|Real|0.333|\n",
       "|ep2_nu|parameter|Real|0.4|\n",
       "|ep2_pHosp|parameter|Real|0.2|\n",
       "|ep2_sigma|parameter|Real|0.6|\n",
       "|S|state|Real|ep1_S_init|\n",
       "|ep1_I|state|Real|ep1_I_init|\n",
       "|ep1_R|state|Real|ep1_R_init|\n",
       "|ep2_Dead|state|Real|0.0|\n",
       "|ep2_Exposed|state|Real|0.0|\n",
       "|ep2_Hospitalized|state|Real|0.0|\n",
       "|ep2_Infected|state|Real|1.0|\n",
       "|ep2_Recovered|state|Real|0.0|\n",
       "|ep1_N|state|Real|ep1_I + S + ep1_R|\n",
       "|ep2_population|state|Real|ep2_Recovered + ep2_Infected + ep2_Exposed + S + ep2_Hospitalized|"
      ]
     },
     "metadata": {},
     "output_type": "display_data"
    }
   ],
   "source": [
    "double_epidemic = \n",
    "  join([\"ep1_\", sir_withFit],\n",
    "       [\"ep2_\", seird],\n",
    "       [[\"S\", \"Susceptible\"]])\n",
    "describeModel(double_epidemic)\n"
   ]
  },
  {
   "cell_type": "code",
   "execution_count": 11,
   "id": "0f5389d7-9657-44a5-98c2-e6cee7ef8c13",
   "metadata": {},
   "outputs": [],
   "source": [
    "de_fit = fit(double_epidemic, {{time = time(observed), ep1_I = value(observed.I) }}, [\"ep2_beta\"])"
   ]
  },
  {
   "cell_type": "code",
   "execution_count": 12,
   "id": "da1096b1-5e66-4fe8-8ade-e88c9381ccf4",
   "metadata": {},
   "outputs": [
    {
     "data": {
      "text/markdown": [
       "|Name|State/Param|Data Type|Value|\n",
       "|---|---|---|---|\n",
       "|ep1_I_init|parameter|Real|3.0|\n",
       "|ep1_R_init|parameter|Real|0.0|\n",
       "|ep1_S_init|parameter|Real|997.0|\n",
       "|ep1_beta|parameter|Real|0.5155188699774484|\n",
       "|ep1_gamma|parameter|Real|4.0e-2|\n",
       "|ep2_beta|parameter|Real|2.1013797135428915|\n",
       "|ep2_d|parameter|Real|5.0e-3|\n",
       "|ep2_dh|parameter|Real|5.0e-2|\n",
       "|ep2_di|parameter|Real|1.0e-2|\n",
       "|ep2_gamma|parameter|Real|0.333|\n",
       "|ep2_nu|parameter|Real|0.4|\n",
       "|ep2_pHosp|parameter|Real|0.2|\n",
       "|ep2_sigma|parameter|Real|0.6|\n",
       "|S|state|Real|ep1_S_init|\n",
       "|ep1_I|state|Real|ep1_I_init|\n",
       "|ep1_R|state|Real|ep1_R_init|\n",
       "|ep2_Dead|state|Real|0.0|\n",
       "|ep2_Exposed|state|Real|0.0|\n",
       "|ep2_Hospitalized|state|Real|0.0|\n",
       "|ep2_Infected|state|Real|1.0|\n",
       "|ep2_Recovered|state|Real|0.0|\n",
       "|ep1_N|state|Real|ep1_I + S + ep1_R|\n",
       "|ep2_population|state|Real|ep2_Recovered + ep2_Infected + ep2_Exposed + S + ep2_Hospitalized|"
      ]
     },
     "metadata": {},
     "output_type": "display_data"
    }
   ],
   "source": [
    "de_withFit = withParams(double_epidemic, de_fit.values)\n",
    "describeModel(de_withFit)"
   ]
  },
  {
   "cell_type": "code",
   "execution_count": 13,
   "id": "12c33560-d033-4389-bc3c-501a60168a13",
   "metadata": {},
   "outputs": [],
   "source": [
    "de_sim = simulate(double_epidemic.ep1_I at time(observed))\n",
    "de_fit_sim = simulate(de_withFit.ep1_I at time(observed))"
   ]
  },
  {
   "cell_type": "code",
   "execution_count": 14,
   "id": "02c49d1c-4092-4fce-ba84-aa0f3a5554c1",
   "metadata": {},
   "outputs": [],
   "source": [
    "de_series = series(value(de_sim), \"Double Epidemic I Prediction\", {{style = \"lines\"}})\n",
    "de_fit_series = series(value(de_fit_sim), \"Double Epidemic I Prediction(Fit)\", {{style = \"lines\"}})"
   ]
  },
  {
   "cell_type": "code",
   "execution_count": 15,
   "id": "dbb627ef-38e5-48ba-a139-c902170f1319",
   "metadata": {},
   "outputs": [
    {
     "data": {
      "application/vnd.vegalite.v4+json": {
       "$schema": "https://vega.github.io/schema/vega-lite/v4.json",
       "data": {
        "values": [
         {
          "I Observed": 4,
          "series": "I Observed",
          "time": 1
         },
         {
          "Fit SIR I Prediction": 5.0025555613444785,
          "series": "Fit SIR I Prediction",
          "time": 1
         },
         {
          "Double Epidemic I Prediction(Fit)": 5.000994426024547,
          "series": "Double Epidemic I Prediction(Fit)",
          "time": 1
         },
         {
          "I Observed": 7,
          "series": "I Observed",
          "time": 2
         },
         {
          "Fit SIR I Prediction": 7.8709215857702475,
          "series": "Fit SIR I Prediction",
          "time": 2
         },
         {
          "Double Epidemic I Prediction(Fit)": 7.8650509500854,
          "series": "Double Epidemic I Prediction(Fit)",
          "time": 2
         },
         {
          "I Observed": 11,
          "series": "I Observed",
          "time": 3
         },
         {
          "Fit SIR I Prediction": 12.359907576790345,
          "series": "Fit SIR I Prediction",
          "time": 3
         },
         {
          "Double Epidemic I Prediction(Fit)": 12.344336635354304,
          "series": "Double Epidemic I Prediction(Fit)",
          "time": 3
         },
         {
          "I Observed": 14,
          "series": "I Observed",
          "time": 4
         },
         {
          "Fit SIR I Prediction": 20.459506226090603,
          "series": "Fit SIR I Prediction",
          "time": 4
         },
         {
          "Double Epidemic I Prediction(Fit)": 20.418574941257262,
          "series": "Double Epidemic I Prediction(Fit)",
          "time": 4
         },
         {
          "I Observed": 30,
          "series": "I Observed",
          "time": 5
         },
         {
          "Fit SIR I Prediction": 31.856379239200376,
          "series": "Fit SIR I Prediction",
          "time": 5
         },
         {
          "Double Epidemic I Prediction(Fit)": 31.764666106543345,
          "series": "Double Epidemic I Prediction(Fit)",
          "time": 5
         },
         {
          "I Observed": 49,
          "series": "I Observed",
          "time": 6
         },
         {
          "Fit SIR I Prediction": 49.224399340246904,
          "series": "Fit SIR I Prediction",
          "time": 6
         },
         {
          "Double Epidemic I Prediction(Fit)": 49.02490153591658,
          "series": "Double Epidemic I Prediction(Fit)",
          "time": 6
         },
         {
          "I Observed": 72,
          "series": "I Observed",
          "time": 7
         },
         {
          "Fit SIR I Prediction": 79.19190636434995,
          "series": "Fit SIR I Prediction",
          "time": 7
         },
         {
          "Double Epidemic I Prediction(Fit)": 78.72696592370745,
          "series": "Double Epidemic I Prediction(Fit)",
          "time": 7
         },
         {
          "I Observed": 90,
          "series": "I Observed",
          "time": 8
         },
         {
          "Fit SIR I Prediction": 118.60459552813505,
          "series": "Fit SIR I Prediction",
          "time": 8
         },
         {
          "Double Epidemic I Prediction(Fit)": 117.64294295687145,
          "series": "Double Epidemic I Prediction(Fit)",
          "time": 8
         },
         {
          "I Observed": 183,
          "series": "I Observed",
          "time": 9
         },
         {
          "Fit SIR I Prediction": 173.17226270637138,
          "series": "Fit SIR I Prediction",
          "time": 9
         },
         {
          "Double Epidemic I Prediction(Fit)": 171.24001407797323,
          "series": "Double Epidemic I Prediction(Fit)",
          "time": 9
         },
         {
          "I Observed": 207,
          "series": "I Observed",
          "time": 10
         },
         {
          "Fit SIR I Prediction": 254.29123320230775,
          "series": "Fit SIR I Prediction",
          "time": 10
         },
         {
          "Double Epidemic I Prediction(Fit)": 250.24638445747692,
          "series": "Double Epidemic I Prediction(Fit)",
          "time": 10
         },
         {
          "I Observed": 285,
          "series": "I Observed",
          "time": 11
         },
         {
          "Fit SIR I Prediction": 341.34482739632733,
          "series": "Fit SIR I Prediction",
          "time": 11
         },
         {
          "Double Epidemic I Prediction(Fit)": 333.96450365643193,
          "series": "Double Epidemic I Prediction(Fit)",
          "time": 11
         },
         {
          "I Observed": 440,
          "series": "I Observed",
          "time": 12
         },
         {
          "Fit SIR I Prediction": 435.14316830571437,
          "series": "Fit SIR I Prediction",
          "time": 12
         },
         {
          "Double Epidemic I Prediction(Fit)": 422.54178917179746,
          "series": "Double Epidemic I Prediction(Fit)",
          "time": 12
         },
         {
          "I Observed": 563,
          "series": "I Observed",
          "time": 13
         },
         {
          "Fit SIR I Prediction": 535.9414725991851,
          "series": "Fit SIR I Prediction",
          "time": 13
         },
         {
          "Double Epidemic I Prediction(Fit)": 514.9688869473824,
          "series": "Double Epidemic I Prediction(Fit)",
          "time": 13
         },
         {
          "I Observed": 605,
          "series": "I Observed",
          "time": 14
         },
         {
          "Fit SIR I Prediction": 610.8137142654103,
          "series": "Fit SIR I Prediction",
          "time": 14
         },
         {
          "Double Epidemic I Prediction(Fit)": 580.5680036141097,
          "series": "Double Epidemic I Prediction(Fit)",
          "time": 14
         },
         {
          "I Observed": 653,
          "series": "I Observed",
          "time": 15
         },
         {
          "Fit SIR I Prediction": 666.2269936967099,
          "series": "Fit SIR I Prediction",
          "time": 15
         },
         {
          "Double Epidemic I Prediction(Fit)": 625.9100639870572,
          "series": "Double Epidemic I Prediction(Fit)",
          "time": 15
         },
         {
          "I Observed": 531,
          "series": "I Observed",
          "time": 16
         },
         {
          "Fit SIR I Prediction": 704.7733937262149,
          "series": "Fit SIR I Prediction",
          "time": 16
         },
         {
          "Double Epidemic I Prediction(Fit)": 653.6024363554315,
          "series": "Double Epidemic I Prediction(Fit)",
          "time": 16
         },
         {
          "I Observed": 776,
          "series": "I Observed",
          "time": 17
         },
         {
          "Fit SIR I Prediction": 720.9199654484165,
          "series": "Fit SIR I Prediction",
          "time": 17
         },
         {
          "Double Epidemic I Prediction(Fit)": 661.6769655218411,
          "series": "Double Epidemic I Prediction(Fit)",
          "time": 17
         },
         {
          "I Observed": 613,
          "series": "I Observed",
          "time": 18
         },
         {
          "Fit SIR I Prediction": 724.0703365710982,
          "series": "Fit SIR I Prediction",
          "time": 18
         },
         {
          "Double Epidemic I Prediction(Fit)": 658.9494277565557,
          "series": "Double Epidemic I Prediction(Fit)",
          "time": 18
         },
         {
          "I Observed": 571,
          "series": "I Observed",
          "time": 19
         },
         {
          "Fit SIR I Prediction": 716.6756793077302,
          "series": "Fit SIR I Prediction",
          "time": 19
         },
         {
          "Double Epidemic I Prediction(Fit)": 647.8282262642296,
          "series": "Double Epidemic I Prediction(Fit)",
          "time": 19
         },
         {
          "I Observed": 724,
          "series": "I Observed",
          "time": 20
         },
         {
          "Fit SIR I Prediction": 703.6471657343947,
          "series": "Fit SIR I Prediction",
          "time": 20
         },
         {
          "Double Epidemic I Prediction(Fit)": 633.852459162347,
          "series": "Double Epidemic I Prediction(Fit)",
          "time": 20
         },
         {
          "I Observed": 685,
          "series": "I Observed",
          "time": 21
         },
         {
          "Fit SIR I Prediction": 686.7928660173728,
          "series": "Fit SIR I Prediction",
          "time": 21
         },
         {
          "Double Epidemic I Prediction(Fit)": 617.8506451436715,
          "series": "Double Epidemic I Prediction(Fit)",
          "time": 21
         },
         {
          "I Observed": 535,
          "series": "I Observed",
          "time": 22
         },
         {
          "Fit SIR I Prediction": 665.1064872688032,
          "series": "Fit SIR I Prediction",
          "time": 22
         },
         {
          "Double Epidemic I Prediction(Fit)": 598.6890174496034,
          "series": "Double Epidemic I Prediction(Fit)",
          "time": 22
         },
         {
          "I Observed": 483,
          "series": "I Observed",
          "time": 23
         },
         {
          "Fit SIR I Prediction": 644.5147559458836,
          "series": "Fit SIR I Prediction",
          "time": 23
         },
         {
          "Double Epidemic I Prediction(Fit)": 581.2648094615283,
          "series": "Double Epidemic I Prediction(Fit)",
          "time": 23
         },
         {
          "I Observed": 615,
          "series": "I Observed",
          "time": 24
         },
         {
          "Fit SIR I Prediction": 623.3753267715634,
          "series": "Fit SIR I Prediction",
          "time": 24
         },
         {
          "Double Epidemic I Prediction(Fit)": 563.8112773751325,
          "series": "Double Epidemic I Prediction(Fit)",
          "time": 24
         },
         {
          "I Observed": 626,
          "series": "I Observed",
          "time": 25
         },
         {
          "Fit SIR I Prediction": 599.4712299449299,
          "series": "Fit SIR I Prediction",
          "time": 25
         },
         {
          "Double Epidemic I Prediction(Fit)": 544.3671841327275,
          "series": "Double Epidemic I Prediction(Fit)",
          "time": 25
         },
         {
          "I Observed": 573,
          "series": "I Observed",
          "time": 26
         },
         {
          "Fit SIR I Prediction": 578.4209402126993,
          "series": "Fit SIR I Prediction",
          "time": 26
         },
         {
          "Double Epidemic I Prediction(Fit)": 527.3688373273167,
          "series": "Double Epidemic I Prediction(Fit)",
          "time": 26
         },
         {
          "I Observed": 454,
          "series": "I Observed",
          "time": 27
         },
         {
          "Fit SIR I Prediction": 557.7409481636688,
          "series": "Fit SIR I Prediction",
          "time": 27
         },
         {
          "Double Epidemic I Prediction(Fit)": 510.70173174486035,
          "series": "Double Epidemic I Prediction(Fit)",
          "time": 27
         },
         {
          "I Observed": 454,
          "series": "I Observed",
          "time": 28
         },
         {
          "Fit SIR I Prediction": 535.0543010395825,
          "series": "Fit SIR I Prediction",
          "time": 28
         },
         {
          "Double Epidemic I Prediction(Fit)": 492.389802334069,
          "series": "Double Epidemic I Prediction(Fit)",
          "time": 28
         },
         {
          "I Observed": 448,
          "series": "I Observed",
          "time": 29
         },
         {
          "Fit SIR I Prediction": 515.4753067045609,
          "series": "Fit SIR I Prediction",
          "time": 29
         },
         {
          "Double Epidemic I Prediction(Fit)": 476.52392967288176,
          "series": "Double Epidemic I Prediction(Fit)",
          "time": 29
         },
         {
          "I Observed": 476,
          "series": "I Observed",
          "time": 30
         },
         {
          "Fit SIR I Prediction": 496.48730607547685,
          "series": "Fit SIR I Prediction",
          "time": 30
         },
         {
          "Double Epidemic I Prediction(Fit)": 461.0561795999061,
          "series": "Double Epidemic I Prediction(Fit)",
          "time": 30
         },
         {
          "I Observed": 442,
          "series": "I Observed",
          "time": 31
         },
         {
          "Fit SIR I Prediction": 475.8540111717293,
          "series": "Fit SIR I Prediction",
          "time": 31
         },
         {
          "Double Epidemic I Prediction(Fit)": 444.136713717257,
          "series": "Double Epidemic I Prediction(Fit)",
          "time": 31
         },
         {
          "I Observed": 462,
          "series": "I Observed",
          "time": 32
         },
         {
          "Fit SIR I Prediction": 458.1660863743637,
          "series": "Fit SIR I Prediction",
          "time": 32
         },
         {
          "Double Epidemic I Prediction(Fit)": 429.5266331214654,
          "series": "Double Epidemic I Prediction(Fit)",
          "time": 32
         },
         {
          "I Observed": 470,
          "series": "I Observed",
          "time": 33
         },
         {
          "Fit SIR I Prediction": 441.0890102734965,
          "series": "Fit SIR I Prediction",
          "time": 33
         },
         {
          "Double Epidemic I Prediction(Fit)": 415.31932980347045,
          "series": "Double Epidemic I Prediction(Fit)",
          "time": 33
         },
         {
          "I Observed": 358,
          "series": "I Observed",
          "time": 34
         },
         {
          "Fit SIR I Prediction": 422.5962035579909,
          "series": "Fit SIR I Prediction",
          "time": 34
         },
         {
          "Double Epidemic I Prediction(Fit)": 399.81367740828716,
          "series": "Double Epidemic I Prediction(Fit)",
          "time": 34
         },
         {
          "I Observed": 328,
          "series": "I Observed",
          "time": 35
         },
         {
          "Fit SIR I Prediction": 406.78325888831506,
          "series": "Fit SIR I Prediction",
          "time": 35
         },
         {
          "Double Epidemic I Prediction(Fit)": 386.4505502696743,
          "series": "Double Epidemic I Prediction(Fit)",
          "time": 35
         },
         {
          "I Observed": 339,
          "series": "I Observed",
          "time": 36
         },
         {
          "Fit SIR I Prediction": 391.5431936496267,
          "series": "Fit SIR I Prediction",
          "time": 36
         },
         {
          "Double Epidemic I Prediction(Fit)": 373.47689298733235,
          "series": "Double Epidemic I Prediction(Fit)",
          "time": 36
         },
         {
          "I Observed": 439,
          "series": "I Observed",
          "time": 37
         },
         {
          "Fit SIR I Prediction": 375.0626652465991,
          "series": "Fit SIR I Prediction",
          "time": 37
         },
         {
          "Double Epidemic I Prediction(Fit)": 359.33955013514975,
          "series": "Double Epidemic I Prediction(Fit)",
          "time": 37
         },
         {
          "I Observed": 324,
          "series": "I Observed",
          "time": 38
         },
         {
          "Fit SIR I Prediction": 360.98520336582544,
          "series": "Fit SIR I Prediction",
          "time": 38
         },
         {
          "Double Epidemic I Prediction(Fit)": 347.1728554984994,
          "series": "Double Epidemic I Prediction(Fit)",
          "time": 38
         },
         {
          "I Observed": 273,
          "series": "I Observed",
          "time": 39
         },
         {
          "Fit SIR I Prediction": 347.4279379863062,
          "series": "Fit SIR I Prediction",
          "time": 39
         },
         {
          "Double Epidemic I Prediction(Fit)": 335.37514903119114,
          "series": "Double Epidemic I Prediction(Fit)",
          "time": 39
         },
         {
          "I Observed": 344,
          "series": "I Observed",
          "time": 40
         },
         {
          "Fit SIR I Prediction": 332.77615808111227,
          "series": "Fit SIR I Prediction",
          "time": 40
         },
         {
          "Double Epidemic I Prediction(Fit)": 322.5345928261817,
          "series": "Double Epidemic I Prediction(Fit)",
          "time": 40
         },
         {
          "I Observed": 355,
          "series": "I Observed",
          "time": 41
         },
         {
          "Fit SIR I Prediction": 320.2667280299704,
          "series": "Fit SIR I Prediction",
          "time": 41
         },
         {
          "Double Epidemic I Prediction(Fit)": 311.49618252494287,
          "series": "Double Epidemic I Prediction(Fit)",
          "time": 41
         },
         {
          "I Observed": 308,
          "series": "I Observed",
          "time": 42
         },
         {
          "Fit SIR I Prediction": 308.2237394510834,
          "series": "Fit SIR I Prediction",
          "time": 42
         },
         {
          "Double Epidemic I Prediction(Fit)": 300.80293644615307,
          "series": "Double Epidemic I Prediction(Fit)",
          "time": 42
         },
         {
          "I Observed": 286,
          "series": "I Observed",
          "time": 43
         },
         {
          "Fit SIR I Prediction": 295.21226404258516,
          "series": "Fit SIR I Prediction",
          "time": 43
         },
         {
          "Double Epidemic I Prediction(Fit)": 289.1756654777473,
          "series": "Double Epidemic I Prediction(Fit)",
          "time": 43
         },
         {
          "I Observed": 248,
          "series": "I Observed",
          "time": 44
         },
         {
          "Fit SIR I Prediction": 284.10585147329033,
          "series": "Fit SIR I Prediction",
          "time": 44
         },
         {
          "Double Epidemic I Prediction(Fit)": 279.189259680755,
          "series": "Double Epidemic I Prediction(Fit)",
          "time": 44
         },
         {
          "I Observed": 263,
          "series": "I Observed",
          "time": 45
         },
         {
          "Fit SIR I Prediction": 273.41540719597964,
          "series": "Fit SIR I Prediction",
          "time": 45
         },
         {
          "Double Epidemic I Prediction(Fit)": 269.52279495376166,
          "series": "Double Epidemic I Prediction(Fit)",
          "time": 45
         },
         {
          "I Observed": 230,
          "series": "I Observed",
          "time": 46
         },
         {
          "Fit SIR I Prediction": 261.86694180592735,
          "series": "Fit SIR I Prediction",
          "time": 46
         },
         {
          "Double Epidemic I Prediction(Fit)": 259.0202916174044,
          "series": "Double Epidemic I Prediction(Fit)",
          "time": 46
         },
         {
          "I Observed": 265,
          "series": "I Observed",
          "time": 47
         },
         {
          "Fit SIR I Prediction": 252.01050417497038,
          "series": "Fit SIR I Prediction",
          "time": 47
         },
         {
          "Double Epidemic I Prediction(Fit)": 250.00662023264232,
          "series": "Double Epidemic I Prediction(Fit)",
          "time": 47
         },
         {
          "I Observed": 277,
          "series": "I Observed",
          "time": 48
         },
         {
          "Fit SIR I Prediction": 242.52407956744636,
          "series": "Fit SIR I Prediction",
          "time": 48
         },
         {
          "Double Epidemic I Prediction(Fit)": 241.28745119992305,
          "series": "Double Epidemic I Prediction(Fit)",
          "time": 48
         },
         {
          "I Observed": 242,
          "series": "I Observed",
          "time": 49
         },
         {
          "Fit SIR I Prediction": 232.27707571456665,
          "series": "Fit SIR I Prediction",
          "time": 49
         },
         {
          "Double Epidemic I Prediction(Fit)": 231.82038413553852,
          "series": "Double Epidemic I Prediction(Fit)",
          "time": 49
         },
         {
          "I Observed": 206,
          "series": "I Observed",
          "time": 50
         },
         {
          "Fit SIR I Prediction": 223.53198228982964,
          "series": "Fit SIR I Prediction",
          "time": 50
         },
         {
          "Double Epidemic I Prediction(Fit)": 223.7003889724975,
          "series": "Double Epidemic I Prediction(Fit)",
          "time": 50
         },
         {
          "I Observed": 239,
          "series": "I Observed",
          "time": 51
         },
         {
          "Fit SIR I Prediction": 215.1156056314985,
          "series": "Fit SIR I Prediction",
          "time": 51
         },
         {
          "Double Epidemic I Prediction(Fit)": 215.8500019887567,
          "series": "Double Epidemic I Prediction(Fit)",
          "time": 51
         },
         {
          "I Observed": 187,
          "series": "I Observed",
          "time": 52
         },
         {
          "Fit SIR I Prediction": 206.02484556280152,
          "series": "Fit SIR I Prediction",
          "time": 52
         },
         {
          "Double Epidemic I Prediction(Fit)": 207.33091730163315,
          "series": "Double Epidemic I Prediction(Fit)",
          "time": 52
         },
         {
          "I Observed": 210,
          "series": "I Observed",
          "time": 53
         },
         {
          "Fit SIR I Prediction": 198.26681307551647,
          "series": "Fit SIR I Prediction",
          "time": 53
         },
         {
          "Double Epidemic I Prediction(Fit)": 200.0278085956971,
          "series": "Double Epidemic I Prediction(Fit)",
          "time": 53
         },
         {
          "I Observed": 189,
          "series": "I Observed",
          "time": 54
         },
         {
          "Fit SIR I Prediction": 190.80061421137376,
          "series": "Fit SIR I Prediction",
          "time": 54
         },
         {
          "Double Epidemic I Prediction(Fit)": 192.97044195582575,
          "series": "Double Epidemic I Prediction(Fit)",
          "time": 54
         },
         {
          "I Observed": 216,
          "series": "I Observed",
          "time": 55
         },
         {
          "Fit SIR I Prediction": 182.7363794604158,
          "series": "Fit SIR I Prediction",
          "time": 55
         },
         {
          "Double Epidemic I Prediction(Fit)": 185.31547447313685,
          "series": "Double Epidemic I Prediction(Fit)",
          "time": 55
         },
         {
          "I Observed": 204,
          "series": "I Observed",
          "time": 56
         },
         {
          "Fit SIR I Prediction": 175.85453484630406,
          "series": "Fit SIR I Prediction",
          "time": 56
         },
         {
          "Double Epidemic I Prediction(Fit)": 178.75602333074997,
          "series": "Double Epidemic I Prediction(Fit)",
          "time": 56
         },
         {
          "I Observed": 202,
          "series": "I Observed",
          "time": 57
         },
         {
          "Fit SIR I Prediction": 169.23168267780008,
          "series": "Fit SIR I Prediction",
          "time": 57
         },
         {
          "Double Epidemic I Prediction(Fit)": 172.41976918671952,
          "series": "Double Epidemic I Prediction(Fit)",
          "time": 57
         },
         {
          "I Observed": 178,
          "series": "I Observed",
          "time": 58
         },
         {
          "Fit SIR I Prediction": 162.07846200650562,
          "series": "Fit SIR I Prediction",
          "time": 58
         },
         {
          "Double Epidemic I Prediction(Fit)": 165.54968020953837,
          "series": "Double Epidemic I Prediction(Fit)",
          "time": 58
         },
         {
          "I Observed": 184,
          "series": "I Observed",
          "time": 59
         },
         {
          "Fit SIR I Prediction": 155.97414239418814,
          "series": "Fit SIR I Prediction",
          "time": 59
         },
         {
          "Double Epidemic I Prediction(Fit)": 159.66498190158129,
          "series": "Double Epidemic I Prediction(Fit)",
          "time": 59
         },
         {
          "I Observed": 129,
          "series": "I Observed",
          "time": 60
         },
         {
          "Fit SIR I Prediction": 150.09962014088586,
          "series": "Fit SIR I Prediction",
          "time": 60
         },
         {
          "Double Epidemic I Prediction(Fit)": 153.98241675739632,
          "series": "Double Epidemic I Prediction(Fit)",
          "time": 60
         },
         {
          "I Observed": 179,
          "series": "I Observed",
          "time": 61
         },
         {
          "Fit SIR I Prediction": 143.7547227441239,
          "series": "Fit SIR I Prediction",
          "time": 61
         },
         {
          "Double Epidemic I Prediction(Fit)": 147.82316267560182,
          "series": "Double Epidemic I Prediction(Fit)",
          "time": 61
         },
         {
          "I Observed": 146,
          "series": "I Observed",
          "time": 62
         },
         {
          "Fit SIR I Prediction": 138.34024814546913,
          "series": "Fit SIR I Prediction",
          "time": 62
         },
         {
          "Double Epidemic I Prediction(Fit)": 142.54903134274258,
          "series": "Double Epidemic I Prediction(Fit)",
          "time": 62
         },
         {
          "I Observed": 144,
          "series": "I Observed",
          "time": 63
         },
         {
          "Fit SIR I Prediction": 133.12964024649216,
          "series": "Fit SIR I Prediction",
          "time": 63
         },
         {
          "Double Epidemic I Prediction(Fit)": 137.4575186082686,
          "series": "Double Epidemic I Prediction(Fit)",
          "time": 63
         },
         {
          "I Observed": 125,
          "series": "I Observed",
          "time": 64
         },
         {
          "Fit SIR I Prediction": 127.50185577450156,
          "series": "Fit SIR I Prediction",
          "time": 64
         },
         {
          "Double Epidemic I Prediction(Fit)": 131.94049399473596,
          "series": "Double Epidemic I Prediction(Fit)",
          "time": 64
         },
         {
          "I Observed": 126,
          "series": "I Observed",
          "time": 65
         },
         {
          "Fit SIR I Prediction": 122.69936489636927,
          "series": "Fit SIR I Prediction",
          "time": 65
         },
         {
          "Double Epidemic I Prediction(Fit)": 127.21760251244542,
          "series": "Double Epidemic I Prediction(Fit)",
          "time": 65
         },
         {
          "I Observed": 106,
          "series": "I Observed",
          "time": 66
         },
         {
          "Fit SIR I Prediction": 118.0777213296381,
          "series": "Fit SIR I Prediction",
          "time": 66
         },
         {
          "Double Epidemic I Prediction(Fit)": 122.65936928040986,
          "series": "Double Epidemic I Prediction(Fit)",
          "time": 66
         },
         {
          "I Observed": 117,
          "series": "I Observed",
          "time": 67
         },
         {
          "Fit SIR I Prediction": 113.08607882613049,
          "series": "Fit SIR I Prediction",
          "time": 67
         },
         {
          "Double Epidemic I Prediction(Fit)": 117.72142708955992,
          "series": "Double Epidemic I Prediction(Fit)",
          "time": 67
         },
         {
          "I Observed": 94,
          "series": "I Observed",
          "time": 68
         },
         {
          "Fit SIR I Prediction": 108.82645980263226,
          "series": "Fit SIR I Prediction",
          "time": 68
         },
         {
          "Double Epidemic I Prediction(Fit)": 113.4952735572055,
          "series": "Double Epidemic I Prediction(Fit)",
          "time": 68
         },
         {
          "I Observed": 108,
          "series": "I Observed",
          "time": 69
         },
         {
          "Fit SIR I Prediction": 104.72725942765325,
          "series": "Fit SIR I Prediction",
          "time": 69
         },
         {
          "Double Epidemic I Prediction(Fit)": 109.41733486000653,
          "series": "Double Epidemic I Prediction(Fit)",
          "time": 69
         },
         {
          "I Observed": 114,
          "series": "I Observed",
          "time": 70
         },
         {
          "Fit SIR I Prediction": 100.29990036600101,
          "series": "Fit SIR I Prediction",
          "time": 70
         },
         {
          "Double Epidemic I Prediction(Fit)": 105.00065735920867,
          "series": "Double Epidemic I Prediction(Fit)",
          "time": 70
         },
         {
          "I Observed": 109,
          "series": "I Observed",
          "time": 71
         },
         {
          "Fit SIR I Prediction": 96.52182383543193,
          "series": "Fit SIR I Prediction",
          "time": 71
         },
         {
          "Double Epidemic I Prediction(Fit)": 101.22141666053888,
          "series": "Double Epidemic I Prediction(Fit)",
          "time": 71
         },
         {
          "I Observed": 91,
          "series": "I Observed",
          "time": 72
         },
         {
          "Fit SIR I Prediction": 92.88603991352055,
          "series": "Fit SIR I Prediction",
          "time": 72
         },
         {
          "Double Epidemic I Prediction(Fit)": 97.5753997436373,
          "series": "Double Epidemic I Prediction(Fit)",
          "time": 72
         },
         {
          "I Observed": 80,
          "series": "I Observed",
          "time": 73
         },
         {
          "Fit SIR I Prediction": 88.95920506792129,
          "series": "Fit SIR I Prediction",
          "time": 73
         },
         {
          "Double Epidemic I Prediction(Fit)": 93.62727293762624,
          "series": "Double Epidemic I Prediction(Fit)",
          "time": 73
         },
         {
          "I Observed": 108,
          "series": "I Observed",
          "time": 74
         },
         {
          "Fit SIR I Prediction": 85.60825684472526,
          "series": "Fit SIR I Prediction",
          "time": 74
         },
         {
          "Double Epidemic I Prediction(Fit)": 90.24957520550538,
          "series": "Double Epidemic I Prediction(Fit)",
          "time": 74
         },
         {
          "I Observed": 100,
          "series": "I Observed",
          "time": 75
         },
         {
          "Fit SIR I Prediction": 82.38352024360496,
          "series": "Fit SIR I Prediction",
          "time": 75
         },
         {
          "Double Epidemic I Prediction(Fit)": 86.99148136720633,
          "series": "Double Epidemic I Prediction(Fit)",
          "time": 75
         },
         {
          "I Observed": 72,
          "series": "I Observed",
          "time": 76
         },
         {
          "Fit SIR I Prediction": 78.90064382143755,
          "series": "Fit SIR I Prediction",
          "time": 76
         },
         {
          "Double Epidemic I Prediction(Fit)": 83.4640105570397,
          "series": "Double Epidemic I Prediction(Fit)",
          "time": 76
         },
         {
          "I Observed": 73,
          "series": "I Observed",
          "time": 77
         },
         {
          "Fit SIR I Prediction": 75.92855035368159,
          "series": "Fit SIR I Prediction",
          "time": 77
         },
         {
          "Double Epidemic I Prediction(Fit)": 80.44667632420162,
          "series": "Double Epidemic I Prediction(Fit)",
          "time": 77
         },
         {
          "I Observed": 86,
          "series": "I Observed",
          "time": 78
         },
         {
          "Fit SIR I Prediction": 73.06840299459593,
          "series": "Fit SIR I Prediction",
          "time": 78
         },
         {
          "Double Epidemic I Prediction(Fit)": 77.53660699223319,
          "series": "Double Epidemic I Prediction(Fit)",
          "time": 78
         },
         {
          "I Observed": 74,
          "series": "I Observed",
          "time": 79
         },
         {
          "Fit SIR I Prediction": 69.97930515396953,
          "series": "Fit SIR I Prediction",
          "time": 79
         },
         {
          "Double Epidemic I Prediction(Fit)": 74.38640012873562,
          "series": "Double Epidemic I Prediction(Fit)",
          "time": 79
         },
         {
          "I Observed": 60,
          "series": "I Observed",
          "time": 80
         },
         {
          "Fit SIR I Prediction": 67.34324360051299,
          "series": "Fit SIR I Prediction",
          "time": 80
         },
         {
          "Double Epidemic I Prediction(Fit)": 71.69215318944966,
          "series": "Double Epidemic I Prediction(Fit)",
          "time": 80
         },
         {
          "I Observed": 71,
          "series": "I Observed",
          "time": 81
         },
         {
          "Fit SIR I Prediction": 64.80647384624694,
          "series": "Fit SIR I Prediction",
          "time": 81
         },
         {
          "Double Epidemic I Prediction(Fit)": 69.09401899769901,
          "series": "Double Epidemic I Prediction(Fit)",
          "time": 81
         },
         {
          "I Observed": 65,
          "series": "I Observed",
          "time": 82
         },
         {
          "Fit SIR I Prediction": 62.066642209639106,
          "series": "Fit SIR I Prediction",
          "time": 82
         },
         {
          "Double Epidemic I Prediction(Fit)": 66.28185650762234,
          "series": "Double Epidemic I Prediction(Fit)",
          "time": 82
         },
         {
          "I Observed": 71,
          "series": "I Observed",
          "time": 83
         },
         {
          "Fit SIR I Prediction": 59.72862682313483,
          "series": "Fit SIR I Prediction",
          "time": 83
         },
         {
          "Double Epidemic I Prediction(Fit)": 63.87702915104989,
          "series": "Double Epidemic I Prediction(Fit)",
          "time": 83
         },
         {
          "I Observed": 67,
          "series": "I Observed",
          "time": 84
         },
         {
          "Fit SIR I Prediction": 57.47867857762969,
          "series": "Fit SIR I Prediction",
          "time": 84
         },
         {
          "Double Epidemic I Prediction(Fit)": 61.5582550346371,
          "series": "Double Epidemic I Prediction(Fit)",
          "time": 84
         },
         {
          "I Observed": 61,
          "series": "I Observed",
          "time": 85
         },
         {
          "Fit SIR I Prediction": 55.04862963318014,
          "series": "Fit SIR I Prediction",
          "time": 85
         },
         {
          "Double Epidemic I Prediction(Fit)": 59.04875900055954,
          "series": "Double Epidemic I Prediction(Fit)",
          "time": 85
         },
         {
          "I Observed": 66,
          "series": "I Observed",
          "time": 86
         },
         {
          "Fit SIR I Prediction": 52.97496651746664,
          "series": "Fit SIR I Prediction",
          "time": 86
         },
         {
          "Double Epidemic I Prediction(Fit)": 56.90299965671653,
          "series": "Double Epidemic I Prediction(Fit)",
          "time": 86
         },
         {
          "I Observed": 60,
          "series": "I Observed",
          "time": 87
         },
         {
          "Fit SIR I Prediction": 50.97941428280198,
          "series": "Fit SIR I Prediction",
          "time": 87
         },
         {
          "Double Epidemic I Prediction(Fit)": 54.83423481568836,
          "series": "Double Epidemic I Prediction(Fit)",
          "time": 87
         },
         {
          "I Observed": 53,
          "series": "I Observed",
          "time": 88
         },
         {
          "Fit SIR I Prediction": 48.82412618003074,
          "series": "Fit SIR I Prediction",
          "time": 88
         },
         {
          "Double Epidemic I Prediction(Fit)": 52.59554618855049,
          "series": "Double Epidemic I Prediction(Fit)",
          "time": 88
         },
         {
          "I Observed": 41,
          "series": "I Observed",
          "time": 89
         },
         {
          "Fit SIR I Prediction": 46.98492908821344,
          "series": "Fit SIR I Prediction",
          "time": 89
         },
         {
          "Double Epidemic I Prediction(Fit)": 50.68153618242771,
          "series": "Double Epidemic I Prediction(Fit)",
          "time": 89
         },
         {
          "I Observed": 55,
          "series": "I Observed",
          "time": 90
         },
         {
          "Fit SIR I Prediction": 45.21501185502262,
          "series": "Fit SIR I Prediction",
          "time": 90
         },
         {
          "Double Epidemic I Prediction(Fit)": 48.83637474962646,
          "series": "Double Epidemic I Prediction(Fit)",
          "time": 90
         },
         {
          "I Observed": 54,
          "series": "I Observed",
          "time": 91
         },
         {
          "Fit SIR I Prediction": 43.30342083550835,
          "series": "Fit SIR I Prediction",
          "time": 91
         },
         {
          "Double Epidemic I Prediction(Fit)": 46.83984423747034,
          "series": "Double Epidemic I Prediction(Fit)",
          "time": 91
         },
         {
          "I Observed": 40,
          "series": "I Observed",
          "time": 92
         },
         {
          "Fit SIR I Prediction": 41.67218133933889,
          "series": "Fit SIR I Prediction",
          "time": 92
         },
         {
          "Double Epidemic I Prediction(Fit)": 45.13302793422171,
          "series": "Double Epidemic I Prediction(Fit)",
          "time": 92
         },
         {
          "I Observed": 36,
          "series": "I Observed",
          "time": 93
         },
         {
          "Fit SIR I Prediction": 40.102388855164534,
          "series": "Fit SIR I Prediction",
          "time": 93
         },
         {
          "Double Epidemic I Prediction(Fit)": 43.487744012377625,
          "series": "Double Epidemic I Prediction(Fit)",
          "time": 93
         },
         {
          "I Observed": 48,
          "series": "I Observed",
          "time": 94
         },
         {
          "Fit SIR I Prediction": 38.40694230898995,
          "series": "Fit SIR I Prediction",
          "time": 94
         },
         {
          "Double Epidemic I Prediction(Fit)": 41.70764010798179,
          "series": "Double Epidemic I Prediction(Fit)",
          "time": 94
         },
         {
          "I Observed": 40,
          "series": "I Observed",
          "time": 95
         },
         {
          "Fit SIR I Prediction": 36.960148330957246,
          "series": "Fit SIR I Prediction",
          "time": 95
         },
         {
          "Double Epidemic I Prediction(Fit)": 40.18597100264009,
          "series": "Double Epidemic I Prediction(Fit)",
          "time": 95
         },
         {
          "I Observed": 35,
          "series": "I Observed",
          "time": 96
         },
         {
          "Fit SIR I Prediction": 35.56785394281869,
          "series": "Fit SIR I Prediction",
          "time": 96
         },
         {
          "Double Epidemic I Prediction(Fit)": 38.719270183685026,
          "series": "Double Epidemic I Prediction(Fit)",
          "time": 96
         },
         {
          "I Observed": 38,
          "series": "I Observed",
          "time": 97
         },
         {
          "Fit SIR I Prediction": 34.064113801059584,
          "series": "Fit SIR I Prediction",
          "time": 97
         },
         {
          "Double Epidemic I Prediction(Fit)": 37.13250623890163,
          "series": "Double Epidemic I Prediction(Fit)",
          "time": 97
         },
         {
          "I Observed": 35,
          "series": "I Observed",
          "time": 98
         },
         {
          "Fit SIR I Prediction": 32.78091112593288,
          "series": "Fit SIR I Prediction",
          "time": 98
         },
         {
          "Double Epidemic I Prediction(Fit)": 35.776210315135096,
          "series": "Double Epidemic I Prediction(Fit)",
          "time": 98
         },
         {
          "I Observed": 32,
          "series": "I Observed",
          "time": 99
         },
         {
          "Fit SIR I Prediction": 31.54604600398613,
          "series": "Fit SIR I Prediction",
          "time": 99
         },
         {
          "Double Epidemic I Prediction(Fit)": 34.46899869570971,
          "series": "Double Epidemic I Prediction(Fit)",
          "time": 99
         },
         {
          "I Observed": 33,
          "series": "I Observed",
          "time": 100
         },
         {
          "Fit SIR I Prediction": 30.212336845735074,
          "series": "Fit SIR I Prediction",
          "time": 100
         },
         {
          "Double Epidemic I Prediction(Fit)": 33.054879853872364,
          "series": "Double Epidemic I Prediction(Fit)",
          "time": 100
         },
         {
          "I Observed": 28,
          "series": "I Observed",
          "time": 101
         },
         {
          "Fit SIR I Prediction": 29.074228804954974,
          "series": "Fit SIR I Prediction",
          "time": 101
         },
         {
          "Double Epidemic I Prediction(Fit)": 31.846236673782926,
          "series": "Double Epidemic I Prediction(Fit)",
          "time": 101
         },
         {
          "I Observed": 30,
          "series": "I Observed",
          "time": 102
         },
         {
          "Fit SIR I Prediction": 27.978992914102612,
          "series": "Fit SIR I Prediction",
          "time": 102
         },
         {
          "Double Epidemic I Prediction(Fit)": 30.68140761342971,
          "series": "Double Epidemic I Prediction(Fit)",
          "time": 102
         },
         {
          "I Observed": 26,
          "series": "I Observed",
          "time": 103
         },
         {
          "Fit SIR I Prediction": 26.7960897763358,
          "series": "Fit SIR I Prediction",
          "time": 103
         },
         {
          "Double Epidemic I Prediction(Fit)": 29.421397650096186,
          "series": "Double Epidemic I Prediction(Fit)",
          "time": 103
         },
         {
          "I Observed": 25,
          "series": "I Observed",
          "time": 104
         },
         {
          "Fit SIR I Prediction": 25.786670822760875,
          "series": "Fit SIR I Prediction",
          "time": 104
         },
         {
          "Double Epidemic I Prediction(Fit)": 28.344539042401294,
          "series": "Double Epidemic I Prediction(Fit)",
          "time": 104
         },
         {
          "I Observed": 26,
          "series": "I Observed",
          "time": 105
         },
         {
          "Fit SIR I Prediction": 24.81527651637897,
          "series": "Fit SIR I Prediction",
          "time": 105
         },
         {
          "Double Epidemic I Prediction(Fit)": 27.306777385623725,
          "series": "Double Epidemic I Prediction(Fit)",
          "time": 105
         },
         {
          "I Observed": 22,
          "series": "I Observed",
          "time": 106
         },
         {
          "Fit SIR I Prediction": 23.76612794583856,
          "series": "Fit SIR I Prediction",
          "time": 106
         },
         {
          "Double Epidemic I Prediction(Fit)": 26.184284991522564,
          "series": "Double Epidemic I Prediction(Fit)",
          "time": 106
         },
         {
          "I Observed": 26,
          "series": "I Observed",
          "time": 107
         },
         {
          "Fit SIR I Prediction": 22.870847308634545,
          "series": "Fit SIR I Prediction",
          "time": 107
         },
         {
          "Double Epidemic I Prediction(Fit)": 25.225010806056456,
          "series": "Double Epidemic I Prediction(Fit)",
          "time": 107
         },
         {
          "I Observed": 19,
          "series": "I Observed",
          "time": 108
         },
         {
          "Fit SIR I Prediction": 22.009291874822974,
          "series": "Fit SIR I Prediction",
          "time": 108
         },
         {
          "Double Epidemic I Prediction(Fit)": 24.300613940437266,
          "series": "Double Epidemic I Prediction(Fit)",
          "time": 108
         },
         {
          "I Observed": 27,
          "series": "I Observed",
          "time": 109
         },
         {
          "Fit SIR I Prediction": 21.078774255611016,
          "series": "Fit SIR I Prediction",
          "time": 109
         },
         {
          "Double Epidemic I Prediction(Fit)": 23.3007976420121,
          "series": "Double Epidemic I Prediction(Fit)",
          "time": 109
         },
         {
          "I Observed": 27,
          "series": "I Observed",
          "time": 110
         },
         {
          "Fit SIR I Prediction": 20.284726288395785,
          "series": "Fit SIR I Prediction",
          "time": 110
         },
         {
          "Double Epidemic I Prediction(Fit)": 22.446407780808116,
          "series": "Double Epidemic I Prediction(Fit)",
          "time": 110
         },
         {
          "I Observed": 22,
          "series": "I Observed",
          "time": 111
         },
         {
          "Fit SIR I Prediction": 19.520590187599513,
          "series": "Fit SIR I Prediction",
          "time": 111
         },
         {
          "Double Epidemic I Prediction(Fit)": 21.623122682161874,
          "series": "Double Epidemic I Prediction(Fit)",
          "time": 111
         },
         {
          "I Observed": 24,
          "series": "I Observed",
          "time": 112
         },
         {
          "Fit SIR I Prediction": 18.69528982039104,
          "series": "Fit SIR I Prediction",
          "time": 112
         },
         {
          "Double Epidemic I Prediction(Fit)": 20.732713385292993,
          "series": "Double Epidemic I Prediction(Fit)",
          "time": 112
         },
         {
          "I Observed": 21,
          "series": "I Observed",
          "time": 113
         },
         {
          "Fit SIR I Prediction": 17.99102803392151,
          "series": "Fit SIR I Prediction",
          "time": 113
         },
         {
          "Double Epidemic I Prediction(Fit)": 19.971855165087447,
          "series": "Double Epidemic I Prediction(Fit)",
          "time": 113
         },
         {
          "I Observed": 23,
          "series": "I Observed",
          "time": 114
         },
         {
          "Fit SIR I Prediction": 17.313295931353238,
          "series": "Fit SIR I Prediction",
          "time": 114
         },
         {
          "Double Epidemic I Prediction(Fit)": 19.23873045135973,
          "series": "Double Epidemic I Prediction(Fit)",
          "time": 114
         },
         {
          "I Observed": 18,
          "series": "I Observed",
          "time": 115
         },
         {
          "Fit SIR I Prediction": 16.581315734570566,
          "series": "Fit SIR I Prediction",
          "time": 115
         },
         {
          "Double Epidemic I Prediction(Fit)": 18.44587047635404,
          "series": "Double Epidemic I Prediction(Fit)",
          "time": 115
         },
         {
          "I Observed": 15,
          "series": "I Observed",
          "time": 116
         },
         {
          "Fit SIR I Prediction": 15.956687842353968,
          "series": "Fit SIR I Prediction",
          "time": 116
         },
         {
          "Double Epidemic I Prediction(Fit)": 17.76840029506728,
          "series": "Double Epidemic I Prediction(Fit)",
          "time": 116
         },
         {
          "I Observed": 18,
          "series": "I Observed",
          "time": 117
         },
         {
          "Fit SIR I Prediction": 15.355589863458146,
          "series": "Fit SIR I Prediction",
          "time": 117
         },
         {
          "Double Epidemic I Prediction(Fit)": 17.115652246973642,
          "series": "Double Epidemic I Prediction(Fit)",
          "time": 117
         },
         {
          "I Observed": 16,
          "series": "I Observed",
          "time": 118
         },
         {
          "Fit SIR I Prediction": 14.706377917979186,
          "series": "Fit SIR I Prediction",
          "time": 118
         },
         {
          "Double Epidemic I Prediction(Fit)": 16.40974967096655,
          "series": "Double Epidemic I Prediction(Fit)",
          "time": 118
         },
         {
          "I Observed": 18,
          "series": "I Observed",
          "time": 119
         },
         {
          "Fit SIR I Prediction": 14.1523795232337,
          "series": "Fit SIR I Prediction",
          "time": 119
         },
         {
          "Double Epidemic I Prediction(Fit)": 15.806607920111244,
          "series": "Double Epidemic I Prediction(Fit)",
          "time": 119
         },
         {
          "I Observed": 16,
          "series": "I Observed",
          "time": 120
         },
         {
          "Fit SIR I Prediction": 13.61925044943434,
          "series": "Fit SIR I Prediction",
          "time": 120
         },
         {
          "Double Epidemic I Prediction(Fit)": 15.225499408880756,
          "series": "Double Epidemic I Prediction(Fit)",
          "time": 120
         }
        ]
       },
       "description": "",
       "height": 600,
       "layer": [
        {
         "encoding": {
          "color": {
           "field": "series",
           "type": "nominal"
          },
          "x": {
           "field": "time",
           "type": "quantitative"
          },
          "y": {
           "field": "I Observed",
           "type": "quantitative"
          }
         },
         "mark": "point"
        },
        {
         "encoding": {
          "color": {
           "field": "series",
           "type": "nominal"
          },
          "x": {
           "field": "time",
           "type": "quantitative"
          },
          "y": {
           "field": "Fit SIR I Prediction",
           "type": "quantitative"
          }
         },
         "mark": "line"
        },
        {
         "encoding": {
          "color": {
           "field": "series",
           "type": "nominal"
          },
          "x": {
           "field": "time",
           "type": "quantitative"
          },
          "y": {
           "field": "Double Epidemic I Prediction(Fit)",
           "type": "quantitative"
          }
         },
         "mark": "line"
        }
       ],
       "width": 800
      },
      "image/png": "[encoded data removed]"
     },
     "metadata": {},
     "output_type": "display_data"
    }
   ],
   "source": [
    "plot(\"Double Epidemic Predictions\", [observed_I_series, sir_fit_series, de_fit_series], time(observed), \"time\")"
   ]
  },
  {
   "cell_type": "code",
   "execution_count": null,
   "id": "cbbe3a6e-1e3d-410d-8869-bfeb12eda7a7",
   "metadata": {},
   "outputs": [],
   "source": []
  }
 ],
 "metadata": {
  "kernelspec": {
   "display_name": "ASKE-E",
   "language": "",
   "name": "askee_kernel"
  },
  "language_info": {
   "file_extension": ".txt",
   "mimetype": "text/plain",
   "name": "Any text"
  }
 },
 "nbformat": 4,
 "nbformat_minor": 5
}
