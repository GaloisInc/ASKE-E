{
 "cells": [
  {
   "cell_type": "code",
   "execution_count": 1,
   "id": "b3764c22-3f69-44a2-ad6e-4db181dd72e8",
   "metadata": {},
   "outputs": [],
   "source": [
    "define sir\n",
    "    let beta = 0.4\n",
    "    let gamma = 0.04\n",
    "    \n",
    "\n",
    "    let S = 997.0\n",
    "    let I = 3.0\n",
    "    let R = 0.0\n",
    "\n",
    "    let N = S + I + R\n",
    "\n",
    "\n",
    "    beta/N,  S + I --> 2I\n",
    "    gamma,   I     --> R\n",
    "end"
   ]
  },
  {
   "cell_type": "code",
   "execution_count": 2,
   "id": "8f590324-c154-4f39-88cb-7fb7078e84b7",
   "metadata": {},
   "outputs": [],
   "source": [
    "observed = loadCSV(\"data/i_data1.csv\")"
   ]
  },
  {
   "cell_type": "code",
   "execution_count": 3,
   "id": "651c6f25-bcf3-409c-ad0f-5da8651a53ae",
   "metadata": {},
   "outputs": [],
   "source": [
    "sir_vals = simulate(sir at time(observed))"
   ]
  },
  {
   "cell_type": "code",
   "execution_count": 4,
   "id": "f58f7313-2f91-4a5a-9e45-78b800966e8c",
   "metadata": {},
   "outputs": [
    {
     "data": {
      "application/vnd.vegalite.v4+json": {
       "$schema": "https://vega.github.io/schema/vega-lite/v4.json",
       "data": {
        "values": [
         {
          "SIR I Prediction": 4.612512477513633,
          "series": "SIR I Prediction",
          "time": 1
         },
         {
          "I Observed": 4,
          "series": "I Observed",
          "time": 1
         },
         {
          "SIR I Prediction": 7.084147166413267,
          "series": "SIR I Prediction",
          "time": 2
         },
         {
          "I Observed": 7,
          "series": "I Observed",
          "time": 2
         },
         {
          "SIR I Prediction": 10.862345960870268,
          "series": "SIR I Prediction",
          "time": 3
         },
         {
          "I Observed": 11,
          "series": "I Observed",
          "time": 3
         },
         {
          "SIR I Prediction": 16.613840082905732,
          "series": "SIR I Prediction",
          "time": 4
         },
         {
          "I Observed": 14,
          "series": "I Observed",
          "time": 4
         },
         {
          "SIR I Prediction": 25.314048868134662,
          "series": "SIR I Prediction",
          "time": 5
         },
         {
          "I Observed": 29,
          "series": "I Observed",
          "time": 5
         },
         {
          "SIR I Prediction": 25.314048868134662,
          "series": "SIR I Prediction",
          "time": 6
         },
         {
          "I Observed": 47,
          "series": "I Observed",
          "time": 6
         },
         {
          "SIR I Prediction": 38.34943742036722,
          "series": "SIR I Prediction",
          "time": 7
         },
         {
          "I Observed": 67,
          "series": "I Observed",
          "time": 7
         },
         {
          "SIR I Prediction": 57.60222819559139,
          "series": "SIR I Prediction",
          "time": 8
         },
         {
          "I Observed": 81,
          "series": "I Observed",
          "time": 8
         },
         {
          "SIR I Prediction": 85.44214726893247,
          "series": "SIR I Prediction",
          "time": 9
         },
         {
          "I Observed": 156,
          "series": "I Observed",
          "time": 9
         },
         {
          "SIR I Prediction": 124.48422329869666,
          "series": "SIR I Prediction",
          "time": 10
         },
         {
          "I Observed": 166,
          "series": "I Observed",
          "time": 10
         },
         {
          "SIR I Prediction": 176.9265421352199,
          "series": "SIR I Prediction",
          "time": 11
         },
         {
          "I Observed": 213,
          "series": "I Observed",
          "time": 11
         },
         {
          "SIR I Prediction": 176.9265421352199,
          "series": "SIR I Prediction",
          "time": 12
         },
         {
          "I Observed": 304,
          "series": "I Observed",
          "time": 12
         },
         {
          "SIR I Prediction": 243.3805311187285,
          "series": "SIR I Prediction",
          "time": 13
         },
         {
          "I Observed": 362,
          "series": "I Observed",
          "time": 13
         },
         {
          "SIR I Prediction": 321.5078847994842,
          "series": "SIR I Prediction",
          "time": 14
         },
         {
          "I Observed": 366,
          "series": "I Observed",
          "time": 14
         },
         {
          "SIR I Prediction": 405.3768375568476,
          "series": "SIR I Prediction",
          "time": 15
         },
         {
          "I Observed": 377,
          "series": "I Observed",
          "time": 15
         },
         {
          "SIR I Prediction": 486.53693801630845,
          "series": "SIR I Prediction",
          "time": 16
         },
         {
          "I Observed": 296,
          "series": "I Observed",
          "time": 16
         },
         {
          "SIR I Prediction": 556.6929104249723,
          "series": "SIR I Prediction",
          "time": 17
         },
         {
          "I Observed": 424,
          "series": "I Observed",
          "time": 17
         },
         {
          "SIR I Prediction": 556.6929104249723,
          "series": "SIR I Prediction",
          "time": 18
         },
         {
          "I Observed": 330,
          "series": "I Observed",
          "time": 18
         },
         {
          "SIR I Prediction": 610.366269325482,
          "series": "SIR I Prediction",
          "time": 19
         },
         {
          "I Observed": 305,
          "series": "I Observed",
          "time": 19
         },
         {
          "SIR I Prediction": 645.916068549896,
          "series": "SIR I Prediction",
          "time": 20
         },
         {
          "I Observed": 384,
          "series": "I Observed",
          "time": 20
         },
         {
          "SIR I Prediction": 664.7889990712881,
          "series": "SIR I Prediction",
          "time": 21
         },
         {
          "I Observed": 362,
          "series": "I Observed",
          "time": 21
         },
         {
          "SIR I Prediction": 670.0331217636414,
          "series": "SIR I Prediction",
          "time": 22
         },
         {
          "I Observed": 282,
          "series": "I Observed",
          "time": 22
         },
         {
          "SIR I Prediction": 665.0345361135829,
          "series": "SIR I Prediction",
          "time": 23
         },
         {
          "I Observed": 253,
          "series": "I Observed",
          "time": 23
         },
         {
          "SIR I Prediction": 665.0345361135829,
          "series": "SIR I Prediction",
          "time": 24
         },
         {
          "I Observed": 321,
          "series": "I Observed",
          "time": 24
         },
         {
          "SIR I Prediction": 652.809144139295,
          "series": "SIR I Prediction",
          "time": 25
         },
         {
          "I Observed": 325,
          "series": "I Observed",
          "time": 25
         },
         {
          "SIR I Prediction": 635.7527442825256,
          "series": "SIR I Prediction",
          "time": 26
         },
         {
          "I Observed": 297,
          "series": "I Observed",
          "time": 26
         },
         {
          "SIR I Prediction": 615.6459108975389,
          "series": "SIR I Prediction",
          "time": 27
         },
         {
          "I Observed": 234,
          "series": "I Observed",
          "time": 27
         },
         {
          "SIR I Prediction": 593.7591709320423,
          "series": "SIR I Prediction",
          "time": 28
         },
         {
          "I Observed": 233,
          "series": "I Observed",
          "time": 28
         },
         {
          "SIR I Prediction": 570.975870535438,
          "series": "SIR I Prediction",
          "time": 29
         },
         {
          "I Observed": 229,
          "series": "I Observed",
          "time": 29
         },
         {
          "SIR I Prediction": 570.975870535438,
          "series": "SIR I Prediction",
          "time": 30
         },
         {
          "I Observed": 242,
          "series": "I Observed",
          "time": 30
         },
         {
          "SIR I Prediction": 547.8992436697823,
          "series": "SIR I Prediction",
          "time": 31
         },
         {
          "I Observed": 224,
          "series": "I Observed",
          "time": 31
         },
         {
          "SIR I Prediction": 524.935247857979,
          "series": "SIR I Prediction",
          "time": 32
         },
         {
          "I Observed": 233,
          "series": "I Observed",
          "time": 32
         },
         {
          "SIR I Prediction": 502.3529252040379,
          "series": "SIR I Prediction",
          "time": 33
         },
         {
          "I Observed": 236,
          "series": "I Observed",
          "time": 33
         },
         {
          "SIR I Prediction": 480.3269963602333,
          "series": "SIR I Prediction",
          "time": 34
         },
         {
          "I Observed": 179,
          "series": "I Observed",
          "time": 34
         },
         {
          "SIR I Prediction": 458.9674124038811,
          "series": "SIR I Prediction",
          "time": 35
         },
         {
          "I Observed": 163,
          "series": "I Observed",
          "time": 35
         },
         {
          "SIR I Prediction": 458.9674124038811,
          "series": "SIR I Prediction",
          "time": 36
         },
         {
          "I Observed": 168,
          "series": "I Observed",
          "time": 36
         },
         {
          "SIR I Prediction": 438.3396951839722,
          "series": "SIR I Prediction",
          "time": 37
         },
         {
          "I Observed": 217,
          "series": "I Observed",
          "time": 37
         },
         {
          "SIR I Prediction": 418.47890275005693,
          "series": "SIR I Prediction",
          "time": 38
         },
         {
          "I Observed": 160,
          "series": "I Observed",
          "time": 38
         },
         {
          "SIR I Prediction": 399.39922667617293,
          "series": "SIR I Prediction",
          "time": 39
         },
         {
          "I Observed": 134,
          "series": "I Observed",
          "time": 39
         },
         {
          "SIR I Prediction": 381.10060719631366,
          "series": "SIR I Prediction",
          "time": 40
         },
         {
          "I Observed": 168,
          "series": "I Observed",
          "time": 40
         },
         {
          "SIR I Prediction": 363.57331161780166,
          "series": "SIR I Prediction",
          "time": 41
         },
         {
          "I Observed": 173,
          "series": "I Observed",
          "time": 41
         },
         {
          "SIR I Prediction": 363.57331161780166,
          "series": "SIR I Prediction",
          "time": 42
         },
         {
          "I Observed": 150,
          "series": "I Observed",
          "time": 42
         },
         {
          "SIR I Prediction": 346.80111768501376,
          "series": "SIR I Prediction",
          "time": 43
         },
         {
          "I Observed": 139,
          "series": "I Observed",
          "time": 43
         },
         {
          "SIR I Prediction": 330.76353706842895,
          "series": "SIR I Prediction",
          "time": 44
         },
         {
          "I Observed": 120,
          "series": "I Observed",
          "time": 44
         },
         {
          "SIR I Prediction": 315.43737474627045,
          "series": "SIR I Prediction",
          "time": 45
         },
         {
          "I Observed": 126,
          "series": "I Observed",
          "time": 45
         },
         {
          "SIR I Prediction": 300.79782610338674,
          "series": "SIR I Prediction",
          "time": 46
         },
         {
          "I Observed": 110,
          "series": "I Observed",
          "time": 46
         },
         {
          "SIR I Prediction": 286.8192501898575,
          "series": "SIR I Prediction",
          "time": 47
         },
         {
          "I Observed": 127,
          "series": "I Observed",
          "time": 47
         },
         {
          "SIR I Prediction": 286.8192501898575,
          "series": "SIR I Prediction",
          "time": 48
         },
         {
          "I Observed": 132,
          "series": "I Observed",
          "time": 48
         },
         {
          "SIR I Prediction": 273.4757146773667,
          "series": "SIR I Prediction",
          "time": 49
         },
         {
          "I Observed": 115,
          "series": "I Observed",
          "time": 49
         },
         {
          "SIR I Prediction": 260.74137887184963,
          "series": "SIR I Prediction",
          "time": 50
         },
         {
          "I Observed": 98,
          "series": "I Observed",
          "time": 50
         },
         {
          "SIR I Prediction": 248.59076118492425,
          "series": "SIR I Prediction",
          "time": 51
         },
         {
          "I Observed": 113,
          "series": "I Observed",
          "time": 51
         },
         {
          "SIR I Prediction": 236.9989237342711,
          "series": "SIR I Prediction",
          "time": 52
         },
         {
          "I Observed": 88,
          "series": "I Observed",
          "time": 52
         },
         {
          "SIR I Prediction": 225.94159723166163,
          "series": "SIR I Prediction",
          "time": 53
         },
         {
          "I Observed": 99,
          "series": "I Observed",
          "time": 53
         },
         {
          "SIR I Prediction": 225.94159723166163,
          "series": "SIR I Prediction",
          "time": 54
         },
         {
          "I Observed": 89,
          "series": "I Observed",
          "time": 54
         },
         {
          "SIR I Prediction": 215.3952626849467,
          "series": "SIR I Prediction",
          "time": 55
         },
         {
          "I Observed": 102,
          "series": "I Observed",
          "time": 55
         },
         {
          "SIR I Prediction": 205.33720178463977,
          "series": "SIR I Prediction",
          "time": 56
         },
         {
          "I Observed": 95,
          "series": "I Observed",
          "time": 56
         },
         {
          "SIR I Prediction": 195.74552455144783,
          "series": "SIR I Prediction",
          "time": 57
         },
         {
          "I Observed": 94,
          "series": "I Observed",
          "time": 57
         },
         {
          "SIR I Prediction": 186.59918048313412,
          "series": "SIR I Prediction",
          "time": 58
         },
         {
          "I Observed": 83,
          "series": "I Observed",
          "time": 58
         },
         {
          "SIR I Prediction": 177.87795775876157,
          "series": "SIR I Prediction",
          "time": 59
         },
         {
          "I Observed": 86,
          "series": "I Observed",
          "time": 59
         },
         {
          "SIR I Prediction": 177.87795775876157,
          "series": "SIR I Prediction",
          "time": 60
         },
         {
          "I Observed": 60,
          "series": "I Observed",
          "time": 60
         },
         {
          "SIR I Prediction": 169.56247384798624,
          "series": "SIR I Prediction",
          "time": 61
         },
         {
          "I Observed": 83,
          "series": "I Observed",
          "time": 61
         },
         {
          "SIR I Prediction": 161.6341599963023,
          "series": "SIR I Prediction",
          "time": 62
         },
         {
          "I Observed": 67,
          "series": "I Observed",
          "time": 62
         },
         {
          "SIR I Prediction": 154.07524141603406,
          "series": "SIR I Prediction",
          "time": 63
         },
         {
          "I Observed": 66,
          "series": "I Observed",
          "time": 63
         },
         {
          "SIR I Prediction": 146.8687145423638,
          "series": "SIR I Prediction",
          "time": 64
         },
         {
          "I Observed": 57,
          "series": "I Observed",
          "time": 64
         },
         {
          "SIR I Prediction": 139.9983223662955,
          "series": "SIR I Prediction",
          "time": 65
         },
         {
          "I Observed": 58,
          "series": "I Observed",
          "time": 65
         },
         {
          "SIR I Prediction": 139.9983223662955,
          "series": "SIR I Prediction",
          "time": 66
         },
         {
          "I Observed": 49,
          "series": "I Observed",
          "time": 66
         },
         {
          "SIR I Prediction": 133.44852859861277,
          "series": "SIR I Prediction",
          "time": 67
         },
         {
          "I Observed": 53,
          "series": "I Observed",
          "time": 67
         },
         {
          "SIR I Prediction": 127.20449122657087,
          "series": "SIR I Prediction",
          "time": 68
         },
         {
          "I Observed": 43,
          "series": "I Observed",
          "time": 68
         },
         {
          "SIR I Prediction": 121.2520358809604,
          "series": "SIR I Prediction",
          "time": 69
         },
         {
          "I Observed": 49,
          "series": "I Observed",
          "time": 69
         },
         {
          "SIR I Prediction": 115.5776293227591,
          "series": "SIR I Prediction",
          "time": 70
         },
         {
          "I Observed": 52,
          "series": "I Observed",
          "time": 70
         },
         {
          "SIR I Prediction": 110.168353276707,
          "series": "SIR I Prediction",
          "time": 71
         },
         {
          "I Observed": 50,
          "series": "I Observed",
          "time": 71
         },
         {
          "SIR I Prediction": 110.168353276707,
          "series": "SIR I Prediction",
          "time": 72
         },
         {
          "I Observed": 41,
          "series": "I Observed",
          "time": 72
         },
         {
          "SIR I Prediction": 105.01187877711385,
          "series": "SIR I Prediction",
          "time": 73
         },
         {
          "I Observed": 36,
          "series": "I Observed",
          "time": 73
         },
         {
          "SIR I Prediction": 100.0964411440919,
          "series": "SIR I Prediction",
          "time": 74
         },
         {
          "I Observed": 49,
          "series": "I Observed",
          "time": 74
         },
         {
          "SIR I Prediction": 95.41081567255515,
          "series": "SIR I Prediction",
          "time": 75
         },
         {
          "I Observed": 45,
          "series": "I Observed",
          "time": 75
         },
         {
          "SIR I Prediction": 90.94429408901449,
          "series": "SIR I Prediction",
          "time": 76
         },
         {
          "I Observed": 32,
          "series": "I Observed",
          "time": 76
         },
         {
          "SIR I Prediction": 86.68666181038601,
          "series": "SIR I Prediction",
          "time": 77
         },
         {
          "I Observed": 33,
          "series": "I Observed",
          "time": 77
         },
         {
          "SIR I Prediction": 86.68666181038601,
          "series": "SIR I Prediction",
          "time": 78
         },
         {
          "I Observed": 39,
          "series": "I Observed",
          "time": 78
         },
         {
          "SIR I Prediction": 82.62817602319282,
          "series": "SIR I Prediction",
          "time": 79
         },
         {
          "I Observed": 33,
          "series": "I Observed",
          "time": 79
         },
         {
          "SIR I Prediction": 78.75954458951394,
          "series": "SIR I Prediction",
          "time": 80
         },
         {
          "I Observed": 27,
          "series": "I Observed",
          "time": 80
         },
         {
          "SIR I Prediction": 75.07190577694269,
          "series": "SIR I Prediction",
          "time": 81
         },
         {
          "I Observed": 32,
          "series": "I Observed",
          "time": 81
         },
         {
          "SIR I Prediction": 71.55680880299194,
          "series": "SIR I Prediction",
          "time": 82
         },
         {
          "I Observed": 29,
          "series": "I Observed",
          "time": 82
         },
         {
          "SIR I Prediction": 68.20619517930733,
          "series": "SIR I Prediction",
          "time": 83
         },
         {
          "I Observed": 32,
          "series": "I Observed",
          "time": 83
         },
         {
          "SIR I Prediction": 68.20619517930733,
          "series": "SIR I Prediction",
          "time": 84
         },
         {
          "I Observed": 30,
          "series": "I Observed",
          "time": 84
         },
         {
          "SIR I Prediction": 65.01238083733467,
          "series": "SIR I Prediction",
          "time": 85
         },
         {
          "I Observed": 27,
          "series": "I Observed",
          "time": 85
         },
         {
          "SIR I Prediction": 61.96803901442397,
          "series": "SIR I Prediction",
          "time": 86
         },
         {
          "I Observed": 29,
          "series": "I Observed",
          "time": 86
         },
         {
          "SIR I Prediction": 59.06618387750695,
          "series": "SIR I Prediction",
          "time": 87
         },
         {
          "I Observed": 26,
          "series": "I Observed",
          "time": 87
         },
         {
          "SIR I Prediction": 56.300154860276365,
          "series": "SIR I Prediction",
          "time": 88
         },
         {
          "I Observed": 23,
          "series": "I Observed",
          "time": 88
         },
         {
          "SIR I Prediction": 53.66360168907613,
          "series": "SIR I Prediction",
          "time": 89
         },
         {
          "I Observed": 18,
          "series": "I Observed",
          "time": 89
         },
         {
          "SIR I Prediction": 53.66360168907613,
          "series": "SIR I Prediction",
          "time": 90
         },
         {
          "I Observed": 24,
          "series": "I Observed",
          "time": 90
         },
         {
          "SIR I Prediction": 51.150470072376336,
          "series": "SIR I Prediction",
          "time": 91
         },
         {
          "I Observed": 24,
          "series": "I Observed",
          "time": 91
         },
         {
          "SIR I Prediction": 48.75498802866376,
          "series": "SIR I Prediction",
          "time": 92
         },
         {
          "I Observed": 18,
          "series": "I Observed",
          "time": 92
         },
         {
          "SIR I Prediction": 46.471652827760934,
          "series": "SIR I Prediction",
          "time": 93
         },
         {
          "I Observed": 16,
          "series": "I Observed",
          "time": 93
         },
         {
          "SIR I Prediction": 44.29521852094099,
          "series": "SIR I Prediction",
          "time": 94
         },
         {
          "I Observed": 21,
          "series": "I Observed",
          "time": 94
         },
         {
          "SIR I Prediction": 42.22068403568705,
          "series": "SIR I Prediction",
          "time": 95
         },
         {
          "I Observed": 18,
          "series": "I Observed",
          "time": 95
         },
         {
          "SIR I Prediction": 42.22068403568705,
          "series": "SIR I Prediction",
          "time": 96
         },
         {
          "I Observed": 15,
          "series": "I Observed",
          "time": 96
         },
         {
          "SIR I Prediction": 40.24328181152331,
          "series": "SIR I Prediction",
          "time": 97
         },
         {
          "I Observed": 17,
          "series": "I Observed",
          "time": 97
         },
         {
          "SIR I Prediction": 38.35846695399084,
          "series": "SIR I Prediction",
          "time": 98
         },
         {
          "I Observed": 15,
          "series": "I Observed",
          "time": 98
         },
         {
          "SIR I Prediction": 36.56190688453529,
          "series": "SIR I Prediction",
          "time": 99
         },
         {
          "I Observed": 14,
          "series": "I Observed",
          "time": 99
         },
         {
          "SIR I Prediction": 34.84947146479975,
          "series": "SIR I Prediction",
          "time": 100
         },
         {
          "I Observed": 14,
          "series": "I Observed",
          "time": 100
         },
         {
          "SIR I Prediction": 33.217223574559455,
          "series": "SIR I Prediction",
          "time": 101
         },
         {
          "I Observed": 12,
          "series": "I Observed",
          "time": 101
         },
         {
          "SIR I Prediction": 33.217223574559455,
          "series": "SIR I Prediction",
          "time": 102
         },
         {
          "I Observed": 13,
          "series": "I Observed",
          "time": 102
         },
         {
          "SIR I Prediction": 31.661410123288075,
          "series": "SIR I Prediction",
          "time": 103
         },
         {
          "I Observed": 11,
          "series": "I Observed",
          "time": 103
         },
         {
          "SIR I Prediction": 30.178453476097783,
          "series": "SIR I Prediction",
          "time": 104
         },
         {
          "I Observed": 11,
          "series": "I Observed",
          "time": 104
         },
         {
          "SIR I Prediction": 28.764943275542365,
          "series": "SIR I Prediction",
          "time": 105
         },
         {
          "I Observed": 11,
          "series": "I Observed",
          "time": 105
         },
         {
          "SIR I Prediction": 27.417628641509463,
          "series": "SIR I Prediction",
          "time": 106
         },
         {
          "I Observed": 9,
          "series": "I Observed",
          "time": 106
         },
         {
          "SIR I Prediction": 26.133410732149745,
          "series": "SIR I Prediction",
          "time": 107
         },
         {
          "I Observed": 11,
          "series": "I Observed",
          "time": 107
         },
         {
          "SIR I Prediction": 26.133410732149745,
          "series": "SIR I Prediction",
          "time": 108
         },
         {
          "I Observed": 8,
          "series": "I Observed",
          "time": 108
         },
         {
          "SIR I Prediction": 24.909335649496896,
          "series": "SIR I Prediction",
          "time": 109
         },
         {
          "I Observed": 11,
          "series": "I Observed",
          "time": 109
         },
         {
          "SIR I Prediction": 23.74258767411851,
          "series": "SIR I Prediction",
          "time": 110
         },
         {
          "I Observed": 11,
          "series": "I Observed",
          "time": 110
         },
         {
          "SIR I Prediction": 22.630482813804363,
          "series": "SIR I Prediction",
          "time": 111
         },
         {
          "I Observed": 9,
          "series": "I Observed",
          "time": 111
         },
         {
          "SIR I Prediction": 21.570462651943775,
          "series": "SIR I Prediction",
          "time": 112
         },
         {
          "I Observed": 10,
          "series": "I Observed",
          "time": 112
         },
         {
          "SIR I Prediction": 20.56008848186659,
          "series": "SIR I Prediction",
          "time": 113
         },
         {
          "I Observed": 9,
          "series": "I Observed",
          "time": 113
         },
         {
          "SIR I Prediction": 20.56008848186659,
          "series": "SIR I Prediction",
          "time": 114
         },
         {
          "I Observed": 10,
          "series": "I Observed",
          "time": 114
         },
         {
          "SIR I Prediction": 19.597035714023914,
          "series": "SIR I Prediction",
          "time": 115
         },
         {
          "I Observed": 7,
          "series": "I Observed",
          "time": 115
         },
         {
          "SIR I Prediction": 18.67908854346326,
          "series": "SIR I Prediction",
          "time": 116
         },
         {
          "I Observed": 6,
          "series": "I Observed",
          "time": 116
         },
         {
          "SIR I Prediction": 17.80413486561003,
          "series": "SIR I Prediction",
          "time": 117
         },
         {
          "I Observed": 8,
          "series": "I Observed",
          "time": 117
         },
         {
          "SIR I Prediction": 16.970161428901985,
          "series": "SIR I Prediction",
          "time": 118
         },
         {
          "I Observed": 7,
          "series": "I Observed",
          "time": 118
         },
         {
          "SIR I Prediction": 16.175249213337317,
          "series": "SIR I Prediction",
          "time": 119
         },
         {
          "I Observed": 7,
          "series": "I Observed",
          "time": 119
         },
         {
          "SIR I Prediction": 16.175249213337317,
          "series": "SIR I Prediction",
          "time": 120
         },
         {
          "I Observed": 7,
          "series": "I Observed",
          "time": 120
         }
        ]
       },
       "description": "",
       "layer": [
        {
         "encoding": {
          "color": {
           "field": "series",
           "type": "nominal"
          },
          "x": {
           "field": "time",
           "type": "quantitative"
          },
          "y": {
           "field": "SIR I Prediction",
           "type": "quantitative"
          }
         },
         "mark": "line"
        },
        {
         "encoding": {
          "color": {
           "field": "series",
           "type": "nominal"
          },
          "x": {
           "field": "time",
           "type": "quantitative"
          },
          "y": {
           "field": "I Observed",
           "type": "quantitative"
          }
         },
         "mark": "point"
        }
       ]
      },
      "image/png": "[encoded data removed]"
     },
     "metadata": {},
     "output_type": "display_data"
    }
   ],
   "source": [
    "sir_I_series = series(value(sir_vals.I), \"SIR I Prediction\", {{ style = \"Lines\" }})\n",
    "observed_I_series = series(value(observed.I),  \"I Observed\", {{ style = \"points\" }})\n",
    "plot(\"SIR vs observed\", [sir_I_series, observed_I_series], time(observed), \"time\")"
   ]
  },
  {
   "cell_type": "code",
   "execution_count": 5,
   "id": "1ba17292-4bb2-4ff5-bc60-f30c0203c5c2",
   "metadata": {},
   "outputs": [],
   "source": [
    "sir_fit = fit(sir, observed, \"beta\", \"gamma\")"
   ]
  },
  {
   "cell_type": "code",
   "execution_count": 6,
   "id": "f9fe37d0-6282-4c75-9224-01757fd3656b",
   "metadata": {},
   "outputs": [
    {
     "data": {
      "text/markdown": [
       "|Name|State/Param|Data Type|Value|\n",
       "|---|---|---|---|\n",
       "|I_init|parameter|Real|3.0|\n",
       "|R_init|parameter|Real|0.0|\n",
       "|S_init|parameter|Real|997.0|\n",
       "|beta|parameter|Real|0.4|\n",
       "|gamma|parameter|Real|4.0e-2|\n",
       "|I|state|Real|I_init|\n",
       "|R|state|Real|R_init|\n",
       "|S|state|Real|S_init|\n",
       "|N|state|Real|S + I + R|"
      ]
     },
     "metadata": {},
     "output_type": "display_data"
    },
    {
     "data": {
      "text/markdown": [
       "|Name|State/Param|Data Type|Value|\n",
       "|---|---|---|---|\n",
       "|I_init|parameter|Real|3.0|\n",
       "|R_init|parameter|Real|0.0|\n",
       "|S_init|parameter|Real|997.0|\n",
       "|beta|parameter|Real|0.4872368120687623|\n",
       "|gamma|parameter|Real|0.10333821050489315|\n",
       "|I|state|Real|I_init|\n",
       "|R|state|Real|R_init|\n",
       "|S|state|Real|S_init|\n",
       "|N|state|Real|S + I + R|"
      ]
     },
     "metadata": {},
     "output_type": "display_data"
    }
   ],
   "source": [
    "describeModel(sir)\n",
    "sir_withFit = withParams(sir, sir_fit.values)\n",
    "describeModel(sir_withFit)"
   ]
  },
  {
   "cell_type": "code",
   "execution_count": 7,
   "id": "e87365e8-0f97-4651-bf8c-ce07bd188c45",
   "metadata": {},
   "outputs": [
    {
     "data": {
      "application/vnd.vegalite.v4+json": {
       "$schema": "https://vega.github.io/schema/vega-lite/v4.json",
       "data": {
        "values": [
         {
          "SIR I Prediction": 4.612512477513633,
          "series": "SIR I Prediction",
          "time": 1
         },
         {
          "I Observed": 4,
          "series": "I Observed",
          "time": 1
         },
         {
          "Fit SIR I Prediction": 4.74427074233754,
          "series": "Fit SIR I Prediction",
          "time": 1
         },
         {
          "SIR I Prediction": 7.084147166413267,
          "series": "SIR I Prediction",
          "time": 2
         },
         {
          "I Observed": 7,
          "series": "I Observed",
          "time": 2
         },
         {
          "Fit SIR I Prediction": 7.4903998793576125,
          "series": "Fit SIR I Prediction",
          "time": 2
         },
         {
          "SIR I Prediction": 10.862345960870268,
          "series": "SIR I Prediction",
          "time": 3
         },
         {
          "I Observed": 11,
          "series": "I Observed",
          "time": 3
         },
         {
          "Fit SIR I Prediction": 11.795592861936903,
          "series": "Fit SIR I Prediction",
          "time": 3
         },
         {
          "SIR I Prediction": 16.613840082905732,
          "series": "SIR I Prediction",
          "time": 4
         },
         {
          "I Observed": 14,
          "series": "I Observed",
          "time": 4
         },
         {
          "Fit SIR I Prediction": 18.500373807393917,
          "series": "Fit SIR I Prediction",
          "time": 4
         },
         {
          "SIR I Prediction": 25.314048868134662,
          "series": "SIR I Prediction",
          "time": 5
         },
         {
          "I Observed": 29,
          "series": "I Observed",
          "time": 5
         },
         {
          "Fit SIR I Prediction": 28.83478747566519,
          "series": "Fit SIR I Prediction",
          "time": 5
         },
         {
          "SIR I Prediction": 25.314048868134662,
          "series": "SIR I Prediction",
          "time": 6
         },
         {
          "I Observed": 47,
          "series": "I Observed",
          "time": 6
         },
         {
          "Fit SIR I Prediction": 28.83478747566519,
          "series": "Fit SIR I Prediction",
          "time": 6
         },
         {
          "SIR I Prediction": 38.34943742036722,
          "series": "SIR I Prediction",
          "time": 7
         },
         {
          "I Observed": 67,
          "series": "I Observed",
          "time": 7
         },
         {
          "Fit SIR I Prediction": 44.51130598599027,
          "series": "Fit SIR I Prediction",
          "time": 7
         },
         {
          "SIR I Prediction": 57.60222819559139,
          "series": "SIR I Prediction",
          "time": 8
         },
         {
          "I Observed": 81,
          "series": "I Observed",
          "time": 8
         },
         {
          "Fit SIR I Prediction": 67.71985313620372,
          "series": "Fit SIR I Prediction",
          "time": 8
         },
         {
          "SIR I Prediction": 85.44214726893247,
          "series": "SIR I Prediction",
          "time": 9
         },
         {
          "I Observed": 156,
          "series": "I Observed",
          "time": 9
         },
         {
          "Fit SIR I Prediction": 100.85524803543919,
          "series": "Fit SIR I Prediction",
          "time": 9
         },
         {
          "SIR I Prediction": 124.48422329869666,
          "series": "SIR I Prediction",
          "time": 10
         },
         {
          "I Observed": 166,
          "series": "I Observed",
          "time": 10
         },
         {
          "Fit SIR I Prediction": 145.74457066599177,
          "series": "Fit SIR I Prediction",
          "time": 10
         },
         {
          "SIR I Prediction": 176.9265421352199,
          "series": "SIR I Prediction",
          "time": 11
         },
         {
          "I Observed": 213,
          "series": "I Observed",
          "time": 11
         },
         {
          "Fit SIR I Prediction": 202.28101251571852,
          "series": "Fit SIR I Prediction",
          "time": 11
         },
         {
          "SIR I Prediction": 176.9265421352199,
          "series": "SIR I Prediction",
          "time": 12
         },
         {
          "I Observed": 304,
          "series": "I Observed",
          "time": 12
         },
         {
          "Fit SIR I Prediction": 202.28101251571852,
          "series": "Fit SIR I Prediction",
          "time": 12
         },
         {
          "SIR I Prediction": 243.3805311187285,
          "series": "SIR I Prediction",
          "time": 13
         },
         {
          "I Observed": 362,
          "series": "I Observed",
          "time": 13
         },
         {
          "Fit SIR I Prediction": 266.94504469844594,
          "series": "Fit SIR I Prediction",
          "time": 13
         },
         {
          "SIR I Prediction": 321.5078847994842,
          "series": "SIR I Prediction",
          "time": 14
         },
         {
          "I Observed": 366,
          "series": "I Observed",
          "time": 14
         },
         {
          "Fit SIR I Prediction": 332.4799006778005,
          "series": "Fit SIR I Prediction",
          "time": 14
         },
         {
          "SIR I Prediction": 405.3768375568476,
          "series": "SIR I Prediction",
          "time": 15
         },
         {
          "I Observed": 377,
          "series": "I Observed",
          "time": 15
         },
         {
          "Fit SIR I Prediction": 389.8271018857567,
          "series": "Fit SIR I Prediction",
          "time": 15
         },
         {
          "SIR I Prediction": 486.53693801630845,
          "series": "SIR I Prediction",
          "time": 16
         },
         {
          "I Observed": 296,
          "series": "I Observed",
          "time": 16
         },
         {
          "Fit SIR I Prediction": 431.5654924349352,
          "series": "Fit SIR I Prediction",
          "time": 16
         },
         {
          "SIR I Prediction": 556.6929104249723,
          "series": "SIR I Prediction",
          "time": 17
         },
         {
          "I Observed": 424,
          "series": "I Observed",
          "time": 17
         },
         {
          "Fit SIR I Prediction": 454.4234625238948,
          "series": "Fit SIR I Prediction",
          "time": 17
         },
         {
          "SIR I Prediction": 556.6929104249723,
          "series": "SIR I Prediction",
          "time": 18
         },
         {
          "I Observed": 330,
          "series": "I Observed",
          "time": 18
         },
         {
          "Fit SIR I Prediction": 454.4234625238948,
          "series": "Fit SIR I Prediction",
          "time": 18
         },
         {
          "SIR I Prediction": 610.366269325482,
          "series": "SIR I Prediction",
          "time": 19
         },
         {
          "I Observed": 305,
          "series": "I Observed",
          "time": 19
         },
         {
          "Fit SIR I Prediction": 459.34709403432305,
          "series": "Fit SIR I Prediction",
          "time": 19
         },
         {
          "SIR I Prediction": 645.916068549896,
          "series": "SIR I Prediction",
          "time": 20
         },
         {
          "I Observed": 384,
          "series": "I Observed",
          "time": 20
         },
         {
          "Fit SIR I Prediction": 449.84651007289983,
          "series": "Fit SIR I Prediction",
          "time": 20
         },
         {
          "SIR I Prediction": 664.7889990712881,
          "series": "SIR I Prediction",
          "time": 21
         },
         {
          "I Observed": 362,
          "series": "I Observed",
          "time": 21
         },
         {
          "Fit SIR I Prediction": 430.1720513646361,
          "series": "Fit SIR I Prediction",
          "time": 21
         },
         {
          "SIR I Prediction": 670.0331217636414,
          "series": "SIR I Prediction",
          "time": 22
         },
         {
          "I Observed": 282,
          "series": "I Observed",
          "time": 22
         },
         {
          "Fit SIR I Prediction": 404.16949142826985,
          "series": "Fit SIR I Prediction",
          "time": 22
         },
         {
          "SIR I Prediction": 665.0345361135829,
          "series": "SIR I Prediction",
          "time": 23
         },
         {
          "I Observed": 253,
          "series": "I Observed",
          "time": 23
         },
         {
          "Fit SIR I Prediction": 374.8400294620708,
          "series": "Fit SIR I Prediction",
          "time": 23
         },
         {
          "SIR I Prediction": 665.0345361135829,
          "series": "SIR I Prediction",
          "time": 24
         },
         {
          "I Observed": 321,
          "series": "I Observed",
          "time": 24
         },
         {
          "Fit SIR I Prediction": 374.8400294620708,
          "series": "Fit SIR I Prediction",
          "time": 24
         },
         {
          "SIR I Prediction": 652.809144139295,
          "series": "SIR I Prediction",
          "time": 25
         },
         {
          "I Observed": 325,
          "series": "I Observed",
          "time": 25
         },
         {
          "Fit SIR I Prediction": 344.3212670456432,
          "series": "Fit SIR I Prediction",
          "time": 25
         },
         {
          "SIR I Prediction": 635.7527442825256,
          "series": "SIR I Prediction",
          "time": 26
         },
         {
          "I Observed": 297,
          "series": "I Observed",
          "time": 26
         },
         {
          "Fit SIR I Prediction": 314.0381494161779,
          "series": "Fit SIR I Prediction",
          "time": 26
         },
         {
          "SIR I Prediction": 615.6459108975389,
          "series": "SIR I Prediction",
          "time": 27
         },
         {
          "I Observed": 234,
          "series": "I Observed",
          "time": 27
         },
         {
          "Fit SIR I Prediction": 284.8853087875111,
          "series": "Fit SIR I Prediction",
          "time": 27
         },
         {
          "SIR I Prediction": 593.7591709320423,
          "series": "SIR I Prediction",
          "time": 28
         },
         {
          "I Observed": 233,
          "series": "I Observed",
          "time": 28
         },
         {
          "Fit SIR I Prediction": 257.38521888721016,
          "series": "Fit SIR I Prediction",
          "time": 28
         },
         {
          "SIR I Prediction": 570.975870535438,
          "series": "SIR I Prediction",
          "time": 29
         },
         {
          "I Observed": 229,
          "series": "I Observed",
          "time": 29
         },
         {
          "Fit SIR I Prediction": 231.80880170735549,
          "series": "Fit SIR I Prediction",
          "time": 29
         },
         {
          "SIR I Prediction": 570.975870535438,
          "series": "SIR I Prediction",
          "time": 30
         },
         {
          "I Observed": 242,
          "series": "I Observed",
          "time": 30
         },
         {
          "Fit SIR I Prediction": 231.80880170735549,
          "series": "Fit SIR I Prediction",
          "time": 30
         },
         {
          "SIR I Prediction": 547.8992436697823,
          "series": "SIR I Prediction",
          "time": 31
         },
         {
          "I Observed": 224,
          "series": "I Observed",
          "time": 31
         },
         {
          "Fit SIR I Prediction": 208.26171291095193,
          "series": "Fit SIR I Prediction",
          "time": 31
         },
         {
          "SIR I Prediction": 524.935247857979,
          "series": "SIR I Prediction",
          "time": 32
         },
         {
          "I Observed": 233,
          "series": "I Observed",
          "time": 32
         },
         {
          "Fit SIR I Prediction": 186.74395854047867,
          "series": "Fit SIR I Prediction",
          "time": 32
         },
         {
          "SIR I Prediction": 502.3529252040379,
          "series": "SIR I Prediction",
          "time": 33
         },
         {
          "I Observed": 236,
          "series": "I Observed",
          "time": 33
         },
         {
          "Fit SIR I Prediction": 167.19025542451448,
          "series": "Fit SIR I Prediction",
          "time": 33
         },
         {
          "SIR I Prediction": 480.3269963602333,
          "series": "SIR I Prediction",
          "time": 34
         },
         {
          "I Observed": 179,
          "series": "I Observed",
          "time": 34
         },
         {
          "Fit SIR I Prediction": 149.49699466941289,
          "series": "Fit SIR I Prediction",
          "time": 34
         },
         {
          "SIR I Prediction": 458.9674124038811,
          "series": "SIR I Prediction",
          "time": 35
         },
         {
          "I Observed": 163,
          "series": "I Observed",
          "time": 35
         },
         {
          "Fit SIR I Prediction": 133.5400618818703,
          "series": "Fit SIR I Prediction",
          "time": 35
         },
         {
          "SIR I Prediction": 458.9674124038811,
          "series": "SIR I Prediction",
          "time": 36
         },
         {
          "I Observed": 168,
          "series": "I Observed",
          "time": 36
         },
         {
          "Fit SIR I Prediction": 133.5400618818703,
          "series": "Fit SIR I Prediction",
          "time": 36
         },
         {
          "SIR I Prediction": 438.3396951839722,
          "series": "SIR I Prediction",
          "time": 37
         },
         {
          "I Observed": 217,
          "series": "I Observed",
          "time": 37
         },
         {
          "Fit SIR I Prediction": 119.1864791174976,
          "series": "Fit SIR I Prediction",
          "time": 37
         },
         {
          "SIR I Prediction": 418.47890275005693,
          "series": "SIR I Prediction",
          "time": 38
         },
         {
          "I Observed": 160,
          "series": "I Observed",
          "time": 38
         },
         {
          "Fit SIR I Prediction": 106.30189138111746,
          "series": "Fit SIR I Prediction",
          "time": 38
         },
         {
          "SIR I Prediction": 399.39922667617293,
          "series": "SIR I Prediction",
          "time": 39
         },
         {
          "I Observed": 134,
          "series": "I Observed",
          "time": 39
         },
         {
          "Fit SIR I Prediction": 94.75526733517626,
          "series": "Fit SIR I Prediction",
          "time": 39
         },
         {
          "SIR I Prediction": 381.10060719631366,
          "series": "SIR I Prediction",
          "time": 40
         },
         {
          "I Observed": 168,
          "series": "I Observed",
          "time": 40
         },
         {
          "Fit SIR I Prediction": 84.42173467430572,
          "series": "Fit SIR I Prediction",
          "time": 40
         },
         {
          "SIR I Prediction": 363.57331161780166,
          "series": "SIR I Prediction",
          "time": 41
         },
         {
          "I Observed": 173,
          "series": "I Observed",
          "time": 41
         },
         {
          "Fit SIR I Prediction": 75.18417268353603,
          "series": "Fit SIR I Prediction",
          "time": 41
         },
         {
          "SIR I Prediction": 363.57331161780166,
          "series": "SIR I Prediction",
          "time": 42
         },
         {
          "I Observed": 150,
          "series": "I Observed",
          "time": 42
         },
         {
          "Fit SIR I Prediction": 75.18417268353603,
          "series": "Fit SIR I Prediction",
          "time": 42
         },
         {
          "SIR I Prediction": 346.80111768501376,
          "series": "SIR I Prediction",
          "time": 43
         },
         {
          "I Observed": 139,
          "series": "I Observed",
          "time": 43
         },
         {
          "Fit SIR I Prediction": 66.9339814434186,
          "series": "Fit SIR I Prediction",
          "time": 43
         },
         {
          "SIR I Prediction": 330.76353706842895,
          "series": "SIR I Prediction",
          "time": 44
         },
         {
          "I Observed": 120,
          "series": "I Observed",
          "time": 44
         },
         {
          "Fit SIR I Prediction": 59.57131165643482,
          "series": "Fit SIR I Prediction",
          "time": 44
         },
         {
          "SIR I Prediction": 315.43737474627045,
          "series": "SIR I Prediction",
          "time": 45
         },
         {
          "I Observed": 126,
          "series": "I Observed",
          "time": 45
         },
         {
          "Fit SIR I Prediction": 53.00494758912001,
          "series": "Fit SIR I Prediction",
          "time": 45
         },
         {
          "SIR I Prediction": 300.79782610338674,
          "series": "SIR I Prediction",
          "time": 46
         },
         {
          "I Observed": 110,
          "series": "I Observed",
          "time": 46
         },
         {
          "Fit SIR I Prediction": 47.15197368810105,
          "series": "Fit SIR I Prediction",
          "time": 46
         },
         {
          "SIR I Prediction": 286.8192501898575,
          "series": "SIR I Prediction",
          "time": 47
         },
         {
          "I Observed": 127,
          "series": "I Observed",
          "time": 47
         },
         {
          "Fit SIR I Prediction": 41.93731329835128,
          "series": "Fit SIR I Prediction",
          "time": 47
         },
         {
          "SIR I Prediction": 286.8192501898575,
          "series": "SIR I Prediction",
          "time": 48
         },
         {
          "I Observed": 132,
          "series": "I Observed",
          "time": 48
         },
         {
          "Fit SIR I Prediction": 41.93731329835128,
          "series": "Fit SIR I Prediction",
          "time": 48
         },
         {
          "SIR I Prediction": 273.4757146773667,
          "series": "SIR I Prediction",
          "time": 49
         },
         {
          "I Observed": 115,
          "series": "I Observed",
          "time": 49
         },
         {
          "Fit SIR I Prediction": 37.29319912507248,
          "series": "Fit SIR I Prediction",
          "time": 49
         },
         {
          "SIR I Prediction": 260.74137887184963,
          "series": "SIR I Prediction",
          "time": 50
         },
         {
          "I Observed": 98,
          "series": "I Observed",
          "time": 50
         },
         {
          "Fit SIR I Prediction": 33.158615334021846,
          "series": "Fit SIR I Prediction",
          "time": 50
         },
         {
          "SIR I Prediction": 248.59076118492425,
          "series": "SIR I Prediction",
          "time": 51
         },
         {
          "I Observed": 113,
          "series": "I Observed",
          "time": 51
         },
         {
          "Fit SIR I Prediction": 29.47873760067233,
          "series": "Fit SIR I Prediction",
          "time": 51
         },
         {
          "SIR I Prediction": 236.9989237342711,
          "series": "SIR I Prediction",
          "time": 52
         },
         {
          "I Observed": 88,
          "series": "I Observed",
          "time": 52
         },
         {
          "Fit SIR I Prediction": 26.20438805966002,
          "series": "Fit SIR I Prediction",
          "time": 52
         },
         {
          "SIR I Prediction": 225.94159723166163,
          "series": "SIR I Prediction",
          "time": 53
         },
         {
          "I Observed": 99,
          "series": "I Observed",
          "time": 53
         },
         {
          "Fit SIR I Prediction": 23.2915156608465,
          "series": "Fit SIR I Prediction",
          "time": 53
         },
         {
          "SIR I Prediction": 225.94159723166163,
          "series": "SIR I Prediction",
          "time": 54
         },
         {
          "I Observed": 89,
          "series": "I Observed",
          "time": 54
         },
         {
          "Fit SIR I Prediction": 23.2915156608465,
          "series": "Fit SIR I Prediction",
          "time": 54
         },
         {
          "SIR I Prediction": 215.3952626849467,
          "series": "SIR I Prediction",
          "time": 55
         },
         {
          "I Observed": 102,
          "series": "I Observed",
          "time": 55
         },
         {
          "Fit SIR I Prediction": 20.70070801257487,
          "series": "Fit SIR I Prediction",
          "time": 55
         },
         {
          "SIR I Prediction": 205.33720178463977,
          "series": "SIR I Prediction",
          "time": 56
         },
         {
          "I Observed": 95,
          "series": "I Observed",
          "time": 56
         },
         {
          "Fit SIR I Prediction": 18.396737772292532,
          "series": "Fit SIR I Prediction",
          "time": 56
         },
         {
          "SIR I Prediction": 195.74552455144783,
          "series": "SIR I Prediction",
          "time": 57
         },
         {
          "I Observed": 94,
          "series": "I Observed",
          "time": 57
         },
         {
          "Fit SIR I Prediction": 16.348144605367473,
          "series": "Fit SIR I Prediction",
          "time": 57
         },
         {
          "SIR I Prediction": 186.59918048313412,
          "series": "SIR I Prediction",
          "time": 58
         },
         {
          "I Observed": 83,
          "series": "I Observed",
          "time": 58
         },
         {
          "Fit SIR I Prediction": 14.526852379662435,
          "series": "Fit SIR I Prediction",
          "time": 58
         },
         {
          "SIR I Prediction": 177.87795775876157,
          "series": "SIR I Prediction",
          "time": 59
         },
         {
          "I Observed": 86,
          "series": "I Observed",
          "time": 59
         },
         {
          "Fit SIR I Prediction": 12.90782039004601,
          "series": "Fit SIR I Prediction",
          "time": 59
         },
         {
          "SIR I Prediction": 177.87795775876157,
          "series": "SIR I Prediction",
          "time": 60
         },
         {
          "I Observed": 60,
          "series": "I Observed",
          "time": 60
         },
         {
          "Fit SIR I Prediction": 12.90782039004601,
          "series": "Fit SIR I Prediction",
          "time": 60
         },
         {
          "SIR I Prediction": 169.56247384798624,
          "series": "SIR I Prediction",
          "time": 61
         },
         {
          "I Observed": 83,
          "series": "I Observed",
          "time": 61
         },
         {
          "Fit SIR I Prediction": 11.468726868646097,
          "series": "Fit SIR I Prediction",
          "time": 61
         },
         {
          "SIR I Prediction": 161.6341599963023,
          "series": "SIR I Prediction",
          "time": 62
         },
         {
          "I Observed": 67,
          "series": "I Observed",
          "time": 62
         },
         {
          "Fit SIR I Prediction": 10.189682731114084,
          "series": "Fit SIR I Prediction",
          "time": 62
         },
         {
          "SIR I Prediction": 154.07524141603406,
          "series": "SIR I Prediction",
          "time": 63
         },
         {
          "I Observed": 66,
          "series": "I Observed",
          "time": 63
         },
         {
          "Fit SIR I Prediction": 9.052973364174699,
          "series": "Fit SIR I Prediction",
          "time": 63
         },
         {
          "SIR I Prediction": 146.8687145423638,
          "series": "SIR I Prediction",
          "time": 64
         },
         {
          "I Observed": 57,
          "series": "I Observed",
          "time": 64
         },
         {
          "Fit SIR I Prediction": 8.042826224040756,
          "series": "Fit SIR I Prediction",
          "time": 64
         },
         {
          "SIR I Prediction": 139.9983223662955,
          "series": "SIR I Prediction",
          "time": 65
         },
         {
          "I Observed": 58,
          "series": "I Observed",
          "time": 65
         },
         {
          "Fit SIR I Prediction": 7.145202052527969,
          "series": "Fit SIR I Prediction",
          "time": 65
         },
         {
          "SIR I Prediction": 139.9983223662955,
          "series": "SIR I Prediction",
          "time": 66
         },
         {
          "I Observed": 49,
          "series": "I Observed",
          "time": 66
         },
         {
          "Fit SIR I Prediction": 7.145202052527969,
          "series": "Fit SIR I Prediction",
          "time": 66
         },
         {
          "SIR I Prediction": 133.44852859861277,
          "series": "SIR I Prediction",
          "time": 67
         },
         {
          "I Observed": 53,
          "series": "I Observed",
          "time": 67
         },
         {
          "Fit SIR I Prediction": 6.34760760215842,
          "series": "Fit SIR I Prediction",
          "time": 67
         },
         {
          "SIR I Prediction": 127.20449122657087,
          "series": "SIR I Prediction",
          "time": 68
         },
         {
          "I Observed": 43,
          "series": "I Observed",
          "time": 68
         },
         {
          "Fit SIR I Prediction": 5.638927875005097,
          "series": "Fit SIR I Prediction",
          "time": 68
         },
         {
          "SIR I Prediction": 121.2520358809604,
          "series": "SIR I Prediction",
          "time": 69
         },
         {
          "I Observed": 49,
          "series": "I Observed",
          "time": 69
         },
         {
          "Fit SIR I Prediction": 5.009276009729717,
          "series": "Fit SIR I Prediction",
          "time": 69
         },
         {
          "SIR I Prediction": 115.5776293227591,
          "series": "SIR I Prediction",
          "time": 70
         },
         {
          "I Observed": 52,
          "series": "I Observed",
          "time": 70
         },
         {
          "Fit SIR I Prediction": 4.449859088315044,
          "series": "Fit SIR I Prediction",
          "time": 70
         },
         {
          "SIR I Prediction": 110.168353276707,
          "series": "SIR I Prediction",
          "time": 71
         },
         {
          "I Observed": 50,
          "series": "I Observed",
          "time": 71
         },
         {
          "Fit SIR I Prediction": 3.9528582722927665,
          "series": "Fit SIR I Prediction",
          "time": 71
         },
         {
          "SIR I Prediction": 110.168353276707,
          "series": "SIR I Prediction",
          "time": 72
         },
         {
          "I Observed": 41,
          "series": "I Observed",
          "time": 72
         },
         {
          "Fit SIR I Prediction": 3.9528582722927665,
          "series": "Fit SIR I Prediction",
          "time": 72
         },
         {
          "SIR I Prediction": 105.01187877711385,
          "series": "SIR I Prediction",
          "time": 73
         },
         {
          "I Observed": 36,
          "series": "I Observed",
          "time": 73
         },
         {
          "Fit SIR I Prediction": 3.5113218137250666,
          "series": "Fit SIR I Prediction",
          "time": 73
         },
         {
          "SIR I Prediction": 100.0964411440919,
          "series": "SIR I Prediction",
          "time": 74
         },
         {
          "I Observed": 49,
          "series": "I Observed",
          "time": 74
         },
         {
          "Fit SIR I Prediction": 3.119069616151073,
          "series": "Fit SIR I Prediction",
          "time": 74
         },
         {
          "SIR I Prediction": 95.41081567255515,
          "series": "SIR I Prediction",
          "time": 75
         },
         {
          "I Observed": 45,
          "series": "I Observed",
          "time": 75
         },
         {
          "Fit SIR I Prediction": 2.7706081435224923,
          "series": "Fit SIR I Prediction",
          "time": 75
         },
         {
          "SIR I Prediction": 90.94429408901449,
          "series": "SIR I Prediction",
          "time": 76
         },
         {
          "I Observed": 32,
          "series": "I Observed",
          "time": 76
         },
         {
          "Fit SIR I Prediction": 2.4610545899144247,
          "series": "Fit SIR I Prediction",
          "time": 76
         },
         {
          "SIR I Prediction": 86.68666181038601,
          "series": "SIR I Prediction",
          "time": 77
         },
         {
          "I Observed": 33,
          "series": "I Observed",
          "time": 77
         },
         {
          "Fit SIR I Prediction": 2.1860693291049427,
          "series": "Fit SIR I Prediction",
          "time": 77
         },
         {
          "SIR I Prediction": 86.68666181038601,
          "series": "SIR I Prediction",
          "time": 78
         },
         {
          "I Observed": 39,
          "series": "I Observed",
          "time": 78
         },
         {
          "Fit SIR I Prediction": 2.1860693291049427,
          "series": "Fit SIR I Prediction",
          "time": 78
         },
         {
          "SIR I Prediction": 82.62817602319282,
          "series": "SIR I Prediction",
          "time": 79
         },
         {
          "I Observed": 33,
          "series": "I Observed",
          "time": 79
         },
         {
          "Fit SIR I Prediction": 1.9417957609205112,
          "series": "Fit SIR I Prediction",
          "time": 79
         },
         {
          "SIR I Prediction": 78.75954458951394,
          "series": "SIR I Prediction",
          "time": 80
         },
         {
          "I Observed": 27,
          "series": "I Observed",
          "time": 80
         },
         {
          "Fit SIR I Prediction": 1.7248067607304263,
          "series": "Fit SIR I Prediction",
          "time": 80
         },
         {
          "SIR I Prediction": 75.07190577694269,
          "series": "SIR I Prediction",
          "time": 81
         },
         {
          "I Observed": 32,
          "series": "I Observed",
          "time": 81
         },
         {
          "Fit SIR I Prediction": 1.532057019985286,
          "series": "Fit SIR I Prediction",
          "time": 81
         },
         {
          "SIR I Prediction": 71.55680880299194,
          "series": "SIR I Prediction",
          "time": 82
         },
         {
          "I Observed": 29,
          "series": "I Observed",
          "time": 82
         },
         {
          "Fit SIR I Prediction": 1.360840639670965,
          "series": "Fit SIR I Prediction",
          "time": 82
         },
         {
          "SIR I Prediction": 68.20619517930733,
          "series": "SIR I Prediction",
          "time": 83
         },
         {
          "I Observed": 32,
          "series": "I Observed",
          "time": 83
         },
         {
          "Fit SIR I Prediction": 1.2087534054831806,
          "series": "Fit SIR I Prediction",
          "time": 83
         },
         {
          "SIR I Prediction": 68.20619517930733,
          "series": "SIR I Prediction",
          "time": 84
         },
         {
          "I Observed": 30,
          "series": "I Observed",
          "time": 84
         },
         {
          "Fit SIR I Prediction": 1.2087534054831806,
          "series": "Fit SIR I Prediction",
          "time": 84
         },
         {
          "SIR I Prediction": 65.01238083733467,
          "series": "SIR I Prediction",
          "time": 85
         },
         {
          "I Observed": 27,
          "series": "I Observed",
          "time": 85
         },
         {
          "Fit SIR I Prediction": 1.073659233935423,
          "series": "Fit SIR I Prediction",
          "time": 85
         },
         {
          "SIR I Prediction": 61.96803901442397,
          "series": "SIR I Prediction",
          "time": 86
         },
         {
          "I Observed": 29,
          "series": "I Observed",
          "time": 86
         },
         {
          "Fit SIR I Prediction": 0.9536603330139283,
          "series": "Fit SIR I Prediction",
          "time": 86
         },
         {
          "SIR I Prediction": 59.06618387750695,
          "series": "SIR I Prediction",
          "time": 87
         },
         {
          "I Observed": 26,
          "series": "I Observed",
          "time": 87
         },
         {
          "Fit SIR I Prediction": 0.8470706698959909,
          "series": "Fit SIR I Prediction",
          "time": 87
         },
         {
          "SIR I Prediction": 56.300154860276365,
          "series": "SIR I Prediction",
          "time": 88
         },
         {
          "I Observed": 23,
          "series": "I Observed",
          "time": 88
         },
         {
          "Fit SIR I Prediction": 0.752392382139764,
          "series": "Fit SIR I Prediction",
          "time": 88
         },
         {
          "SIR I Prediction": 53.66360168907613,
          "series": "SIR I Prediction",
          "time": 89
         },
         {
          "I Observed": 18,
          "series": "I Observed",
          "time": 89
         },
         {
          "Fit SIR I Prediction": 0.6682948080041154,
          "series": "Fit SIR I Prediction",
          "time": 89
         },
         {
          "SIR I Prediction": 53.66360168907613,
          "series": "SIR I Prediction",
          "time": 90
         },
         {
          "I Observed": 24,
          "series": "I Observed",
          "time": 90
         },
         {
          "Fit SIR I Prediction": 0.6682948080041154,
          "series": "Fit SIR I Prediction",
          "time": 90
         },
         {
          "SIR I Prediction": 51.150470072376336,
          "series": "SIR I Prediction",
          "time": 91
         },
         {
          "I Observed": 24,
          "series": "I Observed",
          "time": 91
         },
         {
          "Fit SIR I Prediction": 0.5935958472830232,
          "series": "Fit SIR I Prediction",
          "time": 91
         },
         {
          "SIR I Prediction": 48.75498802866376,
          "series": "SIR I Prediction",
          "time": 92
         },
         {
          "I Observed": 18,
          "series": "I Observed",
          "time": 92
         },
         {
          "Fit SIR I Prediction": 0.5272453944247281,
          "series": "Fit SIR I Prediction",
          "time": 92
         },
         {
          "SIR I Prediction": 46.471652827760934,
          "series": "SIR I Prediction",
          "time": 93
         },
         {
          "I Observed": 16,
          "series": "I Observed",
          "time": 93
         },
         {
          "Fit SIR I Prediction": 0.468310615148357,
          "series": "Fit SIR I Prediction",
          "time": 93
         },
         {
          "SIR I Prediction": 44.29521852094099,
          "series": "SIR I Prediction",
          "time": 94
         },
         {
          "I Observed": 21,
          "series": "I Observed",
          "time": 94
         },
         {
          "Fit SIR I Prediction": 0.4159628621305879,
          "series": "Fit SIR I Prediction",
          "time": 94
         },
         {
          "SIR I Prediction": 42.22068403568705,
          "series": "SIR I Prediction",
          "time": 95
         },
         {
          "I Observed": 18,
          "series": "I Observed",
          "time": 95
         },
         {
          "Fit SIR I Prediction": 0.36946604799517413,
          "series": "Fit SIR I Prediction",
          "time": 95
         },
         {
          "SIR I Prediction": 42.22068403568705,
          "series": "SIR I Prediction",
          "time": 96
         },
         {
          "I Observed": 15,
          "series": "I Observed",
          "time": 96
         },
         {
          "Fit SIR I Prediction": 0.36946604799517413,
          "series": "Fit SIR I Prediction",
          "time": 96
         },
         {
          "SIR I Prediction": 40.24328181152331,
          "series": "SIR I Prediction",
          "time": 97
         },
         {
          "I Observed": 17,
          "series": "I Observed",
          "time": 97
         },
         {
          "Fit SIR I Prediction": 0.3281663138381985,
          "series": "Fit SIR I Prediction",
          "time": 97
         },
         {
          "SIR I Prediction": 38.35846695399084,
          "series": "SIR I Prediction",
          "time": 98
         },
         {
          "I Observed": 15,
          "series": "I Observed",
          "time": 98
         },
         {
          "Fit SIR I Prediction": 0.2914828493615306,
          "series": "Fit SIR I Prediction",
          "time": 98
         },
         {
          "SIR I Prediction": 36.56190688453529,
          "series": "SIR I Prediction",
          "time": 99
         },
         {
          "I Observed": 14,
          "series": "I Observed",
          "time": 99
         },
         {
          "Fit SIR I Prediction": 0.25889973658923215,
          "series": "Fit SIR I Prediction",
          "time": 99
         },
         {
          "SIR I Prediction": 34.84947146479975,
          "series": "SIR I Prediction",
          "time": 100
         },
         {
          "I Observed": 14,
          "series": "I Observed",
          "time": 100
         },
         {
          "Fit SIR I Prediction": 0.22995870335325175,
          "series": "Fit SIR I Prediction",
          "time": 100
         },
         {
          "SIR I Prediction": 33.217223574559455,
          "series": "SIR I Prediction",
          "time": 101
         },
         {
          "I Observed": 12,
          "series": "I Observed",
          "time": 101
         },
         {
          "Fit SIR I Prediction": 0.20425268502506125,
          "series": "Fit SIR I Prediction",
          "time": 101
         },
         {
          "SIR I Prediction": 33.217223574559455,
          "series": "SIR I Prediction",
          "time": 102
         },
         {
          "I Observed": 13,
          "series": "I Observed",
          "time": 102
         },
         {
          "Fit SIR I Prediction": 0.20425268502506125,
          "series": "Fit SIR I Prediction",
          "time": 102
         },
         {
          "SIR I Prediction": 31.661410123288075,
          "series": "SIR I Prediction",
          "time": 103
         },
         {
          "I Observed": 11,
          "series": "I Observed",
          "time": 103
         },
         {
          "Fit SIR I Prediction": 0.18142010490746738,
          "series": "Fit SIR I Prediction",
          "time": 103
         },
         {
          "SIR I Prediction": 30.178453476097783,
          "series": "SIR I Prediction",
          "time": 104
         },
         {
          "I Observed": 11,
          "series": "I Observed",
          "time": 104
         },
         {
          "Fit SIR I Prediction": 0.16113979292616382,
          "series": "Fit SIR I Prediction",
          "time": 104
         },
         {
          "SIR I Prediction": 28.764943275542365,
          "series": "SIR I Prediction",
          "time": 105
         },
         {
          "I Observed": 11,
          "series": "I Observed",
          "time": 105
         },
         {
          "Fit SIR I Prediction": 0.14312647155798663,
          "series": "Fit SIR I Prediction",
          "time": 105
         },
         {
          "SIR I Prediction": 27.417628641509463,
          "series": "SIR I Prediction",
          "time": 106
         },
         {
          "I Observed": 9,
          "series": "I Observed",
          "time": 106
         },
         {
          "Fit SIR I Prediction": 0.12712674575445532,
          "series": "Fit SIR I Prediction",
          "time": 106
         },
         {
          "SIR I Prediction": 26.133410732149745,
          "series": "SIR I Prediction",
          "time": 107
         },
         {
          "I Observed": 11,
          "series": "I Observed",
          "time": 107
         },
         {
          "Fit SIR I Prediction": 0.1129155406529516,
          "series": "Fit SIR I Prediction",
          "time": 107
         },
         {
          "SIR I Prediction": 26.133410732149745,
          "series": "SIR I Prediction",
          "time": 108
         },
         {
          "I Observed": 8,
          "series": "I Observed",
          "time": 108
         },
         {
          "Fit SIR I Prediction": 0.1129155406529516,
          "series": "Fit SIR I Prediction",
          "time": 108
         },
         {
          "SIR I Prediction": 24.909335649496896,
          "series": "SIR I Prediction",
          "time": 109
         },
         {
          "I Observed": 11,
          "series": "I Observed",
          "time": 109
         },
         {
          "Fit SIR I Prediction": 0.10029293712298815,
          "series": "Fit SIR I Prediction",
          "time": 109
         },
         {
          "SIR I Prediction": 23.74258767411851,
          "series": "SIR I Prediction",
          "time": 110
         },
         {
          "I Observed": 11,
          "series": "I Observed",
          "time": 110
         },
         {
          "Fit SIR I Prediction": 0.08908136075685333,
          "series": "Fit SIR I Prediction",
          "time": 110
         },
         {
          "SIR I Prediction": 22.630482813804363,
          "series": "SIR I Prediction",
          "time": 111
         },
         {
          "I Observed": 9,
          "series": "I Observed",
          "time": 111
         },
         {
          "Fit SIR I Prediction": 0.0791230848587336,
          "series": "Fit SIR I Prediction",
          "time": 111
         },
         {
          "SIR I Prediction": 21.570462651943775,
          "series": "SIR I Prediction",
          "time": 112
         },
         {
          "I Observed": 10,
          "series": "I Observed",
          "time": 112
         },
         {
          "Fit SIR I Prediction": 0.07027801238217962,
          "series": "Fit SIR I Prediction",
          "time": 112
         },
         {
          "SIR I Prediction": 20.56008848186659,
          "series": "SIR I Prediction",
          "time": 113
         },
         {
          "I Observed": 9,
          "series": "I Observed",
          "time": 113
         },
         {
          "Fit SIR I Prediction": 0.062421705673079024,
          "series": "Fit SIR I Prediction",
          "time": 113
         },
         {
          "SIR I Prediction": 20.56008848186659,
          "series": "SIR I Prediction",
          "time": 114
         },
         {
          "I Observed": 10,
          "series": "I Observed",
          "time": 114
         },
         {
          "Fit SIR I Prediction": 0.062421705673079024,
          "series": "Fit SIR I Prediction",
          "time": 114
         },
         {
          "SIR I Prediction": 19.597035714023914,
          "series": "SIR I Prediction",
          "time": 115
         },
         {
          "I Observed": 7,
          "series": "I Observed",
          "time": 115
         },
         {
          "Fit SIR I Prediction": 0.055443636348124346,
          "series": "Fit SIR I Prediction",
          "time": 115
         },
         {
          "SIR I Prediction": 18.67908854346326,
          "series": "SIR I Prediction",
          "time": 116
         },
         {
          "I Observed": 6,
          "series": "I Observed",
          "time": 116
         },
         {
          "Fit SIR I Prediction": 0.04924563072518336,
          "series": "Fit SIR I Prediction",
          "time": 116
         },
         {
          "SIR I Prediction": 17.80413486561003,
          "series": "SIR I Prediction",
          "time": 117
         },
         {
          "I Observed": 8,
          "series": "I Observed",
          "time": 117
         },
         {
          "Fit SIR I Prediction": 0.04374048896481283,
          "series": "Fit SIR I Prediction",
          "time": 117
         },
         {
          "SIR I Prediction": 16.970161428901985,
          "series": "SIR I Prediction",
          "time": 118
         },
         {
          "I Observed": 7,
          "series": "I Observed",
          "time": 118
         },
         {
          "Fit SIR I Prediction": 0.03885075851949967,
          "series": "Fit SIR I Prediction",
          "time": 118
         },
         {
          "SIR I Prediction": 16.175249213337317,
          "series": "SIR I Prediction",
          "time": 119
         },
         {
          "I Observed": 7,
          "series": "I Observed",
          "time": 119
         },
         {
          "Fit SIR I Prediction": 0.03450764465298719,
          "series": "Fit SIR I Prediction",
          "time": 119
         },
         {
          "SIR I Prediction": 16.175249213337317,
          "series": "SIR I Prediction",
          "time": 120
         },
         {
          "I Observed": 7,
          "series": "I Observed",
          "time": 120
         },
         {
          "Fit SIR I Prediction": 0.03450764465298719,
          "series": "Fit SIR I Prediction",
          "time": 120
         }
        ]
       },
       "description": "",
       "layer": [
        {
         "encoding": {
          "color": {
           "field": "series",
           "type": "nominal"
          },
          "x": {
           "field": "time",
           "type": "quantitative"
          },
          "y": {
           "field": "SIR I Prediction",
           "type": "quantitative"
          }
         },
         "mark": "line"
        },
        {
         "encoding": {
          "color": {
           "field": "series",
           "type": "nominal"
          },
          "x": {
           "field": "time",
           "type": "quantitative"
          },
          "y": {
           "field": "I Observed",
           "type": "quantitative"
          }
         },
         "mark": "point"
        },
        {
         "encoding": {
          "color": {
           "field": "series",
           "type": "nominal"
          },
          "x": {
           "field": "time",
           "type": "quantitative"
          },
          "y": {
           "field": "Fit SIR I Prediction",
           "type": "quantitative"
          }
         },
         "mark": "line"
        }
       ]
      },
      "image/png": "[encoded data removed]"
     },
     "metadata": {},
     "output_type": "display_data"
    }
   ],
   "source": [
    "sir_fit_vals = simulate(sir_withFit at time(observed))\n",
    "sir_fit_series = series(value(sir_fit_vals.I), \"Fit SIR I Prediction\", {{ style = \"Lines\" }})\n",
    "plot(\"SIR vs observed\", [sir_I_series, observed_I_series, sir_fit_series], time(observed), \"time\")"
   ]
  },
  {
   "cell_type": "code",
   "execution_count": 8,
   "id": "9326877b-5704-4440-a25d-0e06737bfcac",
   "metadata": {},
   "outputs": [],
   "source": [
    "seird = loadESL(\"models/seird_hosp.easel\")"
   ]
  },
  {
   "cell_type": "code",
   "execution_count": 9,
   "id": "71417af5-b5c4-4d4c-8e02-c6ce67bd7cab",
   "metadata": {},
   "outputs": [
    {
     "data": {
      "text/markdown": [
       "|Name|State/Param|Data Type|Value|\n",
       "|---|---|---|---|\n",
       "|beta|parameter|Real|0.8|\n",
       "|d|parameter|Real|5.0e-3|\n",
       "|dh|parameter|Real|5.0e-2|\n",
       "|di|parameter|Real|1.0e-2|\n",
       "|gamma|parameter|Real|0.333|\n",
       "|nu|parameter|Real|0.4|\n",
       "|pHosp|parameter|Real|0.2|\n",
       "|sigma|parameter|Real|0.6|\n",
       "|Dead|state|Real|0.0|\n",
       "|Exposed|state|Real|0.0|\n",
       "|Hospitalized|state|Real|0.0|\n",
       "|Infected|state|Real|1.0|\n",
       "|Recovered|state|Real|0.0|\n",
       "|Susceptible|state|Real|500.0|\n",
       "|population|state|Real|Susceptible + Recovered + Infected + Exposed + Hospitalized|"
      ]
     },
     "metadata": {},
     "output_type": "display_data"
    }
   ],
   "source": [
    "describeModel(seird)"
   ]
  },
  {
   "cell_type": "code",
   "execution_count": 10,
   "id": "2a417f30-ddfc-48b0-80a4-4c226495bff8",
   "metadata": {},
   "outputs": [
    {
     "data": {
      "text/markdown": [
       "|Name|State/Param|Data Type|Value|\n",
       "|---|---|---|---|\n",
       "|ep1_beta|parameter|Real|0.8|\n",
       "|ep1_d|parameter|Real|5.0e-3|\n",
       "|ep1_dh|parameter|Real|5.0e-2|\n",
       "|ep1_di|parameter|Real|1.0e-2|\n",
       "|ep1_gamma|parameter|Real|0.333|\n",
       "|ep1_nu|parameter|Real|0.4|\n",
       "|ep1_pHosp|parameter|Real|0.2|\n",
       "|ep1_sigma|parameter|Real|0.6|\n",
       "|ep2_I_init|parameter|Real|3.0|\n",
       "|ep2_R_init|parameter|Real|0.0|\n",
       "|ep2_S_init|parameter|Real|997.0|\n",
       "|ep2_beta|parameter|Real|0.4|\n",
       "|ep2_gamma|parameter|Real|4.0e-2|\n",
       "|Susceptible|state|Real|500.0|\n",
       "|ep1_Dead|state|Real|0.0|\n",
       "|ep1_Exposed|state|Real|0.0|\n",
       "|ep1_Hospitalized|state|Real|0.0|\n",
       "|ep1_Infected|state|Real|1.0|\n",
       "|ep1_Recovered|state|Real|0.0|\n",
       "|ep2_I|state|Real|ep2_I_init|\n",
       "|ep2_R|state|Real|ep2_R_init|\n",
       "|ep1_population|state|Real|ep1_Recovered + ep1_Infected + ep1_Exposed + Susceptible + ep1_Hospitalized|\n",
       "|ep2_N|state|Real|ep2_I + Susceptible + ep2_R|"
      ]
     },
     "metadata": {},
     "output_type": "display_data"
    }
   ],
   "source": [
    "double_epidemic = \n",
    "  join([\"ep1_\", seird],\n",
    "       [\"ep2_\", sir],\n",
    "       [[\"Susceptible\", \"S\"]])\n",
    "describeModel(double_epidemic)\n"
   ]
  },
  {
   "cell_type": "code",
   "execution_count": null,
   "id": "0f5389d7-9657-44a5-98c2-e6cee7ef8c13",
   "metadata": {},
   "outputs": [],
   "source": []
  },
  {
   "cell_type": "code",
   "execution_count": null,
   "id": "02c49d1c-4092-4fce-ba84-aa0f3a5554c1",
   "metadata": {},
   "outputs": [],
   "source": []
  },
  {
   "cell_type": "code",
   "execution_count": null,
   "id": "dbb627ef-38e5-48ba-a139-c902170f1319",
   "metadata": {},
   "outputs": [],
   "source": []
  },
  {
   "cell_type": "code",
   "execution_count": null,
   "id": "cbbe3a6e-1e3d-410d-8869-bfeb12eda7a7",
   "metadata": {},
   "outputs": [],
   "source": []
  }
 ],
 "metadata": {
  "kernelspec": {
   "display_name": "ASKE-E",
   "language": "",
   "name": "askee_kernel"
  },
  "language_info": {
   "file_extension": ".txt",
   "mimetype": "text/plain",
   "name": "Any text"
  }
 },
 "nbformat": 4,
 "nbformat_minor": 5
}
