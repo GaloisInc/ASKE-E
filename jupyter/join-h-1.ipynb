{
 "cells": [
  {
   "cell_type": "code",
   "execution_count": 1,
   "id": "88901349-1d9a-4c77-b1a3-3874e2a5343e",
   "metadata": {},
   "outputs": [],
   "source": [
    "sir = loadESL(\"sir.easel\")\n",
    "seirdh = loadESL(\"seird_hosp.easel\")\n",
    "joinedH = join([\"SIR_\", sir], [\"SEIRD_\", seirdh], [[\"S\", \"Susceptible\"]])"
   ]
  },
  {
   "cell_type": "code",
   "execution_count": 2,
   "id": "5df55176-4eea-4726-8936-1f1c3e5697fd",
   "metadata": {},
   "outputs": [
    {
     "data": {
      "application/vnd.vegalite.v4+json": {
       "$schema": "https://vega.github.io/schema/vega-lite/v4.json",
       "data": {
        "values": [
         {
          "S": 997,
          "series": "S",
          "time": 0
         },
         {
          "SIR_I": 3,
          "series": "SIR_I",
          "time": 0
         },
         {
          "SIR_R": 0,
          "series": "SIR_R",
          "time": 0
         },
         {
          "SEIRD_I": 1,
          "series": "SEIRD_I",
          "time": 0
         },
         {
          "SEIRD_R": 0,
          "series": "SEIRD_R",
          "time": 0
         },
         {
          "SEIRD_D": 0,
          "series": "SEIRD_D",
          "time": 0
         },
         {
          "S": 995.133719706965,
          "series": "S",
          "time": 1
         },
         {
          "SIR_I": 4.293351027184242,
          "series": "SIR_I",
          "time": 1
         },
         {
          "SIR_R": 0.14433287567888722,
          "series": "SIR_R",
          "time": 1
         },
         {
          "SEIRD_I": 0.6631912046519557,
          "series": "SEIRD_I",
          "time": 1
         },
         {
          "SEIRD_R": 0.18200031357189758,
          "series": "SEIRD_R",
          "time": 1
         },
         {
          "SEIRD_D": 0.009174128008739773,
          "series": "SEIRD_D",
          "time": 1
         },
         {
          "S": 992.9237029481111,
          "series": "S",
          "time": 2
         },
         {
          "SIR_I": 6.139964339088858,
          "series": "SIR_I",
          "time": 2
         },
         {
          "SIR_R": 0.35081545362221334,
          "series": "SIR_R",
          "time": 2
         },
         {
          "SEIRD_I": 0.5941643074338631,
          "series": "SEIRD_I",
          "time": 2
         },
         {
          "SEIRD_R": 0.24639412712563113,
          "series": "SEIRD_R",
          "time": 2
         },
         {
          "SEIRD_D": 0.020585250677526916,
          "series": "SEIRD_D",
          "time": 2
         },
         {
          "S": 989.8878029529417,
          "series": "S",
          "time": 3
         },
         {
          "SIR_I": 8.772371772237483,
          "series": "SIR_I",
          "time": 3
         },
         {
          "SIR_R": 0.6459663835348498,
          "series": "SIR_R",
          "time": 3
         },
         {
          "SEIRD_I": 0.5843013170599833,
          "series": "SEIRD_I",
          "time": 3
         },
         {
          "SEIRD_R": 0.2823350154265139,
          "series": "SEIRD_R",
          "time": 3
         },
         {
          "SEIRD_D": 0.03481498239968359,
          "series": "SEIRD_D",
          "time": 3
         },
         {
          "S": 985.6233470602148,
          "series": "S",
          "time": 4
         },
         {
          "SIR_I": 12.515949332890973,
          "series": "SIR_I",
          "time": 4
         },
         {
          "SIR_R": 1.0673653893162853,
          "series": "SIR_R",
          "time": 4
         },
         {
          "SEIRD_I": 0.5931962897208058,
          "series": "SEIRD_I",
          "time": 4
         },
         {
          "SEIRD_R": 0.3079585950960183,
          "series": "SEIRD_R",
          "time": 4
         },
         {
          "SEIRD_D": 0.05111475710301254,
          "series": "SEIRD_D",
          "time": 4
         },
         {
          "S": 979.6181300026068,
          "series": "S",
          "time": 5
         },
         {
          "SIR_I": 17.821571423112,
          "series": "SIR_I",
          "time": 5
         },
         {
          "SIR_R": 1.6679966140653946,
          "series": "SIR_R",
          "time": 5
         },
         {
          "SEIRD_I": 0.61050355255612,
          "series": "SEIRD_I",
          "time": 5
         },
         {
          "SEIRD_R": 0.3287639292383491,
          "series": "SEIRD_R",
          "time": 5
         },
         {
          "SEIRD_D": 0.06893759014745812,
          "series": "SEIRD_D",
          "time": 5
         },
         {
          "S": 971.1802022218861,
          "series": "S",
          "time": 6
         },
         {
          "SIR_I": 25.304751494151173,
          "series": "SIR_I",
          "time": 6
         },
         {
          "SIR_R": 2.522033108410077,
          "series": "SIR_R",
          "time": 6
         },
         {
          "SEIRD_I": 0.6324380195123914,
          "series": "SEIRD_I",
          "time": 6
         },
         {
          "SEIRD_R": 0.3472021082249429,
          "series": "SEIRD_R",
          "time": 6
         },
         {
          "SEIRD_D": 0.08798102515876727,
          "series": "SEIRD_D",
          "time": 6
         },
         {
          "S": 959.3840407039572,
          "series": "S",
          "time": 7
         },
         {
          "SIR_I": 35.787526011077674,
          "series": "SIR_I",
          "time": 7
         },
         {
          "SIR_R": 3.732262900739665,
          "series": "SIR_R",
          "time": 7
         },
         {
          "SEIRD_I": 0.6571998624319476,
          "series": "SEIRD_I",
          "time": 7
         },
         {
          "SEIRD_R": 0.36456547321733707,
          "series": "SEIRD_R",
          "time": 7
         },
         {
          "SEIRD_D": 0.10809254394662846,
          "series": "SEIRD_D",
          "time": 7
         },
         {
          "S": 943.0263833412505,
          "series": "S",
          "time": 8
         },
         {
          "SIR_I": 50.33269552634998,
          "series": "SIR_I",
          "time": 8
         },
         {
          "SIR_R": 5.43908788637564,
          "series": "SIR_R",
          "time": 8
         },
         {
          "SEIRD_I": 0.683789317014143,
          "series": "SEIRD_I",
          "time": 8
         },
         {
          "SEIRD_R": 0.38155051093419473,
          "series": "SEIRD_R",
          "time": 8
         },
         {
          "SEIRD_D": 0.1292014327195806,
          "series": "SEIRD_D",
          "time": 8
         },
         {
          "S": 920.611290668877,
          "series": "S",
          "time": 9
         },
         {
          "SIR_I": 70.24866960352759,
          "series": "SIR_I",
          "time": 9
         },
         {
          "SIR_R": 7.830401489481549,
          "series": "SIR_R",
          "time": 9
         },
         {
          "SEIRD_I": 0.7115628345224951,
          "series": "SEIRD_I",
          "time": 9
         },
         {
          "SEIRD_R": 0.39850936266750436,
          "series": "SEIRD_R",
          "time": 9
         },
         {
          "SEIRD_D": 0.15127914800881204,
          "series": "SEIRD_D",
          "time": 9
         },
         {
          "S": 890.4035813632685,
          "series": "S",
          "time": 10
         },
         {
          "SIR_I": 97.02711291542269,
          "series": "SIR_I",
          "time": 10
         },
         {
          "SIR_R": 11.150471336998038,
          "series": "SIR_R",
          "time": 10
         },
         {
          "SEIRD_I": 0.74001434194469,
          "series": "SEIRD_I",
          "time": 10
         },
         {
          "SEIRD_R": 0.41558127326127614,
          "series": "SEIRD_R",
          "time": 10
         },
         {
          "SEIRD_D": 0.17431657674206594,
          "series": "SEIRD_D",
          "time": 10
         },
         {
          "S": 850.6071727029868,
          "series": "S",
          "time": 11
         },
         {
          "SIR_I": 132.16044659680082,
          "series": "SIR_I",
          "time": 11
         },
         {
          "SIR_R": 15.704115495981288,
          "series": "SIR_R",
          "time": 11
         },
         {
          "SEIRD_I": 0.7686509303180505,
          "series": "SEIRD_I",
          "time": 11
         },
         {
          "SEIRD_R": 0.43276089217655733,
          "series": "SEIRD_R",
          "time": 11
         },
         {
          "SEIRD_D": 0.19831022813411298,
          "series": "SEIRD_D",
          "time": 11
         },
         {
          "S": 799.7241574666264,
          "series": "S",
          "time": 12
         },
         {
          "SIR_I": 176.78919215833596,
          "series": "SIR_I",
          "time": 12
         },
         {
          "SIR_R": 21.85029687944302,
          "series": "SIR_R",
          "time": 12
         },
         {
          "SEIRD_I": 0.7969202512973332,
          "series": "SEIRD_I",
          "time": 12
         },
         {
          "SEIRD_R": 0.4499313416722646,
          "series": "SEIRD_R",
          "time": 12
         },
         {
          "SEIRD_D": 0.22325294388434583,
          "series": "SEIRD_D",
          "time": 12
         },
         {
          "S": 737.1002691847078,
          "series": "S",
          "time": 13
         },
         {
          "SIR_I": 231.1805224930646,
          "series": "SIR_I",
          "time": 13
         },
         {
          "SIR_R": 29.978070098609596,
          "series": "SIR_R",
          "time": 13
         },
         {
          "SEIRD_I": 0.8241772613200522,
          "series": "SEIRD_I",
          "time": 13
         },
         {
          "SEIRD_R": 0.466879981766005,
          "series": "SEIRD_R",
          "time": 13
         },
         {
          "SEIRD_D": 0.2491269326443741,
          "series": "SEIRD_D",
          "time": 13
         },
         {
          "S": 663.5369971730477,
          "series": "S",
          "time": 14
         },
         {
          "SIR_I": 294.16249471307157,
          "series": "SIR_I",
          "time": 14
         },
         {
          "SIR_R": 40.46009826897684,
          "series": "SIR_R",
          "time": 14
         },
         {
          "SEIRD_I": 0.8496920918512784,
          "series": "SEIRD_I",
          "time": 14
         },
         {
          "SEIRD_R": 0.483310428200731,
          "series": "SEIRD_R",
          "time": 14
         },
         {
          "SEIRD_D": 0.27589833354767346,
          "series": "SEIRD_D",
          "time": 14
         },
         {
          "S": 581.6866666707567,
          "series": "S",
          "time": 15
         },
         {
          "SIR_I": 362.7942438568833,
          "series": "SIR_I",
          "time": 15
         },
         {
          "SIR_R": 53.587122872426974,
          "series": "SIR_R",
          "time": 15
         },
         {
          "SEIRD_I": 0.8727040988565518,
          "series": "SEIRD_I",
          "time": 15
         },
         {
          "SEIRD_R": 0.498861849973245,
          "series": "SEIRD_R",
          "time": 15
         },
         {
          "SEIRD_D": 0.3035134502978188,
          "series": "SEIRD_D",
          "time": 15
         },
         {
          "S": 495.89043937278313,
          "series": "S",
          "time": 16
         },
         {
          "SIR_I": 432.596053345538,
          "series": "SIR_I",
          "time": 16
         },
         {
          "SIR_R": 69.49954792269861,
          "series": "SIR_R",
          "time": 16
         },
         {
          "SEIRD_I": 0.8925181217985407,
          "series": "SEIRD_I",
          "time": 16
         },
         {
          "SEIRD_R": 0.5131429443909105,
          "series": "SEIRD_R",
          "time": 16
         },
         {
          "SEIRD_D": 0.3318973342368868,
          "series": "SEIRD_D",
          "time": 16
         },
         {
          "S": 411.3349195775104,
          "series": "S",
          "time": 17
         },
         {
          "SIR_I": 498.4381136606196,
          "series": "SIR_I",
          "time": 17
         },
         {
          "SIR_R": 88.14174021685163,
          "series": "SIR_R",
          "time": 17
         },
         {
          "SEIRD_I": 0.9086201242860817,
          "series": "SEIRD_I",
          "time": 17
         },
         {
          "SEIRD_R": 0.5257811901721816,
          "series": "SEIRD_R",
          "time": 17
         },
         {
          "SEIRD_D": 0.36095541297635236,
          "series": "SEIRD_D",
          "time": 17
         },
         {
          "S": 332.8281892141348,
          "series": "S",
          "time": 18
         },
         {
          "SIR_I": 555.765974276141,
          "series": "SIR_I",
          "time": 18
         },
         {
          "SIR_R": 109.2603431202184,
          "series": "SIR_R",
          "time": 18
         },
         {
          "SEIRD_I": 0.9207727331252441,
          "series": "SEIRD_I",
          "time": 18
         },
         {
          "SEIRD_R": 0.5364788617421684,
          "series": "SEIRD_R",
          "time": 18
         },
         {
          "SEIRD_D": 0.3905782989542609,
          "series": "SEIRD_D",
          "time": 18
         },
         {
          "S": 263.77189159165334,
          "series": "S",
          "time": 19
         },
         {
          "SIR_I": 601.584074425651,
          "series": "SIR_I",
          "time": 19
         },
         {
          "SIR_R": 132.44867653372796,
          "series": "SIR_R",
          "time": 19
         },
         {
          "SEIRD_I": 0.9290526644222991,
          "series": "SEIRD_I",
          "time": 19
         },
         {
          "SEIRD_R": 0.5450604132643224,
          "series": "SEIRD_R",
          "time": 19
         },
         {
          "SEIRD_D": 0.4206490025328389,
          "series": "SEIRD_D",
          "time": 19
         },
         {
          "S": 205.75317545523663,
          "series": "S",
          "time": 20
         },
         {
          "SIR_I": 634.7925358082852,
          "series": "SIR_I",
          "time": 20
         },
         {
          "SIR_R": 157.21820975211944,
          "series": "SIR_R",
          "time": 20
         },
         {
          "SEIRD_I": 0.9338156926990062,
          "series": "SEIRD_I",
          "time": 20
         },
         {
          "SEIRD_R": 0.5514963245579563,
          "series": "SEIRD_R",
          "time": 20
         },
         {
          "SEIRD_D": 0.45105102090605503,
          "series": "SEIRD_D",
          "time": 20
         },
         {
          "S": 158.7610515394311,
          "series": "S",
          "time": 21
         },
         {
          "SIR_I": 655.8994000664156,
          "series": "SIR_I",
          "time": 21
         },
         {
          "SIR_R": 183.07027787744272,
          "series": "SIR_R",
          "time": 21
         },
         {
          "SEIRD_I": 0.9356057594143534,
          "series": "SEIRD_I",
          "time": 21
         },
         {
          "SEIRD_R": 0.5558968672177725,
          "series": "SEIRD_R",
          "time": 21
         },
         {
          "SEIRD_D": 0.4816756063802417,
          "series": "SEIRD_D",
          "time": 21
         },
         {
          "S": 121.73190691281604,
          "series": "S",
          "time": 22
         },
         {
          "SIR_I": 666.4226319028563,
          "series": "SIR_I",
          "time": 22
         },
         {
          "SIR_R": 209.54887028422402,
          "series": "SIR_R",
          "time": 22
         },
         {
          "SEIRD_I": 0.9350427632879847,
          "series": "SEIRD_I",
          "time": 22
         },
         {
          "SEIRD_R": 0.5584802619226461,
          "series": "SEIRD_R",
          "time": 22
         },
         {
          "SEIRD_D": 0.5124269652305123,
          "series": "SEIRD_D",
          "time": 22
         },
         {
          "S": 93.11132263030396,
          "series": "S",
          "time": 23
         },
         {
          "SIR_I": 668.3003426286456,
          "series": "SIR_I",
          "time": 23
         },
         {
          "SIR_R": 236.2688243359023,
          "series": "SIR_R",
          "time": 23
         },
         {
          "SEIRD_I": 0.9327213326870327,
          "series": "SEIRD_I",
          "time": 23
         },
         {
          "SEIRD_R": 0.5595269454112564,
          "series": "SEIRD_R",
          "time": 23
         },
         {
          "SEIRD_D": 0.5432248746462968,
          "series": "SEIRD_D",
          "time": 23
         },
         {
          "S": 71.26395171654646,
          "series": "S",
          "time": 24
         },
         {
          "SIR_I": 663.473275655431,
          "series": "SIR_I",
          "time": 24
         },
         {
          "SIR_R": 262.9236072068582,
          "series": "SIR_R",
          "time": 24
         },
         {
          "SEIRD_I": 0.9291384578345863,
          "series": "SEIRD_I",
          "time": 24
         },
         {
          "SEIRD_R": 0.5593325581658115,
          "series": "SEIRD_R",
          "time": 24
         },
         {
          "SEIRD_D": 0.5740048573378235,
          "series": "SEIRD_D",
          "time": 24
         },
         {
          "S": 54.703845126174485,
          "series": "S",
          "time": 25
         },
         {
          "SIR_I": 653.6595269348136,
          "series": "SIR_I",
          "time": 25
         },
         {
          "SIR_R": 289.28033709986954,
          "series": "SIR_R",
          "time": 25
         },
         {
          "SEIRD_I": 0.9246530737715792,
          "series": "SEIRD_I",
          "time": 25
         },
         {
          "SEIRD_R": 0.5581685790550599,
          "series": "SEIRD_R",
          "time": 25
         },
         {
          "SEIRD_D": 0.6047164337677746,
          "series": "SEIRD_D",
          "time": 25
         },
         {
          "S": 42.18772635580327,
          "series": "S",
          "time": 26
         },
         {
          "SIR_I": 640.2722066330415,
          "series": "SIR_I",
          "time": 26
         },
         {
          "SIR_R": 315.16885877464233,
          "series": "SIR_R",
          "time": 26
         },
         {
          "SEIRD_I": 0.9194719627496973,
          "series": "SEIRD_I",
          "time": 26
         },
         {
          "SEIRD_R": 0.5562546038130032,
          "series": "SEIRD_R",
          "time": 26
         },
         {
          "SEIRD_D": 0.6353200895430929,
          "series": "SEIRD_D",
          "time": 26
         },
         {
          "S": 32.72649758044932,
          "series": "S",
          "time": 27
         },
         {
          "SIR_I": 624.4202811469779,
          "series": "SIR_I",
          "time": 27
         },
         {
          "SIR_R": 340.46937057769424,
          "series": "SIR_R",
          "time": 27
         },
         {
          "SEIRD_I": 0.9136539403057515,
          "series": "SEIRD_I",
          "time": 27
         },
         {
          "SEIRD_R": 0.5537424514665877,
          "series": "SEIRD_R",
          "time": 27
         },
         {
          "SEIRD_D": 0.6657835502678382,
          "series": "SEIRD_D",
          "time": 27
         },
         {
          "S": 25.557708360445904,
          "series": "S",
          "time": 28
         },
         {
          "SIR_I": 606.9475139874007,
          "series": "SIR_I",
          "time": 28
         },
         {
          "SIR_R": 365.1009654565053,
          "series": "SIR_R",
          "time": 28
         },
         {
          "SEIRD_I": 0.9071256622172689,
          "series": "SEIRD_I",
          "time": 28
         },
         {
          "SEIRD_R": 0.5507103225545971,
          "series": "SEIRD_R",
          "time": 28
         },
         {
          "SEIRD_D": 0.6960778485094421,
          "series": "SEIRD_D",
          "time": 28
         },
         {
          "S": 20.104974729151028,
          "series": "S",
          "time": 29
         },
         {
          "SIR_I": 588.4825923549839,
          "series": "SIR_I",
          "time": 29
         },
         {
          "SIR_R": 389.0120168155155,
          "series": "SIR_R",
          "time": 29
         },
         {
          "SEIRD_I": 0.8997049881841128,
          "series": "SEIRD_I",
          "time": 29
         },
         {
          "SEIRD_R": 0.5471647907936527,
          "series": "SEIRD_R",
          "time": 29
         },
         {
          "SEIRD_D": 0.7261735615318862,
          "series": "SEIRD_D",
          "time": 29
         },
         {
          "S": 15.937537412922934,
          "series": "S",
          "time": 30
         },
         {
          "SIR_I": 569.4871071670194,
          "series": "SIR_I",
          "time": 30
         },
         {
          "SIR_R": 412.17255441157994,
          "series": "SIR_R",
          "time": 30
         },
         {
          "SEIRD_I": 0.8911300632390161,
          "series": "SEIRD_I",
          "time": 30
         },
         {
          "SEIRD_R": 0.5430487975468251,
          "series": "SEIRD_R",
          "time": 30
         },
         {
          "SEIRD_D": 0.7560375206829252,
          "series": "SEIRD_D",
          "time": 30
         },
         {
          "S": 12.735364129806392,
          "series": "S",
          "time": 31
         },
         {
          "SIR_I": 550.2961921635529,
          "series": "SIR_I",
          "time": 31
         },
         {
          "SIR_R": 434.5684211126362,
          "series": "SIR_R",
          "time": 31
         },
         {
          "SEIRD_I": 0.8810933937971938,
          "series": "SEIRD_I",
          "time": 31
         },
         {
          "SEIRD_R": 0.5382544115391503,
          "series": "SEIRD_R",
          "time": 31
         },
         {
          "SEIRD_D": 0.7856302432469676,
          "series": "SEIRD_D",
          "time": 31
         },
         {
          "S": 10.261148808437849,
          "series": "S",
          "time": 32
         },
         {
          "SIR_I": 531.1507968151499,
          "series": "SIR_I",
          "time": 32
         },
         {
          "SIR_R": 456.19688727097076,
          "series": "SIR_R",
          "time": 32
         },
         {
          "SEIRD_I": 0.8692800302961764,
          "series": "SEIRD_I",
          "time": 32
         },
         {
          "SEIRD_R": 0.5326394933822548,
          "series": "SEIRD_R",
          "time": 32
         },
         {
          "SEIRD_D": 0.8149042983444369,
          "series": "SEIRD_D",
          "time": 32
         },
         {
          "S": 8.33875585150323,
          "series": "S",
          "time": 33
         },
         {
          "SIR_I": 512.2223765902116,
          "series": "SIR_I",
          "time": 33
         },
         {
          "SIR_R": 477.06340028146775,
          "series": "SIR_R",
          "time": 33
         },
         {
          "SEIRD_I": 0.8554077527875262,
          "series": "SEIRD_I",
          "time": 33
         },
         {
          "SEIRD_R": 0.5260473631324323,
          "series": "SEIRD_R",
          "time": 33
         },
         {
          "SEIRD_D": 0.8438037667738713,
          "series": "SEIRD_D",
          "time": 33
         },
         {
          "S": 6.83703421077999,
          "series": "S",
          "time": 34
         },
         {
          "SIR_I": 493.6313665645479,
          "series": "SIR_I",
          "time": 34
         },
         {
          "SIR_R": 497.17919262221267,
          "series": "SIR_R",
          "time": 34
         },
         {
          "SEIRD_I": 0.839265476779549,
          "series": "SEIRD_I",
          "time": 34
         },
         {
          "SEIRD_R": 0.5183281188252532,
          "series": "SEIRD_R",
          "time": 34
         },
         {
          "SEIRD_D": 0.8722648709568263,
          "series": "SEIRD_D",
          "time": 34
         },
         {
          "S": 5.657850593238057,
          "series": "S",
          "time": 35
         },
         {
          "SIR_I": 475.4608256179837,
          "series": "SIR_I",
          "time": 35
         },
         {
          "SIR_R": 516.5595278839907,
          "series": "SIR_R",
          "time": 35
         },
         {
          "SEIRD_I": 0.8207448064770471,
          "series": "SEIRD_I",
          "time": 35
         },
         {
          "SEIRD_R": 0.5093596016139385,
          "series": "SEIRD_R",
          "time": 35
         },
         {
          "SEIRD_D": 0.9002177294940948,
          "series": "SEIRD_D",
          "time": 35
         },
         {
          "S": 4.727329332580811,
          "series": "S",
          "time": 36
         },
         {
          "SIR_I": 457.76644555000536,
          "series": "SIR_I",
          "time": 36
         },
         {
          "SIR_R": 535.2224162889172,
          "series": "SIR_R",
          "time": 36
         },
         {
          "SEIRD_I": 0.7998596086332919,
          "series": "SEIRD_I",
          "time": 36
         },
         {
          "SEIRD_R": 0.4990654946126147,
          "series": "SEIRD_R",
          "time": 36
         },
         {
          "SEIRD_D": 0.927589045608371,
          "series": "SEIRD_D",
          "time": 36
         },
         {
          "S": 3.989479866890403,
          "series": "S",
          "time": 37
         },
         {
          "SIR_I": 440.583875652824,
          "series": "SIR_I",
          "time": 37
         },
         {
          "SIR_R": 553.1876741133095,
          "series": "SIR_R",
          "time": 37
         },
         {
          "SEIRD_I": 0.7767500929013367,
          "series": "SEIRD_I",
          "time": 37
         },
         {
          "SEIRD_R": 0.48742803129181855,
          "series": "SEIRD_R",
          "time": 37
         },
         {
          "SEIRD_D": 0.9543054026568544,
          "series": "SEIRD_D",
          "time": 37
         },
         {
          "S": 3.401576342111807,
          "series": "S",
          "time": 38
         },
         {
          "SIR_I": 423.93408637704744,
          "series": "SIR_I",
          "time": 38
         },
         {
          "SIR_R": 570.4762348022809,
          "series": "SIR_R",
          "time": 38
         },
         {
          "SEIRD_I": 0.7516708592552082,
          "series": "SEIRD_I",
          "time": 38
         },
         {
          "SEIRD_R": 0.4744934624309995,
          "series": "SEIRD_R",
          "time": 38
         },
         {
          "SEIRD_D": 0.980296752193519,
          "series": "SEIRD_D",
          "time": 38
         },
         {
          "S": 2.9308077342980114,
          "series": "S",
          "time": 39
         },
         {
          "SIR_I": 407.8273080024467,
          "series": "SIR_I",
          "time": 39
         },
         {
          "SIR_R": 587.1096446124567,
          "series": "SIR_R",
          "time": 39
         },
         {
          "SEIRD_I": 0.7249657205815518,
          "series": "SEIRD_I",
          "time": 39
         },
         {
          "SEIRD_R": 0.4603696855735428,
          "series": "SEIRD_R",
          "time": 39
         },
         {
          "SEIRD_D": 1.005499669083018,
          "series": "SEIRD_D",
          "time": 39
         },
         {
          "S": 2.5518398798164594,
          "series": "S",
          "time": 40
         },
         {
          "SIR_I": 392.2659342715993,
          "series": "SIR_I",
          "time": 40
         },
         {
          "SIR_R": 603.1096940031953,
          "series": "SIR_R",
          "time": 40
         },
         {
          "SEIRD_I": 0.6970346253115924,
          "series": "SEIRD_I",
          "time": 40
         },
         {
          "SEIRD_R": 0.4452169056576541,
          "series": "SEIRD_R",
          "time": 40
         },
         {
          "SEIRD_D": 1.0298600177858341,
          "series": "SEIRD_D",
          "time": 40
         },
         {
          "S": 2.2450272487181855,
          "series": "S",
          "time": 41
         },
         {
          "SIR_I": 377.2466718437059,
          "series": "SIR_I",
          "time": 41
         },
         {
          "SIR_R": 618.4981493015368,
          "series": "SIR_R",
          "time": 41
         },
         {
          "SEIRD_I": 0.6682988848117846,
          "series": "SEIRD_I",
          "time": 41
         },
         {
          "SEIRD_R": 0.4292334001331117,
          "series": "SEIRD_R",
          "time": 41
         },
         {
          "SEIRD_D": 1.0533348018899893,
          "series": "SEIRD_D",
          "time": 41
         },
         {
          "S": 1.995086692679275,
          "series": "S",
          "time": 42
         },
         {
          "SIR_I": 362.7621371015617,
          "series": "SIR_I",
          "time": 42
         },
         {
          "SIR_R": 633.2965587267839,
          "series": "SIR_R",
          "time": 42
         },
         {
          "SEIRD_I": 0.6391700962901679,
          "series": "SEIRD_I",
          "time": 42
         },
         {
          "SEIRD_R": 0.41263906042246934,
          "series": "SEIRD_R",
          "time": 42
         },
         {
          "SEIRD_D": 1.07589311763741,
          "series": "SEIRD_D",
          "time": 42
         },
         {
          "S": 1.7901013203243326,
          "series": "S",
          "time": 43
         },
         {
          "SIR_I": 348.80204525925546,
          "series": "SIR_I",
          "time": 43
         },
         {
          "SIR_R": 647.5261137253185,
          "series": "SIR_R",
          "time": 43
         },
         {
          "SEIRD_I": 0.6100262363973643,
          "series": "SEIRD_I",
          "time": 43
         },
         {
          "SEIRD_R": 0.395659289451501,
          "series": "SEIRD_R",
          "time": 43
         },
         {
          "SEIRD_D": 1.097516264647633,
          "series": "SEIRD_D",
          "time": 43
         },
         {
          "S": 1.620763205846267,
          "series": "S",
          "time": 44
         },
         {
          "SIR_I": 335.3540967621561,
          "series": "SIR_I",
          "time": 44
         },
         {
          "SIR_R": 661.2075515185269,
          "series": "SIR_R",
          "time": 44
         },
         {
          "SEIRD_I": 0.581196217522193,
          "series": "SEIRD_I",
          "time": 44
         },
         {
          "SEIRD_R": 0.37851121661771503,
          "series": "SEIRD_R",
          "time": 44
         },
         {
          "SEIRD_D": 1.1181971593692281,
          "series": "SEIRD_D",
          "time": 44
         },
         {
          "S": 1.4797919134185449,
          "series": "S",
          "time": 45
         },
         {
          "SIR_I": 322.40463777426936,
          "series": "SIR_I",
          "time": 45
         },
         {
          "SIR_R": 674.3610883699928,
          "series": "SIR_R",
          "time": 45
         },
         {
          "SEIRD_I": 0.5529524168327291,
          "series": "SEIRD_I",
          "time": 45
         },
         {
          "SEIRD_R": 0.36139333710649385,
          "series": "SEIRD_R",
          "time": 45
         },
         {
          "SEIRD_D": 1.1379392419854013,
          "series": "SEIRD_D",
          "time": 45
         },
         {
          "S": 1.3614848863844813,
          "series": "S",
          "time": 46
         },
         {
          "SIR_I": 309.9391514879598,
          "series": "SIR_I",
          "time": 46
         },
         {
          "SIR_R": 687.006375726435,
          "series": "SIR_R",
          "time": 46
         },
         {
          "SEIRD_I": 0.5255096165619402,
          "series": "SEIRD_I",
          "time": 46
         },
         {
          "SEIRD_R": 0.3444788661070052,
          "series": "SEIRD_R",
          "time": 46
         },
         {
          "SEIRD_D": 1.1567550719478743,
          "series": "SEIRD_D",
          "time": 46
         },
         {
          "S": 1.2613683641962483,
          "series": "S",
          "time": 47
         },
         {
          "SIR_I": 297.9426225201986,
          "series": "SIR_I",
          "time": 47
         },
         {
          "SIR_R": 699.162473351512,
          "series": "SIR_R",
          "time": 47
         },
         {
          "SEIRD_I": 0.4990284142339523,
          "series": "SEIRD_I",
          "time": 47
         },
         {
          "SEIRD_R": 0.327912491422318,
          "series": "SEIRD_R",
          "time": 47
         },
         {
          "SEIRD_D": 1.1746647840838151,
          "series": "SEIRD_D",
          "time": 47
         },
         {
          "S": 1.1759258505851213,
          "series": "S",
          "time": 48
         },
         {
          "SIR_I": 286.3998060583183,
          "series": "SIR_I",
          "time": 48
         },
         {
          "SIR_R": 710.8478350394383,
          "series": "SIR_R",
          "time": 48
         },
         {
          "SEIRD_I": 0.4736212735606594,
          "series": "SEIRD_I",
          "time": 48
         },
         {
          "SEIRD_R": 0.3118098633215158,
          "series": "SEIRD_R",
          "time": 48
         },
         {
          "SEIRD_D": 1.1916945400528465,
          "series": "SEIRD_D",
          "time": 48
         },
         {
          "S": 1.1023868310352505,
          "series": "S",
          "time": 49
         },
         {
          "SIR_I": 275.2954255478946,
          "series": "SIR_I",
          "time": 49
         },
         {
          "SIR_R": 722.08030359682,
          "series": "SIR_R",
          "time": 49
         },
         {
          "SEIRD_I": 0.44935975430127356,
          "series": "SEIRD_I",
          "time": 49
         },
         {
          "SEIRD_R": 0.2962590460220322,
          "series": "SEIRD_R",
          "time": 49
         },
         {
          "SEIRD_D": 1.2078750696860319,
          "series": "SEIRD_D",
          "time": 49
         },
         {
          "S": 1.0385624430118787,
          "series": "S",
          "time": 50
         },
         {
          "SIR_I": 264.61431681828736,
          "series": "SIR_I",
          "time": 50
         },
         {
          "SIR_R": 732.8771126092685,
          "series": "SIR_R",
          "time": 50
         },
         {
          "SEIRD_I": 0.4262818957085661,
          "series": "SEIRD_I",
          "time": 50
         },
         {
          "SEIRD_R": 0.2813231995245937,
          "series": "SEIRD_R",
          "time": 50
         },
         {
          "SEIRD_D": 1.2232403602855009,
          "series": "SEIRD_D",
          "time": 50
         },
         {
          "S": 0.9827177522594247,
          "series": "S",
          "time": 51
         },
         {
          "SIR_I": 254.34153210093308,
          "series": "SIR_I",
          "time": 51
         },
         {
          "SIR_R": 743.2548931322002,
          "series": "SIR_R",
          "time": 51
         },
         {
          "SEIRD_I": 0.40439912177779735,
          "series": "SEIRD_I",
          "time": 51
         },
         {
          "SEIRD_R": 0.26704388952769015,
          "series": "SEIRD_R",
          "time": 51
         },
         {
          "SEIRD_D": 1.2378265226021339,
          "series": "SEIRD_D",
          "time": 51
         },
         {
          "S": 0.9334725378776207,
          "series": "S",
          "time": 52
         },
         {
          "SIR_I": 244.46241404671883,
          "series": "SIR_I",
          "time": 52
         },
         {
          "SIR_R": 753.2296839133029,
          "series": "SIR_R",
          "time": 52
         },
         {
          "SEIRD_I": 0.3837023404461593,
          "series": "SEIRD_I",
          "time": 52
         },
         {
          "SEIRD_R": 0.2534445792820818,
          "series": "SEIRD_R",
          "time": 52
         },
         {
          "SEIRD_D": 1.2516708407104618,
          "series": "SEIRD_D",
          "time": 52
         },
         {
          "S": 0.8897242426821096,
          "series": "S",
          "time": 53
         },
         {
          "SIR_I": 234.9626473248982,
          "series": "SIR_I",
          "time": 53
         },
         {
          "SIR_R": 762.816944105548,
          "series": "SIR_R",
          "time": 53
         },
         {
          "SEIRD_I": 0.36416711777232164,
          "series": "SEIRD_I",
          "time": 53
         },
         {
          "SEIRD_R": 0.24053400458047874,
          "series": "SEIRD_R",
          "time": 53
         },
         {
          "SEIRD_D": 1.2648109986655718,
          "series": "SEIRD_D",
          "time": 53
         },
         {
          "S": 0.8505881273459603,
          "series": "S",
          "time": 54
         },
         {
          "SIR_I": 225.8282934871319,
          "series": "SIR_I",
          "time": 54
         },
         {
          "SIR_R": 772.0315676931439,
          "series": "SIR_R",
          "time": 54
         },
         {
          "SEIRD_I": 0.3457579369255006,
          "series": "SEIRD_I",
          "time": 54
         },
         {
          "SEIRD_R": 0.22830925423050197,
          "series": "SEIRD_R",
          "time": 54
         },
         {
          "SEIRD_D": 1.2772844683016482,
          "series": "SEIRD_D",
          "time": 54
         },
         {
          "S": 0.8153507585637464,
          "series": "S",
          "time": 55
         },
         {
          "SIR_I": 217.04581335449285,
          "series": "SIR_I",
          "time": 55
         },
         {
          "SIR_R": 780.8878990502851,
          "series": "SIR_R",
          "time": 55
         },
         {
          "SEIRD_I": 0.3284316216191295,
          "series": "SEIRD_I",
          "time": 55
         },
         {
          "SEIRD_R": 0.21675846862383696,
          "series": "SEIRD_R",
          "time": 55
         },
         {
          "SEIRD_D": 1.289128038326548,
          "series": "SEIRD_D",
          "time": 55
         },
         {
          "S": 0.7834338221310753,
          "series": "S",
          "time": 56
         },
         {
          "SIR_I": 208.60208011676738,
          "series": "SIR_I",
          "time": 56
         },
         {
          "SIR_R": 789.3997492004713,
          "series": "SIR_R",
          "time": 56
         },
         {
          "SEIRD_I": 0.3121400341240931,
          "series": "SEIRD_I",
          "time": 56
         },
         {
          "SEIRD_R": 0.2058631307885755,
          "series": "SEIRD_R",
          "time": 56
         },
         {
          "SEIRD_D": 1.300377463636755,
          "series": "SEIRD_D",
          "time": 56
         },
         {
          "S": 0.754365927479694,
          "series": "S",
          "time": 57
         },
         {
          "SIR_I": 200.4843855337289,
          "series": "SIR_I",
          "time": 57
         },
         {
          "SIR_R": 797.5804124549752,
          "series": "SIR_R",
          "time": 57
         },
         {
          "SEIRD_I": 0.29683216460079803,
          "series": "SEIRD_I",
          "time": 57
         },
         {
          "SEIRD_R": 0.1955999630292772,
          "series": "SEIRD_R",
          "time": 57
         },
         {
          "SEIRD_D": 1.3110672144361728,
          "series": "SEIRD_D",
          "time": 57
         },
         {
          "S": 0.7277605981267032,
          "series": "S",
          "time": 58
         },
         {
          "SIR_I": 192.68044103010908,
          "series": "SIR_I",
          "time": 58
         },
         {
          "SIR_R": 805.4426831920861,
          "series": "SIR_R",
          "time": 58
         },
         {
          "SEIRD_I": 0.28245572200314667,
          "series": "SEIRD_I",
          "time": 58
         },
         {
          "SEIRD_R": 0.1859424639223672,
          "series": "SEIRD_R",
          "time": 58
         },
         {
          "SEIRD_D": 1.3212303064801616,
          "series": "SEIRD_D",
          "time": 58
         },
         {
          "S": 0.7032990531674471,
          "series": "S",
          "time": 59
         },
         {
          "SIR_I": 185.17837502898107,
          "series": "SIR_I",
          "time": 59
         },
         {
          "SIR_R": 812.9988726010555,
          "series": "SIR_R",
          "time": 59
         },
         {
          "SEIRD_I": 0.2689583241940422,
          "series": "SEIRD_I",
          "time": 59
         },
         {
          "SEIRD_R": 0.17686213037613627,
          "series": "SEIRD_R",
          "time": 59
         },
         {
          "SEIRD_D": 1.3308981960173136,
          "series": "SEIRD_D",
          "time": 59
         },
         {
          "S": 0.6807167032107347,
          "series": "S",
          "time": 60
         },
         {
          "SIR_I": 177.96672753398872,
          "series": "SIR_I",
          "time": 60
         },
         {
          "SIR_R": 820.2608252614474,
          "series": "SIR_R",
          "time": 60
         },
         {
          "SEIRD_I": 0.2562883703247255,
          "series": "SEIRD_I",
          "time": 60
         },
         {
          "SEIRD_R": 0.16832941189949885,
          "series": "SEIRD_R",
          "time": 60
         },
         {
          "SEIRD_D": 1.3401007253955044,
          "series": "SEIRD_D",
          "time": 60
         },
         {
          "S": 0.6597925300888844,
          "series": "S",
          "time": 61
         },
         {
          "SIR_I": 171.03444272067034,
          "series": "SIR_I",
          "time": 61
         },
         {
          "SIR_R": 827.2399354637703,
          "series": "SIR_R",
          "time": 61
         },
         {
          "SEIRD_I": 0.24439566424039416,
          "series": "SEIRD_I",
          "time": 61
         },
         {
          "SEIRD_R": 0.16031444222749833,
          "series": "SEIRD_R",
          "time": 61
         },
         {
          "SEIRD_D": 1.3488661076111044,
          "series": "SEIRD_D",
          "time": 61
         },
         {
          "S": 0.6403407093091352,
          "series": "S",
          "time": 62
         },
         {
          "SIR_I": 164.3708601096359,
          "series": "SIR_I",
          "time": 62
         },
         {
          "SIR_R": 833.9471632037496,
          "series": "SIR_R",
          "time": 62
         },
         {
          "SEIRD_I": 0.23323184477816253,
          "series": "SEIRD_I",
          "time": 62
         },
         {
          "SEIRD_R": 0.1527875891306983,
          "series": "SEIRD_R",
          "time": 62
         },
         {
          "SEIRD_D": 1.3572209401882158,
          "series": "SEIRD_D",
          "time": 62
         },
         {
          "S": 0.6222039802334776,
          "series": "S",
          "time": 63
         },
         {
          "SIR_I": 157.96570475362176,
          "series": "SIR_I",
          "time": 63
         },
         {
          "SIR_R": 840.3930498025602,
          "series": "SIR_R",
          "time": 63
         },
         {
          "SEIRD_I": 0.222750667728954,
          "series": "SEIRD_I",
          "time": 63
         },
         {
          "SEIRD_R": 0.14571985795046805,
          "series": "SEIRD_R",
          "time": 63
         },
         {
          "SEIRD_D": 1.3651902406235676,
          "series": "SEIRD_D",
          "time": 63
         },
         {
          "S": 0.6052483813308182,
          "series": "S",
          "time": 64
         },
         {
          "SIR_I": 151.8090767645912,
          "series": "SIR_I",
          "time": 64
         },
         {
          "SIR_R": 846.5877331203994,
          "series": "SIR_R",
          "time": 64
         },
         {
          "SEIRD_I": 0.2129081749772698,
          "series": "SEIRD_I",
          "time": 64
         },
         {
          "SEIRD_R": 0.13908317897737013,
          "series": "SEIRD_R",
          "time": 64
         },
         {
          "SEIRD_D": 1.3727974972097094,
          "series": "SEIRD_D",
          "time": 64
         },
         {
          "S": 0.58935905428737,
          "series": "S",
          "time": 65
         },
         {
          "SIR_I": 145.89144042725175,
          "series": "SIR_I",
          "time": 65
         },
         {
          "SIR_R": 852.5409623421639,
          "series": "SIR_R",
          "time": 65
         },
         {
          "SEIRD_I": 0.20366277876402145,
          "series": "SEIRD_I",
          "time": 65
         },
         {
          "SEIRD_R": 0.13285060368564183,
          "series": "SEIRD_R",
          "time": 65
         },
         {
          "SEIRD_D": 1.380064730366659,
          "series": "SEIRD_D",
          "time": 65
         },
         {
          "S": 0.5744368872890588,
          "series": "S",
          "time": 66
         },
         {
          "SIR_I": 140.20361308505767,
          "series": "SIR_I",
          "time": 66
         },
         {
          "SIR_R": 858.2621123225792,
          "series": "SIR_R",
          "time": 66
         },
         {
          "SEIRD_I": 0.1949752829165577,
          "series": "SEIRD_I",
          "time": 66
         },
         {
          "SEIRD_R": 0.12699643027755372,
          "series": "SEIRD_R",
          "time": 66
         },
         {
          "SEIRD_D": 1.387012560695023,
          "series": "SEIRD_D",
          "time": 66
         },
         {
          "S": 0.5603958190309869,
          "series": "S",
          "time": 67
         },
         {
          "SIR_I": 134.73675393907453,
          "series": "SIR_I",
          "time": 67
         },
         {
          "SIR_R": 863.7601974846233,
          "series": "SIR_R",
          "time": 67
         },
         {
          "SEIRD_I": 0.18680885802128408,
          "series": "SEIRD_I",
          "time": 67
         },
         {
          "SEIRD_R": 0.12149627505661718,
          "series": "SEIRD_R",
          "time": 67
         },
         {
          "SEIRD_D": 1.3936602808420708,
          "series": "SEIRD_D",
          "time": 67
         },
         {
          "S": 0.547160664520776,
          "series": "S",
          "time": 68
         },
         {
          "SIR_I": 129.48235286537013,
          "series": "SIR_I",
          "time": 68
         },
         {
          "SIR_R": 869.0438852699706,
          "series": "SIR_R",
          "time": 68
         },
         {
          "SEIRD_I": 0.17912898365739618,
          "series": "SEIRD_I",
          "time": 68
         },
         {
          "SEIRD_R": 0.11632710283384108,
          "series": "SEIRD_R",
          "time": 68
         },
         {
          "SEIRD_D": 1.4000259289770767,
          "series": "SEIRD_D",
          "time": 68
         },
         {
          "S": 0.5346653542535066,
          "series": "S",
          "time": 69
         },
         {
          "SIR_I": 124.43221933015103,
          "series": "SIR_I",
          "time": 69
         },
         {
          "SIR_R": 874.1215091438603,
          "series": "SIR_R",
          "time": 69
         },
         {
          "SEIRD_I": 0.1719033677718284,
          "series": "SEIRD_I",
          "time": 69
         },
         {
          "SEIRD_R": 0.11146722682800253,
          "series": "SEIRD_R",
          "time": 69
         },
         {
          "SEIRD_D": 1.4061263622324387,
          "series": "SEIRD_D",
          "time": 69
         },
         {
          "S": 0.5228515019360588,
          "series": "S",
          "time": 70
         },
         {
          "SIR_I": 119.57847146166162,
          "series": "SIR_I",
          "time": 70
         },
         {
          "SIR_R": 879.0010811595362,
          "series": "SIR_R",
          "time": 70
         },
         {
          "SEIRD_I": 0.165101850892314,
          "series": "SEIRD_I",
          "time": 70
         },
         {
          "SEIRD_R": 0.10689628628111372,
          "series": "SEIRD_R",
          "time": 70
         },
         {
          "SEIRD_D": 1.411977328908535,
          "series": "SEIRD_D",
          "time": 70
         },
         {
          "S": 0.5116672342279179,
          "series": "S",
          "time": 71
         },
         {
          "SIR_I": 114.91352532239078,
          "series": "SIR_I",
          "time": 71
         },
         {
          "SIR_R": 883.6903040894458,
          "series": "SIR_R",
          "time": 71
         },
         {
          "SEIRD_I": 0.15869630101299043,
          "series": "SEIRD_I",
          "time": 71
         },
         {
          "SEIRD_R": 0.10259520820076172,
          "series": "SEIRD_R",
          "time": 71
         },
         {
          "SEIRD_D": 1.4175935385853315,
          "series": "SEIRD_D",
          "time": 71
         },
         {
          "S": 0.5010662301684355,
          "series": "S",
          "time": 72
         },
         {
          "SIR_I": 110.43008441324979,
          "series": "SIR_I",
          "time": 72
         },
         {
          "SIR_R": 888.1965831318784,
          "series": "SIR_R",
          "time": 72
         },
         {
          "SEIRD_I": 0.15266050353624994,
          "series": "SEIRD_I",
          "time": 72
         },
         {
          "SEIRD_R": 0.09854615819148273,
          "series": "SEIRD_R",
          "time": 72
         },
         {
          "SEIRD_D": 1.4229887295513002,
          "series": "SEIRD_D",
          "time": 72
         },
         {
          "S": 0.4910069290147134,
          "series": "S",
          "time": 73
         },
         {
          "SIR_I": 106.121129432244,
          "series": "SIR_I",
          "time": 73
         },
         {
          "SIR_R": 892.5270372027958,
          "series": "SIR_R",
          "time": 73
         },
         {
          "SEIRD_I": 0.14697004952811696,
          "series": "SEIRD_I",
          "time": 73
         },
         {
          "SEIRD_R": 0.0947324841843465,
          "series": "SEIRD_R",
          "time": 73
         },
         {
          "SEIRD_D": 1.4281757331659066,
          "series": "SEIRD_D",
          "time": 73
         },
         {
          "S": 0.48145187383800336,
          "series": "S",
          "time": 74
         },
         {
          "SIR_I": 101.97990830311221,
          "series": "SIR_I",
          "time": 74
         },
         {
          "SIR_R": 896.6885098233715,
          "series": "SIR_R",
          "time": 74
         },
         {
          "SEIRD_I": 0.14160222467273767,
          "series": "SEIRD_I",
          "time": 74
         },
         {
          "SEIRD_R": 0.09113865596234391,
          "series": "SEIRD_R",
          "time": 74
         },
         {
          "SEIRD_D": 1.4331665349285925,
          "series": "SEIRD_D",
          "time": 74
         },
         {
          "S": 0.4723671649707193,
          "series": "S",
          "time": 75
         },
         {
          "SIR_I": 97.99992648396594,
          "series": "SIR_I",
          "time": 75
         },
         {
          "SIR_R": 900.6875796142468,
          "series": "SIR_R",
          "time": 75
         },
         {
          "SEIRD_I": 0.13653590063949217,
          "series": "SEIRD_I",
          "time": 75
         },
         {
          "SEIRD_R": 0.08775020266234568,
          "series": "SEIRD_R",
          "time": 75
         },
         {
          "SEIRD_D": 1.4379723321452071,
          "series": "SEIRD_D",
          "time": 75
         },
         {
          "S": 0.46372200268393643,
          "series": "S",
          "time": 76
         },
         {
          "SIR_I": 94.17493756175737,
          "series": "SIR_I",
          "time": 76
         },
         {
          "SIR_R": 904.530570407836,
          "series": "SIR_R",
          "time": 76
         },
         {
          "SEIRD_I": 0.13175143006029907,
          "series": "SEIRD_I",
          "time": 76
         },
         {
          "SEIRD_R": 0.08455364987358302,
          "series": "SEIRD_R",
          "time": 76
         },
         {
          "SEIRD_D": 1.4426035881705876,
          "series": "SEIRD_D",
          "time": 76
         },
         {
          "S": 0.45548830263202206,
          "series": "S",
          "time": 77
         },
         {
          "SIR_I": 90.49893413515511,
          "series": "SIR_I",
          "time": 77
         },
         {
          "SIR_R": 908.2235609901741,
          "series": "SIR_R",
          "time": 77
         },
         {
          "SEIRD_I": 0.12723054592064478,
          "series": "SEIRD_I",
          "time": 77
         },
         {
          "SEIRD_R": 0.0815364575160345,
          "series": "SEIRD_R",
          "time": 77
         },
         {
          "SEIRD_D": 1.447070083270127,
          "series": "SEIRD_D",
          "time": 77
         },
         {
          "S": 0.44764037087752606,
          "series": "S",
          "time": 78
         },
         {
          "SIR_I": 86.96613898590093,
          "series": "SIR_I",
          "time": 78
         },
         {
          "SIR_R": 911.7723944838542,
          "series": "SIR_R",
          "time": 78
         },
         {
          "SEIRD_I": 0.12295626586885114,
          "series": "SEIRD_I",
          "time": 78
         },
         {
          "SEIRD_R": 0.0786869593440267,
          "series": "SEIRD_R",
          "time": 78
         },
         {
          "SEIRD_D": 1.4513809621890088,
          "series": "SEIRD_D",
          "time": 78
         },
         {
          "S": 0.4401546278991906,
          "series": "S",
          "time": 79
         },
         {
          "SIR_I": 83.57099653678902,
          "series": "SIR_I",
          "time": 79
         },
         {
          "SIR_R": 915.1826873835594,
          "series": "SIR_R",
          "time": 79
         },
         {
          "SEIRD_I": 0.11891280172298543,
          "series": "SEIRD_I",
          "time": 79
         },
         {
          "SEIRD_R": 0.07599430466003455,
          "series": "SEIRD_R",
          "time": 79
         },
         {
          "SEIRD_D": 1.4555447785495161,
          "series": "SEIRD_D",
          "time": 79
         },
         {
          "S": 0.4330093730386109,
          "series": "S",
          "time": 80
         },
         {
          "SIR_I": 80.30816459293023,
          "series": "SIR_I",
          "time": 80
         },
         {
          "SIR_R": 918.4598382555918,
          "series": "SIR_R",
          "time": 80
         },
         {
          "SEIRD_I": 0.11508547428708187,
          "series": "SEIRD_I",
          "time": 80
         },
         {
          "SEIRD_R": 0.07344840262450739,
          "series": "SEIRD_R",
          "time": 80
         },
         {
          "SEIRD_D": 1.4595695362177508,
          "series": "SEIRD_D",
          "time": 80
         },
         {
          "S": 0.42618458247270263,
          "series": "S",
          "time": 81
         },
         {
          "SIR_I": 77.17250636183428,
          "series": "SIR_I",
          "time": 81
         },
         {
          "SIR_R": 921.6090361126464,
          "series": "SIR_R",
          "time": 81
         },
         {
          "SEIRD_I": 0.1114606334650288,
          "series": "SEIRD_I",
          "time": 81
         },
         {
          "SEIRD_R": 0.0710398693963375,
          "series": "SEIRD_R",
          "time": 81
         },
         {
          "SEIRD_D": 1.4634627277938344,
          "series": "SEIRD_D",
          "time": 81
         },
         {
          "S": 0.41966173509983745,
          "series": "S",
          "time": 82
         },
         {
          "SIR_I": 74.15908274699436,
          "series": "SIR_I",
          "time": 82
         },
         {
          "SIR_R": 924.635268474877,
          "series": "SIR_R",
          "time": 82
         },
         {
          "SEIRD_I": 0.10802558357144633,
          "series": "SEIRD_I",
          "time": 82
         },
         {
          "SEIRD_R": 0.06875997822485026,
          "series": "SEIRD_R",
          "time": 82
         },
         {
          "SEIRD_D": 1.4672313703862014,
          "series": "SEIRD_D",
          "time": 82
         },
         {
          "S": 0.41342366176745315,
          "series": "S",
          "time": 83
         },
         {
          "SIR_I": 71.26314490902402,
          "series": "SIR_I",
          "time": 83
         },
         {
          "SIR_R": 927.5433291280758,
          "series": "SIR_R",
          "time": 83
         },
         {
          "SEIRD_I": 0.10476851367620939,
          "series": "SEIRD_I",
          "time": 83
         },
         {
          "SEIRD_R": 0.0666006125296386,
          "series": "SEIRD_R",
          "time": 83
         },
         {
          "SEIRD_D": 1.4708820388325663,
          "series": "SEIRD_D",
          "time": 83
         },
         {
          "S": 0.4074544141028777,
          "series": "S",
          "time": 84
         },
         {
          "SIR_I": 68.48012708793775,
          "series": "SIR_I",
          "time": 84
         },
         {
          "SIR_R": 930.3378255895454,
          "series": "SIR_R",
          "time": 84
         },
         {
          "SEIRD_I": 0.10167843277677621,
          "series": "SEIRD_I",
          "time": 84
         },
         {
          "SEIRD_R": 0.06455422194265527,
          "series": "SEIRD_R",
          "time": 84
         },
         {
          "SEIRD_D": 1.4744208965287438,
          "series": "SEIRD_D",
          "time": 84
         },
         {
          "S": 0.4017391498798565,
          "series": "S",
          "time": 85
         },
         {
          "SIR_I": 65.80563967984189,
          "series": "SIR_I",
          "time": 85
         },
         {
          "SIR_R": 933.0231862919721,
          "series": "SIR_R",
          "time": 85
         },
         {
          "SEIRD_I": 0.09874510956533154,
          "series": "SEIRD_I",
          "time": 85
         },
         {
          "SEIRD_R": 0.0626137812425691,
          "series": "SEIRD_R",
          "time": 85
         },
         {
          "SEIRD_D": 1.477853724022678,
          "series": "SEIRD_D",
          "time": 85
         },
         {
          "S": 0.39626403239441665,
          "series": "S",
          "time": 86
         },
         {
          "SIR_I": 63.23546256108762,
          "series": "SIR_I",
          "time": 86
         },
         {
          "SIR_R": 935.6036674953389,
          "series": "SIR_R",
          "time": 86
         },
         {
          "SEIRD_I": 0.09595901654218915,
          "series": "SEIRD_I",
          "time": 86
         },
         {
          "SEIRD_R": 0.06077275208044806,
          "series": "SEIRD_R",
          "time": 86
         },
         {
          "SEIRD_D": 1.4811859455255543,
          "series": "SEIRD_D",
          "time": 86
         },
         {
          "S": 0.39101614176162675,
          "series": "S",
          "time": 87
         },
         {
          "SIR_I": 60.76553865280808,
          "series": "SIR_I",
          "time": 87
         },
         {
          "SIR_R": 938.0833599366365,
          "series": "SIR_R",
          "time": 87
         },
         {
          "SEIRD_I": 0.09331127821999602,
          "series": "SEIRD_I",
          "time": 87
         },
         {
          "SEIRD_R": 0.05902504737518838,
          "series": "SEIRD_R",
          "time": 87
         },
         {
          "SEIRD_D": 1.4844226534852387,
          "series": "SEIRD_D",
          "time": 87
         },
         {
          "S": 0.3859833964003209,
          "series": "S",
          "time": 88
         },
         {
          "SIR_I": 58.39196771869997,
          "series": "SIR_I",
          "time": 88
         },
         {
          "SIR_R": 940.4661952268458,
          "series": "SIR_R",
          "time": 88
         },
         {
          "SEIRD_I": 0.09079362316277313,
          "series": "SEIRD_I",
          "time": 88
         },
         {
          "SEIRD_R": 0.05736499824429008,
          "series": "SEIRD_R",
          "time": 88
         },
         {
          "SEIRD_D": 1.4875686313599852,
          "series": "SEIRD_D",
          "time": 88
         },
         {
          "S": 0.3811544832623633,
          "series": "S",
          "time": 89
         },
         {
          "SIR_I": 56.11100038890293,
          "series": "SIR_I",
          "time": 89
         },
         {
          "SIR_R": 942.755952004375,
          "series": "SIR_R",
          "time": 89
         },
         {
          "SEIRD_I": 0.08839833960796113,
          "series": "SEIRD_I",
          "time": 89
         },
         {
          "SEIRD_R": 0.05578732332865521,
          "series": "SEIRD_R",
          "time": 89
         },
         {
          "SEIRD_D": 1.4906283747226567,
          "series": "SEIRD_D",
          "time": 89
         },
         {
          "S": 0.37651879559955315,
          "series": "S",
          "time": 90
         },
         {
          "SIR_I": 53.91903240286559,
          "series": "SIR_I",
          "time": 90
         },
         {
          "SIR_R": 944.9562618538573,
          "series": "SIR_R",
          "time": 90
         },
         {
          "SEIRD_I": 0.08611823442706218,
          "series": "SEIRD_I",
          "time": 90
         },
         {
          "SEIRD_R": 0.05428710036755284,
          "series": "SEIRD_R",
          "time": 90
         },
         {
          "SEIRD_D": 1.493606110817882,
          "series": "SEIRD_D",
          "time": 90
         },
         {
          "S": 0.37206637725512665,
          "series": "S",
          "time": 91
         },
         {
          "SIR_I": 51.8125990641564,
          "series": "SIR_I",
          "time": 91
         },
         {
          "SIR_R": 947.070614998924,
          "series": "SIR_R",
          "time": 91
         },
         {
          "SEIRD_I": 0.08394659519014458,
          "series": "SEIRD_I",
          "time": 91
         },
         {
          "SEIRD_R": 0.05285973988059065,
          "series": "SEIRD_R",
          "time": 91
         },
         {
          "SEIRD_D": 1.4965058166867804,
          "series": "SEIRD_D",
          "time": 91
         },
         {
          "S": 0.36778787262622,
          "series": "S",
          "time": 92
         },
         {
          "SIR_I": 49.788369900273665,
          "series": "SIR_I",
          "time": 92
         },
         {
          "SIR_R": 949.1023657772944,
          "series": "SIR_R",
          "time": 92
         },
         {
          "SEIRD_I": 0.08187715511061361,
          "series": "SEIRD_I",
          "time": 92
         },
         {
          "SEIRD_R": 0.051500960816552636,
          "series": "SEIRD_R",
          "time": 92
         },
         {
          "SEIRD_D": 1.4993312359662674,
          "series": "SEIRD_D",
          "time": 92
         },
         {
          "S": 0.3636744815751755,
          "series": "S",
          "time": 93
         },
         {
          "SIR_I": 47.843143520625894,
          "series": "SIR_I",
          "time": 93
         },
         {
          "SIR_R": 951.0547379062427,
          "series": "SIR_R",
          "time": 93
         },
         {
          "SEIRD_I": 0.07990406065865098,
          "series": "SEIRD_I",
          "time": 93
         },
         {
          "SEIRD_R": 0.05020676803361537,
          "series": "SEIRD_R",
          "time": 93
         },
         {
          "SEIRD_D": 1.5020858944625766,
          "series": "SEIRD_D",
          "time": 93
         },
         {
          "S": 0.35971791867644376,
          "series": "S",
          "time": 94
         },
         {
          "SIR_I": 45.973842665986865,
          "series": "SIR_I",
          "time": 94
         },
         {
          "SIR_R": 952.930829546236,
          "series": "SIR_R",
          "time": 94
         },
         {
          "SEIRD_I": 0.07802184164413704,
          "series": "SEIRD_I",
          "time": 94
         },
         {
          "SEIRD_R": 0.04897343148120713,
          "series": "SEIRD_R",
          "time": 94
         },
         {
          "SEIRD_D": 1.5047731145915841,
          "series": "SEIRD_D",
          "time": 94
         },
         {
          "S": 0.35591037627625527,
          "series": "S",
          "time": 95
         },
         {
          "SIR_I": 44.17750944287472,
          "series": "SIR_I",
          "time": 95
         },
         {
          "SIR_R": 954.7336181702719,
          "series": "SIR_R",
          "time": 95
         },
         {
          "SEIRD_I": 0.07622538358236133,
          "series": "SEIRD_I",
          "time": 95
         },
         {
          "SEIRD_R": 0.047797466960221587,
          "series": "SEIRD_R",
          "time": 95
         },
         {
          "SEIRD_D": 1.5073960287718053,
          "series": "SEIRD_D",
          "time": 95
         },
         {
          "S": 0.3522444909176094,
          "series": "S",
          "time": 96
         },
         {
          "SIR_I": 42.45130073645883,
          "series": "SIR_I",
          "time": 96
         },
         {
          "SIR_R": 956.4659652461804,
          "series": "SIR_R",
          "time": 96
         },
         {
          "SEIRD_I": 0.07450990216815492,
          "series": "SEIRD_I",
          "time": 96
         },
         {
          "SEIRD_R": 0.04667561834513553,
          "series": "SEIRD_R",
          "time": 96
         },
         {
          "SEIRD_D": 1.5099575918496146,
          "series": "SEIRD_D",
          "time": 96
         },
         {
          "S": 0.34871331274614925,
          "series": "S",
          "time": 97
         },
         {
          "SIR_I": 40.792483795759445,
          "series": "SIR_I",
          "time": 97
         },
         {
          "SIR_R": 958.1306207389109,
          "series": "SIR_R",
          "time": 97
         },
         {
          "SEIRD_I": 0.07287091969606843,
          "series": "SEIRD_I",
          "time": 97
         },
         {
          "SEIRD_R": 0.045604841158578116,
          "series": "SEIRD_R",
          "time": 97
         },
         {
          "SEIRD_D": 1.5124605926302674,
          "series": "SEIRD_D",
          "time": 97
         },
         {
          "S": 0.3453102775653907,
          "series": "S",
          "time": 98
         },
         {
          "SIR_I": 39.19843198507,
          "series": "SIR_I",
          "time": 98
         },
         {
          "SIR_R": 959.7302274395705,
          "series": "SIR_R",
          "time": 98
         },
         {
          "SEIRD_I": 0.07130424327575358,
          "series": "SEIRD_I",
          "time": 98
         },
         {
          "SEIRD_R": 0.0445822873958911,
          "series": "SEIRD_R",
          "time": 98
         },
         {
          "SEIRD_D": 1.5149076645827413,
          "series": "SEIRD_D",
          "time": 98
         },
         {
          "S": 0.34202918125431614,
          "series": "S",
          "time": 99
         },
         {
          "SIR_I": 37.66662069570105,
          "series": "SIR_I",
          "time": 99
         },
         {
          "SIR_R": 961.2673251277449,
          "series": "SIR_R",
          "time": 99
         },
         {
          "SEIRD_I": 0.06980594470270458,
          "series": "SEIRD_I",
          "time": 99
         },
         {
          "SEIRD_R": 0.04360529150408177,
          "series": "SEIRD_R",
          "time": 99
         },
         {
          "SEIRD_D": 1.5173012957812142,
          "series": "SEIRD_D",
          "time": 99
         },
         {
          "S": 0.33886415629799466,
          "series": "S",
          "time": 100
         },
         {
          "SIR_I": 36.19462341231373,
          "series": "SIR_I",
          "time": 100
         },
         {
          "SIR_R": 962.7443545733992,
          "series": "SIR_R",
          "time": 100
         },
         {
          "SEIRD_I": 0.06837234185492969,
          "series": "SEIRD_I",
          "time": 100
         },
         {
          "SEIRD_R": 0.042671357426217436,
          "series": "SEIRD_R",
          "time": 100
         },
         {
          "SEIRD_D": 1.5196438381411483,
          "series": "SEIRD_D",
          "time": 100
         }
        ]
       },
       "description": "",
       "height": 600,
       "layer": [
        {
         "encoding": {
          "color": {
           "field": "series",
           "type": "nominal"
          },
          "x": {
           "field": "time",
           "type": "quantitative"
          },
          "y": {
           "field": "S",
           "type": "quantitative"
          }
         },
         "mark": "line"
        },
        {
         "encoding": {
          "color": {
           "field": "series",
           "type": "nominal"
          },
          "x": {
           "field": "time",
           "type": "quantitative"
          },
          "y": {
           "field": "SIR_I",
           "type": "quantitative"
          }
         },
         "mark": "line"
        },
        {
         "encoding": {
          "color": {
           "field": "series",
           "type": "nominal"
          },
          "x": {
           "field": "time",
           "type": "quantitative"
          },
          "y": {
           "field": "SIR_R",
           "type": "quantitative"
          }
         },
         "mark": "line"
        },
        {
         "encoding": {
          "color": {
           "field": "series",
           "type": "nominal"
          },
          "x": {
           "field": "time",
           "type": "quantitative"
          },
          "y": {
           "field": "SEIRD_I",
           "type": "quantitative"
          }
         },
         "mark": "line"
        },
        {
         "encoding": {
          "color": {
           "field": "series",
           "type": "nominal"
          },
          "x": {
           "field": "time",
           "type": "quantitative"
          },
          "y": {
           "field": "SEIRD_R",
           "type": "quantitative"
          }
         },
         "mark": "line"
        },
        {
         "encoding": {
          "color": {
           "field": "series",
           "type": "nominal"
          },
          "x": {
           "field": "time",
           "type": "quantitative"
          },
          "y": {
           "field": "SEIRD_D",
           "type": "quantitative"
          }
         },
         "mark": "line"
        }
       ],
       "width": 800
      },
      "image/png": "[encoded data removed]"
     },
     "metadata": {},
     "output_type": "display_data"
    }
   ],
   "source": [
    "points = simulate(joinedH at [0..100 by 1])\n",
    "\n",
    "S = series(value(points.S), \"S\", {{ style = \"lines\" }})\n",
    "SIR_I = series(value(points.SIR_I), \"SIR_I\", {{ style = \"lines\" }})\n",
    "SIR_R = series(value(points.SIR_R), \"SIR_R\", {{ style = \"lines\" }})\n",
    "\n",
    "SEIRD_E = series(value(points.SEIRD_Exposed), \"SEIRD_E\", {{ style = \"lines\" }})\n",
    "SEIRD_I = series(value(points.SEIRD_Infected), \"SEIRD_I\", {{ style = \"lines\" }})\n",
    "SEIRD_R = series(value(points.SEIRD_Recovered), \"SEIRD_R\", {{ style = \"lines\" }})\n",
    "SEIRD_D = series(value(points.SEIRD_Dead), \"SEIRD_D\", {{ style = \"lines\" }})\n",
    "SEIRD_H = series(value(points.SEIRD_Hospitalized), \"SEIRD_H\", {{ style = \"lines\" }})\n",
    "\n",
    "plot(\"\", [S, SIR_I, SIR_R, SEIRD_I, SEIRD_R, SEIRD_D], time(points), \"time\")"
   ]
  },
  {
   "cell_type": "code",
   "execution_count": 3,
   "id": "8a5686d0-7cc4-4016-a1ea-1e2b2fd25585",
   "metadata": {},
   "outputs": [
    {
     "data": {
      "application/vnd.vegalite.v4+json": {
       "$schema": "https://vega.github.io/schema/vega-lite/v4.json",
       "data": {
        "values": [
         {
          "S": 500,
          "series": "S",
          "time": 0
         },
         {
          "E": 0,
          "series": "E",
          "time": 0
         },
         {
          "I": 1,
          "series": "I",
          "time": 0
         },
         {
          "R": 0,
          "series": "R",
          "time": 0
         },
         {
          "D": 0,
          "series": "D",
          "time": 0
         },
         {
          "H": 0,
          "series": "H",
          "time": 0
         },
         {
          "S": 499.57178975856795,
          "series": "S",
          "time": 1
         },
         {
          "E": 0.5094603725833313,
          "series": "E",
          "time": 1
         },
         {
          "I": 0.6631153775574167,
          "series": "I",
          "time": 1
         },
         {
          "R": 0.1819895875775381,
          "series": "R",
          "time": 1
         },
         {
          "D": 0.00917340570554261,
          "series": "D",
          "time": 1
         },
         {
          "H": 0.06447149800832973,
          "series": "H",
          "time": 1
         },
         {
          "S": 499.4148965423743,
          "series": "S",
          "time": 2
         },
         {
          "E": 0.5841807115046125,
          "series": "E",
          "time": 2
         },
         {
          "I": 0.5940321233105903,
          "series": "I",
          "time": 2
         },
         {
          "R": 0.24635660167610532,
          "series": "R",
          "time": 2
         },
         {
          "D": 0.020581975934679916,
          "series": "D",
          "time": 2
         },
         {
          "H": 0.13995204519981222,
          "series": "H",
          "time": 2
         },
         {
          "S": 499.30636284090025,
          "series": "S",
          "time": 3
         },
         {
          "E": 0.6016523745202403,
          "series": "E",
          "time": 3
         },
         {
          "I": 0.5841846594377531,
          "series": "I",
          "time": 3
         },
         {
          "R": 0.2822795471167677,
          "series": "R",
          "time": 3
         },
         {
          "D": 0.03480840313421159,
          "series": "D",
          "time": 3
         },
         {
          "H": 0.1907121748909387,
          "series": "H",
          "time": 3
         },
         {
          "S": 499.2063899048479,
          "series": "S",
          "time": 4
         },
         {
          "E": 0.6174885575855531,
          "series": "E",
          "time": 4
         },
         {
          "I": 0.5931846865645546,
          "series": "I",
          "time": 4
         },
         {
          "R": 0.30791207193783987,
          "series": "R",
          "time": 4
         },
         {
          "D": 0.051105877959141836,
          "series": "D",
          "time": 4
         },
         {
          "H": 0.2239189011052298,
          "series": "H",
          "time": 4
         },
         {
          "S": 499.1064661243317,
          "series": "S",
          "time": 5
         },
         {
          "E": 0.6378031804474954,
          "series": "E",
          "time": 5
         },
         {
          "I": 0.6107248577306648,
          "series": "I",
          "time": 5
         },
         {
          "R": 0.3287705286071374,
          "series": "R",
          "time": 5
         },
         {
          "D": 0.068930030099726,
          "series": "D",
          "time": 5
         },
         {
          "H": 0.24730527878353184,
          "series": "H",
          "time": 5
         },
         {
          "S": 499.00407585744074,
          "series": "S",
          "time": 6
         },
         {
          "E": 0.6619618470273257,
          "series": "E",
          "time": 6
         },
         {
          "I": 0.6330856546636677,
          "series": "I",
          "time": 6
         },
         {
          "R": 0.3473302017647037,
          "series": "R",
          "time": 6
         },
         {
          "D": 0.08798245637960214,
          "series": "D",
          "time": 6
         },
         {
          "H": 0.265563982724174,
          "series": "H",
          "time": 6
         },
         {
          "S": 498.89814801564546,
          "series": "S",
          "time": 7
         },
         {
          "E": 0.6889567624344445,
          "series": "E",
          "time": 7
         },
         {
          "I": 0.6585675888269146,
          "series": "I",
          "time": 7
         },
         {
          "R": 0.3649199191944662,
          "series": "R",
          "time": 7
         },
         {
          "D": 0.10811689034236514,
          "series": "D",
          "time": 7
         },
         {
          "H": 0.28129082355660756,
          "series": "H",
          "time": 7
         },
         {
          "S": 498.78808333258195,
          "series": "S",
          "time": 8
         },
         {
          "E": 0.7181354254195078,
          "series": "E",
          "time": 8
         },
         {
          "I": 0.6863183989208871,
          "series": "I",
          "time": 8
         },
         {
          "R": 0.3822906037635745,
          "series": "R",
          "time": 8
         },
         {
          "D": 0.1292721226033905,
          "series": "D",
          "time": 8
         },
         {
          "H": 0.2959001167109581,
          "series": "H",
          "time": 8
         },
         {
          "S": 498.67347862940966,
          "series": "S",
          "time": 9
         },
         {
          "E": 0.7491403631925703,
          "series": "E",
          "time": 9
         },
         {
          "I": 0.7159064057044283,
          "series": "I",
          "time": 9
         },
         {
          "R": 0.3998740167029729,
          "series": "R",
          "time": 9
         },
         {
          "D": 0.15143384145855346,
          "series": "D",
          "time": 9
         },
         {
          "H": 0.3101667435320697,
          "series": "H",
          "time": 9
         },
         {
          "S": 498.55402209676896,
          "series": "S",
          "time": 10
         },
         {
          "E": 0.7817960311840606,
          "series": "E",
          "time": 10
         },
         {
          "I": 0.7471229300245512,
          "series": "I",
          "time": 10
         },
         {
          "R": 0.41792350001792195,
          "series": "R",
          "time": 10
         },
         {
          "D": 0.17461390803872529,
          "series": "D",
          "time": 10
         },
         {
          "H": 0.3245215339659809,
          "series": "H",
          "time": 10
         },
         {
          "S": 498.4294451726962,
          "series": "S",
          "time": 11
         },
         {
          "E": 0.8160317343239015,
          "series": "E",
          "time": 11
         },
         {
          "I": 0.7798805493628148,
          "series": "I",
          "time": 11
         },
         {
          "R": 0.4365933933143877,
          "series": "R",
          "time": 11
         },
         {
          "D": 0.19883919668793346,
          "series": "D",
          "time": 11
         },
         {
          "H": 0.33920995361497847,
          "series": "H",
          "time": 11
         },
         {
          "S": 498.29949825796905,
          "series": "S",
          "time": 12
         },
         {
          "E": 0.851836225983319,
          "series": "E",
          "time": 12
         },
         {
          "I": 0.8141587198303636,
          "series": "I",
          "time": 12
         },
         {
          "R": 0.45598372702887496,
          "series": "R",
          "time": 12
         },
         {
          "D": 0.22414559239125023,
          "series": "D",
          "time": 12
         },
         {
          "H": 0.35437747679734605,
          "series": "H",
          "time": 12
         },
         {
          "S": 498.1639378961973,
          "series": "S",
          "time": 13
         },
         {
          "E": 0.8892321017890622,
          "series": "E",
          "time": 13
         },
         {
          "I": 0.8499743536783938,
          "series": "I",
          "time": 13
         },
         {
          "R": 0.4761651663615855,
          "series": "R",
          "time": 13
         },
         {
          "D": 0.2505747683826152,
          "series": "D",
          "time": 13
         },
         {
          "H": 0.3701157135912623,
          "series": "H",
          "time": 13
         },
         {
          "S": 498.02251982168747,
          "series": "S",
          "time": 14
         },
         {
          "E": 0.9282616012597842,
          "series": "E",
          "time": 14
         },
         {
          "I": 0.8873658418309068,
          "series": "I",
          "time": 14
         },
         {
          "R": 0.49719283984184875,
          "series": "R",
          "time": 14
         },
         {
          "D": 0.27817246818785857,
          "series": "D",
          "time": 14
         },
         {
          "H": 0.38648742719235546,
          "series": "H",
          "time": 14
         },
         {
          "S": 497.87499509871606,
          "series": "S",
          "time": 15
         },
         {
          "E": 0.9689788019573051,
          "series": "E",
          "time": 15
         },
         {
          "I": 0.9263843762944413,
          "series": "I",
          "time": 15
         },
         {
          "R": 0.5191139747566279,
          "series": "R",
          "time": 15
         },
         {
          "D": 0.30698760470271524,
          "series": "D",
          "time": 15
         },
         {
          "H": 0.40354014357308693,
          "series": "H",
          "time": 15
         },
         {
          "S": 497.7211079036418,
          "series": "S",
          "time": 16
         },
         {
          "E": 1.011445370775709,
          "series": "E",
          "time": 16
         },
         {
          "I": 0.9670892386549631,
          "series": "I",
          "time": 16
         },
         {
          "R": 0.5419721097636607,
          "series": "R",
          "time": 16
         },
         {
          "D": 0.33707180448450064,
          "series": "D",
          "time": 16
         },
         {
          "H": 0.4213135726796513,
          "series": "H",
          "time": 16
         },
         {
          "S": 497.56059420804684,
          "series": "S",
          "time": 17
         },
         {
          "E": 1.0557282481567956,
          "series": "E",
          "time": 17
         },
         {
          "I": 1.0095452652479915,
          "series": "I",
          "time": 17
         },
         {
          "R": 0.5658094171107966,
          "series": "R",
          "time": 17
         },
         {
          "D": 0.3684791954905456,
          "series": "D",
          "time": 17
         },
         {
          "H": 0.4398436659473133,
          "series": "H",
          "time": 17
         },
         {
          "S": 497.39318093890444,
          "series": "S",
          "time": 18
         },
         {
          "E": 1.1018984104100422,
          "series": "E",
          "time": 18
         },
         {
          "I": 1.0538214880380252,
          "series": "I",
          "time": 18
         },
         {
          "R": 0.5906679920271891,
          "series": "R",
          "time": 18
         },
         {
          "D": 0.4012663283500108,
          "series": "D",
          "time": 18
         },
         {
          "H": 0.4591648422705957,
          "series": "H",
          "time": 18
         },
         {
          "S": 497.2185854027046,
          "series": "S",
          "time": 19
         },
         {
          "E": 1.150030215762389,
          "series": "E",
          "time": 19
         },
         {
          "I": 1.099990420236967,
          "series": "I",
          "time": 19
         },
         {
          "R": 0.6165905744276251,
          "series": "R",
          "time": 19
         },
         {
          "D": 0.4354921714248049,
          "series": "D",
          "time": 19
         },
         {
          "H": 0.4793112154439431,
          "series": "H",
          "time": 19
         },
         {
          "S": 497.0365148545976,
          "series": "S",
          "time": 20
         },
         {
          "E": 1.2002010690571951,
          "series": "E",
          "time": 20
         },
         {
          "I": 1.1481276928504764,
          "series": "I",
          "time": 20
         },
         {
          "R": 0.6436209598034709,
          "series": "R",
          "time": 20
         },
         {
          "D": 0.4712181470419844,
          "series": "D",
          "time": 20
         },
         {
          "H": 0.5003172766496333,
          "series": "H",
          "time": 20
         },
         {
          "S": 496.84666614872526,
          "series": "S",
          "time": 21
         },
         {
          "E": 1.2524912593245938,
          "series": "E",
          "time": 21
         },
         {
          "I": 1.1983118818179856,
          "series": "I",
          "time": 21
         },
         {
          "R": 0.671804239796588,
          "series": "R",
          "time": 21
         },
         {
          "D": 0.508508191079538,
          "series": "D",
          "time": 21
         },
         {
          "H": 0.5222182792564575,
          "series": "H",
          "time": 21
         },
         {
          "S": 496.64872543566923,
          "series": "S",
          "time": 22
         },
         {
          "E": 1.306983890190271,
          "series": "E",
          "time": 22
         },
         {
          "I": 1.2506244380581684,
          "series": "I",
          "time": 22
         },
         {
          "R": 0.7011869491976385,
          "series": "R",
          "time": 22
         },
         {
          "D": 0.5474288261532857,
          "series": "D",
          "time": 22
         },
         {
          "H": 0.5450504607318694,
          "series": "H",
          "time": 22
         },
         {
          "S": 496.44236789334224,
          "series": "S",
          "time": 23
         },
         {
          "E": 1.3637648514520715,
          "series": "E",
          "time": 23
         },
         {
          "I": 1.3051496759192902,
          "series": "I",
          "time": 23
         },
         {
          "R": 0.7318171601088636,
          "series": "R",
          "time": 23
         },
         {
          "D": 0.5880492430048254,
          "series": "D",
          "time": 23
         },
         {
          "H": 0.5688511761732099,
          "series": "H",
          "time": 23
         },
         {
          "S": 496.22725745829115,
          "series": "S",
          "time": 24
         },
         {
          "E": 1.422922851533439,
          "series": "E",
          "time": 24
         },
         {
          "I": 1.3619747729355276,
          "series": "I",
          "time": 24
         },
         {
          "R": 0.7637445524257684,
          "series": "R",
          "time": 24
         },
         {
          "D": 0.6304413873667574,
          "series": "D",
          "time": 24
         },
         {
          "H": 0.5936589774478612,
          "series": "H",
          "time": 24
         },
         {
          "S": 496.003046610319,
          "series": "S",
          "time": 25
         },
         {
          "E": 1.4845493929874478,
          "series": "E",
          "time": 25
         },
         {
          "I": 1.4211898151454354,
          "series": "I",
          "time": 25
         },
         {
          "R": 0.7970204573735555,
          "series": "R",
          "time": 25
         },
         {
          "D": 0.6746800500506391,
          "series": "D",
          "time": 25
         },
         {
          "H": 0.6195136741243801,
          "series": "H",
          "time": 25
         },
         {
          "S": 495.76937613843535,
          "series": "S",
          "time": 26
         },
         {
          "E": 1.548738812625371,
          "series": "E",
          "time": 26
         },
         {
          "I": 1.4828878187108954,
          "series": "I",
          "time": 26
         },
         {
          "R": 0.831697900535885,
          "series": "R",
          "time": 26
         },
         {
          "D": 0.7208429600285494,
          "series": "D",
          "time": 26
         },
         {
          "H": 0.646456369664405,
          "series": "H",
          "time": 26
         },
         {
          "S": 495.52587493590806,
          "series": "S",
          "time": 27
         },
         {
          "E": 1.615588294762405,
          "series": "E",
          "time": 27
         },
         {
          "I": 1.5471647642207078,
          "series": "I",
          "time": 27
         },
         {
          "R": 0.8678316338769198,
          "series": "R",
          "time": 27
         },
         {
          "D": 0.7690108793999686,
          "series": "D",
          "time": 27
         },
         {
          "H": 0.6745294918324106,
          "series": "H",
          "time": 27
         },
         {
          "S": 495.27215981009283,
          "series": "S",
          "time": 28
         },
         {
          "E": 1.6851978831307879,
          "series": "E",
          "time": 28
         },
         {
          "I": 1.6141196271628169,
          "series": "I",
          "time": 28
         },
         {
          "R": 0.9054781633193018,
          "series": "R",
          "time": 28
         },
         {
          "D": 0.8192677000190074,
          "series": "D",
          "time": 28
         },
         {
          "H": 0.7037768162757052,
          "series": "H",
          "time": 28
         },
         {
          "S": 495.007835310103,
          "series": "S",
          "time": 29
         },
         {
          "E": 1.7576704871560358,
          "series": "E",
          "time": 29
         },
         {
          "I": 1.68385440377849,
          "series": "I",
          "time": 29
         },
         {
          "R": 0.9446957721387973,
          "series": "R",
          "time": 29
         },
         {
          "D": 0.8717005414596488,
          "series": "D",
          "time": 29
         },
         {
          "H": 0.7342434853644901,
          "series": "H",
          "time": 29
         },
         {
          "S": 494.73249357469814,
          "series": "S",
          "time": 30
         },
         {
          "E": 1.8331118807642865,
          "series": "E",
          "time": 30
         },
         {
          "I": 1.7564741310558025,
          "series": "I",
          "time": 30
         },
         {
          "R": 0.9855445403203105,
          "series": "R",
          "time": 30
         },
         {
          "D": 0.926399850053208,
          "series": "D",
          "time": 30
         },
         {
          "H": 0.7659760231086927,
          "series": "H",
          "time": 30
         },
         {
          "S": 494.4457142029025,
          "series": "S",
          "time": 31
         },
         {
          "E": 1.9116306924398332,
          "series": "E",
          "time": 31
         },
         {
          "I": 1.832086899727803,
          "series": "I",
          "time": 31
         },
         {
          "R": 1.0280863597757475,
          "series": "R",
          "time": 31
         },
         {
          "D": 0.9834594987455159,
          "series": "D",
          "time": 31
         },
         {
          "H": 0.7990223464090662,
          "series": "H",
          "time": 31
         },
         {
          "S": 494.1470641500856,
          "series": "S",
          "time": 32
         },
         {
          "E": 1.9933383854071338,
          "series": "E",
          "time": 32
         },
         {
          "I": 1.9108038592349619,
          "series": "I",
          "time": 32
         },
         {
          "R": 1.0723849451514302,
          "series": "R",
          "time": 32
         },
         {
          "D": 1.0429768875153183,
          "series": "D",
          "time": 32
         },
         {
          "H": 0.833431772605987,
          "series": "H",
          "time": 32
         },
         {
          "S": 493.8360976524594,
          "series": "S",
          "time": 33
         },
         {
          "E": 2.078349226853403,
          "series": "E",
          "time": 33
         },
         {
          "I": 1.9927392136476156,
          "series": "I",
          "time": 33
         },
         {
          "R": 1.1185058398403214,
          "series": "R",
          "time": 33
         },
         {
          "D": 1.105053044078795,
          "series": "D",
          "time": 33
         },
         {
          "H": 0.8692550231209452,
          "series": "H",
          "time": 33
         },
         {
          "S": 493.51235618315263,
          "series": "S",
          "time": 34
         },
         {
          "E": 2.1667802451045346,
          "series": "E",
          "time": 34
         },
         {
          "I": 2.0780102075404945,
          "series": "I",
          "time": 34
         },
         {
          "R": 1.1665164167378357,
          "series": "R",
          "time": 34
         },
         {
          "D": 1.1697927245820512,
          "series": "D",
          "time": 34
         },
         {
          "H": 0.9065442228829493,
          "series": "H",
          "time": 34
         },
         {
          "S": 493.17536844322876,
          "series": "S",
          "time": 35
         },
         {
          "E": 2.2587511736424246,
          "series": "E",
          "time": 35
         },
         {
          "I": 2.166737100785009,
          "series": "I",
          "time": 35
         },
         {
          "R": 1.2164858732234896,
          "series": "R",
          "time": 35
         },
         {
          "D": 1.2373045139560597,
          "series": "D",
          "time": 35
         },
         {
          "H": 0.9453528951647167,
          "series": "H",
          "time": 35
         },
         {
          "S": 492.824650395981,
          "series": "S",
          "time": 36
         },
         {
          "E": 2.3543843720755735,
          "series": "E",
          "time": 36
         },
         {
          "I": 2.2590431352475275,
          "series": "I",
          "time": 36
         },
         {
          "R": 1.2684852186113809,
          "series": "R",
          "time": 36
         },
         {
          "D": 1.3077009255308882,
          "series": "D",
          "time": 36
         },
         {
          "H": 0.9857359525541337,
          "series": "H",
          "time": 36
         },
         {
          "S": 492.4597053208355,
          "series": "S",
          "time": 37
         },
         {
          "E": 2.4538047730976102,
          "series": "E",
          "time": 37
         },
         {
          "I": 2.3550544688829675,
          "series": "I",
          "time": 37
         },
         {
          "R": 1.322587260468607,
          "series": "R",
          "time": 37
         },
         {
          "D": 1.381098499793643,
          "series": "D",
          "time": 37
         },
         {
          "H": 1.0277496769221437,
          "series": "H",
          "time": 37
         },
         {
          "S": 492.0800239557696,
          "series": "S",
          "time": 38
         },
         {
          "E": 2.557139735271562,
          "series": "E",
          "time": 38
         },
         {
          "I": 2.4549001316419963,
          "series": "I",
          "time": 38
         },
         {
          "R": 1.3788665721468245,
          "series": "R",
          "time": 38
         },
         {
          "D": 1.457617901208483,
          "series": "D",
          "time": 38
         },
         {
          "H": 1.0714517039619493,
          "series": "H",
          "time": 38
         },
         {
          "S": 491.68508465180963,
          "series": "S",
          "time": 39
         },
         {
          "E": 2.664518947850811,
          "series": "E",
          "time": 39
         },
         {
          "I": 2.5587119327734733,
          "series": "I",
          "time": 39
         },
         {
          "R": 1.4373994626701208,
          "series": "R",
          "time": 39
         },
         {
          "D": 1.5373840134683827,
          "series": "D",
          "time": 39
         },
         {
          "H": 1.1169009914280073,
          "series": "H",
          "time": 39
         },
         {
          "S": 491.2743535980458,
          "series": "S",
          "time": 40
         },
         {
          "E": 2.7760742872284965,
          "series": "E",
          "time": 40
         },
         {
          "I": 2.6666243650499686,
          "series": "I",
          "time": 40
         },
         {
          "R": 1.4982639329216667,
          "series": "R",
          "time": 40
         },
         {
          "D": 1.6205260321027968,
          "series": "D",
          "time": 40
         },
         {
          "H": 1.164157784651655,
          "series": "H",
          "time": 40
         },
         {
          "S": 490.84728510398605,
          "series": "S",
          "time": 41
         },
         {
          "E": 2.891939655995181,
          "series": "E",
          "time": 41
         },
         {
          "I": 2.7787744892323207,
          "series": "I",
          "time": 41
         },
         {
          "R": 1.5615396227827028,
          "series": "R",
          "time": 41
         },
         {
          "D": 1.7071775540978815,
          "series": "D",
          "time": 41
         },
         {
          "H": 1.2132835739062557,
          "series": "H",
          "time": 41
         },
         {
          "S": 490.4033219453038,
          "series": "S",
          "time": 42
         },
         {
          "E": 3.0122508005875406,
          "series": "E",
          "time": 42
         },
         {
          "I": 2.8953017987494585,
          "series": "I",
          "time": 42
         },
         {
          "R": 1.6273077479174047,
          "series": "R",
          "time": 42
         },
         {
          "D": 1.79747666392691,
          "series": "D",
          "time": 42
         },
         {
          "H": 1.2643410435153444,
          "series": "H",
          "time": 42
         },
         {
          "S": 489.9418957779399,
          "series": "S",
          "time": 43
         },
         {
          "E": 3.1371451057501774,
          "series": "E",
          "time": 43
         },
         {
          "I": 3.016348063436503,
          "series": "I",
          "time": 43
         },
         {
          "R": 1.6956510253426724,
          "series": "R",
          "time": 43
         },
         {
          "D": 1.8915660153619511,
          "series": "D",
          "time": 43
         },
         {
          "H": 1.317394012169208,
          "series": "H",
          "time": 43
         },
         {
          "S": 489.46242762542437,
          "series": "S",
          "time": 44
         },
         {
          "E": 3.2667613643928646,
          "series": "E",
          "time": 44
         },
         {
          "I": 3.142057150976053,
          "series": "I",
          "time": 44
         },
         {
          "R": 1.7666535869707534,
          "series": "R",
          "time": 44
         },
         {
          "D": 1.989592908395998,
          "series": "D",
          "time": 44
         },
         {
          "H": 1.3725073638403706,
          "series": "H",
          "time": 44
         },
         {
          "S": 488.96432844432394,
          "series": "S",
          "time": 45
         },
         {
          "E": 3.401239521496659,
          "series": "E",
          "time": 45
         },
         {
          "I": 3.272574824645154,
          "series": "I",
          "time": 45
         },
         {
          "R": 1.840400880305678,
          "series": "R",
          "time": 45
         },
         {
          "D": 2.0917093605598756,
          "series": "D",
          "time": 45
         },
         {
          "H": 1.4297469686691404,
          "series": "H",
          "time": 45
         },
         {
          "S": 488.4469997727613,
          "series": "S",
          "time": 46
         },
         {
          "E": 3.5407203907586386,
          "series": "E",
          "time": 46
         },
         {
          "I": 3.408048515961706,
          "series": "I",
          "time": 46
         },
         {
          "R": 1.9169795554640483,
          "series": "R",
          "time": 46
         },
         {
          "D": 2.198072171872554,
          "series": "D",
          "time": 46
         },
         {
          "H": 1.4891795931822693,
          "series": "H",
          "time": 46
         },
         {
          "S": 487.909834466953,
          "series": "S",
          "time": 47
         },
         {
          "E": 3.685345342708911,
          "series": "E",
          "time": 47
         },
         {
          "I": 3.5486270708309715,
          "series": "I",
          "time": 47
         },
         {
          "R": 1.9964773376850624,
          "series": "R",
          "time": 47
         },
         {
          "D": 2.3088429826175214,
          "series": "D",
          "time": 47
         },
         {
          "H": 1.5508727992050284,
          "series": "H",
          "time": 47
         },
         {
          "S": 487.35221753067583,
          "series": "S",
          "time": 48
         },
         {
          "E": 3.8352559630934984,
          "series": "E",
          "time": 48
         },
         {
          "I": 3.6944604678139368,
          "series": "I",
          "time": 48
         },
         {
          "R": 2.0789828844955895,
          "series": "R",
          "time": 48
         },
         {
          "D": 2.4241883230920154,
          "series": "D",
          "time": 48
         },
         {
          "H": 1.6148948308295727,
          "series": "H",
          "time": 48
         },
         {
          "S": 486.7735270424825,
          "series": "S",
          "time": 49
         },
         {
          "E": 3.99059368039575,
          "series": "E",
          "time": 49
         },
         {
          "I": 3.845699507175861,
          "series": "I",
          "time": 49
         },
         {
          "R": 2.164585626704645,
          "series": "R",
          "time": 49
         },
         {
          "D": 2.544279654430645,
          "series": "D",
          "time": 49
         },
         {
          "H": 1.6813144888110207,
          "series": "H",
          "time": 49
         },
         {
          "S": 486.17313518534655,
          "series": "S",
          "time": 50
         },
         {
          "E": 4.151499361469244,
          "series": "E",
          "time": 50
         },
         {
          "I": 4.002495469427138,
          "series": "I",
          "time": 50
         },
         {
          "R": 2.2533755924187844,
          "series": "R",
          "time": 50
         },
         {
          "D": 2.6692933995606842,
          "series": "D",
          "time": 50
         },
         {
          "H": 1.750200991778035,
          "series": "H",
          "time": 50
         },
         {
          "S": 485.5504093875125,
          "series": "S",
          "time": 51
         },
         {
          "E": 4.318112866495896,
          "series": "E",
          "time": 51
         },
         {
          "I": 4.164999745767673,
          "series": "I",
          "time": 51
         },
         {
          "R": 2.3454432123227082,
          "series": "R",
          "time": 51
         },
         {
          "D": 2.7994109632632744,
          "series": "D",
          "time": 51
         },
         {
          "H": 1.8216238246383933,
          "series": "H",
          "time": 51
         },
         {
          "S": 484.9047135540229,
          "series": "S",
          "time": 52
         },
         {
          "E": 4.490572607836156,
          "series": "E",
          "time": 52
         },
         {
          "I": 4.333363418399625,
          "series": "I",
          "time": 52
         },
         {
          "R": 2.4408791112306965,
          "series": "R",
          "time": 52
         },
         {
          "D": 2.9348187405496025,
          "series": "D",
          "time": 52
         },
         {
          "H": 1.8956525679614407,
          "series": "H",
          "time": 52
         },
         {
          "S": 484.2354094514066,
          "series": "S",
          "time": 53
         },
         {
          "E": 4.669015004793966,
          "series": "E",
          "time": 53
         },
         {
          "I": 4.507736839459107,
          "series": "I",
          "time": 53
         },
         {
          "R": 2.539773871139457,
          "series": "R",
          "time": 53
         },
         {
          "D": 3.0757081117236287,
          "series": "D",
          "time": 53
         },
         {
          "H": 1.9723567214776345,
          "series": "H",
          "time": 53
         },
         {
          "S": 483.5418581762349,
          "series": "S",
          "time": 54
         },
         {
          "E": 4.853573967119909,
          "series": "E",
          "time": 54
         },
         {
          "I": 4.688269145685997,
          "series": "I",
          "time": 54
         },
         {
          "R": 2.6422177833507186,
          "series": "R",
          "time": 54
         },
         {
          "D": 3.2222754237496667,
          "series": "D",
          "time": 54
         },
         {
          "H": 2.0518055038592147,
          "series": "H",
          "time": 54
         },
         {
          "S": 482.82342175933894,
          "series": "S",
          "time": 55
         },
         {
          "E": 5.044380317607467,
          "series": "E",
          "time": 55
         },
         {
          "I": 4.875107750103819,
          "series": "I",
          "time": 55
         },
         {
          "R": 2.7483005761580195,
          "series": "R",
          "time": 55
         },
         {
          "D": 3.374721956300917,
          "series": "D",
          "time": 55
         },
         {
          "H": 2.1340676404912324,
          "series": "H",
          "time": 55
         },
         {
          "S": 482.07946489210445,
          "series": "S",
          "time": 56
         },
         {
          "E": 5.2415611830376765,
          "series": "E",
          "time": 56
         },
         {
          "I": 5.068397796405061,
          "series": "I",
          "time": 56
         },
         {
          "R": 2.858111122246507,
          "series": "R",
          "time": 56
         },
         {
          "D": 3.5332538715090562,
          "series": "D",
          "time": 56
         },
         {
          "H": 2.219211134697643,
          "series": "H",
          "time": 56
         },
         {
          "S": 481.30935677775983,
          "series": "S",
          "time": 57
         },
         {
          "E": 5.44523935149573,
          "series": "E",
          "time": 57
         },
         {
          "I": 5.2682815769480404,
          "series": "I",
          "time": 57
         },
         {
          "R": 2.971737124965727,
          "series": "R",
          "time": 57
         },
         {
          "D": 3.6980821462279994,
          "series": "D",
          "time": 57
         },
         {
          "H": 2.3073030226030538,
          "series": "H",
          "time": 57
         },
         {
          "S": 480.5124731086771,
          "series": "S",
          "time": 58
         },
         {
          "E": 5.655532596425698,
          "series": "E",
          "time": 58
         },
         {
          "I": 5.474897914544031,
          "series": "I",
          "time": 58
         },
         {
          "R": 3.089264783177575,
          "series": "R",
          "time": 58
         },
         {
          "D": 3.8694224856286334,
          "series": "D",
          "time": 58
         },
         {
          "H": 2.398409111547352,
          "series": "H",
          "time": 58
         },
         {
          "S": 479.6881981696159,
          "series": "S",
          "time": 59
         },
         {
          "E": 5.872552968477734,
          "series": "E",
          "time": 59
         },
         {
          "I": 5.688381508347905,
          "series": "I",
          "time": 59
         },
         {
          "R": 3.2107784345865107,
          "series": "R",
          "time": 59
         },
         {
          "D": 4.047495216940438,
          "series": "D",
          "time": 59
         },
         {
          "H": 2.4925937020319298,
          "series": "H",
          "time": 59
         },
         {
          "S": 478.83592706579174,
          "series": "S",
          "time": 60
         },
         {
          "E": 6.096406056652308,
          "series": "E",
          "time": 60
         },
         {
          "I": 5.908862244465464,
          "series": "I",
          "time": 60
         },
         {
          "R": 3.336360177630012,
          "series": "R",
          "time": 60
         },
         {
          "D": 4.232525162162362,
          "series": "D",
          "time": 60
         },
         {
          "H": 2.589919293298517,
          "series": "H",
          "time": 60
         },
         {
          "S": 477.95506807351387,
          "series": "S",
          "time": 61
         },
         {
          "E": 6.327190220684009,
          "series": "E",
          "time": 61
         },
         {
          "I": 6.136464472245383,
          "series": "I",
          "time": 61
         },
         {
          "R": 3.4660894721903,
          "series": "R",
          "time": 61
         },
         {
          "D": 4.424741488581762,
          "series": "D",
          "time": 61
         },
         {
          "H": 2.6904462727850755,
          "series": "H",
          "time": 61
         },
         {
          "S": 477.04504510989614,
          "series": "S",
          "time": 62
         },
         {
          "E": 6.564995797068193,
          "series": "E",
          "time": 62
         },
         {
          "I": 6.371306247615225,
          "series": "I",
          "time": 62
         },
         {
          "R": 3.6000427195904856,
          "series": "R",
          "time": 62
         },
         {
          "D": 4.62437753596796,
          "series": "D",
          "time": 62
         },
         {
          "H": 2.794232589862419,
          "series": "H",
          "time": 62
         },
         {
          "S": 476.105300316797,
          "series": "S",
          "time": 63
         },
         {
          "E": 6.809904281620858,
          "series": "E",
          "time": 63
         },
         {
          "I": 6.613498545245843,
          "series": "I",
          "time": 63
         },
         {
          "R": 3.7382928225601506,
          "series": "R",
          "time": 63
         },
         {
          "D": 4.831670619347123,
          "series": "D",
          "time": 63
         },
         {
          "H": 2.901333414429445,
          "series": "H",
          "time": 63
         },
         {
          "S": 475.135296752693,
          "series": "S",
          "time": 64
         },
         {
          "E": 7.06198749197341,
          "series": "E",
          "time": 64
         },
         {
          "I": 6.863144441784577,
          "series": "I",
          "time": 64
         },
         {
          "R": 3.880908726096807,
          "series": "R",
          "time": 64
         },
         {
          "D": 5.0468618063188675,
          "series": "D",
          "time": 64
         },
         {
          "H": 3.011800781133744,
          "series": "H",
          "time": 64
         },
         {
          "S": 474.13452118464187,
          "series": "S",
          "time": 65
         },
         {
          "E": 7.321306713935415,
          "series": "E",
          "time": 65
         },
         {
          "I": 7.120338272882836,
          "series": "I",
          "time": 65
         },
         {
          "R": 4.027954940409915,
          "series": "R",
          "time": 65
         },
         {
          "D": 5.270195667943106,
          "series": "D",
          "time": 65
         },
         {
          "H": 3.125683220187333,
          "series": "H",
          "time": 65
         },
         {
          "S": 473.10248697085603,
          "series": "S",
          "time": 66
         },
         {
          "E": 7.5879118362048175,
          "series": "E",
          "time": 66
         },
         {
          "I": 7.385164767254794,
          "series": "I",
          "time": 66
         },
         {
          "R": 4.179491047412123,
          "series": "R",
          "time": 66
         },
         {
          "D": 5.501920002309317,
          "series": "D",
          "time": 66
         },
         {
          "H": 3.2430253759634233,
          "series": "H",
          "time": 66
         },
         {
          "S": 472.03873702269783,
          "series": "S",
          "time": 67
         },
         {
          "E": 7.8618404784604214,
          "series": "E",
          "time": 67
         },
         {
          "I": 7.657698161537237,
          "series": "I",
          "time": 67
         },
         {
          "R": 4.335571192516552,
          "series": "R",
          "time": 67
         },
         {
          "D": 5.742285530000366,
          "series": "D",
          "time": 67
         },
         {
          "H": 3.363867614788134,
          "series": "H",
          "time": 67
         },
         {
          "S": 470.9428468331346,
          "series": "S",
          "time": 68
         },
         {
          "E": 8.143117118428314,
          "series": "E",
          "time": 68
         },
         {
          "I": 7.938001300271063,
          "series": "I",
          "time": 68
         },
         {
          "R": 4.49624356380722,
          "series": "R",
          "time": 68
         },
         {
          "D": 5.99154556078007,
          "series": "D",
          "time": 68
         },
         {
          "H": 3.4882456235792803,
          "series": "H",
          "time": 68
         },
         {
          "S": 469.8144275568807,
          "series": "S",
          "time": 69
         },
         {
          "E": 8.431752224064192,
          "series": "E",
          "time": 69
         },
         {
          "I": 8.226124725886974,
          "series": "I",
          "time": 69
         },
         {
          "R": 4.661549860969568,
          "series": "R",
          "time": 69
         },
         {
          "D": 6.249955630968446,
          "series": "D",
          "time": 69
         },
         {
          "H": 3.6161900012306853,
          "series": "H",
          "time": 69
         },
         {
          "S": 468.65312912561814,
          "series": "S",
          "time": 70
         },
         {
          "E": 8.72774139752804,
          "series": "E",
          "time": 70
         },
         {
          "I": 8.522105764144346,
          "series": "I",
          "time": 70
         },
         {
          "R": 4.831524756696284,
          "series": "R",
          "time": 70
         },
         {
          "D": 6.517773111121419,
          "series": "D",
          "time": 70
         },
         {
          "H": 3.747725844892322,
          "series": "H",
          "time": 70
         },
         {
          "S": 467.4586433798584,
          "series": "S",
          "time": 71
         },
         {
          "E": 9.031064538135919,
          "series": "E",
          "time": 71
         },
         {
          "I": 8.825967611035619,
          "series": "I",
          "time": 71
         },
         {
          "R": 5.006195353616578,
          "series": "R",
          "time": 71
         },
         {
          "D": 6.795256783802975,
          "series": "D",
          "time": 71
         },
         {
          "H": 3.882872333551034,
          "series": "H",
          "time": 71
         },
         {
          "S": 466.2307071998773,
          "series": "S",
          "time": 72
         },
         {
          "E": 9.341685027041727,
          "series": "E",
          "time": 72
         },
         {
          "I": 9.137718429871812,
          "series": "I",
          "time": 72
         },
         {
          "R": 5.185580639799814,
          "series": "R",
          "time": 72
         },
         {
          "D": 7.082666391408037,
          "series": "D",
          "time": 72
         },
         {
          "H": 4.021642312001854,
          "series": "H",
          "time": 72
         },
         {
          "S": 464.96910559837005,
          "series": "S",
          "time": 73
         },
         {
          "E": 9.659548969957756,
          "series": "E",
          "time": 73
         },
         {
          "I": 9.457350453182896,
          "series": "I",
          "time": 73
         },
         {
          "R": 5.369690948587711,
          "series": "R",
          "time": 73
         },
         {
          "D": 7.3802621543330895,
          "series": "D",
          "time": 73
         },
         {
          "H": 4.164041875569086,
          "series": "H",
          "time": 73
         },
         {
          "S": 463.6736747877098,
          "series": "S",
          "time": 74
         },
         {
          "E": 9.984584439409824,
          "series": "E",
          "time": 74
         },
         {
          "I": 9.784839126768743,
          "series": "I",
          "time": 74
         },
         {
          "R": 5.558527421510222,
          "series": "R",
          "time": 74
         },
         {
          "D": 7.688304259632832,
          "series": "D",
          "time": 74
         },
         {
          "H": 4.3100699649691885,
          "series": "H",
          "time": 74
         },
         {
          "S": 462.34430515139,
          "series": "S",
          "time": 75
         },
         {
          "E": 10.31670080826549,
          "series": "E",
          "time": 75
         },
         {
          "I": 10.120142266734197,
          "series": "I",
          "time": 75
         },
         {
          "R": 5.752081485864578,
          "series": "R",
          "time": 75
         },
         {
          "D": 8.007052321161362,
          "series": "D",
          "time": 75
         },
         {
          "H": 4.459717966584923,
          "series": "H",
          "time": 75
         },
         {
          "S": 460.98094412358495,
          "series": "S",
          "time": 76
         },
         {
          "E": 10.655788127780504,
          "series": "E",
          "time": 76
         },
         {
          "I": 10.463199263208582,
          "series": "I",
          "time": 76
         },
         {
          "R": 5.950334346019327,
          "series": "R",
          "time": 76
         },
         {
          "D": 8.33676481186008,
          "series": "D",
          "time": 76
         },
         {
          "H": 4.612969327547113,
          "series": "H",
          "time": 76
         },
         {
          "S": 459.5835989393753,
          "series": "S",
          "time": 77
         },
         {
          "E": 11.001716577228887,
          "series": "E",
          "time": 77
         },
         {
          "I": 10.813930331180446,
          "series": "I",
          "time": 77
         },
         {
          "R": 6.153256495484784,
          "series": "R",
          "time": 77
         },
         {
          "D": 8.677698469457075,
          "series": "D",
          "time": 77
         },
         {
          "H": 4.769799187274082,
          "series": "H",
          "time": 77
         },
         {
          "S": 458.15233922793277,
          "series": "S",
          "time": 78
         },
         {
          "E": 11.354335992689757,
          "series": "E",
          "time": 78
         },
         {
          "I": 11.17223581817216,
          "series": "I",
          "time": 78
         },
         {
          "R": 6.360807254550625,
          "series": "R",
          "time": 78
         },
         {
          "D": 9.030107677026773,
          "series": "D",
          "time": 78
         },
         {
          "H": 4.930174029628481,
          "series": "H",
          "time": 78
         },
         {
          "S": 456.6872994196915,
          "series": "S",
          "time": 79
         },
         {
          "E": 11.71347548364786,
          "series": "E",
          "time": 79
         },
         {
          "I": 11.537995578039439,
          "series": "I",
          "time": 79
         },
         {
          "R": 6.572934338703324,
          "series": "R",
          "time": 79
         },
         {
          "D": 9.39424382015722,
          "series": "D",
          "time": 79
         },
         {
          "H": 5.094051359761181,
          "series": "H",
          "time": 79
         },
         {
          "S": 455.18868093814046,
          "series": "S",
          "time": 80
         },
         {
          "E": 12.078943146002917,
          "series": "E",
          "time": 80
         },
         {
          "I": 11.911068420135646,
          "series": "I",
          "time": 80
         },
         {
          "R": 6.789573463189716,
          "series": "R",
          "time": 80
         },
         {
          "D": 9.77035462276959,
          "series": "D",
          "time": 80
         },
         {
          "H": 5.261379409762214,
          "series": "H",
          "time": 80
         },
         {
          "S": 453.6567541469223,
          "series": "S",
          "time": 81
         },
         {
          "E": 12.450525879717135,
          "series": "E",
          "time": 81
         },
         {
          "I": 12.29129164299942,
          "series": "I",
          "time": 81
         },
         {
          "R": 7.010647989158988,
          "series": "R",
          "time": 81
         },
         {
          "D": 10.158683463933585,
          "series": "D",
          "time": 81
         },
         {
          "H": 5.432096877269077,
          "series": "H",
          "time": 81
         },
         {
          "S": 452.09186002337884,
          "series": "S",
          "time": 82
         },
         {
          "E": 12.827989318792499,
          "series": "E",
          "time": 82
         },
         {
          "I": 12.678480661530088,
          "series": "I",
          "time": 82
         },
         {
          "R": 7.2360686168131245,
          "series": "R",
          "time": 82
         },
         {
          "D": 10.55946867832035,
          "series": "D",
          "time": 82
         },
         {
          "H": 5.6061327011655795,
          "series": "H",
          "time": 82
         },
         {
          "S": 450.4944115305501,
          "series": "S",
          "time": 83
         },
         {
          "E": 13.211077880578772,
          "series": "E",
          "time": 83
         },
         {
          "I": 13.07242873628883,
          "series": "I",
          "time": 83
         },
         {
          "R": 7.465733130922718,
          "series": "R",
          "time": 83
         },
         {
          "D": 10.97294284322779,
          "series": "D",
          "time": 83
         },
         {
          "H": 5.783405878432255,
          "series": "H",
          "time": 83
         },
         {
          "S": 448.86489466093934,
          "series": "S",
          "time": 84
         },
         {
          "E": 13.599514940573059,
          "series": "E",
          "time": 84
         },
         {
          "I": 13.47290681309667,
          "series": "I",
          "time": 84
         },
         {
          "R": 7.699526203915926,
          "series": "R",
          "time": 84
         },
         {
          "D": 11.399332055397336,
          "series": "D",
          "time": 84
         },
         {
          "H": 5.963825326078175,
          "series": "H",
          "time": 84
         },
         {
          "S": 447.20386912710546,
          "series": "S",
          "time": 85
         },
         {
          "E": 13.993003137885395,
          "series": "E",
          "time": 85
         },
         {
          "I": 13.879663480488233,
          "series": "I",
          "time": 85
         },
         {
          "R": 7.9373192615187715,
          "series": "R",
          "time": 85
         },
         {
          "D": 11.838855201111919,
          "series": "D",
          "time": 85
         },
         {
          "H": 6.147289791890728,
          "series": "H",
          "time": 85
         },
         {
          "S": 445.5119686763489,
          "series": "S",
          "time": 86
         },
         {
          "E": 14.391224815418557,
          "series": "E",
          "time": 86
         },
         {
          "I": 14.292425051821212,
          "series": "I",
          "time": 86
         },
         {
          "R": 8.178970415611834,
          "series": "R",
          "time": 86
         },
         {
          "D": 12.291723223317504,
          "series": "D",
          "time": 86
         },
         {
          "H": 6.333687817482492,
          "series": "H",
          "time": 86
         },
         {
          "S": 443.7899010094086,
          "series": "S",
          "time": 87
         },
         {
          "E": 14.7938425975533,
          "series": "E",
          "time": 87
         },
         {
          "I": 14.710895777936784,
          "series": "I",
          "time": 87
         },
         {
          "R": 8.424324468569711,
          "series": "R",
          "time": 87
         },
         {
          "D": 12.758138389740258,
          "series": "D",
          "time": 87
         },
         {
          "H": 6.522897756791835,
          "series": "H",
          "time": 87
         },
         {
          "S": 442.03844728617884,
          "series": "S",
          "time": 88
         },
         {
          "E": 15.20050010675599,
          "series": "E",
          "time": 88
         },
         {
          "I": 15.134758195220016,
          "series": "I",
          "time": 88
         },
         {
          "R": 8.67321299286547,
          "series": "R",
          "time": 88
         },
         {
          "D": 13.238293566173718,
          "series": "D",
          "time": 88
         },
         {
          "H": 6.714787852806436,
          "series": "H",
          "time": 88
         },
         {
          "S": 440.2584612049579,
          "series": "S",
          "time": 89
         },
         {
          "E": 15.610822819050384,
          "series": "E",
          "time": 89
         },
         {
          "I": 15.563673612729504,
          "series": "I",
          "time": 89
         },
         {
          "R": 8.925454489153925,
          "series": "R",
          "time": 89
         },
         {
          "D": 13.732371499280434,
          "series": "D",
          "time": 89
         },
         {
          "H": 6.909216374828303,
          "series": "H",
          "time": 89
         },
         {
          "S": 438.45086764562484,
          "series": "S",
          "time": 90
         },
         {
          "E": 16.024419056739667,
          "series": "E",
          "time": 90
         },
         {
          "I": 15.997282740762826,
          "series": "I",
          "time": 90
         },
         {
          "R": 9.180854625398792,
          "series": "R",
          "time": 90
         },
         {
          "D": 14.240544113386308,
          "series": "D",
          "time": 90
         },
         {
          "H": 7.106031818088013,
          "series": "H",
          "time": 90
         },
         {
          "S": 436.61666087136246,
          "series": "S",
          "time": 91
         },
         {
          "E": 16.44088111515155,
          "series": "E",
          "time": 91
         },
         {
          "I": 16.435206461813657,
          "series": "I",
          "time": 91
         },
         {
          "R": 9.439206558884512,
          "series": "R",
          "time": 91
         },
         {
          "D": 14.762971825838882,
          "series": "D",
          "time": 91
         },
         {
          "H": 7.30507316694935,
          "series": "H",
          "time": 91
         },
         {
          "S": 434.7569022880498,
          "series": "S",
          "time": 92
         },
         {
          "E": 16.859786518534538,
          "series": "E",
          "time": 92
         },
         {
          "I": 16.877046743375224,
          "series": "I",
          "time": 92
         },
         {
          "R": 9.700291342161592,
          "series": "R",
          "time": 92
         },
         {
          "D": 15.299802885549905,
          "series": "D",
          "time": 92
         },
         {
          "H": 7.506170222329394,
          "series": "H",
          "time": 92
         },
         {
          "S": 432.87271776517196,
          "series": "S",
          "time": 93
         },
         {
          "E": 17.280699398585675,
          "series": "E",
          "time": 93
         },
         {
          "I": 17.322387690474194,
          "series": "I",
          "time": 93
         },
         {
          "R": 9.96387841312371,
          "series": "R",
          "time": 93
         },
         {
          "D": 15.851172739344127,
          "series": "D",
          "time": 93
         },
         {
          "H": 7.70914399330073,
          "series": "H",
          "time": 93
         },
         {
          "S": 430.9652945269728,
          "series": "S",
          "time": 94
         },
         {
          "E": 17.703171987468952,
          "series": "E",
          "time": 94
         },
         {
          "I": 17.770796734202623,
          "series": "I",
          "time": 94
         },
         {
          "R": 10.229726168516892,
          "series": "R",
          "time": 94
         },
         {
          "D": 16.417203430688257,
          "series": "D",
          "time": 94
         },
         {
          "H": 7.913807152150863,
          "series": "H",
          "time": 94
         },
         {
          "S": 429.03587762751846,
          "series": "S",
          "time": 95
         },
         {
          "E": 18.12674621561985,
          "series": "E",
          "time": 95
         },
         {
          "I": 18.221825950879904,
          "series": "I",
          "time": 95
         },
         {
          "R": 10.497582619248558,
          "series": "R",
          "time": 95
         },
         {
          "D": 16.998003035274465,
          "series": "D",
          "time": 95
         },
         {
          "H": 8.11996455145912,
          "series": "H",
          "time": 95
         },
         {
          "S": 427.0857660282776,
          "series": "S",
          "time": 96
         },
         {
          "E": 18.55095540315676,
          "series": "E",
          "time": 96
         },
         {
          "I": 18.675013504848835,
          "series": "I",
          "time": 96
         },
         {
          "R": 10.767186124911825,
          "series": "R",
          "time": 96
         },
         {
          "D": 17.59366513778083,
          "series": "D",
          "time": 96
         },
         {
          "H": 8.327413801024537,
          "series": "H",
          "time": 96
         },
         {
          "S": 425.11630830165495,
          "series": "S",
          "time": 97
         },
         {
          "E": 18.97532603236387,
          "series": "E",
          "time": 97
         },
         {
          "I": 19.129885206319884,
          "series": "I",
          "time": 97
         },
         {
          "R": 11.03826620398335,
          "series": "R",
          "time": 97
         },
         {
          "D": 18.20426835392671,
          "series": "D",
          "time": 97
         },
         {
          "H": 8.53594590175161,
          "series": "H",
          "time": 97
         },
         {
          "S": 423.1288979885636,
          "series": "S",
          "time": 98
         },
         {
          "E": 19.3993795875021,
          "series": "E",
          "time": 98
         },
         {
          "I": 19.58595617415503,
          "series": "I",
          "time": 98
         },
         {
          "R": 11.310544415208126,
          "series": "R",
          "time": 98
         },
         {
          "D": 18.8298759016848,
          "series": "D",
          "time": 98
         },
         {
          "H": 8.745345932886739,
          "series": "H",
          "time": 98
         },
         {
          "S": 421.12496864248885,
          "series": "S",
          "time": 99
         },
         {
          "E": 19.8226344471706,
          "series": "E",
          "time": 99
         },
         {
          "I": 20.042732592056208,
          "series": "I",
          "time": 99
         },
         {
          "R": 11.58373530476885,
          "series": "R",
          "time": 99
         },
         {
          "D": 19.47053522520577,
          "series": "D",
          "time": 99
         },
         {
          "H": 8.955393788310113,
          "series": "H",
          "time": 99
         },
         {
          "S": 419.1059885965082,
          "series": "S",
          "time": 100
         },
         {
          "E": 20.24460781360552,
          "series": "E",
          "time": 100
         },
         {
          "I": 20.499713545322585,
          "series": "I",
          "time": 100
         },
         {
          "R": 11.857547412967904,
          "series": "R",
          "time": 100
         },
         {
          "D": 20.126277674658038,
          "series": "D",
          "time": 100
         },
         {
          "H": 9.165864956938123,
          "series": "H",
          "time": 100
         },
         {
          "S": 417.0734554932997,
          "series": "S",
          "time": 101
         },
         {
          "E": 20.66481766268327,
          "series": "E",
          "time": 101
         },
         {
          "I": 20.956392924191835,
          "series": "I",
          "time": 101
         },
         {
          "R": 12.131684333343676,
          "series": "R",
          "time": 101
         },
         {
          "D": 20.797118244788724,
          "series": "D",
          "time": 101
         },
         {
          "H": 9.37653134169313,
          "series": "H",
          "time": 101
         },
         {
          "S": 415.0288906212297,
          "series": "S",
          "time": 102
         },
         {
          "E": 21.08278469800886,
          "series": "E",
          "time": 102
         },
         {
          "I": 21.41226137880764,
          "series": "I",
          "time": 102
         },
         {
          "R": 12.405845816415686,
          "series": "R",
          "time": 102
         },
         {
          "D": 21.483055374576015,
          "series": "D",
          "time": 102
         },
         {
          "H": 9.587162110962446,
          "series": "H",
          "time": 102
         },
         {
          "S": 412.97383310209466,
          "series": "S",
          "time": 103
         },
         {
          "E": 21.498034292324753,
          "series": "E",
          "time": 103
         },
         {
          "I": 21.8668083100798,
          "series": "I",
          "time": 103
         },
         {
          "R": 12.679728909619895,
          "series": "R",
          "time": 103
         },
         {
          "D": 22.184070809873855,
          "series": "D",
          "time": 103
         },
         {
          "H": 9.797524576007415,
          "series": "H",
          "time": 103
         },
         {
          "S": 410.90983397795253,
          "series": "S",
          "time": 104
         },
         {
          "E": 21.910098399577333,
          "series": "E",
          "time": 104
         },
         {
          "I": 22.319523880141507,
          "series": "I",
          "time": 104
         },
         {
          "R": 12.953029124469753,
          "series": "R",
          "time": 104
         },
         {
          "D": 22.90012953045278,
          "series": "D",
          "time": 104
         },
         {
          "H": 10.007385087406487,
          "series": "H",
          "time": 104
         },
         {
          "S": 408.83845024567694,
          "series": "S",
          "time": 105
         },
         {
          "E": 22.31851742132553,
          "series": "E",
          "time": 105
         },
         {
          "I": 22.769901025773333,
          "series": "I",
          "time": 105
         },
         {
          "R": 13.225441621571223,
          "series": "R",
          "time": 105
         },
         {
          "D": 23.631179742322516,
          "series": "D",
          "time": 105
         },
         {
          "H": 10.216509943330813,
          "series": "H",
          "time": 105
         },
         {
          "S": 406.761238888381,
          "series": "S",
          "time": 106
         },
         {
          "E": 22.72284201176247,
          "series": "E",
          "time": 106
         },
         {
          "I": 23.21743745806329,
          "series": "I",
          "time": 106
         },
         {
          "R": 13.496662403840094,
          "series": "R",
          "time": 106
         },
         {
          "D": 24.377152935689836,
          "series": "D",
          "time": 106
         },
         {
          "H": 10.424666302263702,
          "series": "H",
          "time": 106
         },
         {
          "S": 404.67975095267576,
          "series": "S",
          "time": 107
         },
         {
          "E": 23.122634806435077,
          "series": "E",
          "time": 107
         },
         {
          "I": 23.661637631709375,
          "series": "I",
          "time": 107
         },
         {
          "R": 13.766389508123645,
          "series": "R",
          "time": 107
         },
         {
          "D": 25.137964008366357,
          "series": "D",
          "time": 107
         },
         {
          "H": 10.631623092690202,
          "series": "H",
          "time": 107
         },
         {
          "S": 402.5955257198611,
          "series": "S",
          "time": 108
         },
         {
          "E": 23.517472060770835,
          "series": "E",
          "time": 108
         },
         {
          "I": 24.102014667743678,
          "series": "I",
          "time": 108
         },
         {
          "R": 14.034324185419564,
          "series": "R",
          "time": 108
         },
         {
          "D": 25.913511453903034,
          "series": "D",
          "time": 108
         },
         {
          "H": 10.837151912302199,
          "series": "H",
          "time": 108
         },
         {
          "S": 400.51008501760856,
          "series": "S",
          "time": 109
         },
         {
          "E": 23.906945185734426,
          "series": "E",
          "time": 109
         },
         {
          "I": 24.538092214057592,
          "series": "I",
          "time": 109
         },
         {
          "R": 14.300172060013447,
          "series": "R",
          "time": 109
         },
         {
          "D": 26.703677613198593,
          "series": "D",
          "time": 109
         },
         {
          "H": 11.041027909387791,
          "series": "H",
          "time": 109
         },
         {
          "S": 398.4249277165283,
          "series": "S",
          "time": 110
         },
         {
          "E": 24.290662169314317,
          "series": "E",
          "time": 110
         },
         {
          "I": 24.9694062289237,
          "series": "I",
          "time": 110
         },
         {
          "R": 14.563644258120005,
          "series": "R",
          "time": 110
         },
         {
          "D": 27.50832898781558,
          "series": "D",
          "time": 110
         },
         {
          "H": 11.243030639298466,
          "series": "H",
          "time": 110
         },
         {
          "S": 396.34152445325964,
          "series": "S",
          "time": 111
         },
         {
          "E": 24.668248874052136,
          "series": "E",
          "time": 111
         },
         {
          "I": 25.395506673725116,
          "series": "I",
          "time": 111
         },
         {
          "R": 14.824458497006704,
          "series": "R",
          "time": 111
         },
         {
          "D": 28.32731661274687,
          "series": "D",
          "time": 111
         },
         {
          "H": 11.442944889209878,
          "series": "H",
          "time": 111
         },
         {
          "S": 394.26131261844563,
          "series": "S",
          "time": 112
         },
         {
          "E": 25.03935020244522,
          "series": "E",
          "time": 112
         },
         {
          "I": 25.8159591022964,
          "series": "I",
          "time": 112
         },
         {
          "R": 15.082340126094271,
          "series": "R",
          "time": 112
         },
         {
          "D": 29.16047648591414,
          "series": "D",
          "time": 112
         },
         {
          "H": 11.640561464804712,
          "series": "H",
          "time": 112
         },
         {
          "S": 392.1856916442194,
          "series": "S",
          "time": 113
         },
         {
          "E": 25.403631123742734,
          "series": "E",
          "time": 113
         },
         {
          "I": 26.230346135627386,
          "series": "I",
          "time": 113
         },
         {
          "R": 15.337023112155709,
          "series": "R",
          "time": 113
         },
         {
          "D": 30.00763005125397,
          "series": "D",
          "time": 113
         },
         {
          "H": 11.835677933001199,
          "series": "H",
          "time": 113
         },
         {
          "S": 390.11601862171653,
          "series": "S",
          "time": 114
         },
         {
          "E": 25.76077755738599,
          "series": "E",
          "time": 114
         },
         {
          "I": 26.638268812155953,
          "series": "I",
          "time": 114
         },
         {
          "R": 15.588250961461403,
          "series": "R",
          "time": 114
         },
         {
          "D": 30.86858473186214,
          "series": "D",
          "time": 114
         },
         {
          "H": 12.028099315418347,
          "series": "H",
          "time": 114
         },
         {
          "S": 388.0536042747182,
          "series": "S",
          "time": 115
         },
         {
          "E": 26.11049711008106,
          "series": "E",
          "time": 115
         },
         {
          "I": 27.03934780544833,
          "series": "I",
          "time": 115
         },
         {
          "R": 15.83577757252842,
          "series": "R",
          "time": 115
         },
         {
          "D": 31.743134509326744,
          "series": "D",
          "time": 115
         },
         {
          "H": 12.217638727897564,
          "series": "H",
          "time": 115
         },
         {
          "S": 385.99970930643013,
          "series": "S",
          "time": 116
         },
         {
          "E": 26.452519673552114,
          "series": "E",
          "time": 116
         },
         {
          "I": 27.433224498728567,
          "series": "I",
          "time": 116
         },
         {
          "R": 16.07936801523973,
          "series": "R",
          "time": 116
         },
         {
          "D": 32.631060545138496,
          "series": "D",
          "time": 116
         },
         {
          "H": 12.404117960911275,
          "series": "H",
          "time": 116
         },
         {
          "S": 383.95554116232773,
          "series": "S",
          "time": 117
         },
         {
          "E": 26.786597834542064,
          "series": "E",
          "time": 117
         },
         {
          "I": 27.819561934697507,
          "series": "I",
          "time": 117
         },
         {
          "R": 16.318799224477836,
          "series": "R",
          "time": 117
         },
         {
          "D": 33.532131839490106,
          "series": "D",
          "time": 117
         },
         {
          "H": 12.58736800446507,
          "series": "H",
          "time": 117
         },
         {
          "S": 381.9222511541011,
          "series": "S",
          "time": 118
         },
         {
          "E": 27.112507223684876,
          "series": "E",
          "time": 118
         },
         {
          "I": 28.198045577683956,
          "series": "I",
          "time": 118
         },
         {
          "R": 16.553860623804933,
          "series": "R",
          "time": 118
         },
         {
          "D": 34.44610592362123,
          "series": "D",
          "time": 118
         },
         {
          "H": 12.767229497104195,
          "series": "H",
          "time": 118
         },
         {
          "S": 379.9009320537967,
          "series": "S",
          "time": 119
         },
         {
          "E": 27.430046616849545,
          "series": "E",
          "time": 119
         },
         {
          "I": 28.568383977842842,
          "series": "I",
          "time": 119
         },
         {
          "R": 16.784354646950298,
          "series": "R",
          "time": 119
         },
         {
          "D": 35.372729579846805,
          "series": "D",
          "time": 119
         },
         {
          "H": 12.943553124714139,
          "series": "H",
          "time": 119
         },
         {
          "S": 377.8926160537049,
          "series": "S",
          "time": 120
         },
         {
          "E": 27.739037993226372,
          "series": "E",
          "time": 120
         },
         {
          "I": 28.93030924140608,
          "series": "I",
          "time": 120
         },
         {
          "R": 17.010097187094967,
          "series": "R",
          "time": 120
         },
         {
          "D": 36.31173958568175,
          "series": "D",
          "time": 120
         },
         {
          "H": 13.116199938886217,
          "series": "H",
          "time": 120
         },
         {
          "S": 375.8982731696105,
          "series": "S",
          "time": 121
         },
         {
          "E": 28.039326408078733,
          "series": "E",
          "time": 121
         },
         {
          "I": 29.283577379978972,
          "series": "I",
          "time": 121
         },
         {
          "R": 17.230917949774376,
          "series": "R",
          "time": 121
         },
         {
          "D": 37.26286347633682,
          "series": "D",
          "time": 121
         },
         {
          "H": 13.285041616220875,
          "series": "H",
          "time": 121
         },
         {
          "S": 373.91881005001125,
          "series": "S",
          "time": 122
         },
         {
          "E": 28.330779745689295,
          "series": "E",
          "time": 122
         },
         {
          "I": 29.627968513945657,
          "series": "I",
          "time": 122
         },
         {
          "R": 17.4466607186335,
          "series": "R",
          "time": 122
         },
         {
          "D": 38.22582032113381,
          "series": "D",
          "time": 122
         },
         {
          "H": 13.449960650586776,
          "series": "H",
          "time": 122
         },
         {
          "S": 371.9550691707579,
          "series": "S",
          "time": 123
         },
         {
          "E": 28.613288380462496,
          "series": "E",
          "time": 123
         },
         {
          "I": 29.96328692424742,
          "series": "I",
          "time": 123
         },
         {
          "R": 17.657183539574174,
          "series": "R",
          "time": 123
         },
         {
          "D": 39.20032150926169,
          "series": "D",
          "time": 123
         },
         {
          "H": 13.610850475696594,
          "series": "H",
          "time": 123
         },
         {
          "S": 370.007828429656,
          "series": "S",
          "time": 124
         },
         {
          "E": 28.886764702678708,
          "series": "E",
          "time": 124
         },
         {
          "I": 30.28936098421463,
          "series": "I",
          "time": 124
         },
         {
          "R": 17.86235881494974,
          "series": "R",
          "time": 124
         },
         {
          "D": 40.186071539899764,
          "series": "D",
          "time": 124
         },
         {
          "H": 13.767615528601436,
          "series": "H",
          "time": 124
         },
         {
          "S": 368.0778010963777,
          "series": "S",
          "time": 125
         },
         {
          "E": 29.151142570824074,
          "series": "E",
          "time": 125
         },
         {
          "I": 30.606042951709266,
          "series": "I",
          "time": 125
         },
         {
          "R": 18.062073321434834,
          "series": "R",
          "time": 125
         },
         {
          "D": 41.18276881263567,
          "series": "D",
          "time": 125
         },
         {
          "H": 13.920171247018695,
          "series": "H",
          "time": 125
         },
         {
          "S": 366.16563612259847,
          "series": "S",
          "time": 126
         },
         {
          "E": 29.40637665496447,
          "series": "E",
          "time": 126
         },
         {
          "I": 30.913208652126055,
          "series": "I",
          "time": 126
         },
         {
          "R": 18.256228145183158,
          "series": "R",
          "time": 126
         },
         {
          "D": 42.19010641358597,
          "series": "D",
          "time": 126
         },
         {
          "H": 14.068444011542121,
          "series": "H",
          "time": 126
         },
         {
          "S": 364.27191877153695,
          "series": "S",
          "time": 127
         },
         {
          "E": 29.652441717284194,
          "series": "E",
          "time": 127
         },
         {
          "I": 31.210757042025808,
          "series": "I",
          "time": 127
         },
         {
          "R": 18.44473854683024,
          "series": "R",
          "time": 127
         },
         {
          "D": 43.20777289347631,
          "series": "D",
          "time": 127
         },
         {
          "H": 14.212371028846745,
          "series": "H",
          "time": 127
         },
         {
          "S": 362.39717155725236,
          "series": "S",
          "time": 128
         },
         {
          "E": 29.88933181400841,
          "series": "E",
          "time": 128
         },
         {
          "I": 31.498609676057523,
          "series": "I",
          "time": 128
         },
         {
          "R": 18.627533753956,
          "series": "R",
          "time": 128
         },
         {
          "D": 44.23545303368518,
          "series": "D",
          "time": 128
         },
         {
          "H": 14.351900165040773,
          "series": "H",
          "time": 128
         },
         {
          "S": 360.54185546088996,
          "series": "S",
          "time": 129
         },
         {
          "E": 30.117059443786594,
          "series": "E",
          "time": 129
         },
         {
          "I": 31.7767100781378,
          "series": "I",
          "time": 129
         },
         {
          "R": 18.804556691307983,
          "series": "R",
          "time": 129
         },
         {
          "D": 45.272828596915964,
          "series": "D",
          "time": 129
         },
         {
          "H": 14.48698972896193,
          "series": "H",
          "time": 129
         },
         {
          "S": 358.7063713998803,
          "series": "S",
          "time": 130
         },
         {
          "E": 30.33565464874855,
          "series": "E",
          "time": 130
         },
         {
          "I": 32.04502302966589,
          "series": "I",
          "time": 130
         },
         {
          "R": 18.97576365053662,
          "series": "R",
          "time": 130
         },
         {
          "D": 46.31957905920591,
          "series": "D",
          "time": 130
         },
         {
          "H": 14.617608211962969,
          "series": "H",
          "time": 130
         },
         {
          "S": 356.8910619273638,
          "series": "S",
          "time": 131
         },
         {
          "E": 30.545164070955863,
          "series": "E",
          "time": 131
         },
         {
          "I": 32.30353378679483,
          "series": "I",
          "time": 131
         },
         {
          "R": 19.141123906892002,
          "series": "R",
          "time": 131
         },
         {
          "D": 47.37538232040743,
          "series": "D",
          "time": 131
         },
         {
          "H": 14.743733987586303,
          "series": "H",
          "time": 131
         },
         {
          "S": 355.0962131285857,
          "series": "S",
          "time": 132
         },
         {
          "E": 30.745649985482643,
          "series": "E",
          "time": 132
         },
         {
          "I": 32.55224723195571,
          "series": "I",
          "time": 132
         },
         {
          "R": 19.300619288031324,
          "series": "R",
          "time": 132
         },
         {
          "D": 48.439915390580566,
          "series": "D",
          "time": 132
         },
         {
          "H": 14.86535497536427,
          "series": "H",
          "time": 132
         },
         {
          "S": 353.32205668958085,
          "series": "S",
          "time": 133
         },
         {
          "E": 30.93718931529539,
          "series": "E",
          "time": 133
         },
         {
          "I": 32.79118697082707,
          "series": "I",
          "time": 133
         },
         {
          "R": 19.454243701278767,
          "series": "R",
          "time": 133
         },
         {
          "D": 49.512855050047115,
          "series": "D",
          "time": 133
         },
         {
          "H": 14.982468272971035,
          "series": "H",
          "time": 133
         },
         {
          "S": 351.5687721207679,
          "series": "S",
          "time": 134
         },
         {
          "E": 31.119872619556034,
          "series": "E",
          "time": 134
         },
         {
          "I": 33.02039439213698,
          "series": "I",
          "time": 134
         },
         {
          "R": 19.602002623278025,
          "series": "R",
          "time": 134
         },
         {
          "D": 50.593878481083145,
          "series": "D",
          "time": 134
         },
         {
          "H": 15.095079763178187,
          "series": "H",
          "time": 134
         },
         {
          "S": 349.83648909229606,
          "series": "S",
          "time": 135
         },
         {
          "E": 31.293803095809718,
          "series": "E",
          "time": 135
         },
         {
          "I": 33.23992768461059,
          "series": "I",
          "time": 135
         },
         {
          "R": 19.743912561163597,
          "series": "R",
          "time": 135
         },
         {
          "D": 51.682663869787675,
          "series": "D",
          "time": 135
         },
         {
          "H": 15.203203696332626,
          "series": "H",
          "time": 135
         },
         {
          "S": 348.1252898722303,
          "series": "S",
          "time": 136
         },
         {
          "E": 31.45909557373521,
          "series": "E",
          "time": 136
         },
         {
          "I": 33.44986083371267,
          "series": "I",
          "time": 136
         },
         {
          "R": 19.88000048763469,
          "series": "R",
          "time": 136
         },
         {
          "D": 52.77889097666953,
          "series": "D",
          "time": 136
         },
         {
          "H": 15.306862256017851,
          "series": "H",
          "time": 136
         },
         {
          "S": 346.43521183641394,
          "series": "S",
          "time": 137
         },
         {
          "E": 31.61587552107304,
          "series": "E",
          "time": 137
         },
         {
          "I": 33.650282600086236,
          "series": "I",
          "time": 137
         },
         {
          "R": 20.010303257113577,
          "series": "R",
          "time": 137
         },
         {
          "D": 53.8822416750095,
          "series": "D",
          "time": 137
         },
         {
          "H": 15.40608511030394,
          "series": "H",
          "time": 137
         },
         {
          "S": 344.76625002917336,
          "series": "S",
          "time": 138
         },
         {
          "E": 31.764278064843705,
          "series": "E",
          "time": 138
         },
         {
          "I": 33.84129548902794,
          "series": "I",
          "time": 138
         },
         {
          "R": 20.134867007790763,
          "series": "R",
          "time": 138
         },
         {
          "D": 54.992400456251104,
          "series": "D",
          "time": 138
         },
         {
          "H": 15.50090895291333,
          "series": "H",
          "time": 138
         },
         {
          "S": 343.1183597540237,
          "series": "S",
          "time": 139
         },
         {
          "E": 31.904447032983146,
          "series": "E",
          "time": 139
         },
         {
          "I": 34.02301471849427,
          "series": "I",
          "time": 139
         },
         {
          "R": 20.253746554501177,
          "series": "R",
          "time": 139
         },
         {
          "D": 56.10905490195741,
          "series": "D",
          "time": 139
         },
         {
          "H": 15.591377038040505,
          "series": "H",
          "time": 139
         },
         {
          "S": 341.4914591749644,
          "series": "S",
          "time": 140
         },
         {
          "E": 32.03653402104431,
          "series": "E",
          "time": 140
         },
         {
          "I": 34.19556719246622,
          "series": "I",
          "time": 140
         },
         {
          "R": 20.367004777085587,
          "series": "R",
          "time": 140
         },
         {
          "D": 57.23189612212496,
          "series": "D",
          "time": 140
         },
         {
          "H": 15.677538712314698,
          "series": "H",
          "time": 140
         },
         {
          "S": 339.8854319105589,
          "series": "S",
          "time": 141
         },
         {
          "E": 32.160697487958444,
          "series": "E",
          "time": 141
         },
         {
          "I": 34.35909048590045,
          "series": "I",
          "time": 141
         },
         {
          "R": 20.474712008555446,
          "series": "R",
          "time": 141
         },
         {
          "D": 58.36061915987911,
          "series": "D",
          "time": 141
         },
         {
          "H": 15.75944894714781,
          "series": "H",
          "time": 141
         },
         {
          "S": 338.30012960462795,
          "series": "S",
          "time": 142
         },
         {
          "E": 32.27710188422853,
          "series": "E",
          "time": 142
         },
         {
          "I": 34.5137318468771,
          "series": "I",
          "time": 142
         },
         {
          "R": 20.576945427030303,
          "series": "R",
          "time": 142
         },
         {
          "D": 59.49492336279009,
          "series": "D",
          "time": 142
         },
         {
          "H": 15.83716787444621,
          "series": "H",
          "time": 142
         },
         {
          "S": 336.735374459034,
          "series": "S",
          "time": 143
         },
         {
          "E": 32.385916815341055,
          "series": "E",
          "time": 143
         },
         {
          "I": 34.65964722093137,
          "series": "I",
          "time": 143
         },
         {
          "R": 20.6737884550578,
          "series": "R",
          "time": 143
         },
         {
          "D": 60.63451272124421,
          "series": "D",
          "time": 143
         },
         {
          "H": 15.91076032839179,
          "series": "H",
          "time": 143
         },
         {
          "S": 335.19096171566986,
          "series": "S",
          "time": 144
         },
         {
          "E": 32.487316242629376,
          "series": "E",
          "time": 144
         },
         {
          "I": 34.79700030193879,
          "series": "I",
          "time": 144
         },
         {
          "R": 20.765330169561977,
          "series": "R",
          "time": 144
         },
         {
          "D": 61.77909617447963,
          "series": "D",
          "time": 144
         },
         {
          "H": 15.980295395720553,
          "series": "H",
          "time": 144
         },
         {
          "S": 333.66666207637076,
          "series": "S",
          "time": 145
         },
         {
          "E": 32.58147772330512,
          "series": "E",
          "time": 145
         },
         {
          "I": 34.92596161332113,
          "series": "I",
          "time": 145
         },
         {
          "R": 20.85166472530119,
          "series": "R",
          "time": 145
         },
         {
          "D": 62.9283878850516,
          "series": "D",
          "time": 145
         },
         {
          "H": 16.045845976650337,
          "series": "H",
          "time": 145
         },
         {
          "S": 332.1622240510276,
          "series": "S",
          "time": 146
         },
         {
          "E": 32.6685816908941,
          "series": "E",
          "time": 146
         },
         {
          "I": 35.04670762275786,
          "series": "I",
          "time": 146
         },
         {
          "R": 20.93289079435696,
          "series": "R",
          "time": 146
         },
         {
          "D": 64.08210748262701,
          "series": "D",
          "time": 146
         },
         {
          "H": 16.107488358336585,
          "series": "H",
          "time": 146
         },
         {
          "S": 330.67737622567614,
          "series": "S",
          "time": 147
         },
         {
          "E": 32.748810776873704,
          "series": "E",
          "time": 147
         },
         {
          "I": 35.15941989303169,
          "series": "I",
          "time": 147
         },
         {
          "R": 21.009111023824143,
          "series": "R",
          "time": 147
         },
         {
          "D": 65.2399802781251,
          "series": "D",
          "time": 147
         },
         {
          "H": 16.16530180246933,
          "series": "H",
          "time": 147
         },
         {
          "S": 329.2118294437601,
          "series": "S",
          "time": 148
         },
         {
          "E": 32.822349173908194,
          "series": "E",
          "time": 148
         },
         {
          "I": 35.264284271110625,
          "series": "I",
          "time": 148
         },
         {
          "R": 21.080431513534002,
          "series": "R",
          "time": 148
         },
         {
          "D": 66.40173744931836,
          "series": "D",
          "time": 148
         },
         {
          "H": 16.219368148368837,
          "series": "H",
          "time": 148
         },
         {
          "S": 327.76527889510544,
          "series": "S",
          "time": 149
         },
         {
          "E": 32.88938204071916,
          "series": "E",
          "time": 149
         },
         {
          "I": 35.36149011707597,
          "series": "I",
          "time": 149
         },
         {
          "R": 21.146961315318325,
          "series": "R",
          "time": 149
         },
         {
          "D": 67.56711619908816,
          "series": "D",
          "time": 149
         },
         {
          "H": 16.269771432693073,
          "series": "H",
          "time": 149
         },
         {
          "S": 326.33740610839345,
          "series": "S",
          "time": 150
         },
         {
          "E": 32.95009494830795,
          "series": "E",
          "time": 150
         },
         {
          "I": 35.451229574048234,
          "series": "I",
          "time": 150
         },
         {
          "R": 21.20881195501705,
          "series": "R",
          "time": 150
         },
         {
          "D": 68.73585988759353,
          "series": "D",
          "time": 150
         },
         {
          "H": 16.31659752663987,
          "series": "H",
          "time": 150
         },
         {
          "S": 324.9278808440761,
          "series": "S",
          "time": 151
         },
         {
          "E": 33.00467336696585,
          "series": "E",
          "time": 151
         },
         {
          "I": 35.53369687984258,
          "series": "I",
          "time": 151
         },
         {
          "R": 21.266096978145328,
          "series": "R",
          "time": 151
         },
         {
          "D": 69.90771813965922,
          "series": "D",
          "time": 151
         },
         {
          "H": 16.359933791310972,
          "series": "H",
          "time": 151
         },
         {
          "S": 323.5363628857354,
          "series": "S",
          "time": 152
         },
         {
          "E": 33.05330219326377,
          "series": "E",
          "time": 152
         },
         {
          "I": 35.609087720702384,
          "series": "I",
          "time": 152
         },
         {
          "R": 21.318931519870407,
          "series": "R",
          "time": 152
         },
         {
          "D": 71.08244692872277,
          "series": "D",
          "time": 152
         },
         {
          "H": 16.39986875170536,
          "series": "H",
          "time": 152
         },
         {
          "S": 322.1625037288491,
          "series": "S",
          "time": 153
         },
         {
          "E": 33.096165316004345,
          "series": "E",
          "time": 153
         },
         {
          "I": 35.67759862711476,
          "series": "I",
          "time": 153
         },
         {
          "R": 21.367431899704542,
          "series": "R",
          "time": 153
         },
         {
          "D": 72.25980863870137,
          "series": "D",
          "time": 153
         },
         {
          "H": 16.436491789625943,
          "series": "H",
          "time": 153
         },
         {
          "S": 320.80594816679,
          "series": "S",
          "time": 154
         },
         {
          "E": 33.13344521994423,
          "series": "E",
          "time": 154
         },
         {
          "I": 35.73942641140418,
          "series": "I",
          "time": 154
         },
         {
          "R": 21.41171524109796,
          "series": "R",
          "time": 154
         },
         {
          "D": 73.43957210514687,
          "series": "D",
          "time": 154
         },
         {
          "H": 16.46989285561685,
          "series": "H",
          "time": 154
         },
         {
          "S": 319.4663357746514,
          "series": "S",
          "time": 155
         },
         {
          "E": 33.16532262595003,
          "series": "E",
          "time": 155
         },
         {
          "I": 35.79476764652885,
          "series": "I",
          "time": 155
         },
         {
          "R": 21.451899115915598,
          "series": "R",
          "time": 155
         },
         {
          "D": 74.62151263705569,
          "series": "D",
          "time": 155
         },
         {
          "H": 16.500162199898547,
          "series": "H",
          "time": 155
         },
         {
          "S": 318.14330229217006,
          "series": "S",
          "time": 156
         },
         {
          "E": 33.19197616613629,
          "series": "E",
          "time": 156
         },
         {
          "I": 35.84381818526858,
          "series": "I",
          "time": 156
         },
         {
          "R": 21.488101213602963,
          "series": "R",
          "time": 156
         },
         {
          "D": 75.80541202068787,
          "series": "D",
          "time": 156
         },
         {
          "H": 16.527390122134324,
          "series": "H",
          "time": 156
         },
         {
          "S": 316.83648090760386,
          "series": "S",
          "time": 157
         },
         {
          "E": 33.2135820924442,
          "series": "E",
          "time": 157
         },
         {
          "I": 35.886772718790056,
          "series": "I",
          "time": 157
         },
         {
          "R": 21.5204390346888,
          "series": "R",
          "time": 157
         },
         {
          "D": 76.9910585067292,
          "series": "D",
          "time": 157
         },
         {
          "H": 16.551666739743972,
          "series": "H",
          "time": 157
         },
         {
          "S": 315.5455034449246,
          "series": "S",
          "time": 158
         },
         {
          "E": 33.230314017055164,
          "series": "E",
          "time": 158
         },
         {
          "I": 35.92382437340409,
          "series": "I",
          "time": 158
         },
         {
          "R": 21.549029608135505,
          "series": "R",
          "time": 158
         },
         {
          "D": 78.17824678210255,
          "series": "D",
          "time": 158
         },
         {
          "H": 16.573081774378217,
          "series": "H",
          "time": 158
         },
         {
          "S": 314.270001457112,
          "series": "S",
          "time": 159
         },
         {
          "E": 33.24234268298936,
          "series": "E",
          "time": 159
         },
         {
          "I": 35.95516434418828,
          "series": "I",
          "time": 159
         },
         {
          "R": 21.573989231930447,
          "series": "R",
          "time": 159
         },
         {
          "D": 79.36677792770014,
          "series": "D",
          "time": 159
         },
         {
          "H": 16.591724356079826,
          "series": "H",
          "time": 159
         },
         {
          "S": 313.0096072286859,
          "series": "S",
          "time": 160
         },
         {
          "E": 33.249835763214755,
          "series": "E",
          "time": 160
         },
         {
          "I": 35.98098156403403,
          "series": "I",
          "time": 160
         },
         {
          "R": 21.595433236212223,
          "series": "R",
          "time": 160
         },
         {
          "D": 80.55645936326968,
          "series": "D",
          "time": 160
         },
         {
          "H": 16.607682844583486,
          "series": "H",
          "time": 160
         },
         {
          "S": 311.7639546908953,
          "series": "S",
          "time": 161
         },
         {
          "E": 33.25295768658483,
          "series": "E",
          "time": 161
         },
         {
          "I": 36.00146240658806,
          "series": "I",
          "time": 161
         },
         {
          "R": 21.613475768143832,
          "series": "R",
          "time": 161
         },
         {
          "D": 81.7471047806423,
          "series": "D",
          "time": 161
         },
         {
          "H": 16.62104466714575,
          "series": "H",
          "time": 161
         },
         {
          "S": 310.5326802532073,
          "series": "S",
          "time": 162
         },
         {
          "E": 33.25186948892989,
          "series": "E",
          "time": 162
         },
         {
          "I": 36.01679042149276,
          "series": "I",
          "time": 162
         },
         {
          "R": 21.62822959767869,
          "series": "R",
          "time": 162
         },
         {
          "D": 82.93853406644402,
          "series": "D",
          "time": 162
         },
         {
          "H": 16.63189617224741,
          "series": "H",
          "time": 162
         },
         {
          "S": 309.315423554894,
          "series": "S",
          "time": 163
         },
         {
          "E": 33.2467286876582,
          "series": "E",
          "time": 163
         },
         {
          "I": 36.02714610027914,
          "series": "I",
          "time": 163
         },
         {
          "R": 21.639805943315434,
          "series": "R",
          "time": 163
         },
         {
          "D": 84.1305732153819,
          "series": "D",
          "time": 163
         },
         {
          "H": 16.640322498471395,
          "series": "H",
          "time": 163
         },
         {
          "S": 308.1118281406605,
          "series": "S",
          "time": 164
         },
         {
          "E": 33.23768917819943,
          "series": "E",
          "time": 164
         },
         {
          "I": 36.032706671265686,
          "series": "I",
          "time": 164
         },
         {
          "R": 21.64831431689177,
          "series": "R",
          "time": 164
         },
         {
          "D": 85.32305423514363,
          "series": "D",
          "time": 164
         },
         {
          "H": 16.64640745783898,
          "series": "H",
          "time": 164
         },
         {
          "S": 306.92154206427307,
          "series": "S",
          "time": 165
         },
         {
          "E": 33.224901150760026,
          "series": "E",
          "time": 165
         },
         {
          "I": 36.03364592175942,
          "series": "I",
          "time": 165
         },
         {
          "R": 21.653862386456062,
          "series": "R",
          "time": 165
         },
         {
          "D": 86.51581504389677,
          "series": "D",
          "time": 165
         },
         {
          "H": 16.650233432854648,
          "series": "H",
          "time": 165
         },
         {
          "S": 305.74421842420617,
          "series": "S",
          "time": 166
         },
         {
          "E": 33.20851102584567,
          "series": "E",
          "time": 166
         },
         {
          "I": 36.0301340458904,
          "series": "I",
          "time": 166
         },
         {
          "R": 21.656555856230252,
          "series": "R",
          "time": 166
         },
         {
          "D": 87.70869936131896,
          "series": "D",
          "time": 166
         },
         {
          "H": 16.651881286508534,
          "series": "H",
          "time": 166
         },
         {
          "S": 304.57951583533605,
          "series": "S",
          "time": 167
         },
         {
          "E": 33.18866140703364,
          "series": "E",
          "time": 167
         },
         {
          "I": 36.02233751643964,
          "series": "I",
          "time": 167
         },
         {
          "R": 21.65649836266907,
          "series": "R",
          "time": 167
         },
         {
          "D": 88.9015565940363,
          "series": "D",
          "time": 167
         },
         {
          "H": 16.651430284485265,
          "series": "H",
          "time": 167
         },
         {
          "S": 303.42709884063834,
          "series": "S",
          "time": 168
         },
         {
          "E": 33.16549104959216,
          "series": "E",
          "time": 168
         },
         {
          "I": 36.01041897902169,
          "series": "I",
          "time": 168
         },
         {
          "R": 21.653791385632093,
          "series": "R",
          "time": 168
         },
         {
          "D": 90.09424171629277,
          "series": "D",
          "time": 168
         },
         {
          "H": 16.648958028822896,
          "series": "H",
          "time": 168
         },
         {
          "S": 302.2866382667977,
          "series": "S",
          "time": 169
         },
         {
          "E": 33.13913484358076,
          "series": "E",
          "time": 169
         },
         {
          "I": 35.994537167031936,
          "series": "I",
          "time": 169
         },
         {
          "R": 21.64853417369122,
          "series": "R",
          "time": 169
         },
         {
          "D": 91.28661514662045,
          "series": "D",
          "time": 169
         },
         {
          "H": 16.644540402277915,
          "series": "H",
          "time": 169
         },
         {
          "S": 301.15781152754994,
          "series": "S",
          "time": 170
         },
         {
          "E": 33.10972381013177,
          "series": "E",
          "time": 170
         },
         {
          "I": 35.97484683581281,
          "series": "I",
          "time": 170
         },
         {
          "R": 21.64082368261316,
          "series": "R",
          "time": 170
         },
         {
          "D": 92.4785426212271,
          "series": "D",
          "time": 170
         },
         {
          "H": 16.6382515226652,
          "series": "H",
          "time": 170
         },
         {
          "S": 300.04030287847263,
          "series": "S",
          "time": 171
         },
         {
          "E": 33.07738510967916,
          "series": "E",
          "time": 171
         },
         {
          "I": 35.95149871454395,
          "series": "I",
          "time": 171
         },
         {
          "R": 21.63075452607853,
          "series": "R",
          "time": 171
         },
         {
          "D": 93.66989506476679,
          "series": "D",
          "time": 171
         },
         {
          "H": 16.63016370645891,
          "series": "H",
          "time": 171
         },
         {
          "S": 298.9338036268196,
          "series": "S",
          "time": 172
         },
         {
          "E": 33.04224206096817,
          "series": "E",
          "time": 172
         },
         {
          "I": 35.924639474416765,
          "series": "I",
          "time": 172
         },
         {
          "R": 21.618418937725806,
          "series": "R",
          "time": 172
         },
         {
          "D": 94.86054845910898,
          "series": "D",
          "time": 172
         },
         {
          "H": 16.620347440960646,
          "series": "H",
          "time": 172
         },
         {
          "S": 297.8380122998637,
          "series": "S",
          "time": 173
         },
         {
          "E": 33.00441416974565,
          "series": "E",
          "time": 173
         },
         {
          "I": 35.89441171171413,
          "series": "I",
          "time": 173
         },
         {
          "R": 21.60390674363818,
          "series": "R",
          "time": 173
         },
         {
          "D": 96.05038371067367,
          "series": "D",
          "time": 173
         },
         {
          "H": 16.608871364364678,
          "series": "H",
          "time": 173
         },
         {
          "S": 296.75263477507076,
          "series": "S",
          "time": 174
         },
         {
          "E": 32.96401716609795,
          "series": "E",
          "time": 174
         },
         {
          "I": 35.86095394447805,
          "series": "I",
          "time": 174
         },
         {
          "R": 21.587305344424607,
          "series": "R",
          "time": 174
         },
         {
          "D": 97.23928651685355,
          "series": "D",
          "time": 174
         },
         {
          "H": 16.59580225307507,
          "series": "H",
          "time": 174
         },
         {
          "S": 295.67738437528095,
          "series": "S",
          "time": 175
         },
         {
          "E": 32.92116304946812,
          "series": "E",
          "time": 175
         },
         {
          "I": 35.82440062151292,
          "series": "I",
          "time": 175
         },
         {
          "R": 21.568699706081382,
          "series": "R",
          "time": 175
         },
         {
          "D": 98.42714723199965,
          "series": "D",
          "time": 175
         },
         {
          "H": 16.58120501565695,
          "series": "H",
          "time": 175
         },
         {
          "S": 294.6119819319199,
          "series": "S",
          "time": 176
         },
         {
          "E": 32.87596014044851,
          "series": "E",
          "time": 176
         },
         {
          "I": 35.78488214253713,
          "series": "I",
          "time": 176
         },
         {
          "R": 21.548172358857535,
          "series": "R",
          "time": 176
         },
         {
          "D": 99.61386073340495,
          "series": "D",
          "time": 176
         },
         {
          "H": 16.565142692831966,
          "series": "H",
          "time": 176
         },
         {
          "S": 293.5561558212788,
          "series": "S",
          "time": 177
         },
         {
          "E": 32.82851313442327,
          "series": "E",
          "time": 177
         },
         {
          "I": 35.74252489033433,
          "series": "I",
          "time": 177
         },
         {
          "R": 21.525803402765654,
          "series": "R",
          "time": 177
         },
         {
          "D": 100.79932628765503,
          "series": "D",
          "time": 177
         },
         {
          "H": 16.5476764635429,
          "series": "H",
          "time": 177
         },
         {
          "S": 292.50964197063456,
          "series": "S",
          "time": 178
         },
         {
          "E": 32.77892316746106,
          "series": "E",
          "time": 178
         },
         {
          "I": 35.6974512684146,
          "series": "I",
          "time": 178
         },
         {
          "R": 21.501670520805867,
          "series": "R",
          "time": 178
         },
         {
          "D": 101.9834474177704,
          "series": "D",
          "time": 178
         },
         {
          "H": 16.528865654913496,
          "series": "H",
          "time": 178
         },
         {
          "S": 291.47218383441754,
          "series": "S",
          "time": 179
         },
         {
          "E": 32.727287898151715,
          "series": "E",
          "time": 179
         },
         {
          "I": 35.64977974113781,
          "series": "I",
          "time": 179
         },
         {
          "R": 21.47584899974559,
          "series": "R",
          "time": 179
         },
         {
          "D": 103.16613177148231,
          "series": "D",
          "time": 179
         },
         {
          "H": 16.50876775506505,
          "series": "H",
          "time": 179
         },
         {
          "S": 290.443532367573,
          "series": "S",
          "time": 180
         },
         {
          "E": 32.67370155815604,
          "series": "E",
          "time": 180
         },
         {
          "I": 35.599624897943336,
          "series": "I",
          "time": 180
         },
         {
          "R": 21.448411750607793,
          "series": "R",
          "time": 180
         },
         {
          "D": 104.3472909906469,
          "series": "D",
          "time": 180
         },
         {
          "H": 16.48743843507293,
          "series": "H",
          "time": 180
         },
         {
          "S": 289.423445965679,
          "series": "S",
          "time": 181
         },
         {
          "E": 32.61825503240085,
          "series": "E",
          "time": 181
         },
         {
          "I": 35.547097510715744,
          "series": "I",
          "time": 181
         },
         {
          "R": 21.419429338433638,
          "series": "R",
          "time": 181
         },
         {
          "D": 105.52684058243663,
          "series": "D",
          "time": 181
         },
         {
          "H": 16.464931570334155,
          "series": "H",
          "time": 181
         },
         {
          "S": 288.4116903906781,
          "series": "S",
          "time": 182
         },
         {
          "E": 32.56103593677979,
          "series": "E",
          "time": 182
         },
         {
          "I": 35.49230459911276,
          "series": "I",
          "time": 182
         },
         {
          "R": 21.388970015132735,
          "series": "R",
          "time": 182
         },
         {
          "D": 106.7046997923251,
          "series": "D",
          "time": 182
         },
         {
          "H": 16.44129926597153,
          "series": "H",
          "time": 182
         },
         {
          "S": 287.408038681905,
          "series": "S",
          "time": 183
         },
         {
          "E": 32.502128697164196,
          "series": "E",
          "time": 183
         },
         {
          "I": 35.435349500906064,
          "series": "I",
          "time": 183
         },
         {
          "R": 21.35709975585001,
          "series": "R",
          "time": 183
         },
         {
          "D": 107.8807914790946,
          "series": "D",
          "time": 183
         },
         {
          "H": 16.416591885080113,
          "series": "H",
          "time": 183
         },
         {
          "S": 286.41227105389305,
          "series": "S",
          "time": 184
         },
         {
          "E": 32.441614629891276,
          "series": "E",
          "time": 184
         },
         {
          "I": 35.37633194632721,
          "series": "I",
          "time": 184
         },
         {
          "R": 21.32388229849032,
          "series": "R",
          "time": 184
         },
         {
          "D": 109.05504199204117,
          "series": "D",
          "time": 184
         },
         {
          "H": 16.390858079356946,
          "series": "H",
          "time": 184
         },
         {
          "S": 285.4241747825974,
          "series": "S",
          "time": 185
         },
         {
          "E": 32.379572023399795,
          "series": "E",
          "time": 185
         },
         {
          "I": 35.31534813573623,
          "series": "I",
          "time": 185
         },
         {
          "R": 21.289379185970756,
          "series": "R",
          "time": 185
         },
         {
          "D": 110.22738105052412,
          "series": "D",
          "time": 185
         },
         {
          "H": 16.364144821771713,
          "series": "H",
          "time": 185
         },
         {
          "S": 284.44354408158875,
          "series": "S",
          "time": 186
         },
         {
          "E": 32.31607622064164,
          "series": "E",
          "time": 186
         },
         {
          "I": 35.25249082002183,
          "series": "I",
          "time": 186
         },
         {
          "R": 21.2536498107927,
          "series": "R",
          "time": 186
         },
         {
          "D": 111.39774162598437,
          "series": "D",
          "time": 186
         },
         {
          "H": 16.336497440970728,
          "series": "H",
          "time": 186
         },
         {
          "S": 283.4701799696574,
          "series": "S",
          "time": 187
         },
         {
          "E": 32.251199701922395,
          "series": "E",
          "time": 187
         },
         {
          "I": 35.18784938319629,
          "series": "I",
          "time": 187
         },
         {
          "R": 21.21675146155739,
          "series": "R",
          "time": 187
         },
         {
          "D": 112.56605982653585,
          "series": "D",
          "time": 187
         },
         {
          "H": 16.307959657130684,
          "series": "H",
          "time": 187
         },
         {
          "S": 282.5038901311524,
          "series": "S",
          "time": 188
         },
         {
          "E": 32.18501216785636,
          "series": "E",
          "time": 188
         },
         {
          "I": 35.121509926695225,
          "series": "I",
          "time": 188
         },
         {
          "R": 21.178739371079427,
          "series": "R",
          "time": 188
         },
         {
          "D": 113.73227478421519,
          "series": "D",
          "time": 188
         },
         {
          "H": 16.27857361900145,
          "series": "H",
          "time": 188
         },
         {
          "S": 281.54448877027147,
          "series": "S",
          "time": 189
         },
         {
          "E": 32.11758062215386,
          "series": "E",
          "time": 189
         },
         {
          "I": 35.05355535493635,
          "series": "I",
          "time": 189
         },
         {
          "R": 21.139666765781875,
          "series": "R",
          "time": 189
         },
         {
          "D": 114.89632854495787,
          "series": "D",
          "time": 189
         },
         {
          "H": 16.248379941898612,
          "series": "H",
          "time": 189
         },
         {
          "S": 280.59179646041474,
          "series": "S",
          "time": 190
         },
         {
          "E": 32.04896945398887,
          "series": "E",
          "time": 190
         },
         {
          "I": 34.98406546173203,
          "series": "I",
          "time": 190
         },
         {
          "R": 21.099584916083707,
          "series": "R",
          "time": 190
         },
         {
          "D": 116.05816596135332,
          "series": "D",
          "time": 190
         },
         {
          "H": 16.217417746427355,
          "series": "H",
          "time": 190
         },
         {
          "S": 279.6456399896156,
          "series": "S",
          "time": 191
         },
         {
          "E": 31.979240519723025,
          "series": "E",
          "time": 191
         },
         {
          "I": 34.91311701718934,
          "series": "I",
          "time": 191
         },
         {
          "R": 21.058543187516307,
          "series": "R",
          "time": 191
         },
         {
          "D": 117.21773458821724,
          "series": "D",
          "time": 191
         },
         {
          "H": 16.185724697738546,
          "series": "H",
          "time": 191
         },
         {
          "S": 278.70585220297176,
          "series": "S",
          "time": 192
         },
         {
          "E": 31.908453223788612,
          "series": "E",
          "time": 192
         },
         {
          "I": 34.84078385476717,
          "series": "I",
          "time": 192
         },
         {
          "R": 21.01658909232993,
          "series": "R",
          "time": 192
         },
         {
          "D": 118.37498458100615,
          "series": "D",
          "time": 192
         },
         {
          "H": 16.153337045136418,
          "series": "H",
          "time": 192
         },
         {
          "S": 277.77227184291365,
          "series": "S",
          "time": 193
         },
         {
          "E": 31.836664598556553,
          "series": "E",
          "time": 193
         },
         {
          "I": 34.76713695819374,
          "series": "I",
          "time": 193
         },
         {
          "R": 20.973768341373773,
          "series": "R",
          "time": 193
         },
         {
          "D": 119.52986859708787,
          "series": "D",
          "time": 193
         },
         {
          "H": 16.12028966187445,
          "series": "H",
          "time": 193
         },
         {
          "S": 276.8447433880648,
          "series": "S",
          "time": 194
         },
         {
          "E": 31.763929383038217,
          "series": "E",
          "time": 194
         },
         {
          "I": 34.692244547979364,
          "series": "I",
          "time": 194
         },
         {
          "R": 20.930124896054654,
          "series": "R",
          "time": 194
         },
         {
          "D": 120.68234169987078,
          "series": "D",
          "time": 194
         },
         {
          "H": 16.08661608499221,
          "series": "H",
          "time": 194
         },
         {
          "S": 275.9231168913764,
          "series": "S",
          "time": 195
         },
         {
          "E": 31.690300100289846,
          "series": "E",
          "time": 195
         },
         {
          "I": 34.61617216728831,
          "series": "I",
          "time": 195
         },
         {
          "R": 20.885701020199182,
          "series": "R",
          "time": 195
         },
         {
          "D": 121.83236126578515,
          "series": "D",
          "time": 195
         },
         {
          "H": 16.052348555061087,
          "series": "H",
          "time": 195
         },
         {
          "S": 275.0072478181464,
          "series": "S",
          "time": 196
         },
         {
          "E": 31.61582713340734,
          "series": "E",
          "time": 196
         },
         {
          "I": 34.538982766960835,
          "series": "I",
          "time": 196
         },
         {
          "R": 20.84053733166291,
          "series": "R",
          "time": 196
         },
         {
          "D": 122.97988689410177,
          "series": "D",
          "time": 196
         },
         {
          "H": 16.017518055720704,
          "series": "H",
          "time": 196
         },
         {
          "S": 274.0969968844692,
          "series": "S",
          "time": 197
         },
         {
          "E": 31.540558800016054,
          "series": "E",
          "time": 197
         },
         {
          "I": 34.460736789501375,
          "series": "I",
          "time": 197
         },
         {
          "R": 20.79467285354714,
          "series": "R",
          "time": 197
         },
         {
          "D": 124.12488031956501,
          "series": "D",
          "time": 197
         },
         {
          "H": 15.98215435290118,
          "series": "H",
          "time": 197
         },
         {
          "S": 273.19222989660227,
          "series": "S",
          "time": 198
         },
         {
          "E": 31.46454142517596,
          "series": "E",
          "time": 198
         },
         {
          "I": 34.38149225187215,
          "series": "I",
          "time": 198
         },
         {
          "R": 20.74814506490005,
          "series": "R",
          "time": 198
         },
         {
          "D": 125.26730532781133,
          "series": "D",
          "time": 198
         },
         {
          "H": 15.946286033638227,
          "series": "H",
          "time": 198
         },
         {
          "S": 272.2928175916797,
          "series": "S",
          "time": 199
         },
         {
          "E": 31.387819412636727,
          "series": "E",
          "time": 199
         },
         {
          "I": 34.30130482695245,
          "series": "I",
          "time": 199
         },
         {
          "R": 20.70098995079372,
          "series": "R",
          "time": 199
         },
         {
          "D": 126.40712767353794,
          "series": "D",
          "time": 199
         },
         {
          "H": 15.909940544399449,
          "series": "H",
          "time": 199
         },
         {
          "S": 271.39863548015234,
          "series": "S",
          "time": 200
         },
         {
          "E": 31.310435314389995,
          "series": "E",
          "time": 200
         },
         {
          "I": 34.22022792354361,
          "series": "I",
          "time": 200
         },
         {
          "R": 20.653242051682046,
          "series": "R",
          "time": 200
         },
         {
          "D": 127.5443150013815,
          "series": "D",
          "time": 200
         },
         {
          "H": 15.873144228850487,
          "series": "H",
          "time": 200
         },
         {
          "S": 270.50956369028574,
          "series": "S",
          "time": 201
         },
         {
          "E": 31.232429898478042,
          "series": "E",
          "time": 201
         },
         {
          "I": 34.13831276481749,
          "series": "I",
          "time": 201
         },
         {
          "R": 20.604934511957413,
          "series": "R",
          "time": 201
         },
         {
          "D": 128.67883676946212,
          "series": "D",
          "time": 201
         },
         {
          "H": 15.835922364999167,
          "series": "H",
          "time": 201
         },
         {
          "S": 269.62548681500493,
          "series": "S",
          "time": 202
         },
         {
          "E": 31.153842215028302,
          "series": "E",
          "time": 202
         },
         {
          "I": 34.05560846512266,
          "series": "I",
          "time": 202
         },
         {
          "R": 20.55609912763523,
          "series": "R",
          "time": 202
         },
         {
          "D": 129.81066417554428,
          "series": "D",
          "time": 202
         },
         {
          "H": 15.798299201664571,
          "series": "H",
          "time": 202
         },
         {
          "S": 268.7462937613349,
          "series": "S",
          "time": 203
         },
         {
          "E": 31.07470966049277,
          "series": "E",
          "time": 203
         },
         {
          "I": 33.972162105077274,
          "series": "I",
          "time": 203
         },
         {
          "R": 20.5067663931062,
          "series": "R",
          "time": 203
         },
         {
          "D": 130.93977008576286,
          "series": "D",
          "time": 203
         },
         {
          "H": 15.760297994225942,
          "series": "H",
          "time": 203
         },
         {
          "S": 267.871877602649,
          "series": "S",
          "time": 204
         },
         {
          "E": 30.99506804007999,
          "series": "E",
          "time": 204
         },
         {
          "I": 33.88801880489144,
          "series": "I",
          "time": 204
         },
         {
          "R": 20.456965546905874,
          "series": "R",
          "time": 204
         },
         {
          "D": 132.06612896586,
          "series": "D",
          "time": 204
         },
         {
          "H": 15.721941039613622,
          "series": "H",
          "time": 204
         },
         {
          "S": 267.00213543390487,
          "series": "S",
          "time": 205
         },
         {
          "E": 30.91495162837458,
          "series": "E",
          "time": 205
         },
         {
          "I": 33.80322179587383,
          "series": "I",
          "time": 205
         },
         {
          "R": 20.4067246164597,
          "series": "R",
          "time": 205
         },
         {
          "D": 133.18971681487605,
          "series": "D",
          "time": 205
         },
         {
          "H": 15.68324971051095,
          "series": "H",
          "time": 205
         },
         {
          "S": 266.1369682300168,
          "series": "S",
          "time": 206
         },
         {
          "E": 30.834393228146286,
          "series": "E",
          "time": 206
         },
         {
          "I": 33.71781249008882,
          "series": "I",
          "time": 206
         },
         {
          "R": 20.35607046176995,
          "series": "R",
          "time": 206
         },
         {
          "D": 134.31051110123607,
          "series": "D",
          "time": 206
         },
         {
          "H": 15.644244488742057,
          "series": "H",
          "time": 206
         },
         {
          "S": 265.27628070748693,
          "series": "S",
          "time": 207
         },
         {
          "E": 30.753424227356476,
          "series": "E",
          "time": 207
         },
         {
          "I": 33.63183054813994,
          "series": "I",
          "time": 207
         },
         {
          "R": 20.305028818018123,
          "series": "R",
          "time": 207
         },
         {
          "D": 135.42849070117248,
          "series": "D",
          "time": 207
         },
         {
          "H": 15.604944997826022,
          "series": "H",
          "time": 207
         },
         {
          "S": 264.4199811893916,
          "series": "S",
          "time": 208
         },
         {
          "E": 30.67207465437528,
          "series": "E",
          "time": 208
         },
         {
          "I": 33.54531394506509,
          "series": "I",
          "time": 208
         },
         {
          "R": 20.25362433706294,
          "series": "R",
          "time": 208
         },
         {
          "D": 136.54363583942228,
          "series": "D",
          "time": 208
         },
         {
          "H": 15.565370034682793,
          "series": "H",
          "time": 208
         },
         {
          "S": 263.5679814737976,
          "series": "S",
          "time": 209
         },
         {
          "E": 30.59037323142719,
          "series": "E",
          "time": 209
         },
         {
          "I": 33.45829903433639,
          "series": "I",
          "time": 209
         },
         {
          "R": 20.201880627820124,
          "series": "R",
          "time": 209
         },
         {
          "D": 137.6559280321379,
          "series": "D",
          "time": 209
         },
         {
          "H": 15.525537600480808,
          "series": "H",
          "time": 209
         },
         {
          "S": 262.720196705663,
          "series": "S",
          "time": 210
         },
         {
          "E": 30.508347426287106,
          "series": "E",
          "time": 210
         },
         {
          "I": 33.37082060996522,
          "series": "I",
          "time": 210
         },
         {
          "R": 20.149820295515283,
          "series": "R",
          "time": 210
         },
         {
          "D": 138.7653500319492,
          "series": "D",
          "time": 210
         },
         {
          "H": 15.485464930620212,
          "series": "H",
          "time": 210
         },
         {
          "S": 261.8765452522585,
          "series": "S",
          "time": 211
         },
         {
          "E": 30.42602350225221,
          "series": "E",
          "time": 211
         },
         {
          "I": 33.282911966719105,
          "series": "I",
          "time": 211
         },
         {
          "R": 20.097464979806215,
          "series": "R",
          "time": 211
         },
         {
          "D": 139.87188577511475,
          "series": "D",
          "time": 211
         },
         {
          "H": 15.445168523849242,
          "series": "H",
          "time": 211
         },
         {
          "S": 261.0369485821294,
          "series": "S",
          "time": 212
         },
         {
          "E": 30.343426566418216,
          "series": "E",
          "time": 212
         },
         {
          "I": 33.19460495846306,
          "series": "I",
          "time": 212
         },
         {
          "R": 20.04483539177501,
          "series": "R",
          "time": 212
         },
         {
          "D": 140.9755203306998,
          "series": "D",
          "time": 212
         },
         {
          "H": 15.404664170514492,
          "series": "H",
          "time": 212
         },
         {
          "S": 260.2013311476038,
          "series": "S",
          "time": 213
         },
         {
          "E": 30.260580616291065,
          "series": "E",
          "time": 213
         },
         {
          "I": 33.105930054642656,
          "series": "I",
          "time": 213
         },
         {
          "R": 19.991951349794263,
          "series": "R",
          "time": 213
         },
         {
          "D": 142.07623985171946,
          "series": "D",
          "time": 213
         },
         {
          "H": 15.363966979948696,
          "series": "H",
          "time": 213
         },
         {
          "S": 259.3696202708394,
          "series": "S",
          "time": 214
         },
         {
          "E": 30.17750858476723,
          "series": "E",
          "time": 214
         },
         {
          "I": 33.016916394930774,
          "series": "I",
          "time": 214
         },
         {
          "R": 19.938831814274955,
          "series": "R",
          "time": 214
         },
         {
          "D": 143.17403152818545,
          "series": "D",
          "time": 214
         },
         {
          "H": 15.323091407002163,
          "series": "H",
          "time": 214
         },
         {
          "S": 258.5417460333904,
          "series": "S",
          "time": 215
         },
         {
          "E": 30.094232383517806,
          "series": "E",
          "time": 215
         },
         {
          "I": 32.92759184206352,
          "series": "I",
          "time": 215
         },
         {
          "R": 19.88549492130664,
          "series": "R",
          "time": 215
         },
         {
          "D": 144.2688835419954,
          "series": "D",
          "time": 215
         },
         {
          "H": 15.28205127772619,
          "series": "H",
          "time": 215
         },
         {
          "S": 257.7176411692659,
          "series": "S",
          "time": 216
         },
         {
          "E": 30.01077294481288,
          "series": "E",
          "time": 216
         },
         {
          "I": 32.83798303289435,
          "series": "I",
          "time": 216
         },
         {
          "R": 19.831958015202968,
          "series": "R",
          "time": 216
         },
         {
          "D": 145.36078502360505,
          "series": "D",
          "time": 216
         },
         {
          "H": 15.24085981421881,
          "series": "H",
          "time": 216
         },
         {
          "S": 256.8972409614417,
          "series": "S",
          "time": 217
         },
         {
          "E": 29.927150261823904,
          "series": "E",
          "time": 217
         },
         {
          "I": 32.74811542769798,
          "series": "I",
          "time": 217
         },
         {
          "R": 19.778237679968015,
          "series": "R",
          "time": 217
         },
         {
          "D": 146.44972601042352,
          "series": "D",
          "time": 217
         },
         {
          "H": 15.199529658644828,
          "series": "H",
          "time": 217
         },
         {
          "S": 256.08048314178075,
          "series": "S",
          "time": 218
         },
         {
          "E": 29.84338342744271,
          "series": "E",
          "time": 218
         },
         {
          "I": 32.65801335775829,
          "series": "I",
          "time": 218
         },
         {
          "R": 19.724349769700737,
          "series": "R",
          "time": 218
         },
         {
          "D": 147.53569740687385,
          "series": "D",
          "time": 218
         },
         {
          "H": 15.158072896443617,
          "series": "H",
          "time": 218
         },
         {
          "S": 255.26730779431017,
          "series": "S",
          "time": 219
         },
         {
          "E": 29.759490671656494,
          "series": "E",
          "time": 219
         },
         {
          "I": 32.567700071276164,
          "series": "I",
          "time": 219
         },
         {
          "R": 19.67030943795652,
          "series": "R",
          "time": 219
         },
         {
          "D": 148.61869094606124,
          "series": "D",
          "time": 219
         },
         {
          "H": 15.116501078739374,
          "series": "H",
          "time": 219
         },
         {
          "S": 254.45765726179746,
          "series": "S",
          "time": 220
         },
         {
          "E": 29.67548939751851,
          "series": "E",
          "time": 220
         },
         {
          "I": 32.47719777763511,
          "series": "I",
          "time": 220
         },
         {
          "R": 19.616131166086188,
          "series": "R",
          "time": 220
         },
         {
          "D": 149.6986991529931,
          "series": "D",
          "time": 220
         },
         {
          "H": 15.07482524396958,
          "series": "H",
          "time": 220
         },
         {
          "S": 253.65147605556348,
          "series": "S",
          "time": 221
         },
         {
          "E": 29.591396215754454,
          "series": "E",
          "time": 221
         },
         {
          "I": 32.38652769006365,
          "series": "I",
          "time": 221
         },
         {
          "R": 19.561828790574133,
          "series": "R",
          "time": 221
         },
         {
          "D": 150.77571530929595,
          "series": "D",
          "time": 221
         },
         {
          "H": 15.033055938748305,
          "series": "H",
          "time": 221
         },
         {
          "S": 252.84871076846576,
          "series": "S",
          "time": 222
         },
         {
          "E": 29.50722697804469,
          "series": "E",
          "time": 222
         },
         {
          "I": 32.295710066734465,
          "series": "I",
          "time": 222
         },
         {
          "R": 19.507415529397992,
          "series": "R",
          "time": 222
         },
         {
          "D": 151.84973341937533,
          "series": "D",
          "time": 222
         },
         {
          "H": 14.991203237981718,
          "series": "H",
          "time": 222
         },
         {
          "S": 252.04930999098266,
          "series": "S",
          "time": 223
         },
         {
          "E": 29.42299680902235,
          "series": "E",
          "time": 223
         },
         {
          "I": 32.204764250341235,
          "series": "I",
          "time": 223
         },
         {
          "R": 19.452904007433236,
          "series": "R",
          "time": 223
         },
         {
          "D": 152.92074817796677,
          "series": "D",
          "time": 223
         },
         {
          "H": 14.949276764253703,
          "series": "H",
          "time": 223
         },
         {
          "S": 251.2532242303256,
          "series": "S",
          "time": 224
         },
         {
          "E": 29.338720137027064,
          "series": "E",
          "time": 224
         },
         {
          "I": 32.11370870619445,
          "series": "I",
          "time": 224
         },
         {
          "R": 19.398306280926587,
          "series": "R",
          "time": 224
         },
         {
          "D": 153.98875493902628,
          "series": "D",
          "time": 224
         },
         {
          "H": 14.907285706499977,
          "series": "H",
          "time": 224
         },
         {
          "S": 250.46040583250513,
          "series": "S",
          "time": 225
         },
         {
          "E": 29.2544107236539,
          "series": "E",
          "time": 225
         },
         {
          "I": 32.02256105887795,
          "series": "I",
          "time": 225
         },
         {
          "R": 19.34363386106258,
          "series": "R",
          "time": 225
         },
         {
          "D": 155.05374968591096,
          "series": "D",
          "time": 225
         },
         {
          "H": 14.865238837989423,
          "series": "H",
          "time": 225
         },
         {
          "S": 249.67080890727448,
          "series": "S",
          "time": 226
         },
         {
          "E": 29.170081692136623,
          "series": "E",
          "time": 226
         },
         {
          "I": 31.931338127507928,
          "series": "I",
          "time": 226
         },
         {
          "R": 19.288897736648014,
          "series": "R",
          "time": 226
         },
         {
          "D": 156.11572900280132,
          "series": "D",
          "time": 226
         },
         {
          "H": 14.823144533631565,
          "series": "H",
          "time": 226
         },
         {
          "S": 248.8843892558733,
          "series": "S",
          "time": 227
         },
         {
          "E": 29.085745554603744,
          "series": "E",
          "time": 227
         },
         {
          "I": 31.84005595963634,
          "series": "I",
          "time": 227
         },
         {
          "R": 19.234108395939064,
          "series": "R",
          "time": 227
         },
         {
          "D": 157.17469004731825,
          "series": "D",
          "time": 227
         },
         {
          "H": 14.781010786629233,
          "series": "H",
          "time": 227
         },
         {
          "S": 248.10110430149336,
          "series": "S",
          "time": 228
         },
         {
          "E": 29.001414238245452,
          "series": "E",
          "time": 228
         },
         {
          "I": 31.74872986384027,
          "series": "I",
          "time": 228
         },
         {
          "R": 19.179275847636102,
          "series": "R",
          "time": 228
         },
         {
          "D": 158.23063052428915,
          "series": "D",
          "time": 228
         },
         {
          "H": 14.738845224495593,
          "series": "H",
          "time": 228
         },
         {
          "S": 247.3209130223881,
          "series": "S",
          "time": 229
         },
         {
          "E": 28.91709911042876,
          "series": "E",
          "time": 229
         },
         {
          "I": 31.65737444103862,
          "series": "I",
          "time": 229
         },
         {
          "R": 19.12440964107108,
          "series": "R",
          "time": 229
         },
         {
          "D": 159.28354866061878,
          "series": "D",
          "time": 229
         },
         {
          "H": 14.696655124454592,
          "series": "H",
          "time": 229
         },
         {
          "S": 246.54377588754707,
          "series": "S",
          "time": 230
         },
         {
          "E": 28.83281100279736,
          "series": "E",
          "time": 230
         },
         {
          "I": 31.56600361457712,
          "series": "I",
          "time": 230
         },
         {
          "R": 19.06951888561233,
          "series": "R",
          "time": 230
         },
         {
          "D": 160.3334431812222,
          "series": "D",
          "time": 230
         },
         {
          "H": 14.654447428243863,
          "series": "H",
          "time": 230
         },
         {
          "S": 245.76965479485702,
          "series": "S",
          "time": 231
         },
         {
          "E": 28.748560234392233,
          "series": "E",
          "time": 231
         },
         {
          "I": 31.47463065912206,
          "series": "I",
          "time": 231
         },
         {
          "R": 19.014612269311435,
          "series": "R",
          "time": 231
         },
         {
          "D": 161.38031328597825,
          "series": "D",
          "time": 231
         },
         {
          "H": 14.612228756338943,
          "series": "H",
          "time": 231
         },
         {
          "S": 244.99851301167223,
          "series": "S",
          "time": 232
         },
         {
          "E": 28.664356633827953,
          "series": "E",
          "time": 232
         },
         {
          "I": 31.383268228402603,
          "series": "I",
          "time": 232
         },
         {
          "R": 18.959698076816576,
          "series": "R",
          "time": 232
         },
         {
          "D": 162.42415862766305,
          "series": "D",
          "time": 232
         },
         {
          "H": 14.57000542161751,
          "series": "H",
          "time": 232
         },
         {
          "S": 244.23031511771634,
          "series": "S",
          "time": 233
         },
         {
          "E": 28.580209560558995,
          "series": "E",
          "time": 233
         },
         {
          "I": 31.2919283818409,
          "series": "I",
          "time": 233
         },
         {
          "R": 18.904784206576423,
          "series": "R",
          "time": 233
         },
         {
          "D": 163.46497929082523,
          "series": "D",
          "time": 233
         },
         {
          "H": 14.527783442482036,
          "series": "H",
          "time": 233
         },
         {
          "S": 243.46502695023986,
          "series": "S",
          "time": 234
         },
         {
          "E": 28.496127925269388,
          "series": "E",
          "time": 234
         },
         {
          "I": 31.20062261010847,
          "series": "I",
          "time": 234
         },
         {
          "R": 18.849878187358385,
          "series": "R",
          "time": 234
         },
         {
          "D": 164.50277577156473,
          "series": "D",
          "time": 234
         },
         {
          "H": 14.485568555459077,
          "series": "H",
          "time": 234
         },
         {
          "S": 242.70261555135798,
          "series": "S",
          "time": 235
         },
         {
          "E": 28.41212020941831,
          "series": "E",
          "time": 235
         },
         {
          "I": 31.109361859646565,
          "series": "I",
          "time": 235
         },
         {
          "R": 18.794987194104493,
          "series": "R",
          "time": 235
         },
         {
          "D": 165.5375489581795,
          "series": "D",
          "time": 235
         },
         {
          "H": 14.443366227293028,
          "series": "H",
          "time": 235
         },
         {
          "S": 241.9430491174949,
          "series": "S",
          "time": 236
         },
         {
          "E": 28.32819448397318,
          "series": "E",
          "time": 236
         },
         {
          "I": 31.01815655618737,
          "series": "I",
          "time": 236
         },
         {
          "R": 18.74011806314793,
          "series": "R",
          "time": 236
         },
         {
          "D": 166.56930011264464,
          "series": "D",
          "time": 236
         },
         {
          "H": 14.401181666551876,
          "series": "H",
          "time": 236
         },
         {
          "S": 241.18629695086165,
          "series": "S",
          "time": 237
         },
         {
          "E": 28.244358427361114,
          "series": "E",
          "time": 237
         },
         {
          "I": 30.927016627312153,
          "series": "I",
          "time": 237
         },
         {
          "R": 18.685277306812576,
          "series": "R",
          "time": 237
         },
         {
          "D": 167.59803085289025,
          "series": "D",
          "time": 237
         },
         {
          "H": 14.359019834762137,
          "series": "H",
          "time": 237
         },
         {
          "S": 240.43232941289682,
          "series": "S",
          "time": 238
         },
         {
          "E": 28.160619342668454,
          "series": "E",
          "time": 238
         },
         {
          "I": 30.83595152408143,
          "series": "I",
          "time": 238
         },
         {
          "R": 18.630471127417653,
          "series": "R",
          "time": 238
         },
         {
          "D": 168.62374313584576,
          "series": "D",
          "time": 238
         },
         {
          "H": 14.31688545708976,
          "series": "H",
          "time": 238
         },
         {
          "S": 239.68111787959973,
          "series": "S",
          "time": 239
         },
         {
          "E": 28.07698417411748,
          "series": "E",
          "time": 239
         },
         {
          "I": 30.74497024177152,
          "series": "I",
          "time": 239
         },
         {
          "R": 18.575705430708805,
          "series": "R",
          "time": 239
         },
         {
          "D": 169.64643924121893,
          "series": "D",
          "time": 239
         },
         {
          "H": 14.274783032583418,
          "series": "H",
          "time": 239
         },
         {
          "S": 238.9326346986885,
          "series": "S",
          "time": 240
         },
         {
          "E": 27.993459522848298,
          "series": "E",
          "time": 240
         },
         {
          "I": 30.654081339750736,
          "series": "I",
          "time": 240
         },
         {
          "R": 18.520985838736696,
          "series": "R",
          "time": 240
         },
         {
          "D": 170.66612175597947,
          "series": "D",
          "time": 240
         },
         {
          "H": 14.232716843996169,
          "series": "H",
          "time": 240
         },
         {
          "S": 238.18685314851626,
          "series": "S",
          "time": 241
         },
         {
          "E": 27.91005166203308,
          "series": "E",
          "time": 241
         },
         {
          "I": 30.563292960527715,
          "series": "I",
          "time": 241
         },
         {
          "R": 18.466317702203444,
          "series": "R",
          "time": 241
         },
         {
          "D": 171.68279355951825,
          "series": "D",
          "time": 241
         },
         {
          "H": 14.190690967201112,
          "series": "H",
          "time": 241
         },
         {
          "S": 237.4437473986808,
          "series": "S",
          "time": 242
         },
         {
          "E": 27.826766551349063,
          "series": "E",
          "time": 242
         },
         {
          "I": 30.472612848003322,
          "series": "I",
          "time": 242
         },
         {
          "R": 18.411706112296777,
          "series": "R",
          "time": 242
         },
         {
          "D": 172.6964578094537,
          "series": "D",
          "time": 242
         },
         {
          "H": 14.14870928021618,
          "series": "H",
          "time": 242
         },
         {
          "S": 236.7032924722645,
          "series": "S",
          "time": 243
         },
         {
          "E": 27.743609850835607,
          "series": "E",
          "time": 243
         },
         {
          "I": 30.382048364956763,
          "series": "I",
          "time": 243
         },
         {
          "R": 18.357155912031242,
          "series": "R",
          "time": 243
         },
         {
          "D": 173.7071179280589,
          "series": "D",
          "time": 243
         },
         {
          "H": 14.106775471852842,
          "series": "H",
          "time": 243
         },
         {
          "S": 235.9654642096432,
          "series": "S",
          "time": 244
         },
         {
          "E": 27.660586934160055,
          "series": "E",
          "time": 244
         },
         {
          "I": 30.291606509795447,
          "series": "I",
          "time": 244
         },
         {
          "R": 18.302671707115195,
          "series": "R",
          "time": 244
         },
         {
          "D": 174.71477758928293,
          "series": "D",
          "time": 244
         },
         {
          "H": 14.064893050003029,
          "series": "H",
          "time": 244
         },
         {
          "S": 235.23023923380447,
          "series": "S",
          "time": 245
         },
         {
          "E": 27.577702901315977,
          "series": "E",
          "time": 245
         },
         {
          "I": 30.20129393259741,
          "series": "I",
          "time": 245
         },
         {
          "R": 18.248257876361794,
          "series": "R",
          "time": 245
         },
         {
          "D": 175.719440706342,
          "series": "D",
          "time": 245
         },
         {
          "H": 14.023065349578184,
          "series": "H",
          "time": 245
         },
         {
          "S": 234.49759491711745,
          "series": "S",
          "time": 246
         },
         {
          "E": 27.494962590776947,
          "series": "E",
          "time": 246
         },
         {
          "I": 30.111116950473985,
          "series": "I",
          "time": 246
         },
         {
          "R": 18.193918581661663,
          "series": "R",
          "time": 246
         },
         {
          "D": 176.72111141985584,
          "series": "D",
          "time": 246
         },
         {
          "H": 13.981295540113923,
          "series": "H",
          "time": 246
         },
         {
          "S": 233.76750934949794,
          "series": "S",
          "time": 247
         },
         {
          "E": 27.412370591127726,
          "series": "E",
          "time": 247
         },
         {
          "I": 30.0210815622797,
          "series": "I",
          "time": 247
         },
         {
          "R": 18.13965777753426,
          "series": "R",
          "time": 247
         },
         {
          "D": 177.71979408650685,
          "series": "D",
          "time": 247
         },
         {
          "H": 13.939586633053342,
          "series": "H",
          "time": 247
         },
         {
          "S": 233.03996130791467,
          "series": "S",
          "time": 248
         },
         {
          "E": 27.32993125219433,
          "series": "E",
          "time": 248
         },
         {
          "I": 29.931193462695326,
          "series": "I",
          "time": 248
         },
         {
          "R": 18.085479220274554,
          "series": "R",
          "time": 248
         },
         {
          "D": 178.71549326819934,
          "series": "D",
          "time": 248
         },
         {
          "H": 13.897941488721624,
          "series": "H",
          "time": 248
         },
         {
          "S": 232.3149302271839,
          "series": "S",
          "time": 249
         },
         {
          "E": 27.247648695693567,
          "series": "E",
          "time": 249
         },
         {
          "I": 29.841458055709193,
          "series": "I",
          "time": 249
         },
         {
          "R": 18.031386476711027,
          "series": "R",
          "time": 249
         },
         {
          "D": 179.708213721698,
          "series": "D",
          "time": 249
         },
         {
          "H": 13.85636282300415,
          "series": "H",
          "time": 249
         },
         {
          "S": 231.59239617200168,
          "series": "S",
          "time": 250
         },
         {
          "E": 27.165526825421658,
          "series": "E",
          "time": 250
         },
         {
          "I": 29.75188046752107,
          "series": "I",
          "time": 250
         },
         {
          "R": 17.977382932590416,
          "series": "R",
          "time": 250
         },
         {
          "D": 180.69796038872505,
          "series": "D",
          "time": 250
         },
         {
          "H": 13.814853213739937,
          "series": "H",
          "time": 250
         },
         {
          "S": 230.8723398101643,
          "series": "S",
          "time": 251
         },
         {
          "E": 27.083569337001293,
          "series": "E",
          "time": 251
         },
         {
          "I": 29.662465558891906,
          "series": "I",
          "time": 251
         },
         {
          "R": 17.92347180060422,
          "series": "R",
          "time": 251
         },
         {
          "D": 181.68473838649626,
          "series": "D",
          "time": 251
         },
         {
          "H": 13.773415106841822,
          "series": "H",
          "time": 251
         },
         {
          "S": 230.15474238692946,
          "series": "S",
          "time": 252
         },
         {
          "E": 27.00177972720516,
          "series": "E",
          "time": 252
         },
         {
          "I": 29.573217936962102,
          "series": "I",
          "time": 252
         },
         {
          "R": 17.869656128071345,
          "series": "R",
          "time": 252
         },
         {
          "D": 182.66855299867737,
          "series": "D",
          "time": 252
         },
         {
          "H": 13.732050822154386,
          "series": "H",
          "time": 252
         },
         {
          "S": 229.4395857004723,
          "series": "S",
          "time": 253
         },
         {
          "E": 26.920161302873893,
          "series": "E",
          "time": 253
         },
         {
          "I": 29.48414196655998,
          "series": "I",
          "time": 253
         },
         {
          "R": 17.815938804290862,
          "series": "R",
          "time": 253
         },
         {
          "D": 183.6494096667425,
          "series": "D",
          "time": 253
         },
         {
          "H": 13.690762559060273,
          "series": "H",
          "time": 253
         },
         {
          "S": 228.72685207839197,
          "series": "S",
          "time": 254
         },
         {
          "E": 26.83871718944523,
          "series": "E",
          "time": 254
         },
         {
          "I": 29.39524178102146,
          "series": "I",
          "time": 254
         },
         {
          "R": 17.762322567578305,
          "series": "R",
          "time": 254
         },
         {
          "D": 184.6273139817177,
          "series": "D",
          "time": 254
         },
         {
          "H": 13.649552401845147,
          "series": "H",
          "time": 254
         },
         {
          "S": 228.01652435522584,
          "series": "S",
          "time": 255
         },
         {
          "E": 26.75745033911082,
          "series": "E",
          "time": 255
         },
         {
          "I": 29.3065212925411,
          "series": "I",
          "time": 255
         },
         {
          "R": 17.708810011998427,
          "series": "R",
          "time": 255
         },
         {
          "D": 185.60227167629245,
          "series": "D",
          "time": 255
         },
         {
          "H": 13.608422324831174,
          "series": "H",
          "time": 255
         },
         {
          "S": 227.30858585093034,
          "series": "S",
          "time": 256
         },
         {
          "E": 26.67636353861633,
          "series": "E",
          "time": 256
         },
         {
          "I": 29.217984202073954,
          "series": "I",
          "time": 256
         },
         {
          "R": 17.65540359380694,
          "series": "R",
          "time": 256
         },
         {
          "D": 186.5742886172837,
          "series": "D",
          "time": 256
         },
         {
          "H": 13.56737419728854,
          "series": "H",
          "time": 256
         },
         {
          "S": 226.60302035028852,
          "series": "S",
          "time": 257
         },
         {
          "E": 26.595459416719937,
          "series": "E",
          "time": 257
         },
         {
          "I": 29.129634008806942,
          "series": "I",
          "time": 257
         },
         {
          "R": 17.602105637613242,
          "series": "R",
          "time": 257
         },
         {
          "D": 187.543370798437,
          "series": "D",
          "time": 257
         },
         {
          "H": 13.526409788134195,
          "series": "H",
          "time": 257
         },
         {
          "S": 225.89981208320623,
          "series": "S",
          "time": 258
         },
         {
          "E": 26.51474045132373,
          "series": "E",
          "time": 258
         },
         {
          "I": 29.04147401921773,
          "series": "I",
          "time": 258
         },
         {
          "R": 17.548918342275687,
          "series": "R",
          "time": 258
         },
         {
          "D": 188.5095243335498,
          "series": "D",
          "time": 258
         },
         {
          "H": 13.485530770426639,
          "series": "H",
          "time": 258
         },
         {
          "S": 225.19894570586015,
          "series": "S",
          "time": 259
         },
         {
          "E": 26.4342089762919,
          "series": "E",
          "time": 259
         },
         {
          "I": 28.953507355738402,
          "series": "I",
          "time": 259
         },
         {
          "R": 17.495843786540547,
          "series": "R",
          "time": 259
         },
         {
          "D": 189.47275544990356,
          "series": "D",
          "time": 259
         },
         {
          "H": 13.444738725665244,
          "series": "H",
          "time": 259
         },
         {
          "S": 224.50040628266194,
          "series": "S",
          "time": 260
         },
         {
          "E": 26.3538671879691,
          "series": "E",
          "time": 260
         },
         {
          "I": 28.865736965040572,
          "series": "I",
          "time": 260
         },
         {
          "R": 17.442883934435386,
          "series": "R",
          "time": 260
         },
         {
          "D": 190.43307048199048,
          "series": "D",
          "time": 260
         },
         {
          "H": 13.404035147902306,
          "series": "H",
          "time": 260
         },
         {
          "S": 223.80417926900463,
          "series": "S",
          "time": 261
         },
         {
          "E": 26.273717151411805,
          "series": "E",
          "time": 261
         },
         {
          "I": 28.77816562595793,
          "series": "I",
          "time": 261
         },
         {
          "R": 17.39004064042715,
          "series": "R",
          "time": 261
         },
         {
          "D": 191.39047586552263,
          "series": "D",
          "time": 261
         },
         {
          "H": 13.363421447675643,
          "series": "H",
          "time": 261
         },
         {
          "S": 223.11025049475856,
          "series": "S",
          "time": 262
         },
         {
          "E": 26.1937608063449,
          "series": "E",
          "time": 262
         },
         {
          "I": 28.690795957061564,
          "series": "I",
          "time": 262
         },
         {
          "R": 17.33731565435483,
          "series": "R",
          "time": 262
         },
         {
          "D": 192.3449781317106,
          "series": "D",
          "time": 262
         },
         {
          "H": 13.322898955769354,
          "series": "H",
          "time": 262
         },
         {
          "S": 222.41860614848497,
          "series": "S",
          "time": 263
         },
         {
          "E": 26.113999972855467,
          "series": "E",
          "time": 263
         },
         {
          "I": 28.603630423902818,
          "series": "I",
          "time": 263
         },
         {
          "R": 17.284710626146296,
          "series": "R",
          "time": 263
         },
         {
          "D": 193.29658390180032,
          "series": "D",
          "time": 263
         },
         {
          "H": 13.282468926809933,
          "series": "H",
          "time": 263
         },
         {
          "S": 221.7292327623375,
          "series": "S",
          "time": 264
         },
         {
          "E": 26.034436356834895,
          "series": "E",
          "time": 264
         },
         {
          "I": 28.51667134593781,
          "series": "I",
          "time": 264
         },
         {
          "R": 17.23222711032838,
          "series": "R",
          "time": 264
         },
         {
          "D": 194.24529988185645,
          "series": "D",
          "time": 264
         },
         {
          "H": 13.242132542704775,
          "series": "H",
          "time": 264
         },
         {
          "S": 221.0421171976218,
          "series": "S",
          "time": 265
         },
         {
          "E": 25.955071555180346,
          "series": "E",
          "time": 265
         },
         {
          "I": 28.42992090314728,
          "series": "I",
          "time": 265
         },
         {
          "R": 17.179866570339005,
          "series": "R",
          "time": 265
         },
         {
          "D": 195.19113285778164,
          "series": "D",
          "time": 265
         },
         {
          "H": 13.201890915929722,
          "series": "H",
          "time": 265
         },
         {
          "S": 220.357246630986,
          "series": "S",
          "time": 266
         },
         {
          "E": 25.87590706076587,
          "series": "E",
          "time": 266
         },
         {
          "I": 28.343381142364752,
          "series": "I",
          "time": 266
         },
         {
          "R": 17.127630382649812,
          "series": "R",
          "time": 266
         },
         {
          "D": 196.13408969056124,
          "series": "D",
          "time": 266
         },
         {
          "H": 13.161745092672115,
          "series": "H",
          "time": 266
         },
         {
          "S": 219.67460854121464,
          "series": "S",
          "time": 267
         },
         {
          "E": 25.796944267193187,
          "series": "E",
          "time": 267
         },
         {
          "I": 28.257053983325548,
          "series": "I",
          "time": 267
         },
         {
          "R": 17.07551984070738,
          "series": "R",
          "time": 267
         },
         {
          "D": 197.07417731172353,
          "series": "D",
          "time": 267
         },
         {
          "H": 13.12169605583551,
          "series": "H",
          "time": 267
         },
         {
          "S": 218.99419069660058,
          "series": "S",
          "time": 268
         },
         {
          "E": 25.718184473331732,
          "series": "E",
          "time": 268
         },
         {
          "I": 28.17094122444868,
          "series": "I",
          "time": 268
         },
         {
          "R": 17.02353615870075,
          "series": "R",
          "time": 268
         },
         {
          "D": 198.01140271900607,
          "series": "D",
          "time": 268
         },
         {
          "H": 13.081744727911989,
          "series": "H",
          "time": 268
         },
         {
          "S": 218.31598114287016,
          "series": "S",
          "time": 269
         },
         {
          "E": 25.63962888765709,
          "series": "E",
          "time": 269
         },
         {
          "I": 28.08504454836311,
          "series": "I",
          "time": 269
         },
         {
          "R": 16.971680475162813,
          "series": "R",
          "time": 269
         },
         {
          "D": 198.9457729722189,
          "series": "D",
          "time": 269
         },
         {
          "H": 13.04189197372774,
          "series": "H",
          "time": 269
         },
         {
          "S": 217.63996819163765,
          "series": "S",
          "time": 270
         },
         {
          "E": 25.561278632396643,
          "series": "E",
          "time": 270
         },
         {
          "I": 27.999365527189447,
          "series": "I",
          "time": 270
         },
         {
          "R": 16.9199538564126,
          "series": "R",
          "time": 270
         },
         {
          "D": 199.87729518929606,
          "series": "D",
          "time": 270
         },
         {
          "H": 13.00213860306738,
          "series": "H",
          "time": 270
         },
         {
          "S": 216.96614040936657,
          "series": "S",
          "time": 271
         },
         {
          "E": 25.483134747490766,
          "series": "E",
          "time": 271
         },
         {
          "I": 27.91390562758765,
          "series": "I",
          "time": 271
         },
         {
          "R": 16.868357299845417,
          "series": "R",
          "time": 271
         },
         {
          "D": 200.80597654252716,
          "series": "D",
          "time": 271
         },
         {
          "H": 12.962485373182236,
          "series": "H",
          "time": 271
         },
         {
          "S": 216.29448660681564,
          "series": "S",
          "time": 272
         },
         {
          "E": 25.405198194377725,
          "series": "E",
          "time": 272
         },
         {
          "I": 27.828666215580903,
          "series": "I",
          "time": 272
         },
         {
          "R": 16.816891737077334,
          "series": "R",
          "time": 272
         },
         {
          "D": 201.7318242549606,
          "series": "D",
          "time": 272
         },
         {
          "H": 12.922932991187603,
          "series": "H",
          "time": 272
         },
         {
          "S": 215.62499582894878,
          "series": "S",
          "time": 273
         },
         {
          "E": 25.32746985960996,
          "series": "E",
          "time": 273
         },
         {
          "I": 27.74364856116538,
          "series": "I",
          "time": 273
         },
         {
          "R": 16.765558036950406,
          "series": "R",
          "time": 273
         },
         {
          "D": 202.65484559697148,
          "series": "D",
          "time": 273
         },
         {
          "H": 12.883482116353774,
          "series": "H",
          "time": 273
         },
         {
          "S": 214.95765734528902,
          "series": "S",
          "time": 274
         },
         {
          "E": 25.249950558309095,
          "series": "E",
          "time": 274
         },
         {
          "I": 27.658853842715203,
          "series": "I",
          "time": 274
         },
         {
          "R": 16.7143570084046,
          "series": "R",
          "time": 274
         },
         {
          "D": 203.57504788298638,
          "series": "D",
          "time": 274
         },
         {
          "H": 12.844133362295487,
          "series": "H",
          "time": 274
         },
         {
          "S": 214.29246064069673,
          "series": "S",
          "time": 275
         },
         {
          "E": 25.172641037466832,
          "series": "E",
          "time": 275
         },
         {
          "I": 27.574283151191576,
          "series": "I",
          "time": 275
         },
         {
          "R": 16.663289403222247,
          "series": "R",
          "time": 275
         },
         {
          "D": 204.49243846835824,
          "series": "D",
          "time": 275
         },
         {
          "H": 12.80488729906416,
          "series": "H",
          "time": 275
         },
         {
          "S": 213.62939540655432,
          "series": "S",
          "time": 276
         },
         {
          "E": 25.095541979098453,
          "series": "E",
          "time": 276
         },
         {
          "I": 27.489937494164575,
          "series": "I",
          "time": 276
         },
         {
          "R": 16.612355918650575,
          "series": "R",
          "time": 276
         },
         {
          "D": 205.4070247463847,
          "series": "D",
          "time": 276
         },
         {
          "H": 12.765744455147164,
          "series": "H",
          "time": 276
         },
         {
          "S": 212.9684515323392,
          "series": "S",
          "time": 277
         },
         {
          "E": 25.018654003255403,
          "series": "E",
          "time": 277
         },
         {
          "I": 27.405817799655836,
          "series": "I",
          "time": 277
         },
         {
          "R": 16.56155719990765,
          "series": "R",
          "time": 277
         },
         {
          "D": 206.3188141454635,
          "series": "D",
          "time": 277
         },
         {
          "H": 12.726705319378217,
          "series": "H",
          "time": 277
         },
         {
          "S": 212.3096190975684,
          "series": "S",
          "time": 278
         },
         {
          "E": 24.941977670903228,
          "series": "E",
          "time": 278
         },
         {
          "I": 27.32192491980998,
          "series": "I",
          "time": 278
         },
         {
          "R": 16.510893842576756,
          "series": "R",
          "time": 278
         },
         {
          "D": 207.22781412637875,
          "series": "D",
          "time": 278
         },
         {
          "H": 12.687770342762718,
          "series": "H",
          "time": 278
         },
         {
          "S": 211.65288836409852,
          "series": "S",
          "time": 279
         },
         {
          "E": 24.865513486670718,
          "series": "E",
          "time": 279
         },
         {
          "I": 27.238259634402272,
          "series": "I",
          "time": 279
         },
         {
          "R": 16.46036639489418,
          "series": "R",
          "time": 279
         },
         {
          "D": 208.13403217971234,
          "series": "D",
          "time": 279
         },
         {
          "H": 12.648939940221808,
          "series": "H",
          "time": 279
         },
         {
          "S": 210.99824976876548,
          "series": "S",
          "time": 280
         },
         {
          "E": 24.789261901476017,
          "series": "E",
          "time": 280
         },
         {
          "I": 27.1548226541897,
          "series": "I",
          "time": 280
         },
         {
          "R": 16.409975359934993,
          "series": "R",
          "time": 280
         },
         {
          "D": 209.03747582337496,
          "series": "D",
          "time": 280
         },
         {
          "H": 12.610214492258676,
          "series": "H",
          "time": 280
         },
         {
          "S": 210.34569391634926,
          "series": "S",
          "time": 281
         },
         {
          "E": 24.71322331503508,
          "series": "E",
          "time": 281
         },
         {
          "I": 27.071614624112403,
          "series": "I",
          "time": 281
         },
         {
          "R": 16.359721197701358,
          "series": "R",
          "time": 281
         },
         {
          "D": 209.93815260025121,
          "series": "D",
          "time": 281
         },
         {
          "H": 12.571594346550526,
          "series": "H",
          "time": 281
         },
         {
          "S": 209.69521157284925,
          "series": "S",
          "time": 282
         },
         {
          "E": 24.637398078257714,
          "series": "E",
          "time": 282
         },
         {
          "I": 26.988636126351974,
          "series": "I",
          "time": 282
         },
         {
          "R": 16.309604327117608,
          "series": "R",
          "time": 282
         },
         {
          "D": 210.8360700759538,
          "series": "D",
          "time": 282
         },
         {
          "H": 12.533079819469496,
          "series": "H",
          "time": 282
         },
         {
          "S": 209.0467936590567,
          "series": "S",
          "time": 283
         },
         {
          "E": 24.561786495536193,
          "series": "E",
          "time": 283
         },
         {
          "I": 26.905887683252978,
          "series": "I",
          "time": 283
         },
         {
          "R": 16.25962512793622,
          "series": "R",
          "time": 283
         },
         {
          "D": 211.73123583668212,
          "series": "D",
          "time": 283
         },
         {
          "H": 12.49467119753561,
          "series": "H",
          "time": 283
         },
         {
          "S": 208.40043124441132,
          "series": "S",
          "time": 284
         },
         {
          "E": 24.486388826931147,
          "series": "E",
          "time": 284
         },
         {
          "I": 26.82336976011375,
          "series": "I",
          "time": 284
         },
         {
          "R": 16.20978394255858,
          "series": "R",
          "time": 284
         },
         {
          "D": 212.62365748718022,
          "series": "D",
          "time": 284
         },
         {
          "H": 12.45636873880481,
          "series": "H",
          "time": 284
         },
         {
          "S": 207.7561155411291,
          "series": "S",
          "time": 285
         },
         {
          "E": 24.411205290259346,
          "series": "E",
          "time": 285
         },
         {
          "I": 26.74108276785217,
          "series": "I",
          "time": 285
         },
         {
          "R": 16.16008107777432,
          "series": "R",
          "time": 285
         },
         {
          "D": 213.51334264879003,
          "series": "D",
          "time": 285
         },
         {
          "H": 12.418172674194873,
          "series": "H",
          "time": 285
         },
         {
          "S": 207.11383789859,
          "series": "S",
          "time": 286
         },
         {
          "E": 24.336236063087703,
          "series": "E",
          "time": 286
         },
         {
          "I": 26.65902706555203,
          "series": "I",
          "time": 286
         },
         {
          "R": 16.1105168064228,
          "series": "R",
          "time": 286
         },
         {
          "D": 214.40029895759534,
          "series": "D",
          "time": 286
         },
         {
          "H": 12.380083208751994,
          "series": "H",
          "time": 286
         },
         {
          "S": 206.47358979797352,
          "series": "S",
          "time": 287
         },
         {
          "E": 24.261481284637675,
          "series": "E",
          "time": 287
         },
         {
          "I": 26.5772029628952,
          "series": "I",
          "time": 287
         },
         {
          "R": 16.061091368980204,
          "series": "R",
          "time": 287
         },
         {
          "D": 215.28453406265263,
          "series": "D",
          "time": 287
         },
         {
          "H": 12.342100522860646,
          "series": "H",
          "time": 287
         },
         {
          "S": 205.8353628471317,
          "series": "S",
          "time": 288
         },
         {
          "E": 24.18694105760401,
          "series": "E",
          "time": 288
         },
         {
          "I": 26.4956107224847,
          "series": "I",
          "time": 288
         },
         {
          "R": 16.01180497507549,
          "series": "R",
          "time": 288
         },
         {
          "D": 216.16605562430476,
          "series": "D",
          "time": 288
         },
         {
          "H": 12.304224773399207,
          "series": "H",
          "time": 288
         },
         {
          "S": 205.19914877568854,
          "series": "S",
          "time": 289
         },
         {
          "E": 24.11261544989171,
          "series": "E",
          "time": 289
         },
         {
          "I": 26.414250562063508,
          "series": "I",
          "time": 289
         },
         {
          "R": 15.962657804938384,
          "series": "R",
          "time": 289
         },
         {
          "D": 217.04487131257395,
          "series": "D",
          "time": 289
         },
         {
          "H": 12.266456094843788,
          "series": "H",
          "time": 289
         },
         {
          "S": 204.56493943035628,
          "series": "S",
          "time": 290
         },
         {
          "E": 24.038504496274808,
          "series": "E",
          "time": 290
         },
         {
          "I": 26.333122656633716,
          "series": "I",
          "time": 290
         },
         {
          "R": 15.913650010782431,
          "series": "R",
          "time": 290
         },
         {
          "D": 217.92098880563015,
          "series": "D",
          "time": 290
         },
         {
          "H": 12.22879460032252,
          "series": "H",
          "time": 290
         },
         {
          "S": 203.93272677045863,
          "series": "S",
          "time": 291
         },
         {
          "E": 23.964608199980447,
          "series": "E",
          "time": 291
         },
         {
          "I": 26.252227140480457,
          "series": "I",
          "time": 291
         },
         {
          "R": 15.864781718125927,
          "series": "R",
          "time": 291
         },
         {
          "D": 218.79441578833192,
          "series": "D",
          "time": 291
         },
         {
          "H": 12.191240382622528,
          "series": "H",
          "time": 291
         },
         {
          "S": 203.3025028636521,
          "series": "S",
          "time": 292
         },
         {
          "E": 23.89092653420158,
          "series": "E",
          "time": 292
         },
         {
          "I": 26.171564109104853,
          "series": "I",
          "time": 292
         },
         {
          "R": 15.816053027053563,
          "series": "R",
          "time": 292
         },
         {
          "D": 219.66515995083614,
          "series": "D",
          "time": 292
         },
         {
          "H": 12.153793515151673,
          "series": "H",
          "time": 292
         },
         {
          "S": 202.6742598818363,
          "series": "S",
          "time": 293
         },
         {
          "E": 23.81745944354155,
          "series": "E",
          "time": 293
         },
         {
          "I": 26.091133621070025,
          "series": "I",
          "time": 293
         },
         {
          "R": 15.767464013421348,
          "series": "R",
          "time": 293
         },
         {
          "D": 220.53322898727362,
          "series": "D",
          "time": 293
         },
         {
          "H": 12.116454052857069,
          "series": "H",
          "time": 293
         },
         {
          "S": 202.04799009724502,
          "series": "S",
          "time": 294
         },
         {
          "E": 23.74420684539347,
          "series": "E",
          "time": 294
         },
         {
          "I": 26.010935699764016,
          "series": "I",
          "time": 294
         },
         {
          "R": 15.719014730007396,
          "series": "R",
          "time": 294
         },
         {
          "D": 221.3986305944877,
          "series": "D",
          "time": 294
         },
         {
          "H": 12.079222033102317,
          "series": "H",
          "time": 294
         },
         {
          "S": 201.4236858787101,
          "series": "S",
          "time": 295
         },
         {
          "E": 23.67116863125739,
          "series": "E",
          "time": 295
         },
         {
          "I": 25.930970335083348,
          "series": "I",
          "time": 295
         },
         {
          "R": 15.67070520761091,
          "series": "R",
          "time": 295
         },
         {
          "D": 222.26137247083292,
          "series": "D",
          "time": 295
         },
         {
          "H": 12.04209747650526,
          "series": "H",
          "time": 295
         },
         {
          "S": 200.80133968809037,
          "series": "S",
          "time": 296
         },
         {
          "E": 23.598344667998035,
          "series": "E",
          "time": 296
         },
         {
          "I": 25.851237485040745,
          "series": "I",
          "time": 296
         },
         {
          "R": 15.622535456101742,
          "series": "R",
          "time": 296
         },
         {
          "D": 223.121462315031,
          "series": "D",
          "time": 296
         },
         {
          "H": 12.005080387738047,
          "series": "H",
          "time": 296
         },
         {
          "S": 200.18094407685817,
          "series": "S",
          "time": 297
         },
         {
          "E": 23.52573479904574,
          "series": "E",
          "time": 297
         },
         {
          "I": 25.771737077300394,
          "series": "I",
          "time": 297
         },
         {
          "R": 15.57450546542267,
          "series": "R",
          "time": 297
         },
         {
          "D": 223.9789078250818,
          "series": "D",
          "time": 297
         },
         {
          "H": 11.968170756291165,
          "series": "H",
          "time": 297
         },
         {
          "S": 199.5624916828368,
          "series": "S",
          "time": 298
         },
         {
          "E": 23.45333884554314,
          "series": "E",
          "time": 298
         },
         {
          "I": 25.692469010643983,
          "series": "I",
          "time": 298
         },
         {
          "R": 15.526615206546541,
          "series": "R",
          "time": 298
         },
         {
          "D": 224.8337166972264,
          "series": "D",
          "time": 298
         },
         {
          "H": 11.93136855720306,
          "series": "H",
          "time": 298
         },
         {
          "S": 198.9459752270817,
          "series": "S",
          "time": 299
         },
         {
          "E": 23.38115660744002,
          "series": "E",
          "time": 299
         },
         {
          "I": 25.613433156370615,
          "series": "I",
          "time": 299
         },
         {
          "R": 15.478864632390275,
          "series": "R",
          "time": 299
         },
         {
          "D": 225.68589662496044,
          "series": "D",
          "time": 299
         },
         {
          "H": 11.894673751756853,
          "series": "H",
          "time": 299
         },
         {
          "S": 198.33138751089953,
          "series": "S",
          "time": 300
         },
         {
          "E": 23.309187864538668,
          "series": "E",
          "time": 300
         },
         {
          "I": 25.53462935963353,
          "series": "I",
          "time": 300
         },
         {
          "R": 15.431253678687648,
          "series": "R",
          "time": 300
         },
         {
          "D": 226.53545529809486,
          "series": "D",
          "time": 300
         },
         {
          "H": 11.858086288145659,
          "series": "H",
          "time": 300
         },
         {
          "S": 197.71872141299838,
          "series": "S",
          "time": 301
         },
         {
          "E": 23.237432377491952,
          "series": "E",
          "time": 301
         },
         {
          "I": 25.456057440716485,
          "series": "I",
          "time": 301
         },
         {
          "R": 15.38378226482271,
          "series": "R",
          "time": 301
         },
         {
          "D": 227.38240040186247,
          "series": "D",
          "time": 301
         },
         {
          "H": 11.82160610210788,
          "series": "H",
          "time": 301
         },
         {
          "S": 197.10796988676384,
          "series": "S",
          "time": 302
         },
         {
          "E": 23.165889888756222,
          "series": "E",
          "time": 302
         },
         {
          "I": 25.377717196252462,
          "series": "I",
          "time": 302
         },
         {
          "R": 15.33645029462558,
          "series": "R",
          "time": 302
         },
         {
          "D": 228.22673961606793,
          "series": "D",
          "time": 302
         },
         {
          "H": 11.785233117533828,
          "series": "H",
          "time": 302
         },
         {
          "S": 196.49912595765494,
          "series": "S",
          "time": 303
         },
         {
          "E": 23.09456012350105,
          "series": "E",
          "time": 303
         },
         {
          "I": 25.299608400387317,
          "series": "I",
          "time": 303
         },
         {
          "R": 15.289257657132318,
          "series": "R",
          "time": 303
         },
         {
          "D": 229.06848061427928,
          "series": "D",
          "time": 303
         },
         {
          "H": 11.748967247044948,
          "series": "H",
          "time": 303
         },
         {
          "S": 195.89218272071477,
          "series": "S",
          "time": 304
         },
         {
          "E": 23.023442790477795,
          "series": "E",
          "time": 304
         },
         {
          "I": 25.22173080589079,
          "series": "I",
          "time": 304
         },
         {
          "R": 15.242204227310465,
          "series": "R",
          "time": 304
         },
         {
          "D": 229.90763106305914,
          "series": "D",
          "time": 304
         },
         {
          "H": 11.712808392546881,
          "series": "H",
          "time": 304
         },
         {
          "S": 195.28713333819064,
          "series": "S",
          "time": 305
         },
         {
          "E": 22.952537582848763,
          "series": "E",
          "time": 305
         },
         {
          "I": 25.144084145217285,
          "series": "I",
          "time": 305
         },
         {
          "R": 15.195289866751787,
          "series": "R",
          "time": 305
         },
         {
          "D": 230.74419862123383,
          "series": "D",
          "time": 305
         },
         {
          "H": 11.67675644575752,
          "series": "H",
          "time": 305
         },
         {
          "S": 194.68397103725883,
          "series": "S",
          "time": 306
         },
         {
          "E": 22.881844178978803,
          "series": "E",
          "time": 306
         },
         {
          "I": 25.066668131518618,
          "series": "I",
          "time": 306
         },
         {
          "R": 15.14851442433371,
          "series": "R",
          "time": 306
         },
         {
          "D": 231.57819093919866,
          "series": "D",
          "time": 306
         },
         {
          "H": 11.6408112887112,
          "series": "H",
          "time": 306
         },
         {
          "S": 194.08268910784938,
          "series": "S",
          "time": 307
         },
         {
          "E": 22.81136224319099,
          "series": "E",
          "time": 307
         },
         {
          "I": 24.989482459610933,
          "series": "I",
          "time": 307
         },
         {
          "R": 15.101877736850806,
          "series": "R",
          "time": 307
         },
         {
          "D": 232.40961565825765,
          "series": "D",
          "time": 307
         },
         {
          "H": 11.604972794240066,
          "series": "H",
          "time": 307
         },
         {
          "S": 193.48328090056626,
          "series": "S",
          "time": 308
         },
         {
          "E": 22.74109142648801,
          "series": "E",
          "time": 308
         },
         {
          "I": 24.912526806897798,
          "series": "I",
          "time": 308
         },
         {
          "R": 15.05537962961773,
          "series": "R",
          "time": 308
         },
         {
          "D": 233.23848040999636,
          "series": "D",
          "time": 308
         },
         {
          "H": 11.569240826433651,
          "series": "H",
          "time": 308
         },
         {
          "S": 192.88573982469896,
          "series": "S",
          "time": 309
         },
         {
          "E": 22.671031367240744,
          "series": "E",
          "time": 309
         },
         {
          "I": 24.835800834251472,
          "series": "I",
          "time": 309
         },
         {
          "R": 15.009019917044837,
          "series": "R",
          "time": 309
         },
         {
          "D": 234.06479281568613,
          "series": "D",
          "time": 309
         },
         {
          "H": 11.533615241077664,
          "series": "H",
          "time": 309
         },
         {
          "S": 192.29005934632104,
          "series": "S",
          "time": 310
         },
         {
          "E": 22.60118169184567,
          "series": "E",
          "time": 310
         },
         {
          "I": 24.759304186854212,
          "series": "I",
          "time": 310
         },
         {
          "R": 14.962798403187717,
          "series": "R",
          "time": 310
         },
         {
          "D": 234.8885604857183,
          "series": "D",
          "time": 310
         },
         {
          "H": 11.498095886072868,
          "series": "H",
          "time": 310
         },
         {
          "S": 191.696232986472,
          "series": "S",
          "time": 311
         },
         {
          "E": 22.53154201535228,
          "series": "E",
          "time": 311
         },
         {
          "I": 24.683036495001428,
          "series": "I",
          "time": 311
         },
         {
          "R": 14.916714882271844,
          "series": "R",
          "time": 311
         },
         {
          "D": 235.70979101906727,
          "series": "D",
          "time": 311
         },
         {
          "H": 11.462682601834993,
          "series": "H",
          "time": 311
         },
         {
          "S": 191.10425431941874,
          "series": "S",
          "time": 312
         },
         {
          "E": 22.462111942062016,
          "series": "E",
          "time": 312
         },
         {
          "I": 24.606997374868357,
          "series": "I",
          "time": 312
         },
         {
          "R": 14.870769139193413,
          "series": "R",
          "time": 312
         },
         {
          "D": 236.52849200278078,
          "series": "D",
          "time": 312
         },
         {
          "H": 11.427375221676511,
          "series": "H",
          "time": 312
         },
         {
          "S": 190.51411697099292,
          "series": "S",
          "time": 313
         },
         {
          "E": 22.39289106609995,
          "series": "E",
          "time": 313
         },
         {
          "I": 24.531186429241945,
          "series": "I",
          "time": 313
         },
         {
          "R": 14.824960949997472,
          "series": "R",
          "time": 313
         },
         {
          "D": 237.34467101149647,
          "series": "D",
          "time": 313
         },
         {
          "H": 11.392173572171076,
          "series": "H",
          "time": 313
         },
         {
          "S": 189.92581461700084,
          "series": "S",
          "time": 314
         },
         {
          "E": 22.323878971960422,
          "series": "E",
          "time": 314
         },
         {
          "I": 24.455603248219468,
          "series": "I",
          "time": 314
         },
         {
          "R": 14.779290082334333,
          "series": "R",
          "time": 314
         },
         {
          "D": 238.15833560698334,
          "series": "D",
          "time": 314
         },
         {
          "H": 11.35707747350143,
          "series": "H",
          "time": 314
         },
         {
          "S": 189.3393409817028,
          "series": "S",
          "time": 315
         },
         {
          "E": 22.255075235027828,
          "series": "E",
          "time": 315
         },
         {
          "I": 24.380247409875388,
          "series": "I",
          "time": 315
         },
         {
          "R": 14.733756295895272,
          "series": "R",
          "time": 315
         },
         {
          "D": 238.969493337707,
          "series": "D",
          "time": 315
         },
         {
          "H": 11.322086739791514,
          "series": "H",
          "time": 315
         },
         {
          "S": 188.75468983635858,
          "series": "S",
          "time": 316
         },
         {
          "E": 22.186479422073667,
          "series": "E",
          "time": 316
         },
         {
          "I": 24.30511848089789,
          "series": "I",
          "time": 316
         },
         {
          "R": 14.688359342828425,
          "series": "R",
          "time": 316
         },
         {
          "D": 239.77815173841776,
          "series": "D",
          "time": 316
         },
         {
          "H": 11.287201179423473,
          "series": "H",
          "time": 316
         },
         {
          "S": 188.1718549978361,
          "series": "S",
          "time": 317
         },
         {
          "E": 22.11809109173094,
          "series": "E",
          "time": 317
         },
         {
          "I": 24.230216017196444,
          "series": "I",
          "time": 317
         },
         {
          "R": 14.643098968135769,
          "series": "R",
          "time": 317
         },
         {
          "D": 240.58431832976026,
          "series": "D",
          "time": 317
         },
         {
          "H": 11.252420595340254,
          "series": "H",
          "time": 317
         },
         {
          "S": 187.59083032728066,
          "series": "S",
          "time": 318
         },
         {
          "E": 22.04990979494686,
          "series": "E",
          "time": 318
         },
         {
          "I": 24.15553956448171,
          "series": "I",
          "time": 318
         },
         {
          "R": 14.597974910052066,
          "series": "R",
          "time": 318
         },
         {
          "D": 241.38800061790403,
          "series": "D",
          "time": 318
         },
         {
          "H": 11.217744785334444,
          "series": "H",
          "time": 318
         },
         {
          "S": 187.0116097288417,
          "series": "S",
          "time": 319
         },
         {
          "E": 21.981935075414917,
          "series": "E",
          "time": 319
         },
         {
          "I": 24.081088658819017,
          "series": "I",
          "time": 319
         },
         {
          "R": 14.55298690040653,
          "series": "R",
          "time": 319
         },
         {
          "D": 242.18920609419365,
          "series": "D",
          "time": 319
         },
         {
          "H": 11.183173542323953,
          "series": "H",
          "time": 319
         },
         {
          "S": 186.4341871484549,
          "series": "S",
          "time": 320
         },
         {
          "E": 21.91416646998721,
          "series": "E",
          "time": 320
         },
         {
          "I": 24.0068628271566,
          "series": "I",
          "time": 320
         },
         {
          "R": 14.508134664968054,
          "series": "R",
          "time": 320
         },
         {
          "D": 242.98794223481787,
          "series": "D",
          "time": 320
         },
         {
          "H": 11.148706654615145,
          "series": "H",
          "time": 320
         },
         {
          "S": 185.85855657267675,
          "series": "S",
          "time": 321
         },
         {
          "E": 21.846603509067876,
          "series": "E",
          "time": 321
         },
         {
          "I": 23.93286158782976,
          "series": "I",
          "time": 321
         },
         {
          "R": 14.463417923774694,
          "series": "R",
          "time": 321
         },
         {
          "D": 243.7842165004967,
          "series": "D",
          "time": 321
         },
         {
          "H": 11.11434390615398,
          "series": "H",
          "time": 321
         },
         {
          "S": 185.2847120275695,
          "series": "S",
          "time": 322
         },
         {
          "E": 21.779245716988573,
          "series": "E",
          "time": 322
         },
         {
          "I": 23.85908445104201,
          "series": "I",
          "time": 322
         },
         {
          "R": 14.418836391448123,
          "series": "R",
          "time": 322
         },
         {
          "D": 244.57803633618585,
          "series": "D",
          "time": 322
         },
         {
          "H": 11.0800850767657,
          "series": "H",
          "time": 322
         },
         {
          "S": 184.7126475776342,
          "series": "S",
          "time": 323
         },
         {
          "E": 21.712092612366728,
          "series": "E",
          "time": 323
         },
         {
          "I": 23.78553091932422,
          "series": "I",
          "time": 323
         },
         {
          "R": 14.374389777493757,
          "series": "R",
          "time": 323
         },
         {
          "D": 245.36940917079727,
          "series": "D",
          "time": 323
         },
         {
          "H": 11.045929942383585,
          "series": "H",
          "time": 323
         },
         {
          "S": 184.14235732478943,
          "series": "S",
          "time": 324
         },
         {
          "E": 21.64514370844739,
          "series": "E",
          "time": 324
         },
         {
          "I": 23.712200487972826,
          "series": "I",
          "time": 324
         },
         {
          "R": 14.330077786587166,
          "series": "R",
          "time": 324
         },
         {
          "D": 246.15834241693568,
          "series": "D",
          "time": 324
         },
         {
          "H": 11.011878275267263,
          "series": "H",
          "time": 324
         },
         {
          "S": 183.57383540739417,
          "series": "S",
          "time": 325
         },
         {
          "E": 21.57839851342939,
          "series": "E",
          "time": 325
         },
         {
          "I": 23.63909264546794,
          "series": "I",
          "time": 325
         },
         {
          "R": 14.28590011884741,
          "series": "R",
          "time": 325
         },
         {
          "D": 246.9448434706498,
          "series": "D",
          "time": 325
         },
         {
          "H": 10.97792984421104,
          "series": "H",
          "time": 325
         },
         {
          "S": 183.00707599931224,
          "series": "S",
          "time": 326
         },
         {
          "E": 21.511856530776566,
          "series": "E",
          "time": 326
         },
         {
          "I": 23.566206873872357,
          "series": "I",
          "time": 326
         },
         {
          "R": 14.24185647009788,
          "series": "R",
          "time": 326
         },
         {
          "D": 247.72891971119802,
          "series": "D",
          "time": 326
         },
         {
          "H": 10.944084414742719,
          "series": "H",
          "time": 326
         },
         {
          "S": 182.44207330901685,
          "series": "S",
          "time": 327
         },
         {
          "E": 21.4455172595146,
          "series": "E",
          "time": 327
         },
         {
          "I": 23.493542649212294,
          "series": "I",
          "time": 327
         },
         {
          "R": 14.197946532115196,
          "series": "R",
          "time": 327
         },
         {
          "D": 248.5105785008275,
          "series": "D",
          "time": 327
         },
         {
          "H": 10.910341749313316,
          "series": "H",
          "time": 327
         },
         {
          "S": 181.87882157873344,
          "series": "S",
          "time": 328
         },
         {
          "E": 21.379380194514333,
          "series": "E",
          "time": 328
         },
         {
          "I": 23.421099441840646,
          "series": "I",
          "time": 328
         },
         {
          "R": 14.154169992866743,
          "series": "R",
          "time": 328
         },
         {
          "D": 249.28982718456652,
          "series": "D",
          "time": 328
         },
         {
          "H": 10.876701607478086,
          "series": "H",
          "time": 328
         },
         {
          "S": 181.31731508361878,
          "series": "S",
          "time": 329
         },
         {
          "E": 21.313444826761952,
          "series": "E",
          "time": 329
         },
         {
          "I": 23.348876716783597,
          "series": "I",
          "time": 329
         },
         {
          "R": 14.110526536737275,
          "series": "R",
          "time": 329
         },
         {
          "D": 250.0666730900289,
          "series": "D",
          "time": 329
         },
         {
          "H": 10.843163746069266,
          "series": "H",
          "time": 329
         },
         {
          "S": 180.75754813097515,
          "series": "S",
          "time": 330
         },
         {
          "E": 21.247710643616752,
          "series": "E",
          "time": 330
         },
         {
          "I": 23.27687393407133,
          "series": "I",
          "time": 330
         },
         {
          "R": 14.067015844745187,
          "series": "R",
          "time": 330
         },
         {
          "D": 250.84112352723045,
          "series": "D",
          "time": 330
         },
         {
          "H": 10.809727919360887,
          "series": "H",
          "time": 330
         },
         {
          "S": 180.19951505949768,
          "series": "S",
          "time": 331
         },
         {
          "E": 21.182177129057035,
          "series": "E",
          "time": 331
         },
         {
          "I": 23.205090549053498,
          "series": "I",
          "time": 331
         },
         {
          "R": 14.023637594748818,
          "series": "R",
          "time": 331
         },
         {
          "D": 251.61318578841667,
          "series": "D",
          "time": 331
         },
         {
          "H": 10.776393879226031,
          "series": "H",
          "time": 331
         },
         {
          "S": 179.6432102385535,
          "series": "S",
          "time": 332
         },
         {
          "E": 21.116843763914623,
          "series": "E",
          "time": 332
         },
         {
          "I": 23.133526012700244,
          "series": "I",
          "time": 332
         },
         {
          "R": 13.980391461643306,
          "series": "R",
          "time": 332
         },
         {
          "D": 252.3828671479012,
          "series": "D",
          "time": 332
         },
         {
          "H": 10.743161375286865,
          "series": "H",
          "time": 332
         },
         {
          "S": 179.08862806749121,
          "series": "S",
          "time": 333
         },
         {
          "E": 21.05171002609857,
          "series": "E",
          "time": 333
         },
         {
          "I": 23.062179771889305,
          "series": "I",
          "time": 333
         },
         {
          "R": 13.937277117548392,
          "series": "R",
          "time": 333
         },
         {
          "D": 253.1501748619145,
          "series": "D",
          "time": 333
         },
         {
          "H": 10.710030155057769,
          "series": "H",
          "time": 333
         },
         {
          "S": 178.53576297497946,
          "series": "S",
          "time": 334
         },
         {
          "E": 20.986775390808504,
          "series": "E",
          "time": 334
         },
         {
          "I": 22.991051269679925,
          "series": "I",
          "time": 334
         },
         {
          "R": 13.894294231987578,
          "series": "R",
          "time": 334
         },
         {
          "D": 253.9151161684624,
          "series": "D",
          "time": 334
         },
         {
          "H": 10.676999964081894,
          "series": "H",
          "time": 334
         },
         {
          "S": 177.9846094183732,
          "series": "S",
          "time": 335
         },
         {
          "E": 20.9220393307381,
          "series": "E",
          "time": 335
         },
         {
          "I": 22.920139945574128,
          "series": "I",
          "time": 335
         },
         {
          "R": 13.85144247205904,
          "series": "R",
          "time": 335
         },
         {
          "D": 254.67769828719386,
          "series": "D",
          "time": 335
         },
         {
          "H": 10.644070546061414,
          "series": "H",
          "time": 335
         },
         {
          "S": 177.43516188310636,
          "series": "S",
          "time": 336
         },
         {
          "E": 20.857501316269122,
          "series": "E",
          "time": 336
         },
         {
          "I": 22.84944523576591,
          "series": "I",
          "time": 336
         },
         {
          "R": 13.808721502598663,
          "series": "R",
          "time": 336
         },
         {
          "D": 255.4379284192779,
          "series": "D",
          "time": 336
         },
         {
          "H": 10.611241642981794,
          "series": "H",
          "time": 336
         },
         {
          "S": 176.88741488210982,
          "series": "S",
          "time": 337
         },
         {
          "E": 20.79316081565644,
          "series": "E",
          "time": 337
         },
         {
          "I": 22.77896657337893,
          "series": "I",
          "time": 337
         },
         {
          "R": 13.76613098633556,
          "series": "R",
          "time": 337
         },
         {
          "D": 256.1958137472887,
          "series": "D",
          "time": 337
         },
         {
          "H": 10.578512995230305,
          "series": "H",
          "time": 337
         },
         {
          "S": 176.34136295525354,
          "series": "S",
          "time": 338
         },
         {
          "E": 20.72901729520446,
          "series": "E",
          "time": 338
         },
         {
          "I": 22.708703388693202,
          "series": "I",
          "time": 338
         },
         {
          "R": 13.723670584040397,
          "series": "R",
          "time": 338
         },
         {
          "D": 256.95136143509905,
          "series": "D",
          "time": 338
         },
         {
          "H": 10.545884341709076,
          "series": "H",
          "time": 338
         },
         {
          "S": 175.79700066881182,
          "series": "S",
          "time": 339
         },
         {
          "E": 20.665070219435346,
          "series": "E",
          "time": 339
         },
         {
          "I": 22.638655109361267,
          "series": "I",
          "time": 339
         },
         {
          "R": 13.681339954666875,
          "series": "R",
          "time": 339
         },
         {
          "D": 257.70457862778153,
          "series": "D",
          "time": 339
         },
         {
          "H": 10.513355419942913,
          "series": "H",
          "time": 339
         },
         {
          "S": 175.25432261495035,
          "series": "S",
          "time": 340
         },
         {
          "E": 20.601319051249405,
          "series": "E",
          "time": 340
         },
         {
          "I": 22.568821160614352,
          "series": "I",
          "time": 340
         },
         {
          "R": 13.63913875548665,
          "series": "R",
          "time": 340
         },
         {
          "D": 258.45547245151687,
          "series": "D",
          "time": 340
         },
         {
          "H": 10.480925966182133,
          "series": "H",
          "time": 340
         },
         {
          "S": 174.7133234112347,
          "series": "S",
          "time": 341
         },
         {
          "E": 20.537763252077944,
          "series": "E",
          "time": 341
         },
         {
          "I": 22.49920096545896,
          "series": "I",
          "time": 341
         },
         {
          "R": 13.597066642218012,
          "series": "R",
          "time": 341
         },
         {
          "D": 259.2040500135095,
          "series": "D",
          "time": 341
         },
         {
          "H": 10.44859571550062,
          "series": "H",
          "time": 341
         },
         {
          "S": 174.17399770015857,
          "series": "S",
          "time": 342
         },
         {
          "E": 20.474402282029047,
          "series": "E",
          "time": 342
         },
         {
          "I": 22.429793944864308,
          "series": "I",
          "time": 342
         },
         {
          "R": 13.555123269148584,
          "series": "R",
          "time": 342
         },
         {
          "D": 259.9503184019099,
          "series": "D",
          "time": 342
         },
         {
          "H": 10.416364401889345,
          "series": "H",
          "time": 342
         },
         {
          "S": 173.6363401486913,
          "series": "S",
          "time": 343
         },
         {
          "E": 20.411235600026476,
          "series": "E",
          "time": 343
         },
         {
          "I": 22.360599517941026,
          "series": "I",
          "time": 343
         },
         {
          "R": 13.513308289252329,
          "series": "R",
          "time": 343
         },
         {
          "D": 260.69428468574307,
          "series": "D",
          "time": 343
         },
         {
          "H": 10.384231758345527,
          "series": "H",
          "time": 343
         },
         {
          "S": 173.1003454478439,
          "series": "S",
          "time": 344
         },
         {
          "E": 20.348262663942066,
          "series": "E",
          "time": 344
         },
         {
          "I": 22.291617102111545,
          "series": "I",
          "time": 344
         },
         {
          "R": 13.471621354301108,
          "series": "R",
          "time": 344
         },
         {
          "D": 261.4359559148434,
          "series": "D",
          "time": 344
         },
         {
          "H": 10.352197516957656,
          "series": "H",
          "time": 344
         },
         {
          "S": 172.5660083122525,
          "series": "S",
          "time": 345
         },
         {
          "E": 20.285482930721912,
          "series": "E",
          "time": 345
         },
         {
          "I": 22.222846113272503,
          "series": "I",
          "time": 345
         },
         {
          "R": 13.430062114971047,
          "series": "R",
          "time": 345
         },
         {
          "D": 262.1753391197952,
          "series": "D",
          "time": 345
         },
         {
          "H": 10.320261408986545,
          "series": "H",
          "time": 345
         },
         {
          "S": 172.03332347977843,
          "series": "S",
          "time": 346
         },
         {
          "E": 20.222895856506618,
          "series": "E",
          "time": 346
         },
         {
          "I": 22.154285965949573,
          "series": "I",
          "time": 346
         },
         {
          "R": 13.388630220943936,
          "series": "R",
          "time": 346
         },
         {
          "D": 262.9124413118785,
          "series": "D",
          "time": 346
         },
         {
          "H": 10.288423164942609,
          "series": "H",
          "time": 346
         },
         {
          "S": 171.50228571112444,
          "series": "S",
          "time": 347
         },
         {
          "E": 20.160500896745837,
          "series": "E",
          "time": 347
         },
         {
          "I": 22.085936073445037,
          "series": "I",
          "time": 347
         },
         {
          "R": 13.34732532100389,
          "series": "R",
          "time": 347
         },
         {
          "D": 263.647269483021,
          "series": "D",
          "time": 347
         },
         {
          "H": 10.256682514659525,
          "series": "H",
          "time": 347
         },
         {
          "S": 170.97288978946617,
          "series": "S",
          "time": 348
         },
         {
          "E": 20.098297506307468,
          "series": "E",
          "time": 348
         },
         {
          "I": 22.017795847978405,
          "series": "I",
          "time": 348
         },
         {
          "R": 13.306147063129501,
          "series": "R",
          "time": 348
         },
         {
          "D": 264.37983060575374,
          "series": "D",
          "time": 348
         },
         {
          "H": 10.225039187364448,
          "series": "H",
          "time": 348
         },
         {
          "S": 170.4451305200981,
          "series": "S",
          "time": 349
         },
         {
          "E": 20.036285139581604,
          "series": "E",
          "time": 349
         },
         {
          "I": 21.949864700820456,
          "series": "I",
          "time": 349
         },
         {
          "R": 13.265095094581646,
          "series": "R",
          "time": 349
         },
         {
          "D": 265.11013163317295,
          "series": "D",
          "time": 349
         },
         {
          "H": 10.193492911744931,
          "series": "H",
          "time": 349
         },
         {
          "S": 169.91900273009367,
          "series": "S",
          "time": 350
         },
         {
          "E": 19.9744632505796,
          "series": "E",
          "time": 350
         },
         {
          "I": 21.882142042420945,
          "series": "I",
          "time": 350
         },
         {
          "R": 13.224169061987197,
          "series": "R",
          "time": 350
         },
         {
          "D": 265.83817949890556,
          "series": "D",
          "time": 350
         },
         {
          "H": 10.162043416012706,
          "series": "H",
          "time": 350
         },
         {
          "S": 169.39450126797843,
          "series": "S",
          "time": 351
         },
         {
          "E": 19.912831293028407,
          "series": "E",
          "time": 351
         },
         {
          "I": 21.814627282530285,
          "series": "I",
          "time": 351
         },
         {
          "R": 13.183368611418773,
          "series": "R",
          "time": 351
         },
         {
          "D": 266.5639811170793,
          "series": "D",
          "time": 351
         },
         {
          "H": 10.130690427964463,
          "series": "H",
          "time": 351
         },
         {
          "S": 168.87162100341612,
          "series": "S",
          "time": 352
         },
         {
          "E": 19.851388720460406,
          "series": "E",
          "time": 352
         },
         {
          "I": 21.747319830315487,
          "series": "I",
          "time": 352
         },
         {
          "R": 13.142693388470748,
          "series": "R",
          "time": 352
         },
         {
          "D": 267.28754338229714,
          "series": "D",
          "time": 352
         },
         {
          "H": 10.099433675039766,
          "series": "H",
          "time": 352
         },
         {
          "S": 168.35035682690688,
          "series": "S",
          "time": 353
         },
         {
          "E": 19.79013498629897,
          "series": "E",
          "time": 353
         },
         {
          "I": 21.680219094470573,
          "series": "I",
          "time": 353
         },
         {
          "R": 13.102143038331661,
          "series": "R",
          "time": 353
         },
         {
          "D": 268.00887316961536,
          "series": "D",
          "time": 353
         },
         {
          "H": 10.06827288437622,
          "series": "H",
          "time": 353
         },
         {
          "S": 167.83070364949694,
          "series": "S",
          "time": 354
         },
         {
          "E": 19.729069543939897,
          "series": "E",
          "time": 354
         },
         {
          "I": 21.613324483321787,
          "series": "I",
          "time": 354
         },
         {
          "R": 13.061717205853206,
          "series": "R",
          "time": 354
         },
         {
          "D": 268.7279773345258,
          "series": "D",
          "time": 354
         },
         {
          "H": 10.03720778286205,
          "series": "H",
          "time": 354
         },
         {
          "S": 167.3126564024996,
          "series": "S",
          "time": 355
         },
         {
          "E": 19.66819184682894,
          "series": "E",
          "time": 355
         },
         {
          "I": 21.546635404927756,
          "series": "I",
          "time": 355
         },
         {
          "R": 13.021415535615946,
          "series": "R",
          "time": 355
         },
         {
          "D": 269.4448627129413,
          "series": "D",
          "time": 355
         },
         {
          "H": 10.006238097186154,
          "series": "H",
          "time": 355
         },
         {
          "S": 166.7962100372267,
          "series": "S",
          "time": 356
         },
         {
          "E": 19.6075013485356,
          "series": "E",
          "time": 356
         },
         {
          "I": 21.480151267174907,
          "series": "I",
          "time": 356
         },
         {
          "R": 12.9812376719919,
          "series": "R",
          "time": 356
         },
         {
          "D": 270.1595361211848,
          "series": "D",
          "time": 356
         },
         {
          "H": 9.975363553885817,
          "series": "H",
          "time": 356
         },
         {
          "S": 166.2813595247301,
          "series": "S",
          "time": 357
         },
         {
          "E": 19.54699750282337,
          "series": "E",
          "time": 357
         },
         {
          "I": 21.41387147786828,
          "series": "I",
          "time": 357
         },
         {
          "R": 12.94118325920417,
          "series": "R",
          "time": 357
         },
         {
          "D": 270.87200435598163,
          "series": "D",
          "time": 357
         },
         {
          "H": 9.94458387939211,
          "series": "H",
          "time": 357
         },
         {
          "S": 165.76809985555317,
          "series": "S",
          "time": 358
         },
         {
          "E": 19.48667976371655,
          "series": "E",
          "time": 358
         },
         {
          "I": 21.347795444818015,
          "series": "I",
          "time": 358
         },
         {
          "R": 12.901251941383688,
          "series": "R",
          "time": 358
         },
         {
          "D": 271.58227419445507,
          "series": "D",
          "time": 358
         },
         {
          "H": 9.913898800073149,
          "series": "H",
          "time": 358
         },
         {
          "S": 165.25642603949123,
          "series": "S",
          "time": 359
         },
         {
          "E": 19.426547585563775,
          "series": "E",
          "time": 359
         },
         {
          "I": 21.281922575921662,
          "series": "I",
          "time": 359
         },
         {
          "R": 12.861443362623271,
          "series": "R",
          "time": 359
         },
         {
          "D": 272.29035239412445,
          "series": "D",
          "time": 359
         },
         {
          "H": 9.883308042275264,
          "series": "H",
          "time": 359
         },
         {
          "S": 164.74633310536086,
          "series": "S",
          "time": 360
         },
         {
          "E": 19.366600423098564,
          "series": "E",
          "time": 360
         },
         {
          "I": 21.21625227924252,
          "series": "I",
          "time": 360
         },
         {
          "R": 12.821757167029071,
          "series": "R",
          "time": 360
         },
         {
          "D": 272.9962456929064,
          "series": "D",
          "time": 360
         },
         {
          "H": 9.852811332362206,
          "series": "H",
          "time": 360
         },
         {
          "S": 164.23781610077782,
          "series": "S",
          "time": 361
         },
         {
          "E": 19.306837731496753,
          "series": "E",
          "time": 361
         },
         {
          "I": 21.150783963084205,
          "series": "I",
          "time": 361
         },
         {
          "R": 12.782192998769547,
          "series": "R",
          "time": 361
         },
         {
          "D": 273.69996080911886,
          "series": "D",
          "time": 361
         },
         {
          "H": 9.82240839675245,
          "series": "H",
          "time": 361
         },
         {
          "S": 163.73087009194288,
          "series": "S",
          "time": 362
         },
         {
          "E": 19.24725896643121,
          "series": "E",
          "time": 362
         },
         {
          "I": 21.085517036061542,
          "series": "I",
          "time": 362
         },
         {
          "R": 12.742750502122082,
          "series": "R",
          "time": 362
         },
         {
          "D": 274.4015044414872,
          "series": "D",
          "time": 362
         },
         {
          "H": 9.792098961954713,
          "series": "H",
          "time": 362
         },
         {
          "S": 163.22549016343544,
          "series": "S",
          "time": 363
         },
         {
          "E": 19.187863584123782,
          "series": "E",
          "time": 363
         },
         {
          "I": 21.02045090716809,
          "series": "I",
          "time": 363
         },
         {
          "R": 12.70342932151733,
          "series": "R",
          "time": 363
         },
         {
          "D": 275.10088326915326,
          "series": "D",
          "time": 363
         },
         {
          "H": 9.761882754601723,
          "series": "H",
          "time": 363
         },
         {
          "S": 162.72167141801447,
          "series": "S",
          "time": 364
         },
         {
          "E": 19.128651041394722,
          "series": "E",
          "time": 364
         },
         {
          "I": 20.955584985840275,
          "series": "I",
          "time": 364
         },
         {
          "R": 12.664229101581414,
          "series": "R",
          "time": 364
         },
         {
          "D": 275.79810395168636,
          "series": "D",
          "time": 364
         },
         {
          "H": 9.731759501482385,
          "series": "H",
          "time": 364
         },
         {
          "S": 162.21940897642654,
          "series": "S",
          "time": 365
         },
         {
          "E": 19.06962079570961,
          "series": "E",
          "time": 365
         },
         {
          "I": 20.890918682018434,
          "series": "I",
          "time": 365
         },
         {
          "R": 12.625149487176067,
          "series": "R",
          "time": 365
         },
         {
          "D": 276.49317312909665,
          "series": "D",
          "time": 365
         },
         {
          "H": 9.701728929572345,
          "series": "H",
          "time": 365
         },
         {
          "S": 161.7186979772205,
          "series": "S",
          "time": 366
         },
         {
          "E": 19.01077230522395,
          "series": "E",
          "time": 366
         },
         {
          "I": 20.826451406204836,
          "series": "I",
          "time": 366
         },
         {
          "R": 12.586190123436813,
          "series": "R",
          "time": 366
         },
         {
          "D": 277.1860974218505,
          "series": "D",
          "time": 366
         },
         {
          "H": 9.671790766063074,
          "series": "H",
          "time": 366
         },
         {
          "S": 161.2195335765687,
          "series": "S",
          "time": 367
         },
         {
          "E": 18.952105028825507,
          "series": "E",
          "time": 367
         },
         {
          "I": 20.762182569518828,
          "series": "I",
          "time": 367
         },
         {
          "R": 12.547350655809257,
          "series": "R",
          "time": 367
         },
         {
          "D": 277.87688343088786,
          "series": "D",
          "time": 367
         },
         {
          "H": 9.641944738389512,
          "series": "H",
          "time": 367
         },
         {
          "S": 160.72191094809426,
          "series": "S",
          "time": 368
         },
         {
          "E": 18.893618426174545,
          "series": "E",
          "time": 368
         },
         {
          "I": 20.69811158374924,
          "series": "I",
          "time": 368
         },
         {
          "R": 12.508630730083613,
          "series": "R",
          "time": 368
         },
         {
          "D": 278.56553773764165,
          "series": "D",
          "time": 368
         },
         {
          "H": 9.612190574256362,
          "series": "H",
          "time": 368
         },
         {
          "S": 160.2258252827043,
          "series": "S",
          "time": 369
         },
         {
          "E": 18.835311957741947,
          "series": "E",
          "time": 369
         },
         {
          "I": 20.63423786140421,
          "series": "I",
          "time": 369
         },
         {
          "R": 12.470029992427486,
          "series": "R",
          "time": 369
         },
         {
          "D": 279.25206690405867,
          "series": "D",
          "time": 369
         },
         {
          "H": 9.582528001663066,
          "series": "H",
          "time": 369
         },
         {
          "S": 159.73127178842873,
          "series": "S",
          "time": 370
         },
         {
          "E": 18.77718508484548,
          "series": "E",
          "time": 370
         },
         {
          "I": 20.57056081575843,
          "series": "I",
          "time": 370
         },
         {
          "R": 12.431548089417067,
          "series": "R",
          "time": 370
         },
         {
          "D": 279.9364774726224,
          "series": "D",
          "time": 370
         },
         {
          "H": 9.552956748927555,
          "series": "H",
          "time": 370
         },
         {
          "S": 159.2382456902644,
          "series": "S",
          "time": 371
         },
         {
          "E": 18.719237269684125,
          "series": "E",
          "time": 371
         },
         {
          "I": 20.507079860898113,
          "series": "I",
          "time": 371
         },
         {
          "R": 12.39318466806673,
          "series": "R",
          "time": 371
         },
         {
          "D": 280.61877596637754,
          "series": "D",
          "time": 371
         },
         {
          "H": 9.523476544708794,
          "series": "H",
          "time": 371
         },
         {
          "S": 158.74674223002438,
          "series": "S",
          "time": 372
         },
         {
          "E": 18.661467975370655,
          "series": "E",
          "time": 372
         },
         {
          "I": 20.443794411763616,
          "series": "I",
          "time": 372
         },
         {
          "R": 12.354939375857175,
          "series": "R",
          "time": 372
         },
         {
          "D": 281.2989688889557,
          "series": "D",
          "time": 372
         },
         {
          "H": 9.494087118028208,
          "series": "H",
          "time": 372
         },
         {
          "S": 158.25675666619225,
          "series": "S",
          "time": 373
         },
         {
          "E": 18.603876665962535,
          "series": "E",
          "time": 373
         },
         {
          "I": 20.380703884189902,
          "series": "I",
          "time": 373
         },
         {
          "R": 12.316811860762128,
          "series": "R",
          "time": 373
         },
         {
          "D": 281.9770627246029,
          "series": "D",
          "time": 373
         },
         {
          "H": 9.464788198290018,
          "series": "H",
          "time": 373
         },
         {
          "S": 157.76828427378095,
          "series": "S",
          "time": 374
         },
         {
          "E": 18.54646280649117,
          "series": "E",
          "time": 374
         },
         {
          "I": 20.31780769494496,
          "series": "I",
          "time": 374
         },
         {
          "R": 12.27880177127371,
          "series": "R",
          "time": 374
         },
         {
          "D": 282.6530639382084,
          "series": "D",
          "time": 374
         },
         {
          "H": 9.435579515300555,
          "series": "H",
          "time": 374
         },
         {
          "S": 157.28132034419616,
          "series": "S",
          "time": 375
         },
         {
          "E": 18.48922586298966,
          "series": "E",
          "time": 375
         },
         {
          "I": 20.255105261766207,
          "series": "I",
          "time": 375
         },
         {
          "R": 12.24090875642649,
          "series": "R",
          "time": 375
         },
         {
          "D": 283.32697897533467,
          "series": "D",
          "time": 375
         },
         {
          "H": 9.40646079928658,
          "series": "H",
          "time": 375
         },
         {
          "S": 156.795860185104,
          "series": "S",
          "time": 376
         },
         {
          "E": 18.43216530251901,
          "series": "E",
          "time": 376
         },
         {
          "I": 20.192596003395042,
          "series": "I",
          "time": 376
         },
         {
          "R": 12.203132465820325,
          "series": "R",
          "time": 376
         },
         {
          "D": 283.99881426224874,
          "series": "D",
          "time": 376
         },
         {
          "H": 9.377431780912662,
          "series": "H",
          "time": 376
         },
         {
          "S": 156.3118991203028,
          "series": "S",
          "time": 377
         },
         {
          "E": 18.375280593193004,
          "series": "E",
          "time": 377
         },
         {
          "I": 20.13027933960956,
          "series": "I",
          "time": 377
         },
         {
          "R": 12.16547254964201,
          "series": "R",
          "time": 377
         },
         {
          "D": 284.66857620595476,
          "series": "D",
          "time": 377
         },
         {
          "H": 9.348492191297671,
          "series": "H",
          "time": 377
         },
         {
          "S": 155.82943248959876,
          "series": "S",
          "time": 378
         },
         {
          "E": 18.318571204201692,
          "series": "E",
          "time": 378
         },
         {
          "I": 20.068154691255582,
          "series": "I",
          "time": 378
         },
         {
          "R": 12.127928658685805,
          "series": "R",
          "time": 378
         },
         {
          "D": 285.33627119422755,
          "series": "D",
          "time": 378
         },
         {
          "H": 9.319641762030404,
          "series": "H",
          "time": 378
         },
         {
          "S": 155.34845564868544,
          "series": "S",
          "time": 379
         },
         {
          "E": 18.26203660583361,
          "series": "E",
          "time": 379
         },
         {
          "I": 20.006221480276007,
          "series": "I",
          "time": 379
         },
         {
          "R": 12.090500444372903,
          "series": "R",
          "time": 379
         },
         {
          "D": 286.00190559564743,
          "series": "D",
          "time": 379
         },
         {
          "H": 9.290880225184395,
          "series": "H",
          "time": 379
         },
         {
          "S": 154.86896396902677,
          "series": "S",
          "time": 380
         },
         {
          "E": 18.20567626949678,
          "series": "E",
          "time": 380
         },
         {
          "I": 19.944479129738642,
          "series": "I",
          "time": 380
         },
         {
          "R": 12.053187558769855,
          "series": "R",
          "time": 380
         },
         {
          "D": 286.66548575963577,
          "series": "D",
          "time": 380
         },
         {
          "H": 9.262207313331944,
          "series": "H",
          "time": 380
         },
         {
          "S": 154.3909528377435,
          "series": "S",
          "time": 381
         },
         {
          "E": 18.149489667738553,
          "series": "E",
          "time": 381
         },
         {
          "I": 19.882927063862486,
          "series": "I",
          "time": 381
         },
         {
          "R": 12.015989654606027,
          "series": "R",
          "time": 381
         },
         {
          "D": 287.32701801649176,
          "series": "D",
          "time": 381
         },
         {
          "H": 9.233622759557408,
          "series": "H",
          "time": 381
         },
         {
          "S": 153.91441765750295,
          "series": "S",
          "time": 382
         },
         {
          "E": 18.093476274264294,
          "series": "E",
          "time": 382
         },
         {
          "I": 19.82156470804264,
          "series": "I",
          "time": 382
         },
         {
          "R": 11.97890638529013,
          "series": "R",
          "time": 382
         },
         {
          "D": 287.9865086774299,
          "series": "D",
          "time": 382
         },
         {
          "H": 9.205126297469773,
          "series": "H",
          "time": 382
         },
         {
          "S": 153.4393538464119,
          "series": "S",
          "time": 383
         },
         {
          "E": 18.037635563955085,
          "series": "E",
          "time": 383
         },
         {
          "I": 19.76039148887381,
          "series": "I",
          "time": 383
         },
         {
          "R": 11.941937404925852,
          "series": "R",
          "time": 383
         },
         {
          "D": 288.64396403461853,
          "series": "D",
          "time": 383
         },
         {
          "H": 9.176717661214555,
          "series": "H",
          "time": 383
         },
         {
          "S": 152.96575683791244,
          "series": "S",
          "time": 384
         },
         {
          "E": 17.981967012884322,
          "series": "E",
          "time": 384
         },
         {
          "I": 19.699406834172546,
          "series": "I",
          "time": 384
         },
         {
          "R": 11.90508236832664,
          "series": "R",
          "time": 384
         },
         {
          "D": 289.29939036121874,
          "series": "D",
          "time": 384
         },
         {
          "H": 9.148396585485044,
          "series": "H",
          "time": 384
         },
         {
          "S": 152.49362208068075,
          "series": "S",
          "time": 385
         },
         {
          "E": 17.926470098333414,
          "series": "E",
          "time": 385
         },
         {
          "I": 19.638610172998213,
          "series": "I",
          "time": 385
         },
         {
          "R": 11.868340931029683,
          "series": "R",
          "time": 385
         },
         {
          "D": 289.95279391142475,
          "series": "D",
          "time": 385
         },
         {
          "H": 9.12016280553294,
          "series": "H",
          "time": 385
         },
         {
          "S": 152.02294503852858,
          "series": "S",
          "time": 386
         },
         {
          "E": 17.871144298806545,
          "series": "E",
          "time": 386
         },
         {
          "I": 19.578000935672794,
          "series": "I",
          "time": 386
         },
         {
          "R": 11.831712749309105,
          "series": "R",
          "time": 386
         },
         {
          "D": 290.60418092050435,
          "series": "D",
          "time": 386
         },
         {
          "H": 9.0920160571784,
          "series": "H",
          "time": 386
         },
         {
          "S": 151.55372119030739,
          "series": "S",
          "time": 387
         },
         {
          "E": 17.815989094044514,
          "series": "E",
          "time": 387
         },
         {
          "I": 19.51757855379957,
          "series": "I",
          "time": 387
         },
         {
          "R": 11.795197480188437,
          "series": "R",
          "time": 387
         },
         {
          "D": 291.25355760484035,
          "series": "D",
          "time": 387
         },
         {
          "H": 9.063956076819508,
          "series": "H",
          "time": 387
         },
         {
          "S": 151.085946029815,
          "series": "S",
          "time": 388
         },
         {
          "E": 17.761003965037798,
          "series": "E",
          "time": 388
         },
         {
          "I": 19.457342460280714,
          "series": "I",
          "time": 388
         },
         {
          "R": 11.758794781452366,
          "series": "R",
          "time": 388
         },
         {
          "D": 291.90093016197267,
          "series": "D",
          "time": 388
         },
         {
          "H": 9.035982601441225,
          "series": "H",
          "time": 388
         },
         {
          "S": 150.61961506570466,
          "series": "S",
          "time": 389
         },
         {
          "E": 17.70618839403876,
          "series": "E",
          "time": 389
         },
         {
          "I": 19.397292089333842,
          "series": "I",
          "time": 389
         },
         {
          "R": 11.722504311657836,
          "series": "R",
          "time": 389
         },
         {
          "D": 292.54630477064086,
          "series": "D",
          "time": 389
         },
         {
          "H": 9.008095368623822,
          "series": "H",
          "time": 389
         },
         {
          "S": 150.15472382139635,
          "series": "S",
          "time": 390
         },
         {
          "E": 17.65154186457313,
          "series": "E",
          "time": 390
         },
         {
          "I": 19.337426876507628,
          "series": "I",
          "time": 390
         },
         {
          "R": 11.686325730144478,
          "series": "R",
          "time": 390
         },
         {
          "D": 293.18968759082736,
          "series": "D",
          "time": 390
         },
         {
          "H": 8.980294116550821,
          "series": "H",
          "time": 390
         },
         {
          "S": 149.69126783499038,
          "series": "S",
          "time": 391
         },
         {
          "E": 17.597063861450746,
          "series": "E",
          "time": 391
         },
         {
          "I": 19.27774625869642,
          "series": "I",
          "time": 391
         },
         {
          "R": 11.650258697044462,
          "series": "R",
          "time": 391
         },
         {
          "D": 293.8310847638013,
          "series": "D",
          "time": 391
         },
         {
          "H": 8.952578584016464,
          "series": "H",
          "time": 391
         },
         {
          "S": 149.22924265918314,
          "series": "S",
          "time": 392
         },
         {
          "E": 17.542753870775574,
          "series": "E",
          "time": 392
         },
         {
          "I": 19.21824967415403,
          "series": "I",
          "time": 392
         },
         {
          "R": 11.614302873291733,
          "series": "R",
          "time": 392
         },
         {
          "D": 294.47050241216255,
          "series": "D",
          "time": 392
         },
         {
          "H": 8.924948510432758,
          "series": "H",
          "time": 392
         },
         {
          "S": 148.7686438611847,
          "series": "S",
          "time": 393
         },
         {
          "E": 17.488611379955096,
          "series": "E",
          "time": 393
         },
         {
          "I": 19.158936562506625,
          "series": "I",
          "time": 393
         },
         {
          "R": 11.578457920630711,
          "series": "R",
          "time": 393
         },
         {
          "D": 295.1079466398866,
          "series": "D",
          "time": 393
         },
         {
          "H": 8.897403635836069,
          "series": "H",
          "time": 393
         },
         {
          "S": 148.30946702263844,
          "series": "S",
          "time": 394
         },
         {
          "E": 17.43463587770907,
          "series": "E",
          "time": 394
         },
         {
          "I": 19.099806364764817,
          "series": "I",
          "time": 394
         },
         {
          "R": 11.542723501624456,
          "series": "R",
          "time": 394
         },
         {
          "D": 295.7434235323697,
          "series": "D",
          "time": 394
         },
         {
          "H": 8.869943700893332,
          "series": "H",
          "time": 394
         },
         {
          "S": 147.85170773954263,
          "series": "S",
          "time": 395
         },
         {
          "E": 17.380826854077647,
          "series": "E",
          "time": 395
         },
         {
          "I": 19.040858523334986,
          "series": "I",
          "time": 395
         },
         {
          "R": 11.507099279662318,
          "series": "R",
          "time": 395
         },
         {
          "D": 296.3769391564744,
          "series": "D",
          "time": 395
         },
         {
          "H": 8.842568446907862,
          "series": "H",
          "time": 395
         },
         {
          "S": 147.39536162217365,
          "series": "S",
          "time": 396
         },
         {
          "E": 17.327183800428937,
          "series": "E",
          "time": 396
         },
         {
          "I": 18.982092482029877,
          "series": "I",
          "time": 396
         },
         {
          "R": 11.471584918967109,
          "series": "R",
          "time": 396
         },
         {
          "D": 297.0084995605755,
          "series": "D",
          "time": 396
         },
         {
          "H": 8.815277615824806,
          "series": "H",
          "time": 396
         },
         {
          "S": 146.94042429501093,
          "series": "S",
          "time": 397
         },
         {
          "E": 17.27370620946606,
          "series": "E",
          "time": 397
         },
         {
          "I": 18.923507686078437,
          "series": "I",
          "time": 397
         },
         {
          "R": 11.43618008460182,
          "series": "R",
          "time": 397
         },
         {
          "D": 297.6381107746064,
          "series": "D",
          "time": 397
         },
         {
          "H": 8.788070950236229,
          "series": "H",
          "time": 397
         },
         {
          "S": 146.48689139666365,
          "series": "S",
          "time": 398
         },
         {
          "E": 17.220393575233576,
          "series": "E",
          "time": 398
         },
         {
          "I": 18.865103582135056,
          "series": "I",
          "time": 398
         },
         {
          "R": 11.400884442475881,
          "series": "R",
          "time": 398
         },
         {
          "D": 298.2657788101058,
          "series": "D",
          "time": 398
         },
         {
          "H": 8.760948193385884,
          "series": "H",
          "time": 398
         },
         {
          "S": 146.0347585797988,
          "series": "S",
          "time": 399
         },
         {
          "E": 17.167245393123537,
          "series": "E",
          "time": 399
         },
         {
          "I": 18.806879618288104,
          "series": "I",
          "time": 399
         },
         {
          "R": 11.365697659351023,
          "series": "R",
          "time": 399
         },
         {
          "D": 298.8915096602648,
          "series": "D",
          "time": 399
         },
         {
          "H": 8.733909089173647,
          "series": "H",
          "time": 399
         },
         {
          "S": 145.58402151107083,
          "series": "S",
          "time": 400
         },
         {
          "E": 17.11426115988097,
          "series": "E",
          "time": 400
         },
         {
          "I": 18.74883524406788,
          "series": "I",
          "time": 400
         },
         {
          "R": 11.330619402846718,
          "series": "R",
          "time": 400
         },
         {
          "D": 299.5153092999738,
          "series": "D",
          "time": 400
         },
         {
          "H": 8.70695338215965,
          "series": "H",
          "time": 400
         },
         {
          "S": 145.1346758710529,
          "series": "S",
          "time": 401
         },
         {
          "E": 17.06144037360895,
          "series": "E",
          "time": 401
         },
         {
          "I": 18.690969910453994,
          "series": "I",
          "time": 401
         },
         {
          "R": 11.295649341445255,
          "series": "R",
          "time": 401
         },
         {
          "D": 300.13718368587064,
          "series": "D",
          "time": 401
         },
         {
          "H": 8.68008081756813,
          "series": "H",
          "time": 401
         },
         {
          "S": 144.6867173541692,
          "series": "S",
          "time": 402
         },
         {
          "E": 17.008782533773214,
          "series": "E",
          "time": 402
         },
         {
          "I": 18.63328306988215,
          "series": "I",
          "time": 402
         },
         {
          "R": 11.26078714449644,
          "series": "R",
          "time": 402
         },
         {
          "D": 300.7571387563879,
          "series": "D",
          "time": 402
         },
         {
          "H": 8.653291141290994,
          "series": "H",
          "time": 402
         },
         {
          "S": 144.2401416686287,
          "series": "S",
          "time": 403
         },
         {
          "E": 16.95628714120641,
          "series": "E",
          "time": 403
         },
         {
          "I": 18.575774176250444,
          "series": "I",
          "time": 403
         },
         {
          "R": 11.226032482221955,
          "series": "R",
          "time": 403
         },
         {
          "D": 301.3751804318013,
          "series": "D",
          "time": 403
         },
         {
          "H": 8.626584099891115,
          "series": "H",
          "time": 403
         },
         {
          "S": 143.7949445363604,
          "series": "S",
          "time": 404
         },
         {
          "E": 16.903953698111877,
          "series": "E",
          "time": 404
         },
         {
          "I": 18.51844268492513,
          "series": "I",
          "time": 404
         },
         {
          "R": 11.191385025719379,
          "series": "R",
          "time": 404
         },
         {
          "D": 301.99131461427777,
          "series": "D",
          "time": 404
         },
         {
          "H": 8.599959440605383,
          "series": "H",
          "time": 404
         },
         {
          "S": 143.3511216929494,
          "series": "S",
          "time": 405
         },
         {
          "E": 16.851781708067126,
          "series": "E",
          "time": 405
         },
         {
          "I": 18.4612880527459,
          "series": "I",
          "time": 405
         },
         {
          "R": 11.156844446965902,
          "series": "R",
          "time": 405
         },
         {
          "D": 302.60554718792406,
          "series": "D",
          "time": 405
         },
         {
          "H": 8.573416911347522,
          "series": "H",
          "time": 405
         },
         {
          "S": 142.90866888757444,
          "series": "S",
          "time": 406
         },
         {
          "E": 16.799770676026924,
          "series": "E",
          "time": 406
         },
         {
          "I": 18.40430973803073,
          "series": "I",
          "time": 406
         },
         {
          "R": 11.122410418821735,
          "series": "R",
          "time": 406
         },
         {
          "D": 303.21788401883543,
          "series": "D",
          "time": 406
         },
         {
          "H": 8.546956260710655,
          "series": "H",
          "time": 406
         },
         {
          "S": 142.4675818829464,
          "series": "S",
          "time": 407
         },
         {
          "E": 16.74792010832602,
          "series": "E",
          "time": 407
         },
         {
          "I": 18.347507200580253,
          "series": "I",
          "time": 407
         },
         {
          "R": 11.088082615033224,
          "series": "R",
          "time": 407
         },
         {
          "D": 303.82833095514434,
          "series": "D",
          "time": 407
         },
         {
          "H": 8.520577237969675,
          "series": "H",
          "time": 407
         },
         {
          "S": 142.02785645524793,
          "series": "S",
          "time": 408
         },
         {
          "E": 16.696229512681604,
          "series": "E",
          "time": 408
         },
         {
          "I": 18.290879901681745,
          "series": "I",
          "time": 408
         },
         {
          "R": 11.053860710235709,
          "series": "R",
          "time": 408
         },
         {
          "D": 304.4368938270695,
          "series": "D",
          "time": 408
         },
         {
          "H": 8.494279593083391,
          "series": "H",
          "time": 408
         },
         {
          "S": 141.58948839407407,
          "series": "S",
          "time": 409
         },
         {
          "E": 16.644698398195395,
          "series": "E",
          "time": 409
         },
         {
          "I": 18.23442730411269,
          "series": "I",
          "time": 409
         },
         {
          "R": 11.019744379956098,
          "series": "R",
          "time": 409
         },
         {
          "D": 305.04357844696517,
          "series": "D",
          "time": 409
         },
         {
          "H": 8.468063076696481,
          "series": "H",
          "time": 409
         },
         {
          "S": 141.1524735023739,
          "series": "S",
          "time": 410
         },
         {
          "E": 16.593326275355476,
          "series": "E",
          "time": 410
         },
         {
          "I": 18.17814887214398,
          "series": "I",
          "time": 410
         },
         {
          "R": 10.985733300615214,
          "series": "R",
          "time": 410
         },
         {
          "D": 305.6483906093701,
          "series": "D",
          "time": 410
         },
         {
          "H": 8.441927440141255,
          "series": "H",
          "time": 410
         },
         {
          "S": 140.71680759639312,
          "series": "S",
          "time": 411
         },
         {
          "E": 16.542112656037837,
          "series": "E",
          "time": 411
         },
         {
          "I": 18.122044071542742,
          "series": "I",
          "time": 411
         },
         {
          "R": 10.951827149529892,
          "series": "R",
          "time": 411
         },
         {
          "D": 306.2513360910571,
          "series": "D",
          "time": 411
         },
         {
          "H": 8.415872435439239,
          "series": "H",
          "time": 411
         },
         {
          "S": 140.28248650561753,
          "series": "S",
          "time": 412
         },
         {
          "E": 16.491057053507618,
          "series": "E",
          "time": 412
         },
         {
          "I": 18.066112369574835,
          "series": "I",
          "time": 412
         },
         {
          "R": 10.91802560491485,
          "series": "R",
          "time": 412
         },
         {
          "D": 306.8524206510825,
          "series": "D",
          "time": 412
         },
         {
          "H": 8.389897815302582,
          "series": "H",
          "time": 412
         },
         {
          "S": 139.84950607271733,
          "series": "S",
          "time": 413
         },
         {
          "E": 16.440158982420165,
          "series": "E",
          "time": 413
         },
         {
          "I": 18.010353235007,
          "series": "I",
          "time": 413
         },
         {
          "R": 10.88432834588436,
          "series": "R",
          "time": 413
         },
         {
          "D": 307.45165003083576,
          "series": "D",
          "time": 413
         },
         {
          "H": 8.364003333135305,
          "series": "H",
          "time": 413
         },
         {
          "S": 139.41786215349242,
          "series": "S",
          "time": 414
         },
         {
          "E": 16.38941795882178,
          "series": "E",
          "time": 414
         },
         {
          "I": 17.9547661381087,
          "series": "I",
          "time": 414
         },
         {
          "R": 10.850735052453684,
          "series": "R",
          "time": 414
         },
         {
          "D": 308.04902995408895,
          "series": "D",
          "time": 414
         },
         {
          "H": 8.338188743034385,
          "series": "H",
          "time": 414
         },
         {
          "S": 138.98755061681834,
          "series": "S",
          "time": 415
         },
         {
          "E": 16.338833500150265,
          "series": "E",
          "time": 415
         },
         {
          "I": 17.899350550653686,
          "series": "I",
          "time": 415
         },
         {
          "R": 10.81724540554035,
          "series": "R",
          "time": 415
         },
         {
          "D": 308.6445661270466,
          "series": "D",
          "time": 415
         },
         {
          "H": 8.312453799790699,
          "series": "H",
          "time": 415
         },
         {
          "S": 138.55856734459306,
          "series": "S",
          "time": 416
         },
         {
          "E": 16.28840512523526,
          "series": "E",
          "time": 416
         },
         {
          "I": 17.844105945921243,
          "series": "I",
          "time": 416
         },
         {
          "R": 10.783859086965212,
          "series": "R",
          "time": 416
         },
         {
          "D": 309.23826423839535,
          "series": "D",
          "time": 416
         },
         {
          "H": 8.286798258889826,
          "series": "H",
          "time": 416
         },
         {
          "S": 138.1309082316845,
          "series": "S",
          "time": 417
         },
         {
          "E": 16.23813235429833,
          "series": "E",
          "time": 417
         },
         {
          "I": 17.789031798697188,
          "series": "I",
          "time": 417
         },
         {
          "R": 10.750575779453351,
          "series": "R",
          "time": 417
         },
         {
          "D": 309.8301299593539,
          "series": "D",
          "time": 417
         },
         {
          "H": 8.261221876512701,
          "series": "H",
          "time": 417
         },
         {
          "S": 137.70456918587877,
          "series": "S",
          "time": 418
         },
         {
          "E": 16.188014708952906,
          "series": "E",
          "time": 418
         },
         {
          "I": 17.734127585274607,
          "series": "I",
          "time": 418
         },
         {
          "R": 10.717395166634798,
          "series": "R",
          "time": 418
         },
         {
          "D": 310.4201689437227,
          "series": "D",
          "time": 418
         },
         {
          "H": 8.235724409536154,
          "series": "H",
          "time": 418
         },
         {
          "S": 137.27954612782918,
          "series": "S",
          "time": 419
         },
         {
          "E": 16.13805171220399,
          "series": "E",
          "time": 419
         },
         {
          "I": 17.67939278345434,
          "series": "I",
          "time": 419
         },
         {
          "R": 10.684316933045094,
          "series": "R",
          "time": 419
         },
         {
          "D": 311.008386827934,
          "series": "D",
          "time": 419
         },
         {
          "H": 8.210305615533324,
          "series": "H",
          "time": 419
         },
         {
          "S": 136.85583499100568,
          "series": "S",
          "time": 420
         },
         {
          "E": 16.088242888447702,
          "series": "E",
          "time": 420
         },
         {
          "I": 17.624826872545235,
          "series": "I",
          "time": 420
         },
         {
          "R": 10.651340764125708,
          "series": "R",
          "time": 420
         },
         {
          "D": 311.59478923110163,
          "series": "D",
          "time": 420
         },
         {
          "H": 8.18496525277395,
          "series": "H",
          "time": 420
         },
         {
          "S": 136.4334317216452,
          "series": "S",
          "time": 421
         },
         {
          "E": 16.038587763470666,
          "series": "E",
          "time": 421
         },
         {
          "I": 17.570429333364185,
          "series": "I",
          "time": 421
         },
         {
          "R": 10.618466346224295,
          "series": "R",
          "time": 421
         },
         {
          "D": 312.179381755071,
          "series": "D",
          "time": 421
         },
         {
          "H": 8.159703080224551,
          "series": "H",
          "time": 421
         },
         {
          "S": 136.01233227870253,
          "series": "S",
          "time": 422
         },
         {
          "E": 15.989085864449187,
          "series": "E",
          "time": 422
         },
         {
          "I": 17.51619964823595,
          "series": "I",
          "time": 422
         },
         {
          "R": 10.58569336659483,
          "series": "R",
          "time": 422
         },
         {
          "D": 312.7621699844689,
          "series": "D",
          "time": 422
         },
         {
          "H": 8.134518857548512,
          "series": "H",
          "time": 422
         },
         {
          "S": 135.59253263380162,
          "series": "S",
          "time": 423
         },
         {
          "E": 15.939736719948337,
          "series": "E",
          "time": 423
         },
         {
          "I": 17.46213730099277,
          "series": "I",
          "time": 423
         },
         {
          "R": 10.553021513397592,
          "series": "R",
          "time": 423
         },
         {
          "D": 313.34315948675356,
          "series": "D",
          "time": 423
         },
         {
          "H": 8.109412345106051,
          "series": "H",
          "time": 423
         },
         {
          "S": 135.17402877118775,
          "series": "S",
          "time": 424
         },
         {
          "E": 15.890539859920825,
          "series": "E",
          "time": 424
         },
         {
          "I": 17.40824177697379,
          "series": "I",
          "time": 424
         },
         {
          "R": 10.520450475699038,
          "series": "R",
          "time": 424
         },
         {
          "D": 313.9223558122644,
          "series": "D",
          "time": 424
         },
         {
          "H": 8.084383303954105,
          "series": "H",
          "time": 424
         },
         {
          "S": 134.75681668768,
          "series": "S",
          "time": 425
         },
         {
          "E": 15.841494815705785,
          "series": "E",
          "time": 425
         },
         {
          "I": 17.354512563024315,
          "series": "I",
          "time": 425
         },
         {
          "R": 10.487979943471542,
          "series": "R",
          "time": 425
         },
         {
          "D": 314.4997644942722,
          "series": "D",
          "time": 425
         },
         {
          "H": 8.059431495846118,
          "series": "H",
          "time": 425
         },
         {
          "S": 134.34089239262428,
          "series": "S",
          "time": 426
         },
         {
          "E": 15.792601120027397,
          "series": "E",
          "time": 426
         },
         {
          "I": 17.300949147494872,
          "series": "I",
          "time": 426
         },
         {
          "R": 10.455609607593038,
          "series": "R",
          "time": 426
         },
         {
          "D": 315.0753910490286,
          "series": "D",
          "time": 426
         },
         {
          "H": 8.03455668323174,
          "series": "H",
          "time": 426
         },
         {
          "S": 133.92625190784716,
          "series": "S",
          "time": 427
         },
         {
          "E": 15.743858306993381,
          "series": "E",
          "time": 427
         },
         {
          "I": 17.247551020240127,
          "series": "I",
          "time": 427
         },
         {
          "R": 10.423339159846538,
          "series": "R",
          "time": 427
         },
         {
          "D": 315.64924097581627,
          "series": "D",
          "time": 427
         },
         {
          "H": 8.00975862925645,
          "series": "H",
          "time": 427
         },
         {
          "S": 133.51289126760966,
          "series": "S",
          "time": 428
         },
         {
          "E": 15.695265912093397,
          "series": "E",
          "time": 428
         },
         {
          "I": 17.19431767261762,
          "series": "I",
          "time": 428
         },
         {
          "R": 10.391168292919554,
          "series": "R",
          "time": 428
         },
         {
          "D": 316.2213197569986,
          "series": "D",
          "time": 428
         },
         {
          "H": 7.985037097761093,
          "series": "H",
          "time": 428
         },
         {
          "S": 133.10080651856208,
          "series": "S",
          "time": 429
         },
         {
          "E": 15.646823472197294,
          "series": "E",
          "time": 429
         },
         {
          "I": 17.14124859748636,
          "series": "I",
          "time": 429
         },
         {
          "R": 10.359096700403422,
          "series": "R",
          "time": 429
         },
         {
          "D": 316.7916328580694,
          "series": "D",
          "time": 429
         },
         {
          "H": 7.96039185328135,
          "series": "H",
          "time": 429
         },
         {
          "S": 132.68999371969886,
          "series": "S",
          "time": 430
         },
         {
          "E": 15.598530525553267,
          "series": "E",
          "time": 430
         },
         {
          "I": 17.088343289205312,
          "series": "I",
          "time": 430
         },
         {
          "R": 10.327124076792527,
          "series": "R",
          "time": 430
         },
         {
          "D": 317.36018572770286,
          "series": "D",
          "time": 430
         },
         {
          "H": 7.935822661047128,
          "series": "H",
          "time": 430
         },
         {
          "S": 132.2804489423141,
          "series": "S",
          "time": 431
         },
         {
          "E": 15.550386611785923,
          "series": "E",
          "time": 431
         },
         {
          "I": 17.03560124363169,
          "series": "I",
          "time": 431
         },
         {
          "R": 10.295250117483452,
          "series": "R",
          "time": 431
         },
         {
          "D": 317.9269837978029,
          "series": "D",
          "time": 431
         },
         {
          "H": 7.911329286981889,
          "series": "H",
          "time": 431
         },
         {
          "S": 131.8721682699575,
          "series": "S",
          "time": 432
         },
         {
          "E": 15.502391271894234,
          "series": "E",
          "time": 432
         },
         {
          "I": 16.98302195811916,
          "series": "I",
          "time": 432
         },
         {
          "R": 10.263474518774027,
          "series": "R",
          "time": 432
         },
         {
          "D": 318.4920324835531,
          "series": "D",
          "time": 432
         },
         {
          "H": 7.886911497701911,
          "series": "H",
          "time": 432
         },
         {
          "S": 131.46514779839066,
          "series": "S",
          "time": 433
         },
         {
          "E": 15.45454404824939,
          "series": "E",
          "time": 433
         },
         {
          "I": 16.930604931515916,
          "series": "I",
          "time": 433
         },
         {
          "R": 10.231796977862308,
          "series": "R",
          "time": 433
         },
         {
          "D": 319.0553371834662,
          "series": "D",
          "time": 433
         },
         {
          "H": 7.862569060515492,
          "series": "H",
          "time": 433
         },
         {
          "S": 131.0593836355437,
          "series": "S",
          "time": 434
         },
         {
          "E": 15.406844484592575,
          "series": "E",
          "time": 434
         },
         {
          "I": 16.878349664162634,
          "series": "I",
          "time": 434
         },
         {
          "R": 10.200217192845471,
          "series": "R",
          "time": 434
         },
         {
          "D": 319.6169032794335,
          "series": "D",
          "time": 434
         },
         {
          "H": 7.8383017434220905,
          "series": "H",
          "time": 434
         },
         {
          "S": 130.6548719014725,
          "series": "S",
          "time": 435
         },
         {
          "E": 15.359292126032667,
          "series": "E",
          "time": 435
         },
         {
          "I": 16.82625565789032,
          "series": "I",
          "time": 435
         },
         {
          "R": 10.168734862718651,
          "series": "R",
          "time": 435
         },
         {
          "D": 320.1767361367744,
          "series": "D",
          "time": 435
         },
         {
          "H": 7.814109315111415,
          "series": "H",
          "time": 435
         },
         {
          "S": 130.251608728316,
          "series": "S",
          "time": 436
         },
         {
          "E": 15.31188651904384,
          "series": "E",
          "time": 436
         },
         {
          "I": 16.774322416018055,
          "series": "I",
          "time": 436
         },
         {
          "R": 10.137349687373685,
          "series": "R",
          "time": 436
         },
         {
          "D": 320.7348411042859,
          "series": "D",
          "time": 436
         },
         {
          "H": 7.789991544962461,
          "series": "H",
          "time": 436
         },
         {
          "S": 129.84959026025427,
          "series": "S",
          "time": 437
         },
         {
          "E": 15.264627211463099,
          "series": "E",
          "time": 437
         },
         {
          "I": 16.72254944335063,
          "series": "I",
          "time": 437
         },
         {
          "R": 10.10606136759782,
          "series": "R",
          "time": 437
         },
         {
          "D": 321.29122351429163,
          "series": "D",
          "time": 437
         },
         {
          "H": 7.765948203042493,
          "series": "H",
          "time": 437
         },
         {
          "S": 129.44881265346646,
          "series": "S",
          "time": 438
         },
         {
          "E": 15.217513752487744,
          "series": "E",
          "time": 438
         },
         {
          "I": 16.67093624617611,
          "series": "I",
          "time": 438
         },
         {
          "R": 10.07486960507233,
          "series": "R",
          "time": 438
         },
         {
          "D": 321.84588868269134,
          "series": "D",
          "time": 438
         },
         {
          "H": 7.741979060105989,
          "series": "H",
          "time": 438
         },
         {
          "S": 129.04927207608944,
          "series": "S",
          "time": 439
         },
         {
          "E": 15.170545692672766,
          "series": "E",
          "time": 439
         },
         {
          "I": 16.619482332263285,
          "series": "I",
          "time": 439
         },
         {
          "R": 10.043774102371104,
          "series": "R",
          "time": 439
         },
         {
          "D": 322.39884190900983,
          "series": "D",
          "time": 439
         },
         {
          "H": 7.7180838875935285,
          "series": "H",
          "time": 439
         },
         {
          "S": 128.65096470817667,
          "series": "S",
          "time": 440
         },
         {
          "E": 15.123722583928183,
          "series": "E",
          "time": 440
         },
         {
          "I": 16.568187210859048,
          "series": "I",
          "time": 440
         },
         {
          "R": 10.01277456295915,
          "series": "R",
          "time": 440
         },
         {
          "D": 322.95008847644624,
          "series": "D",
          "time": 440
         },
         {
          "H": 7.694262457630649,
          "series": "H",
          "time": 440
         },
         {
          "S": 128.25388674165728,
          "series": "S",
          "time": 441
         },
         {
          "E": 15.077043979516311,
          "series": "E",
          "time": 441
         },
         {
          "I": 16.517050392685697,
          "series": "I",
          "time": 441
         },
         {
          "R": 9.981870691191059,
          "series": "R",
          "time": 441
         },
         {
          "D": 323.4996336519229,
          "series": "D",
          "time": 441
         },
         {
          "H": 7.670514543026656,
          "series": "H",
          "time": 441
         },
         {
          "S": 127.85803438029565,
          "series": "S",
          "time": 442
         },
         {
          "E": 15.030509434048968,
          "series": "E",
          "time": 442
         },
         {
          "I": 16.46607138993815,
          "series": "I",
          "time": 442
         },
         {
          "R": 9.95106219230943,
          "series": "R",
          "time": 442
         },
         {
          "D": 324.04748268613434,
          "series": "D",
          "time": 442
         },
         {
          "H": 7.646839917273397,
          "series": "H",
          "time": 442
         },
         {
          "S": 127.46340383965112,
          "series": "S",
          "time": 443
         },
         {
          "E": 14.984118503484643,
          "series": "E",
          "time": 443
         },
         {
          "I": 16.415249716281103,
          "series": "I",
          "time": 443
         },
         {
          "R": 9.920348772443223,
          "series": "R",
          "time": 443
         },
         {
          "D": 324.59364081359587,
          "series": "D",
          "time": 443
         },
         {
          "H": 7.623238354543994,
          "series": "H",
          "time": 443
         },
         {
          "S": 127.06999134703808,
          "series": "S",
          "time": 444
         },
         {
          "E": 14.937870745125604,
          "series": "E",
          "time": 444
         },
         {
          "I": 16.364584886846103,
          "series": "I",
          "time": 444
         },
         {
          "R": 9.889730138606085,
          "series": "R",
          "time": 444
         },
         {
          "D": 325.1381132526925,
          "series": "D",
          "time": 444
         },
         {
          "H": 7.599709629691554,
          "series": "H",
          "time": 444
         },
         {
          "S": 126.67779314148633,
          "series": "S",
          "time": 445
         },
         {
          "E": 14.891765717614966,
          "series": "E",
          "time": 445
         },
         {
          "I": 16.314076418228574,
          "series": "I",
          "time": 445
         },
         {
          "R": 9.859205998694636,
          "series": "R",
          "time": 445
         },
         {
          "D": 325.6809052057276,
          "series": "D",
          "time": 445
         },
         {
          "H": 7.576253518247833,
          "series": "H",
          "time": 445
         },
         {
          "S": 126.2868054737017,
          "series": "S",
          "time": 446
         },
         {
          "E": 14.845802980933685,
          "series": "E",
          "time": 446
         },
         {
          "I": 16.263723828484768,
          "series": "I",
          "time": 446
         },
         {
          "R": 9.828776061486693,
          "series": "R",
          "time": 446
         },
         {
          "D": 326.2220218589712,
          "series": "D",
          "time": 446
         },
         {
          "H": 7.55286979642188,
          "series": "H",
          "time": 446
         },
         {
          "S": 125.89702460602697,
          "series": "S",
          "time": 447
         },
         {
          "E": 14.799982096397555,
          "series": "E",
          "time": 447
         },
         {
          "I": 16.213526637128666,
          "series": "I",
          "time": 447
         },
         {
          "R": 9.798440036639482,
          "series": "R",
          "time": 447
         },
         {
          "D": 326.7614683827086,
          "series": "D",
          "time": 447
         },
         {
          "H": 7.529558241098645,
          "series": "H",
          "time": 447
         },
         {
          "S": 125.50844681240297,
          "series": "S",
          "time": 448
         },
         {
          "E": 14.754302626654113,
          "series": "E",
          "time": 448
         },
         {
          "I": 16.16348436512883,
          "series": "I",
          "time": 448
         },
         {
          "R": 9.768197634687796,
          "series": "R",
          "time": 448
         },
         {
          "D": 327.2992499312886,
          "series": "D",
          "time": 448
         },
         {
          "H": 7.506318629837565,
          "series": "H",
          "time": 448
         },
         {
          "S": 125.12106837833001,
          "series": "S",
          "time": 449
         },
         {
          "E": 14.708764135679568,
          "series": "E",
          "time": 449
         },
         {
          "I": 16.113596534905188,
          "series": "I",
          "time": 449
         },
         {
          "R": 9.73804856704213,
          "series": "R",
          "time": 449
         },
         {
          "D": 327.83537164317187,
          "series": "D",
          "time": 449
         },
         {
          "H": 7.483150740871118,
          "series": "H",
          "time": 449
         },
         {
          "S": 124.73488560082957,
          "series": "S",
          "time": 450
         },
         {
          "E": 14.663366188775623,
          "series": "E",
          "time": 450
         },
         {
          "I": 16.063862670325793,
          "series": "I",
          "time": 450
         },
         {
          "R": 9.707992545986771,
          "series": "R",
          "time": 450
         },
         {
          "D": 328.36983864097874,
          "series": "D",
          "time": 450
         },
         {
          "H": 7.460054353103364,
          "series": "H",
          "time": 450
         },
         {
          "S": 124.34989478840613,
          "series": "S",
          "time": 451
         },
         {
          "E": 14.61810835256632,
          "series": "E",
          "time": 451
         },
         {
          "I": 16.01428229670351,
          "series": "I",
          "time": 451
         },
         {
          "R": 9.678029284677878,
          "series": "R",
          "time": 451
         },
         {
          "D": 328.90265603153756,
          "series": "D",
          "time": 451
         },
         {
          "H": 7.437029246108444,
          "series": "H",
          "time": 451
         },
         {
          "S": 123.96609226100934,
          "series": "S",
          "time": 452
         },
         {
          "E": 14.572990194994832,
          "series": "E",
          "time": 452
         },
         {
          "I": 15.964854940792684,
          "series": "I",
          "time": 452
         },
         {
          "R": 9.648158497141509,
          "series": "R",
          "time": 452
         },
         {
          "D": 329.4338289059324,
          "series": "D",
          "time": 452
         },
         {
          "H": 7.4140752001290755,
          "series": "H",
          "time": 452
         },
         {
          "S": 123.58347434999631,
          "series": "S",
          "time": 453
         },
         {
          "E": 14.528011285320215,
          "series": "E",
          "time": 453
         },
         {
          "I": 15.915580130785761,
          "series": "I",
          "time": 453
         },
         {
          "R": 9.618379898271638,
          "series": "R",
          "time": 453
         },
         {
          "D": 329.9633623395509,
          "series": "D",
          "time": 453
         },
         {
          "H": 7.391191996075021,
          "series": "H",
          "time": 453
         },
         {
          "S": 123.20203739809426,
          "series": "S",
          "time": 454
         },
         {
          "E": 14.48317119411416,
          "series": "E",
          "time": 454
         },
         {
          "I": 15.86645739630986,
          "series": "I",
          "time": 454
         },
         {
          "R": 9.588693203828143,
          "series": "R",
          "time": 454
         },
         {
          "D": 330.4912613921319,
          "series": "D",
          "time": 454
         },
         {
          "H": 7.368379415521532,
          "series": "H",
          "time": 454
         },
         {
          "S": 122.82177775936326,
          "series": "S",
          "time": 455
         },
         {
          "E": 14.438469493257685,
          "series": "E",
          "time": 455
         },
         {
          "I": 15.817486268423325,
          "series": "I",
          "time": 455
         },
         {
          "R": 9.559098130434771,
          "series": "R",
          "time": 455
         },
         {
          "D": 331.017531107813,
          "series": "D",
          "time": 455
         },
         {
          "H": 7.345637240707783,
          "series": "H",
          "time": 455
         },
         {
          "S": 122.4426917991592,
          "series": "S",
          "time": 456
         },
         {
          "E": 14.393905755937835,
          "series": "E",
          "time": 456
         },
         {
          "I": 15.768666279612232,
          "series": "I",
          "time": 456
         },
         {
          "R": 9.529594395577075,
          "series": "R",
          "time": 456
         },
         {
          "D": 331.5421765151782,
          "series": "D",
          "time": 456
         },
         {
          "H": 7.322965254535284,
          "series": "H",
          "time": 456
         },
         {
          "S": 122.06477589409708,
          "series": "S",
          "time": 457
         },
         {
          "E": 14.349479556644336,
          "series": "E",
          "time": 457
         },
         {
          "I": 15.719996963786873,
          "series": "I",
          "time": 457
         },
         {
          "R": 9.500181717600329,
          "series": "R",
          "time": 457
         },
         {
          "D": 332.0652026273049,
          "series": "D",
          "time": 457
         },
         {
          "H": 7.30036324056628,
          "series": "H",
          "time": 457
         },
         {
          "S": 121.68802643201431,
          "series": "S",
          "time": 458
         },
         {
          "E": 14.305190471166236,
          "series": "E",
          "time": 458
         },
         {
          "I": 15.671477856278209,
          "series": "I",
          "time": 458
         },
         {
          "R": 9.470859815707437,
          "series": "R",
          "time": 458
         },
         {
          "D": 332.5866144418115,
          "series": "D",
          "time": 458
         },
         {
          "H": 7.277830983022127,
          "series": "H",
          "time": 458
         },
         {
          "S": 121.3124398119344,
          "series": "S",
          "time": 459
         },
         {
          "E": 14.261038076588537,
          "series": "E",
          "time": 459
         },
         {
          "I": 15.623108493834286,
          "series": "I",
          "time": 459
         },
         {
          "R": 9.441628409956811,
          "series": "R",
          "time": 459
         },
         {
          "D": 333.1064169409041,
          "series": "D",
          "time": 459
         },
         {
          "H": 7.255368266781666,
          "series": "H",
          "time": 459
         },
         {
          "S": 120.93801244403069,
          "series": "S",
          "time": 460
         },
         {
          "E": 14.217021951288784,
          "series": "E",
          "time": 460
         },
         {
          "I": 15.574888414616645,
          "series": "I",
          "time": 460
         },
         {
          "R": 9.412487221260234,
          "series": "R",
          "time": 460
         },
         {
          "D": 333.6246150914239,
          "series": "D",
          "time": 460
         },
         {
          "H": 7.23297487737958,
          "series": "H",
          "time": 460
         },
         {
          "S": 120.56474074959036,
          "series": "S",
          "time": 461
         },
         {
          "E": 14.173141674933673,
          "series": "E",
          "time": 461
         },
         {
          "I": 15.526817158196685,
          "series": "I",
          "time": 461
         },
         {
          "R": 9.383435971380704,
          "series": "R",
          "time": 461
         },
         {
          "D": 334.1412138448937,
          "series": "D",
          "time": 461
         },
         {
          "H": 7.210650601004731,
          "series": "H",
          "time": 461
         },
         {
          "S": 120.19262116097859,
          "series": "S",
          "time": 462
         },
         {
          "E": 14.129396828475594,
          "series": "E",
          "time": 462
         },
         {
          "I": 15.478894265552029,
          "series": "I",
          "time": 462
         },
         {
          "R": 9.354474382930276,
          "series": "R",
          "time": 462
         },
         {
          "D": 334.65621813756485,
          "series": "D",
          "time": 462
         },
         {
          "H": 7.188395224498493,
          "series": "H",
          "time": 462
         },
         {
          "S": 119.8216501216029,
          "series": "S",
          "time": 463
         },
         {
          "E": 14.08578699414922,
          "series": "E",
          "time": 463
         },
         {
          "I": 15.431119279062841,
          "series": "I",
          "time": 463
         },
         {
          "R": 9.32560217936787,
          "series": "R",
          "time": 463
         },
         {
          "D": 335.1696328904639,
          "series": "D",
          "time": 463
         },
         {
          "H": 7.166208535353078,
          "series": "H",
          "time": 463
         },
         {
          "S": 119.45182408587767,
          "series": "S",
          "time": 464
         },
         {
          "E": 14.042311755468026,
          "series": "E",
          "time": 464
         },
         {
          "I": 15.383491742508152,
          "series": "I",
          "time": 464
         },
         {
          "R": 9.296819084997084,
          "series": "R",
          "time": 464
         },
         {
          "D": 335.681463009439,
          "series": "D",
          "time": 464
         },
         {
          "H": 7.144090321709839,
          "series": "H",
          "time": 464
         },
         {
          "S": 119.08313951918885,
          "series": "S",
          "time": 465
         },
         {
          "E": 13.998970697220834,
          "series": "E",
          "time": 465
         },
         {
          "I": 15.33601120106215,
          "series": "I",
          "time": 465
         },
         {
          "R": 9.268124824963985,
          "series": "R",
          "time": 465
         },
         {
          "D": 336.1917133852064,
          "series": "D",
          "time": 465
         },
         {
          "H": 7.122040372357574,
          "series": "H",
          "time": 465
         },
         {
          "S": 118.71559289785877,
          "series": "S",
          "time": 466
         },
         {
          "E": 13.955763405468332,
          "series": "E",
          "time": 466
         },
         {
          "I": 15.288677201290453,
          "series": "I",
          "time": 466
         },
         {
          "R": 9.239519125254887,
          "series": "R",
          "time": 466
         },
         {
          "D": 336.7003888933965,
          "series": "D",
          "time": 466
         },
         {
          "H": 7.100058476730827,
          "series": "H",
          "time": 466
         },
         {
          "S": 118.34918070911124,
          "series": "S",
          "time": 467
         },
         {
          "E": 13.912689467539584,
          "series": "E",
          "time": 467
         },
         {
          "I": 15.241489291146387,
          "series": "I",
          "time": 467
         },
         {
          "R": 9.21100171269413,
          "series": "R",
          "time": 467
         },
         {
          "D": 337.20749439460025,
          "series": "D",
          "time": 467
         },
         {
          "H": 7.078144424908159,
          "series": "H",
          "time": 467
         },
         {
          "S": 117.98389945103669,
          "series": "S",
          "time": 468
         },
         {
          "E": 13.869748472028537,
          "series": "E",
          "time": 468
         },
         {
          "I": 15.194447019967228,
          "series": "I",
          "time": 468
         },
         {
          "R": 9.182572314941837,
          "series": "R",
          "time": 468
         },
         {
          "D": 337.71303473441503,
          "series": "D",
          "time": 468
         },
         {
          "H": 7.056298007610439,
          "series": "H",
          "time": 468
         },
         {
          "S": 117.61974563255752,
          "series": "S",
          "time": 469
         },
         {
          "E": 13.826940008790505,
          "series": "E",
          "time": 469
         },
         {
          "I": 15.147549938470439,
          "series": "I",
          "time": 469
         },
         {
          "R": 9.154230660491665,
          "series": "R",
          "time": 469
         },
         {
          "D": 338.2170147434905,
          "series": "D",
          "time": 469
         },
         {
          "H": 7.034519016199106,
          "series": "H",
          "time": 469
         },
         {
          "S": 117.25671577339365,
          "series": "S",
          "time": 470
         },
         {
          "E": 13.784263668938664,
          "series": "E",
          "time": 470
         },
         {
          "I": 15.1007975987499,
          "series": "I",
          "time": 470
         },
         {
          "R": 9.125976478668557,
          "series": "R",
          "time": 470
         },
         {
          "D": 338.71943923757453,
          "series": "D",
          "time": 470
         },
         {
          "H": 7.0128072426744374,
          "series": "H",
          "time": 470
         },
         {
          "S": 116.89480640402815,
          "series": "S",
          "time": 471
         },
         {
          "E": 13.741719044840536,
          "series": "E",
          "time": 471
         },
         {
          "I": 15.054189554272119,
          "series": "I",
          "time": 471
         },
         {
          "R": 9.097809499626475,
          "series": "R",
          "time": 471
         },
         {
          "D": 339.2203130175587,
          "series": "D",
          "time": 471
         },
         {
          "H": 6.991162479673812,
          "series": "H",
          "time": 471
         },
         {
          "S": 116.53401406567303,
          "series": "S",
          "time": 472
         },
         {
          "E": 13.699305730114457,
          "series": "E",
          "time": 472
         },
         {
          "I": 15.007725359872449,
          "series": "I",
          "time": 472
         },
         {
          "R": 9.069729454346128,
          "series": "R",
          "time": 472
         },
         {
          "D": 339.71964086952374,
          "series": "D",
          "time": 472
         },
         {
          "H": 6.969584520469957,
          "series": "H",
          "time": 472
         },
         {
          "S": 116.17433531023526,
          "series": "S",
          "time": 473
         },
         {
          "E": 13.657023319626047,
          "series": "E",
          "time": 473
         },
         {
          "I": 14.961404571751277,
          "series": "I",
          "time": 473
         },
         {
          "R": 9.041736074632704,
          "series": "R",
          "time": 473
         },
         {
          "D": 340.2174275647853,
          "series": "D",
          "time": 473
         },
         {
          "H": 6.948073158969205,
          "series": "H",
          "time": 473
         },
         {
          "S": 115.81576670028286,
          "series": "S",
          "time": 474
         },
         {
          "E": 13.614871409484685,
          "series": "E",
          "time": 474
         },
         {
          "I": 14.915226747470218,
          "series": "I",
          "time": 474
         },
         {
          "R": 9.013829093113586,
          "series": "R",
          "time": 474
         },
         {
          "D": 340.7136778599387,
          "series": "D",
          "time": 474
         },
         {
          "H": 6.926628189709734,
          "series": "H",
          "time": 474
         },
         {
          "S": 115.45830480901112,
          "series": "S",
          "time": 475
         },
         {
          "E": 13.572849597039966,
          "series": "E",
          "time": 475
         },
         {
          "I": 14.869191445948301,
          "series": "I",
          "time": 475
         },
         {
          "R": 8.986008243236062,
          "series": "R",
          "time": 475
         },
         {
          "D": 341.2083964969045,
          "series": "D",
          "time": 475
         },
         {
          "H": 6.905249407859815,
          "series": "H",
          "time": 475
         },
         {
          "S": 115.10194622020904,
          "series": "S",
          "time": 476
         },
         {
          "E": 13.530957480878154,
          "series": "E",
          "time": 476
         },
         {
          "I": 14.823298227458148,
          "series": "I",
          "time": 476
         },
         {
          "R": 8.958273259265045,
          "series": "R",
          "time": 476
         },
         {
          "D": 341.70158820297337,
          "series": "D",
          "time": 476
         },
         {
          "H": 6.883936609216044,
          "series": "H",
          "time": 476
         },
         {
          "S": 114.74668752822583,
          "series": "S",
          "time": 477
         },
         {
          "E": 13.489194660818661,
          "series": "E",
          "time": 477
         },
         {
          "I": 14.777546653622144,
          "series": "I",
          "time": 477
         },
         {
          "R": 8.93062387628077,
          "series": "R",
          "time": 477
         },
         {
          "D": 342.1932576908508,
          "series": "D",
          "time": 477
         },
         {
          "H": 6.862689590201584,
          "series": "H",
          "time": 477
         },
         {
          "S": 114.39252533793764,
          "series": "S",
          "time": 478
         },
         {
          "E": 13.447560737910482,
          "series": "E",
          "time": 478
         },
         {
          "I": 14.731936287408617,
          "series": "I",
          "time": 478
         },
         {
          "R": 8.903059830176499,
          "series": "R",
          "time": 478
         },
         {
          "D": 342.6834096587022,
          "series": "D",
          "time": 478
         },
         {
          "H": 6.8415081478643955,
          "series": "H",
          "time": 478
         },
         {
          "S": 114.03945626471429,
          "series": "S",
          "time": 479
         },
         {
          "E": 13.406055314428665,
          "series": "E",
          "time": 479
         },
         {
          "I": 14.686466693127992,
          "series": "I",
          "time": 479
         },
         {
          "R": 8.875580857656225,
          "series": "R",
          "time": 479
         },
         {
          "D": 343.1720487901972,
          "series": "D",
          "time": 479
         },
         {
          "H": 6.820392079875467,
          "series": "H",
          "time": 479
         },
         {
          "S": 113.68747693438628,
          "series": "S",
          "time": 480
         },
         {
          "E": 13.364677993870753,
          "series": "E",
          "time": 480
         },
         {
          "I": 14.641137436428963,
          "series": "I",
          "time": 480
         },
         {
          "R": 8.848186696232366,
          "series": "R",
          "time": 480
         },
         {
          "D": 343.65917975455443,
          "series": "D",
          "time": 480
         },
         {
          "H": 6.799341184527049,
          "series": "H",
          "time": 480
         },
         {
          "S": 113.33658398321185,
          "series": "S",
          "time": 481
         },
         {
          "E": 13.323428380953255,
          "series": "E",
          "time": 481
         },
         {
          "I": 14.595948084294653,
          "series": "I",
          "time": 481
         },
         {
          "R": 8.820877084223465,
          "series": "R",
          "time": 481
         },
         {
          "D": 344.14480720658577,
          "series": "D",
          "time": 481
         },
         {
          "H": 6.778355260730875,
          "series": "H",
          "time": 481
         },
         {
          "S": 112.98677405784416,
          "series": "S",
          "time": 482
         },
         {
          "E": 13.28230608160809,
          "series": "E",
          "time": 482
         },
         {
          "I": 14.550898205038779,
          "series": "I",
          "time": 482
         },
         {
          "R": 8.793651760751878,
          "series": "R",
          "time": 482
         },
         {
          "D": 344.62893578674056,
          "series": "D",
          "time": 482
         },
         {
          "H": 6.757434108016394,
          "series": "H",
          "time": 482
         },
         {
          "S": 112.63804381529866,
          "series": "S",
          "time": 483
         },
         {
          "E": 13.241310702979055,
          "series": "E",
          "time": 483
         },
         {
          "I": 14.505987368301799,
          "series": "I",
          "time": 483
         },
         {
          "R": 8.766510465741476,
          "series": "R",
          "time": 483
         },
         {
          "D": 345.1115701211499,
          "series": "D",
          "time": 483
         },
         {
          "H": 6.736577526528997,
          "series": "H",
          "time": 483
         },
         {
          "S": 112.29038992292054,
          "series": "S",
          "time": 484
         },
         {
          "E": 13.200441853418273,
          "series": "E",
          "time": 484
         },
         {
          "I": 14.461215145047088,
          "series": "I",
          "time": 484
         },
         {
          "R": 8.739452939915324,
          "series": "R",
          "time": 484
         },
         {
          "D": 345.5927148216704,
          "series": "D",
          "time": 484
         },
         {
          "H": 6.7157853170282396,
          "series": "H",
          "time": 484
         },
         {
          "S": 111.9438090583523,
          "series": "S",
          "time": 485
         },
         {
          "E": 13.159699142482658,
          "series": "E",
          "time": 485
         },
         {
          "I": 14.41658110755709,
          "series": "I",
          "time": 485
         },
         {
          "R": 8.712478924793391,
          "series": "R",
          "time": 485
         },
         {
          "D": 346.0723744859284,
          "series": "D",
          "time": 485
         },
         {
          "H": 6.695057280886068,
          "series": "H",
          "time": 485
         },
         {
          "S": 111.59829790950151,
          "series": "S",
          "time": 486
         },
         {
          "E": 13.11908218093038,
          "series": "E",
          "time": 486
         },
         {
          "I": 14.372084829429472,
          "series": "I",
          "time": 486
         },
         {
          "R": 8.685588162690225,
          "series": "R",
          "time": 486
         },
         {
          "D": 346.5505536973632,
          "series": "D",
          "time": 486
         },
         {
          "H": 6.674393220085047,
          "series": "H",
          "time": 486
         },
         {
          "S": 111.25385317450858,
          "series": "S",
          "time": 487
         },
         {
          "E": 13.07859058071733,
          "series": "E",
          "time": 487
         },
         {
          "I": 14.327725885573303,
          "series": "I",
          "time": 487
         },
         {
          "R": 8.658780396712656,
          "series": "R",
          "time": 487
         },
         {
          "D": 347.0272570252714,
          "series": "D",
          "time": 487
         },
         {
          "H": 6.653792937216582,
          "series": "H",
          "time": 487
         },
         {
          "S": 110.91047156171476,
          "series": "S",
          "time": 488
         },
         {
          "E": 13.038223954993583,
          "series": "E",
          "time": 488
         },
         {
          "I": 14.283503852205202,
          "series": "I",
          "time": 488
         },
         {
          "R": 8.632055370757485,
          "series": "R",
          "time": 488
         },
         {
          "D": 347.5024890248497,
          "series": "D",
          "time": 488
         },
         {
          "H": 6.633256235479147,
          "series": "H",
          "time": 488
         },
         {
          "S": 110.56814978963021,
          "series": "S",
          "time": 489
         },
         {
          "E": 12.997981918099875,
          "series": "E",
          "time": 489
         },
         {
          "I": 14.239418306845517,
          "series": "I",
          "time": 489
         },
         {
          "R": 8.605412829509177,
          "series": "R",
          "time": 489
         },
         {
          "D": 347.97625423723855,
          "series": "D",
          "time": 489
         },
         {
          "H": 6.612782918676513,
          "series": "H",
          "time": 489
         },
         {
          "S": 110.22688458690219,
          "series": "S",
          "time": 490
         },
         {
          "E": 12.957864085564086,
          "series": "E",
          "time": 490
         },
         {
          "I": 14.19546882831448,
          "series": "I",
          "time": 490
         },
         {
          "R": 8.57885251843756,
          "series": "R",
          "time": 490
         },
         {
          "D": 348.4485571895656,
          "series": "D",
          "time": 490
         },
         {
          "H": 6.592372791215974,
          "series": "H",
          "time": 490
         },
         {
          "S": 109.88667269228335,
          "series": "S",
          "time": 491
         },
         {
          "E": 12.917870074097708,
          "series": "E",
          "time": 491
         },
         {
          "I": 14.151654996728393,
          "series": "I",
          "time": 491
         },
         {
          "R": 8.552374183795518,
          "series": "R",
          "time": 491
         },
         {
          "D": 348.9194023949883,
          "series": "D",
          "time": 491
         },
         {
          "H": 6.572025658106576,
          "series": "H",
          "time": 491
         },
         {
          "S": 109.54751085460019,
          "series": "S",
          "time": 492
         },
         {
          "E": 12.877999501592335,
          "series": "E",
          "time": 492
         },
         {
          "I": 14.107976393495798,
          "series": "I",
          "time": 492
         },
         {
          "R": 8.525977572616686,
          "series": "R",
          "time": 492
         },
         {
          "D": 349.3887943527375,
          "series": "D",
          "time": 492
         },
         {
          "H": 6.551741324957348,
          "series": "H",
          "time": 492
         },
         {
          "S": 109.20939583272158,
          "series": "S",
          "time": 493
         },
         {
          "E": 12.838251987116145,
          "series": "E",
          "time": 493
         },
         {
          "I": 14.064432601313655,
          "series": "I",
          "time": 493
         },
         {
          "R": 8.499662432713157,
          "series": "R",
          "time": 493
         },
         {
          "D": 349.85673754815974,
          "series": "D",
          "time": 493
         },
         {
          "H": 6.531519597975534,
          "series": "H",
          "time": 493
         },
         {
          "S": 108.87232439552743,
          "series": "S",
          "time": 494
         },
         {
          "E": 12.79862715091041,
          "series": "E",
          "time": 494
         },
         {
          "I": 14.021023204163527,
          "series": "I",
          "time": 494
         },
         {
          "R": 8.47342851267318,
          "series": "R",
          "time": 494
         },
         {
          "D": 350.32323645276045,
          "series": "D",
          "time": 494
         },
         {
          "H": 6.511360283964825,
          "series": "H",
          "time": 494
         },
         {
          "S": 108.53629332187744,
          "series": "S",
          "time": 495
         },
         {
          "E": 12.759124614385978,
          "series": "E",
          "time": 495
         },
         {
          "I": 13.977747787307768,
          "series": "I",
          "time": 495
         },
         {
          "R": 8.447275561858868,
          "series": "R",
          "time": 495
         },
         {
          "D": 350.78829552424617,
          "series": "D",
          "time": 495
         },
         {
          "H": 6.491263190323594,
          "series": "H",
          "time": 495
         },
         {
          "S": 108.20129940057998,
          "series": "S",
          "time": 496
         },
         {
          "E": 12.719744000119789,
          "series": "E",
          "time": 496
         },
         {
          "I": 13.934605937285719,
          "series": "I",
          "time": 496
         },
         {
          "R": 8.421203330403895,
          "series": "R",
          "time": 496
         },
         {
          "D": 351.25191920656727,
          "series": "D",
          "time": 496
         },
         {
          "H": 6.4712281250431385,
          "series": "H",
          "time": 496
         },
         {
          "S": 107.86733943036113,
          "series": "S",
          "time": 497
         },
         {
          "E": 12.680484931851375,
          "series": "E",
          "time": 497
         },
         {
          "I": 13.891597241909903,
          "series": "I",
          "time": 497
         },
         {
          "R": 8.395211569211215,
          "series": "R",
          "time": 497
         },
         {
          "D": 351.71411192996027,
          "series": "D",
          "time": 497
         },
         {
          "H": 6.451254896705912,
          "series": "H",
          "time": 497
         },
         {
          "S": 107.53441021983369,
          "series": "S",
          "time": 498
         },
         {
          "E": 12.641347034479388,
          "series": "E",
          "time": 498
         },
         {
          "I": 13.848721290262224,
          "series": "I",
          "time": 498
         },
         {
          "R": 8.369300029950775,
          "series": "R",
          "time": 498
         },
         {
          "D": 352.17487811098994,
          "series": "D",
          "time": 498
         },
         {
          "H": 6.431343314483772,
          "series": "H",
          "time": 498
         },
         {
          "S": 107.20250858746645,
          "series": "S",
          "time": 499
         },
         {
          "E": 12.60232993405811,
          "series": "E",
          "time": 499
         },
         {
          "I": 13.80597767269019,
          "series": "I",
          "time": 499
         },
         {
          "R": 8.34346846505723,
          "series": "R",
          "time": 499
         },
         {
          "D": 352.6342221525916,
          "series": "D",
          "time": 499
         },
         {
          "H": 6.411493188136221,
          "series": "H",
          "time": 499
         },
         {
          "S": 106.87163136155351,
          "series": "S",
          "time": 500
         },
         {
          "E": 12.563433257793987,
          "series": "E",
          "time": 500
         },
         {
          "I": 13.763365980803117,
          "series": "I",
          "time": 500
         },
         {
          "R": 8.317716627727656,
          "series": "R",
          "time": 500
         },
         {
          "D": 353.09214844411287,
          "series": "D",
          "time": 500
         },
         {
          "H": 6.391704328008656,
          "series": "H",
          "time": 500
         },
         {
          "S": 106.54177538018367,
          "series": "S",
          "time": 501
         },
         {
          "E": 12.524656634042167,
          "series": "E",
          "time": 501
         },
         {
          "I": 13.72088580746835,
          "series": "I",
          "time": 501
         },
         {
          "R": 8.292044271919275,
          "series": "R",
          "time": 501
         },
         {
          "D": 353.5486613613557,
          "series": "D",
          "time": 501
         },
         {
          "H": 6.371976545030613,
          "series": "H",
          "time": 501
         },
         {
          "S": 106.21293749120994,
          "series": "S",
          "time": 502
         },
         {
          "E": 12.485999692303038,
          "series": "E",
          "time": 502
         },
         {
          "I": 13.6785367468075,
          "series": "I",
          "time": 502
         },
         {
          "R": 8.26645115234719,
          "series": "R",
          "time": 502
         },
         {
          "D": 354.0037652666181,
          "series": "D",
          "time": 502
         },
         {
          "H": 6.352309650714025,
          "series": "H",
          "time": 502
         },
         {
          "S": 105.88511455221925,
          "series": "S",
          "time": 503
         },
         {
          "E": 12.447462063218767,
          "series": "E",
          "time": 503
         },
         {
          "I": 13.636318394192672,
          "series": "I",
          "time": 503
         },
         {
          "R": 8.240937024482104,
          "series": "R",
          "time": 503
         },
         {
          "D": 354.4574645087355,
          "series": "D",
          "time": 503
         },
         {
          "H": 6.332703457151474,
          "series": "H",
          "time": 503
         },
         {
          "S": 105.5583034305021,
          "series": "S",
          "time": 504
         },
         {
          "E": 12.409043378569873,
          "series": "E",
          "time": 504
         },
         {
          "I": 13.594230346242703,
          "series": "I",
          "time": 504
         },
         {
          "R": 8.215501644548059,
          "series": "R",
          "time": 504
         },
         {
          "D": 354.90976342312257,
          "series": "D",
          "time": 504
         },
         {
          "H": 6.31315777701445,
          "series": "H",
          "time": 504
         },
         {
          "S": 105.23250100302246,
          "series": "S",
          "time": 505
         },
         {
          "E": 12.37074327127177,
          "series": "E",
          "time": 505
         },
         {
          "I": 13.552272200819418,
          "series": "I",
          "time": 505
         },
         {
          "R": 8.19014476952017,
          "series": "R",
          "time": 505
         },
         {
          "D": 355.36066633181434,
          "series": "D",
          "time": 505
         },
         {
          "H": 6.293672423551609,
          "series": "H",
          "time": 505
         },
         {
          "S": 104.9077041563877,
          "series": "S",
          "time": 506
         },
         {
          "E": 12.332561375371357,
          "series": "E",
          "time": 506
         },
         {
          "I": 13.510443557023885,
          "series": "I",
          "time": 506
         },
         {
          "R": 8.164866157122376,
          "series": "R",
          "time": 506
         },
         {
          "D": 355.8101775435074,
          "series": "D",
          "time": 506
         },
         {
          "H": 6.274247210587044,
          "series": "H",
          "time": 506
         },
         {
          "S": 104.5839097868186,
          "series": "S",
          "time": 507
         },
         {
          "E": 12.29449732604357,
          "series": "E",
          "time": 507
         },
         {
          "I": 13.468744015192673,
          "series": "I",
          "time": 507
         },
         {
          "R": 8.13966556582517,
          "series": "R",
          "time": 507
         },
         {
          "D": 356.2583013536012,
          "series": "D",
          "time": 507
         },
         {
          "H": 6.254881952518548,
          "series": "H",
          "time": 507
         },
         {
          "S": 104.26111480011953,
          "series": "S",
          "time": 508
         },
         {
          "E": 12.256550759587988,
          "series": "E",
          "time": 508
         },
         {
          "I": 13.427173176894124,
          "series": "I",
          "time": 508
         },
         {
          "R": 8.11454275484337,
          "series": "R",
          "time": 508
         },
         {
          "D": 356.7050420442389,
          "series": "D",
          "time": 508
         },
         {
          "H": 6.235576464315884,
          "series": "H",
          "time": 508
         },
         {
          "S": 103.93931611164871,
          "series": "S",
          "time": 509
         },
         {
          "E": 12.218721313425414,
          "series": "E",
          "time": 509
         },
         {
          "I": 13.385730644924635,
          "series": "I",
          "time": 509
         },
         {
          "R": 8.089497484133858,
          "series": "R",
          "time": 509
         },
         {
          "D": 357.1504038843481,
          "series": "D",
          "time": 509
         },
         {
          "H": 6.216330561519065,
          "series": "H",
          "time": 509
         },
         {
          "S": 103.6185106462885,
          "series": "S",
          "time": 510
         },
         {
          "E": 12.18100862609447,
          "series": "E",
          "time": 510
         },
         {
          "I": 13.344416023304941,
          "series": "I",
          "time": 510
         },
         {
          "R": 8.064529514393344,
          "series": "R",
          "time": 510
         },
         {
          "D": 357.5943911296819,
          "series": "D",
          "time": 510
         },
         {
          "H": 6.197144060236627,
          "series": "H",
          "time": 510
         },
         {
          "S": 103.2986953384159,
          "series": "S",
          "time": 511
         },
         {
          "E": 12.143412337248215,
          "series": "E",
          "time": 511
         },
         {
          "I": 13.30322891727641,
          "series": "I",
          "time": 511
         },
         {
          "R": 8.039638607056135,
          "series": "R",
          "time": 511
         },
         {
          "D": 358.03700802285925,
          "series": "D",
          "time": 511
         },
         {
          "H": 6.178016777143911,
          "series": "H",
          "time": 511
         },
         {
          "S": 102.97986713187306,
          "series": "S",
          "time": 512
         },
         {
          "E": 12.105932087650752,
          "series": "E",
          "time": 512
         },
         {
          "I": 13.262168933297346,
          "series": "I",
          "time": 512
         },
         {
          "R": 8.0148245242919,
          "series": "R",
          "time": 512
         },
         {
          "D": 358.4782587934054,
          "series": "D",
          "time": 512
         },
         {
          "H": 6.158948529481352,
          "series": "H",
          "time": 512
         },
         {
          "S": 102.66202297993794,
          "series": "S",
          "time": 513
         },
         {
          "E": 12.068567519173854,
          "series": "E",
          "time": 513
         },
         {
          "I": 13.221235679039298,
          "series": "I",
          "time": 513
         },
         {
          "R": 7.9900870290034405,
          "series": "R",
          "time": 513
         },
         {
          "D": 358.91814765779253,
          "series": "D",
          "time": 513
         },
         {
          "H": 6.139939135052763,
          "series": "H",
          "time": 513
         },
         {
          "S": 102.34515984529504,
          "series": "S",
          "time": 514
         },
         {
          "E": 12.031318274793597,
          "series": "E",
          "time": 514
         },
         {
          "I": 13.180428763383379,
          "series": "I",
          "time": 514
         },
         {
          "R": 7.9654258848244766,
          "series": "R",
          "time": 514
         },
         {
          "D": 359.3566788194797,
          "series": "D",
          "time": 514
         },
         {
          "H": 6.120988412223634,
          "series": "H",
          "time": 514
         },
         {
          "S": 102.02927470000623,
          "series": "S",
          "time": 515
         },
         {
          "E": 11.994183998586992,
          "series": "E",
          "time": 515
         },
         {
          "I": 13.139747796416597,
          "series": "I",
          "time": 515
         },
         {
          "R": 7.940840856117426,
          "series": "R",
          "time": 515
         },
         {
          "D": 359.7938564689532,
          "series": "D",
          "time": 515
         },
         {
          "H": 6.102096179919423,
          "series": "H",
          "time": 515
         },
         {
          "S": 101.71436452548167,
          "series": "S",
          "time": 516
         },
         {
          "E": 11.957164335728642,
          "series": "E",
          "time": 516
         },
         {
          "I": 13.099192389428186,
          "series": "I",
          "time": 516
         },
         {
          "R": 7.916331707971196,
          "series": "R",
          "time": 516
         },
         {
          "D": 360.22968478376634,
          "series": "D",
          "time": 516
         },
         {
          "H": 6.083262257623858,
          "series": "H",
          "time": 516
         },
         {
          "S": 101.40042631245089,
          "series": "S",
          "time": 517
         },
         {
          "E": 11.920258932487382,
          "series": "E",
          "time": 517
         },
         {
          "I": 13.058762154905954,
          "series": "I",
          "time": 517
         },
         {
          "R": 7.891898206198972,
          "series": "R",
          "time": 517
         },
         {
          "D": 360.66416792857945,
          "series": "D",
          "time": 517
         },
         {
          "H": 6.064486465377243,
          "series": "H",
          "time": 517
         },
         {
          "S": 101.08745706093386,
          "series": "S",
          "time": 518
         },
         {
          "E": 11.883467436222967,
          "series": "E",
          "time": 518
         },
         {
          "I": 13.018456706532637,
          "series": "I",
          "time": 518
         },
         {
          "R": 7.867540117336021,
          "series": "R",
          "time": 518
         },
         {
          "D": 361.09731005519967,
          "series": "D",
          "time": 518
         },
         {
          "H": 6.045768623774767,
          "series": "H",
          "time": 518
         },
         {
          "S": 100.77545378021219,
          "series": "S",
          "time": 519
         },
         {
          "E": 11.846789495382717,
          "series": "E",
          "time": 519
         },
         {
          "I": 12.978275659182257,
          "series": "I",
          "time": 519
         },
         {
          "R": 7.843257208637495,
          "series": "R",
          "time": 519
         },
         {
          "D": 361.5291153026204,
          "series": "D",
          "time": 519
         },
         {
          "H": 6.027108553964814,
          "series": "H",
          "time": 519
         },
         {
          "S": 100.46441348880049,
          "series": "S",
          "time": 520
         },
         {
          "E": 11.810224759498226,
          "series": "E",
          "time": 520
         },
         {
          "I": 12.9382186289165,
          "series": "I",
          "time": 520
         },
         {
          "R": 7.819049248076241,
          "series": "R",
          "time": 520
         },
         {
          "D": 361.95958779706115,
          "series": "D",
          "time": 520
         },
         {
          "H": 6.0085060776472785,
          "series": "H",
          "time": 520
         },
         {
          "S": 100.15433321441775,
          "series": "S",
          "time": 521
         },
         {
          "E": 11.773772879182026,
          "series": "E",
          "time": 521
         },
         {
          "I": 12.89828523298109,
          "series": "I",
          "time": 521
         },
         {
          "R": 7.794916004340613,
          "series": "R",
          "time": 521
         },
         {
          "D": 362.3887316520065,
          "series": "D",
          "time": 521
         },
         {
          "H": 5.989961017071892,
          "series": "H",
          "time": 521
         },
         {
          "S": 99.84520999395883,
          "series": "S",
          "time": 522
         },
         {
          "E": 11.737433506124304,
          "series": "E",
          "time": 522
         },
         {
          "I": 12.858475089802182,
          "series": "I",
          "time": 522
         },
         {
          "R": 7.770857246832299,
          "series": "R",
          "time": 522
         },
         {
          "D": 362.81655096824574,
          "series": "D",
          "time": 522
         },
         {
          "H": 5.971473195036544,
          "series": "H",
          "time": 522
         },
         {
          "S": 99.53704087346607,
          "series": "S",
          "time": 523
         },
         {
          "E": 11.701206293089594,
          "series": "E",
          "time": 523
         },
         {
          "I": 12.818787818982761,
          "series": "I",
          "time": 523
         },
         {
          "R": 7.746872745664136,
          "series": "R",
          "time": 523
         },
         {
          "D": 363.24304983391175,
          "series": "D",
          "time": 523
         },
         {
          "H": 5.9530424348856075,
          "series": "H",
          "time": 523
         },
         {
          "S": 99.22982290810091,
          "series": "S",
          "time": 524
         },
         {
          "E": 11.665090893913503,
          "series": "E",
          "time": 524
         },
         {
          "I": 12.779223041299048,
          "series": "I",
          "time": 524
         },
         {
          "R": 7.722962271657954,
          "series": "R",
          "time": 524
         },
         {
          "D": 363.6682323245202,
          "series": "D",
          "time": 524
         },
         {
          "H": 5.934668560508281,
          "series": "H",
          "time": 524
         },
         {
          "S": 98.92355316211575,
          "series": "S",
          "time": 525
         },
         {
          "E": 11.629086963499429,
          "series": "E",
          "time": 525
         },
         {
          "I": 12.739780378696915,
          "series": "I",
          "time": 525
         },
         {
          "R": 7.699125596342402,
          "series": "R",
          "time": 525
         },
         {
          "D": 364.0921025030085,
          "series": "D",
          "time": 525
         },
         {
          "H": 5.916351396336917,
          "series": "H",
          "time": 525
         },
         {
          "S": 98.61822870882574,
          "series": "S",
          "time": 526
         },
         {
          "E": 11.5931941578153,
          "series": "E",
          "time": 526
         },
         {
          "I": 12.700459454288318,
          "series": "I",
          "time": 526
         },
         {
          "R": 7.6753624919507955,
          "series": "R",
          "time": 526
         },
         {
          "D": 364.5146644197744,
          "series": "D",
          "time": 526
         },
         {
          "H": 5.898090767345368,
          "series": "H",
          "time": 526
         },
         {
          "S": 98.31384663058076,
          "series": "S",
          "time": 527
         },
         {
          "E": 11.557412133890312,
          "series": "E",
          "time": 527
         },
         {
          "I": 12.661259892347728,
          "series": "I",
          "time": 527
         },
         {
          "R": 7.651672731418963,
          "series": "R",
          "time": 527
         },
         {
          "D": 364.9359221127149,
          "series": "D",
          "time": 527
         },
         {
          "H": 5.879886499047337,
          "series": "H",
          "time": 527
         },
         {
          "S": 98.01040401873743,
          "series": "S",
          "time": 528
         },
         {
          "E": 11.521740549811675,
          "series": "E",
          "time": 528
         },
         {
          "I": 12.622181318308575,
          "series": "I",
          "time": 528
         },
         {
          "R": 7.628056088383101,
          "series": "R",
          "time": 528
         },
         {
          "D": 365.35587960726446,
          "series": "D",
          "time": 528
         },
         {
          "H": 5.861738417494716,
          "series": "H",
          "time": 528
         },
         {
          "S": 97.70789797363133,
          "series": "S",
          "time": 529
         },
         {
          "E": 11.486179064721377,
          "series": "E",
          "time": 529
         },
         {
          "I": 12.58322335875971,
          "series": "I",
          "time": 529
         },
         {
          "R": 7.60451233717763,
          "series": "R",
          "time": 529
         },
         {
          "D": 365.7745409164339,
          "series": "D",
          "time": 529
         },
         {
          "H": 5.843646349275954,
          "series": "H",
          "time": 529
         },
         {
          "S": 97.40632560454912,
          "series": "S",
          "time": 530
         },
         {
          "E": 11.450727338812955,
          "series": "E",
          "time": 530
         },
         {
          "I": 12.544385641441858,
          "series": "I",
          "time": 530
         },
         {
          "R": 7.581041252833064,
          "series": "R",
          "time": 530
         },
         {
          "D": 366.19191004084854,
          "series": "D",
          "time": 530
         },
         {
          "H": 5.825610121514406,
          "series": "H",
          "time": 530
         },
         {
          "S": 97.10568402970091,
          "series": "S",
          "time": 531
         },
         {
          "E": 11.415385033328267,
          "series": "E",
          "time": 531
         },
         {
          "I": 12.5056677952441,
          "series": "I",
          "time": 531
         },
         {
          "R": 7.5576426110738755,
          "series": "R",
          "time": 531
         },
         {
          "D": 366.6079909687861,
          "series": "D",
          "time": 531
         },
         {
          "H": 5.807629561866701,
          "series": "H",
          "time": 531
         },
         {
          "S": 96.8059703761926,
          "series": "S",
          "time": 532
         },
         {
          "E": 11.380151810554283,
          "series": "E",
          "time": 532
         },
         {
          "I": 12.467069450200356,
          "series": "I",
          "time": 532
         },
         {
          "R": 7.534316188316376,
          "series": "R",
          "time": 532
         },
         {
          "D": 367.0227876762152,
          "series": "D",
          "time": 532
         },
         {
          "H": 5.789704498521111,
          "series": "H",
          "time": 532
         },
         {
          "S": 96.50718177999846,
          "series": "S",
          "time": 533
         },
         {
          "E": 11.345027333819873,
          "series": "E",
          "time": 533
         },
         {
          "I": 12.428590237485874,
          "series": "I",
          "time": 533
         },
         {
          "R": 7.511061761666595,
          "series": "R",
          "time": 533
         },
         {
          "D": 367.43630412683325,
          "series": "D",
          "time": 533
         },
         {
          "H": 5.77183476019592,
          "series": "H",
          "time": 533
         },
         {
          "S": 96.20931538593359,
          "series": "S",
          "time": 534
         },
         {
          "E": 11.310011267492616,
          "series": "E",
          "time": 534
         },
         {
          "I": 12.390229789413738,
          "series": "I",
          "time": 534
         },
         {
          "R": 7.48787910891817,
          "series": "R",
          "time": 534
         },
         {
          "D": 367.84854427210405,
          "series": "D",
          "time": 534
         },
         {
          "H": 5.754020176137802,
          "series": "H",
          "time": 534
         },
         {
          "S": 95.91236834762668,
          "series": "S",
          "time": 535
         },
         {
          "E": 11.275103276975612,
          "series": "E",
          "time": 535
         },
         {
          "I": 12.351987739431372,
          "series": "I",
          "time": 535
         },
         {
          "R": 7.464768008550238,
          "series": "R",
          "time": 535
         },
         {
          "D": 368.25951205129587,
          "series": "D",
          "time": 535
         },
         {
          "H": 5.736260576120202,
          "series": "H",
          "time": 535
         },
         {
          "S": 95.6163378274927,
          "series": "S",
          "time": 536
         },
         {
          "E": 11.240303028704306,
          "series": "E",
          "time": 536
         },
         {
          "I": 12.31386372211707,
          "series": "I",
          "time": 536
         },
         {
          "R": 7.441728239725336,
          "series": "R",
          "time": 536
         },
         {
          "D": 368.66921139151884,
          "series": "D",
          "time": 536
         },
         {
          "H": 5.718555790441724,
          "series": "H",
          "time": 536
         },
         {
          "S": 95.32122099670575,
          "series": "S",
          "time": 537
         },
         {
          "E": 11.205610190143311,
          "series": "E",
          "time": 537
         },
         {
          "I": 12.275857373176523,
          "series": "I",
          "time": 537
         },
         {
          "R": 7.418759582287306,
          "series": "R",
          "time": 537
         },
         {
          "D": 369.0776462077626,
          "series": "D",
          "time": 537
         },
         {
          "H": 5.7009056499245165,
          "series": "H",
          "time": 537
         },
         {
          "S": 95.02701503517197,
          "series": "S",
          "time": 538
         },
         {
          "E": 11.171024429783259,
          "series": "E",
          "time": 538
         },
         {
          "I": 12.237968329439363,
          "series": "I",
          "time": 538
         },
         {
          "R": 7.395861816759205,
          "series": "R",
          "time": 538
         },
         {
          "D": 369.4848204029335,
          "series": "D",
          "time": 538
         },
         {
          "H": 5.683309985912671,
          "series": "H",
          "time": 538
         },
         {
          "S": 94.73371713150256,
          "series": "S",
          "time": 539
         },
         {
          "E": 11.13654541713764,
          "series": "E",
          "time": 539
         },
         {
          "I": 12.200196228855711,
          "series": "I",
          "time": 539
         },
         {
          "R": 7.373034724341224,
          "series": "R",
          "time": 539
         },
         {
          "D": 369.8907378678922,
          "series": "D",
          "time": 539
         },
         {
          "H": 5.665768630270618,
          "series": "H",
          "time": 539
         },
         {
          "S": 94.44132448298686,
          "series": "S",
          "time": 540
         },
         {
          "E": 11.10217282273967,
          "series": "E",
          "time": 540
         },
         {
          "I": 12.162540710492742,
          "series": "I",
          "time": 540
         },
         {
          "R": 7.350278086908607,
          "series": "R",
          "time": 540
         },
         {
          "D": 370.29540248149056,
          "series": "D",
          "time": 540
         },
         {
          "H": 5.648281415381533,
          "series": "H",
          "time": 540
         },
         {
          "S": 94.14983429556554,
          "series": "S",
          "time": 541
         },
         {
          "E": 11.067906318139144,
          "series": "E",
          "time": 541
         },
         {
          "I": 12.12500141453125,
          "series": "I",
          "time": 541
         },
         {
          "R": 7.327591687009581,
          "series": "R",
          "time": 541
         },
         {
          "D": 370.6988181106087,
          "series": "D",
          "time": 541
         },
         {
          "H": 5.6308481741457435,
          "series": "H",
          "time": 541
         },
         {
          "S": 93.85924378380383,
          "series": "S",
          "time": 542
         },
         {
          "E": 11.033745575899331,
          "series": "E",
          "time": 542
         },
         {
          "I": 12.087577982262232,
          "series": "I",
          "time": 542
         },
         {
          "R": 7.304975307863291,
          "series": "R",
          "time": 542
         },
         {
          "D": 371.10098861019213,
          "series": "D",
          "time": 542
         },
         {
          "H": 5.613468739979141,
          "series": "H",
          "time": 542
         },
         {
          "S": 93.5695501708649,
          "series": "S",
          "time": 543
         },
         {
          "E": 10.999690269593836,
          "series": "E",
          "time": 543
         },
         {
          "I": 12.050270056083479,
          "series": "I",
          "time": 543
         },
         {
          "R": 7.282428733357741,
          "series": "R",
          "time": 543
         },
         {
          "D": 371.5019178232884,
          "series": "D",
          "time": 543
         },
         {
          "H": 5.5961429468116,
          "series": "H",
          "time": 543
         },
         {
          "S": 93.28075068848327,
          "series": "S",
          "time": 544
         },
         {
          "E": 10.965740073803513,
          "series": "E",
          "time": 544
         },
         {
          "I": 12.013077279496171,
          "series": "I",
          "time": 544
         },
         {
          "R": 7.259951748047737,
          "series": "R",
          "time": 544
         },
         {
          "D": 371.9016095810839,
          "series": "D",
          "time": 544
         },
         {
          "H": 5.5788706290853955,
          "series": "H",
          "time": 544
         },
         {
          "S": 92.99284257693829,
          "series": "S",
          "time": 545
         },
         {
          "E": 10.931894664113363,
          "series": "E",
          "time": 545
         },
         {
          "I": 11.975999297101493,
          "series": "I",
          "time": 545
         },
         {
          "R": 7.23754413715284,
          "series": "R",
          "time": 545
         },
         {
          "D": 372.30006770294034,
          "series": "D",
          "time": 545
         },
         {
          "H": 5.561651621753633,
          "series": "H",
          "time": 545
         },
         {
          "S": 92.70582308502782,
          "series": "S",
          "time": 546
         },
         {
          "E": 10.89815371710944,
          "series": "E",
          "time": 546
         },
         {
          "I": 11.939035754597251,
          "series": "I",
          "time": 546
         },
         {
          "R": 7.215205686555325,
          "series": "R",
          "time": 546
         },
         {
          "D": 372.6972959964314,
          "series": "D",
          "time": 546
         },
         {
          "H": 5.544485760278677,
          "series": "H",
          "time": 546
         },
         {
          "S": 92.41968947004182,
          "series": "S",
          "time": 547
         },
         {
          "E": 10.864516910375777,
          "series": "E",
          "time": 547
         },
         {
          "I": 11.902186298774497,
          "series": "I",
          "time": 547
         },
         {
          "R": 7.192936182798143,
          "series": "R",
          "time": 547
         },
         {
          "D": 373.0932982573791,
          "series": "D",
          "time": 547
         },
         {
          "H": 5.527372880630589,
          "series": "H",
          "time": 547
         },
         {
          "S": 92.13443899773615,
          "series": "S",
          "time": 548
         },
         {
          "E": 10.830983922491315,
          "series": "E",
          "time": 548
         },
         {
          "I": 11.865450577514176,
          "series": "I",
          "time": 548
         },
         {
          "R": 7.170735413082892,
          "series": "R",
          "time": 548
         },
         {
          "D": 373.4880782698898,
          "series": "D",
          "time": 548
         },
         {
          "H": 5.510312819285561,
          "series": "H",
          "time": 548
         },
         {
          "S": 91.85006894230644,
          "series": "S",
          "time": 549
         },
         {
          "E": 10.797554433026848,
          "series": "E",
          "time": 549
         },
         {
          "I": 11.828828239783768,
          "series": "I",
          "time": 549
         },
         {
          "R": 7.148603165267791,
          "series": "R",
          "time": 549
         },
         {
          "D": 373.8816398063907,
          "series": "D",
          "time": 549
         },
         {
          "H": 5.493305413224366,
          "series": "H",
          "time": 549
         },
         {
          "S": 91.56657658636195,
          "series": "S",
          "time": 550
         },
         {
          "E": 10.764228122541958,
          "series": "E",
          "time": 550
         },
         {
          "I": 11.792318935633954,
          "series": "I",
          "time": 550
         },
         {
          "R": 7.126539227865661,
          "series": "R",
          "time": 550
         },
         {
          "D": 374.2739866276656,
          "series": "D",
          "time": 550
         },
         {
          "H": 5.476350499930803,
          "series": "H",
          "time": 550
         },
         {
          "S": 91.2839592208996,
          "series": "S",
          "time": 551
         },
         {
          "E": 10.731004672581985,
          "series": "E",
          "time": 551
         },
         {
          "I": 11.755922316195274,
          "series": "I",
          "time": 551
         },
         {
          "R": 7.104543390041915,
          "series": "R",
          "time": 551
         },
         {
          "D": 374.665122482891,
          "series": "D",
          "time": 551
         },
         {
          "H": 5.4594479173901505,
          "series": "H",
          "time": 551
         },
         {
          "S": 91.00221414527812,
          "series": "S",
          "time": 552
         },
         {
          "E": 10.697883765674987,
          "series": "E",
          "time": 552
         },
         {
          "I": 11.719638033674816,
          "series": "I",
          "time": 552
         },
         {
          "R": 7.082615441612546,
          "series": "R",
          "time": 552
         },
         {
          "D": 375.0550511096718,
          "series": "D",
          "time": 552
         },
         {
          "H": 5.442597504087628,
          "series": "H",
          "time": 552
         },
         {
          "S": 90.72133866719211,
          "series": "S",
          "time": 553
         },
         {
          "E": 10.664865085328714,
          "series": "E",
          "time": 553
         },
         {
          "I": 11.683465741352892,
          "series": "I",
          "time": 553
         },
         {
          "R": 7.060755173042132,
          "series": "R",
          "time": 553
         },
         {
          "D": 375.4437762340772,
          "series": "D",
          "time": 553
         },
         {
          "H": 5.42579909900685,
          "series": "H",
          "time": 553
         },
         {
          "S": 90.44133010264639,
          "series": "S",
          "time": 554
         },
         {
          "E": 10.631948316027595,
          "series": "E",
          "time": 554
         },
         {
          "I": 11.647405093579746,
          "series": "I",
          "time": 554
         },
         {
          "R": 7.038962375441833,
          "series": "R",
          "time": 554
         },
         {
          "D": 375.831301570676,
          "series": "D",
          "time": 554
         },
         {
          "H": 5.409052541628304,
          "series": "H",
          "time": 554
         },
         {
          "S": 90.16218577593027,
          "series": "S",
          "time": 555
         },
         {
          "E": 10.599133143229729,
          "series": "E",
          "time": 555
         },
         {
          "I": 11.611455745772258,
          "series": "I",
          "time": 555
         },
         {
          "R": 7.01723684056741,
          "series": "R",
          "time": 555
         },
         {
          "D": 376.21763082257235,
          "series": "D",
          "time": 555
         },
         {
          "H": 5.392357671927808,
          "series": "H",
          "time": 555
         },
         {
          "S": 89.88390301959197,
          "series": "S",
          "time": 556
         },
         {
          "E": 10.566419253363891,
          "series": "E",
          "time": 556
         },
         {
          "I": 11.575617354410657,
          "series": "I",
          "time": 556
         },
         {
          "R": 6.995578360817235,
          "series": "R",
          "time": 556
         },
         {
          "D": 376.6027676814411,
          "series": "D",
          "time": 556
         },
         {
          "H": 5.375714330375,
          "series": "H",
          "time": 556
         },
         {
          "S": 89.60647917441312,
          "series": "S",
          "time": 557
         },
         {
          "E": 10.533806333826538,
          "series": "E",
          "time": 557
         },
         {
          "I": 11.539889577035254,
          "series": "I",
          "time": 557
         },
         {
          "R": 6.973986729230315,
          "series": "R",
          "time": 557
         },
         {
          "D": 376.9867158275628,
          "series": "D",
          "time": 557
         },
         {
          "H": 5.359122357931809,
          "series": "H",
          "time": 557
         },
         {
          "S": 89.32991158938334,
          "series": "S",
          "time": 558
         },
         {
          "E": 10.50129407297883,
          "series": "E",
          "time": 558
         },
         {
          "I": 11.504272072243172,
          "series": "I",
          "time": 558
         },
         {
          "R": 6.952461739484325,
          "series": "R",
          "time": 558
         },
         {
          "D": 377.36947892985927,
          "series": "D",
          "time": 558
         },
         {
          "H": 5.342581596050942,
          "series": "H",
          "time": 558
         },
         {
          "S": 89.05419762167486,
          "series": "S",
          "time": 559
         },
         {
          "E": 10.46888216014366,
          "series": "E",
          "time": 559
         },
         {
          "I": 11.468764499685097,
          "series": "I",
          "time": 559
         },
         {
          "R": 6.9310031858936325,
          "series": "R",
          "time": 559
         },
         {
          "D": 377.75106064592825,
          "series": "D",
          "time": 559
         },
         {
          "H": 5.326091886674374,
          "series": "H",
          "time": 559
         },
         {
          "S": 88.77933463661726,
          "series": "S",
          "time": 560
         },
         {
          "E": 10.436570285602688,
          "series": "E",
          "time": 560
         },
         {
          "I": 11.433366520062034,
          "series": "I",
          "time": 560
         },
         {
          "R": 6.909610863407345,
          "series": "R",
          "time": 560
         },
         {
          "D": 378.1314646220787,
          "series": "D",
          "time": 560
         },
         {
          "H": 5.309653072231843,
          "series": "H",
          "time": 560
         },
         {
          "S": 88.50532000767231,
          "series": "S",
          "time": 561
         },
         {
          "E": 10.404358140593393,
          "series": "E",
          "time": 561
         },
         {
          "I": 11.398077795122067,
          "series": "I",
          "time": 561
         },
         {
          "R": 6.8882845676073545,
          "series": "R",
          "time": 561
         },
         {
          "D": 378.5106944933654,
          "series": "D",
          "time": 561
         },
         {
          "H": 5.293264995639344,
          "series": "H",
          "time": 561
         },
         {
          "S": 88.2321511164088,
          "series": "S",
          "time": 562
         },
         {
          "E": 10.372245417306127,
          "series": "E",
          "time": 562
         },
         {
          "I": 11.362897987657139,
          "series": "I",
          "time": 562
         },
         {
          "R": 6.867024094706385,
          "series": "R",
          "time": 562
         },
         {
          "D": 378.8887538836238,
          "series": "D",
          "time": 562
         },
         {
          "H": 5.276927500297636,
          "series": "H",
          "time": 562
         },
         {
          "S": 87.95982535247754,
          "series": "S",
          "time": 563
         },
         {
          "E": 10.340231808881173,
          "series": "E",
          "time": 563
         },
         {
          "I": 11.327826761499837,
          "series": "I",
          "time": 563
         },
         {
          "R": 6.845829241546053,
          "series": "R",
          "time": 563
         },
         {
          "D": 379.2656464055045,
          "series": "D",
          "time": 563
         },
         {
          "H": 5.260640430090746,
          "series": "H",
          "time": 563
         },
         {
          "S": 87.68834011358638,
          "series": "S",
          "time": 564
         },
         {
          "E": 10.30831700940583,
          "series": "E",
          "time": 564
         },
         {
          "I": 11.292863781520184,
          "series": "I",
          "time": 564
         },
         {
          "R": 6.824699805594931,
          "series": "R",
          "time": 564
         },
         {
          "D": 379.64137566050806,
          "series": "D",
          "time": 564
         },
         {
          "H": 5.244403629384482,
          "series": "H",
          "time": 564
         },
         {
          "S": 87.41769280547534,
          "series": "S",
          "time": 565
         },
         {
          "E": 10.276500713911478,
          "series": "E",
          "time": 565
         },
         {
          "I": 11.258008713622443,
          "series": "I",
          "time": 565
         },
         {
          "R": 6.803635584946615,
          "series": "R",
          "time": 565
         },
         {
          "D": 380.01594523901906,
          "series": "D",
          "time": 565
         },
         {
          "H": 5.2282169430249485,
          "series": "H",
          "time": 565
         },
         {
          "S": 87.14788084189183,
          "series": "S",
          "time": 566
         },
         {
          "E": 10.244782618370685,
          "series": "E",
          "time": 566
         },
         {
          "I": 11.223261224741933,
          "series": "I",
          "time": 566
         },
         {
          "R": 6.782636378317799,
          "series": "R",
          "time": 566
         },
         {
          "D": 380.38935872034057,
          "series": "D",
          "time": 566
         },
         {
          "H": 5.2120802163370685,
          "series": "H",
          "time": 566
         },
         {
          "S": 86.87890164456589,
          "series": "S",
          "time": 567
         },
         {
          "E": 10.2131624196943,
          "series": "E",
          "time": 567
         },
         {
          "I": 11.188620982841847,
          "series": "I",
          "time": 567
         },
         {
          "R": 6.761701985046357,
          "series": "R",
          "time": 567
         },
         {
          "D": 380.7616196727284,
          "series": "D",
          "time": 567
         },
         {
          "H": 5.195993295123105,
          "series": "H",
          "time": 567
         },
         {
          "S": 86.61075264318552,
          "series": "S",
          "time": 568
         },
         {
          "E": 10.181639815728554,
          "series": "E",
          "time": 568
         },
         {
          "I": 11.154087656910097,
          "series": "I",
          "time": 568
         },
         {
          "R": 6.740832205089426,
          "series": "R",
          "time": 568
         },
         {
          "D": 381.1327316534251,
          "series": "D",
          "time": 568
         },
         {
          "H": 5.179956025661195,
          "series": "H",
          "time": 568
         },
         {
          "S": 86.34343127537218,
          "series": "S",
          "time": 569
         },
         {
          "E": 10.150214505252189,
          "series": "E",
          "time": 569
         },
         {
          "I": 11.119660916956137,
          "series": "I",
          "time": 569
         },
         {
          "R": 6.720026839021501,
          "series": "R",
          "time": 569
         },
         {
          "D": 381.50269820869397,
          "series": "D",
          "time": 569
         },
         {
          "H": 5.163968254703877,
          "series": "H",
          "time": 569
         },
         {
          "S": 86.07693498665623,
          "series": "S",
          "time": 570
         },
         {
          "E": 10.118886187973576,
          "series": "E",
          "time": 570
         },
         {
          "I": 11.085340434007833,
          "series": "I",
          "time": 570
         },
         {
          "R": 6.699285688032533,
          "series": "R",
          "time": 570
         },
         {
          "D": 381.87152287385305,
          "series": "D",
          "time": 570
         },
         {
          "H": 5.148029829476636,
          "series": "H",
          "time": 570
         },
         {
          "S": 85.81126123045253,
          "series": "S",
          "time": 571
         },
         {
          "E": 10.087654564527853,
          "series": "E",
          "time": 571
         },
         {
          "I": 11.051125880108314,
          "series": "I",
          "time": 571
         },
         {
          "R": 6.678608553926027,
          "series": "R",
          "time": 571
         },
         {
          "D": 382.2392091733087,
          "series": "D",
          "time": 571
         },
         {
          "H": 5.13214059767644,
          "series": "H",
          "time": 571
         },
         {
          "S": 85.5464074680361,
          "series": "S",
          "time": 572
         },
         {
          "E": 10.056519336474064,
          "series": "E",
          "time": 572
         },
         {
          "I": 11.017016928312845,
          "series": "I",
          "time": 572
         },
         {
          "R": 6.65799523911716,
          "series": "R",
          "time": 572
         },
         {
          "D": 382.6057606205894,
          "series": "D",
          "time": 572
         },
         {
          "H": 5.116300407470291,
          "series": "H",
          "time": 572
         },
         {
          "S": 85.28237116851783,
          "series": "S",
          "time": 573
         },
         {
          "E": 10.025480206292315,
          "series": "E",
          "time": 573
         },
         {
          "I": 10.98301325268571,
          "series": "I",
          "time": 573
         },
         {
          "R": 6.6374455466308895,
          "series": "R",
          "time": 573
         },
         {
          "D": 382.97118071837934,
          "series": "D",
          "time": 573
         },
         {
          "H": 5.100509107493777,
          "series": "H",
          "time": 573
         },
         {
          "S": 85.01914980882033,
          "series": "S",
          "time": 574
         },
         {
          "E": 9.994536877380929,
          "series": "E",
          "time": 574
         },
         {
          "I": 10.949114528297097,
          "series": "I",
          "time": 574
         },
         {
          "R": 6.616959280100073,
          "series": "R",
          "time": 574
         },
         {
          "D": 383.3354729585518,
          "series": "D",
          "time": 574
         },
         {
          "H": 5.084766546849622,
          "series": "H",
          "time": 574
         },
         {
          "S": 84.75674087365378,
          "series": "S",
          "time": 575
         },
         {
          "E": 9.963689054053622,
          "series": "E",
          "time": 575
         },
         {
          "I": 10.91532043122,
          "series": "I",
          "time": 575
         },
         {
          "R": 6.596536243763599,
          "series": "R",
          "time": 575
         },
         {
          "D": 383.6986408222026,
          "series": "D",
          "time": 575
         },
         {
          "H": 5.069072575106253,
          "series": "H",
          "time": 575
         },
         {
          "S": 84.49514185549188,
          "series": "S",
          "time": 576
         },
         {
          "E": 9.932936441536675,
          "series": "E",
          "time": 576
         },
         {
          "I": 10.88163063852713,
          "series": "I",
          "time": 576
         },
         {
          "R": 6.576176242464516,
          "series": "R",
          "time": 576
         },
         {
          "D": 384.0606877796833,
          "series": "D",
          "time": 576
         },
         {
          "H": 5.0534270422963585,
          "series": "H",
          "time": 576
         },
         {
          "S": 84.23435025454788,
          "series": "S",
          "time": 577
         },
         {
          "E": 9.902278745966123,
          "series": "E",
          "time": 577
         },
         {
          "I": 10.848044828287824,
          "series": "I",
          "time": 577
         },
         {
          "R": 6.555879081648171,
          "series": "R",
          "time": 577
         },
         {
          "D": 384.4216172906344,
          "series": "D",
          "time": 577
         },
         {
          "H": 5.037829798915462,
          "series": "H",
          "time": 577
         },
         {
          "S": 83.9743635787507,
          "series": "S",
          "time": 578
         },
         {
          "E": 9.871715674384944,
          "series": "E",
          "time": 578
         },
         {
          "I": 10.814562679564984,
          "series": "I",
          "time": 578
         },
         {
          "R": 6.535644567360351,
          "series": "R",
          "time": 578
         },
         {
          "D": 384.7814328040184,
          "series": "D",
          "time": 578
         },
         {
          "H": 5.022280695920493,
          "series": "H",
          "time": 578
         },
         {
          "S": 83.71517934372112,
          "series": "S",
          "time": 579
         },
         {
          "E": 9.84124693474027,
          "series": "E",
          "time": 579
         },
         {
          "I": 10.781183872412004,
          "series": "I",
          "time": 579
         },
         {
          "R": 6.515472506245436,
          "series": "R",
          "time": 579
         },
         {
          "D": 385.14013775815266,
          "series": "D",
          "time": 579
         },
         {
          "H": 5.006779584728363,
          "series": "H",
          "time": 579
         },
         {
          "S": 83.45679507274801,
          "series": "S",
          "time": 580
         },
         {
          "E": 9.810872235880595,
          "series": "E",
          "time": 580
         },
         {
          "I": 10.747908087869721,
          "series": "I",
          "time": 580
         },
         {
          "R": 6.4953627055445455,
          "series": "R",
          "time": 580
         },
         {
          "D": 385.4977355807424,
          "series": "D",
          "time": 580
         },
         {
          "H": 4.991326317214552,
          "series": "H",
          "time": 580
         },
         {
          "S": 83.19920829676464,
          "series": "S",
          "time": 581
         },
         {
          "E": 9.780591287552996,
          "series": "E",
          "time": 581
         },
         {
          "I": 10.71473500796337,
          "series": "I",
          "time": 581
         },
         {
          "R": 6.475314973093708,
          "series": "R",
          "time": 581
         },
         {
          "D": 385.85422968891345,
          "series": "D",
          "time": 581
         },
         {
          "H": 4.975920745711687,
          "series": "H",
          "time": 581
         },
         {
          "S": 82.94241655432515,
          "series": "S",
          "time": 582
         },
         {
          "E": 9.75040380040036,
          "series": "E",
          "time": 582
         },
         {
          "I": 10.681664315699544,
          "series": "I",
          "time": 582
         },
         {
          "R": 6.455329117322021,
          "series": "R",
          "time": 582
         },
         {
          "D": 386.2096234892446,
          "series": "D",
          "time": 582
         },
         {
          "H": 4.960562723008142,
          "series": "H",
          "time": 582
         },
         {
          "S": 82.68641739158093,
          "series": "S",
          "time": 583
         },
         {
          "E": 9.720309485958623,
          "series": "E",
          "time": 583
         },
         {
          "I": 10.648695695063173,
          "series": "I",
          "time": 583
         },
         {
          "R": 6.435404947249823,
          "series": "R",
          "time": 583
         },
         {
          "D": 386.5639203778007,
          "series": "D",
          "time": 583
         },
         {
          "H": 4.945252102346623,
          "series": "H",
          "time": 583
         },
         {
          "S": 82.43120836225724,
          "series": "S",
          "time": 584
         },
         {
          "E": 9.690308056654013,
          "series": "E",
          "time": 584
         },
         {
          "I": 10.615828831014504,
          "series": "I",
          "time": 584
         },
         {
          "R": 6.415542272486871,
          "series": "R",
          "time": 584
         },
         {
          "D": 386.91712374016447,
          "series": "D",
          "time": 584
         },
         {
          "H": 4.929988737422773,
          "series": "H",
          "time": 584
         },
         {
          "S": 82.17678702762979,
          "series": "S",
          "time": 585
         },
         {
          "E": 9.660399225800312,
          "series": "E",
          "time": 585
         },
         {
          "I": 10.583063409486094,
          "series": "I",
          "time": 585
         },
         {
          "R": 6.395740903230522,
          "series": "R",
          "time": 585
         },
         {
          "D": 387.2692369514694,
          "series": "D",
          "time": 585
         },
         {
          "H": 4.914772482383774,
          "series": "H",
          "time": 585
         },
         {
          "S": 81.92315095650143,
          "series": "S",
          "time": 586
         },
         {
          "E": 9.630582707596103,
          "series": "E",
          "time": 586
         },
         {
          "I": 10.550399117379811,
          "series": "I",
          "time": 586
         },
         {
          "R": 6.376000650263923,
          "series": "R",
          "time": 586
         },
         {
          "D": 387.62026337643164,
          "series": "D",
          "time": 586
         },
         {
          "H": 4.899603191826956,
          "series": "H",
          "time": 586
         },
         {
          "S": 81.67029772517894,
          "series": "S",
          "time": 587
         },
         {
          "E": 9.600858217122058,
          "series": "E",
          "time": 587
         },
         {
          "I": 10.517835642563847,
          "series": "I",
          "time": 587
         },
         {
          "R": 6.3563213249542,
          "series": "R",
          "time": 587
         },
         {
          "D": 387.9702063693824,
          "series": "D",
          "time": 587
         },
         {
          "H": 4.884480720798403,
          "series": "H",
          "time": 587
         },
         {
          "S": 81.41822491744985,
          "series": "S",
          "time": 588
         },
         {
          "E": 9.571225470338206,
          "series": "E",
          "time": 588
         },
         {
          "I": 10.485372673869728,
          "series": "I",
          "time": 588
         },
         {
          "R": 6.336702739250663,
          "series": "R",
          "time": 588
         },
         {
          "D": 388.31906927429986,
          "series": "D",
          "time": 588
         },
         {
          "H": 4.869404924791575,
          "series": "H",
          "time": 588
         },
         {
          "S": 81.16693012455933,
          "series": "S",
          "time": 589
         },
         {
          "E": 9.541684184081223,
          "series": "E",
          "time": 589
         },
         {
          "I": 10.453009901089358,
          "series": "I",
          "time": 589
         },
         {
          "R": 6.317144705683004,
          "series": "R",
          "time": 589
         },
         {
          "D": 388.66685542484106,
          "series": "D",
          "time": 589
         },
         {
          "H": 4.854375659745927,
          "series": "H",
          "time": 589
         },
         {
          "S": 80.91641094518721,
          "series": "S",
          "time": 590
         },
         {
          "E": 9.51223407606173,
          "series": "E",
          "time": 590
         },
         {
          "I": 10.420747014972045,
          "series": "I",
          "time": 590
         },
         {
          "R": 6.297647037359513,
          "series": "R",
          "time": 590
         },
         {
          "D": 389.0135681443739,
          "series": "D",
          "time": 590
         },
         {
          "H": 4.839392782045531,
          "series": "H",
          "time": 590
         },
         {
          "S": 80.66666498542496,
          "series": "S",
          "time": 591
         },
         {
          "E": 9.482874864861598,
          "series": "E",
          "time": 591
         },
         {
          "I": 10.38858370722155,
          "series": "I",
          "time": 591
         },
         {
          "R": 6.278209547965289,
          "series": "R",
          "time": 591
         },
         {
          "D": 389.35921074600884,
          "series": "D",
          "time": 591
         },
         {
          "H": 4.824456148517705,
          "series": "H",
          "time": 591
         },
         {
          "S": 80.4176898587529,
          "series": "S",
          "time": 592
         },
         {
          "E": 9.453606269931251,
          "series": "E",
          "time": 592
         },
         {
          "I": 10.356519670493144,
          "series": "I",
          "time": 592
         },
         {
          "R": 6.258832051760461,
          "series": "R",
          "time": 592
         },
         {
          "D": 389.70378653263055,
          "series": "D",
          "time": 592
         },
         {
          "H": 4.80956561643165,
          "series": "H",
          "time": 592
         },
         {
          "S": 80.1694831860173,
          "series": "S",
          "time": 593
         },
         {
          "E": 9.424428011586995,
          "series": "E",
          "time": 593
         },
         {
          "I": 10.324554598390678,
          "series": "I",
          "time": 593
         },
         {
          "R": 6.239514363578417,
          "series": "R",
          "time": 593
         },
         {
          "D": 390.04729879692945,
          "series": "D",
          "time": 593
         },
         {
          "H": 4.79472104349708,
          "series": "H",
          "time": 593
         },
         {
          "S": 79.92204259540773,
          "series": "S",
          "time": 594
         },
         {
          "E": 9.395339811008348,
          "series": "E",
          "time": 594
         },
         {
          "I": 10.292688185463646,
          "series": "I",
          "time": 594
         },
         {
          "R": 6.220256298824035,
          "series": "R",
          "time": 594
         },
         {
          "D": 390.38975082143327,
          "series": "D",
          "time": 594
         },
         {
          "H": 4.779922287862869,
          "series": "H",
          "time": 594
         },
         {
          "S": 79.67536572243432,
          "series": "S",
          "time": 595
         },
         {
          "E": 9.366341390235375,
          "series": "E",
          "time": 595
         },
         {
          "I": 10.260920127204278,
          "series": "I",
          "time": 595
         },
         {
          "R": 6.201057673471919,
          "series": "R",
          "time": 595
         },
         {
          "D": 390.7311458785383,
          "series": "D",
          "time": 595
         },
         {
          "H": 4.765169208115694,
          "series": "H",
          "time": 595
         },
         {
          "S": 79.42945020990518,
          "series": "S",
          "time": 596
         },
         {
          "E": 9.337432472166027,
          "series": "E",
          "time": 596
         },
         {
          "I": 10.229250120044622,
          "series": "I",
          "time": 596
         },
         {
          "R": 6.181918304064639,
          "series": "R",
          "time": 596
         },
         {
          "D": 391.07148723054075,
          "series": "D",
          "time": 596
         },
         {
          "H": 4.750461663278686,
          "series": "H",
          "time": 596
         },
         {
          "S": 79.18429370790392,
          "series": "S",
          "time": 597
         },
         {
          "E": 9.308612780553501,
          "series": "E",
          "time": 597
         },
         {
          "I": 10.197677861353656,
          "series": "I",
          "time": 597
         },
         {
          "R": 6.1628380077109846,
          "series": "R",
          "time": 597
         },
         {
          "D": 391.4107781296678,
          "series": "D",
          "time": 597
         },
         {
          "H": 4.73579951281008,
          "series": "H",
          "time": 597
         },
         {
          "S": 78.9398938737671,
          "series": "S",
          "time": 598
         },
         {
          "E": 9.279882040003601,
          "series": "E",
          "time": 598
         },
         {
          "I": 10.166203049434385,
          "series": "I",
          "time": 598
         },
         {
          "R": 6.143816602084215,
          "series": "R",
          "time": 598
         },
         {
          "D": 391.74902181810876,
          "series": "D",
          "time": 598
         },
         {
          "H": 4.721182616601875,
          "series": "H",
          "time": 598
         },
         {
          "S": 78.69624837206194,
          "series": "S",
          "time": 599
         },
         {
          "E": 9.251239975972105,
          "series": "E",
          "time": 599
         },
         {
          "I": 10.134825383520973,
          "series": "I",
          "time": 599
         },
         {
          "R": 6.1248539054203155,
          "series": "R",
          "time": 599
         },
         {
          "D": 392.0862215280461,
          "series": "D",
          "time": 599
         },
         {
          "H": 4.706610834978498,
          "series": "H",
          "time": 599
         },
         {
          "S": 78.45335487456394,
          "series": "S",
          "time": 600
         },
         {
          "E": 9.222686314762141,
          "series": "E",
          "time": 600
         },
         {
          "I": 10.103544563775857,
          "series": "I",
          "time": 600
         },
         {
          "R": 6.105949736516268,
          "series": "R",
          "time": 600
         },
         {
          "D": 392.4223804816863,
          "series": "D",
          "time": 600
         },
         {
          "H": 4.692084028695465,
          "series": "H",
          "time": 600
         },
         {
          "S": 78.21121106023465,
          "series": "S",
          "time": 601
         },
         {
          "E": 9.194220783521578,
          "series": "E",
          "time": 601
         },
         {
          "I": 10.072360291286895,
          "series": "I",
          "time": 601
         },
         {
          "R": 6.0871039147283135,
          "series": "R",
          "time": 601
         },
         {
          "D": 392.7575018912905,
          "series": "D",
          "time": 601
         },
         {
          "H": 4.6776020589380565,
          "series": "H",
          "time": 601
         },
         {
          "S": 77.96981461519947,
          "series": "S",
          "time": 602
         },
         {
          "E": 9.165843110240417,
          "series": "E",
          "time": 602
         },
         {
          "I": 10.041272268064498,
          "series": "I",
          "time": 602
         },
         {
          "R": 6.068316259970228,
          "series": "R",
          "time": 602
         },
         {
          "D": 393.09158895920535,
          "series": "D",
          "time": 602
         },
         {
          "H": 4.663164787319986,
          "series": "H",
          "time": 602
         },
         {
          "S": 77.72916323272554,
          "series": "S",
          "time": 603
         },
         {
          "E": 9.137553023748188,
          "series": "E",
          "time": 603
         },
         {
          "I": 10.010280197038796,
          "series": "I",
          "time": 603
         },
         {
          "R": 6.049586592711606,
          "series": "R",
          "time": 603
         },
         {
          "D": 393.42464487789374,
          "series": "D",
          "time": 603
         },
         {
          "H": 4.648772075882085,
          "series": "H",
          "time": 603
         },
         {
          "S": 77.48925461319975,
          "series": "S",
          "time": 604
         },
         {
          "E": 9.109350253711368,
          "series": "E",
          "time": 604
         },
         {
          "I": 9.979383782056793,
          "series": "I",
          "time": 604
         },
         {
          "R": 6.030914733976143,
          "series": "R",
          "time": 604
         },
         {
          "D": 393.75667282996494,
          "series": "D",
          "time": 604
         },
         {
          "H": 4.634423787090975,
          "series": "H",
          "time": 604
         },
         {
          "S": 77.25008646410666,
          "series": "S",
          "time": 605
         },
         {
          "E": 9.081234530630793,
          "series": "E",
          "time": 605
         },
         {
          "I": 9.94858272787954,
          "series": "I",
          "time": 605
         },
         {
          "R": 6.012300505339924,
          "series": "R",
          "time": 605
         },
         {
          "D": 394.08767598820526,
          "series": "D",
          "time": 605
         },
         {
          "H": 4.620119783837766,
          "series": "H",
          "time": 605
         },
         {
          "S": 77.01165650000668,
          "series": "S",
          "time": 606
         },
         {
          "E": 9.053205585839084,
          "series": "E",
          "time": 606
         },
         {
          "I": 9.917876740179313,
          "series": "I",
          "time": 606
         },
         {
          "R": 5.993743728929726,
          "series": "R",
          "time": 606
         },
         {
          "D": 394.4176575156084,
          "series": "D",
          "time": 606
         },
         {
          "H": 4.605859929436738,
          "series": "H",
          "time": 606
         },
         {
          "S": 76.77396244251419,
          "series": "S",
          "time": 607
         },
         {
          "E": 9.02526315149808,
          "series": "E",
          "time": 607
         },
         {
          "I": 9.887265525536806,
          "series": "I",
          "time": 607
         },
         {
          "R": 5.975244227421308,
          "series": "R",
          "time": 607
         },
         {
          "D": 394.7466205654055,
          "series": "D",
          "time": 607
         },
         {
          "H": 4.591644087624037,
          "series": "H",
          "time": 607
         },
         {
          "S": 76.53700202027578,
          "series": "S",
          "time": 608
         },
         {
          "E": 8.997406960596285,
          "series": "E",
          "time": 608
         },
         {
          "I": 9.856748791438322,
          "series": "I",
          "time": 608
         },
         {
          "R": 5.956801824037727,
          "series": "R",
          "time": 608
         },
         {
          "D": 395.0745682810954,
          "series": "D",
          "time": 608
         },
         {
          "H": 4.577472122556379,
          "series": "H",
          "time": 608
         },
         {
          "S": 76.30077296894854,
          "series": "S",
          "time": 609
         },
         {
          "E": 8.969636746946309,
          "series": "E",
          "time": 609
         },
         {
          "I": 9.826326246272984,
          "series": "I",
          "time": 609
         },
         {
          "R": 5.938416342547646,
          "series": "R",
          "time": 609
         },
         {
          "D": 395.4015037964747,
          "series": "D",
          "time": 609
         },
         {
          "H": 4.563343898809741,
          "series": "H",
          "time": 609
         },
         {
          "S": 76.06527303117839,
          "series": "S",
          "time": 610
         },
         {
          "E": 8.941952245182328,
          "series": "E",
          "time": 610
         },
         {
          "I": 9.795997599329947,
          "series": "I",
          "time": 610
         },
         {
          "R": 5.92008760726365,
          "series": "R",
          "time": 610
         },
         {
          "D": 395.7274302356675,
          "series": "D",
          "time": 610
         },
         {
          "H": 4.54925928137808,
          "series": "H",
          "time": 610
         },
         {
          "S": 75.83049995657858,
          "series": "S",
          "time": 611
         },
         {
          "E": 8.91435319075755,
          "series": "E",
          "time": 611
         },
         {
          "I": 9.76576256079562,
          "series": "I",
          "time": 611
         },
         {
          "R": 5.901815443040564,
          "series": "R",
          "time": 611
         },
         {
          "D": 396.05235071315553,
          "series": "D",
          "time": 611
         },
         {
          "H": 4.535218135672035,
          "series": "H",
          "time": 611
         },
         {
          "S": 75.5964515017081,
          "series": "S",
          "time": 612
         },
         {
          "E": 8.886839319941691,
          "series": "E",
          "time": 612
         },
         {
          "I": 9.735620841750897,
          "series": "I",
          "time": 612
         },
         {
          "R": 5.883599675273789,
          "series": "R",
          "time": 612
         },
         {
          "D": 396.3762683338078,
          "series": "D",
          "time": 612
         },
         {
          "H": 4.521220327517643,
          "series": "H",
          "time": 612
         },
         {
          "S": 75.3631254300503,
          "series": "S",
          "time": 613
         },
         {
          "E": 8.859410369818447,
          "series": "E",
          "time": 613
         },
         {
          "I": 9.7055721541684,
          "series": "I",
          "time": 613
         },
         {
          "R": 5.8654401298976255,
          "series": "R",
          "time": 613
         },
         {
          "D": 396.6991861929101,
          "series": "D",
          "time": 613
         },
         {
          "H": 4.507265723155058,
          "series": "H",
          "time": 613
         },
         {
          "S": 75.1305195119915,
          "series": "S",
          "time": 614
         },
         {
          "E": 8.832066078282985,
          "series": "E",
          "time": 614
         },
         {
          "I": 9.675616210909723,
          "series": "I",
          "time": 614
         },
         {
          "R": 5.847336633383613,
          "series": "R",
          "time": 614
         },
         {
          "D": 397.02110737619483,
          "series": "D",
          "time": 614
         },
         {
          "H": 4.493354189237275,
          "series": "H",
          "time": 614
         },
         {
          "S": 74.89863152479964,
          "series": "S",
          "time": 615
         },
         {
          "E": 8.804806184039444,
          "series": "E",
          "time": 615
         },
         {
          "I": 9.645752725722692,
          "series": "I",
          "time": 615
         },
         {
          "R": 5.829289012738877,
          "series": "R",
          "time": 615
         },
         {
          "D": 397.34203495987043,
          "series": "D",
          "time": 615
         },
         {
          "H": 4.47948559282885,
          "series": "H",
          "time": 615
         },
         {
          "S": 74.66745925260315,
          "series": "S",
          "time": 616
         },
         {
          "E": 8.777630426598437,
          "series": "E",
          "time": 616
         },
         {
          "I": 9.61598141323863,
          "series": "I",
          "time": 616
         },
         {
          "R": 5.811297095504467,
          "series": "R",
          "time": 616
         },
         {
          "D": 397.66197201065063,
          "series": "D",
          "time": 616
         },
         {
          "H": 4.465659801404639,
          "series": "H",
          "time": 616
         },
         {
          "S": 74.43700048636966,
          "series": "S",
          "time": 617
         },
         {
          "E": 8.750538546274555,
          "series": "E",
          "time": 617
         },
         {
          "I": 9.58630198896963,
          "series": "I",
          "time": 617
         },
         {
          "R": 5.793360709753718,
          "series": "R",
          "time": 617
         },
         {
          "D": 397.9809215857839,
          "series": "D",
          "time": 617
         },
         {
          "H": 4.451876682848525,
          "series": "H",
          "time": 617
         },
         {
          "S": 74.20725302388492,
          "series": "S",
          "time": 618
         },
         {
          "E": 8.723530284183894,
          "series": "E",
          "time": 618
         },
         {
          "I": 9.556714169305835,
          "series": "I",
          "time": 618
         },
         {
          "R": 5.775479684090602,
          "series": "R",
          "time": 618
         },
         {
          "D": 398.2988867330826,
          "series": "D",
          "time": 618
         },
         {
          "H": 4.4381361054521555,
          "series": "H",
          "time": 618
         },
         {
          "S": 73.97821466973178,
          "series": "S",
          "time": 619
         },
         {
          "E": 8.69660538224158,
          "series": "E",
          "time": 619
         },
         {
          "I": 9.527217671512732,
          "series": "I",
          "time": 619
         },
         {
          "R": 5.7576538476480925,
          "series": "R",
          "time": 619
         },
         {
          "D": 398.61587049095215,
          "series": "D",
          "time": 619
         },
         {
          "H": 4.424437937913689,
          "series": "H",
          "time": 619
         },
         {
          "S": 73.74988323526922,
          "series": "S",
          "time": 620
         },
         {
          "E": 8.669763583159298,
          "series": "E",
          "time": 620
         },
         {
          "I": 9.497812213728452,
          "series": "I",
          "time": 620
         },
         {
          "R": 5.739883030086534,
          "series": "R",
          "time": 620
         },
         {
          "D": 398.93187588842,
          "series": "D",
          "time": 620
         },
         {
          "H": 4.410782049336538,
          "series": "H",
          "time": 620
         },
         {
          "S": 73.5222565386114,
          "series": "S",
          "time": 621
         },
         {
          "E": 8.643004630442844,
          "series": "E",
          "time": 621
         },
         {
          "I": 9.468497514961065,
          "series": "I",
          "time": 621
         },
         {
          "R": 5.722167061592012,
          "series": "R",
          "time": 621
         },
         {
          "D": 399.2469059451646,
          "series": "D",
          "time": 621
         },
         {
          "H": 4.3971683092281175,
          "series": "H",
          "time": 621
         },
         {
          "S": 73.29533240460681,
          "series": "S",
          "time": 622
         },
         {
          "E": 8.616328268389662,
          "series": "E",
          "time": 622
         },
         {
          "I": 9.439273295085918,
          "series": "I",
          "time": 622
         },
         {
          "R": 5.70450577287473,
          "series": "R",
          "time": 622
         },
         {
          "D": 399.5609636715443,
          "series": "D",
          "time": 622
         },
         {
          "H": 4.3835965874986,
          "series": "H",
          "time": 622
         },
         {
          "S": 73.06910866481749,
          "series": "S",
          "time": 623
         },
         {
          "E": 8.589734242086411,
          "series": "E",
          "time": 623
         },
         {
          "I": 9.410139274842933,
          "series": "I",
          "time": 623
         },
         {
          "R": 5.686898995167395,
          "series": "R",
          "time": 623
         },
         {
          "D": 399.8740520686261,
          "series": "D",
          "time": 623
         },
         {
          "H": 4.37006675445967,
          "series": "H",
          "time": 623
         },
         {
          "S": 72.84358315749834,
          "series": "S",
          "time": 624
         },
         {
          "E": 8.563222297406522,
          "series": "E",
          "time": 624
         },
         {
          "I": 9.38109517583396,
          "series": "I",
          "time": 624
         },
         {
          "R": 5.669346560223603,
          "series": "R",
          "time": 624
         },
         {
          "D": 400.1861741282143,
          "series": "D",
          "time": 624
         },
         {
          "H": 4.356578680823289,
          "series": "H",
          "time": 624
         },
         {
          "S": 72.61875372757643,
          "series": "S",
          "time": 625
         },
         {
          "E": 8.53679218100778,
          "series": "E",
          "time": 625
         },
         {
          "I": 9.3521407205201,
          "series": "I",
          "time": 625
         },
         {
          "R": 5.651848300316232,
          "series": "R",
          "time": 625
         },
         {
          "D": 400.497332832879,
          "series": "D",
          "time": 625
         },
         {
          "H": 4.343132237700457,
          "series": "H",
          "time": 625
         },
         {
          "S": 72.39461822663039,
          "series": "S",
          "time": 626
         },
         {
          "E": 8.510443640329889,
          "series": "E",
          "time": 626
         },
         {
          "I": 9.32327563221907,
          "series": "I",
          "time": 626
         },
         {
          "R": 5.634404048235838,
          "series": "R",
          "time": 626
         },
         {
          "D": 400.80753115598486,
          "series": "D",
          "time": 626
         },
         {
          "H": 4.329727296599984,
          "series": "H",
          "time": 626
         },
         {
          "S": 72.17117451286991,
          "series": "S",
          "time": 627
         },
         {
          "E": 8.484176423592073,
          "series": "E",
          "time": 627
         },
         {
          "I": 9.294499635102547,
          "series": "I",
          "time": 627
         },
         {
          "R": 5.617013637289063,
          "series": "R",
          "time": 627
         },
         {
          "D": 401.1167720617192,
          "series": "D",
          "time": 627
         },
         {
          "H": 4.316363729427256,
          "series": "H",
          "time": 627
         },
         {
          "S": 71.94842045111528,
          "series": "S",
          "time": 628
         },
         {
          "E": 8.457990279790659,
          "series": "E",
          "time": 628
         },
         {
          "I": 9.265812454193533,
          "series": "I",
          "time": 628
         },
         {
          "R": 5.599676901297036,
          "series": "R",
          "time": 628
         },
         {
          "D": 401.4250585051205,
          "series": "D",
          "time": 628
         },
         {
          "H": 4.303041408483019,
          "series": "H",
          "time": 628
         },
         {
          "S": 71.72635391277697,
          "series": "S",
          "time": 629
         },
         {
          "E": 8.431884958696687,
          "series": "E",
          "time": 629
         },
         {
          "I": 9.237213815363738,
          "series": "I",
          "time": 629
         },
         {
          "R": 5.582393674593786,
          "series": "R",
          "time": 629
         },
         {
          "D": 401.7323934321067,
          "series": "D",
          "time": 629
         },
         {
          "H": 4.289760206462155,
          "series": "H",
          "time": 629
         },
         {
          "S": 71.50497277583526,
          "series": "S",
          "time": 630
         },
         {
          "E": 8.405860210853515,
          "series": "E",
          "time": 630
         },
         {
          "I": 9.20870344533095,
          "series": "I",
          "time": 630
         },
         {
          "R": 5.565163792024661,
          "series": "R",
          "time": 630
         },
         {
          "D": 402.03877977950316,
          "series": "D",
          "time": 630
         },
         {
          "H": 4.276519996452467,
          "series": "H",
          "time": 630
         },
         {
          "S": 71.28427492482,
          "series": "S",
          "time": 631
         },
         {
          "E": 8.379915787574436,
          "series": "E",
          "time": 631
         },
         {
          "I": 9.180281071656427,
          "series": "I",
          "time": 631
         },
         {
          "R": 5.547987088944753,
          "series": "R",
          "time": 631
         },
         {
          "D": 402.3442204750709,
          "series": "D",
          "time": 631
         },
         {
          "H": 4.263320651933462,
          "series": "H",
          "time": 631
         },
         {
          "S": 71.0642582507904,
          "series": "S",
          "time": 632
         },
         {
          "E": 8.354051440940305,
          "series": "E",
          "time": 632
         },
         {
          "I": 9.151946422742299,
          "series": "I",
          "time": 632
         },
         {
          "R": 5.530863401217318,
          "series": "R",
          "time": 632
         },
         {
          "D": 402.6487184375345,
          "series": "D",
          "time": 632
         },
         {
          "H": 4.2501620467751495,
          "series": "H",
          "time": 632
         },
         {
          "S": 70.84492065131485,
          "series": "S",
          "time": 633
         },
         {
          "E": 8.328266923797162,
          "series": "E",
          "time": 633
         },
         {
          "I": 9.123699227828965,
          "series": "I",
          "time": 633
         },
         {
          "R": 5.5137925652122135,
          "series": "R",
          "time": 633
         },
         {
          "D": 402.95227657660996,
          "series": "D",
          "time": 633
         },
         {
          "H": 4.23704405523683,
          "series": "H",
          "time": 633
         },
         {
          "S": 70.62626003045085,
          "series": "S",
          "time": 634
         },
         {
          "E": 8.302561989753881,
          "series": "E",
          "time": 634
         },
         {
          "I": 9.095539216992512,
          "series": "I",
          "time": 634
         },
         {
          "R": 5.496774417804332,
          "series": "R",
          "time": 634
         },
         {
          "D": 403.2548977930325,
          "series": "D",
          "time": 634
         },
         {
          "H": 4.223966551965898,
          "series": "H",
          "time": 634
         },
         {
          "S": 70.40827429872496,
          "series": "S",
          "time": 635
         },
         {
          "E": 8.276936393179808,
          "series": "E",
          "time": 635
         },
         {
          "I": 9.06746612114213,
          "series": "I",
          "time": 635
         },
         {
          "R": 5.479808796372043,
          "series": "R",
          "time": 635
         },
         {
          "D": 403.5565849785844,
          "series": "D",
          "time": 635
         },
         {
          "H": 4.2109294119966405,
          "series": "H",
          "time": 635
         },
         {
          "S": 70.19096137311284,
          "series": "S",
          "time": 636
         },
         {
          "E": 8.251389889202416,
          "series": "E",
          "time": 636
         },
         {
          "I": 9.039479672017551,
          "series": "I",
          "time": 636
         },
         {
          "R": 5.462895538795641,
          "series": "R",
          "time": 636
         },
         {
          "D": 403.85734101612246,
          "series": "D",
          "time": 636
         },
         {
          "H": 4.197932510749047,
          "series": "H",
          "time": 636
         },
         {
          "S": 69.97431917701937,
          "series": "S",
          "time": 637
         },
         {
          "E": 8.225922233704967,
          "series": "E",
          "time": 637
         },
         {
          "I": 9.011579602186474,
          "series": "I",
          "time": 637
         },
         {
          "R": 5.446034483455791,
          "series": "R",
          "time": 637
         },
         {
          "D": 404.15716877960574,
          "series": "D",
          "time": 637
         },
         {
          "H": 4.184975724027615,
          "series": "H",
          "time": 637
         },
         {
          "S": 69.75834564025877,
          "series": "S",
          "time": 638
         },
         {
          "E": 8.200533183324177,
          "series": "E",
          "time": 638
         },
         {
          "I": 8.983765645042018,
          "series": "I",
          "time": 638
         },
         {
          "R": 5.429225469231993,
          "series": "R",
          "time": 638
         },
         {
          "D": 404.45607113412285,
          "series": "D",
          "time": 638
         },
         {
          "H": 4.172058928020166,
          "series": "H",
          "time": 638
         },
         {
          "S": 69.54303869903482,
          "series": "S",
          "time": 639
         },
         {
          "E": 8.175222495447898,
          "series": "E",
          "time": 639
         },
         {
          "I": 8.956037534800169,
          "series": "I",
          "time": 639
         },
         {
          "R": 5.412468335501035,
          "series": "R",
          "time": 639
         },
         {
          "D": 404.7540509359194,
          "series": "D",
          "time": 639
         },
         {
          "H": 4.1591819992966625,
          "series": "H",
          "time": 639
         },
         {
          "S": 69.3283962959212,
          "series": "S",
          "time": 640
         },
         {
          "E": 8.149989928212781,
          "series": "E",
          "time": 640
         },
         {
          "I": 8.928395006497245,
          "series": "I",
          "time": 640
         },
         {
          "R": 5.39576292213546,
          "series": "R",
          "time": 640
         },
         {
          "D": 405.0511110324253,
          "series": "D",
          "time": 640
         },
         {
          "H": 4.146344814808028,
          "series": "H",
          "time": 640
         },
         {
          "S": 69.11441637984171,
          "series": "S",
          "time": 641
         },
         {
          "E": 8.12483524050199,
          "series": "E",
          "time": 641
         },
         {
          "I": 8.90083779598736,
          "series": "I",
          "time": 641
         },
         {
          "R": 5.379109069502041,
          "series": "R",
          "time": 641
         },
         {
          "D": 405.3472542622819,
          "series": "D",
          "time": 641
         },
         {
          "H": 4.13354725188497,
          "series": "H",
          "time": 641
         },
         {
          "S": 68.9010969060508,
          "series": "S",
          "time": 642
         },
         {
          "E": 8.09975819194288,
          "series": "E",
          "time": 642
         },
         {
          "I": 8.873365639939907,
          "series": "I",
          "time": 642
         },
         {
          "R": 5.362506618460247,
          "series": "R",
          "time": 642
         },
         {
          "D": 405.64248345536936,
          "series": "D",
          "time": 642
         },
         {
          "H": 4.12078918823681,
          "series": "H",
          "time": 642
         },
         {
          "S": 68.68843583611394,
          "series": "S",
          "time": 643
         },
         {
          "E": 8.074758542904707,
          "series": "E",
          "time": 643
         },
         {
          "I": 8.845978275837032,
          "series": "I",
          "time": 643
         },
         {
          "R": 5.345955410360729,
          "series": "R",
          "time": 643
         },
         {
          "D": 405.9368014328333,
          "series": "D",
          "time": 643
         },
         {
          "H": 4.108070501950314,
          "series": "H",
          "time": 643
         },
         {
          "S": 68.47643113788817,
          "series": "S",
          "time": 644
         },
         {
          "E": 8.049836054496337,
          "series": "E",
          "time": 644
         },
         {
          "I": 8.818675441971132,
          "series": "I",
          "time": 644
         },
         {
          "R": 5.329455287043802,
          "series": "R",
          "time": 644
         },
         {
          "D": 406.2302110071121,
          "series": "D",
          "time": 644
         },
         {
          "H": 4.095391071488527,
          "series": "H",
          "time": 644
         },
         {
          "S": 68.2650807855027,
          "series": "S",
          "time": 645
         },
         {
          "E": 8.024990488563962,
          "series": "E",
          "time": 645
         },
         {
          "I": 8.791456877442357,
          "series": "I",
          "time": 645
         },
         {
          "R": 5.313006090837934,
          "series": "R",
          "time": 645
         },
         {
          "D": 406.5227149819635,
          "series": "D",
          "time": 645
         },
         {
          "H": 4.082750775689615,
          "series": "H",
          "time": 645
         },
         {
          "S": 68.05438275933952,
          "series": "S",
          "time": 646
         },
         {
          "E": 8.000221607688829,
          "series": "E",
          "time": 646
         },
         {
          "I": 8.764322322156108,
          "series": "I",
          "time": 646
         },
         {
          "R": 5.296607664558238,
          "series": "R",
          "time": 646
         },
         {
          "D": 406.81431615249164,
          "series": "D",
          "time": 646
         },
         {
          "H": 4.0701494937657,
          "series": "H",
          "time": 646
         },
         {
          "S": 67.84433504601412,
          "series": "S",
          "time": 647
         },
         {
          "E": 7.975529175184964,
          "series": "E",
          "time": 647
         },
         {
          "I": 8.737271516820561,
          "series": "I",
          "time": 647
         },
         {
          "R": 5.280259851504972,
          "series": "R",
          "time": 647
         },
         {
          "D": 407.1050173051737,
          "series": "D",
          "time": 647
         },
         {
          "H": 4.057587105301716,
          "series": "H",
          "time": 647
         },
         {
          "S": 67.63493563835624,
          "series": "S",
          "time": 648
         },
         {
          "E": 7.950912955096921,
          "series": "E",
          "time": 648
         },
         {
          "I": 8.710304202944183,
          "series": "I",
          "time": 648
         },
         {
          "R": 5.263962495462044,
          "series": "R",
          "time": 648
         },
         {
          "D": 407.39482121788643,
          "series": "D",
          "time": 648
         },
         {
          "H": 4.045063490254248,
          "series": "H",
          "time": 648
         },
         {
          "S": 67.4261825353907,
          "series": "S",
          "time": 649
         },
         {
          "E": 7.926372712197517,
          "series": "E",
          "time": 649
         },
         {
          "I": 8.683420122833263,
          "series": "I",
          "time": 649
         },
         {
          "R": 5.2477154406955115,
          "series": "R",
          "time": 649
         },
         {
          "D": 407.6837306599327,
          "series": "D",
          "time": 649
         },
         {
          "H": 4.032578528950394,
          "series": "H",
          "time": 649
         },
         {
          "S": 67.21807374231824,
          "series": "S",
          "time": 650
         },
         {
          "E": 7.901908211985586,
          "series": "E",
          "time": 650
         },
         {
          "I": 8.656619019589456,
          "series": "I",
          "time": 650
         },
         {
          "R": 5.231518531952101,
          "series": "R",
          "time": 650
         },
         {
          "D": 407.97174839206804,
          "series": "D",
          "time": 650
         },
         {
          "H": 4.020132102086614,
          "series": "H",
          "time": 650
         },
         {
          "S": 67.01060727049655,
          "series": "S",
          "time": 651
         },
         {
          "E": 7.877519220683746,
          "series": "E",
          "time": 651
         },
         {
          "I": 8.629900637107319,
          "series": "I",
          "time": 651
         },
         {
          "R": 5.215371614457721,
          "series": "R",
          "time": 651
         },
         {
          "D": 408.2588771665271,
          "series": "D",
          "time": 651
         },
         {
          "H": 4.007724090727597,
          "series": "H",
          "time": 651
         },
         {
          "S": 66.80378113742115,
          "series": "S",
          "time": 652
         },
         {
          "E": 7.853205505236156,
          "series": "E",
          "time": 652
         },
         {
          "I": 8.60326472007187,
          "series": "I",
          "time": 652
         },
         {
          "R": 5.199274533915985,
          "series": "R",
          "time": 652
         },
         {
          "D": 408.5451197270497,
          "series": "D",
          "time": 652
         },
         {
          "H": 3.9953543763051167,
          "series": "H",
          "time": 652
         },
         {
          "S": 66.59759336670655,
          "series": "S",
          "time": 653
         },
         {
          "E": 7.828966833306293,
          "series": "E",
          "time": 653
         },
         {
          "I": 8.576711013956144,
          "series": "I",
          "time": 653
         },
         {
          "R": 5.183227136506735,
          "series": "R",
          "time": 653
         },
         {
          "D": 408.8304788089074,
          "series": "D",
          "time": 653
         },
         {
          "H": 3.983022840616907,
          "series": "H",
          "time": 653
         },
         {
          "S": 66.39204198806728,
          "series": "S",
          "time": 654
         },
         {
          "E": 7.804802973274734,
          "series": "E",
          "time": 654
         },
         {
          "I": 8.550239265018767,
          "series": "I",
          "time": 654
         },
         {
          "R": 5.167229268884573,
          "series": "R",
          "time": 654
         },
         {
          "D": 409.1149571389291,
          "series": "D",
          "time": 654
         },
         {
          "H": 3.9707293658255254,
          "series": "H",
          "time": 654
         },
         {
          "S": 66.18712503729911,
          "series": "S",
          "time": 655
         },
         {
          "E": 7.78071369423694,
          "series": "E",
          "time": 655
         },
         {
          "I": 8.523849220301525,
          "series": "I",
          "time": 655
         },
         {
          "R": 5.151280778177394,
          "series": "R",
          "time": 655
         },
         {
          "D": 409.3985574355278,
          "series": "D",
          "time": 655
         },
         {
          "H": 3.9584738344572323,
          "series": "H",
          "time": 655
         },
         {
          "S": 65.98284055626027,
          "series": "S",
          "time": 656
         },
         {
          "E": 7.756698766001048,
          "series": "E",
          "time": 656
         },
         {
          "I": 8.497540627626952,
          "series": "I",
          "time": 656
         },
         {
          "R": 5.135381511984931,
          "series": "R",
          "time": 656
         },
         {
          "D": 409.6812824087259,
          "series": "D",
          "time": 656
         },
         {
          "H": 3.946256129400864,
          "series": "H",
          "time": 656
         },
         {
          "S": 65.77918659285275,
          "series": "S",
          "time": 657
         },
         {
          "E": 7.732757959085673,
          "series": "E",
          "time": 657
         },
         {
          "I": 8.471313235595916,
          "series": "I",
          "time": 657
         },
         {
          "R": 5.1195313183772875,
          "series": "R",
          "time": 657
         },
         {
          "D": 409.9631347601816,
          "series": "D",
          "time": 657
         },
         {
          "H": 3.934076133906717,
          "series": "H",
          "time": 657
         },
         {
          "S": 65.57616120100361,
          "series": "S",
          "time": 658
         },
         {
          "E": 7.708891044717722,
          "series": "E",
          "time": 658
         },
         {
          "I": 8.44516679358522,
          "series": "I",
          "time": 658
         },
         {
          "R": 5.103730045893499,
          "series": "R",
          "time": 658
         },
         {
          "D": 410.2441171832145,
          "series": "D",
          "time": 658
         },
         {
          "H": 3.9219337315854306,
          "series": "H",
          "time": 658
         },
         {
          "S": 65.37376244064642,
          "series": "S",
          "time": 659
         },
         {
          "E": 7.6850977948301935,
          "series": "E",
          "time": 659
         },
         {
          "I": 8.419101051745205,
          "series": "I",
          "time": 659
         },
         {
          "R": 5.087977543540077,
          "series": "R",
          "time": 659
         },
         {
          "D": 410.5242323628312,
          "series": "D",
          "time": 659
         },
         {
          "H": 3.909828806406876,
          "series": "H",
          "time": 659
         },
         {
          "S": 65.17198837770269,
          "series": "S",
          "time": 660
         },
         {
          "E": 7.661377982060011,
          "series": "E",
          "time": 660
         },
         {
          "I": 8.393115760997365,
          "series": "I",
          "time": 660
         },
         {
          "R": 5.072273660789571,
          "series": "R",
          "time": 660
         },
         {
          "D": 410.80348297575125,
          "series": "D",
          "time": 660
         },
         {
          "H": 3.8977612426990467,
          "series": "H",
          "time": 660
         },
         {
          "S": 64.97083708406343,
          "series": "S",
          "time": 661
         },
         {
          "E": 7.637731379745846,
          "series": "E",
          "time": 661
         },
         {
          "I": 8.367210673031963,
          "series": "I",
          "time": 661
         },
         {
          "R": 5.056618247579122,
          "series": "R",
          "time": 661
         },
         {
          "D": 411.0818716904326,
          "series": "D",
          "time": 661
         },
         {
          "H": 3.8857309251469534,
          "series": "H",
          "time": 661
         },
         {
          "S": 64.77030663757071,
          "series": "S",
          "time": 662
         },
         {
          "E": 7.61415776192595,
          "series": "E",
          "time": 662
         },
         {
          "I": 8.341385540305662,
          "series": "I",
          "time": 662
         },
         {
          "R": 5.041011154309039,
          "series": "R",
          "time": 662
         },
         {
          "D": 411.359401167097,
          "series": "D",
          "time": 662
         },
         {
          "H": 3.873737738791523,
          "series": "H",
          "time": 662
         },
         {
          "S": 64.57039512199924,
          "series": "S",
          "time": 663
         },
         {
          "E": 7.590656903336,
          "series": "E",
          "time": 663
         },
         {
          "I": 8.31564011603916,
          "series": "I",
          "time": 663
         },
         {
          "R": 5.025452231841364,
          "series": "R",
          "time": 663
         },
         {
          "D": 411.63607405775565,
          "series": "D",
          "time": 663
         },
         {
          "H": 3.8617815690284973,
          "series": "H",
          "time": 663
         },
         {
          "S": 64.37110062703813,
          "series": "S",
          "time": 664
         },
         {
          "E": 7.567228579406938,
          "series": "E",
          "time": 664
         },
         {
          "I": 8.28997415421483,
          "series": "I",
          "time": 664
         },
         {
          "R": 5.009941331498449,
          "series": "R",
          "time": 664
         },
         {
          "D": 411.9118930062342,
          "series": "D",
          "time": 664
         },
         {
          "H": 3.849862301607342,
          "series": "H",
          "time": 664
         },
         {
          "S": 64.17242124827261,
          "series": "S",
          "time": 665
         },
         {
          "E": 7.543872566262836,
          "series": "E",
          "time": 665
         },
         {
          "I": 8.264387409574367,
          "series": "I",
          "time": 665
         },
         {
          "R": 4.994478305061531,
          "series": "R",
          "time": 665
         },
         {
          "D": 412.1868606481984,
          "series": "D",
          "time": 665
         },
         {
          "H": 3.837979822630152,
          "series": "H",
          "time": 665
         },
         {
          "S": 63.97435508716582,
          "series": "S",
          "time": 666
         },
         {
          "E": 7.520588640718749,
          "series": "E",
          "time": 666
         },
         {
          "I": 8.238879637616447,
          "series": "I",
          "time": 666
         },
         {
          "R": 4.97906300476932,
          "series": "R",
          "time": 666
         },
         {
          "D": 412.46097961117897,
          "series": "D",
          "time": 666
         },
         {
          "H": 3.826134018550563,
          "series": "H",
          "time": 666
         },
         {
          "S": 63.77690025104067,
          "series": "S",
          "time": 667
         },
         {
          "E": 7.497376580278584,
          "series": "E",
          "time": 667
         },
         {
          "I": 8.213450594594395,
          "series": "I",
          "time": 667
         },
         {
          "R": 4.9636952833165875,
          "series": "R",
          "time": 667
         },
         {
          "D": 412.73425251459696,
          "series": "D",
          "time": 667
         },
         {
          "H": 3.8143247761726697,
          "series": "H",
          "time": 667
         },
         {
          "S": 63.58005485306178,
          "series": "S",
          "time": 668
         },
         {
          "E": 7.474236163132974,
          "series": "E",
          "time": 668
         },
         {
          "I": 8.188100037513845,
          "series": "I",
          "time": 668
         },
         {
          "R": 4.948374993852756,
          "series": "R",
          "time": 668
         },
         {
          "D": 413.0066819697886,
          "series": "D",
          "time": 668
         },
         {
          "H": 3.80255198264994,
          "series": "H",
          "time": 668
         },
         {
          "S": 63.38381701221742,
          "series": "S",
          "time": 669
         },
         {
          "E": 7.451167168157159,
          "series": "E",
          "time": 669
         },
         {
          "I": 8.162827724130429,
          "series": "I",
          "time": 669
         },
         {
          "R": 4.9331019899804955,
          "series": "R",
          "time": 669
         },
         {
          "D": 413.27827058003027,
          "series": "D",
          "time": 669
         },
         {
          "H": 3.7908155254841382,
          "series": "H",
          "time": 669
         },
         {
          "S": 63.188184853301536,
          "series": "S",
          "time": 670
         },
         {
          "E": 7.428169374908876,
          "series": "E",
          "time": 670
         },
         {
          "I": 8.137633412947455,
          "series": "I",
          "time": 670
         },
         {
          "R": 4.917876125754329,
          "series": "R",
          "time": 670
         },
         {
          "D": 413.5490209405635,
          "series": "D",
          "time": 670
         },
         {
          "H": 3.779115292524252,
          "series": "H",
          "time": 670
         },
         {
          "S": 62.99315650689586,
          "series": "S",
          "time": 671
         },
         {
          "E": 7.405242563626243,
          "series": "E",
          "time": 671
         },
         {
          "I": 8.112516863213605,
          "series": "I",
          "time": 671
         },
         {
          "R": 4.902697255679234,
          "series": "R",
          "time": 671
         },
         {
          "D": 413.81893563861956,
          "series": "D",
          "time": 671
         },
         {
          "H": 3.7674511719654182,
          "series": "H",
          "time": 671
         },
         {
          "S": 62.79873010935201,
          "series": "S",
          "time": 672
         },
         {
          "E": 7.3823865152256705,
          "series": "E",
          "time": 672
         },
         {
          "I": 8.087477834920627,
          "series": "I",
          "time": 672
         },
         {
          "R": 4.887565234709252,
          "series": "R",
          "time": 672
         },
         {
          "D": 414.0880172534445,
          "series": "D",
          "time": 672
         },
         {
          "H": 3.7558230523478557,
          "series": "H",
          "time": 672
         },
         {
          "S": 62.604903802773705,
          "series": "S",
          "time": 673
         },
         {
          "E": 7.359601011299763,
          "series": "E",
          "time": 673
         },
         {
          "I": 8.06251608880105,
          "series": "I",
          "time": 673
         },
         {
          "R": 4.872479918246104,
          "series": "R",
          "time": 673
         },
         {
          "D": 414.3562683563235,
          "series": "D",
          "time": 673
         },
         {
          "H": 3.7442308225558,
          "series": "H",
          "time": 673
         },
         {
          "S": 62.411675734999015,
          "series": "S",
          "time": 674
         },
         {
          "E": 7.33688583411523,
          "series": "E",
          "time": 674
         },
         {
          "I": 8.037631386325893,
          "series": "I",
          "time": 674
         },
         {
          "R": 4.85744116213781,
          "series": "R",
          "time": 674
         },
         {
          "D": 414.6236915106055,
          "series": "D",
          "time": 674
         },
         {
          "H": 3.732674371816441,
          "series": "H",
          "time": 674
         },
         {
          "S": 62.21904405958263,
          "series": "S",
          "time": 675
         },
         {
          "E": 7.314240766610807,
          "series": "E",
          "time": 675
         },
         {
          "I": 8.012823489702386,
          "series": "I",
          "time": 675
         },
         {
          "R": 4.8424488226773095,
          "series": "R",
          "time": 675
         },
         {
          "D": 414.8902892717279,
          "series": "D",
          "time": 675
         },
         {
          "H": 3.721153589698866,
          "series": "H",
          "time": 675
         },
         {
          "S": 62.02700693577825,
          "series": "S",
          "time": 676
         },
         {
          "E": 7.291665592395181,
          "series": "E",
          "time": 676
         },
         {
          "I": 7.988092161871698,
          "series": "I",
          "time": 676
         },
         {
          "R": 4.827502756601087,
          "series": "R",
          "time": 676
         },
         {
          "D": 415.1560641872407,
          "series": "D",
          "time": 676
         },
         {
          "H": 3.7096683661130028,
          "series": "H",
          "time": 676
         },
         {
          "S": 61.83556252852098,
          "series": "S",
          "time": 677
         },
         {
          "E": 7.269160095744928,
          "series": "E",
          "time": 677
         },
         {
          "I": 7.963437166506671,
          "series": "I",
          "time": 677
         },
         {
          "R": 4.812602821087807,
          "series": "R",
          "time": 677
         },
         {
          "D": 415.421018796831,
          "series": "D",
          "time": 677
         },
         {
          "H": 3.698218591308568,
          "series": "H",
          "time": 677
         },
         {
          "S": 61.6447090084098,
          "series": "S",
          "time": 678
         },
         {
          "E": 7.246724061602443,
          "series": "E",
          "time": 678
         },
         {
          "I": 7.938858268009564,
          "series": "I",
          "time": 678
         },
         {
          "R": 4.797748873756946,
          "series": "R",
          "time": 678
         },
         {
          "D": 415.6851556323472,
          "series": "D",
          "time": 678
         },
         {
          "H": 3.68680415587402,
          "series": "H",
          "time": 678
         },
         {
          "S": 61.454444551690074,
          "series": "S",
          "time": 679
         },
         {
          "E": 7.224357275573888,
          "series": "E",
          "time": 679
         },
         {
          "I": 7.9143552315097985,
          "series": "I",
          "time": 679
         },
         {
          "R": 4.782940772667436,
          "series": "R",
          "time": 679
         },
         {
          "D": 415.94847721782327,
          "series": "D",
          "time": 679
         },
         {
          "H": 3.675424950735511,
          "series": "H",
          "time": 679
         },
         {
          "S": 61.264767340236126,
          "series": "S",
          "time": 680
         },
         {
          "E": 7.202059523927149,
          "series": "E",
          "time": 680
         },
         {
          "I": 7.8899278228617185,
          "series": "I",
          "time": 680
         },
         {
          "R": 4.7681783763163,
          "series": "R",
          "time": 680
         },
         {
          "D": 416.21098606950284,
          "series": "D",
          "time": 680
         },
         {
          "H": 3.6640808671558456,
          "series": "H",
          "time": 680
         },
         {
          "S": 61.075675561533885,
          "series": "S",
          "time": 681
         },
         {
          "E": 7.179830593589784,
          "series": "E",
          "time": 681
         },
         {
          "I": 7.86557580864235,
          "series": "I",
          "time": 681
         },
         {
          "R": 4.753461543637308,
          "series": "R",
          "time": 681
         },
         {
          "D": 416.4726846958632,
          "series": "D",
          "time": 681
         },
         {
          "H": 3.652771796733444,
          "series": "H",
          "time": 681
         },
         {
          "S": 60.88716740866353,
          "series": "S",
          "time": 682
         },
         {
          "E": 7.157670272146996,
          "series": "E",
          "time": 682
         },
         {
          "I": 7.841298956149171,
          "series": "I",
          "time": 682
         },
         {
          "R": 4.738790133999627,
          "series": "R",
          "time": 682
         },
         {
          "D": 416.73357559763934,
          "series": "D",
          "time": 682
         },
         {
          "H": 3.6414976314013017,
          "series": "H",
          "time": 682
         },
         {
          "S": 60.69924108028225,
          "series": "S",
          "time": 683
         },
         {
          "E": 7.135578347839596,
          "series": "E",
          "time": 683
         },
         {
          "I": 7.817097033397886,
          "series": "I",
          "time": 683
         },
         {
          "R": 4.724164007206475,
          "series": "R",
          "time": 683
         },
         {
          "D": 416.9936612678478,
          "series": "D",
          "time": 683
         },
         {
          "H": 3.630258263425961,
          "series": "H",
          "time": 683
         },
         {
          "S": 60.51189478060703,
          "series": "S",
          "time": 684
         },
         {
          "E": 7.1135546095619855,
          "series": "E",
          "time": 684
         },
         {
          "I": 7.792969809120214,
          "series": "I",
          "time": 684
         },
         {
          "R": 4.709583023493782,
          "series": "R",
          "time": 684
         },
         {
          "D": 417.2529441918105,
          "series": "D",
          "time": 684
         },
         {
          "H": 3.619053585406479,
          "series": "H",
          "time": 684
         },
         {
          "S": 60.325126719397474,
          "series": "S",
          "time": 685
         },
         {
          "E": 7.091598846860134,
          "series": "E",
          "time": 685
         },
         {
          "I": 7.768917052761674,
          "series": "I",
          "time": 685
         },
         {
          "R": 4.695047043528858,
          "series": "R",
          "time": 685
         },
         {
          "D": 417.5114268471785,
          "series": "D",
          "time": 685
         },
         {
          "H": 3.607883490273403,
          "series": "H",
          "time": 685
         },
         {
          "S": 60.138935111938714,
          "series": "S",
          "time": 686
         },
         {
          "E": 7.069710849929573,
          "series": "E",
          "time": 686
         },
         {
          "I": 7.7449385344793855,
          "series": "I",
          "time": 686
         },
         {
          "R": 4.680555928409054,
          "series": "R",
          "time": 686
         },
         {
          "D": 417.76911170395556,
          "series": "D",
          "time": 686
         },
         {
          "H": 3.5967478712877456,
          "series": "H",
          "time": 686
         },
         {
          "S": 59.95331817902434,
          "series": "S",
          "time": 687
         },
         {
          "E": 7.047890409613384,
          "series": "E",
          "time": 687
         },
         {
          "I": 7.721034025139868,
          "series": "I",
          "time": 687
         },
         {
          "R": 4.666109539660444,
          "series": "R",
          "time": 687
         },
         {
          "D": 418.026001224522,
          "series": "D",
          "time": 687
         },
         {
          "H": 3.5856466220399663,
          "series": "H",
          "time": 687
         },
         {
          "S": 59.768274146939426,
          "series": "S",
          "time": 688
         },
         {
          "E": 7.0261373174002095,
          "series": "E",
          "time": 688
         },
         {
          "I": 7.6972032963168555,
          "series": "I",
          "time": 688
         },
         {
          "R": 4.651707739236494,
          "series": "R",
          "time": 688
         },
         {
          "D": 418.28209786365807,
          "series": "D",
          "time": 688
         },
         {
          "H": 3.574579636448955,
          "series": "H",
          "time": 688
         },
         {
          "S": 59.58380124744354,
          "series": "S",
          "time": 689
         },
         {
          "E": 7.004451365422252,
          "series": "E",
          "time": 689
         },
         {
          "I": 7.673446120289111,
          "series": "I",
          "time": 689
         },
         {
          "R": 4.637350389516748,
          "series": "R",
          "time": 689
         },
         {
          "D": 418.53740406856735,
          "series": "D",
          "time": 689
         },
         {
          "H": 3.5635468087610143,
          "series": "H",
          "time": 689
         },
         {
          "S": 59.39989771775388,
          "series": "S",
          "time": 690
         },
         {
          "E": 6.982832346453295,
          "series": "E",
          "time": 690
         },
         {
          "I": 7.649762270038253,
          "series": "I",
          "time": 690
         },
         {
          "R": 4.623037353305509,
          "series": "R",
          "time": 690
         },
         {
          "D": 418.79192227890024,
          "series": "D",
          "time": 690
         },
         {
          "H": 3.5525480335488564,
          "series": "H",
          "time": 690
         },
         {
          "S": 59.216561800528424,
          "series": "S",
          "time": 691
         },
         {
          "E": 6.961280053906713,
          "series": "E",
          "time": 691
         },
         {
          "I": 7.626151519246584,
          "series": "I",
          "time": 691
         },
         {
          "R": 4.608768493830532,
          "series": "R",
          "time": 691
         },
         {
          "D": 419.0456549267772,
          "series": "D",
          "time": 691
         },
         {
          "H": 3.5415832057105883,
          "series": "H",
          "time": 691
         },
         {
          "S": 59.03379174384913,
          "series": "S",
          "time": 692
         },
         {
          "E": 6.939794281833508,
          "series": "E",
          "time": 692
         },
         {
          "I": 7.602613642294927,
          "series": "I",
          "time": 692
         },
         {
          "R": 4.594543674741715,
          "series": "R",
          "time": 692
         },
         {
          "D": 419.29860443681207,
          "series": "D",
          "time": 692
         },
         {
          "H": 3.5306522204687107,
          "series": "H",
          "time": 692
         },
         {
          "S": 58.85158580120518,
          "series": "S",
          "time": 693
         },
         {
          "E": 6.918374824920336,
          "series": "E",
          "time": 693
         },
         {
          "I": 7.579148414260475,
          "series": "I",
          "time": 693
         },
         {
          "R": 4.580362760109793,
          "series": "R",
          "time": 693
         },
         {
          "D": 419.55077322613516,
          "series": "D",
          "time": 693
         },
         {
          "H": 3.5197549733691176,
          "series": "H",
          "time": 693
         },
         {
          "S": 58.669942231476334,
          "series": "S",
          "time": 694
         },
         {
          "E": 6.897021478487544,
          "series": "E",
          "time": 694
         },
         {
          "I": 7.555755610914634,
          "series": "I",
          "time": 694
         },
         {
          "R": 4.566225614425045,
          "series": "R",
          "time": 694
         },
         {
          "D": 419.8021637044164,
          "series": "D",
          "time": 694
         },
         {
          "H": 3.508891360280097,
          "series": "H",
          "time": 694
         },
         {
          "S": 58.48885929891624,
          "series": "S",
          "time": 695
         },
         {
          "E": 6.87573403848722,
          "series": "E",
          "time": 695
         },
         {
          "I": 7.532435008720886,
          "series": "I",
          "time": 695
         },
         {
          "R": 4.552132102595997,
          "series": "R",
          "time": 695
         },
         {
          "D": 420.05277827388835,
          "series": "D",
          "time": 695
         },
         {
          "H": 3.4980612773913355,
          "series": "H",
          "time": 695
         },
         {
          "S": 58.30833527313589,
          "series": "S",
          "time": 696
         },
         {
          "E": 6.854512301501235,
          "series": "E",
          "time": 696
         },
         {
          "I": 7.50918638483265,
          "series": "I",
          "time": 696
         },
         {
          "R": 4.538082089948127,
          "series": "R",
          "time": 696
         },
         {
          "D": 420.3026193293692,
          "series": "D",
          "time": 696
         },
         {
          "H": 3.4872646212129275,
          "series": "H",
          "time": 696
         },
         {
          "S": 58.12836842908707,
          "series": "S",
          "time": 697
         },
         {
          "E": 6.833356064739305,
          "series": "E",
          "time": 697
         },
         {
          "I": 7.486009517091156,
          "series": "I",
          "time": 697
         },
         {
          "R": 4.524075442222585,
          "series": "R",
          "time": 697
         },
         {
          "D": 420.55168925828553,
          "series": "D",
          "time": 697
         },
         {
          "H": 3.4765012885743847,
          "series": "H",
          "time": 697
         },
         {
          "S": 57.94895704704585,
          "series": "S",
          "time": 698
         },
         {
          "E": 6.812265126037052,
          "series": "E",
          "time": 698
         },
         {
          "I": 7.4629041840233175,
          "series": "I",
          "time": 698
         },
         {
          "R": 4.510112025574903,
          "series": "R",
          "time": 698
         },
         {
          "D": 420.79999044069524,
          "series": "D",
          "time": 698
         },
         {
          "H": 3.465771176623652,
          "series": "H",
          "time": 698
         },
         {
          "S": 57.77009941259621,
          "series": "S",
          "time": 699
         },
         {
          "E": 6.791239283854072,
          "series": "E",
          "time": 699
         },
         {
          "I": 7.4398701648396175,
          "series": "I",
          "time": 699
         },
         {
          "R": 4.496191706573725,
          "series": "R",
          "time": 699
         },
         {
          "D": 421.04752524931024,
          "series": "D",
          "time": 699
         },
         {
          "H": 3.455074182826123,
          "series": "H",
          "time": 699
         },
         {
          "S": 57.591793816613595,
          "series": "S",
          "time": 700
         },
         {
          "E": 6.770278337272006,
          "series": "E",
          "time": 700
         },
         {
          "I": 7.416907239432001,
          "series": "I",
          "time": 700
         },
         {
          "R": 4.482314352199521,
          "series": "R",
          "time": 700
         },
         {
          "D": 421.2942960495192,
          "series": "D",
          "time": 700
         },
         {
          "H": 3.4444102049636616,
          "series": "H",
          "time": 700
         },
         {
          "S": 57.41403855524862,
          "series": "S",
          "time": 701
         },
         {
          "E": 6.749382085992631,
          "series": "E",
          "time": 701
         },
         {
          "I": 7.394015188371766,
          "series": "I",
          "time": 701
         },
         {
          "R": 4.468479829843323,
          "series": "R",
          "time": 701
         },
         {
          "D": 421.54030519941,
          "series": "D",
          "time": 701
         },
         {
          "H": 3.433779141133624,
          "series": "H",
          "time": 701
         },
         {
          "S": 57.236831929910764,
          "series": "S",
          "time": 702
         },
         {
          "E": 6.728550330335927,
          "series": "E",
          "time": 702
         },
         {
          "I": 7.371193792907474,
          "series": "I",
          "time": 702
         },
         {
          "R": 4.454688007305458,
          "series": "R",
          "time": 702
         },
         {
          "D": 421.78555504979244,
          "series": "D",
          "time": 702
         },
         {
          "H": 3.423180889747887,
          "series": "H",
          "time": 702
         },
         {
          "S": 57.060172247252176,
          "series": "S",
          "time": 703
         },
         {
          "E": 6.707782871238188,
          "series": "E",
          "time": 703
         },
         {
          "I": 7.348442834962852,
          "series": "I",
          "time": 703
         },
         {
          "R": 4.440938752794282,
          "series": "R",
          "time": 703
         },
         {
          "D": 422.0300479442206,
          "series": "D",
          "time": 703
         },
         {
          "H": 3.4126153495318743,
          "series": "H",
          "time": 703
         },
         {
          "S": 56.88405781915146,
          "series": "S",
          "time": 704
         },
         {
          "E": 6.6870795102501095,
          "series": "E",
          "time": 704
         },
         {
          "I": 7.325762097134715,
          "series": "I",
          "time": 704
         },
         {
          "R": 4.4272319349249205,
          "series": "R",
          "time": 704
         },
         {
          "D": 422.27378621901516,
          "series": "D",
          "time": 704
         },
         {
          "H": 3.402082419523591,
          "series": "H",
          "time": 704
         },
         {
          "S": 56.70848696269755,
          "series": "S",
          "time": 705
         },
         {
          "E": 6.666440049534893,
          "series": "E",
          "time": 705
         },
         {
          "I": 7.303151362690882,
          "series": "I",
          "time": 705
         },
         {
          "R": 4.413567422718017,
          "series": "R",
          "time": 705
         },
         {
          "D": 422.51677220328594,
          "series": "D",
          "time": 705
         },
         {
          "H": 3.391581999072658,
          "series": "H",
          "time": 705
         },
         {
          "S": 56.53345800017363,
          "series": "S",
          "time": 706
         },
         {
          "E": 6.645864291866359,
          "series": "E",
          "time": 706
         },
         {
          "I": 7.280610415568115,
          "series": "I",
          "time": 706
         },
         {
          "R": 4.399945085598474,
          "series": "R",
          "time": 706
         },
         {
          "D": 422.759008218954,
          "series": "D",
          "time": 706
         },
         {
          "H": 3.381113987839351,
          "series": "H",
          "time": 706
         },
         {
          "S": 56.35896925904112,
          "series": "S",
          "time": 707
         },
         {
          "E": 6.6253520406270585,
          "series": "E",
          "time": 707
         },
         {
          "I": 7.258139040370044,
          "series": "I",
          "time": 707
         },
         {
          "R": 4.386364793394214,
          "series": "R",
          "time": 707
         },
         {
          "D": 423.00049658077387,
          "series": "D",
          "time": 707
         },
         {
          "H": 3.3706782857936393,
          "series": "H",
          "time": 707
         },
         {
          "S": 56.185019071923655,
          "series": "S",
          "time": 708
         },
         {
          "E": 6.604903099806396,
          "series": "E",
          "time": 708
         },
         {
          "I": 7.2357370223651145,
          "series": "I",
          "time": 708
         },
         {
          "R": 4.37282641633493,
          "series": "R",
          "time": 708
         },
         {
          "D": 423.2412395963556,
          "series": "D",
          "time": 708
         },
         {
          "H": 3.3602747932142334,
          "series": "H",
          "time": 708
         },
         {
          "S": 56.011605776591196,
          "series": "S",
          "time": 709
         },
         {
          "E": 6.584517273998758,
          "series": "E",
          "time": 709
         },
         {
          "I": 7.213404147484532,
          "series": "I",
          "time": 709
         },
         {
          "R": 4.359329825050846,
          "series": "R",
          "time": 709
         },
         {
          "D": 423.481239566187,
          "series": "D",
          "time": 709
         },
         {
          "H": 3.3499034106876295,
          "series": "H",
          "time": 709
         },
         {
          "S": 55.83872771594412,
          "series": "S",
          "time": 710
         },
         {
          "E": 6.564194368401643,
          "series": "E",
          "time": 710
         },
         {
          "I": 7.19114020232022,
          "series": "I",
          "time": 710
         },
         {
          "R": 4.3458748905714835,
          "series": "R",
          "time": 710
         },
         {
          "D": 423.72049878365533,
          "series": "D",
          "time": 710
         },
         {
          "H": 3.339564039107161,
          "series": "H",
          "time": 710
         },
         {
          "S": 55.66638323799738,
          "series": "S",
          "time": 711
         },
         {
          "E": 6.543934188813802,
          "series": "E",
          "time": 711
         },
         {
          "I": 7.1689449741227795,
          "series": "I",
          "time": 711
         },
         {
          "R": 4.332461484324426,
          "series": "R",
          "time": 711
         },
         {
          "D": 423.9590195350695,
          "series": "D",
          "time": 711
         },
         {
          "H": 3.3292565796720495,
          "series": "H",
          "time": 711
         },
         {
          "S": 55.494570695864745,
          "series": "S",
          "time": 712
         },
         {
          "E": 6.52373654163338,
          "series": "E",
          "time": 712
         },
         {
          "I": 7.146818250799455,
          "series": "I",
          "time": 712
         },
         {
          "R": 4.319089478134092,
          "series": "R",
          "time": 712
         },
         {
          "D": 424.1968040996818,
          "series": "D",
          "time": 712
         },
         {
          "H": 3.318980933886464,
          "series": "H",
          "time": 712
         },
         {
          "S": 55.32328844774303,
          "series": "S",
          "time": 713
         },
         {
          "E": 6.503601233856071,
          "series": "E",
          "time": 713
         },
         {
          "I": 7.124759820912108,
          "series": "I",
          "time": 713
         },
         {
          "R": 4.305758744220508,
          "series": "R",
          "time": 713
         },
         {
          "D": 424.43385474970967,
          "series": "D",
          "time": 713
         },
         {
          "H": 3.308737003558576,
          "series": "H",
          "time": 713
         },
         {
          "S": 55.152534856896445,
          "series": "S",
          "time": 714
         },
         {
          "E": 6.483528073073268,
          "series": "E",
          "time": 714
         },
         {
          "I": 7.102769473675199,
          "series": "I",
          "time": 714
         },
         {
          "R": 4.292469155198092,
          "series": "R",
          "time": 714
         },
         {
          "D": 424.6701737503573,
          "series": "D",
          "time": 714
         },
         {
          "H": 3.2985246907996237,
          "series": "H",
          "time": 714
         },
         {
          "S": 54.982308291640905,
          "series": "S",
          "time": 715
         },
         {
          "E": 6.4635168674702275,
          "series": "E",
          "time": 715
         },
         {
          "I": 7.08084699895377,
          "series": "I",
          "time": 715
         },
         {
          "R": 4.279220584074434,
          "series": "R",
          "time": 715
         },
         {
          "D": 424.90576335983764,
          "series": "D",
          "time": 715
         },
         {
          "H": 3.2883438980229758,
          "series": "H",
          "time": 715
         },
         {
          "S": 54.8126071253285,
          "series": "S",
          "time": 716
         },
         {
          "E": 6.443567425824237,
          "series": "E",
          "time": 716
         },
         {
          "I": 7.0589921872614365,
          "series": "I",
          "time": 716
         },
         {
          "R": 4.266012904249077,
          "series": "R",
          "time": 716
         },
         {
          "D": 425.1406258293935,
          "series": "D",
          "time": 716
         },
         {
          "H": 3.278194527943199,
          "series": "H",
          "time": 716
         },
         {
          "S": 54.64342973633189,
          "series": "S",
          "time": 717
         },
         {
          "E": 6.423679557502786,
          "series": "E",
          "time": 717
         },
         {
          "I": 7.03720482975839,
          "series": "I",
          "time": 717
         },
         {
          "R": 4.252845989512318,
          "series": "R",
          "time": 717
         },
         {
          "D": 425.37476340331943,
          "series": "D",
          "time": 717
         },
         {
          "H": 3.268076483575128,
          "series": "H",
          "time": 717
         },
         {
          "S": 54.47477450802885,
          "series": "S",
          "time": 718
         },
         {
          "E": 6.403853072461747,
          "series": "E",
          "time": 718
         },
         {
          "I": 7.015484718249397,
          "series": "I",
          "time": 718
         },
         {
          "R": 4.239719714043994,
          "series": "R",
          "time": 718
         },
         {
          "D": 425.608178318983,
          "series": "D",
          "time": 718
         },
         {
          "H": 3.2579896682329395,
          "series": "H",
          "time": 718
         },
         {
          "S": 54.306639828786814,
          "series": "S",
          "time": 719
         },
         {
          "E": 6.3840877812435535,
          "series": "E",
          "time": 719
         },
         {
          "I": 6.993831645181813,
          "series": "I",
          "time": 719
         },
         {
          "R": 4.22663395241228,
          "series": "R",
          "time": 719
         },
         {
          "D": 425.8408728068462,
          "series": "D",
          "time": 719
         },
         {
          "H": 3.2479339855292277,
          "series": "H",
          "time": 719
         },
         {
          "S": 54.139024091947455,
          "series": "S",
          "time": 720
         },
         {
          "E": 6.364383494975399,
          "series": "E",
          "time": 720
         },
         {
          "I": 6.972245403643598,
          "series": "I",
          "time": 720
         },
         {
          "R": 4.213588579572495,
          "series": "R",
          "time": 720
         },
         {
          "D": 426.0728490904869,
          "series": "D",
          "time": 720
         },
         {
          "H": 3.2379093393740837,
          "series": "H",
          "time": 720
         },
         {
          "S": 53.97192569581136,
          "series": "S",
          "time": 721
         },
         {
          "E": 6.344740025367423,
          "series": "E",
          "time": 721
         },
         {
          "I": 6.950725787361337,
          "series": "I",
          "time": 721
         },
         {
          "R": 4.200583470865905,
          "series": "R",
          "time": 721
         },
         {
          "D": 426.3041093866197,
          "series": "D",
          "time": 721
         },
         {
          "H": 3.2279156339741766,
          "series": "H",
          "time": 721
         },
         {
          "S": 53.8053430436227,
          "series": "S",
          "time": 722
         },
         {
          "E": 6.325157184710916,
          "series": "E",
          "time": 722
         },
         {
          "I": 6.929272590698277,
          "series": "I",
          "time": 722
         },
         {
          "R": 4.187618502018529,
          "series": "R",
          "time": 722
         },
         {
          "D": 426.53465590511763,
          "series": "D",
          "time": 722
         },
         {
          "H": 3.2179527738318394,
          "series": "H",
          "time": 722
         },
         {
          "S": 53.639274543553995,
          "series": "S",
          "time": 723
         },
         {
          "E": 6.305634785876528,
          "series": "E",
          "time": 723
         },
         {
          "I": 6.907885608652352,
          "series": "I",
          "time": 723
         },
         {
          "R": 4.174693549139953,
          "series": "R",
          "time": 723
         },
         {
          "D": 426.76449084903294,
          "series": "D",
          "time": 723
         },
         {
          "H": 3.2080206637441546,
          "series": "H",
          "time": 723
         },
         {
          "S": 53.47371860869088,
          "series": "S",
          "time": 724
         },
         {
          "E": 6.286172642312477,
          "series": "E",
          "time": 724
         },
         {
          "I": 6.886564636854228,
          "series": "I",
          "time": 724
         },
         {
          "R": 4.161808488722149,
          "series": "R",
          "time": 724
         },
         {
          "D": 426.99361641461815,
          "series": "D",
          "time": 724
         },
         {
          "H": 3.198119208802046,
          "series": "H",
          "time": 724
         },
         {
          "S": 53.30867365701696,
          "series": "S",
          "time": 725
         },
         {
          "E": 6.266770568042764,
          "series": "E",
          "time": 725
         },
         {
          "I": 6.865309471565352,
          "series": "I",
          "time": 725
         },
         {
          "R": 4.148963197638292,
          "series": "R",
          "time": 725
         },
         {
          "D": 427.2220347913472,
          "series": "D",
          "time": 725
         },
         {
          "H": 3.1882483143893716,
          "series": "H",
          "time": 725
         },
         {
          "S": 53.144138111398675,
          "series": "S",
          "time": 726
         },
         {
          "E": 6.247428377665402,
          "series": "E",
          "time": 726
         },
         {
          "I": 6.844119909676004,
          "series": "I",
          "time": 726
         },
         {
          "R": 4.136157553141583,
          "series": "R",
          "time": 726
         },
         {
          "D": 427.44974816193627,
          "series": "D",
          "time": 726
         },
         {
          "H": 3.1784078861820184,
          "series": "H",
          "time": 726
         },
         {
          "S": 52.98011039957024,
          "series": "S",
          "time": 727
         },
         {
          "E": 6.228145886350641,
          "series": "E",
          "time": 727
         },
         {
          "I": 6.822995748703354,
          "series": "I",
          "time": 727
         },
         {
          "R": 4.1233914328640795,
          "series": "R",
          "time": 727
         },
         {
          "D": 427.6767587023646,
          "series": "D",
          "time": 727
         },
         {
          "H": 3.1685978301470015,
          "series": "H",
          "time": 727
         },
         {
          "S": 52.81658895411863,
          "series": "S",
          "time": 728
         },
         {
          "E": 6.208922909839203,
          "series": "E",
          "time": 728
         },
         {
          "I": 6.801936786789531,
          "series": "I",
          "time": 728
         },
         {
          "R": 4.110664714815521,
          "series": "R",
          "time": 728
         },
         {
          "D": 427.90306858189547,
          "series": "D",
          "time": 728
         },
         {
          "H": 3.1588180525415672,
          "series": "H",
          "time": 728
         },
         {
          "S": 52.653572212468575,
          "series": "S",
          "time": 729
         },
         {
          "E": 6.189759264440519,
          "series": "E",
          "time": 729
         },
         {
          "I": 6.780942822699689,
          "series": "I",
          "time": 729
         },
         {
          "R": 4.097977277382169,
          "series": "R",
          "time": 729
         },
         {
          "D": 428.12867996309666,
          "series": "D",
          "time": 729
         },
         {
          "H": 3.1490684599122947,
          "series": "H",
          "time": 729
         },
         {
          "S": 52.49105861686766,
          "series": "S",
          "time": 730
         },
         {
          "E": 6.170654767030975,
          "series": "E",
          "time": 730
         },
         {
          "I": 6.7600136558200905,
          "series": "I",
          "time": 730
         },
         {
          "R": 4.085328999325638,
          "series": "R",
          "time": 730
         },
         {
          "D": 428.3535950018613,
          "series": "D",
          "time": 730
         },
         {
          "H": 3.1393489590942045,
          "series": "H",
          "time": 730
         },
         {
          "S": 52.329046614371414,
          "series": "S",
          "time": 731
         },
         {
          "E": 6.151609235052161,
          "series": "E",
          "time": 731
         },
         {
          "I": 6.739149086156182,
          "series": "I",
          "time": 731
         },
         {
          "R": 4.072719759781744,
          "series": "R",
          "time": 731
         },
         {
          "D": 428.5778158474285,
          "series": "D",
          "time": 731
         },
         {
          "H": 3.1296594572098675,
          "series": "H",
          "time": 731
         },
         {
          "S": 52.16753465682849,
          "series": "S",
          "time": 732
         },
         {
          "E": 6.132622486509132,
          "series": "E",
          "time": 732
         },
         {
          "I": 6.718348914330692,
          "series": "I",
          "time": 732
         },
         {
          "R": 4.060149438259346,
          "series": "R",
          "time": 732
         },
         {
          "D": 428.8013446424037,
          "series": "D",
          "time": 732
         },
         {
          "H": 3.1199998616685187,
          "series": "H",
          "time": 732
         },
         {
          "S": 52.00652120086584,
          "series": "S",
          "time": 733
         },
         {
          "E": 6.113694339968661,
          "series": "E",
          "time": 733
         },
         {
          "I": 6.697612941581714,
          "series": "I",
          "time": 733
         },
         {
          "R": 4.047617914639194,
          "series": "R",
          "time": 733
         },
         {
          "D": 429.0241835227793,
          "series": "D",
          "time": 733
         },
         {
          "H": 3.110370080165171,
          "series": "H",
          "time": 733
         },
         {
          "S": 51.846004707874016,
          "series": "S",
          "time": 734
         },
         {
          "E": 6.09482461455751,
          "series": "E",
          "time": 734
         },
         {
          "I": 6.67694096976082,
          "series": "I",
          "time": 734
         },
         {
          "R": 4.035125069172785,
          "series": "R",
          "time": 734
         },
         {
          "D": 429.24633461795503,
          "series": "D",
          "time": 734
         },
         {
          "H": 3.1007700206797337,
          "series": "H",
          "time": 734
         },
         {
          "S": 51.685983643992415,
          "series": "S",
          "time": 735
         },
         {
          "E": 6.0760131299607,
          "series": "E",
          "time": 735
         },
         {
          "I": 6.656332801331157,
          "series": "I",
          "time": 735
         },
         {
          "R": 4.022670782481211,
          "series": "R",
          "time": 735
         },
         {
          "D": 429.4678000507583,
          "series": "D",
          "time": 735
         },
         {
          "H": 3.0911995914761334,
          "series": "H",
          "time": 735
         },
         {
          "S": 51.526456480094666,
          "series": "S",
          "time": 736
         },
         {
          "E": 6.05725970641979,
          "series": "E",
          "time": 736
         },
         {
          "I": 6.6357882393655645,
          "series": "I",
          "time": 736
         },
         {
          "R": 4.010254935554027,
          "series": "R",
          "time": 736
         },
         {
          "D": 429.6885819374644,
          "series": "D",
          "time": 736
         },
         {
          "H": 3.081658701101437,
          "series": "H",
          "time": 736
         },
         {
          "S": 51.36742169177399,
          "series": "S",
          "time": 737
         },
         {
          "E": 6.038564164731156,
          "series": "E",
          "time": 737
         },
         {
          "I": 6.615307087544692,
          "series": "I",
          "time": 737
         },
         {
          "R": 3.997877409748109,
          "series": "R",
          "time": 737
         },
         {
          "D": 429.90868238781695,
          "series": "D",
          "time": 737
         },
         {
          "H": 3.0721472583849776,
          "series": "H",
          "time": 737
         },
         {
          "S": 51.20887775932865,
          "series": "S",
          "time": 738
         },
         {
          "E": 6.019926326244281,
          "series": "E",
          "time": 738
         },
         {
          "I": 6.594889150155121,
          "series": "I",
          "time": 738
         },
         {
          "R": 3.9855380867865224,
          "series": "R",
          "time": 738
         },
         {
          "D": 430.1281035050478,
          "series": "D",
          "time": 738
         },
         {
          "H": 3.062665172437485,
          "series": "H",
          "time": 738
         },
         {
          "S": 51.05082316774741,
          "series": "S",
          "time": 739
         },
         {
          "E": 6.001346012860048,
          "series": "E",
          "time": 739
         },
         {
          "I": 6.5745342320874975,
          "series": "I",
          "time": 739
         },
         {
          "R": 3.973236848757389,
          "series": "R",
          "time": 739
         },
         {
          "D": 430.3468473858973,
          "series": "D",
          "time": 739
         },
         {
          "H": 3.0532123526502146,
          "series": "H",
          "time": 739
         },
         {
          "S": 50.893256406695066,
          "series": "S",
          "time": 740
         },
         {
          "E": 5.982823047029035,
          "series": "E",
          "time": 740
         },
         {
          "I": 6.554242138834667,
          "series": "I",
          "time": 740
         },
         {
          "R": 3.960973578112762,
          "series": "R",
          "time": 740
         },
         {
          "D": 430.5649161206343,
          "series": "D",
          "time": 740
         },
         {
          "H": 3.0437887086940827,
          "series": "H",
          "time": 740
         },
         {
          "S": 50.736175970498024,
          "series": "S",
          "time": 741
         },
         {
          "E": 5.964357251749823,
          "series": "E",
          "time": 741
         },
         {
          "I": 6.534012676489812,
          "series": "I",
          "time": 741
         },
         {
          "R": 3.948748157667504,
          "series": "R",
          "time": 741
         },
         {
          "D": 430.7823117930759,
          "series": "D",
          "time": 741
         },
         {
          "H": 3.034394150518804,
          "series": "H",
          "time": 741
         },
         {
          "S": 50.57958035812991,
          "series": "S",
          "time": 742
         },
         {
          "E": 5.945948450567301,
          "series": "E",
          "time": 742
         },
         {
          "I": 6.513845651744607,
          "series": "I",
          "time": 742
         },
         {
          "R": 3.936560470598164,
          "series": "R",
          "time": 742
         },
         {
          "D": 430.99903648060786,
          "series": "D",
          "time": 742
         },
         {
          "H": 3.025028588352031,
          "series": "H",
          "time": 742
         },
         {
          "S": 50.423468073197206,
          "series": "S",
          "time": 743
         },
         {
          "E": 5.927596467570984,
          "series": "E",
          "time": 743
         },
         {
          "I": 6.493740871887361,
          "series": "I",
          "time": 743
         },
         {
          "R": 3.9244104004418636,
          "series": "R",
          "time": 743
         },
         {
          "D": 431.21509225420397,
          "series": "D",
          "time": 743
         },
         {
          "H": 3.0156919326984952,
          "series": "H",
          "time": 743
         },
         {
          "S": 50.26783762392498,
          "series": "S",
          "time": 744
         },
         {
          "E": 5.909301127393324,
          "series": "E",
          "time": 744
         },
         {
          "I": 6.473698144801187,
          "series": "I",
          "time": 744
         },
         {
          "R": 3.912297831095184,
          "series": "R",
          "time": 744
         },
         {
          "D": 431.43048117844603,
          "series": "D",
          "time": 744
         },
         {
          "H": 3.0063840943391527,
          "series": "H",
          "time": 744
         },
         {
          "S": 50.11268752314261,
          "series": "S",
          "time": 745
         },
         {
          "E": 5.891062255208043,
          "series": "E",
          "time": 745
         },
         {
          "I": 6.453717278962157,
          "series": "I",
          "time": 745
         },
         {
          "R": 3.9002226468130554,
          "series": "R",
          "time": 745
         },
         {
          "D": 431.6452053115437,
          "series": "D",
          "time": 745
         },
         {
          "H": 2.99710498433033,
          "series": "H",
          "time": 745
         },
         {
          "S": 49.958016288269576,
          "series": "S",
          "time": 746
         },
         {
          "E": 5.8728796767284575,
          "series": "E",
          "time": 746
         },
         {
          "I": 6.433798083437477,
          "series": "I",
          "time": 746
         },
         {
          "R": 3.8881847322076517,
          "series": "R",
          "time": 746
         },
         {
          "D": 431.85926670535383,
          "series": "D",
          "time": 746
         },
         {
          "H": 2.987854514002877,
          "series": "H",
          "time": 746
         },
         {
          "S": 49.80382244130129,
          "series": "S",
          "time": 747
         },
         {
          "E": 5.854753218205815,
          "series": "E",
          "time": 747
         },
         {
          "I": 6.4139403678836615,
          "series": "I",
          "time": 747
         },
         {
          "R": 3.8761839722472873,
          "series": "R",
          "time": 747
         },
         {
          "D": 432.07266740540047,
          "series": "D",
          "time": 747
         },
         {
          "H": 2.9786325949613186,
          "series": "H",
          "time": 747
         },
         {
          "S": 49.650104508795,
          "series": "S",
          "time": 748
         },
         {
          "E": 5.836682706427633,
          "series": "E",
          "time": 748
         },
         {
          "I": 6.394143942544713,
          "series": "I",
          "time": 748
         },
         {
          "R": 3.864220252255319,
          "series": "R",
          "time": 748
         },
         {
          "D": 432.2854094508942,
          "series": "D",
          "time": 748
         },
         {
          "H": 2.9694391390830077,
          "series": "H",
          "time": 748
         },
         {
          "S": 49.49686102185568,
          "series": "S",
          "time": 749
         },
         {
          "E": 5.818667968716045,
          "series": "E",
          "time": 749
         },
         {
          "I": 6.37440861825031,
          "series": "I",
          "time": 749
         },
         {
          "R": 3.8522934579090484,
          "series": "R",
          "time": 749
         },
         {
          "D": 432.4974948747515,
          "series": "D",
          "time": 749
         },
         {
          "H": 2.9602740585172858,
          "series": "H",
          "time": 749
         },
         {
          "S": 49.34409051612199,
          "series": "S",
          "time": 750
         },
         {
          "E": 5.800708832926146,
          "series": "E",
          "time": 750
         },
         {
          "I": 6.354734206413999,
          "series": "I",
          "time": 750
         },
         {
          "R": 3.840403475238631,
          "series": "R",
          "time": 750
         },
         {
          "D": 432.70892570361445,
          "series": "D",
          "time": 750
         },
         {
          "H": 2.951137265684643,
          "series": "H",
          "time": 750
         },
         {
          "S": 49.19179153175231,
          "series": "S",
          "time": 751
         },
         {
          "E": 5.782805127444353,
          "series": "E",
          "time": 751
         },
         {
          "I": 6.3351205190313955,
          "series": "I",
          "time": 751
         },
         {
          "R": 3.828550190625987,
          "series": "R",
          "time": 751
         },
         {
          "D": 432.91970395786996,
          "series": "D",
          "time": 751
         },
         {
          "H": 2.9420286732758805,
          "series": "H",
          "time": 751
         },
         {
          "S": 49.039962613410765,
          "series": "S",
          "time": 752
         },
         {
          "E": 5.764956681186764,
          "series": "E",
          "time": 752
         },
         {
          "I": 6.31556736867838,
          "series": "I",
          "time": 752
         },
         {
          "R": 3.816733490803715,
          "series": "R",
          "time": 752
         },
         {
          "D": 433.12983165166895,
          "series": "D",
          "time": 752
         },
         {
          "H": 2.932948194251277,
          "series": "H",
          "time": 752
         },
         {
          "S": 48.88860231025334,
          "series": "S",
          "time": 753
         },
         {
          "E": 5.747163323597521,
          "series": "E",
          "time": 753
         },
         {
          "I": 6.296074568509315,
          "series": "I",
          "time": 753
         },
         {
          "R": 3.8049532628540095,
          "series": "R",
          "time": 753
         },
         {
          "D": 433.3393107929459,
          "series": "D",
          "time": 753
         },
         {
          "H": 2.9238957418397558,
          "series": "H",
          "time": 753
         },
         {
          "S": 48.737709175914,
          "series": "S",
          "time": 754
         },
         {
          "E": 5.729424884647178,
          "series": "E",
          "time": 754
         },
         {
          "I": 6.276641932255256,
          "series": "I",
          "time": 754
         },
         {
          "R": 3.7932093942075826,
          "series": "R",
          "time": 754
         },
         {
          "D": 433.5481433834378,
          "series": "D",
          "time": 754
         },
         {
          "H": 2.9148712295380568,
          "series": "H",
          "time": 754
         },
         {
          "S": 48.58728176849086,
          "series": "S",
          "time": 755
         },
         {
          "E": 5.7117411948310854,
          "series": "E",
          "time": 755
         },
         {
          "I": 6.2572692742221685,
          "series": "I",
          "time": 755
         },
         {
          "R": 3.7815017726425886,
          "series": "R",
          "time": 755
         },
         {
          "D": 433.7563314187032,
          "series": "D",
          "time": 755
         },
         {
          "H": 2.9058745711099094,
          "series": "H",
          "time": 755
         },
         {
          "S": 48.43731865053244,
          "series": "S",
          "time": 756
         },
         {
          "E": 5.694112085167761,
          "series": "E",
          "time": 756
         },
         {
          "I": 6.23795640928916,
          "series": "I",
          "time": 756
         },
         {
          "R": 3.769830286283549,
          "series": "R",
          "time": 756
         },
         {
          "D": 433.9638768881417,
          "series": "D",
          "time": 756
         },
         {
          "H": 2.896905680585209,
          "series": "H",
          "time": 756
         },
         {
          "S": 48.2878183890239,
          "series": "S",
          "time": 757
         },
         {
          "E": 5.676537387197279,
          "series": "E",
          "time": 757
         },
         {
          "I": 6.218703152906709,
          "series": "I",
          "time": 757
         },
         {
          "R": 3.758194823600287,
          "series": "R",
          "time": 757
         },
         {
          "D": 434.1707817750125,
          "series": "D",
          "time": 757
         },
         {
          "H": 2.8879644722591946,
          "series": "H",
          "time": 757
         },
         {
          "S": 48.13877955537335,
          "series": "S",
          "time": 758
         },
         {
          "E": 5.659016932979661,
          "series": "E",
          "time": 758
         },
         {
          "I": 6.1995093210948955,
          "series": "I",
          "time": 758
         },
         {
          "R": 3.7465952734068604,
          "series": "R",
          "time": 758
         },
         {
          "D": 434.3770480564534,
          "series": "D",
          "time": 758
         },
         {
          "H": 2.87905086069163,
          "series": "H",
          "time": 758
         },
         {
          "S": 47.99020072539821,
          "series": "S",
          "time": 759
         },
         {
          "E": 5.641550555093267,
          "series": "E",
          "time": 759
         },
         {
          "I": 6.180374730441652,
          "series": "I",
          "time": 759
         },
         {
          "R": 3.735031524860498,
          "series": "R",
          "time": 759
         },
         {
          "D": 434.58267770350017,
          "series": "D",
          "time": 759
         },
         {
          "H": 2.8701647607059875,
          "series": "H",
          "time": 759
         },
         {
          "S": 47.842080479311605,
          "series": "S",
          "time": 760
         },
         {
          "E": 5.624138086633201,
          "series": "E",
          "time": 760
         },
         {
          "I": 6.161299198101005,
          "series": "I",
          "time": 760
         },
         {
          "R": 3.7235034674605414,
          "series": "R",
          "time": 760
         },
         {
          "D": 434.7876726811048,
          "series": "D",
          "time": 760
         },
         {
          "H": 2.8613060873886345,
          "series": "H",
          "time": 760
         },
         {
          "S": 47.69441740170877,
          "series": "S",
          "time": 761
         },
         {
          "E": 5.606779361209717,
          "series": "E",
          "time": 761
         },
         {
          "I": 6.142282541791328,
          "series": "I",
          "time": 761
         },
         {
          "R": 3.71201099104739,
          "series": "R",
          "time": 761
         },
         {
          "D": 434.9920349481546,
          "series": "D",
          "time": 761
         },
         {
          "H": 2.8524747560880224,
          "series": "H",
          "time": 761
         },
         {
          "S": 47.547210081553544,
          "series": "S",
          "time": 762
         },
         {
          "E": 5.589474212946617,
          "series": "E",
          "time": 762
         },
         {
          "I": 6.123324579793604,
          "series": "I",
          "time": 762
         },
         {
          "R": 3.7005539858014465,
          "series": "R",
          "time": 762
         },
         {
          "D": 435.1957664574907,
          "series": "D",
          "time": 762
         },
         {
          "H": 2.843670682413875,
          "series": "H",
          "time": 762
         },
         {
          "S": 47.400457112164894,
          "series": "S",
          "time": 763
         },
         {
          "E": 5.5722224764796815,
          "series": "E",
          "time": 763
         },
         {
          "I": 6.104425130949682,
          "series": "I",
          "time": 763
         },
         {
          "R": 3.689132342242068,
          "series": "R",
          "time": 763
         },
         {
          "D": 435.3988691559271,
          "series": "D",
          "time": 763
         },
         {
          "H": 2.8348937822363864,
          "series": "H",
          "time": 763
         },
         {
          "S": 47.25415709120346,
          "series": "S",
          "time": 764
         },
         {
          "E": 5.555023986955082,
          "series": "E",
          "time": 764
         },
         {
          "I": 6.085584014660554,
          "series": "I",
          "time": 764
         },
         {
          "R": 3.677745951226521,
          "series": "R",
          "time": 764
         },
         {
          "D": 435.6013449842688,
          "series": "D",
          "time": 764
         },
         {
          "H": 2.826143971685412,
          "series": "H",
          "time": 764
         },
         {
          "S": 47.10830862065816,
          "series": "S",
          "time": 765
         },
         {
          "E": 5.5378785800278045,
          "series": "E",
          "time": 765
         },
         {
          "I": 6.066801050884624,
          "series": "I",
          "time": 765
         },
         {
          "R": 3.6663947039489364,
          "series": "R",
          "time": 765
         },
         {
          "D": 435.8031958773306,
          "series": "D",
          "time": 765
         },
         {
          "H": 2.8174211671496727,
          "series": "H",
          "time": 765
         },
         {
          "S": 46.962910306832825,
          "series": "S",
          "time": 766
         },
         {
          "E": 5.5207860918600815,
          "series": "E",
          "time": 766
         },
         {
          "I": 6.048076060135989,
          "series": "I",
          "time": 766
         },
         {
          "R": 3.6550784919392725,
          "series": "R",
          "time": 766
         },
         {
          "D": 436.0044237639557,
          "series": "D",
          "time": 766
         },
         {
          "H": 2.80872528527595,
          "series": "H",
          "time": 766
         },
         {
          "S": 46.81796076033289,
          "series": "S",
          "time": 767
         },
         {
          "E": 5.503746359119823,
          "series": "E",
          "time": 767
         },
         {
          "I": 6.029408863482719,
          "series": "I",
          "time": 767
         },
         {
          "R": 3.6437972070622764,
          "series": "R",
          "time": 767
         },
         {
          "D": 436.2050305670338,
          "series": "D",
          "time": 767
         },
         {
          "H": 2.800056242968295,
          "series": "H",
          "time": 767
         },
         {
          "S": 46.6734585960521,
          "series": "S",
          "time": 768
         },
         {
          "E": 5.4867592189790635,
          "series": "E",
          "time": 768
         },
         {
          "I": 6.010799282545159,
          "series": "I",
          "time": 768
         },
         {
          "R": 3.6325507415164506,
          "series": "R",
          "time": 768
         },
         {
          "D": 436.40501820351983,
          "series": "D",
          "time": 768
         },
         {
          "H": 2.7914139573872307,
          "series": "H",
          "time": 768
         },
         {
          "S": 46.52940243315931,
          "series": "S",
          "time": 769
         },
         {
          "E": 5.469824509112395,
          "series": "E",
          "time": 769
         },
         {
          "I": 5.992247139494212,
          "series": "I",
          "time": 769
         },
         {
          "R": 3.621338987833025,
          "series": "R",
          "time": 769
         },
         {
          "D": 436.60438858445195,
          "series": "D",
          "time": 769
         },
         {
          "H": 2.7827983459489607,
          "series": "H",
          "time": 769
         },
         {
          "S": 46.38579089508526,
          "series": "S",
          "time": 770
         },
         {
          "E": 5.452942067695426,
          "series": "E",
          "time": 770
         },
         {
          "I": 5.973752257049647,
          "series": "I",
          "time": 770
         },
         {
          "R": 3.6101618388749266,
          "series": "R",
          "time": 770
         },
         {
          "D": 436.80314361497,
          "series": "D",
          "time": 770
         },
         {
          "H": 2.774209326324583,
          "series": "H",
          "time": 770
         },
         {
          "S": 46.242622609509404,
          "series": "S",
          "time": 771
         },
         {
          "E": 5.436111733403231,
          "series": "E",
          "time": 771
         },
         {
          "I": 5.9553144584784015,
          "series": "I",
          "time": 771
         },
         {
          "R": 3.5990191878357587,
          "series": "R",
          "time": 771
         },
         {
          "D": 437.0012851943337,
          "series": "D",
          "time": 771
         },
         {
          "H": 2.765646816439299,
          "series": "H",
          "time": 771
         },
         {
          "S": 46.09989620834685,
          "series": "S",
          "time": 772
         },
         {
          "E": 5.419333345408805,
          "series": "E",
          "time": 772
         },
         {
          "I": 5.936933567592897,
          "series": "I",
          "time": 772
         },
         {
          "R": 3.587910928238779,
          "series": "R",
          "time": 772
         },
         {
          "D": 437.19881521594084,
          "series": "D",
          "time": 772
         },
         {
          "H": 2.757110734471633,
          "series": "H",
          "time": 772
         },
         {
          "S": 45.95761032773524,
          "series": "S",
          "time": 773
         },
         {
          "E": 5.402606743381534,
          "series": "E",
          "time": 773
         },
         {
          "I": 5.918609408749348,
          "series": "I",
          "time": 773
         },
         {
          "R": 3.576836953935883,
          "series": "R",
          "time": 773
         },
         {
          "D": 437.3957355673451,
          "series": "D",
          "time": 773
         },
         {
          "H": 2.7486009988526474,
          "series": "H",
          "time": 773
         },
         {
          "S": 45.81576360802175,
          "series": "S",
          "time": 774
         },
         {
          "E": 5.385931767485658,
          "series": "E",
          "time": 774
         },
         {
          "I": 5.900341806846092,
          "series": "I",
          "time": 774
         },
         {
          "R": 3.565797159106587,
          "series": "R",
          "time": 774
         },
         {
          "D": 437.5920481302745,
          "series": "D",
          "time": 774
         },
         {
          "H": 2.740117528265166,
          "series": "H",
          "time": 774
         },
         {
          "S": 45.674354693750054,
          "series": "S",
          "time": 775
         },
         {
          "E": 5.369308258378746,
          "series": "E",
          "time": 775
         },
         {
          "I": 5.88213058732191,
          "series": "I",
          "time": 775
         },
         {
          "R": 3.5547914382570207,
          "series": "R",
          "time": 775
         },
         {
          "D": 437.78775478064904,
          "series": "D",
          "time": 775
         },
         {
          "H": 2.7316602416429943,
          "series": "H",
          "time": 775
         },
         {
          "S": 45.53338223364743,
          "series": "S",
          "time": 776
         },
         {
          "E": 5.352736057210171,
          "series": "E",
          "time": 776
         },
         {
          "I": 5.863975576154362,
          "series": "I",
          "time": 776
         },
         {
          "R": 3.5438196862189173,
          "series": "R",
          "time": 776
         },
         {
          "D": 437.98285738859875,
          "series": "D",
          "time": 776
         },
         {
          "H": 2.7232290581701464,
          "series": "H",
          "time": 776
         },
         {
          "S": 45.392844880611804,
          "series": "S",
          "time": 777
         },
         {
          "E": 5.336215005619594,
          "series": "E",
          "time": 777
         },
         {
          "I": 5.845876599858123,
          "series": "I",
          "time": 777
         },
         {
          "R": 3.5328817981486074,
          "series": "R",
          "time": 777
         },
         {
          "D": 438.1773578184816,
          "series": "D",
          "time": 777
         },
         {
          "H": 2.7148238972800725,
          "series": "H",
          "time": 777
         },
         {
          "S": 45.25274129169889,
          "series": "S",
          "time": 778
         },
         {
          "E": 5.319744945735452,
          "series": "E",
          "time": 778
         },
         {
          "I": 5.827833485483321,
          "series": "I",
          "time": 778
         },
         {
          "R": 3.5219776695260196,
          "series": "R",
          "time": 778
         },
         {
          "D": 438.37125792890123,
          "series": "D",
          "time": 778
         },
         {
          "H": 2.706444678654889,
          "series": "H",
          "time": 778
         },
         {
          "S": 45.11307012810935,
          "series": "S",
          "time": 779
         },
         {
          "E": 5.303325720173444,
          "series": "E",
          "time": 779
         },
         {
          "I": 5.809846060613895,
          "series": "I",
          "time": 779
         },
         {
          "R": 3.511107196153679,
          "series": "R",
          "time": 779
         },
         {
          "D": 438.5645595727248,
          "series": "D",
          "time": 779
         },
         {
          "H": 2.6980913222246112,
          "series": "H",
          "time": 779
         },
         {
          "S": 44.973830055176016,
          "series": "S",
          "time": 780
         },
         {
          "E": 5.286957172035033,
          "series": "E",
          "time": 780
         },
         {
          "I": 5.791914153365935,
          "series": "I",
          "time": 780
         },
         {
          "R": 3.500270274155714,
          "series": "R",
          "time": 780
         },
         {
          "D": 438.7572645971007,
          "series": "D",
          "time": 780
         },
         {
          "H": 2.6897637481663867,
          "series": "H",
          "time": 780
         },
         {
          "S": 44.835019742351136,
          "series": "S",
          "time": 781
         },
         {
          "E": 5.270639144905944,
          "series": "E",
          "time": 781
         },
         {
          "I": 5.7740375923860485,
          "series": "I",
          "time": 781
         },
         {
          "R": 3.489466799976863,
          "series": "R",
          "time": 781
         },
         {
          "D": 438.94937484347605,
          "series": "D",
          "time": 781
         },
         {
          "H": 2.681461876903735,
          "series": "H",
          "time": 781
         },
         {
          "S": 44.69663786319364,
          "series": "S",
          "time": 782
         },
         {
          "E": 5.254371482854672,
          "series": "E",
          "time": 782
         },
         {
          "I": 5.756216206849719,
          "series": "I",
          "time": 782
         },
         {
          "R": 3.4786966703814826,
          "series": "R",
          "time": 782
         },
         {
          "D": 439.14089214761447,
          "series": "D",
          "time": 782
         },
         {
          "H": 2.673185629105786,
          "series": "H",
          "time": 782
         },
         {
          "S": 44.55868309535647,
          "series": "S",
          "time": 783
         },
         {
          "E": 5.238154030430985,
          "series": "E",
          "time": 783
         },
         {
          "I": 5.738449826459673,
          "series": "I",
          "time": 783
         },
         {
          "R": 3.4679597824525645,
          "series": "R",
          "time": 783
         },
         {
          "D": 439.33181833961356,
          "series": "D",
          "time": 783
         },
         {
          "H": 2.6649349256865205,
          "series": "H",
          "time": 783
         },
         {
          "S": 44.42115412057397,
          "series": "S",
          "time": 784
         },
         {
          "E": 5.221986632664446,
          "series": "E",
          "time": 784
         },
         {
          "I": 5.720738281444258,
          "series": "I",
          "time": 784
         },
         {
          "R": 3.4572560335907503,
          "series": "R",
          "time": 784
         },
         {
          "D": 439.5221552439223,
          "series": "D",
          "time": 784
         },
         {
          "H": 2.656709687804017,
          "series": "H",
          "time": 784
         },
         {
          "S": 44.28404962464927,
          "series": "S",
          "time": 785
         },
         {
          "E": 5.205869135062931,
          "series": "E",
          "time": 785
         },
         {
          "I": 5.703081402555812,
          "series": "I",
          "time": 785
         },
         {
          "R": 3.446585321513351,
          "series": "R",
          "time": 785
         },
         {
          "D": 439.7119046793587,
          "series": "D",
          "time": 785
         },
         {
          "H": 2.648509836859697,
          "series": "H",
          "time": 785
         },
         {
          "S": 44.1473682974417,
          "series": "S",
          "time": 786
         },
         {
          "E": 5.189801383611148,
          "series": "E",
          "time": 786
         },
         {
          "I": 5.685479021069053,
          "series": "I",
          "time": 786
         },
         {
          "R": 3.4359475442533696,
          "series": "R",
          "time": 786
         },
         {
          "D": 439.9010684591269,
          "series": "D",
          "time": 786
         },
         {
          "H": 2.6403352944975738,
          "series": "H",
          "time": 786
         },
         {
          "S": 44.011108832854326,
          "series": "S",
          "time": 787
         },
         {
          "E": 5.17378322476917,
          "series": "E",
          "time": 787
         },
         {
          "I": 5.667930968779464,
          "series": "I",
          "time": 787
         },
         {
          "R": 3.425342600158528,
          "series": "R",
          "time": 787
         },
         {
          "D": 440.0896483908348,
          "series": "D",
          "time": 787
         },
         {
          "H": 2.6321859826035037,
          "series": "H",
          "time": 787
         },
         {
          "S": 43.875269928821425,
          "series": "S",
          "time": 788
         },
         {
          "E": 5.157814505470965,
          "series": "E",
          "time": 788
         },
         {
          "I": 5.650437078001684,
          "series": "I",
          "time": 788
         },
         {
          "R": 3.414770387890294,
          "series": "R",
          "time": 788
         },
         {
          "D": 440.27764627651095,
          "series": "D",
          "time": 788
         },
         {
          "H": 2.6240618233044404,
          "series": "H",
          "time": 788
         },
         {
          "S": 43.739850287296065,
          "series": "S",
          "time": 789
         },
         {
          "E": 5.141895073122934,
          "series": "E",
          "time": 789
         },
         {
          "I": 5.632997181567913,
          "series": "I",
          "time": 789
         },
         {
          "R": 3.4042308064229134,
          "series": "R",
          "time": 789
         },
         {
          "D": 440.4650639126222,
          "series": "D",
          "time": 789
         },
         {
          "H": 2.6159627389676903,
          "series": "H",
          "time": 789
         },
         {
          "S": 43.604848614237696,
          "series": "S",
          "time": 790
         },
         {
          "E": 5.126024775602457,
          "series": "E",
          "time": 790
         },
         {
          "I": 5.615611112826302,
          "series": "I",
          "time": 790
         },
         {
          "R": 3.393723755042445,
          "series": "R",
          "time": 790
         },
         {
          "D": 440.6519030900906,
          "series": "D",
          "time": 790
         },
         {
          "H": 2.60788865220017,
          "series": "H",
          "time": 790
         },
         {
          "S": 43.470263619599784,
          "series": "S",
          "time": 791
         },
         {
          "E": 5.110203461256432,
          "series": "E",
          "time": 791
         },
         {
          "I": 5.598278705639373,
          "series": "I",
          "time": 791
         },
         {
          "R": 3.3832491333457986,
          "series": "R",
          "time": 791
         },
         {
          "D": 440.8381655943106,
          "series": "D",
          "time": 791
         },
         {
          "H": 2.5998394858476677,
          "series": "H",
          "time": 791
         },
         {
          "S": 43.336094017317485,
          "series": "S",
          "time": 792
         },
         {
          "E": 5.094430978899831,
          "series": "E",
          "time": 792
         },
         {
          "I": 5.580999794382424,
          "series": "I",
          "time": 792
         },
         {
          "R": 3.3728068412397736,
          "series": "R",
          "time": 792
         },
         {
          "D": 441.02385320516606,
          "series": "D",
          "time": 792
         },
         {
          "H": 2.591815162994106,
          "series": "H",
          "time": 792
         },
         {
          "S": 43.202338525295346,
          "series": "S",
          "time": 793
         },
         {
          "E": 5.0787071778142545,
          "series": "E",
          "time": 793
         },
         {
          "I": 5.563774213941948,
          "series": "I",
          "time": 793
         },
         {
          "R": 3.3623967789401057,
          "series": "R",
          "time": 793
         },
         {
          "D": 441.2089676970472,
          "series": "D",
          "time": 793
         },
         {
          "H": 2.583815606960807,
          "series": "H",
          "time": 793
         },
         {
          "S": 43.06899586539506,
          "series": "S",
          "time": 794
         },
         {
          "E": 5.063031907746489,
          "series": "E",
          "time": 794
         },
         {
          "I": 5.546601799714057,
          "series": "I",
          "time": 794
         },
         {
          "R": 3.352018846970511,
          "series": "R",
          "time": 794
         },
         {
          "D": 441.3935108388678,
          "series": "D",
          "time": 794
         },
         {
          "H": 2.5758407413057576,
          "series": "H",
          "time": 794
         },
         {
          "S": 42.93606476342327,
          "series": "S",
          "time": 795
         },
         {
          "E": 5.047405018907074,
          "series": "E",
          "time": 795
         },
         {
          "I": 5.529482387602906,
          "series": "I",
          "time": 795
         },
         {
          "R": 3.3416729461617343,
          "series": "R",
          "time": 795
         },
         {
          "D": 441.57748439408186,
          "series": "D",
          "time": 795
         },
         {
          "H": 2.5678904898228816,
          "series": "H",
          "time": 795
         },
         {
          "S": 42.80354394911936,
          "series": "S",
          "time": 796
         },
         {
          "E": 5.031826361968866,
          "series": "E",
          "time": 796
         },
         {
          "I": 5.51241581401913,
          "series": "I",
          "time": 796
         },
         {
          "R": 3.331358977650605,
          "series": "R",
          "time": 796
         },
         {
          "D": 441.7608901207005,
          "series": "D",
          "time": 796
         },
         {
          "H": 2.5599647765413107,
          "series": "H",
          "time": 796
         },
         {
          "S": 42.67143215614333,
          "series": "S",
          "time": 797
         },
         {
          "E": 5.016295788065622,
          "series": "E",
          "time": 797
         },
         {
          "I": 5.495401915878273,
          "series": "I",
          "time": 797
         },
         {
          "R": 3.3210768428790916,
          "series": "R",
          "time": 797
         },
         {
          "D": 441.94372977130877,
          "series": "D",
          "time": 797
         },
         {
          "H": 2.5520635257246576,
          "series": "H",
          "time": 797
         },
         {
          "S": 42.53972812206373,
          "series": "S",
          "time": 798
         },
         {
          "E": 5.000813148790564,
          "series": "E",
          "time": 798
         },
         {
          "I": 5.478440530599237,
          "series": "I",
          "time": 798
         },
         {
          "R": 3.3108264435933554,
          "series": "R",
          "time": 798
         },
         {
          "D": 442.12600509308254,
          "series": "D",
          "time": 798
         },
         {
          "H": 2.544186661870293,
          "series": "H",
          "time": 798
         },
         {
          "S": 42.408430588345524,
          "series": "S",
          "time": 799
         },
         {
          "E": 4.985378296194971,
          "series": "E",
          "time": 799
         },
         {
          "I": 5.461531496102725,
          "series": "I",
          "time": 799
         },
         {
          "R": 3.3006076818428185,
          "series": "R",
          "time": 799
         },
         {
          "D": 442.30771782780505,
          "series": "D",
          "time": 799
         },
         {
          "H": 2.536334109708625,
          "series": "H",
          "time": 799
         },
         {
          "S": 42.27753830033813,
          "series": "S",
          "time": 800
         },
         {
          "E": 4.969991082786755,
          "series": "E",
          "time": 800
         },
         {
          "I": 5.4446746508096915,
          "series": "I",
          "time": 800
         },
         {
          "R": 3.2904204599792224,
          "series": "R",
          "time": 800
         },
         {
          "D": 442.4888697118835,
          "series": "D",
          "time": 800
         },
         {
          "H": 2.5285057942023776,
          "series": "H",
          "time": 800
         },
         {
          "S": 42.1470500072634,
          "series": "S",
          "time": 801
         },
         {
          "E": 4.954651361529065,
          "series": "E",
          "time": 801
         },
         {
          "I": 5.427869833639801,
          "series": "I",
          "time": 801
         },
         {
          "R": 3.280264680655698,
          "series": "R",
          "time": 801
         },
         {
          "D": 442.6694624763659,
          "series": "D",
          "time": 801
         },
         {
          "H": 2.5207016405458766,
          "series": "H",
          "time": 801
         },
         {
          "S": 42.016964462203674,
          "series": "S",
          "time": 802
         },
         {
          "E": 4.939358985838869,
          "series": "E",
          "time": 802
         },
         {
          "I": 5.411116884009887,
          "series": "I",
          "time": 802
         },
         {
          "R": 3.2701402468258327,
          "series": "R",
          "time": 802
         },
         {
          "D": 442.84949784695715,
          "series": "D",
          "time": 802
         },
         {
          "H": 2.5129215741643316,
          "series": "H",
          "time": 802
         },
         {
          "S": 41.88728042208986,
          "series": "S",
          "time": 803
         },
         {
          "E": 4.924113809585563,
          "series": "E",
          "time": 803
         },
         {
          "I": 5.394415641832417,
          "series": "I",
          "time": 803
         },
         {
          "R": 3.2600470617427466,
          "series": "R",
          "time": 803
         },
         {
          "D": 443.028977544036,
          "series": "D",
          "time": 803
         },
         {
          "H": 2.5051655207131254,
          "series": "H",
          "time": 803
         },
         {
          "S": 41.75799664768956,
          "series": "S",
          "time": 804
         },
         {
          "E": 4.908915687089568,
          "series": "E",
          "time": 804
         },
         {
          "I": 5.377765947513965,
          "series": "I",
          "time": 804
         },
         {
          "R": 3.2499850289581644,
          "series": "R",
          "time": 804
         },
         {
          "D": 443.2079032826714,
          "series": "D",
          "time": 804
         },
         {
          "H": 2.497433406077104,
          "series": "H",
          "time": 804
         },
         {
          "S": 41.62911190359524,
          "series": "S",
          "time": 805
         },
         {
          "E": 4.893764473120941,
          "series": "E",
          "time": 805
         },
         {
          "I": 5.361167641953685,
          "series": "I",
          "time": 805
         },
         {
          "R": 3.2399540523214965,
          "series": "R",
          "time": 805
         },
         {
          "D": 443.38627677263855,
          "series": "D",
          "time": 805
         },
         {
          "H": 2.4897251563698664,
          "series": "H",
          "time": 805
         },
         {
          "S": 41.50062495821239,
          "series": "S",
          "time": 806
         },
         {
          "E": 4.878660022897987,
          "series": "E",
          "time": 806
         },
         {
          "I": 5.3446205665417885,
          "series": "I",
          "time": 806
         },
         {
          "R": 3.2299540359789187,
          "series": "R",
          "time": 806
         },
         {
          "D": 443.5640997184356,
          "series": "D",
          "time": 806
         },
         {
          "H": 2.4820406979330603,
          "series": "H",
          "time": 806
         },
         {
          "S": 41.37253458374781,
          "series": "S",
          "time": 807
         },
         {
          "E": 4.8636021920858745,
          "series": "E",
          "time": 807
         },
         {
          "I": 5.328124563158034,
          "series": "I",
          "time": 807
         },
         {
          "R": 3.2199848843724563,
          "series": "R",
          "time": 807
         },
         {
          "D": 443.7413738192999,
          "series": "D",
          "time": 807
         },
         {
          "H": 2.474379957335677,
          "series": "H",
          "time": 807
         },
         {
          "S": 41.2448395561978,
          "series": "S",
          "time": 808
         },
         {
          "E": 4.848590836795257,
          "series": "E",
          "time": 808
         },
         {
          "I": 5.311679474170212,
          "series": "I",
          "time": 808
         },
         {
          "R": 3.2100465022390705,
          "series": "R",
          "time": 808
         },
         {
          "D": 443.91810076922405,
          "series": "D",
          "time": 808
         },
         {
          "H": 2.466742861373351,
          "series": "H",
          "time": 808
         },
         {
          "S": 41.11753865533656,
          "series": "S",
          "time": 809
         },
         {
          "E": 4.833625813580899,
          "series": "E",
          "time": 809
         },
         {
          "I": 5.29528514243264,
          "series": "I",
          "time": 809
         },
         {
          "R": 3.200138794609751,
          "series": "R",
          "time": 809
         },
         {
          "D": 444.09428225697224,
          "series": "D",
          "time": 809
         },
         {
          "H": 2.4591293370676586,
          "series": "H",
          "time": 809
         },
         {
          "S": 40.99063066470444,
          "series": "S",
          "time": 810
         },
         {
          "E": 4.818706979440304,
          "series": "E",
          "time": 810
         },
         {
          "I": 5.27894141128466,
          "series": "I",
          "time": 810
         },
         {
          "R": 3.1902616668086043,
          "series": "R",
          "time": 810
         },
         {
          "D": 444.2699199660963,
          "series": "D",
          "time": 810
         },
         {
          "H": 2.4515393116654236,
          "series": "H",
          "time": 810
         },
         {
          "S": 40.86411437159637,
          "series": "S",
          "time": 811
         },
         {
          "E": 4.803834191812346,
          "series": "E",
          "time": 811
         },
         {
          "I": 5.262648124549143,
          "series": "I",
          "time": 811
         },
         {
          "R": 3.180415024451953,
          "series": "R",
          "time": 811
         },
         {
          "D": 444.4450155749519,
          "series": "D",
          "time": 811
         },
         {
          "H": 2.443972712638019,
          "series": "H",
          "time": 811
         },
         {
          "S": 40.73798856705025,
          "series": "S",
          "time": 812
         },
         {
          "E": 4.789007308575913,
          "series": "E",
          "time": 812
         },
         {
          "I": 5.246405126530996,
          "series": "I",
          "time": 812
         },
         {
          "R": 3.17059877344743,
          "series": "R",
          "time": 812
         },
         {
          "D": 444.6195707567145,
          "series": "D",
          "time": 812
         },
         {
          "H": 2.436429467680674,
          "series": "H",
          "time": 812
         },
         {
          "S": 40.61225204583542,
          "series": "S",
          "time": 813
         },
         {
          "E": 4.774226188048542,
          "series": "E",
          "time": 813
         },
         {
          "I": 5.230212262015672,
          "series": "I",
          "time": 813
         },
         {
          "R": 3.160812819993083,
          "series": "R",
          "time": 813
         },
         {
          "D": 444.7935871793953,
          "series": "D",
          "time": 813
         },
         {
          "H": 2.428909504711787,
          "series": "H",
          "time": 813
         },
         {
          "S": 40.486903606441096,
          "series": "S",
          "time": 814
         },
         {
          "E": 4.75949068898507,
          "series": "E",
          "time": 814
         },
         {
          "I": 5.214069376267693,
          "series": "I",
          "time": 814
         },
         {
          "R": 3.151057070576475,
          "series": "R",
          "time": 814
         },
         {
          "D": 444.9670665058572,
          "series": "D",
          "time": 814
         },
         {
          "H": 2.421412751872232,
          "series": "H",
          "time": 814
         },
         {
          "S": 40.36194205106495,
          "series": "S",
          "time": 815
         },
         {
          "E": 4.744800670576285,
          "series": "E",
          "time": 815
         },
         {
          "I": 5.197976315029162,
          "series": "I",
          "time": 815
         },
         {
          "R": 3.1413314319737937,
          "series": "R",
          "time": 815
         },
         {
          "D": 445.1400103938309,
          "series": "D",
          "time": 815
         },
         {
          "H": 2.4139391375246744,
          "series": "H",
          "time": 815
         },
         {
          "S": 40.23736618560162,
          "series": "S",
          "time": 816
         },
         {
          "E": 4.730155992447573,
          "series": "E",
          "time": 816
         },
         {
          "I": 5.181932924518298,
          "series": "I",
          "time": 816
         },
         {
          "R": 3.1316358112489575,
          "series": "R",
          "time": 816
         },
         {
          "D": 445.31242049593044,
          "series": "D",
          "time": 816
         },
         {
          "H": 2.4064885902528856,
          "series": "H",
          "time": 816
         },
         {
          "S": 40.11317481963131,
          "series": "S",
          "time": 817
         },
         {
          "E": 4.715556514657586,
          "series": "E",
          "time": 817
         },
         {
          "I": 5.165939051427961,
          "series": "I",
          "time": 817
         },
         {
          "R": 3.1219701157527306,
          "series": "R",
          "time": 817
         },
         {
          "D": 445.4842984596691,
          "series": "D",
          "time": 817
         },
         {
          "H": 2.399061038861061,
          "series": "H",
          "time": 817
         },
         {
          "S": 39.98936676640842,
          "series": "S",
          "time": 818
         },
         {
          "E": 4.7010020976968985,
          "series": "E",
          "time": 818
         },
         {
          "I": 5.1499945429241905,
          "series": "I",
          "time": 818
         },
         {
          "R": 3.112334253121835,
          "series": "R",
          "time": 818
         },
         {
          "D": 445.6556459274753,
          "series": "D",
          "time": 818
         },
         {
          "H": 2.3916564123731407,
          "series": "H",
          "time": 818
         },
         {
          "S": 39.86594084285021,
          "series": "S",
          "time": 819
         },
         {
          "E": 4.686492602486678,
          "series": "E",
          "time": 819
         },
         {
          "I": 5.13409924664474,
          "series": "I",
          "time": 819
         },
         {
          "R": 3.1027281312780706,
          "series": "R",
          "time": 819
         },
         {
          "D": 445.82646453670793,
          "series": "D",
          "time": 819
         },
         {
          "H": 2.3842746400321295,
          "series": "H",
          "time": 819
         },
         {
          "S": 39.74289586952547,
          "series": "S",
          "time": 820
         },
         {
          "E": 4.672027890377355,
          "series": "E",
          "time": 820
         },
         {
          "I": 5.118253010697626,
          "series": "I",
          "time": 820
         },
         {
          "R": 3.0931516584274323,
          "series": "R",
          "time": 820
         },
         {
          "D": 445.99675591967247,
          "series": "D",
          "time": 820
         },
         {
          "H": 2.376915651299421,
          "series": "H",
          "time": 820
         },
         {
          "S": 39.62023067064329,
          "series": "S",
          "time": 821
         },
         {
          "E": 4.657607823147293,
          "series": "E",
          "time": 821
         },
         {
          "I": 5.1024556836596755,
          "series": "I",
          "time": 821
         },
         {
          "R": 3.0836047430592344,
          "series": "R",
          "time": 821
         },
         {
          "D": 446.16652170363614,
          "series": "D",
          "time": 821
         },
         {
          "H": 2.3695793758541237,
          "series": "H",
          "time": 821
         },
         {
          "S": 39.49794407404178,
          "series": "S",
          "time": 822
         },
         {
          "E": 4.643232263001478,
          "series": "E",
          "time": 822
         },
         {
          "I": 5.086707114575078,
          "series": "I",
          "time": 822
         },
         {
          "R": 3.0740872939452366,
          "series": "R",
          "time": 822
         },
         {
          "D": 446.3357635108438,
          "series": "D",
          "time": 822
         },
         {
          "H": 2.3622657435923906,
          "series": "H",
          "time": 822
         },
         {
          "S": 39.376034911176916,
          "series": "S",
          "time": 823
         },
         {
          "E": 4.628901072570193,
          "series": "E",
          "time": 823
         },
         {
          "I": 5.071007152953942,
          "series": "I",
          "time": 823
         },
         {
          "R": 3.0645992201387715,
          "series": "R",
          "time": 823
         },
         {
          "D": 446.5044829585332,
          "series": "D",
          "time": 823
         },
         {
          "H": 2.3549746846267476,
          "series": "H",
          "time": 823
         },
         {
          "S": 39.25450201711132,
          "series": "S",
          "time": 824
         },
         {
          "E": 4.614614114907709,
          "series": "E",
          "time": 824
         },
         {
          "I": 5.05535564877086,
          "series": "I",
          "time": 824
         },
         {
          "R": 3.0551404309738754,
          "series": "R",
          "time": 824
         },
         {
          "D": 446.6726816589506,
          "series": "D",
          "time": 824
         },
         {
          "H": 2.3477061292854255,
          "series": "H",
          "time": 824
         },
         {
          "S": 39.13334423050317,
          "series": "S",
          "time": 825
         },
         {
          "E": 4.600371253490974,
          "series": "E",
          "time": 825
         },
         {
          "I": 5.039752452463473,
          "series": "I",
          "time": 825
         },
         {
          "R": 3.045710836064423,
          "series": "R",
          "time": 825
         },
         {
          "D": 446.84036121936606,
          "series": "D",
          "time": 825
         },
         {
          "H": 2.340460008111695,
          "series": "H",
          "time": 825
         },
         {
          "S": 39.012560393595095,
          "series": "S",
          "time": 826
         },
         {
          "E": 4.5861723522183135,
          "series": "E",
          "time": 826
         },
         {
          "I": 5.024197414931041,
          "series": "I",
          "time": 826
         },
         {
          "R": 3.0363103453032636,
          "series": "R",
          "time": 826
         },
         {
          "D": 447.0075232420889,
          "series": "D",
          "time": 826
         },
         {
          "H": 2.3332362518632035,
          "series": "H",
          "time": 826
         },
         {
          "S": 38.8921493522031,
          "series": "S",
          "time": 827
         },
         {
          "E": 4.572017275408124,
          "series": "E",
          "time": 827
         },
         {
          "I": 5.008690387533018,
          "series": "I",
          "time": 827
         },
         {
          "R": 3.0269388688613565,
          "series": "R",
          "time": 827
         },
         {
          "D": 447.1741693244829,
          "series": "D",
          "time": 827
         },
         {
          "H": 2.3260347915113124,
          "series": "H",
          "time": 827
         },
         {
          "S": 38.77210995570554,
          "series": "S",
          "time": 828
         },
         {
          "E": 4.5579058877975775,
          "series": "E",
          "time": 828
         },
         {
          "I": 4.993231222087634,
          "series": "I",
          "time": 828
         },
         {
          "R": 3.0175963171869182,
          "series": "R",
          "time": 828
         },
         {
          "D": 447.3403010589817,
          "series": "D",
          "time": 828
         },
         {
          "H": 2.318855558240437,
          "series": "H",
          "time": 828
         },
         {
          "S": 38.65244105703213,
          "series": "S",
          "time": 829
         },
         {
          "E": 4.543838054541336,
          "series": "E",
          "time": 829
         },
         {
          "I": 4.977819770870476,
          "series": "I",
          "time": 829
         },
         {
          "R": 3.0082826010045634,
          "series": "R",
          "time": 829
         },
         {
          "D": 447.5059200331039,
          "series": "D",
          "time": 829
         },
         {
          "H": 2.3116984834473904,
          "series": "H",
          "time": 829
         },
         {
          "S": 38.533141512652975,
          "series": "S",
          "time": 830
         },
         {
          "E": 4.529813641210251,
          "series": "E",
          "time": 830
         },
         {
          "I": 4.962455886613079,
          "series": "I",
          "time": 830
         },
         {
          "R": 2.998997631314451,
          "series": "R",
          "time": 830
         },
         {
          "D": 447.6710278294683,
          "series": "D",
          "time": 830
         },
         {
          "H": 2.3045634987407277,
          "series": "H",
          "time": 830
         },
         {
          "S": 38.414210182567665,
          "series": "S",
          "time": 831
         },
         {
          "E": 4.51583251379009,
          "series": "E",
          "time": 831
         },
         {
          "I": 4.947139422501517,
          "series": "I",
          "time": 831
         },
         {
          "R": 2.9897413193914373,
          "series": "R",
          "time": 831
         },
         {
          "D": 447.835626025809,
          "series": "D",
          "time": 831
         },
         {
          "H": 2.2974505359400914,
          "series": "H",
          "time": 831
         },
         {
          "S": 38.295645930294356,
          "series": "S",
          "time": 832
         },
         {
          "E": 4.50189453868025,
          "series": "E",
          "time": 832
         },
         {
          "I": 4.931870232175,
          "series": "I",
          "time": 832
         },
         {
          "R": 2.9805135767842246,
          "series": "R",
          "time": 832
         },
         {
          "D": 447.9997161949904,
          "series": "D",
          "time": 832
         },
         {
          "H": 2.290359527075561,
          "series": "H",
          "time": 832
         },
         {
          "S": 38.177447622858914,
          "series": "S",
          "time": 833
         },
         {
          "E": 4.4879995826924794,
          "series": "E",
          "time": 833
         },
         {
          "I": 4.916648169724477,
          "series": "I",
          "time": 833
         },
         {
          "R": 2.971314315314518,
          "series": "R",
          "time": 833
         },
         {
          "D": 448.1632999050224,
          "series": "D",
          "time": 833
         },
         {
          "H": 2.283290404387002,
          "series": "H",
          "time": 833
         },
         {
          "S": 38.059614130784105,
          "series": "S",
          "time": 834
         },
         {
          "E": 4.474147513049612,
          "series": "E",
          "time": 834
         },
         {
          "I": 4.901473089691239,
          "series": "I",
          "time": 834
         },
         {
          "R": 2.9621434470761816,
          "series": "R",
          "time": 834
         },
         {
          "D": 448.32637871907525,
          "series": "D",
          "time": 834
         },
         {
          "H": 2.2762431003234216,
          "series": "H",
          "time": 834
         },
         {
          "S": 37.94214432807878,
          "series": "S",
          "time": 835
         },
         {
          "E": 4.460338197384292,
          "series": "E",
          "time": 835
         },
         {
          "I": 4.886344847065533,
          "series": "I",
          "time": 835
         },
         {
          "R": 2.953000884434399,
          "series": "R",
          "time": 835
         },
         {
          "D": 448.4889541954945,
          "series": "D",
          "time": 835
         },
         {
          "H": 2.2692175475423184,
          "series": "H",
          "time": 835
         },
         {
          "S": 37.825037092227134,
          "series": "S",
          "time": 836
         },
         {
          "E": 4.446571503737712,
          "series": "E",
          "time": 836
         },
         {
          "I": 4.8712632972851715,
          "series": "I",
          "time": 836
         },
         {
          "R": 2.9438865400248364,
          "series": "R",
          "time": 836
         },
         {
          "D": 448.6510278878159,
          "series": "D",
          "time": 836
         },
         {
          "H": 2.2622136789090437,
          "series": "H",
          "time": 836
         },
         {
          "S": 37.70829130417797,
          "series": "S",
          "time": 837
         },
         {
          "E": 4.432847300558349,
          "series": "E",
          "time": 837
         },
         {
          "I": 4.856228296234157,
          "series": "I",
          "time": 837
         },
         {
          "R": 2.934800326752807,
          "series": "R",
          "time": 837
         },
         {
          "D": 448.8126013447804,
          "series": "D",
          "time": 837
         },
         {
          "H": 2.255231427496156,
          "series": "H",
          "time": 837
         },
         {
          "S": 37.59190584833401,
          "series": "S",
          "time": 838
         },
         {
          "E": 4.419165456700713,
          "series": "E",
          "time": 838
         },
         {
          "I": 4.841239700241298,
          "series": "I",
          "time": 838
         },
         {
          "R": 2.925742157792439,
          "series": "R",
          "time": 838
         },
         {
          "D": 448.97367611034855,
          "series": "D",
          "time": 838
         },
         {
          "H": 2.2482707265827844,
          "series": "H",
          "time": 838
         },
         {
          "S": 37.47587961254122,
          "series": "S",
          "time": 839
         },
         {
          "E": 4.4055258414240885,
          "series": "E",
          "time": 839
         },
         {
          "I": 4.826297366078841,
          "series": "I",
          "time": 839
         },
         {
          "R": 2.9167119465858464,
          "series": "R",
          "time": 839
         },
         {
          "D": 449.1342537237158,
          "series": "D",
          "time": 839
         },
         {
          "H": 2.2413315096539894,
          "series": "H",
          "time": 839
         },
         {
          "S": 37.360211488078214,
          "series": "S",
          "time": 840
         },
         {
          "E": 4.391928324391289,
          "series": "E",
          "time": 840
         },
         {
          "I": 4.811401150961101,
          "series": "I",
          "time": 840
         },
         {
          "R": 2.9077096068423005,
          "series": "R",
          "time": 840
         },
         {
          "D": 449.29433571932674,
          "series": "D",
          "time": 840
         },
         {
          "H": 2.234413710400128,
          "series": "H",
          "time": 840
         },
         {
          "S": 37.24490036964562,
          "series": "S",
          "time": 841
         },
         {
          "E": 4.3783727756674065,
          "series": "E",
          "time": 841
         },
         {
          "I": 4.796550912543097,
          "series": "I",
          "time": 841
         },
         {
          "R": 2.8987350525374067,
          "series": "R",
          "time": 841
         },
         {
          "D": 449.45392362689,
          "series": "D",
          "time": 841
         },
         {
          "H": 2.2275172627162196,
          "series": "H",
          "time": 841
         },
         {
          "S": 37.12994515535555,
          "series": "S",
          "time": 842
         },
         {
          "E": 4.364859065718575,
          "series": "E",
          "time": 842
         },
         {
          "I": 4.7817465089191895,
          "series": "I",
          "time": 842
         },
         {
          "R": 2.889788197912282,
          "series": "R",
          "time": 842
         },
         {
          "D": 449.6130189713928,
          "series": "D",
          "time": 842
         },
         {
          "H": 2.220642100701315,
          "series": "H",
          "time": 842
         },
         {
          "S": 37.015344746721055,
          "series": "S",
          "time": 843
         },
         {
          "E": 4.35138706541073,
          "series": "E",
          "time": 843
         },
         {
          "I": 4.766987798621727,
          "series": "I",
          "time": 843
         },
         {
          "R": 2.8808689574727357,
          "series": "R",
          "time": 843
         },
         {
          "D": 449.7716232731156,
          "series": "D",
          "time": 843
         },
         {
          "H": 2.2137881586578656,
          "series": "H",
          "time": 843
         },
         {
          "S": 36.901098048645636,
          "series": "S",
          "time": 844
         },
         {
          "E": 4.337956646008377,
          "series": "E",
          "time": 844
         },
         {
          "I": 4.752274640619695,
          "series": "I",
          "time": 844
         },
         {
          "R": 2.8719772459884516,
          "series": "R",
          "time": 844
         },
         {
          "D": 449.9297380476465,
          "series": "D",
          "time": 844
         },
         {
          "H": 2.2069553710910967,
          "series": "H",
          "time": 844
         },
         {
          "S": 36.787203969412765,
          "series": "S",
          "time": 845
         },
         {
          "E": 4.324567679173358,
          "series": "E",
          "time": 845
         },
         {
          "I": 4.737606894317364,
          "series": "I",
          "time": 845
         },
         {
          "R": 2.863112978492175,
          "series": "R",
          "time": 845
         },
         {
          "D": 450.0873648058957,
          "series": "D",
          "time": 845
         },
         {
          "H": 2.200143672708381,
          "series": "H",
          "time": 845
         },
         {
          "S": 36.673661420675465,
          "series": "S",
          "time": 846
         },
         {
          "E": 4.311220036963624,
          "series": "E",
          "time": 846
         },
         {
          "I": 4.722984419552951,
          "series": "I",
          "time": 846
         },
         {
          "R": 2.8542760702788996,
          "series": "R",
          "time": 846
         },
         {
          "D": 450.24450505411016,
          "series": "D",
          "time": 846
         },
         {
          "H": 2.193352998418615,
          "series": "H",
          "time": 846
         },
         {
          "S": 36.56046931744592,
          "series": "S",
          "time": 847
         },
         {
          "E": 4.297913591832021,
          "series": "E",
          "time": 847
         },
         {
          "I": 4.708407076597277,
          "series": "I",
          "time": 847
         },
         {
          "R": 2.845466436905058,
          "series": "R",
          "time": 847
         },
         {
          "D": 450.40116029388787,
          "series": "D",
          "time": 847
         },
         {
          "H": 2.1865832833315957,
          "series": "H",
          "time": 847
         },
         {
          "S": 36.44762657808508,
          "series": "S",
          "time": 848
         },
         {
          "E": 4.2846482166250635,
          "series": "E",
          "time": 848
         },
         {
          "I": 4.693874726152433,
          "series": "I",
          "time": 848
         },
         {
          "R": 2.8366839941877156,
          "series": "R",
          "time": 848
         },
         {
          "D": 450.55733202219204,
          "series": "D",
          "time": 848
         },
         {
          "H": 2.1798344627574036,
          "series": "H",
          "time": 848
         },
         {
          "S": 36.33513212429234,
          "series": "S",
          "time": 849
         },
         {
          "E": 4.271423784581717,
          "series": "E",
          "time": 849
         },
         {
          "I": 4.679387229350449,
          "series": "I",
          "time": 849
         },
         {
          "R": 2.8279286582037657,
          "series": "R",
          "time": 849
         },
         {
          "D": 450.7130217313657,
          "series": "D",
          "time": 849
         },
         {
          "H": 2.1731064722057813,
          "series": "H",
          "time": 849
         },
         {
          "S": 36.22298488109526,
          "series": "S",
          "time": 850
         },
         {
          "E": 4.258240169332195,
          "series": "E",
          "time": 850
         },
         {
          "I": 4.6649444477519655,
          "series": "I",
          "time": 850
         },
         {
          "R": 2.8192003452891283,
          "series": "R",
          "time": 850
         },
         {
          "D": 450.86823090914567,
          "series": "D",
          "time": 850
         },
         {
          "H": 2.166399247385519,
          "series": "H",
          "time": 850
         },
         {
          "S": 36.111183776839226,
          "series": "S",
          "time": 851
         },
         {
          "E": 4.245097244896746,
          "series": "E",
          "time": 851
         },
         {
          "I": 4.6505462433449125,
          "series": "I",
          "time": 851
         },
         {
          "R": 2.8104989720379487,
          "series": "R",
          "time": 851
         },
         {
          "D": 451.02296103867707,
          "series": "D",
          "time": 851
         },
         {
          "H": 2.159712724203839,
          "series": "H",
          "time": 851
         },
         {
          "S": 35.999727743177296,
          "series": "S",
          "time": 852
         },
         {
          "E": 4.231994885684452,
          "series": "E",
          "time": 852
         },
         {
          "I": 4.636192478543189,
          "series": "I",
          "time": 852
         },
         {
          "R": 2.8018244553018032,
          "series": "R",
          "time": 852
         },
         {
          "D": 451.1772135985272,
          "series": "D",
          "time": 852
         },
         {
          "H": 2.153046838765785,
          "series": "H",
          "time": 852
         },
         {
          "S": 35.88861571505992,
          "series": "S",
          "time": 853
         },
         {
          "E": 4.2189329664920265,
          "series": "E",
          "time": 853
         },
         {
          "I": 4.621883016185353,
          "series": "I",
          "time": 853
         },
         {
          "R": 2.7931767121889015,
          "series": "R",
          "time": 853
         },
         {
          "D": 451.3309900626999,
          "series": "D",
          "time": 853
         },
         {
          "H": 2.14640152737361,
          "series": "H",
          "time": 853
         },
         {
          "S": 35.777846630724795,
          "series": "S",
          "time": 854
         },
         {
          "E": 4.205911362502619,
          "series": "E",
          "time": 854
         },
         {
          "I": 4.607617719533301,
          "series": "I",
          "time": 854
         },
         {
          "R": 2.784555660063298,
          "series": "R",
          "time": 854
         },
         {
          "D": 451.48429190064957,
          "series": "D",
          "time": 854
         },
         {
          "H": 2.1397767265261685,
          "series": "H",
          "time": 854
         },
         {
          "S": 35.667419431686724,
          "series": "S",
          "time": 855
         },
         {
          "E": 4.192929949284625,
          "series": "E",
          "time": 855
         },
         {
          "I": 4.593396452270971,
          "series": "I",
          "time": 855
         },
         {
          "R": 2.7759612165440983,
          "series": "R",
          "time": 855
         },
         {
          "D": 451.63712057729504,
          "series": "D",
          "time": 855
         },
         {
          "H": 2.133172372918308,
          "series": "H",
          "time": 855
         },
         {
          "S": 35.55733306272748,
          "series": "S",
          "time": 856
         },
         {
          "E": 4.179988602790488,
          "series": "E",
          "time": 856
         },
         {
          "I": 4.579219078503036,
          "series": "I",
          "time": 856
         },
         {
          "R": 2.7673932995046755,
          "series": "R",
          "time": 856
         },
         {
          "D": 451.7894775530338,
          "series": "D",
          "time": 856
         },
         {
          "H": 2.126588403440267,
          "series": "H",
          "time": 856
         },
         {
          "S": 35.447586471885735,
          "series": "S",
          "time": 857
         },
         {
          "E": 4.167087199355525,
          "series": "E",
          "time": 857
         },
         {
          "I": 4.565085462753606,
          "series": "I",
          "time": 857
         },
         {
          "R": 2.758851827071884,
          "series": "R",
          "time": 857
         },
         {
          "D": 451.94136428375595,
          "series": "D",
          "time": 857
         },
         {
          "H": 2.120024755177069,
          "series": "H",
          "time": 857
         },
         {
          "S": 35.33817861044701,
          "series": "S",
          "time": 858
         },
         {
          "E": 4.154225615696742,
          "series": "E",
          "time": 858
         },
         {
          "I": 4.550995469964931,
          "series": "I",
          "time": 858
         },
         {
          "R": 2.750336717625276,
          "series": "R",
          "time": 858
         },
         {
          "D": 452.0927822208579,
          "series": "D",
          "time": 858
         },
         {
          "H": 2.113481365407923,
          "series": "H",
          "time": 858
         },
         {
          "S": 35.22910843293365,
          "series": "S",
          "time": 859
         },
         {
          "E": 4.14140372891165,
          "series": "E",
          "time": 859
         },
         {
          "I": 4.536948965496115,
          "series": "I",
          "time": 859
         },
         {
          "R": 2.7418478897963237,
          "series": "R",
          "time": 859
         },
         {
          "D": 452.2437328112564,
          "series": "D",
          "time": 859
         },
         {
          "H": 2.106958171605625,
          "series": "H",
          "time": 859
         },
         {
          "S": 35.12037489709484,
          "series": "S",
          "time": 860
         },
         {
          "E": 4.128621416477096,
          "series": "E",
          "time": 860
         },
         {
          "I": 4.522945815121823,
          "series": "I",
          "time": 860
         },
         {
          "R": 2.7333852624676402,
          "series": "R",
          "time": 860
         },
         {
          "D": 452.3942174974024,
          "series": "D",
          "time": 860
         },
         {
          "H": 2.100455111435957,
          "series": "H",
          "time": 860
         },
         {
          "S": 35.01197696389663,
          "series": "S",
          "time": 861
         },
         {
          "E": 4.115878556248091,
          "series": "E",
          "time": 861
         },
         {
          "I": 4.5089858850310085,
          "series": "I",
          "time": 861
         },
         {
          "R": 2.724948754772205,
          "series": "R",
          "time": 861
         },
         {
          "D": 452.5442377172947,
          "series": "D",
          "time": 861
         },
         {
          "H": 2.093972122757095,
          "series": "H",
          "time": 861
         },
         {
          "S": 34.903913597512016,
          "series": "S",
          "time": 862
         },
         {
          "E": 4.103175026456642,
          "series": "E",
          "time": 862
         },
         {
          "I": 4.495069041825623,
          "series": "I",
          "time": 862
         },
         {
          "R": 2.7165382860925913,
          "series": "R",
          "time": 862
         },
         {
          "D": 452.69379490449387,
          "series": "D",
          "time": 862
         },
         {
          "H": 2.087509143619014,
          "series": "H",
          "time": 862
         },
         {
          "S": 34.79618376531104,
          "series": "S",
          "time": 863
         },
         {
          "E": 4.090510705710591,
          "series": "E",
          "time": 863
         },
         {
          "I": 4.48119515251935,
          "series": "I",
          "time": 863
         },
         {
          "R": 2.7081537760601946,
          "series": "R",
          "time": 863
         },
         {
          "D": 452.8428904881357,
          "series": "D",
          "time": 863
         },
         {
          "H": 2.0810661122628944,
          "series": "H",
          "time": 863
         },
         {
          "S": 34.688786437850936,
          "series": "S",
          "time": 864
         },
         {
          "E": 4.077885472992451,
          "series": "E",
          "time": 864
         },
         {
          "I": 4.467364084536329,
          "series": "I",
          "time": 864
         },
         {
          "R": 2.699795144554467,
          "series": "R",
          "time": 864
         },
         {
          "D": 452.99152589294505,
          "series": "D",
          "time": 864
         },
         {
          "H": 2.074642967120535,
          "series": "H",
          "time": 864
         },
         {
          "S": 34.58172058886627,
          "series": "S",
          "time": 865
         },
         {
          "E": 4.065299207658252,
          "series": "E",
          "time": 865
         },
         {
          "I": 4.453575705709893,
          "series": "I",
          "time": 865
         },
         {
          "R": 2.6914623117021486,
          "series": "R",
          "time": 865
         },
         {
          "D": 453.1397025392494,
          "series": "D",
          "time": 865
         },
         {
          "H": 2.0682396468137623,
          "series": "H",
          "time": 865
         },
         {
          "S": 34.474985195259144,
          "series": "S",
          "time": 866
         },
         {
          "E": 4.052751789436391,
          "series": "E",
          "time": 866
         },
         {
          "I": 4.4398298842813,
          "series": "I",
          "time": 866
         },
         {
          "R": 2.6831551978765074,
          "series": "R",
          "time": 866
         },
         {
          "D": 453.28742184299256,
          "series": "D",
          "time": 866
         },
         {
          "H": 2.0618560901538436,
          "series": "H",
          "time": 866
         },
         {
          "S": 34.36857923708943,
          "series": "S",
          "time": 867
         },
         {
          "E": 4.0402430984264734,
          "series": "E",
          "time": 867
         },
         {
          "I": 4.426126488898482,
          "series": "I",
          "time": 867
         },
         {
          "R": 2.6748737236965754,
          "series": "R",
          "time": 867
         },
         {
          "D": 453.4346852157479,
          "series": "D",
          "time": 867
         },
         {
          "H": 2.0554922361409047,
          "series": "H",
          "time": 867
         },
         {
          "S": 34.26250169756499,
          "series": "S",
          "time": 868
         },
         {
          "E": 4.027773015098178,
          "series": "E",
          "time": 868
         },
         {
          "I": 4.41246538861478,
          "series": "I",
          "time": 868
         },
         {
          "R": 2.666617810026392,
          "series": "R",
          "time": 868
         },
         {
          "D": 453.58149406473206,
          "series": "D",
          "time": 868
         },
         {
          "H": 2.0491480239633444,
          "series": "H",
          "time": 868
         },
         {
          "S": 34.15675156303202,
          "series": "S",
          "time": 869
         },
         {
          "E": 4.015341420290109,
          "series": "E",
          "time": 869
         },
         {
          "I": 4.398846452887701,
          "series": "I",
          "time": 869
         },
         {
          "R": 2.6583873779742477,
          "series": "R",
          "time": 869
         },
         {
          "D": 453.7278497928184,
          "series": "D",
          "time": 869
         },
         {
          "H": 2.042823392997256,
          "series": "H",
          "time": 869
         },
         {
          "S": 34.051327822965284,
          "series": "S",
          "time": 870
         },
         {
          "E": 4.002948195208659,
          "series": "E",
          "time": 870
         },
         {
          "I": 4.385269551577666,
          "series": "I",
          "time": 870
         },
         {
          "R": 2.6501823488919287,
          "series": "R",
          "time": 870
         },
         {
          "D": 453.87375379855035,
          "series": "D",
          "time": 870
         },
         {
          "H": 2.036518282805845,
          "series": "H",
          "time": 870
         },
         {
          "S": 33.94622946995854,
          "series": "S",
          "time": 871
         },
         {
          "E": 3.9905932214268733,
          "series": "E",
          "time": 871
         },
         {
          "I": 4.3717345549467685,
          "series": "I",
          "time": 871
         },
         {
          "R": 2.642002644373968,
          "series": "R",
          "time": 871
         },
         {
          "D": 454.01920747615475,
          "series": "D",
          "time": 871
         },
         {
          "H": 2.0302326331388545,
          "series": "H",
          "time": 871
         },
         {
          "S": 33.84145549971484,
          "series": "S",
          "time": 872
         },
         {
          "E": 3.978276380883316,
          "series": "E",
          "time": 872
         },
         {
          "I": 4.358241333657534,
          "series": "I",
          "time": 872
         },
         {
          "R": 2.6338481862568934,
          "series": "R",
          "time": 872
         },
         {
          "D": 454.16421221555515,
          "series": "D",
          "time": 872
         },
         {
          "H": 2.0239663839319872,
          "series": "H",
          "time": 872
         },
         {
          "S": 33.73700491103699,
          "series": "S",
          "time": 873
         },
         {
          "E": 3.9659975558809486,
          "series": "E",
          "time": 873
         },
         {
          "I": 4.344789758771682,
          "series": "I",
          "time": 873
         },
         {
          "R": 2.6257188966184817,
          "series": "R",
          "time": 873
         },
         {
          "D": 454.3087694023853,
          "series": "D",
          "time": 873
         },
         {
          "H": 2.017719475306333,
          "series": "H",
          "time": 873
         },
         {
          "S": 33.63287670581795,
          "series": "S",
          "time": 874
         },
         {
          "E": 3.9537566290859965,
          "series": "E",
          "time": 874
         },
         {
          "I": 4.331379701748899,
          "series": "I",
          "time": 874
         },
         {
          "R": 2.617614697777015,
          "series": "R",
          "time": 874
         },
         {
          "D": 454.45288041800205,
          "series": "D",
          "time": 874
         },
         {
          "H": 2.011491847567796,
          "series": "H",
          "time": 874
         },
         {
          "S": 33.529069889031305,
          "series": "S",
          "time": 875
         },
         {
          "E": 3.941553483526833,
          "series": "E",
          "time": 875
         },
         {
          "I": 4.318011034445605,
          "series": "I",
          "time": 875
         },
         {
          "R": 2.6095355122905373,
          "series": "R",
          "time": 875
         },
         {
          "D": 454.5965466394989,
          "series": "D",
          "time": 875
         },
         {
          "H": 2.0052834412065237,
          "series": "H",
          "time": 875
         },
         {
          "S": 33.42558346872176,
          "series": "S",
          "time": 876
         },
         {
          "E": 3.9293880025928636,
          "series": "E",
          "time": 876
         },
         {
          "I": 4.304683629113731,
          "series": "I",
          "time": 876
         },
         {
          "R": 2.6014812629561144,
          "series": "R",
          "time": 876
         },
         {
          "D": 454.7397694397189,
          "series": "D",
          "time": 876
         },
         {
          "H": 1.9990941968963398,
          "series": "H",
          "time": 876
         },
         {
          "S": 33.322416455995665,
          "series": "S",
          "time": 877
         },
         {
          "E": 3.9172600700334037,
          "series": "E",
          "time": 877
         },
         {
          "I": 4.2913973583995,
          "series": "I",
          "time": 877
         },
         {
          "R": 2.5934518728090965,
          "series": "R",
          "time": 877
         },
         {
          "D": 454.88255018726784,
          "series": "D",
          "time": 877
         },
         {
          "H": 1.9929240554941758,
          "series": "H",
          "time": 877
         },
         {
          "S": 33.219567865011555,
          "series": "S",
          "time": 878
         },
         {
          "E": 3.9051695699565774,
          "series": "E",
          "time": 878
         },
         {
          "I": 4.278152095342208,
          "series": "I",
          "time": 878
         },
         {
          "R": 2.585447265122384,
          "series": "R",
          "time": 878
         },
         {
          "D": 455.02489024652743,
          "series": "D",
          "time": 878
         },
         {
          "H": 1.9867729580395064,
          "series": "H",
          "time": 878
         },
         {
          "S": 33.11703671297072,
          "series": "S",
          "time": 879
         },
         {
          "E": 3.893116386828204,
          "series": "E",
          "time": 879
         },
         {
          "I": 4.264947713373011,
          "series": "I",
          "time": 879
         },
         {
          "R": 2.5774673634056913,
          "series": "R",
          "time": 879
         },
         {
          "D": 455.16679097766826,
          "series": "D",
          "time": 879
         },
         {
          "H": 1.9806408457537865,
          "series": "H",
          "time": 879
         },
         {
          "S": 33.01482202010786,
          "series": "S",
          "time": 880
         },
         {
          "E": 3.8811004054706943,
          "series": "E",
          "time": 880
         },
         {
          "I": 4.251784086313714,
          "series": "I",
          "time": 880
         },
         {
          "R": 2.569512091404819,
          "series": "R",
          "time": 880
         },
         {
          "D": 455.3082537366627,
          "series": "D",
          "time": 880
         },
         {
          "H": 1.9745276600398887,
          "series": "H",
          "time": 880
         },
         {
          "S": 32.912922809681646,
          "series": "S",
          "time": 881
         },
         {
          "E": 3.8691215110619526,
          "series": "E",
          "time": 881
         },
         {
          "I": 4.2386610883755695,
          "series": "I",
          "time": 881
         },
         {
          "R": 2.561581373100923,
          "series": "R",
          "time": 881
         },
         {
          "D": 455.44927987529803,
          "series": "D",
          "time": 881
         },
         {
          "H": 1.9684333424815441,
          "series": "H",
          "time": 881
         },
         {
          "S": 32.81133810796547,
          "series": "S",
          "time": 882
         },
         {
          "E": 3.857179589134276,
          "series": "E",
          "time": 882
         },
         {
          "I": 4.225578594158073,
          "series": "I",
          "time": 882
         },
         {
          "R": 2.5536751327097895,
          "series": "R",
          "time": 882
         },
         {
          "D": 455.58987074118926,
          "series": "D",
          "time": 882
         },
         {
          "H": 1.9623578348427837,
          "series": "H",
          "time": 882
         },
         {
          "S": 32.71006694423807,
          "series": "S",
          "time": 883
         },
         {
          "E": 3.8452745255732648,
          "series": "E",
          "time": 883
         },
         {
          "I": 4.212536478647762,
          "series": "I",
          "time": 883
         },
         {
          "R": 2.54579329468111,
          "series": "R",
          "time": 883
         },
         {
          "D": 455.73002767779207,
          "series": "D",
          "time": 883
         },
         {
          "H": 1.9563010790673818,
          "series": "H",
          "time": 883
         },
         {
          "S": 32.609108350774314,
          "series": "S",
          "time": 884
         },
         {
          "E": 3.833406206616728,
          "series": "E",
          "time": 884
         },
         {
          "I": 4.199534617217028,
          "series": "I",
          "time": 884
         },
         {
          "R": 2.53793578369776,
          "series": "R",
          "time": 884
         },
         {
          "D": 455.8697520244155,
          "series": "D",
          "time": 884
         },
         {
          "H": 1.9502630172783013,
          "series": "H",
          "time": 884
         },
         {
          "S": 32.5084613628359,
          "series": "S",
          "time": 885
         },
         {
          "E": 3.8215745188535997,
          "series": "E",
          "time": 885
         },
         {
          "I": 4.186572885622918,
          "series": "I",
          "time": 885
         },
         {
          "R": 2.5301025246750792,
          "series": "R",
          "time": 885
         },
         {
          "D": 456.009045116235,
          "series": "D",
          "time": 885
         },
         {
          "H": 1.9442435917771415,
          "series": "H",
          "time": 885
         },
         {
          "S": 32.408125018662176,
          "series": "S",
          "time": 886
         },
         {
          "E": 3.8097793492228527,
          "series": "E",
          "time": 886
         },
         {
          "I": 4.173651160005954,
          "series": "I",
          "time": 886
         },
         {
          "R": 2.522293442760153,
          "series": "R",
          "time": 886
         },
         {
          "D": 456.1479082843049,
          "series": "D",
          "time": 886
         },
         {
          "H": 1.9382427450435853,
          "series": "H",
          "time": 886
         },
         {
          "S": 32.308098359460914,
          "series": "S",
          "time": 887
         },
         {
          "E": 3.798020585012419,
          "series": "E",
          "time": 887
         },
         {
          "I": 4.160769316888944,
          "series": "I",
          "time": 887
         },
         {
          "R": 2.5145084633310977,
          "series": "R",
          "time": 887
         },
         {
          "D": 456.2863428555714,
          "series": "D",
          "time": 887
         },
         {
          "H": 1.9322604197348505,
          "series": "H",
          "time": 887
         },
         {
          "S": 32.20838042939919,
          "series": "S",
          "time": 888
         },
         {
          "E": 3.786298113858113,
          "series": "E",
          "time": 888
         },
         {
          "I": 4.147927233175806,
          "series": "I",
          "time": 888
         },
         {
          "R": 2.5067475119963487,
          "series": "R",
          "time": 888
         },
         {
          "D": 456.424350152885,
          "series": "D",
          "time": 888
         },
         {
          "H": 1.9262965586851415,
          "series": "H",
          "time": 888
         },
         {
          "S": 32.10897027559422,
          "series": "S",
          "time": 889
         },
         {
          "E": 3.7746118237425588,
          "series": "E",
          "time": 889
         },
         {
          "I": 4.1351247861503895,
          "series": "I",
          "time": 889
         },
         {
          "R": 2.499010514593948,
          "series": "R",
          "time": 889
         },
         {
          "D": 456.56193149501337,
          "series": "D",
          "time": 889
         },
         {
          "H": 1.9203511049051034,
          "series": "H",
          "time": 889
         },
         {
          "S": 32.009866948104246,
          "series": "S",
          "time": 890
         },
         {
          "E": 3.7629616029941166,
          "series": "E",
          "time": 890
         },
         {
          "I": 4.122361853475304,
          "series": "I",
          "time": 890
         },
         {
          "R": 2.4912973971908365,
          "series": "R",
          "time": 890
         },
         {
          "D": 456.6990881966538,
          "series": "D",
          "time": 890
         },
         {
          "H": 1.9144240015812768,
          "series": "H",
          "time": 890
         },
         {
          "S": 31.91106949991951,
          "series": "S",
          "time": 891
         },
         {
          "E": 3.7513473402858177,
          "series": "E",
          "time": 891
         },
         {
          "I": 4.109638313190749,
          "series": "I",
          "time": 891
         },
         {
          "R": 2.483608086082148,
          "series": "R",
          "time": 891
         },
         {
          "D": 456.8358215684458,
          "series": "D",
          "time": 891
         },
         {
          "H": 1.9085151920755554,
          "series": "H",
          "time": 891
         },
         {
          "S": 31.812576986953143,
          "series": "S",
          "time": 892
         },
         {
          "E": 3.7397689246343035,
          "series": "E",
          "time": 892
         },
         {
          "I": 4.09695404371335,
          "series": "I",
          "time": 892
         },
         {
          "R": 2.4759425077905015,
          "series": "R",
          "time": 892
         },
         {
          "D": 456.97213291698364,
          "series": "D",
          "time": 892
         },
         {
          "H": 1.9026246199246446,
          "series": "H",
          "time": 892
         },
         {
          "S": 31.71438846803218,
          "series": "S",
          "time": 893
         },
         {
          "E": 3.728226245398759,
          "series": "E",
          "time": 893
         },
         {
          "I": 4.084308923834993,
          "series": "I",
          "time": 893
         },
         {
          "R": 2.4683005890653034,
          "series": "R",
          "time": 893
         },
         {
          "D": 457.1080235448288,
          "series": "D",
          "time": 893
         },
         {
          "H": 1.8967522288395222,
          "series": "H",
          "time": 893
         },
         {
          "S": 31.616503004888553,
          "series": "S",
          "time": 894
         },
         {
          "E": 3.716719192279859,
          "series": "E",
          "time": 894
         },
         {
          "I": 4.071702832721674,
          "series": "I",
          "time": 894
         },
         {
          "R": 2.4606822568820457,
          "series": "R",
          "time": 894
         },
         {
          "D": 457.24349475052253,
          "series": "D",
          "time": 894
         },
         {
          "H": 1.8908979627049,
          "series": "H",
          "time": 894
         },
         {
          "S": 31.518919662150136,
          "series": "S",
          "time": 895
         },
         {
          "E": 3.705247655318715,
          "series": "E",
          "time": 895
         },
         {
          "I": 4.059135649912335,
          "series": "I",
          "time": 895
         },
         {
          "R": 2.453087438441609,
          "series": "R",
          "time": 895
         },
         {
          "D": 457.3785478285981,
          "series": "D",
          "time": 895
         },
         {
          "H": 1.8850617655786879,
          "series": "H",
          "time": 895
         },
         {
          "S": 31.42163750733179,
          "series": "S",
          "time": 896
         },
         {
          "E": 3.693811524895822,
          "series": "E",
          "time": 896
         },
         {
          "I": 4.046607255317719,
          "series": "I",
          "time": 896
         },
         {
          "R": 2.445516061169564,
          "series": "R",
          "time": 896
         },
         {
          "D": 457.5131840695932,
          "series": "D",
          "time": 896
         },
         {
          "H": 1.8792435816914597,
          "series": "H",
          "time": 896
         },
         {
          "S": 31.32465561082647,
          "series": "S",
          "time": 897
         },
         {
          "E": 3.682410691730014,
          "series": "E",
          "time": 897
         },
         {
          "I": 4.03411752921922,
          "series": "I",
          "time": 897
         },
         {
          "R": 2.437968052715482,
          "series": "R",
          "time": 897
         },
         {
          "D": 457.64740476006244,
          "series": "D",
          "time": 897
         },
         {
          "H": 1.8734433554459191,
          "series": "H",
          "time": 897
         },
         {
          "S": 31.227973045896327,
          "series": "S",
          "time": 898
         },
         {
          "E": 3.6710450468774143,
          "series": "E",
          "time": 898
         },
         {
          "I": 4.021666352267741,
          "series": "I",
          "time": 898
         },
         {
          "R": 2.4304433409522406,
          "series": "R",
          "time": 898
         },
         {
          "D": 457.78121118258946,
          "series": "D",
          "time": 898
         },
         {
          "H": 1.8676610314163697,
          "series": "H",
          "time": 898
         },
         {
          "S": 31.131588888663867,
          "series": "S",
          "time": 899
         },
         {
          "E": 3.6597144817304024,
          "series": "E",
          "time": 899
         },
         {
          "I": 4.00925360548255,
          "series": "I",
          "time": 899
         },
         {
          "R": 2.422941853975336,
          "series": "R",
          "time": 899
         },
         {
          "D": 457.9146046157992,
          "series": "D",
          "time": 899
         },
         {
          "H": 1.8618965543481845,
          "series": "H",
          "time": 899
         },
         {
          "S": 31.035502218103105,
          "series": "S",
          "time": 900
         },
         {
          "E": 3.648418888016568,
          "series": "E",
          "time": 900
         },
         {
          "I": 3.996879170250148,
          "series": "I",
          "time": 900
         },
         {
          "R": 2.415463520102195,
          "series": "R",
          "time": 900
         },
         {
          "D": 458.04758633437024,
          "series": "D",
          "time": 900
         },
         {
          "H": 1.8561498691572784,
          "series": "H",
          "time": 900
         },
         {
          "S": 30.939712116030783,
          "series": "S",
          "time": 901
         },
         {
          "E": 3.637158157797683,
          "series": "E",
          "time": 901
         },
         {
          "I": 3.9845429283231315,
          "series": "I",
          "time": 901
         },
         {
          "R": 2.4080082678714905,
          "series": "R",
          "time": 901
         },
         {
          "D": 458.1801576090469,
          "series": "D",
          "time": 901
         },
         {
          "H": 1.8504209209295812,
          "series": "H",
          "time": 901
         },
         {
          "S": 30.844217667097585,
          "series": "S",
          "time": 902
         },
         {
          "E": 3.625932183468665,
          "series": "E",
          "time": 902
         },
         {
          "I": 3.9722447618190637,
          "series": "I",
          "time": 902
         },
         {
          "R": 2.4005760260424585,
          "series": "R",
          "time": 902
         },
         {
          "D": 458.3123197066513,
          "series": "D",
          "time": 902
         },
         {
          "H": 1.8447096549205135,
          "series": "H",
          "time": 902
         },
         {
          "S": 30.74901795877939,
          "series": "S",
          "time": 903
         },
         {
          "E": 3.614740857756553,
          "series": "E",
          "time": 903
         },
         {
          "I": 3.959984553219348,
          "series": "I",
          "time": 903
         },
         {
          "R": 2.393166723594218,
          "series": "R",
          "time": 903
         },
         {
          "D": 458.4440738900956,
          "series": "D",
          "time": 903
         },
         {
          "H": 1.8390160165544636,
          "series": "H",
          "time": 903
         },
         {
          "S": 30.654112081368552,
          "series": "S",
          "time": 904
         },
         {
          "E": 3.6035840737194804,
          "series": "E",
          "time": 904
         },
         {
          "I": 3.9477621853681066,
          "series": "I",
          "time": 904
         },
         {
          "R": 2.3857802897250906,
          "series": "R",
          "time": 904
         },
         {
          "D": 458.57542141839406,
          "series": "D",
          "time": 904
         },
         {
          "H": 1.833339951424265,
          "series": "H",
          "time": 904
         },
         {
          "S": 30.559499127965214,
          "series": "S",
          "time": 905
         },
         {
          "E": 3.5924617247456516,
          "series": "E",
          "time": 905
         },
         {
          "I": 3.935577541471058,
          "series": "I",
          "time": 905
         },
         {
          "R": 2.3784166538519265,
          "series": "R",
          "time": 905
         },
         {
          "D": 458.70636354667505,
          "series": "D",
          "time": 905
         },
         {
          "H": 1.8276814052906776,
          "series": "H",
          "time": 905
         },
         {
          "S": 30.46517819446863,
          "series": "S",
          "time": 906
         },
         {
          "E": 3.5813737045523277,
          "series": "E",
          "time": 906
         },
         {
          "I": 3.9234305050944034,
          "series": "I",
          "time": 906
         },
         {
          "R": 2.3710757456094274,
          "series": "R",
          "time": 906
         },
         {
          "D": 458.83690152619295,
          "series": "D",
          "time": 906
         },
         {
          "H": 1.8220403240818692,
          "series": "H",
          "time": 906
         },
         {
          "S": 30.37114837956854,
          "series": "S",
          "time": 907
         },
         {
          "E": 3.570319907184806,
          "series": "E",
          "time": 907
         },
         {
          "I": 3.911320960163714,
          "series": "I",
          "time": 907
         },
         {
          "R": 2.3637574948494753,
          "series": "R",
          "time": 907
         },
         {
          "D": 458.9670366043402,
          "series": "D",
          "time": 907
         },
         {
          "H": 1.8164166538928985,
          "series": "H",
          "time": 907
         },
         {
          "S": 30.277408784736547,
          "series": "S",
          "time": 908
         },
         {
          "E": 3.55930022701541,
          "series": "E",
          "time": 908
         },
         {
          "I": 3.8992487909628193,
          "series": "I",
          "time": 908
         },
         {
          "R": 2.356461831640463,
          "series": "R",
          "time": 908
         },
         {
          "D": 459.0967700246592,
          "series": "D",
          "time": 908
         },
         {
          "H": 1.8108103409851999,
          "series": "H",
          "time": 908
         },
         {
          "S": 30.18395851421753,
          "series": "S",
          "time": 909
         },
         {
          "E": 3.5483145587424807,
          "series": "E",
          "time": 909
         },
         {
          "I": 3.8872138821327047,
          "series": "I",
          "time": 909
         },
         {
          "R": 2.3491886862666242,
          "series": "R",
          "time": 909
         },
         {
          "D": 459.2261030268542,
          "series": "D",
          "time": 909
         },
         {
          "H": 1.8052213317860704,
          "series": "H",
          "time": 909
         },
         {
          "S": 30.090796675021092,
          "series": "S",
          "time": 910
         },
         {
          "E": 3.5373627973893695,
          "series": "E",
          "time": 910
         },
         {
          "I": 3.8752161186704064,
          "series": "I",
          "time": 910
         },
         {
          "R": 2.3419379892273686,
          "series": "R",
          "time": 910
         },
         {
          "D": 459.3550368468032,
          "series": "D",
          "time": 910
         },
         {
          "H": 1.7996495728881572,
          "series": "H",
          "time": 910
         },
         {
          "S": 29.997922376913024,
          "series": "S",
          "time": 911
         },
         {
          "E": 3.5264448383034326,
          "series": "E",
          "time": 911
         },
         {
          "I": 3.863255385927915,
          "series": "I",
          "time": 911
         },
         {
          "R": 2.334709671236617,
          "series": "R",
          "time": 911
         },
         {
          "D": 459.48357271656965,
          "series": "D",
          "time": 911
         },
         {
          "H": 1.7940950110489484,
          "series": "H",
          "time": 911
         },
         {
          "S": 29.905334732406796,
          "series": "S",
          "time": 912
         },
         {
          "E": 3.5155605771550356,
          "series": "E",
          "time": 912
         },
         {
          "I": 3.8513315696110775,
          "series": "I",
          "time": 912
         },
         {
          "R": 2.3275036632221395,
          "series": "R",
          "time": 912
         },
         {
          "D": 459.6117118644143,
          "series": "D",
          "time": 912
         },
         {
          "H": 1.7885575931902624,
          "series": "H",
          "time": 912
         },
         {
          "S": 29.813032856755072,
          "series": "S",
          "time": 913
         },
         {
          "E": 3.5047099099365533,
          "series": "E",
          "time": 913
         },
         {
          "I": 3.839444555778506,
          "series": "I",
          "time": 913
         },
         {
          "R": 2.3203198963248957,
          "series": "R",
          "time": 913
         },
         {
          "D": 459.7394555148068,
          "series": "D",
          "time": 913
         },
         {
          "H": 1.7830372663977423,
          "series": "H",
          "time": 913
         },
         {
          "S": 29.72101586794127,
          "series": "S",
          "time": 914
         },
         {
          "E": 3.493892732961377,
          "series": "E",
          "time": 914
         },
         {
          "I": 3.82759423084049,
          "series": "I",
          "time": 914
         },
         {
          "R": 2.3131583018983766,
          "series": "R",
          "time": 914
         },
         {
          "D": 459.86680488843774,
          "series": "D",
          "time": 914
         },
         {
          "H": 1.7775339779203494,
          "series": "H",
          "time": 914
         },
         {
          "S": 29.629282886671113,
          "series": "S",
          "time": 915
         },
         {
          "E": 3.483108942862924,
          "series": "E",
          "time": 915
         },
         {
          "I": 3.81578048155791,
          "series": "I",
          "time": 915
         },
         {
          "R": 2.3060188115079474,
          "series": "R",
          "time": 915
         },
         {
          "D": 459.99376120222985,
          "series": "D",
          "time": 915
         },
         {
          "H": 1.7720476751698597,
          "series": "H",
          "time": 915
         },
         {
          "S": 29.53783303636425,
          "series": "S",
          "time": 916
         },
         {
          "E": 3.4723584365936477,
          "series": "E",
          "time": 916
         },
         {
          "I": 3.804003195041155,
          "series": "I",
          "time": 916
         },
         {
          "R": 2.298901356930197,
          "series": "R",
          "time": 916
         },
         {
          "D": 460.12032566935,
          "series": "D",
          "time": 916
         },
         {
          "H": 1.7665783057203612,
          "series": "H",
          "time": 916
         },
         {
          "S": 29.44666544314586,
          "series": "S",
          "time": 917
         },
         {
          "E": 3.461641111424057,
          "series": "E",
          "time": 917
         },
         {
          "I": 3.792262258749044,
          "series": "I",
          "time": 917
         },
         {
          "R": 2.2918058701522805,
          "series": "R",
          "time": 917
         },
         {
          "D": 460.2464994992206,
          "series": "D",
          "time": 917
         },
         {
          "H": 1.7611258173077526,
          "series": "H",
          "time": 917
         },
         {
          "S": 29.355779235838313,
          "series": "S",
          "time": 918
         },
         {
          "E": 3.450956864941729,
          "series": "E",
          "time": 918
         },
         {
          "I": 3.7805575604877513,
          "series": "I",
          "time": 918
         },
         {
          "R": 2.2847322833712758,
          "series": "R",
          "time": 918
         },
         {
          "D": 460.37228389753125,
          "series": "D",
          "time": 918
         },
         {
          "H": 1.755690157829244,
          "series": "H",
          "time": 918
         },
         {
          "S": 29.265173545952837,
          "series": "S",
          "time": 919
         },
         {
          "E": 3.440305595050336,
          "series": "E",
          "time": 919
         },
         {
          "I": 3.768888988409734,
          "series": "I",
          "time": 919
         },
         {
          "R": 2.2776805289935296,
          "series": "R",
          "time": 919
         },
         {
          "D": 460.49768006625027,
          "series": "D",
          "time": 919
         },
         {
          "H": 1.7502712753428595,
          "series": "H",
          "time": 919
         },
         {
          "S": 29.17484750768123,
          "series": "S",
          "time": 920
         },
         {
          "E": 3.429687199968667,
          "series": "E",
          "time": 920
         },
         {
          "I": 3.757256431012663,
          "series": "I",
          "time": 920
         },
         {
          "R": 2.270650539634016,
          "series": "R",
          "time": 920
         },
         {
          "D": 460.62268920363607,
          "series": "D",
          "time": 920
         },
         {
          "H": 1.74486911806694,
          "series": "H",
          "time": 920
         },
         {
          "S": 29.084800257887572,
          "series": "S",
          "time": 921
         },
         {
          "E": 3.4191015782296543,
          "series": "E",
          "time": 921
         },
         {
          "I": 3.7456597771383575,
          "series": "I",
          "time": 921
         },
         {
          "R": 2.26364224811569,
          "series": "R",
          "time": 921
         },
         {
          "D": 460.74731250424867,
          "series": "D",
          "time": 921
         },
         {
          "H": 1.7394836343796491,
          "series": "H",
          "time": 921
         },
         {
          "S": 28.99503093609999,
          "series": "S",
          "time": 922
         },
         {
          "E": 3.4085486286794064,
          "series": "E",
          "time": 922
         },
         {
          "I": 3.7340989159717233,
          "series": "I",
          "time": 922
         },
         {
          "R": 2.2566555874688476,
          "series": "R",
          "time": 922
         },
         {
          "D": 460.87155115896115,
          "series": "D",
          "time": 922
         },
         {
          "H": 1.73411477281848,
          "series": "H",
          "time": 922
         },
         {
          "S": 28.90553868450243,
          "series": "S",
          "time": 923
         },
         {
          "E": 3.39802825047624,
          "series": "E",
          "time": 923
         },
         {
          "I": 3.7225737370396925,
          "series": "I",
          "time": 923
         },
         {
          "R": 2.2496904909304836,
          "series": "R",
          "time": 923
         },
         {
          "D": 460.995406354971,
          "series": "D",
          "time": 923
         },
         {
          "H": 1.7287624820797625,
          "series": "H",
          "time": 923
         },
         {
          "S": 28.816322647926462,
          "series": "S",
          "time": 924
         },
         {
          "E": 3.387540343089715,
          "series": "E",
          "time": 924
         },
         {
          "I": 3.7110841302101703,
          "series": "I",
          "time": 924
         },
         {
          "R": 2.2427468919436544,
          "series": "R",
          "time": 924
         },
         {
          "D": 461.1188792758114,
          "series": "D",
          "time": 924
         },
         {
          "H": 1.723426711018174,
          "series": "H",
          "time": 924
         },
         {
          "S": 28.7273819738431,
          "series": "S",
          "time": 925
         },
         {
          "E": 3.3770848062996772,
          "series": "E",
          "time": 925
         },
         {
          "I": 3.6996299856909802,
          "series": "I",
          "time": 925
         },
         {
          "R": 2.235824724156843,
          "series": "R",
          "time": 925
         },
         {
          "D": 461.24197110136276,
          "series": "D",
          "time": 925
         },
         {
          "H": 1.7181074086462504,
          "series": "H",
          "time": 925
         },
         {
          "S": 28.63871581235467,
          "series": "S",
          "time": 926
         },
         {
          "E": 3.366661540195299,
          "series": "E",
          "time": 926
         },
         {
          "I": 3.688211194028816,
          "series": "I",
          "time": 926
         },
         {
          "R": 2.2289239214233247,
          "series": "R",
          "time": 926
         },
         {
          "D": 461.3646830078636,
          "series": "D",
          "time": 926
         },
         {
          "H": 1.712804524133899,
          "series": "H",
          "time": 926
         },
         {
          "S": 28.55032331618667,
          "series": "S",
          "time": 927
         },
         {
          "E": 3.356270445174122,
          "series": "E",
          "time": 927
         },
         {
          "I": 3.676827646108196,
          "series": "I",
          "time": 927
         },
         {
          "R": 2.2220444178005336,
          "series": "R",
          "time": 927
         },
         {
          "D": 461.4870161679222,
          "series": "D",
          "time": 927
         },
         {
          "H": 1.7075180068079117,
          "series": "H",
          "time": 927
         },
         {
          "S": 28.462203640679697,
          "series": "S",
          "time": 928
         },
         {
          "E": 3.3459114219411097,
          "series": "E",
          "time": 928
         },
         {
          "I": 3.6654792331504193,
          "series": "I",
          "time": 928
         },
         {
          "R": 2.2151861475494345,
          "series": "R",
          "time": 928
         },
         {
          "D": 461.6089717505275,
          "series": "D",
          "time": 928
         },
         {
          "H": 1.7022478061514825,
          "series": "H",
          "time": 928
         },
         {
          "S": 28.37435594378135,
          "series": "S",
          "time": 929
         },
         {
          "E": 3.3355843715076956,
          "series": "E",
          "time": 929
         },
         {
          "I": 3.6541658467125275,
          "series": "I",
          "time": 929
         },
         {
          "R": 2.2083490451338927,
          "series": "R",
          "time": 929
         },
         {
          "D": 461.7305509210604,
          "series": "D",
          "time": 929
         },
         {
          "H": 1.6969938718037239,
          "series": "H",
          "time": 929
         },
         {
          "S": 28.286779386038205,
          "series": "S",
          "time": 930
         },
         {
          "E": 3.325289195190839,
          "series": "E",
          "time": 930
         },
         {
          "I": 3.642887378686268,
          "series": "I",
          "time": 930
         },
         {
          "R": 2.201533045220049,
          "series": "R",
          "time": 930
         },
         {
          "D": 461.851754841305,
          "series": "D",
          "time": 930
         },
         {
          "H": 1.6917561535591854,
          "series": "H",
          "time": 930
         },
         {
          "S": 28.199473130587783,
          "series": "S",
          "time": 931
         },
         {
          "E": 3.3150257946120814,
          "series": "E",
          "time": 931
         },
         {
          "I": 3.6316437212970616,
          "series": "I",
          "time": 931
         },
         {
          "R": 2.1947380826756953,
          "series": "R",
          "time": 931
         },
         {
          "D": 461.9725846694596,
          "series": "D",
          "time": 931
         },
         {
          "H": 1.6865346013673739,
          "series": "H",
          "time": 931
         },
         {
          "S": 28.112436343150556,
          "series": "S",
          "time": 932
         },
         {
          "E": 3.3047940716966058,
          "series": "E",
          "time": 932
         },
         {
          "I": 3.62043476710297,
          "series": "I",
          "time": 932
         },
         {
          "R": 2.187964092569652,
          "series": "R",
          "time": 932
         },
         {
          "D": 462.0930415601475,
          "series": "D",
          "time": 932
         },
         {
          "H": 1.6813291653322757,
          "series": "H",
          "time": 932
         },
         {
          "S": 28.025668192021968,
          "series": "S",
          "time": 933
         },
         {
          "E": 3.2945939286723,
          "series": "E",
          "time": 933
         },
         {
          "I": 3.6092604089936726,
          "series": "I",
          "time": 933
         },
         {
          "R": 2.1812110101711477,
          "series": "R",
          "time": 933
         },
         {
          "D": 462.2131266644286,
          "series": "D",
          "time": 933
         },
         {
          "H": 1.67613979571188,
          "series": "H",
          "time": 933
         },
         {
          "S": 27.939167848064496,
          "series": "S",
          "time": 934
         },
         {
          "E": 3.2844252680688224,
          "series": "E",
          "time": 934
         },
         {
          "I": 3.598120540189442,
          "series": "I",
          "time": 934
         },
         {
          "R": 2.1744787709492,
          "series": "R",
          "time": 934
         },
         {
          "D": 462.33284112980994,
          "series": "D",
          "time": 934
         },
         {
          "H": 1.6709664429177027,
          "series": "H",
          "time": 934
         },
         {
          "S": 27.852934484699727,
          "series": "S",
          "time": 935
         },
         {
          "E": 3.2742879927166713,
          "series": "E",
          "time": 935
         },
         {
          "I": 3.587015054240121,
          "series": "I",
          "time": 935
         },
         {
          "R": 2.1677673105719997,
          "series": "R",
          "time": 935
         },
         {
          "D": 462.45218610025677,
          "series": "D",
          "time": 935
         },
         {
          "H": 1.6658090575143132,
          "series": "H",
          "time": 935
         },
         {
          "S": 27.766967277900452,
          "series": "S",
          "time": 936
         },
         {
          "E": 3.264182005746254,
          "series": "E",
          "time": 936
         },
         {
          "I": 3.5759438450241094,
          "series": "I",
          "time": 936
         },
         {
          "R": 2.1610765649062955,
          "series": "R",
          "time": 936
         },
         {
          "D": 462.5711627162036,
          "series": "D",
          "time": 936
         },
         {
          "H": 1.6606675902188617,
          "series": "H",
          "time": 936
         },
         {
          "S": 27.6812654061828,
          "series": "S",
          "time": 937
         },
         {
          "E": 3.254107210586964,
          "series": "E",
          "time": 937
         },
         {
          "I": 3.5649068067473473,
          "series": "I",
          "time": 937
         },
         {
          "R": 2.1544064700167813,
          "series": "R",
          "time": 937
         },
         {
          "D": 462.6897721145651,
          "series": "D",
          "time": 937
         },
         {
          "H": 1.6555419919006085,
          "series": "H",
          "time": 937
         },
         {
          "S": 27.595828050598374,
          "series": "S",
          "time": 938
         },
         {
          "E": 3.244063510966258,
          "series": "E",
          "time": 938
         },
         {
          "I": 3.5539038339423046,
          "series": "I",
          "time": 938
         },
         {
          "R": 2.1477569621654857,
          "series": "R",
          "time": 938
         },
         {
          "D": 462.80801542874667,
          "series": "D",
          "time": 938
         },
         {
          "H": 1.6504322135804539,
          "series": "H",
          "time": 938
         },
         {
          "S": 27.51065439472645,
          "series": "S",
          "time": 939
         },
         {
          "E": 3.234050810908732,
          "series": "E",
          "time": 939
         },
         {
          "I": 3.5429348214669734,
          "series": "I",
          "time": 939
         },
         {
          "R": 2.1411279778111627,
          "series": "R",
          "time": 939
         },
         {
          "D": 462.92589378865574,
          "series": "D",
          "time": 939
         },
         {
          "H": 1.6453382064304714,
          "series": "H",
          "time": 939
         },
         {
          "S": 27.425743624666154,
          "series": "S",
          "time": 940
         },
         {
          "E": 3.2240690147352096,
          "series": "E",
          "time": 940
         },
         {
          "I": 3.5319996645038634,
          "series": "I",
          "time": 940
         },
         {
          "R": 2.1345194536086836,
          "series": "R",
          "time": 940
         },
         {
          "D": 463.04340832071216,
          "series": "D",
          "time": 940
         },
         {
          "H": 1.6402599217734397,
          "series": "H",
          "time": 940
         },
         {
          "S": 27.341094929028692,
          "series": "S",
          "time": 941
         },
         {
          "E": 3.214118027061823,
          "series": "E",
          "time": 941
         },
         {
          "I": 3.521098258559001,
          "series": "I",
          "time": 941
         },
         {
          "R": 2.1279313264084325,
          "series": "R",
          "time": 941
         },
         {
          "D": 463.1605601478592,
          "series": "D",
          "time": 941
         },
         {
          "H": 1.635197311082379,
          "series": "H",
          "time": 941
         },
         {
          "S": 27.256707498929593,
          "series": "S",
          "time": 942
         },
         {
          "E": 3.204197752799107,
          "series": "E",
          "time": 942
         },
         {
          "I": 3.5102304994609286,
          "series": "I",
          "time": 942
         },
         {
          "R": 2.121363533255704,
          "series": "R",
          "time": 942
         },
         {
          "D": 463.2773503895741,
          "series": "D",
          "time": 942
         },
         {
          "H": 1.6301503259800854,
          "series": "H",
          "time": 942
         },
         {
          "S": 27.172580527980983,
          "series": "S",
          "time": 943
         },
         {
          "E": 3.1943080971510827,
          "series": "E",
          "time": 943
         },
         {
          "I": 3.4993962833597116,
          "series": "I",
          "time": 943
         },
         {
          "R": 2.114816011390099,
          "series": "R",
          "time": 943
         },
         {
          "D": 463.39378016187896,
          "series": "D",
          "time": 943
         },
         {
          "H": 1.6251189182386707,
          "series": "H",
          "time": 943
         },
         {
          "S": 27.088713212283885,
          "series": "S",
          "time": 944
         },
         {
          "E": 3.1844489656143598,
          "series": "E",
          "time": 944
         },
         {
          "I": 3.4885955067259444,
          "series": "I",
          "time": 944
         },
         {
          "R": 2.108288698244927,
          "series": "R",
          "time": 944
         },
         {
          "D": 463.5098505773513,
          "series": "D",
          "time": 944
         },
         {
          "H": 1.6201030397791,
          "series": "H",
          "time": 944
         },
         {
          "S": 27.005104750420525,
          "series": "S",
          "time": 945
         },
         {
          "E": 3.174620263977228,
          "series": "E",
          "time": 945
         },
         {
          "I": 3.477828066349762,
          "series": "I",
          "time": 945
         },
         {
          "R": 2.1017815314466084,
          "series": "R",
          "time": 945
         },
         {
          "D": 463.6255627451347,
          "series": "D",
          "time": 945
         },
         {
          "H": 1.6151026426707331,
          "series": "H",
          "time": 945
         },
         {
          "S": 26.921754343446683,
          "series": "S",
          "time": 946
         },
         {
          "E": 3.164821898318758,
          "series": "E",
          "time": 946
         },
         {
          "I": 3.4670938593398524,
          "series": "I",
          "time": 946
         },
         {
          "R": 2.0952944488140757,
          "series": "R",
          "time": 946
         },
         {
          "D": 463.7409177709493,
          "series": "D",
          "time": 946
         },
         {
          "H": 1.6101176791308665,
          "series": "H",
          "time": 946
         },
         {
          "S": 26.838661194884054,
          "series": "S",
          "time": 947
         },
         {
          "E": 3.1550537750079055,
          "series": "E",
          "time": 947
         },
         {
          "I": 3.4563927831224763,
          "series": "I",
          "time": 947
         },
         {
          "R": 2.0888273883581827,
          "series": "R",
          "time": 947
         },
         {
          "D": 463.85591675710265,
          "series": "D",
          "time": 947
         },
         {
          "H": 1.6051481015242755,
          "series": "H",
          "time": 947
         },
         {
          "S": 26.755824510712635,
          "series": "S",
          "time": 948
         },
         {
          "E": 3.1453158007026154,
          "series": "E",
          "time": 948
         },
         {
          "I": 3.445724735440483,
          "series": "I",
          "time": 948
         },
         {
          "R": 2.0823802882811115,
          "series": "R",
          "time": 948
         },
         {
          "D": 463.97056080249996,
          "series": "D",
          "time": 948
         },
         {
          "H": 1.6001938623627607,
          "series": "H",
          "time": 948
         },
         {
          "S": 26.673243499363146,
          "series": "S",
          "time": 949
         },
         {
          "E": 3.1356078823489293,
          "series": "E",
          "time": 949
         },
         {
          "I": 3.435089614352337,
          "series": "I",
          "time": 949
         },
         {
          "R": 2.075953086975779,
          "series": "R",
          "time": 949
         },
         {
          "D": 464.08485100265466,
          "series": "D",
          "time": 949
         },
         {
          "H": 1.5952549143046941,
          "series": "H",
          "time": 949
         },
         {
          "S": 26.59091737170946,
          "series": "S",
          "time": 950
         },
         {
          "E": 3.1259299271800978,
          "series": "E",
          "time": 950
         },
         {
          "I": 3.4244873182311406,
          "series": "I",
          "time": 950
         },
         {
          "R": 2.0695457230252527,
          "series": "R",
          "time": 950
         },
         {
          "D": 464.198788449699,
          "series": "D",
          "time": 950
         },
         {
          "H": 1.590331210154565,
          "series": "H",
          "time": 950
         },
         {
          "S": 26.508845341061058,
          "series": "S",
          "time": 951
         },
         {
          "E": 3.116281842715692,
          "series": "E",
          "time": 951
         },
         {
          "I": 3.4139177457636656,
          "series": "I",
          "time": 951
         },
         {
          "R": 2.06315813520216,
          "series": "R",
          "time": 951
         },
         {
          "D": 464.3123742323944,
          "series": "D",
          "time": 951
         },
         {
          "H": 1.5854227028625307,
          "series": "H",
          "time": 951
         },
         {
          "S": 26.427026623155523,
          "series": "S",
          "time": 952
         },
         {
          "E": 3.1066635367607227,
          "series": "E",
          "time": 952
         },
         {
          "I": 3.403380795949383,
          "series": "I",
          "time": 952
         },
         {
          "R": 2.0567902624681054,
          "series": "R",
          "time": 952
         },
         {
          "D": 464.4256094361418,
          "series": "D",
          "time": 952
         },
         {
          "H": 1.5805293455239668,
          "series": "H",
          "time": 952
         },
         {
          "S": 26.345460436151036,
          "series": "S",
          "time": 953
         },
         {
          "E": 3.097074917404756,
          "series": "E",
          "time": 953
         },
         {
          "I": 3.3928763680994996,
          "series": "I",
          "time": 953
         },
         {
          "R": 2.0504420439730864,
          "series": "R",
          "time": 953
         },
         {
          "D": 464.53849514299213,
          "series": "D",
          "time": 953
         },
         {
          "H": 1.5756510913790178,
          "series": "H",
          "time": 953
         },
         {
          "S": 26.264146000618908,
          "series": "S",
          "time": 954
         },
         {
          "E": 3.0875158930210365,
          "series": "E",
          "time": 954
         },
         {
          "I": 3.382404361835994,
          "series": "I",
          "time": 954
         },
         {
          "R": 2.0441134190549115,
          "series": "R",
          "time": 954
         },
         {
          "D": 464.6510324316565,
          "series": "D",
          "time": 954
         },
         {
          "H": 1.5707878938121513,
          "series": "H",
          "time": 954
         },
         {
          "S": 26.183082539536134,
          "series": "S",
          "time": 955
         },
         {
          "E": 3.077986372265613,
          "series": "E",
          "time": 955
         },
         {
          "I": 3.3719646770906593,
          "series": "I",
          "time": 955
         },
         {
          "R": 2.0378043272386224,
          "series": "R",
          "time": 955
         },
         {
          "D": 464.7632223775168,
          "series": "D",
          "time": 955
         },
         {
          "H": 1.5659397063517124,
          "series": "H",
          "time": 955
         },
         {
          "S": 26.102269278277962,
          "series": "S",
          "time": 956
         },
         {
          "E": 3.068486264076465,
          "series": "E",
          "time": 956
         },
         {
          "I": 3.3615572141041454,
          "series": "I",
          "time": 956
         },
         {
          "R": 2.031514708235913,
          "series": "R",
          "time": 956
         },
         {
          "D": 464.8750660526356,
          "series": "D",
          "time": 956
         },
         {
          "H": 1.5611064826694796,
          "series": "H",
          "time": 956
         },
         {
          "S": 26.0217054446105,
          "series": "S",
          "time": 957
         },
         {
          "E": 3.0590154776726304,
          "series": "E",
          "time": 957
         },
         {
          "I": 3.3511818734250074,
          "series": "I",
          "time": 957
         },
         {
          "R": 2.025244501944557,
          "series": "R",
          "time": 957
         },
         {
          "D": 464.98656452576665,
          "series": "D",
          "time": 957
         },
         {
          "H": 1.5562881765802214,
          "series": "H",
          "time": 957
         },
         {
          "S": 25.941390268683328,
          "series": "S",
          "time": 958
         },
         {
          "E": 3.0495739225533405,
          "series": "E",
          "time": 958
         },
         {
          "I": 3.340838555908752,
          "series": "I",
          "time": 958
         },
         {
          "R": 2.0189936484478315,
          "series": "R",
          "time": 958
         },
         {
          "D": 465.09771886236507,
          "series": "D",
          "time": 958
         },
         {
          "H": 1.5514847420412563,
          "series": "H",
          "time": 958
         },
         {
          "S": 25.86132298302215,
          "series": "S",
          "time": 959
         },
         {
          "E": 3.0401615084971545,
          "series": "E",
          "time": 959
         },
         {
          "I": 3.330527162716894,
          "series": "I",
          "time": 959
         },
         {
          "R": 2.012762088013943,
          "series": "R",
          "time": 959
         },
         {
          "D": 465.2085301245974,
          "series": "D",
          "time": 959
         },
         {
          "H": 1.5466961331520117,
          "series": "H",
          "time": 959
         },
         {
          "S": 25.781502822521446,
          "series": "S",
          "time": 960
         },
         {
          "E": 3.030778145561097,
          "series": "E",
          "time": 960
         },
         {
          "I": 3.32024759531601,
          "series": "I",
          "time": 960
         },
         {
          "R": 2.0065497610954606,
          "series": "R",
          "time": 960
         },
         {
          "D": 465.318999371352,
          "series": "D",
          "time": 960
         },
         {
          "H": 1.5419223041535859,
          "series": "H",
          "time": 960
         },
         {
          "S": 25.70192902443718,
          "series": "S",
          "time": 961
         },
         {
          "E": 3.021423744079799,
          "series": "E",
          "time": 961
         },
         {
          "I": 3.309999755476796,
          "series": "I",
          "time": 961
         },
         {
          "R": 2.000356608328743,
          "series": "R",
          "time": 961
         },
         {
          "D": 465.4291276582488,
          "series": "D",
          "time": 961
         },
         {
          "H": 1.53716320942831,
          "series": "H",
          "time": 961
         },
         {
          "S": 25.622600828379497,
          "series": "S",
          "time": 962
         },
         {
          "E": 3.012098214664641,
          "series": "E",
          "time": 962
         },
         {
          "I": 3.299783545273131,
          "series": "I",
          "time": 962
         },
         {
          "R": 1.9941825705333731,
          "series": "R",
          "time": 962
         },
         {
          "D": 465.53891603764964,
          "series": "D",
          "time": 962
         },
         {
          "H": 1.5324188034993138,
          "series": "H",
          "time": 962
         },
         {
          "S": 25.54351747630546,
          "series": "S",
          "time": 963
         },
         {
          "E": 3.0028014682028976,
          "series": "E",
          "time": 963
         },
         {
          "I": 3.2895988670811374,
          "series": "I",
          "time": 963
         },
         {
          "R": 1.9880275887115935,
          "series": "R",
          "time": 963
         },
         {
          "D": 465.64836555866844,
          "series": "D",
          "time": 963
         },
         {
          "H": 1.5276890410300885,
          "series": "H",
          "time": 963
         },
         {
          "S": 25.464678212511814,
          "series": "S",
          "time": 964
         },
         {
          "E": 2.9935334158568883,
          "series": "E",
          "time": 964
         },
         {
          "I": 3.2794456235782534,
          "series": "I",
          "time": 964
         },
         {
          "R": 1.9818916040477401,
          "series": "R",
          "time": 964
         },
         {
          "D": 465.7574772671809,
          "series": "D",
          "time": 964
         },
         {
          "H": 1.5229738768240564,
          "series": "H",
          "time": 964
         },
         {
          "S": 25.386082283627747,
          "series": "S",
          "time": 965
         },
         {
          "E": 2.9842939690631267,
          "series": "E",
          "time": 965
         },
         {
          "I": 3.2693237177422994,
          "series": "I",
          "time": 965
         },
         {
          "R": 1.9757745579076822,
          "series": "R",
          "time": 965
         },
         {
          "D": 465.86625220583466,
          "series": "D",
          "time": 965
         },
         {
          "H": 1.5182732658241365,
          "series": "H",
          "time": 965
         },
         {
          "S": 25.307728938607717,
          "series": "S",
          "time": 966
         },
         {
          "E": 2.975083039531475,
          "series": "E",
          "time": 966
         },
         {
          "I": 3.259233052850551,
          "series": "I",
          "time": 966
         },
         {
          "R": 1.9696763918382614,
          "series": "R",
          "time": 966
         },
         {
          "D": 465.97469141405935,
          "series": "D",
          "time": 966
         },
         {
          "H": 1.513587163112316,
          "series": "H",
          "time": 966
         },
         {
          "S": 25.229617428724247,
          "series": "S",
          "time": 967
         },
         {
          "E": 2.9659005392443007,
          "series": "E",
          "time": 967
         },
         {
          "I": 3.2491735324788165,
          "series": "I",
          "time": 967
         },
         {
          "R": 1.9635970475667333,
          "series": "R",
          "time": 967
         },
         {
          "D": 466.08279592807634,
          "series": "D",
          "time": 967
         },
         {
          "H": 1.5089155239092193,
          "series": "H",
          "time": 967
         },
         {
          "S": 25.15174700756079,
          "series": "S",
          "time": 968
         },
         {
          "E": 2.956746380455633,
          "series": "E",
          "time": 968
         },
         {
          "I": 3.239145060500513,
          "series": "I",
          "time": 968
         },
         {
          "R": 1.95753646700021,
          "series": "R",
          "time": 968
         },
         {
          "D": 466.19056678090885,
          "series": "D",
          "time": 968
         },
         {
          "H": 1.5042583035736818,
          "series": "H",
          "time": 968
         },
         {
          "S": 25.074116931004593,
          "series": "S",
          "time": 969
         },
         {
          "E": 2.9476204756903286,
          "series": "E",
          "time": 969
         },
         {
          "I": 3.2291475410857506,
          "series": "I",
          "time": 969
         },
         {
          "R": 1.9514945922251064,
          "series": "R",
          "time": 969
         },
         {
          "D": 466.29800500239156,
          "series": "D",
          "time": 969
         },
         {
          "H": 1.4996154576023217,
          "series": "H",
          "time": 969
         },
         {
          "S": 24.996726457239575,
          "series": "S",
          "time": 970
         },
         {
          "E": 2.938522737743232,
          "series": "E",
          "time": 970
         },
         {
          "I": 3.2191808787004144,
          "series": "I",
          "time": 970
         },
         {
          "R": 1.9454713655065845,
          "series": "R",
          "time": 970
         },
         {
          "D": 466.40511161918073,
          "series": "D",
          "time": 970
         },
         {
          "H": 1.494986941629116,
          "series": "H",
          "time": 970
         },
         {
          "S": 24.91957484673926,
          "series": "S",
          "time": 971
         },
         {
          "E": 2.9294530796783445,
          "series": "E",
          "time": 971
         },
         {
          "I": 3.209244978105253,
          "series": "I",
          "time": 971
         },
         {
          "R": 1.9394667292880041,
          "series": "R",
          "time": 971
         },
         {
          "D": 466.5118876547638,
          "series": "D",
          "time": 971
         },
         {
          "H": 1.4903727114249756,
          "series": "H",
          "time": 971
         },
         {
          "S": 24.842661362259683,
          "series": "S",
          "time": 972
         },
         {
          "E": 2.920411414827992,
          "series": "E",
          "time": 972
         },
         {
          "I": 3.199339744354969,
          "series": "I",
          "time": 972
         },
         {
          "R": 1.9334806261903716,
          "series": "R",
          "time": 972
         },
         {
          "D": 466.6183341294693,
          "series": "D",
          "time": 972
         },
         {
          "H": 1.4857727228973234,
          "series": "H",
          "time": 972
         },
         {
          "S": 24.765985268832367,
          "series": "S",
          "time": 973
         },
         {
          "E": 2.9113976567919977,
          "series": "E",
          "time": 973
         },
         {
          "I": 3.1894650827973083,
          "series": "I",
          "time": 973
         },
         {
          "R": 1.9275129990117918,
          "series": "R",
          "time": 973
         },
         {
          "D": 466.7244520604765,
          "series": "D",
          "time": 973
         },
         {
          "H": 1.4811869320896727,
          "series": "H",
          "time": 973
         },
         {
          "S": 24.689545833757293,
          "series": "S",
          "time": 974
         },
         {
          "E": 2.9024117194368566,
          "series": "E",
          "time": 974
         },
         {
          "I": 3.17962089907216,
          "series": "I",
          "time": 974
         },
         {
          "R": 1.9215637907269212,
          "series": "R",
          "time": 974
         },
         {
          "D": 466.8302424618252,
          "series": "D",
          "time": 974
         },
         {
          "H": 1.4766152951812068,
          "series": "H",
          "time": 974
         },
         {
          "S": 24.613342326595895,
          "series": "S",
          "time": 975
         },
         {
          "E": 2.893453516894912,
          "series": "E",
          "time": 975
         },
         {
          "I": 3.169807099110652,
          "series": "I",
          "time": 975
         },
         {
          "R": 1.9156329444864233,
          "series": "R",
          "time": 975
         },
         {
          "D": 466.9357063444254,
          "series": "D",
          "time": 975
         },
         {
          "H": 1.4720577684863607,
          "series": "H",
          "time": 975
         },
         {
          "S": 24.537374019164083,
          "series": "S",
          "time": 976
         },
         {
          "E": 2.8845229635635334,
          "series": "E",
          "time": 976
         },
         {
          "I": 3.1600235891342527,
          "series": "I",
          "time": 976
         },
         {
          "R": 1.9097204036164253,
          "series": "R",
          "time": 976
         },
         {
          "D": 467.04084471606694,
          "series": "D",
          "time": 976
         },
         {
          "H": 1.467514308454404,
          "series": "H",
          "time": 976
         },
         {
          "S": 24.461640185525283,
          "series": "S",
          "time": 977
         },
         {
          "E": 2.875619974104303,
          "series": "E",
          "time": 977
         },
         {
          "I": 3.1502702756538756,
          "series": "I",
          "time": 977
         },
         {
          "R": 1.9038261116179762,
          "series": "R",
          "time": 977
         },
         {
          "D": 467.1456585814292,
          "series": "D",
          "time": 977
         },
         {
          "H": 1.4629848716690235,
          "series": "H",
          "time": 977
         },
         {
          "S": 24.386140101983504,
          "series": "S",
          "time": 978
         },
         {
          "E": 2.8667444634421946,
          "series": "E",
          "time": 978
         },
         {
          "I": 3.140547065468984,
          "series": "I",
          "time": 978
         },
         {
          "R": 1.897950012166508,
          "series": "R",
          "time": 978
         },
         {
          "D": 467.25014894209056,
          "series": "D",
          "time": 978
         },
         {
          "H": 1.4584694148479094,
          "series": "H",
          "time": 978
         },
         {
          "S": 24.31087304707642,
          "series": "S",
          "time": 979
         },
         {
          "E": 2.8578963467647656,
          "series": "E",
          "time": 979
         },
         {
          "I": 3.1308538656667033,
          "series": "I",
          "time": 979
         },
         {
          "R": 1.8920920491112965,
          "series": "R",
          "time": 979
         },
         {
          "D": 467.3543167965381,
          "series": "D",
          "time": 979
         },
         {
          "H": 1.4539678948423413,
          "series": "H",
          "time": 979
         },
         {
          "S": 24.235838301568474,
          "series": "S",
          "time": 980
         },
         {
          "E": 2.8490755395213427,
          "series": "E",
          "time": 980
         },
         {
          "I": 3.121190583620931,
          "series": "I",
          "time": 980
         },
         {
          "R": 1.886252166474924,
          "series": "R",
          "time": 980
         },
         {
          "D": 467.4581631401772,
          "series": "D",
          "time": 980
         },
         {
          "H": 1.4494802686367765,
          "series": "H",
          "time": 980
         },
         {
          "S": 24.161035148444007,
          "series": "S",
          "time": 981
         },
         {
          "E": 2.8402819574222167,
          "series": "E",
          "time": 981
         },
         {
          "I": 3.1115571269914515,
          "series": "I",
          "time": 981
         },
         {
          "R": 1.8804303084527465,
          "series": "R",
          "time": 981
         },
         {
          "D": 467.5616889653408,
          "series": "D",
          "time": 981
         },
         {
          "H": 1.445006493348438,
          "series": "H",
          "time": 981
         },
         {
          "S": 24.08646287290041,
          "series": "S",
          "time": 982
         },
         {
          "E": 2.831515516437835,
          "series": "E",
          "time": 982
         },
         {
          "I": 3.101953403723055,
          "series": "I",
          "time": 982
         },
         {
          "R": 1.874626419412359,
          "series": "R",
          "time": 982
         },
         {
          "D": 467.6648952612991,
          "series": "D",
          "time": 982
         },
         {
          "H": 1.4405465262269046,
          "series": "H",
          "time": 982
         },
         {
          "S": 24.012120762341283,
          "series": "S",
          "time": 983
         },
         {
          "E": 2.8227761327980008,
          "series": "E",
          "time": 983
         },
         {
          "I": 3.092379322044657,
          "series": "I",
          "time": 983
         },
         {
          "R": 1.868840443893064,
          "series": "R",
          "time": 983
         },
         {
          "D": 467.76778301426896,
          "series": "D",
          "time": 983
         },
         {
          "H": 1.4361003246537039,
          "series": "H",
          "time": 983
         },
         {
          "S": 23.938008106369637,
          "series": "S",
          "time": 984
         },
         {
          "E": 2.8140637229910697,
          "series": "E",
          "time": 984
         },
         {
          "I": 3.0828347904684223,
          "series": "I",
          "time": 984
         },
         {
          "R": 1.863072326605341,
          "series": "R",
          "time": 984
         },
         {
          "D": 467.8703532074233,
          "series": "D",
          "time": 984
         },
         {
          "H": 1.431667846141904,
          "series": "H",
          "time": 984
         },
         {
          "S": 23.8641241967811,
          "series": "S",
          "time": 985
         },
         {
          "E": 2.8053782037631554,
          "series": "E",
          "time": 985
         },
         {
          "I": 3.073319717788889,
          "series": "I",
          "time": 985
         },
         {
          "R": 1.8573220124303205,
          "series": "R",
          "time": 985
         },
         {
          "D": 467.9726068209005,
          "series": "D",
          "time": 985
         },
         {
          "H": 1.4272490483357063,
          "series": "H",
          "time": 985
         },
         {
          "S": 23.79046832755715,
          "series": "S",
          "time": 986
         },
         {
          "E": 2.7967194921173295,
          "series": "E",
          "time": 986
         },
         {
          "I": 3.063834013082099,
          "series": "I",
          "time": 986
         },
         {
          "R": 1.8515894464192542,
          "series": "R",
          "time": 986
         },
         {
          "D": 468.0745448318138,
          "series": "D",
          "time": 986
         },
         {
          "H": 1.4228438890100437,
          "series": "H",
          "time": 986
         },
         {
          "S": 23.717039794858373,
          "series": "S",
          "time": 987
         },
         {
          "E": 2.788087505312834,
          "series": "E",
          "time": 987
         },
         {
          "I": 3.054377585704726,
          "series": "I",
          "time": 987
         },
         {
          "R": 1.8458745737929922,
          "series": "R",
          "time": 987
         },
         {
          "D": 468.1761682142606,
          "series": "D",
          "time": 987
         },
         {
          "H": 1.4184523260701745,
          "series": "H",
          "time": 987
         },
         {
          "S": 23.643837897017725,
          "series": "S",
          "time": 988
         },
         {
          "E": 2.7794821608642852,
          "series": "E",
          "time": 988
         },
         {
          "I": 3.0449503452932145,
          "series": "I",
          "time": 988
         },
         {
          "R": 1.8401773399414585,
          "series": "R",
          "time": 988
         },
         {
          "D": 468.27747793933173,
          "series": "D",
          "time": 988
         },
         {
          "H": 1.4140743175512813,
          "series": "H",
          "time": 988
         },
         {
          "S": 23.570861934533845,
          "series": "S",
          "time": 989
         },
         {
          "E": 2.7709033765408893,
          "series": "E",
          "time": 989
         },
         {
          "I": 3.0355522017629113,
          "series": "I",
          "time": 989
         },
         {
          "R": 1.8344976904231292,
          "series": "R",
          "time": 989
         },
         {
          "D": 468.37847497512087,
          "series": "D",
          "time": 989
         },
         {
          "H": 1.4097098216180701,
          "series": "H",
          "time": 989
         },
         {
          "S": 23.49811121006435,
          "series": "S",
          "time": 990
         },
         {
          "E": 2.7623510703656553,
          "series": "E",
          "time": 990
         },
         {
          "I": 3.026183065307207,
          "series": "I",
          "time": 990
         },
         {
          "R": 1.8288355709645123,
          "series": "R",
          "time": 990
         },
         {
          "D": 468.4791602867336,
          "series": "D",
          "time": 990
         },
         {
          "H": 1.4053587965643697,
          "series": "H",
          "time": 990
         },
         {
          "S": 23.425585028419196,
          "series": "S",
          "time": 991
         },
         {
          "E": 2.75382516061461,
          "series": "E",
          "time": 991
         },
         {
          "I": 3.0168428463966777,
          "series": "I",
          "time": 991
         },
         {
          "R": 1.82319092745963,
          "series": "R",
          "time": 991
         },
         {
          "D": 468.57953483629683,
          "series": "D",
          "time": 991
         },
         {
          "H": 1.4010212008127336,
          "series": "H",
          "time": 991
         },
         {
          "S": 23.353282696554007,
          "series": "S",
          "time": 992
         },
         {
          "E": 2.745325565816021,
          "series": "E",
          "time": 992
         },
         {
          "I": 3.007531455778229,
          "series": "I",
          "time": 992
         },
         {
          "R": 1.8175637059695002,
          "series": "R",
          "time": 992
         },
         {
          "D": 468.67959958296785,
          "series": "D",
          "time": 992
         },
         {
          "H": 1.3966969929140436,
          "series": "H",
          "time": 992
         },
         {
          "S": 23.281203523563477,
          "series": "S",
          "time": 993
         },
         {
          "E": 2.736852204749614,
          "series": "E",
          "time": 993
         },
         {
          "I": 2.998248804474244,
          "series": "I",
          "time": 993
         },
         {
          "R": 1.811953852721622,
          "series": "R",
          "time": 993
         },
         {
          "D": 468.7793554829436,
          "series": "D",
          "time": 993
         },
         {
          "H": 1.3923861315471122,
          "series": "H",
          "time": 993
         },
         {
          "S": 23.209346820674753,
          "series": "S",
          "time": 994
         },
         {
          "E": 2.728404996445799,
          "series": "E",
          "time": 994
         },
         {
          "I": 2.9889948037817318,
          "series": "I",
          "time": 994
         },
         {
          "R": 1.8063613141094612,
          "series": "R",
          "time": 994
         },
         {
          "D": 468.8788034894696,
          "series": "D",
          "time": 994
         },
         {
          "H": 1.3880885755182886,
          "series": "H",
          "time": 994
         },
         {
          "S": 23.13771190124086,
          "series": "S",
          "time": 995
         },
         {
          "E": 2.719983860184897,
          "series": "E",
          "time": 995
         },
         {
          "I": 2.9797693652714803,
          "series": "I",
          "time": 995
         },
         {
          "R": 1.8007860366919395,
          "series": "R",
          "time": 995
         },
         {
          "D": 468.9779445528494,
          "series": "D",
          "time": 995
         },
         {
          "H": 1.383804283761065,
          "series": "H",
          "time": 995
         },
         {
          "S": 23.066298080734132,
          "series": "S",
          "time": 996
         },
         {
          "E": 2.7115887154963674,
          "series": "E",
          "time": 996
         },
         {
          "I": 2.9705724007872116,
          "series": "I",
          "time": 996
         },
         {
          "R": 1.795227967192922,
          "series": "R",
          "time": 996
         },
         {
          "D": 469.07677962045335,
          "series": "D",
          "time": 996
         },
         {
          "H": 1.3795332153356836,
          "series": "H",
          "time": 996
         },
         {
          "S": 22.995104676739683,
          "series": "S",
          "time": 997
         },
         {
          "E": 2.7032194821580378,
          "series": "E",
          "time": 997
         },
         {
          "I": 2.9614038224447405,
          "series": "I",
          "time": 997
         },
         {
          "R": 1.7896870525007091,
          "series": "R",
          "time": 997
         },
         {
          "D": 469.1753096367278,
          "series": "D",
          "time": 997
         },
         {
          "H": 1.375275329428747,
          "series": "H",
          "time": 997
         },
         {
          "S": 22.924131008948873,
          "series": "S",
          "time": 998
         },
         {
          "E": 2.694876080195341,
          "series": "E",
          "time": 998
         },
         {
          "I": 2.952263542631132,
          "series": "I",
          "time": 998
         },
         {
          "R": 1.7841632396675289,
          "series": "R",
          "time": 998
         },
         {
          "D": 469.273535543204,
          "series": "D",
          "time": 998
         },
         {
          "H": 1.3710305853528262,
          "series": "H",
          "time": 998
         },
         {
          "S": 22.85337639915282,
          "series": "S",
          "time": 999
         },
         {
          "E": 2.686558429880548,
          "series": "E",
          "time": 999
         },
         {
          "I": 2.943151474003866,
          "series": "I",
          "time": 999
         },
         {
          "R": 1.778656475909031,
          "series": "R",
          "time": 999
         },
         {
          "D": 469.37145827850736,
          "series": "D",
          "time": 999
         },
         {
          "H": 1.3667989425460727,
          "series": "H",
          "time": 999
         },
         {
          "S": 22.782840171235904,
          "series": "S",
          "time": 1000
         },
         {
          "E": 2.678266451732007,
          "series": "E",
          "time": 1000
         },
         {
          "I": 2.9340675294900023,
          "series": "I",
          "time": 1000
         },
         {
          "R": 1.7731667086037823,
          "series": "R",
          "time": 1000
         },
         {
          "D": 469.46907877836617,
          "series": "D",
          "time": 1000
         },
         {
          "H": 1.3625803605718312,
          "series": "H",
          "time": 1000
         }
        ]
       },
       "description": "",
       "height": 600,
       "layer": [
        {
         "encoding": {
          "color": {
           "field": "series",
           "type": "nominal"
          },
          "x": {
           "field": "time",
           "type": "quantitative"
          },
          "y": {
           "field": "S",
           "type": "quantitative"
          }
         },
         "mark": "line"
        },
        {
         "encoding": {
          "color": {
           "field": "series",
           "type": "nominal"
          },
          "x": {
           "field": "time",
           "type": "quantitative"
          },
          "y": {
           "field": "E",
           "type": "quantitative"
          }
         },
         "mark": "line"
        },
        {
         "encoding": {
          "color": {
           "field": "series",
           "type": "nominal"
          },
          "x": {
           "field": "time",
           "type": "quantitative"
          },
          "y": {
           "field": "I",
           "type": "quantitative"
          }
         },
         "mark": "line"
        },
        {
         "encoding": {
          "color": {
           "field": "series",
           "type": "nominal"
          },
          "x": {
           "field": "time",
           "type": "quantitative"
          },
          "y": {
           "field": "R",
           "type": "quantitative"
          }
         },
         "mark": "line"
        },
        {
         "encoding": {
          "color": {
           "field": "series",
           "type": "nominal"
          },
          "x": {
           "field": "time",
           "type": "quantitative"
          },
          "y": {
           "field": "D",
           "type": "quantitative"
          }
         },
         "mark": "line"
        },
        {
         "encoding": {
          "color": {
           "field": "series",
           "type": "nominal"
          },
          "x": {
           "field": "time",
           "type": "quantitative"
          },
          "y": {
           "field": "H",
           "type": "quantitative"
          }
         },
         "mark": "line"
        }
       ],
       "width": 800
      },
      "image/png": "[encoded data removed]"
     },
     "metadata": {},
     "output_type": "display_data"
    }
   ],
   "source": [
    "points = simulate(seirdh at [0..1000 by 1])\n",
    "\n",
    "S = series(value(points.Susceptible), \"S\", {{ style = \"lines\" }})\n",
    "E = series(value(points.Exposed), \"E\", {{ style = \"lines\" }})\n",
    "I = series(value(points.Infected), \"I\", {{ style = \"lines\" }})\n",
    "R = series(value(points.Recovered), \"R\", {{ style = \"lines\" }})\n",
    "D = series(value(points.Dead), \"D\", {{ style = \"lines\" }})\n",
    "H = series(value(points.Hospitalized), \"H\", {{ style = \"lines\" }})\n",
    "\n",
    "plot(\"\", [S, E, I, R, D, H], time(points), \"time\")"
   ]
  },
  {
   "cell_type": "code",
   "execution_count": null,
   "id": "ab2ebdd6-589e-44bc-b4e8-59cf4c29a961",
   "metadata": {},
   "outputs": [],
   "source": []
  }
 ],
 "metadata": {
  "kernelspec": {
   "display_name": "ASKE-E",
   "language": "",
   "name": "askee_kernel"
  },
  "language_info": {
   "file_extension": ".txt",
   "mimetype": "text/plain",
   "name": "Any text"
  }
 },
 "nbformat": 4,
 "nbformat_minor": 5
}
